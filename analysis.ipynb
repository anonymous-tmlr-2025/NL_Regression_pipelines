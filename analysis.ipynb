{
 "cells": [
  {
   "cell_type": "markdown",
   "metadata": {},
   "source": [
    "# Goal\n",
    "Investigate if there is anything interesting in the interaction of pipeline steps and/or individual pipeline components and the rmse.\n",
    "\n",
    "Obviously very adhoc but such is the nature of exploratory research"
   ]
  },
  {
   "cell_type": "code",
   "execution_count": 420,
   "metadata": {},
   "outputs": [],
   "source": [
    "import pandas as pd\n",
    "from pathlib import Path\n",
    "import plotly.express as px\n",
    "import plotly.graph_objects as go\n",
    "from collections import defaultdict\n",
    "from plotly.subplots import make_subplots\n",
    "from scipy import stats\n",
    "from scipy.stats import friedmanchisquare\n",
    "import numpy as np\n",
    "from itertools import chain\n",
    "\n",
    "import json\n",
    "\n",
    "from constants import SEED\n",
    "from datasets import load_dataset\n",
    "\n",
    "def get_all_results_paths(root_dir: Path):\n",
    "    return list(root_dir.glob(\"**/*results.json\"))\n",
    "\n",
    "def single_layer_unnest(node: dict, keys: list[str]):\n",
    "    \"\"\"\n",
    "    Unnest a single layer of a nested dictionary\n",
    "    \"\"\"\n",
    "    to_merge_later = {}\n",
    "    to_delete_later = []\n",
    "    for top_key, top_item in node.items():\n",
    "        if isinstance(top_item, dict):\n",
    "            for child_key, child_item in top_item.items():\n",
    "                if child_key in keys:\n",
    "                    to_merge_later[f\"{top_key}_{child_key}\"] = child_item\n",
    "                    to_delete_later.append((top_key, child_key))\n",
    "    for top_key, child_key in to_delete_later:\n",
    "        del node[top_key][child_key]\n",
    "    for new_key, new_item in to_merge_later.items():\n",
    "        node[new_key] = new_item\n",
    "    return node\n",
    "\n",
    "def get_all_results(root_dir: Path, response_is_normalised: bool = False, log_response: bool = False):\n",
    "    results = []\n",
    "    for path in get_all_results_paths(root_dir):\n",
    "        result = json.load(open(path))\n",
    "        ## Handle nested metrics\n",
    "        result = single_layer_unnest(result, [\"train\", \"val\", \"test\"])\n",
    "        to_delete = []\n",
    "        for key, val in result.items():\n",
    "            if not val:\n",
    "                to_delete.append(key)\n",
    "        for key in to_delete:\n",
    "            del result[key]\n",
    "        ## Map model names\n",
    "        result[\"model\"] = result[\"model\"].replace(\"relu_mlp\", \"mlp\")\n",
    "        result[\"model\"] = result[\"model\"].replace(\"no_activation_mlp\", \"deep_linear\")\n",
    "        ## Handle finetune\n",
    "        if \"finetune\" not in result:\n",
    "            result[\"finetune\"] = False\n",
    "        ## Handle empty preprocessers\n",
    "        if \"preprocessers\" not in result:\n",
    "            result[\"preprocessers\"] = [\"empty\"]\n",
    "        ## Handle missing seed\n",
    "        if \"seed\" not in result:\n",
    "            seed_part = [x for x in path.parts if \"seed\" in x][0]\n",
    "            result[\"seed\"] = int(seed_part.split(\"_\")[-1])\n",
    "        ## Order preprocessers\n",
    "        result[\"preprocessers\"] = sorted(result[\"preprocessers\"])\n",
    "\n",
    "        nice_table_map = {\n",
    "            \"empty\": \"empty\",\n",
    "            \"lemmatize\": \"Le\",\n",
    "            \"lowercase\": \"Lo\",\n",
    "            \"no_numbers_simple\": \"NN\",\n",
    "            \"no_numbers_spacy\": \"NNSC\",\n",
    "            \"no_punctuation\": \"NP\",\n",
    "            \"no_stopwords_nltk\": \"NSN\",\n",
    "            \"no_stopwords_spacy\": \"NSCC\",\n",
    "            \"stem\": \"S\",\n",
    "        }\n",
    "        cleaned_processers = [nice_table_map.get(x, x) for x in result[\"preprocessers\"]]\n",
    "        result[\"preprocesser(s)\"] = \",\".join(sorted(cleaned_processers))\n",
    "\n",
    "        if response_is_normalised:\n",
    "            normaliser_path = path.parent / \"normalisation_params.json\"\n",
    "            with open(normaliser_path, \"r\") as f:\n",
    "                normaliser_constants = json.load(f)\n",
    "            std = normaliser_constants[\"std\"]\n",
    "            for col in result.keys():\n",
    "                if \"rmse\" in col:\n",
    "                    result[col] = result[col] * std\n",
    "        if log_response:\n",
    "            for col in result.keys():\n",
    "                if \"rmse\" in col:\n",
    "                    result[col] = np.log(result[col])\n",
    "        results.append(result)\n",
    "    return results\n",
    "\n",
    "\n",
    "def permutation_test(x, y, n_permutations=100000, one_sided: bool = False):\n",
    "    \"\"\"\n",
    "    Perform permutation test for difference in means\n",
    "    H0: mean(x) = mean(y)\n",
    "    H1: mean(x) != mean(y) \n",
    "\n",
    "    If one_sided is True, then we test if mean(x) > mean(y)\n",
    "\n",
    "    Return p-value and observed difference\n",
    "    \"\"\"\n",
    "    observed_diff = np.mean(x) - np.mean(y)\n",
    "    \n",
    "    # Combine samples\n",
    "    combined = np.concatenate([x, y])\n",
    "    n_x = len(x)\n",
    "    \n",
    "    # Generate permutations\n",
    "    diffs = np.zeros(n_permutations)\n",
    "    for i in range(n_permutations):\n",
    "        np.random.shuffle(combined)\n",
    "        perm_x = combined[:n_x]\n",
    "        perm_y = combined[n_x:]\n",
    "        diffs[i] = np.mean(perm_x) - np.mean(perm_y)\n",
    "    \n",
    "    # Calculate one-sided p-value\n",
    "    if one_sided:\n",
    "        delta = diffs >= observed_diff\n",
    "    else:\n",
    "        delta = np.abs(diffs) >= np.abs(observed_diff)\n",
    "    delta = np.concatenate([delta, [True]]) # Effectively do (C+1/N+1) as in https://arxiv.org/pdf/1603.05766\n",
    "    p_value = np.mean(delta)\n",
    "    \n",
    "    return p_value, observed_diff\n",
    "\n",
    "def process_latex_table(latex_table: str):\n",
    "    latex_table = latex_table.replace(\"_\", \"-\")\n",
    "    latex_table = latex_table.replace(\"%\", \"\\%\")\n",
    "    latex_table = latex_table.replace(\"rmse-test\", \"RMSE\")\n",
    "    latex_table = latex_table.replace(\"featuriser\", \"featurizer\")\n",
    "    latex_table = latex_table.replace(\"tokeniser\", \"tokenizer\")\n",
    "    latex_table = latex_table.replace(\"rmse-test\", \"rmse\")\n",
    "    latex_table = latex_table.replace(\"<\", \"\\\\textless\")\n",
    "    latex_table = latex_table.replace(\">\", \"\\\\textgreater\")\n",
    "    latex_table = latex_table.replace(\"obl\", \"\\\\named{obl}\")\n",
    "    latex_table = latex_table.replace(\"jcp\", \"\\\\named{jcp}\")\n",
    "    return latex_table\n",
    "\n",
    "def simple_format(x: float):\n",
    "    if abs(x) < 0.001:\n",
    "        # Assumes no negative values between -0.001 and 0.001\n",
    "        return \"<0.001\"\n",
    "    elif abs(x) < 1:\n",
    "        return f\"{x:.3f}\"\n",
    "    else:\n",
    "        return f\"{x:,.0f}\""
   ]
  },
  {
   "cell_type": "markdown",
   "metadata": {},
   "source": [
    "## Configure"
   ]
  },
  {
   "cell_type": "code",
   "execution_count": 421,
   "metadata": {},
   "outputs": [
    {
     "name": "stdout",
     "output_type": "stream",
     "text": [
      "online_boat_listings at 2025-03-14T09:19:17.276335\n"
     ]
    }
   ],
   "source": [
    "import datetime\n",
    "import logging\n",
    "\n",
    "datasets = [\n",
    "    \"jc_penney_products\", \n",
    "    \"online_boat_listings\",\n",
    "    \"online_boat_listings_no_foreign_languages\",\n",
    "    \"california_house_prices\" \n",
    "]\n",
    "## Change analysis dataset\n",
    "dataset = datasets[1]\n",
    "\n",
    "## Change whether we look at downsampled results (only for jc_penney_products)\n",
    "downsamples = [0.2, 0.01, None]\n",
    "downsample = downsamples[2]\n",
    "\n",
    "## Change whether we look at normalised response\n",
    "response_is_normalised = False\n",
    "\n",
    "filter_out_replicates = False\n",
    "filter_only_replicates = 4 # Can be int (4) or None, if int then only include results with this number of replicates, cannot be used with filter_out_replicates\n",
    "filter_out_worst = False\n",
    "\n",
    "log_response = False # Currently too difficult to interpret\n",
    "\n",
    "which_ds_string = f\"{dataset} at {datetime.datetime.now().isoformat()}\"\n",
    "print(which_ds_string)"
   ]
  },
  {
   "cell_type": "code",
   "execution_count": 422,
   "metadata": {},
   "outputs": [
    {
     "name": "stderr",
     "output_type": "stream",
     "text": [
      "2025-03-14 09:19:17,298 - analysis - INFO - online_boat_listings at 2025-03-14T09:19:17.276335\n"
     ]
    }
   ],
   "source": [
    "\n",
    "### Configure analysis\n",
    "import sys\n",
    "\n",
    "\n",
    "raw_metric = \"rmse_test\"\n",
    "metric = raw_metric.removesuffix(\"_test\")\n",
    "\n",
    "pipeline_cols = [\"preprocessers\", \"tokeniser\", \"featuriser\", \"model\", \"finetune\"]\n",
    "# Dont include finetune as we will alter the model name\n",
    "hash_cols = [\"preprocesser(s)\", \"tokeniser\", \"featuriser\", \"model\"]\n",
    "filter_worst_k_for = {\n",
    "    \"jc_penney_products\": 0,\n",
    "    \"online_boat_listings\": 0,\n",
    "    \"california_house_prices\": 0\n",
    "}\n",
    "alpha = 0.05\n",
    "### Configure plot saving\n",
    "image_ext = \"png\"\n",
    "OUTPUT_DIR = Path(\"notebook_output\")\n",
    "SAVE_HEIGHT = 400\n",
    "SAVE_WIDTH = 500\n",
    "table_dir = OUTPUT_DIR / dataset / \"tables\"\n",
    "histogram_dir = OUTPUT_DIR / dataset / \"1d_histograms\"\n",
    "boxplot_dir = OUTPUT_DIR / dataset / \"1d_boxplots\"\n",
    "### Configure latex columns\n",
    "latex_cols = [\"preprocesser(s)\", \"tokeniser\", \"featuriser\", \"model\", metric]\n",
    "dataset_name_map = {\n",
    "    \"jc_penney_products\": \"jcp\",\n",
    "    \"online_boat_listings\": \"obl\",\n",
    "}\n",
    "###\n",
    "histogram_dir.mkdir(exist_ok=True, parents=True)\n",
    "table_dir.mkdir(exist_ok=True, parents=True)\n",
    "boxplot_dir.mkdir(exist_ok=True, parents=True)\n",
    "\n",
    "config_str = metric\n",
    "if filter_out_replicates:\n",
    "    config_str += \"_no_replicates\"\n",
    "if filter_only_replicates is not None:\n",
    "    config_str += f\"_only_{filter_only_replicates}_replicates\"\n",
    "if filter_out_worst:\n",
    "    config_str += f\"_filter_worst_{filter_worst_k_for[dataset]}\"\n",
    "if downsample is not None:\n",
    "    config_str += f\"_downsample_{downsample}\"\n",
    "if response_is_normalised:\n",
    "    config_str += \"_normalise_response\"\n",
    "\n",
    "logger = logging.getLogger(\"analysis\")\n",
    "logger.setLevel(logging.DEBUG)\n",
    "for handler in logger.handlers:\n",
    "    logger.removeHandler(handler)\n",
    "# Configure logging to file\n",
    "log_file = OUTPUT_DIR / f\"{dataset}/{config_str}.log\"\n",
    "log_file.parent.mkdir(parents=True, exist_ok=True)\n",
    "# Remove all existing handlers\n",
    "for handler in logger.handlers[:]:\n",
    "    logger.removeHandler(handler)\n",
    "\n",
    "file_handler = logging.FileHandler(log_file)\n",
    "file_handler.setLevel(logging.DEBUG)\n",
    "formatter = logging.Formatter('%(asctime)s - %(name)s - %(levelname)s - %(message)s')\n",
    "file_handler.setFormatter(formatter)\n",
    "logger.addHandler(file_handler)\n",
    "stream_handler = logging.StreamHandler()\n",
    "stream_handler.setLevel(logging.INFO)\n",
    "stream_handler.setFormatter(formatter)\n",
    "logger.addHandler(stream_handler)\n",
    "logger.info(which_ds_string)"
   ]
  },
  {
   "cell_type": "code",
   "execution_count": 423,
   "metadata": {},
   "outputs": [
    {
     "name": "stdout",
     "output_type": "stream",
     "text": [
      "Config: rmse_only_4_replicates\n"
     ]
    }
   ],
   "source": [
    "print(f\"Config: {config_str}\")"
   ]
  },
  {
   "cell_type": "code",
   "execution_count": 424,
   "metadata": {},
   "outputs": [
    {
     "name": "stderr",
     "output_type": "stream",
     "text": [
      "2025-03-14 09:19:18,632 - analysis - INFO - Found 2611 results for online_boat_listings\n",
      "2025-03-14 09:19:18,683 - analysis - INFO - Performance of mean with seed 97: 446169.26\n"
     ]
    },
    {
     "data": {
      "text/html": [
       "<div>\n",
       "<style scoped>\n",
       "    .dataframe tbody tr th:only-of-type {\n",
       "        vertical-align: middle;\n",
       "    }\n",
       "\n",
       "    .dataframe tbody tr th {\n",
       "        vertical-align: top;\n",
       "    }\n",
       "\n",
       "    .dataframe thead th {\n",
       "        text-align: right;\n",
       "    }\n",
       "</style>\n",
       "<table border=\"1\" class=\"dataframe\">\n",
       "  <thead>\n",
       "    <tr style=\"text-align: right;\">\n",
       "      <th></th>\n",
       "      <th>preprocessers</th>\n",
       "      <th>tokeniser</th>\n",
       "      <th>featuriser</th>\n",
       "      <th>model</th>\n",
       "      <th>total_time</th>\n",
       "      <th>preprocess_time</th>\n",
       "      <th>model_time</th>\n",
       "      <th>rmse_train</th>\n",
       "      <th>rmse_val</th>\n",
       "      <th>rmse</th>\n",
       "      <th>...</th>\n",
       "      <th>mae_test</th>\n",
       "      <th>r2_train</th>\n",
       "      <th>r2_val</th>\n",
       "      <th>r2_test</th>\n",
       "      <th>medae_train</th>\n",
       "      <th>medae_val</th>\n",
       "      <th>medae_test</th>\n",
       "      <th>finetune</th>\n",
       "      <th>seed</th>\n",
       "      <th>preprocesser(s)</th>\n",
       "    </tr>\n",
       "  </thead>\n",
       "  <tbody>\n",
       "    <tr>\n",
       "      <th>0</th>\n",
       "      <td>[no_numbers_spacy, no_punctuation, no_stopword...</td>\n",
       "      <td>whitespace</td>\n",
       "      <td>bow_count</td>\n",
       "      <td>deep_linear</td>\n",
       "      <td>247.050840</td>\n",
       "      <td>189.886259</td>\n",
       "      <td>57.164580</td>\n",
       "      <td>588951.913069</td>\n",
       "      <td>380334.980025</td>\n",
       "      <td>435165.781187</td>\n",
       "      <td>...</td>\n",
       "      <td>217546.242308</td>\n",
       "      <td>0.299485</td>\n",
       "      <td>0.029071</td>\n",
       "      <td>0.048680</td>\n",
       "      <td>17833.585938</td>\n",
       "      <td>107035.929688</td>\n",
       "      <td>106243.359375</td>\n",
       "      <td>False</td>\n",
       "      <td>1</td>\n",
       "      <td>NNSC,NP,NSCC</td>\n",
       "    </tr>\n",
       "    <tr>\n",
       "      <th>1</th>\n",
       "      <td>[no_numbers_spacy, no_punctuation, no_stopword...</td>\n",
       "      <td>whitespace</td>\n",
       "      <td>bow_count</td>\n",
       "      <td>deep_linear</td>\n",
       "      <td>473.019562</td>\n",
       "      <td>291.487679</td>\n",
       "      <td>181.531883</td>\n",
       "      <td>616215.278808</td>\n",
       "      <td>435807.265898</td>\n",
       "      <td>453233.188583</td>\n",
       "      <td>...</td>\n",
       "      <td>218790.125425</td>\n",
       "      <td>0.208084</td>\n",
       "      <td>0.034577</td>\n",
       "      <td>-0.031955</td>\n",
       "      <td>20866.675781</td>\n",
       "      <td>103357.390625</td>\n",
       "      <td>98122.906250</td>\n",
       "      <td>False</td>\n",
       "      <td>3</td>\n",
       "      <td>NNSC,NP,NSCC</td>\n",
       "    </tr>\n",
       "    <tr>\n",
       "      <th>2</th>\n",
       "      <td>[no_numbers_spacy, no_punctuation, no_stopword...</td>\n",
       "      <td>whitespace</td>\n",
       "      <td>bow_count</td>\n",
       "      <td>deep_linear</td>\n",
       "      <td>144.767496</td>\n",
       "      <td>93.166733</td>\n",
       "      <td>51.600763</td>\n",
       "      <td>437477.178106</td>\n",
       "      <td>616502.402047</td>\n",
       "      <td>431240.592578</td>\n",
       "      <td>...</td>\n",
       "      <td>227628.456063</td>\n",
       "      <td>0.534557</td>\n",
       "      <td>0.049541</td>\n",
       "      <td>0.065764</td>\n",
       "      <td>11708.318359</td>\n",
       "      <td>118735.382812</td>\n",
       "      <td>116868.945312</td>\n",
       "      <td>False</td>\n",
       "      <td>97</td>\n",
       "      <td>NNSC,NP,NSCC</td>\n",
       "    </tr>\n",
       "    <tr>\n",
       "      <th>3</th>\n",
       "      <td>[no_numbers_spacy, no_punctuation, no_stopword...</td>\n",
       "      <td>whitespace</td>\n",
       "      <td>bow_count</td>\n",
       "      <td>deep_linear</td>\n",
       "      <td>130.952616</td>\n",
       "      <td>95.192159</td>\n",
       "      <td>35.760457</td>\n",
       "      <td>605763.905186</td>\n",
       "      <td>383874.376108</td>\n",
       "      <td>436196.534765</td>\n",
       "      <td>...</td>\n",
       "      <td>212738.081348</td>\n",
       "      <td>0.257906</td>\n",
       "      <td>0.027952</td>\n",
       "      <td>0.044168</td>\n",
       "      <td>20705.427734</td>\n",
       "      <td>101362.714844</td>\n",
       "      <td>99162.875000</td>\n",
       "      <td>False</td>\n",
       "      <td>2</td>\n",
       "      <td>NNSC,NP,NSCC</td>\n",
       "    </tr>\n",
       "    <tr>\n",
       "      <th>4</th>\n",
       "      <td>[no_numbers_spacy, no_punctuation, no_stopword...</td>\n",
       "      <td>whitespace</td>\n",
       "      <td>glove_mean</td>\n",
       "      <td>xgboost</td>\n",
       "      <td>181.587633</td>\n",
       "      <td>181.266419</td>\n",
       "      <td>0.321214</td>\n",
       "      <td>603065.026969</td>\n",
       "      <td>392533.109383</td>\n",
       "      <td>450019.469014</td>\n",
       "      <td>...</td>\n",
       "      <td>251278.503970</td>\n",
       "      <td>0.265510</td>\n",
       "      <td>-0.034208</td>\n",
       "      <td>-0.017372</td>\n",
       "      <td>171848.546875</td>\n",
       "      <td>168575.039062</td>\n",
       "      <td>177649.312500</td>\n",
       "      <td>False</td>\n",
       "      <td>1</td>\n",
       "      <td>NNSC,NP,NSCC</td>\n",
       "    </tr>\n",
       "  </tbody>\n",
       "</table>\n",
       "<p>5 rows × 22 columns</p>\n",
       "</div>"
      ],
      "text/plain": [
       "                                       preprocessers   tokeniser  featuriser  \\\n",
       "0  [no_numbers_spacy, no_punctuation, no_stopword...  whitespace   bow_count   \n",
       "1  [no_numbers_spacy, no_punctuation, no_stopword...  whitespace   bow_count   \n",
       "2  [no_numbers_spacy, no_punctuation, no_stopword...  whitespace   bow_count   \n",
       "3  [no_numbers_spacy, no_punctuation, no_stopword...  whitespace   bow_count   \n",
       "4  [no_numbers_spacy, no_punctuation, no_stopword...  whitespace  glove_mean   \n",
       "\n",
       "         model  total_time  preprocess_time  model_time     rmse_train  \\\n",
       "0  deep_linear  247.050840       189.886259   57.164580  588951.913069   \n",
       "1  deep_linear  473.019562       291.487679  181.531883  616215.278808   \n",
       "2  deep_linear  144.767496        93.166733   51.600763  437477.178106   \n",
       "3  deep_linear  130.952616        95.192159   35.760457  605763.905186   \n",
       "4      xgboost  181.587633       181.266419    0.321214  603065.026969   \n",
       "\n",
       "        rmse_val           rmse  ...       mae_test  r2_train    r2_val  \\\n",
       "0  380334.980025  435165.781187  ...  217546.242308  0.299485  0.029071   \n",
       "1  435807.265898  453233.188583  ...  218790.125425  0.208084  0.034577   \n",
       "2  616502.402047  431240.592578  ...  227628.456063  0.534557  0.049541   \n",
       "3  383874.376108  436196.534765  ...  212738.081348  0.257906  0.027952   \n",
       "4  392533.109383  450019.469014  ...  251278.503970  0.265510 -0.034208   \n",
       "\n",
       "    r2_test    medae_train      medae_val     medae_test  finetune  seed  \\\n",
       "0  0.048680   17833.585938  107035.929688  106243.359375     False     1   \n",
       "1 -0.031955   20866.675781  103357.390625   98122.906250     False     3   \n",
       "2  0.065764   11708.318359  118735.382812  116868.945312     False    97   \n",
       "3  0.044168   20705.427734  101362.714844   99162.875000     False     2   \n",
       "4 -0.017372  171848.546875  168575.039062  177649.312500     False     1   \n",
       "\n",
       "   preprocesser(s)  \n",
       "0     NNSC,NP,NSCC  \n",
       "1     NNSC,NP,NSCC  \n",
       "2     NNSC,NP,NSCC  \n",
       "3     NNSC,NP,NSCC  \n",
       "4     NNSC,NP,NSCC  \n",
       "\n",
       "[5 rows x 22 columns]"
      ]
     },
     "execution_count": 424,
     "metadata": {},
     "output_type": "execute_result"
    }
   ],
   "source": [
    "\n",
    "if filter_out_replicates and (filter_only_replicates is not None):\n",
    "    raise ValueError(\"Cannot filter out replicates and only include replicates\")\n",
    "\n",
    "root_results = Path(f\"results/\")\n",
    "if downsample is not None:\n",
    "    root_results = root_results / f\"downsample_{downsample}\"\n",
    "if response_is_normalised:\n",
    "    root_results = root_results / f\"normalised_response\"\n",
    "\n",
    "results = get_all_results(root_results / dataset, response_is_normalised=response_is_normalised, log_response=log_response)\n",
    "logger.info(f\"Found {len(results)} results for {dataset}\")\n",
    "train, val, test = load_dataset(dataset, seed=SEED)\n",
    "mean = pd.concat([train, val])[\"label\"].mean()\n",
    "if \"rmse\" in metric:\n",
    "    perf_of_mean = ((test[\"label\"] - mean) ** 2).mean() ** 0.5\n",
    "    if log_response:\n",
    "        perf_of_mean = np.log(perf_of_mean)\n",
    "    logger.info(f\"Performance of mean with seed {SEED}: {perf_of_mean:.2f}\")\n",
    "else:\n",
    "    raise NotImplementedError(f\"Metric {metric} not implemented\")\n",
    "\n",
    "original_results = pd.DataFrame(results)\n",
    "# Quickly strip suffix from metric name for latex tables/figures\n",
    "original_results.rename(columns={raw_metric: metric}, inplace=True)\n",
    "original_results.head()"
   ]
  },
  {
   "cell_type": "code",
   "execution_count": 425,
   "metadata": {},
   "outputs": [
    {
     "name": "stderr",
     "output_type": "stream",
     "text": [
      "2025-03-14 09:19:18,743 - analysis - INFO - Mean response (n data=1850): 247605.08 +- 605892.85\n"
     ]
    }
   ],
   "source": [
    "joined_data = pd.concat([train, val])\n",
    "all_data = pd.concat([train, val, test])\n",
    "mean_response = all_data[\"label\"].mean()\n",
    "standard_deviation_of_response = all_data[\"label\"].std()\n",
    "logger.info(f\"Mean response (n data={len(all_data)}): {mean_response:.2f} +- {standard_deviation_of_response:.2f}\")"
   ]
  },
  {
   "cell_type": "markdown",
   "metadata": {},
   "source": [
    "## Filter"
   ]
  },
  {
   "cell_type": "code",
   "execution_count": 426,
   "metadata": {},
   "outputs": [],
   "source": [
    "filter_out = {\n",
    "    \"preprocessers\": [\"number\"],\n",
    "    \"model\": [\"linear_regression\"], # We filter out these results as they are just too bad, deep_linear models sorta do that anyway\n",
    "    \"tokeniser\": [],\n",
    "    \"featuriser\": [],\n",
    "}\n",
    "if filter_out_replicates:\n",
    "    filter_out[\"seed\"] = [1, 2, 3]\n",
    "\n",
    "filtered_results = original_results.copy()\n",
    "for feature, values in filter_out.items():\n",
    "    if feature == \"preprocessers\":\n",
    "        for value in values:\n",
    "            filtered_results = filtered_results[~filtered_results[\"preprocessers\"].apply(lambda x: any(value in y for y in x))]\n",
    "    else:\n",
    "        for value in values:\n",
    "            filtered_results = filtered_results[filtered_results[feature] != value]\n",
    "filtered_results.loc[filtered_results['finetune'], 'model'] = filtered_results.loc[filtered_results['finetune'], 'model'] + '_ft'\n",
    "\n"
   ]
  },
  {
   "cell_type": "markdown",
   "metadata": {},
   "source": [
    "Analyse which seeds are missing in certain replicates if we want to increase sample size"
   ]
  },
  {
   "cell_type": "code",
   "execution_count": 427,
   "metadata": {},
   "outputs": [
    {
     "data": {
      "text/plain": [
       "seed\n",
       "[1]    5\n",
       "Name: count, dtype: int64"
      ]
     },
     "execution_count": 427,
     "metadata": {},
     "output_type": "execute_result"
    }
   ],
   "source": [
    "replicates = filtered_results.groupby(hash_cols)[\"seed\"].transform(\"count\")\n",
    "def seed_missing(seeds):\n",
    "    return list(set([1,2,3,97]) - set(seeds))\n",
    "missing_seeds = filtered_results[(1 < replicates) & (replicates < 4)].groupby([\"preprocesser(s)\", \"tokeniser\", \"featuriser\", \"model\"]).agg({\"seed\": lambda x: seed_missing(x)})\n",
    "missing_seeds[\"seed\"].value_counts()\n"
   ]
  },
  {
   "cell_type": "code",
   "execution_count": 428,
   "metadata": {},
   "outputs": [
    {
     "name": "stderr",
     "output_type": "stream",
     "text": [
      "2025-03-14 09:19:18,831 - analysis - INFO - Filtered to 560 results\n"
     ]
    }
   ],
   "source": [
    "if filter_only_replicates is not None:\n",
    "    filtered_results = filtered_results[replicates == filter_only_replicates]\n",
    "\n",
    "logger.info(f\"Filtered to {len(filtered_results)} results\")\n",
    "filtered_results = filtered_results.sort_values(metric).reset_index(names=\"idx\")\n",
    "filtered_results[\"pipeline_hash\"] = filtered_results[hash_cols].apply(lambda x: hash(tuple(x)), axis=1)"
   ]
  },
  {
   "cell_type": "code",
   "execution_count": 429,
   "metadata": {},
   "outputs": [
    {
     "name": "stderr",
     "output_type": "stream",
     "text": [
      "2025-03-14 09:19:18,869 - analysis - INFO - Found 0 duplicates\n"
     ]
    },
    {
     "data": {
      "text/html": [
       "<div>\n",
       "<style scoped>\n",
       "    .dataframe tbody tr th:only-of-type {\n",
       "        vertical-align: middle;\n",
       "    }\n",
       "\n",
       "    .dataframe tbody tr th {\n",
       "        vertical-align: top;\n",
       "    }\n",
       "\n",
       "    .dataframe thead th {\n",
       "        text-align: right;\n",
       "    }\n",
       "</style>\n",
       "<table border=\"1\" class=\"dataframe\">\n",
       "  <thead>\n",
       "    <tr style=\"text-align: right;\">\n",
       "      <th></th>\n",
       "      <th>idx</th>\n",
       "      <th>preprocessers</th>\n",
       "      <th>tokeniser</th>\n",
       "      <th>featuriser</th>\n",
       "      <th>model</th>\n",
       "      <th>total_time</th>\n",
       "      <th>preprocess_time</th>\n",
       "      <th>model_time</th>\n",
       "      <th>rmse_train</th>\n",
       "      <th>rmse_val</th>\n",
       "      <th>...</th>\n",
       "      <th>r2_train</th>\n",
       "      <th>r2_val</th>\n",
       "      <th>r2_test</th>\n",
       "      <th>medae_train</th>\n",
       "      <th>medae_val</th>\n",
       "      <th>medae_test</th>\n",
       "      <th>finetune</th>\n",
       "      <th>seed</th>\n",
       "      <th>preprocesser(s)</th>\n",
       "      <th>pipeline_hash</th>\n",
       "    </tr>\n",
       "  </thead>\n",
       "  <tbody>\n",
       "  </tbody>\n",
       "</table>\n",
       "<p>0 rows × 24 columns</p>\n",
       "</div>"
      ],
      "text/plain": [
       "Empty DataFrame\n",
       "Columns: [idx, preprocessers, tokeniser, featuriser, model, total_time, preprocess_time, model_time, rmse_train, rmse_val, rmse, mae_train, mae_val, mae_test, r2_train, r2_val, r2_test, medae_train, medae_val, medae_test, finetune, seed, preprocesser(s), pipeline_hash]\n",
       "Index: []\n",
       "\n",
       "[0 rows x 24 columns]"
      ]
     },
     "metadata": {},
     "output_type": "display_data"
    }
   ],
   "source": [
    "dupe_cols = [\"pipeline_hash\"]\n",
    "if filter_only_replicates:\n",
    "    dupe_cols.append(\"seed\")\n",
    "dupe_idx = filtered_results.duplicated(subset=dupe_cols, keep=False)\n",
    "dupes = filtered_results[dupe_idx]\n",
    "logger.info(f\"Found {len(dupes)} duplicates\")\n",
    "display(dupes.sort_values(\"pipeline_hash\").head(5))"
   ]
  },
  {
   "cell_type": "code",
   "execution_count": 430,
   "metadata": {},
   "outputs": [],
   "source": [
    "fig = px.box(filtered_results, y=metric, points=\"outliers\")\n",
    "def quantiles(df: pd.DataFrame):\n",
    "    min_metric, max_metric = df[metric].min(), df[metric].max()\n",
    "    q1_metric, q3_metric = df[metric].quantile(0.25), df[metric].quantile(0.75)\n",
    "    median_metric = df[metric].median()\n",
    "    return min_metric, q1_metric, median_metric, q3_metric, max_metric\n",
    "min_metric, q1_metric, median_metric, q3_metric, max_metric = quantiles(filtered_results)\n",
    "fig.update_yaxes(\n",
    "    range=[\n",
    "        filtered_results[metric].min()*0.9,\n",
    "        (filtered_results[metric].median() + 1.5 * (filtered_results[metric].quantile(0.75) - filtered_results[metric].quantile(0.25)))*1.1\n",
    "    ]\n",
    ")\n",
    "fig.add_hline(y=perf_of_mean, line_dash=\"dash\", line_color=\"red\", annotation_text=f\"Mean baseline {perf_of_mean:.2f}\")\n",
    "\n",
    "fig.write_image(OUTPUT_DIR / f\"{dataset}_{config_str}_boxplot.{image_ext}\")"
   ]
  },
  {
   "cell_type": "code",
   "execution_count": 431,
   "metadata": {},
   "outputs": [
    {
     "data": {
      "application/vnd.plotly.v1+json": {
       "config": {
        "plotlyServerURL": "https://plot.ly"
       },
       "data": [
        {
         "alignmentgroup": "True",
         "bingroup": "x",
         "hovertemplate": "rmse=%{x}<br>count=%{y}<extra></extra>",
         "legendgroup": "",
         "marker": {
          "color": "#636efa",
          "pattern": {
           "shape": ""
          }
         },
         "name": "",
         "nbinsx": 100,
         "offsetgroup": "",
         "orientation": "v",
         "showlegend": false,
         "type": "histogram",
         "x": [
          334672.92449431383,
          337746.86665508786,
          339429.7416737401,
          343361.3299350616,
          346313.46323340846,
          346809.51221742004,
          348540.27524561045,
          349111.8787168715,
          349702.19851147896,
          350960.2007643338,
          352394.7043239373,
          352763.5305858744,
          353284.9527075714,
          354193.5621144301,
          355669.7413590963,
          356326.4180732475,
          357138.704818284,
          357720.2200352138,
          358523.73346031795,
          358526.79820114473,
          361421.34193893836,
          361746.952636373,
          363053.0053446076,
          363199.5183173384,
          366211.90365923493,
          366433.5945247364,
          366746.5185878444,
          367595.66886785923,
          368390.24026379496,
          369647.6921583041,
          369982.5508239216,
          370369.5941213323,
          370754.7897793784,
          370967.63447614777,
          371335.8866625337,
          371710.9012912332,
          372168.10433634423,
          372846.7401907872,
          372924.9139539685,
          373069.9661529323,
          373225.84782664146,
          373415.95706602617,
          374638.94714777824,
          374681.4216982677,
          374971.0933159639,
          374974.0654724613,
          375919.61035550566,
          376259.96339778986,
          376562.9283245224,
          376578.98475005815,
          377825.7445526781,
          378061.822816205,
          378563.370350385,
          379047.67152541014,
          379145.85592737433,
          380046.4860495535,
          380451.53508466046,
          381009.5184730367,
          381119.52544397546,
          381163.7805688142,
          381884.7485880463,
          381955.0499252306,
          382122.578352095,
          382397.844844982,
          382404.38099533704,
          382483.3308421783,
          382600.552463905,
          383454.1870425049,
          383542.55913557834,
          383751.7030650158,
          383929.9266422194,
          383989.4170158413,
          384060.9527948743,
          384076.5600807728,
          384469.975052606,
          384856.6330372209,
          384865.0926920196,
          384952.0313391807,
          385052.0007888019,
          385162.1944463041,
          385364.10020168923,
          385534.40194630355,
          385723.64418557216,
          385804.1681560179,
          385864.8000929036,
          385892.066118161,
          385958.6099684862,
          386215.3508926513,
          386303.4040660779,
          386362.9443898347,
          386492.001884938,
          387532.0061128245,
          387953.2575538742,
          388051.294897365,
          388051.294897365,
          388139.46757176856,
          388186.5040581331,
          388423.51760545635,
          388552.369635193,
          388951.2057087476,
          389077.5056203898,
          389564.50900393305,
          389903.48792744015,
          390115.69162731373,
          390253.07459525,
          390477.78087332257,
          390510.91887931695,
          390568.6074798642,
          390738.03960997576,
          390770.935426669,
          391288.6089766442,
          391336.27438457496,
          391460.02856155485,
          391819.63020199665,
          392205.2867777827,
          392321.56006826245,
          392832.4825834609,
          392967.8484060197,
          393258.0022602269,
          393318.4028356041,
          393862.9758415156,
          394155.9437202242,
          394374.2562066468,
          394577.264598652,
          394581.5398549848,
          395270.02631568315,
          395802.4002370241,
          396054.37676723313,
          396123.6977184519,
          396376.04279356054,
          396455.0248021877,
          397212.03068910365,
          397707.4856629337,
          398177.4137605178,
          398255.71560344874,
          398522.6736767287,
          398895.4518719093,
          399002.7296144719,
          399268.5621343114,
          399380.7390631338,
          399398.36891634815,
          399507.86420543806,
          399837.52707912296,
          399966.68904725526,
          400199.13821662805,
          400676.5441727689,
          400692.1918276733,
          401458.5495194001,
          401862.41947844863,
          402395.7668319384,
          402511.18607077206,
          402548.7313968204,
          402839.88780160615,
          402840.64352808235,
          402848.2931470385,
          402851.02226329787,
          403252.0786391802,
          403265.8480864476,
          403609.08361798583,
          403740.79589157715,
          403962.3237772828,
          403995.3708323375,
          404297.07037826313,
          404754.61771762196,
          405331.571884742,
          405510.5212385421,
          405700.3737456335,
          405717.5810615458,
          405717.5810615458,
          406035.34883184434,
          406248.47215354606,
          406795.2643825645,
          407034.00716103765,
          407209.98265337094,
          407256.3791271824,
          407476.5074693586,
          407503.50923593785,
          408071.0171027928,
          408167.7659423436,
          408500.1358994044,
          408625.82606099785,
          408788.5016155155,
          408887.0514038459,
          408890.2287262573,
          409771.2385530062,
          410030.44495969027,
          410262.5737415571,
          410704.19116913655,
          410913.5747589744,
          411301.15855074045,
          411376.0889250001,
          411498.2043585986,
          411569.818425107,
          411789.13195025775,
          411894.77775569144,
          412564.10193409305,
          412661.8583433913,
          412903.6882240523,
          413003.0339636057,
          413413.5943788485,
          413649.08886411757,
          413649.08886411757,
          413817.2638481177,
          413959.31709094543,
          413989.03383132967,
          414005.0036699453,
          415046.2346218933,
          415094.9502398446,
          415095.3901420976,
          415172.32942359796,
          415172.3306701235,
          415409.0541774667,
          415776.085689703,
          416362.671237393,
          416511.92796280613,
          416511.92796280613,
          416766.3016005497,
          416785.2690391206,
          417163.94496406807,
          417360.37380789994,
          417434.2901258469,
          417434.2901258469,
          417518.08016194316,
          417763.09437432315,
          417807.4980759953,
          417959.39135198435,
          417988.7383970388,
          419114.3477417875,
          419534.25675357686,
          419711.90714772284,
          420231.7998232905,
          420605.1372795737,
          420968.8545751348,
          421118.8192940838,
          421295.1352598101,
          421569.00068676,
          421744.9318997668,
          421744.9318997668,
          421795.73470450565,
          422109.9064750162,
          422357.9391641093,
          422610.25125535944,
          422947.87093596853,
          422947.87093596853,
          423167.0715369111,
          423308.1442363169,
          423376.9763464382,
          423376.9763464382,
          423428.6295867926,
          423557.8892943666,
          424033.23032691894,
          424053.3086708219,
          424144.4643974573,
          424187.43347938574,
          424580.08429508895,
          424701.08569916646,
          424760.2314382882,
          425228.3808474518,
          425283.61176461505,
          425849.332360484,
          425913.6046903787,
          426343.29991353484,
          427292.3438428816,
          427292.3438428816,
          427508.88355006464,
          427682.49306642875,
          428276.45146332344,
          428484.84677851794,
          428521.7163003751,
          428918.8647805033,
          429154.9872398402,
          429318.27968143177,
          429318.2824137462,
          429735.54403966805,
          429813.423371997,
          429829.16621941276,
          430275.8015979762,
          430443.5232348798,
          430487.5768732312,
          430552.4810645078,
          430584.1246152464,
          430676.4908357653,
          430750.74836519576,
          430998.51569593325,
          431017.3327693827,
          431604.8934208936,
          431787.28163059393,
          431835.1764710003,
          432168.507629802,
          432194.8670403833,
          432650.77868055087,
          432954.3941746166,
          433316.42233726964,
          433341.7114398699,
          433815.8344270853,
          433931.19107897155,
          434048.0062764553,
          434130.80088150245,
          434188.4013646821,
          434433.0800925978,
          435191.337848269,
          435724.93780412525,
          436998.2854196784,
          437233.78631759767,
          437300.11009446374,
          437465.148952839,
          437490.0228860199,
          437637.7936001964,
          437803.8549145582,
          437803.8549145582,
          437805.1127190981,
          437820.1978221849,
          438093.86793271324,
          438570.1768344017,
          438645.4216585745,
          438945.4387781946,
          439022.6056208756,
          439832.84136902477,
          439976.02151423914,
          439988.27292210294,
          440928.6791278855,
          441091.11574072146,
          441274.08649983024,
          441353.737310031,
          441448.4646892766,
          441543.5834751805,
          441578.7324754904,
          442411.0532597469,
          442523.37079565006,
          442738.4654904903,
          442813.8343166663,
          442921.5616551125,
          443144.6787951654,
          443213.24164103734,
          443242.09552516014,
          443457.89181777876,
          443457.89181777876,
          443483.13568465674,
          443657.9285801291,
          443849.253163325,
          444194.37618041784,
          444200.52414172754,
          444218.1472440393,
          444247.5154916731,
          444251.8387984219,
          444336.8142651942,
          444363.79538146267,
          444493.82317995833,
          444564.1121468063,
          444699.84747369867,
          444738.6170237336,
          444780.8366785479,
          444872.82865737943,
          445030.57759494847,
          445060.9456550943,
          445069.9636990243,
          445112.59170021466,
          445380.86288209143,
          445433.5031652994,
          445446.7029740373,
          445504.3833456229,
          445599.0425007745,
          445726.1560148558,
          445727.3389991406,
          445738.4306802711,
          445742.8268510987,
          445773.37181913195,
          445860.1204057033,
          445925.6172845904,
          445935.78358338407,
          445980.9248294947,
          445999.84408155765,
          446072.22637650697,
          446076.4574828623,
          446086.3977996764,
          446100.1916507924,
          446100.7471659403,
          446122.1401863084,
          446123.78492599906,
          446144.57084557763,
          446145.66867770784,
          446154.46216471907,
          446176.89561813703,
          446188.4363894494,
          446196.2671235281,
          446211.8907778913,
          446217.97790027515,
          446235.9293518272,
          446239.1683950631,
          446255.1935775132,
          446257.5006130471,
          446260.2757018087,
          446260.4269019844,
          446262.4043603423,
          446280.51758817624,
          446287.72790554934,
          446288.17503341957,
          446288.5734074739,
          446291.3225789003,
          446292.1759642929,
          446292.8549916777,
          446292.97445743805,
          446292.9899969546,
          446295.7297681216,
          446295.8470157294,
          446297.1436035684,
          446297.6402269443,
          446299.8855467024,
          446310.0190804579,
          446318.0778263495,
          446322.91062658624,
          446367.26108071615,
          446368.7375555212,
          446372.370931561,
          446404.43250712566,
          446437.4887443529,
          446446.41430091095,
          446466.0479103102,
          446475.7822519645,
          446485.9567930064,
          446489.80918241123,
          446519.65743982384,
          446525.8113450214,
          446540.38569642534,
          446543.2458177946,
          446556.97803347494,
          446566.0008761839,
          446625.15844698605,
          446719.01627308223,
          446739.68083921284,
          446744.2694030698,
          446747.6274023081,
          446774.46416511014,
          446860.2708068473,
          446931.005456738,
          446979.46226307907,
          447055.9894932698,
          447057.7277233868,
          447067.45355500747,
          447076.9172635202,
          447106.2201132606,
          447154.1525349732,
          447197.50893952494,
          447231.226705636,
          447326.6271084981,
          447382.7276325274,
          447431.0390047435,
          447437.9784591779,
          447475.57231347216,
          447491.15594300115,
          447517.1225835086,
          447584.2218224691,
          447636.7443720136,
          447659.2040950535,
          447685.3014172189,
          447711.8044193485,
          447711.8044193485,
          447989.7544436863,
          448010.7452915838,
          448124.03439905593,
          448184.10536388867,
          448267.24649254297,
          448440.04934350634,
          448643.4060241709,
          448680.37815947284,
          448684.40878346155,
          448739.6631321524,
          448749.9873385829,
          448756.9699718935,
          448757.14974747587,
          448782.32447537984,
          448794.4420883316,
          448822.9267826487,
          448822.9267826487,
          448858.4883717732,
          449019.67346542655,
          449087.50937029306,
          449141.2574510649,
          449240.96809769,
          449323.59553418163,
          449329.8247664085,
          449476.7857069193,
          449781.6326575914,
          449797.612437453,
          449879.6011051586,
          449886.9385323502,
          449955.287970753,
          449963.56294867414,
          450077.29813055956,
          450084.4263870476,
          450158.7441410377,
          450304.8234123343,
          450328.3935917681,
          450379.1877936382,
          450645.32623028033,
          450701.03950064996,
          450812.323254023,
          450973.3335263127,
          451075.24228190165,
          451282.8915379302,
          452211.3780496828,
          452233.1368292684,
          452378.95756362256,
          452378.95756362256,
          452560.78980937944,
          452728.60797617474,
          453542.93573099957,
          453551.9327347001,
          453839.6960513623,
          453957.9097929447,
          454222.8775785273,
          455378.98665643303,
          455461.5226601992,
          456395.9446480326,
          456667.1461890107,
          457350.1476073938,
          457475.02970507287,
          457989.4980451096,
          459115.7829798387,
          459445.16295672336,
          460947.49527866667,
          462491.89764955355,
          462808.3626951324,
          463057.01493236417,
          463719.85814320977,
          463943.14263751655,
          464660.79376296076,
          465574.8316930521,
          465632.2323109415,
          465972.78653081384,
          465991.10082272155,
          467834.14214701287,
          467834.14214701287,
          468535.54640791053,
          469421.7755040185,
          469936.3492125527,
          470148.5858181873,
          470172.0378009795,
          471465.62348622584,
          471825.8542398566,
          472110.80595533736,
          472629.42827141186,
          473582.67046931933,
          473604.93267909804,
          475396.55889914255,
          476255.96548363543,
          478348.3890198714,
          481756.57531386643,
          481756.57531386643,
          482339.5991340238,
          483694.6866001213,
          484519.715623307,
          496610.62880680553,
          517104.47286724835,
          517335.14917329425,
          533425.3420265932,
          550691.2052433431,
          550691.2052433431,
          862748.9117204304,
          862748.9117204304
         ],
         "xaxis": "x",
         "yaxis": "y"
        }
       ],
       "layout": {
        "annotations": [
         {
          "showarrow": false,
          "text": "Mean baseline 446169.26",
          "x": 446169.2557239682,
          "xanchor": "left",
          "xref": "x",
          "y": 1,
          "yanchor": "top",
          "yref": "y domain"
         }
        ],
        "barmode": "relative",
        "legend": {
         "tracegroupgap": 0
        },
        "margin": {
         "t": 60
        },
        "shapes": [
         {
          "line": {
           "color": "red",
           "dash": "dash"
          },
          "type": "line",
          "x0": 446169.2557239682,
          "x1": 446169.2557239682,
          "xref": "x",
          "y0": 0,
          "y1": 1,
          "yref": "y domain"
         }
        ],
        "template": {
         "data": {
          "bar": [
           {
            "error_x": {
             "color": "#2a3f5f"
            },
            "error_y": {
             "color": "#2a3f5f"
            },
            "marker": {
             "line": {
              "color": "#E5ECF6",
              "width": 0.5
             },
             "pattern": {
              "fillmode": "overlay",
              "size": 10,
              "solidity": 0.2
             }
            },
            "type": "bar"
           }
          ],
          "barpolar": [
           {
            "marker": {
             "line": {
              "color": "#E5ECF6",
              "width": 0.5
             },
             "pattern": {
              "fillmode": "overlay",
              "size": 10,
              "solidity": 0.2
             }
            },
            "type": "barpolar"
           }
          ],
          "carpet": [
           {
            "aaxis": {
             "endlinecolor": "#2a3f5f",
             "gridcolor": "white",
             "linecolor": "white",
             "minorgridcolor": "white",
             "startlinecolor": "#2a3f5f"
            },
            "baxis": {
             "endlinecolor": "#2a3f5f",
             "gridcolor": "white",
             "linecolor": "white",
             "minorgridcolor": "white",
             "startlinecolor": "#2a3f5f"
            },
            "type": "carpet"
           }
          ],
          "choropleth": [
           {
            "colorbar": {
             "outlinewidth": 0,
             "ticks": ""
            },
            "type": "choropleth"
           }
          ],
          "contour": [
           {
            "colorbar": {
             "outlinewidth": 0,
             "ticks": ""
            },
            "colorscale": [
             [
              0,
              "#0d0887"
             ],
             [
              0.1111111111111111,
              "#46039f"
             ],
             [
              0.2222222222222222,
              "#7201a8"
             ],
             [
              0.3333333333333333,
              "#9c179e"
             ],
             [
              0.4444444444444444,
              "#bd3786"
             ],
             [
              0.5555555555555556,
              "#d8576b"
             ],
             [
              0.6666666666666666,
              "#ed7953"
             ],
             [
              0.7777777777777778,
              "#fb9f3a"
             ],
             [
              0.8888888888888888,
              "#fdca26"
             ],
             [
              1,
              "#f0f921"
             ]
            ],
            "type": "contour"
           }
          ],
          "contourcarpet": [
           {
            "colorbar": {
             "outlinewidth": 0,
             "ticks": ""
            },
            "type": "contourcarpet"
           }
          ],
          "heatmap": [
           {
            "colorbar": {
             "outlinewidth": 0,
             "ticks": ""
            },
            "colorscale": [
             [
              0,
              "#0d0887"
             ],
             [
              0.1111111111111111,
              "#46039f"
             ],
             [
              0.2222222222222222,
              "#7201a8"
             ],
             [
              0.3333333333333333,
              "#9c179e"
             ],
             [
              0.4444444444444444,
              "#bd3786"
             ],
             [
              0.5555555555555556,
              "#d8576b"
             ],
             [
              0.6666666666666666,
              "#ed7953"
             ],
             [
              0.7777777777777778,
              "#fb9f3a"
             ],
             [
              0.8888888888888888,
              "#fdca26"
             ],
             [
              1,
              "#f0f921"
             ]
            ],
            "type": "heatmap"
           }
          ],
          "heatmapgl": [
           {
            "colorbar": {
             "outlinewidth": 0,
             "ticks": ""
            },
            "colorscale": [
             [
              0,
              "#0d0887"
             ],
             [
              0.1111111111111111,
              "#46039f"
             ],
             [
              0.2222222222222222,
              "#7201a8"
             ],
             [
              0.3333333333333333,
              "#9c179e"
             ],
             [
              0.4444444444444444,
              "#bd3786"
             ],
             [
              0.5555555555555556,
              "#d8576b"
             ],
             [
              0.6666666666666666,
              "#ed7953"
             ],
             [
              0.7777777777777778,
              "#fb9f3a"
             ],
             [
              0.8888888888888888,
              "#fdca26"
             ],
             [
              1,
              "#f0f921"
             ]
            ],
            "type": "heatmapgl"
           }
          ],
          "histogram": [
           {
            "marker": {
             "pattern": {
              "fillmode": "overlay",
              "size": 10,
              "solidity": 0.2
             }
            },
            "type": "histogram"
           }
          ],
          "histogram2d": [
           {
            "colorbar": {
             "outlinewidth": 0,
             "ticks": ""
            },
            "colorscale": [
             [
              0,
              "#0d0887"
             ],
             [
              0.1111111111111111,
              "#46039f"
             ],
             [
              0.2222222222222222,
              "#7201a8"
             ],
             [
              0.3333333333333333,
              "#9c179e"
             ],
             [
              0.4444444444444444,
              "#bd3786"
             ],
             [
              0.5555555555555556,
              "#d8576b"
             ],
             [
              0.6666666666666666,
              "#ed7953"
             ],
             [
              0.7777777777777778,
              "#fb9f3a"
             ],
             [
              0.8888888888888888,
              "#fdca26"
             ],
             [
              1,
              "#f0f921"
             ]
            ],
            "type": "histogram2d"
           }
          ],
          "histogram2dcontour": [
           {
            "colorbar": {
             "outlinewidth": 0,
             "ticks": ""
            },
            "colorscale": [
             [
              0,
              "#0d0887"
             ],
             [
              0.1111111111111111,
              "#46039f"
             ],
             [
              0.2222222222222222,
              "#7201a8"
             ],
             [
              0.3333333333333333,
              "#9c179e"
             ],
             [
              0.4444444444444444,
              "#bd3786"
             ],
             [
              0.5555555555555556,
              "#d8576b"
             ],
             [
              0.6666666666666666,
              "#ed7953"
             ],
             [
              0.7777777777777778,
              "#fb9f3a"
             ],
             [
              0.8888888888888888,
              "#fdca26"
             ],
             [
              1,
              "#f0f921"
             ]
            ],
            "type": "histogram2dcontour"
           }
          ],
          "mesh3d": [
           {
            "colorbar": {
             "outlinewidth": 0,
             "ticks": ""
            },
            "type": "mesh3d"
           }
          ],
          "parcoords": [
           {
            "line": {
             "colorbar": {
              "outlinewidth": 0,
              "ticks": ""
             }
            },
            "type": "parcoords"
           }
          ],
          "pie": [
           {
            "automargin": true,
            "type": "pie"
           }
          ],
          "scatter": [
           {
            "fillpattern": {
             "fillmode": "overlay",
             "size": 10,
             "solidity": 0.2
            },
            "type": "scatter"
           }
          ],
          "scatter3d": [
           {
            "line": {
             "colorbar": {
              "outlinewidth": 0,
              "ticks": ""
             }
            },
            "marker": {
             "colorbar": {
              "outlinewidth": 0,
              "ticks": ""
             }
            },
            "type": "scatter3d"
           }
          ],
          "scattercarpet": [
           {
            "marker": {
             "colorbar": {
              "outlinewidth": 0,
              "ticks": ""
             }
            },
            "type": "scattercarpet"
           }
          ],
          "scattergeo": [
           {
            "marker": {
             "colorbar": {
              "outlinewidth": 0,
              "ticks": ""
             }
            },
            "type": "scattergeo"
           }
          ],
          "scattergl": [
           {
            "marker": {
             "colorbar": {
              "outlinewidth": 0,
              "ticks": ""
             }
            },
            "type": "scattergl"
           }
          ],
          "scattermapbox": [
           {
            "marker": {
             "colorbar": {
              "outlinewidth": 0,
              "ticks": ""
             }
            },
            "type": "scattermapbox"
           }
          ],
          "scatterpolar": [
           {
            "marker": {
             "colorbar": {
              "outlinewidth": 0,
              "ticks": ""
             }
            },
            "type": "scatterpolar"
           }
          ],
          "scatterpolargl": [
           {
            "marker": {
             "colorbar": {
              "outlinewidth": 0,
              "ticks": ""
             }
            },
            "type": "scatterpolargl"
           }
          ],
          "scatterternary": [
           {
            "marker": {
             "colorbar": {
              "outlinewidth": 0,
              "ticks": ""
             }
            },
            "type": "scatterternary"
           }
          ],
          "surface": [
           {
            "colorbar": {
             "outlinewidth": 0,
             "ticks": ""
            },
            "colorscale": [
             [
              0,
              "#0d0887"
             ],
             [
              0.1111111111111111,
              "#46039f"
             ],
             [
              0.2222222222222222,
              "#7201a8"
             ],
             [
              0.3333333333333333,
              "#9c179e"
             ],
             [
              0.4444444444444444,
              "#bd3786"
             ],
             [
              0.5555555555555556,
              "#d8576b"
             ],
             [
              0.6666666666666666,
              "#ed7953"
             ],
             [
              0.7777777777777778,
              "#fb9f3a"
             ],
             [
              0.8888888888888888,
              "#fdca26"
             ],
             [
              1,
              "#f0f921"
             ]
            ],
            "type": "surface"
           }
          ],
          "table": [
           {
            "cells": {
             "fill": {
              "color": "#EBF0F8"
             },
             "line": {
              "color": "white"
             }
            },
            "header": {
             "fill": {
              "color": "#C8D4E3"
             },
             "line": {
              "color": "white"
             }
            },
            "type": "table"
           }
          ]
         },
         "layout": {
          "annotationdefaults": {
           "arrowcolor": "#2a3f5f",
           "arrowhead": 0,
           "arrowwidth": 1
          },
          "autotypenumbers": "strict",
          "coloraxis": {
           "colorbar": {
            "outlinewidth": 0,
            "ticks": ""
           }
          },
          "colorscale": {
           "diverging": [
            [
             0,
             "#8e0152"
            ],
            [
             0.1,
             "#c51b7d"
            ],
            [
             0.2,
             "#de77ae"
            ],
            [
             0.3,
             "#f1b6da"
            ],
            [
             0.4,
             "#fde0ef"
            ],
            [
             0.5,
             "#f7f7f7"
            ],
            [
             0.6,
             "#e6f5d0"
            ],
            [
             0.7,
             "#b8e186"
            ],
            [
             0.8,
             "#7fbc41"
            ],
            [
             0.9,
             "#4d9221"
            ],
            [
             1,
             "#276419"
            ]
           ],
           "sequential": [
            [
             0,
             "#0d0887"
            ],
            [
             0.1111111111111111,
             "#46039f"
            ],
            [
             0.2222222222222222,
             "#7201a8"
            ],
            [
             0.3333333333333333,
             "#9c179e"
            ],
            [
             0.4444444444444444,
             "#bd3786"
            ],
            [
             0.5555555555555556,
             "#d8576b"
            ],
            [
             0.6666666666666666,
             "#ed7953"
            ],
            [
             0.7777777777777778,
             "#fb9f3a"
            ],
            [
             0.8888888888888888,
             "#fdca26"
            ],
            [
             1,
             "#f0f921"
            ]
           ],
           "sequentialminus": [
            [
             0,
             "#0d0887"
            ],
            [
             0.1111111111111111,
             "#46039f"
            ],
            [
             0.2222222222222222,
             "#7201a8"
            ],
            [
             0.3333333333333333,
             "#9c179e"
            ],
            [
             0.4444444444444444,
             "#bd3786"
            ],
            [
             0.5555555555555556,
             "#d8576b"
            ],
            [
             0.6666666666666666,
             "#ed7953"
            ],
            [
             0.7777777777777778,
             "#fb9f3a"
            ],
            [
             0.8888888888888888,
             "#fdca26"
            ],
            [
             1,
             "#f0f921"
            ]
           ]
          },
          "colorway": [
           "#636efa",
           "#EF553B",
           "#00cc96",
           "#ab63fa",
           "#FFA15A",
           "#19d3f3",
           "#FF6692",
           "#B6E880",
           "#FF97FF",
           "#FECB52"
          ],
          "font": {
           "color": "#2a3f5f"
          },
          "geo": {
           "bgcolor": "white",
           "lakecolor": "white",
           "landcolor": "#E5ECF6",
           "showlakes": true,
           "showland": true,
           "subunitcolor": "white"
          },
          "hoverlabel": {
           "align": "left"
          },
          "hovermode": "closest",
          "mapbox": {
           "style": "light"
          },
          "paper_bgcolor": "white",
          "plot_bgcolor": "#E5ECF6",
          "polar": {
           "angularaxis": {
            "gridcolor": "white",
            "linecolor": "white",
            "ticks": ""
           },
           "bgcolor": "#E5ECF6",
           "radialaxis": {
            "gridcolor": "white",
            "linecolor": "white",
            "ticks": ""
           }
          },
          "scene": {
           "xaxis": {
            "backgroundcolor": "#E5ECF6",
            "gridcolor": "white",
            "gridwidth": 2,
            "linecolor": "white",
            "showbackground": true,
            "ticks": "",
            "zerolinecolor": "white"
           },
           "yaxis": {
            "backgroundcolor": "#E5ECF6",
            "gridcolor": "white",
            "gridwidth": 2,
            "linecolor": "white",
            "showbackground": true,
            "ticks": "",
            "zerolinecolor": "white"
           },
           "zaxis": {
            "backgroundcolor": "#E5ECF6",
            "gridcolor": "white",
            "gridwidth": 2,
            "linecolor": "white",
            "showbackground": true,
            "ticks": "",
            "zerolinecolor": "white"
           }
          },
          "shapedefaults": {
           "line": {
            "color": "#2a3f5f"
           }
          },
          "ternary": {
           "aaxis": {
            "gridcolor": "white",
            "linecolor": "white",
            "ticks": ""
           },
           "baxis": {
            "gridcolor": "white",
            "linecolor": "white",
            "ticks": ""
           },
           "bgcolor": "#E5ECF6",
           "caxis": {
            "gridcolor": "white",
            "linecolor": "white",
            "ticks": ""
           }
          },
          "title": {
           "x": 0.05
          },
          "xaxis": {
           "automargin": true,
           "gridcolor": "white",
           "linecolor": "white",
           "ticks": "",
           "title": {
            "standoff": 15
           },
           "zerolinecolor": "white",
           "zerolinewidth": 2
          },
          "yaxis": {
           "automargin": true,
           "gridcolor": "white",
           "linecolor": "white",
           "ticks": "",
           "title": {
            "standoff": 15
           },
           "zerolinecolor": "white",
           "zerolinewidth": 2
          }
         }
        },
        "xaxis": {
         "anchor": "y",
         "domain": [
          0,
          1
         ],
         "title": {
          "text": "rmse"
         }
        },
        "yaxis": {
         "anchor": "x",
         "domain": [
          0,
          1
         ],
         "title": {
          "text": "count"
         }
        }
       }
      }
     },
     "metadata": {},
     "output_type": "display_data"
    }
   ],
   "source": [
    "def threshold_histogram(df: pd.DataFrame, metric: str, min_val: float = None, max_val: float = None, mean_line: float = None):\n",
    "    if min_val is not None:\n",
    "        df = df[df[metric] >= min_val]\n",
    "    if max_val is not None:\n",
    "        df = df[df[metric] <= max_val]\n",
    "    fig = px.histogram(df, x=metric, nbins=100)\n",
    "    if mean_line is not None:\n",
    "        fig.add_vline(x=mean_line, line_dash=\"dash\", line_color=\"red\", annotation_text=f\"Mean baseline {mean_line:.2f}\")\n",
    "    return fig\n",
    "\n",
    "fig = threshold_histogram(filtered_results, metric, min_metric, max_metric, perf_of_mean)\n",
    "fig.show()"
   ]
  },
  {
   "cell_type": "code",
   "execution_count": 432,
   "metadata": {},
   "outputs": [
    {
     "data": {
      "application/vnd.plotly.v1+json": {
       "config": {
        "plotlyServerURL": "https://plot.ly"
       },
       "data": [
        {
         "alignmentgroup": "True",
         "bingroup": "x",
         "hovertemplate": "rmse=%{x}<br>count=%{y}<extra></extra>",
         "legendgroup": "",
         "marker": {
          "color": "#636efa",
          "pattern": {
           "shape": ""
          }
         },
         "name": "",
         "nbinsx": 100,
         "offsetgroup": "",
         "orientation": "v",
         "showlegend": false,
         "type": "histogram",
         "x": [
          383457.8885531543,
          405320.4326601634,
          440994.2320003698,
          380824.82344862935,
          460222.5251762233,
          400181.10125087295,
          384638.3907448337,
          405824.9003987705,
          445141.5958829577,
          445244.7388229364,
          404010.3682224405,
          461816.2741987448,
          446272.0372583135,
          386944.5021228279,
          448578.65059013106,
          490151.33613225503,
          392406.2247557042,
          376514.03464740276,
          414140.9426206548,
          375486.3170518216,
          447833.57723510487,
          354328.8181280254,
          417073.19489616447,
          425109.33307776216,
          393798.11719588394,
          448129.4034900068,
          413384.7222201748,
          351301.8328889356,
          374243.5059851534,
          423248.94676680345,
          448286.0910348416,
          446919.37362850585,
          425494.35874389316,
          428188.83064116945,
          429607.7773078513,
          427114.24880530353,
          447556.29185655084,
          446383.9508194731,
          421433.49412889476,
          375448.7929679188,
          465625.5438027435,
          422684.2979183061,
          457616.2117254241,
          446132.6365904506,
          366543.8032215929,
          432137.5746073795,
          445169.9422045412,
          455419.70090799127,
          420588.39439393097,
          439004.62810337066,
          446572.4855582101,
          445791.22671743215,
          446134.8410454585,
          444883.29499132885,
          449140.0250788257,
          407425.87977016944,
          461134.17113113013,
          403536.03743052075,
          374181.00617169356,
          418531.87429871404,
          434725.0359022481,
          478427.38182238664,
          421820.7967753988,
          420774.7240432789,
          422425.9050460686,
          430975.6607262797,
          367445.9751896098,
          383510.65161655715,
          419989.8098380807,
          391577.30413753574,
          416014.86819034966,
          442563.68919901404,
          446317.5976307437,
          409876.8374944485,
          408035.91460408166,
          446449.6119672128,
          452931.5020259167,
          447106.68363851873,
          557946.2345534286,
          448684.35547337047,
          417712.6761769682,
          401059.33682183415,
          389926.5569047378,
          359783.35352653515,
          412838.8646840721,
          447013.4331375497,
          437967.9633142079,
          371003.07407370623,
          431488.13408664113,
          394874.67722334864,
          440272.04228832957,
          456332.40062522533,
          442772.67908528406,
          447791.95324038144,
          424758.47022190824,
          421589.89320959244,
          383905.3111797336,
          445829.70759745734,
          446469.2347785868,
          403787.8922418286,
          446048.7278959252,
          413739.9936506453,
          450173.89349962556,
          433931.0959355237,
          470257.42413147143,
          446454.0990761762,
          416014.86819034966,
          388258.42292034096,
          375516.55803673825,
          454793.01524594123,
          452873.48825051123,
          468424.6088110798,
          444942.3997356352,
          447022.68909075786,
          367336.1715853277,
          557946.2345534286,
          371669.0566456514,
          423219.8053132318,
          446201.793479196,
          387480.2534389314,
          415120.6882251844,
          446189.5854187352,
          401301.06196539936,
          436080.83830282587,
          449871.8121324889,
          449453.7793481528,
          410954.3725399454,
          406682.45178803266,
          433305.8521790665,
          420588.3947055624,
          455411.0894432983,
          417073.0849206012,
          454349.8986595314,
          453773.3507551229,
          386967.56035029923,
          383740.4654902643,
          407321.25046646374,
          478427.38182238664,
          433993.79106020456,
          350867.2008573009
         ],
         "xaxis": "x",
         "yaxis": "y"
        }
       ],
       "layout": {
        "annotations": [
         {
          "showarrow": false,
          "text": "Mean baseline 446169.26",
          "x": 446169.2557239682,
          "xanchor": "left",
          "xref": "x",
          "y": 1,
          "yanchor": "top",
          "yref": "y domain"
         }
        ],
        "barmode": "relative",
        "legend": {
         "tracegroupgap": 0
        },
        "margin": {
         "t": 60
        },
        "shapes": [
         {
          "line": {
           "color": "red",
           "dash": "dash"
          },
          "type": "line",
          "x0": 446169.2557239682,
          "x1": 446169.2557239682,
          "xref": "x",
          "y0": 0,
          "y1": 1,
          "yref": "y domain"
         }
        ],
        "template": {
         "data": {
          "bar": [
           {
            "error_x": {
             "color": "#2a3f5f"
            },
            "error_y": {
             "color": "#2a3f5f"
            },
            "marker": {
             "line": {
              "color": "#E5ECF6",
              "width": 0.5
             },
             "pattern": {
              "fillmode": "overlay",
              "size": 10,
              "solidity": 0.2
             }
            },
            "type": "bar"
           }
          ],
          "barpolar": [
           {
            "marker": {
             "line": {
              "color": "#E5ECF6",
              "width": 0.5
             },
             "pattern": {
              "fillmode": "overlay",
              "size": 10,
              "solidity": 0.2
             }
            },
            "type": "barpolar"
           }
          ],
          "carpet": [
           {
            "aaxis": {
             "endlinecolor": "#2a3f5f",
             "gridcolor": "white",
             "linecolor": "white",
             "minorgridcolor": "white",
             "startlinecolor": "#2a3f5f"
            },
            "baxis": {
             "endlinecolor": "#2a3f5f",
             "gridcolor": "white",
             "linecolor": "white",
             "minorgridcolor": "white",
             "startlinecolor": "#2a3f5f"
            },
            "type": "carpet"
           }
          ],
          "choropleth": [
           {
            "colorbar": {
             "outlinewidth": 0,
             "ticks": ""
            },
            "type": "choropleth"
           }
          ],
          "contour": [
           {
            "colorbar": {
             "outlinewidth": 0,
             "ticks": ""
            },
            "colorscale": [
             [
              0,
              "#0d0887"
             ],
             [
              0.1111111111111111,
              "#46039f"
             ],
             [
              0.2222222222222222,
              "#7201a8"
             ],
             [
              0.3333333333333333,
              "#9c179e"
             ],
             [
              0.4444444444444444,
              "#bd3786"
             ],
             [
              0.5555555555555556,
              "#d8576b"
             ],
             [
              0.6666666666666666,
              "#ed7953"
             ],
             [
              0.7777777777777778,
              "#fb9f3a"
             ],
             [
              0.8888888888888888,
              "#fdca26"
             ],
             [
              1,
              "#f0f921"
             ]
            ],
            "type": "contour"
           }
          ],
          "contourcarpet": [
           {
            "colorbar": {
             "outlinewidth": 0,
             "ticks": ""
            },
            "type": "contourcarpet"
           }
          ],
          "heatmap": [
           {
            "colorbar": {
             "outlinewidth": 0,
             "ticks": ""
            },
            "colorscale": [
             [
              0,
              "#0d0887"
             ],
             [
              0.1111111111111111,
              "#46039f"
             ],
             [
              0.2222222222222222,
              "#7201a8"
             ],
             [
              0.3333333333333333,
              "#9c179e"
             ],
             [
              0.4444444444444444,
              "#bd3786"
             ],
             [
              0.5555555555555556,
              "#d8576b"
             ],
             [
              0.6666666666666666,
              "#ed7953"
             ],
             [
              0.7777777777777778,
              "#fb9f3a"
             ],
             [
              0.8888888888888888,
              "#fdca26"
             ],
             [
              1,
              "#f0f921"
             ]
            ],
            "type": "heatmap"
           }
          ],
          "heatmapgl": [
           {
            "colorbar": {
             "outlinewidth": 0,
             "ticks": ""
            },
            "colorscale": [
             [
              0,
              "#0d0887"
             ],
             [
              0.1111111111111111,
              "#46039f"
             ],
             [
              0.2222222222222222,
              "#7201a8"
             ],
             [
              0.3333333333333333,
              "#9c179e"
             ],
             [
              0.4444444444444444,
              "#bd3786"
             ],
             [
              0.5555555555555556,
              "#d8576b"
             ],
             [
              0.6666666666666666,
              "#ed7953"
             ],
             [
              0.7777777777777778,
              "#fb9f3a"
             ],
             [
              0.8888888888888888,
              "#fdca26"
             ],
             [
              1,
              "#f0f921"
             ]
            ],
            "type": "heatmapgl"
           }
          ],
          "histogram": [
           {
            "marker": {
             "pattern": {
              "fillmode": "overlay",
              "size": 10,
              "solidity": 0.2
             }
            },
            "type": "histogram"
           }
          ],
          "histogram2d": [
           {
            "colorbar": {
             "outlinewidth": 0,
             "ticks": ""
            },
            "colorscale": [
             [
              0,
              "#0d0887"
             ],
             [
              0.1111111111111111,
              "#46039f"
             ],
             [
              0.2222222222222222,
              "#7201a8"
             ],
             [
              0.3333333333333333,
              "#9c179e"
             ],
             [
              0.4444444444444444,
              "#bd3786"
             ],
             [
              0.5555555555555556,
              "#d8576b"
             ],
             [
              0.6666666666666666,
              "#ed7953"
             ],
             [
              0.7777777777777778,
              "#fb9f3a"
             ],
             [
              0.8888888888888888,
              "#fdca26"
             ],
             [
              1,
              "#f0f921"
             ]
            ],
            "type": "histogram2d"
           }
          ],
          "histogram2dcontour": [
           {
            "colorbar": {
             "outlinewidth": 0,
             "ticks": ""
            },
            "colorscale": [
             [
              0,
              "#0d0887"
             ],
             [
              0.1111111111111111,
              "#46039f"
             ],
             [
              0.2222222222222222,
              "#7201a8"
             ],
             [
              0.3333333333333333,
              "#9c179e"
             ],
             [
              0.4444444444444444,
              "#bd3786"
             ],
             [
              0.5555555555555556,
              "#d8576b"
             ],
             [
              0.6666666666666666,
              "#ed7953"
             ],
             [
              0.7777777777777778,
              "#fb9f3a"
             ],
             [
              0.8888888888888888,
              "#fdca26"
             ],
             [
              1,
              "#f0f921"
             ]
            ],
            "type": "histogram2dcontour"
           }
          ],
          "mesh3d": [
           {
            "colorbar": {
             "outlinewidth": 0,
             "ticks": ""
            },
            "type": "mesh3d"
           }
          ],
          "parcoords": [
           {
            "line": {
             "colorbar": {
              "outlinewidth": 0,
              "ticks": ""
             }
            },
            "type": "parcoords"
           }
          ],
          "pie": [
           {
            "automargin": true,
            "type": "pie"
           }
          ],
          "scatter": [
           {
            "fillpattern": {
             "fillmode": "overlay",
             "size": 10,
             "solidity": 0.2
            },
            "type": "scatter"
           }
          ],
          "scatter3d": [
           {
            "line": {
             "colorbar": {
              "outlinewidth": 0,
              "ticks": ""
             }
            },
            "marker": {
             "colorbar": {
              "outlinewidth": 0,
              "ticks": ""
             }
            },
            "type": "scatter3d"
           }
          ],
          "scattercarpet": [
           {
            "marker": {
             "colorbar": {
              "outlinewidth": 0,
              "ticks": ""
             }
            },
            "type": "scattercarpet"
           }
          ],
          "scattergeo": [
           {
            "marker": {
             "colorbar": {
              "outlinewidth": 0,
              "ticks": ""
             }
            },
            "type": "scattergeo"
           }
          ],
          "scattergl": [
           {
            "marker": {
             "colorbar": {
              "outlinewidth": 0,
              "ticks": ""
             }
            },
            "type": "scattergl"
           }
          ],
          "scattermapbox": [
           {
            "marker": {
             "colorbar": {
              "outlinewidth": 0,
              "ticks": ""
             }
            },
            "type": "scattermapbox"
           }
          ],
          "scatterpolar": [
           {
            "marker": {
             "colorbar": {
              "outlinewidth": 0,
              "ticks": ""
             }
            },
            "type": "scatterpolar"
           }
          ],
          "scatterpolargl": [
           {
            "marker": {
             "colorbar": {
              "outlinewidth": 0,
              "ticks": ""
             }
            },
            "type": "scatterpolargl"
           }
          ],
          "scatterternary": [
           {
            "marker": {
             "colorbar": {
              "outlinewidth": 0,
              "ticks": ""
             }
            },
            "type": "scatterternary"
           }
          ],
          "surface": [
           {
            "colorbar": {
             "outlinewidth": 0,
             "ticks": ""
            },
            "colorscale": [
             [
              0,
              "#0d0887"
             ],
             [
              0.1111111111111111,
              "#46039f"
             ],
             [
              0.2222222222222222,
              "#7201a8"
             ],
             [
              0.3333333333333333,
              "#9c179e"
             ],
             [
              0.4444444444444444,
              "#bd3786"
             ],
             [
              0.5555555555555556,
              "#d8576b"
             ],
             [
              0.6666666666666666,
              "#ed7953"
             ],
             [
              0.7777777777777778,
              "#fb9f3a"
             ],
             [
              0.8888888888888888,
              "#fdca26"
             ],
             [
              1,
              "#f0f921"
             ]
            ],
            "type": "surface"
           }
          ],
          "table": [
           {
            "cells": {
             "fill": {
              "color": "#EBF0F8"
             },
             "line": {
              "color": "white"
             }
            },
            "header": {
             "fill": {
              "color": "#C8D4E3"
             },
             "line": {
              "color": "white"
             }
            },
            "type": "table"
           }
          ]
         },
         "layout": {
          "annotationdefaults": {
           "arrowcolor": "#2a3f5f",
           "arrowhead": 0,
           "arrowwidth": 1
          },
          "autotypenumbers": "strict",
          "coloraxis": {
           "colorbar": {
            "outlinewidth": 0,
            "ticks": ""
           }
          },
          "colorscale": {
           "diverging": [
            [
             0,
             "#8e0152"
            ],
            [
             0.1,
             "#c51b7d"
            ],
            [
             0.2,
             "#de77ae"
            ],
            [
             0.3,
             "#f1b6da"
            ],
            [
             0.4,
             "#fde0ef"
            ],
            [
             0.5,
             "#f7f7f7"
            ],
            [
             0.6,
             "#e6f5d0"
            ],
            [
             0.7,
             "#b8e186"
            ],
            [
             0.8,
             "#7fbc41"
            ],
            [
             0.9,
             "#4d9221"
            ],
            [
             1,
             "#276419"
            ]
           ],
           "sequential": [
            [
             0,
             "#0d0887"
            ],
            [
             0.1111111111111111,
             "#46039f"
            ],
            [
             0.2222222222222222,
             "#7201a8"
            ],
            [
             0.3333333333333333,
             "#9c179e"
            ],
            [
             0.4444444444444444,
             "#bd3786"
            ],
            [
             0.5555555555555556,
             "#d8576b"
            ],
            [
             0.6666666666666666,
             "#ed7953"
            ],
            [
             0.7777777777777778,
             "#fb9f3a"
            ],
            [
             0.8888888888888888,
             "#fdca26"
            ],
            [
             1,
             "#f0f921"
            ]
           ],
           "sequentialminus": [
            [
             0,
             "#0d0887"
            ],
            [
             0.1111111111111111,
             "#46039f"
            ],
            [
             0.2222222222222222,
             "#7201a8"
            ],
            [
             0.3333333333333333,
             "#9c179e"
            ],
            [
             0.4444444444444444,
             "#bd3786"
            ],
            [
             0.5555555555555556,
             "#d8576b"
            ],
            [
             0.6666666666666666,
             "#ed7953"
            ],
            [
             0.7777777777777778,
             "#fb9f3a"
            ],
            [
             0.8888888888888888,
             "#fdca26"
            ],
            [
             1,
             "#f0f921"
            ]
           ]
          },
          "colorway": [
           "#636efa",
           "#EF553B",
           "#00cc96",
           "#ab63fa",
           "#FFA15A",
           "#19d3f3",
           "#FF6692",
           "#B6E880",
           "#FF97FF",
           "#FECB52"
          ],
          "font": {
           "color": "#2a3f5f"
          },
          "geo": {
           "bgcolor": "white",
           "lakecolor": "white",
           "landcolor": "#E5ECF6",
           "showlakes": true,
           "showland": true,
           "subunitcolor": "white"
          },
          "hoverlabel": {
           "align": "left"
          },
          "hovermode": "closest",
          "mapbox": {
           "style": "light"
          },
          "paper_bgcolor": "white",
          "plot_bgcolor": "#E5ECF6",
          "polar": {
           "angularaxis": {
            "gridcolor": "white",
            "linecolor": "white",
            "ticks": ""
           },
           "bgcolor": "#E5ECF6",
           "radialaxis": {
            "gridcolor": "white",
            "linecolor": "white",
            "ticks": ""
           }
          },
          "scene": {
           "xaxis": {
            "backgroundcolor": "#E5ECF6",
            "gridcolor": "white",
            "gridwidth": 2,
            "linecolor": "white",
            "showbackground": true,
            "ticks": "",
            "zerolinecolor": "white"
           },
           "yaxis": {
            "backgroundcolor": "#E5ECF6",
            "gridcolor": "white",
            "gridwidth": 2,
            "linecolor": "white",
            "showbackground": true,
            "ticks": "",
            "zerolinecolor": "white"
           },
           "zaxis": {
            "backgroundcolor": "#E5ECF6",
            "gridcolor": "white",
            "gridwidth": 2,
            "linecolor": "white",
            "showbackground": true,
            "ticks": "",
            "zerolinecolor": "white"
           }
          },
          "shapedefaults": {
           "line": {
            "color": "#2a3f5f"
           }
          },
          "ternary": {
           "aaxis": {
            "gridcolor": "white",
            "linecolor": "white",
            "ticks": ""
           },
           "baxis": {
            "gridcolor": "white",
            "linecolor": "white",
            "ticks": ""
           },
           "bgcolor": "#E5ECF6",
           "caxis": {
            "gridcolor": "white",
            "linecolor": "white",
            "ticks": ""
           }
          },
          "title": {
           "x": 0.05
          },
          "xaxis": {
           "automargin": true,
           "gridcolor": "white",
           "linecolor": "white",
           "ticks": "",
           "title": {
            "standoff": 15
           },
           "zerolinecolor": "white",
           "zerolinewidth": 2
          },
          "yaxis": {
           "automargin": true,
           "gridcolor": "white",
           "linecolor": "white",
           "ticks": "",
           "title": {
            "standoff": 15
           },
           "zerolinecolor": "white",
           "zerolinewidth": 2
          }
         }
        },
        "xaxis": {
         "anchor": "y",
         "domain": [
          0,
          1
         ],
         "title": {
          "text": "rmse"
         }
        },
        "yaxis": {
         "anchor": "x",
         "domain": [
          0,
          1
         ],
         "title": {
          "text": "count"
         }
        }
       }
      }
     },
     "metadata": {},
     "output_type": "display_data"
    }
   ],
   "source": [
    "if filter_only_replicates:\n",
    "    mean_rmse = filtered_results.groupby(\"pipeline_hash\").agg({metric: \"mean\"})\n",
    "    min_mean_rmse = mean_rmse[metric].min()\n",
    "    max_mean_rmse = mean_rmse[metric].max()\n",
    "    fig = threshold_histogram(mean_rmse, metric, min_mean_rmse, max_mean_rmse, perf_of_mean)\n",
    "    fig.show()"
   ]
  },
  {
   "cell_type": "markdown",
   "metadata": {},
   "source": [
    "# Timing of different groups of model"
   ]
  },
  {
   "cell_type": "code",
   "execution_count": 433,
   "metadata": {},
   "outputs": [
    {
     "data": {
      "application/vnd.plotly.v1+json": {
       "config": {
        "plotlyServerURL": "https://plot.ly"
       },
       "data": [
        {
         "histnorm": "percent",
         "name": "Finetuned Models",
         "nbinsx": 20,
         "opacity": 0.75,
         "type": "histogram",
         "x": [
          882.8492946624756,
          1143.500595331192,
          1236.0353226661682,
          814.2662696838379,
          2699.957463979721,
          2190.218986272812,
          2664.5116555690765,
          632.5828633308411,
          2302.836770772934,
          755.6514563560486,
          1356.8473703861237,
          717.659654378891,
          2011.5444521903992,
          1195.0557444095612,
          951.9123919010162,
          1355.1680512428284,
          1947.310839176178,
          2904.8524298667908,
          526.9251718521118,
          1330.6997792720795,
          1965.602852344513,
          899.033004283905,
          1284.1115465164185,
          370.92692470550537,
          3035.735785484314,
          1258.8454902172089,
          467.7686839103699,
          2907.5499625205994,
          1327.5144245624542,
          785.5865478515625,
          1643.5375854969025,
          1496.0264420509338,
          3067.2033927440643,
          1305.739735841751,
          997.422621011734,
          573.1326584815979,
          1641.0395102500916,
          531.5079498291016,
          1183.592204093933,
          2571.6256790161133,
          625.4772970676422,
          682.2358145713806,
          2134.7591803073883,
          645.6134743690491,
          3288.903732776642,
          1656.3059327602386,
          836.4638800621033,
          401.81458139419556,
          641.4450240135193,
          860.9658930301666,
          549.8096389770508,
          557.7063546180725
         ]
        },
        {
         "histnorm": "percent",
         "name": "BOW Models",
         "nbinsx": 20,
         "opacity": 0.75,
         "type": "histogram",
         "x": [
          259.1421949863434,
          182.2441463470459,
          139.3632640838623,
          223.9703540802002,
          62.71604084968567,
          135.20250368118286,
          38.010382890701294,
          276.60615611076355,
          167.21178078651428,
          59.79376292228699,
          98.05800223350525,
          97.93638324737549,
          34.81584668159485,
          59.38450026512146,
          130.23854565620422,
          299.0747423171997,
          140.7666139602661,
          53.962833404541016,
          108.63075804710388,
          49.583860874176025,
          97.44899582862854,
          140.55179142951965,
          71.02688217163086,
          156.14286613464355,
          222.4297707080841,
          117.31262421607971,
          113.85762476921082,
          42.42844843864441,
          107.39616322517395,
          121.14804244041443,
          122.04994678497314,
          70.72088694572449,
          152.93073177337646,
          251.9578309059143,
          99.09323644638062,
          219.08795857429504,
          110.65160322189331,
          233.62145495414734,
          150.83270621299744,
          53.3202691078186,
          116.14187717437744,
          142.26846528053284,
          143.50533819198608,
          111.76745128631592,
          204.38762664794922,
          215.94368600845337,
          131.20424127578735,
          105.69221711158752,
          118.50436758995056,
          195.9453558921814,
          69.89170217514038,
          200.69280171394348,
          164.948801279068,
          77.63195419311523,
          282.0285849571228,
          67.66954445838928,
          39.65723752975464,
          308.16005635261536,
          45.44037103652954,
          42.64393591880798,
          52.17965245246887,
          133.49517011642456,
          43.88169074058533,
          192.1787555217743,
          52.64490795135498,
          37.71210694313049,
          74.09794020652771,
          74.60255312919617,
          129.67844796180725,
          45.318252086639404,
          33.79688096046448,
          59.53490209579468,
          42.15138816833496,
          133.17793369293213,
          68.62790751457214,
          49.58829689025879,
          114.39809274673462,
          55.07718372344971,
          50.74602127075195,
          43.96569895744324,
          61.998616456985474,
          65.95704007148743,
          117.73072242736816,
          51.39370012283325,
          57.70773434638977,
          48.03445291519165,
          52.15193223953247,
          26.95956778526306,
          74.59777498245239,
          135.79224133491516,
          113.41649198532104,
          28.215578079223633,
          125.51332449913025,
          54.0983521938324,
          37.8626708984375,
          44.548476457595825,
          48.473063945770264,
          56.785680294036865,
          51.06753969192505,
          119.76246547698975,
          39.152437925338745,
          120.7769467830658,
          96.14979457855225,
          46.911057233810425,
          103.95919728279114,
          43.18353509902954,
          81.43383502960205,
          98.07396054267883,
          39.37046957015991,
          89.87715601921082,
          42.868696212768555,
          32.652827978134155,
          20.590386867523193,
          88.62428975105286,
          110.49074077606201,
          86.81038880348206,
          35.634331464767456,
          25.004194974899292,
          94.13952398300171,
          124.72759962081909,
          94.39078259468079,
          194.60679507255554,
          26.38194966316223,
          30.814758777618408,
          89.34497475624084,
          103.64619326591492,
          263.7661256790161,
          54.456162452697754,
          60.96268439292908,
          16.055988788604736,
          30.150722980499268,
          13.548038482666016,
          55.27894306182861,
          76.95234632492065,
          158.0354356765747,
          33.15765190124512,
          50.323915004730225,
          69.92341041564941,
          108.4870297908783,
          66.98306822776794,
          52.31292915344238,
          38.7273108959198,
          65.12280535697937,
          111.95379781723022,
          113.12145376205444,
          30.027783632278442,
          52.60556411743164,
          41.647056102752686,
          208.94493317604065,
          86.20570015907288,
          36.97440791130066,
          62.3931999206543,
          33.85243582725525,
          54.68635320663452,
          200.80241465568542,
          97.58672857284546,
          32.88482427597046,
          165.53048992156982,
          201.0578579902649,
          89.6887595653534,
          66.33643555641174,
          27.83453345298767,
          92.251220703125,
          49.21373963356018,
          67.38097476959229,
          70.60941624641418,
          25.464848518371582,
          99.82962036132812,
          141.62130737304688,
          64.7446219921112,
          63.243807792663574,
          88.22817707061768,
          164.9592318534851,
          79.85111498832703,
          136.21737027168274,
          85.68048667907715,
          25.74218487739563,
          91.30227375030518,
          21.11073613166809,
          36.23959732055664,
          59.528918743133545,
          135.6505515575409,
          55.05564522743225,
          187.80782222747803,
          86.67580151557922,
          47.052218437194824,
          45.00798273086548,
          83.88033890724182,
          85.8448383808136,
          87.79555559158325,
          132.14746928215027,
          69.53631138801575,
          16.877477169036865,
          86.5557005405426,
          35.655739068984985,
          22.431588411331177,
          29.87655520439148,
          65.7157793045044,
          14.591090440750122,
          27.733052968978882,
          19.274993658065796,
          89.67503309249878,
          121.35360908508301,
          88.37795829772949,
          51.08922553062439,
          78.60582232475281,
          44.49854874610901,
          48.54597854614258,
          26.61520504951477,
          133.6071445941925,
          114.37585616111755,
          129.8383810520172,
          36.671990394592285,
          40.881768465042114,
          51.3088493347168,
          63.832396268844604,
          43.17889761924744,
          38.20263886451721,
          42.210054874420166,
          41.09742736816406,
          50.92632794380188,
          34.288336515426636,
          61.000773429870605,
          105.69097256660461,
          60.403757095336914,
          21.97536015510559,
          96.23717164993286,
          61.37627649307251,
          51.049458265304565,
          25.574970245361328,
          53.306469440460205,
          38.05140924453735,
          58.58051085472107,
          38.84385895729065,
          48.321757555007935,
          32.04717993736267,
          24.34170651435852,
          53.20414400100708,
          85.51052141189575,
          66.84738302230835,
          50.361942768096924,
          15.442787170410156,
          87.83052253723145,
          10.6210618019104,
          50.89386320114136,
          45.00373125076294,
          64.57825303077698,
          51.27969574928284,
          114.9188163280487,
          15.474775075912476,
          45.83940005302429,
          47.96253299713135,
          38.88787651062012,
          99.26022005081177,
          17.217767238616943,
          32.099175214767456,
          36.23814249038696,
          50.485299587249756,
          153.5040168762207,
          39.19299530982971,
          36.77217173576355,
          36.50892901420593,
          26.45640254020691,
          100.89230608940125,
          61.285561323165894,
          32.549474477767944,
          44.09716773033142,
          61.08152461051941,
          29.738757610321045,
          65.24666380882263,
          71.32760238647461,
          131.69703602790833,
          15.536585330963135,
          58.00491952896118,
          121.31980991363525,
          22.879159927368164,
          49.98072695732117,
          42.280534744262695,
          68.68553447723389,
          111.58456826210022,
          69.34227418899536,
          70.21955680847168,
          128.09143900871277,
          59.62204599380493,
          147.83124542236328,
          102.1151111125946,
          43.41823101043701,
          17.021724462509155,
          46.31576061248779,
          28.970595121383667,
          83.69512820243835,
          46.067020893096924,
          42.86885690689087,
          110.10362529754639,
          59.62915372848511,
          15.503150701522827,
          112.74543261528015,
          85.49738764762878,
          88.83775472640991,
          44.25360298156738,
          28.900975227355957,
          308.7886836528778,
          78.63649487495422,
          63.51355218887329
         ]
        }
       ],
       "layout": {
        "barmode": "overlay",
        "template": {
         "data": {
          "bar": [
           {
            "error_x": {
             "color": "#2a3f5f"
            },
            "error_y": {
             "color": "#2a3f5f"
            },
            "marker": {
             "line": {
              "color": "#E5ECF6",
              "width": 0.5
             },
             "pattern": {
              "fillmode": "overlay",
              "size": 10,
              "solidity": 0.2
             }
            },
            "type": "bar"
           }
          ],
          "barpolar": [
           {
            "marker": {
             "line": {
              "color": "#E5ECF6",
              "width": 0.5
             },
             "pattern": {
              "fillmode": "overlay",
              "size": 10,
              "solidity": 0.2
             }
            },
            "type": "barpolar"
           }
          ],
          "carpet": [
           {
            "aaxis": {
             "endlinecolor": "#2a3f5f",
             "gridcolor": "white",
             "linecolor": "white",
             "minorgridcolor": "white",
             "startlinecolor": "#2a3f5f"
            },
            "baxis": {
             "endlinecolor": "#2a3f5f",
             "gridcolor": "white",
             "linecolor": "white",
             "minorgridcolor": "white",
             "startlinecolor": "#2a3f5f"
            },
            "type": "carpet"
           }
          ],
          "choropleth": [
           {
            "colorbar": {
             "outlinewidth": 0,
             "ticks": ""
            },
            "type": "choropleth"
           }
          ],
          "contour": [
           {
            "colorbar": {
             "outlinewidth": 0,
             "ticks": ""
            },
            "colorscale": [
             [
              0,
              "#0d0887"
             ],
             [
              0.1111111111111111,
              "#46039f"
             ],
             [
              0.2222222222222222,
              "#7201a8"
             ],
             [
              0.3333333333333333,
              "#9c179e"
             ],
             [
              0.4444444444444444,
              "#bd3786"
             ],
             [
              0.5555555555555556,
              "#d8576b"
             ],
             [
              0.6666666666666666,
              "#ed7953"
             ],
             [
              0.7777777777777778,
              "#fb9f3a"
             ],
             [
              0.8888888888888888,
              "#fdca26"
             ],
             [
              1,
              "#f0f921"
             ]
            ],
            "type": "contour"
           }
          ],
          "contourcarpet": [
           {
            "colorbar": {
             "outlinewidth": 0,
             "ticks": ""
            },
            "type": "contourcarpet"
           }
          ],
          "heatmap": [
           {
            "colorbar": {
             "outlinewidth": 0,
             "ticks": ""
            },
            "colorscale": [
             [
              0,
              "#0d0887"
             ],
             [
              0.1111111111111111,
              "#46039f"
             ],
             [
              0.2222222222222222,
              "#7201a8"
             ],
             [
              0.3333333333333333,
              "#9c179e"
             ],
             [
              0.4444444444444444,
              "#bd3786"
             ],
             [
              0.5555555555555556,
              "#d8576b"
             ],
             [
              0.6666666666666666,
              "#ed7953"
             ],
             [
              0.7777777777777778,
              "#fb9f3a"
             ],
             [
              0.8888888888888888,
              "#fdca26"
             ],
             [
              1,
              "#f0f921"
             ]
            ],
            "type": "heatmap"
           }
          ],
          "heatmapgl": [
           {
            "colorbar": {
             "outlinewidth": 0,
             "ticks": ""
            },
            "colorscale": [
             [
              0,
              "#0d0887"
             ],
             [
              0.1111111111111111,
              "#46039f"
             ],
             [
              0.2222222222222222,
              "#7201a8"
             ],
             [
              0.3333333333333333,
              "#9c179e"
             ],
             [
              0.4444444444444444,
              "#bd3786"
             ],
             [
              0.5555555555555556,
              "#d8576b"
             ],
             [
              0.6666666666666666,
              "#ed7953"
             ],
             [
              0.7777777777777778,
              "#fb9f3a"
             ],
             [
              0.8888888888888888,
              "#fdca26"
             ],
             [
              1,
              "#f0f921"
             ]
            ],
            "type": "heatmapgl"
           }
          ],
          "histogram": [
           {
            "marker": {
             "pattern": {
              "fillmode": "overlay",
              "size": 10,
              "solidity": 0.2
             }
            },
            "type": "histogram"
           }
          ],
          "histogram2d": [
           {
            "colorbar": {
             "outlinewidth": 0,
             "ticks": ""
            },
            "colorscale": [
             [
              0,
              "#0d0887"
             ],
             [
              0.1111111111111111,
              "#46039f"
             ],
             [
              0.2222222222222222,
              "#7201a8"
             ],
             [
              0.3333333333333333,
              "#9c179e"
             ],
             [
              0.4444444444444444,
              "#bd3786"
             ],
             [
              0.5555555555555556,
              "#d8576b"
             ],
             [
              0.6666666666666666,
              "#ed7953"
             ],
             [
              0.7777777777777778,
              "#fb9f3a"
             ],
             [
              0.8888888888888888,
              "#fdca26"
             ],
             [
              1,
              "#f0f921"
             ]
            ],
            "type": "histogram2d"
           }
          ],
          "histogram2dcontour": [
           {
            "colorbar": {
             "outlinewidth": 0,
             "ticks": ""
            },
            "colorscale": [
             [
              0,
              "#0d0887"
             ],
             [
              0.1111111111111111,
              "#46039f"
             ],
             [
              0.2222222222222222,
              "#7201a8"
             ],
             [
              0.3333333333333333,
              "#9c179e"
             ],
             [
              0.4444444444444444,
              "#bd3786"
             ],
             [
              0.5555555555555556,
              "#d8576b"
             ],
             [
              0.6666666666666666,
              "#ed7953"
             ],
             [
              0.7777777777777778,
              "#fb9f3a"
             ],
             [
              0.8888888888888888,
              "#fdca26"
             ],
             [
              1,
              "#f0f921"
             ]
            ],
            "type": "histogram2dcontour"
           }
          ],
          "mesh3d": [
           {
            "colorbar": {
             "outlinewidth": 0,
             "ticks": ""
            },
            "type": "mesh3d"
           }
          ],
          "parcoords": [
           {
            "line": {
             "colorbar": {
              "outlinewidth": 0,
              "ticks": ""
             }
            },
            "type": "parcoords"
           }
          ],
          "pie": [
           {
            "automargin": true,
            "type": "pie"
           }
          ],
          "scatter": [
           {
            "fillpattern": {
             "fillmode": "overlay",
             "size": 10,
             "solidity": 0.2
            },
            "type": "scatter"
           }
          ],
          "scatter3d": [
           {
            "line": {
             "colorbar": {
              "outlinewidth": 0,
              "ticks": ""
             }
            },
            "marker": {
             "colorbar": {
              "outlinewidth": 0,
              "ticks": ""
             }
            },
            "type": "scatter3d"
           }
          ],
          "scattercarpet": [
           {
            "marker": {
             "colorbar": {
              "outlinewidth": 0,
              "ticks": ""
             }
            },
            "type": "scattercarpet"
           }
          ],
          "scattergeo": [
           {
            "marker": {
             "colorbar": {
              "outlinewidth": 0,
              "ticks": ""
             }
            },
            "type": "scattergeo"
           }
          ],
          "scattergl": [
           {
            "marker": {
             "colorbar": {
              "outlinewidth": 0,
              "ticks": ""
             }
            },
            "type": "scattergl"
           }
          ],
          "scattermapbox": [
           {
            "marker": {
             "colorbar": {
              "outlinewidth": 0,
              "ticks": ""
             }
            },
            "type": "scattermapbox"
           }
          ],
          "scatterpolar": [
           {
            "marker": {
             "colorbar": {
              "outlinewidth": 0,
              "ticks": ""
             }
            },
            "type": "scatterpolar"
           }
          ],
          "scatterpolargl": [
           {
            "marker": {
             "colorbar": {
              "outlinewidth": 0,
              "ticks": ""
             }
            },
            "type": "scatterpolargl"
           }
          ],
          "scatterternary": [
           {
            "marker": {
             "colorbar": {
              "outlinewidth": 0,
              "ticks": ""
             }
            },
            "type": "scatterternary"
           }
          ],
          "surface": [
           {
            "colorbar": {
             "outlinewidth": 0,
             "ticks": ""
            },
            "colorscale": [
             [
              0,
              "#0d0887"
             ],
             [
              0.1111111111111111,
              "#46039f"
             ],
             [
              0.2222222222222222,
              "#7201a8"
             ],
             [
              0.3333333333333333,
              "#9c179e"
             ],
             [
              0.4444444444444444,
              "#bd3786"
             ],
             [
              0.5555555555555556,
              "#d8576b"
             ],
             [
              0.6666666666666666,
              "#ed7953"
             ],
             [
              0.7777777777777778,
              "#fb9f3a"
             ],
             [
              0.8888888888888888,
              "#fdca26"
             ],
             [
              1,
              "#f0f921"
             ]
            ],
            "type": "surface"
           }
          ],
          "table": [
           {
            "cells": {
             "fill": {
              "color": "#EBF0F8"
             },
             "line": {
              "color": "white"
             }
            },
            "header": {
             "fill": {
              "color": "#C8D4E3"
             },
             "line": {
              "color": "white"
             }
            },
            "type": "table"
           }
          ]
         },
         "layout": {
          "annotationdefaults": {
           "arrowcolor": "#2a3f5f",
           "arrowhead": 0,
           "arrowwidth": 1
          },
          "autotypenumbers": "strict",
          "coloraxis": {
           "colorbar": {
            "outlinewidth": 0,
            "ticks": ""
           }
          },
          "colorscale": {
           "diverging": [
            [
             0,
             "#8e0152"
            ],
            [
             0.1,
             "#c51b7d"
            ],
            [
             0.2,
             "#de77ae"
            ],
            [
             0.3,
             "#f1b6da"
            ],
            [
             0.4,
             "#fde0ef"
            ],
            [
             0.5,
             "#f7f7f7"
            ],
            [
             0.6,
             "#e6f5d0"
            ],
            [
             0.7,
             "#b8e186"
            ],
            [
             0.8,
             "#7fbc41"
            ],
            [
             0.9,
             "#4d9221"
            ],
            [
             1,
             "#276419"
            ]
           ],
           "sequential": [
            [
             0,
             "#0d0887"
            ],
            [
             0.1111111111111111,
             "#46039f"
            ],
            [
             0.2222222222222222,
             "#7201a8"
            ],
            [
             0.3333333333333333,
             "#9c179e"
            ],
            [
             0.4444444444444444,
             "#bd3786"
            ],
            [
             0.5555555555555556,
             "#d8576b"
            ],
            [
             0.6666666666666666,
             "#ed7953"
            ],
            [
             0.7777777777777778,
             "#fb9f3a"
            ],
            [
             0.8888888888888888,
             "#fdca26"
            ],
            [
             1,
             "#f0f921"
            ]
           ],
           "sequentialminus": [
            [
             0,
             "#0d0887"
            ],
            [
             0.1111111111111111,
             "#46039f"
            ],
            [
             0.2222222222222222,
             "#7201a8"
            ],
            [
             0.3333333333333333,
             "#9c179e"
            ],
            [
             0.4444444444444444,
             "#bd3786"
            ],
            [
             0.5555555555555556,
             "#d8576b"
            ],
            [
             0.6666666666666666,
             "#ed7953"
            ],
            [
             0.7777777777777778,
             "#fb9f3a"
            ],
            [
             0.8888888888888888,
             "#fdca26"
            ],
            [
             1,
             "#f0f921"
            ]
           ]
          },
          "colorway": [
           "#636efa",
           "#EF553B",
           "#00cc96",
           "#ab63fa",
           "#FFA15A",
           "#19d3f3",
           "#FF6692",
           "#B6E880",
           "#FF97FF",
           "#FECB52"
          ],
          "font": {
           "color": "#2a3f5f"
          },
          "geo": {
           "bgcolor": "white",
           "lakecolor": "white",
           "landcolor": "#E5ECF6",
           "showlakes": true,
           "showland": true,
           "subunitcolor": "white"
          },
          "hoverlabel": {
           "align": "left"
          },
          "hovermode": "closest",
          "mapbox": {
           "style": "light"
          },
          "paper_bgcolor": "white",
          "plot_bgcolor": "#E5ECF6",
          "polar": {
           "angularaxis": {
            "gridcolor": "white",
            "linecolor": "white",
            "ticks": ""
           },
           "bgcolor": "#E5ECF6",
           "radialaxis": {
            "gridcolor": "white",
            "linecolor": "white",
            "ticks": ""
           }
          },
          "scene": {
           "xaxis": {
            "backgroundcolor": "#E5ECF6",
            "gridcolor": "white",
            "gridwidth": 2,
            "linecolor": "white",
            "showbackground": true,
            "ticks": "",
            "zerolinecolor": "white"
           },
           "yaxis": {
            "backgroundcolor": "#E5ECF6",
            "gridcolor": "white",
            "gridwidth": 2,
            "linecolor": "white",
            "showbackground": true,
            "ticks": "",
            "zerolinecolor": "white"
           },
           "zaxis": {
            "backgroundcolor": "#E5ECF6",
            "gridcolor": "white",
            "gridwidth": 2,
            "linecolor": "white",
            "showbackground": true,
            "ticks": "",
            "zerolinecolor": "white"
           }
          },
          "shapedefaults": {
           "line": {
            "color": "#2a3f5f"
           }
          },
          "ternary": {
           "aaxis": {
            "gridcolor": "white",
            "linecolor": "white",
            "ticks": ""
           },
           "baxis": {
            "gridcolor": "white",
            "linecolor": "white",
            "ticks": ""
           },
           "bgcolor": "#E5ECF6",
           "caxis": {
            "gridcolor": "white",
            "linecolor": "white",
            "ticks": ""
           }
          },
          "title": {
           "x": 0.05
          },
          "xaxis": {
           "automargin": true,
           "gridcolor": "white",
           "linecolor": "white",
           "ticks": "",
           "title": {
            "standoff": 15
           },
           "zerolinecolor": "white",
           "zerolinewidth": 2
          },
          "yaxis": {
           "automargin": true,
           "gridcolor": "white",
           "linecolor": "white",
           "ticks": "",
           "title": {
            "standoff": 15
           },
           "zerolinecolor": "white",
           "zerolinewidth": 2
          }
         }
        },
        "title": {
         "text": "Training Time Distribution: Finetuned vs BOW Models"
        },
        "xaxis": {
         "title": {
          "text": "Total Training Time (s)"
         }
        },
        "yaxis": {
         "title": {
          "text": "Count"
         }
        }
       }
      }
     },
     "metadata": {},
     "output_type": "display_data"
    }
   ],
   "source": [
    "# Create histogram comparing timing of finetuned vs non-finetuned models\n",
    "ft_pipelines = filtered_results[filtered_results[\"model\"].str.contains(\"_ft\", na=False)].copy()\n",
    "bow_pipelines = filtered_results[filtered_results[\"featuriser\"].isin([\"bow_binary\", \"bow_count\", \"tf_idf\"])].copy()\n",
    "ft_times = ft_pipelines[\"total_time\"].values\n",
    "bow_times = bow_pipelines[\"total_time\"].values\n",
    "\n",
    "fig = go.Figure()\n",
    "fig.add_trace(go.Histogram(x=ft_times, name=\"Finetuned Models\", histnorm=\"percent\", nbinsx=20))\n",
    "fig.add_trace(go.Histogram(x=bow_times, name=\"BOW Models\", histnorm=\"percent\", nbinsx=20))\n",
    "\n",
    "fig.update_layout(\n",
    "    title=\"Training Time Distribution: Finetuned vs BOW Models\",\n",
    "    xaxis_title=\"Total Training Time (s)\",\n",
    "    yaxis_title=\"Count\",\n",
    "    barmode='overlay'\n",
    ")\n",
    "\n",
    "fig.update_traces(opacity=0.75)\n",
    "fig.write_image(OUTPUT_DIR / f\"{dataset}_{config_str}_timing_histogram.{image_ext}\")\n",
    "fig.show()\n"
   ]
  },
  {
   "cell_type": "code",
   "execution_count": 434,
   "metadata": {},
   "outputs": [
    {
     "data": {
      "text/html": [
       "<div>\n",
       "<style scoped>\n",
       "    .dataframe tbody tr th:only-of-type {\n",
       "        vertical-align: middle;\n",
       "    }\n",
       "\n",
       "    .dataframe tbody tr th {\n",
       "        vertical-align: top;\n",
       "    }\n",
       "\n",
       "    .dataframe thead th {\n",
       "        text-align: right;\n",
       "    }\n",
       "</style>\n",
       "<table border=\"1\" class=\"dataframe\">\n",
       "  <thead>\n",
       "    <tr style=\"text-align: right;\">\n",
       "      <th></th>\n",
       "      <th>dataset</th>\n",
       "      <th>mean-difference (BOW - FT)</th>\n",
       "      <th>p_value</th>\n",
       "    </tr>\n",
       "  </thead>\n",
       "  <tbody>\n",
       "    <tr>\n",
       "      <th>0</th>\n",
       "      <td>obl</td>\n",
       "      <td>-1298.536568</td>\n",
       "      <td>0.00001</td>\n",
       "    </tr>\n",
       "  </tbody>\n",
       "</table>\n",
       "</div>"
      ],
      "text/plain": [
       "  dataset  mean-difference (BOW - FT)  p_value\n",
       "0     obl                -1298.536568  0.00001"
      ]
     },
     "metadata": {},
     "output_type": "display_data"
    }
   ],
   "source": [
    "p_value, diff = permutation_test(bow_times, ft_times)\n",
    "\n",
    "results = pd.DataFrame({\n",
    "    \"dataset\": [dataset_name_map[dataset]],\n",
    "    \"mean-difference (BOW - FT)\": [diff],\n",
    "    \"p_value\": [p_value],\n",
    "})\n",
    "\n",
    "display(results)\n",
    "\n",
    "latex_table = results.to_latex(float_format=simple_format, index=False)\n",
    "latex_table = process_latex_table(latex_table)\n",
    "with open(table_dir / f\"{dataset}_{config_str}_time_permutation_test.tex\", \"w\") as f:\n",
    "    f.write(latex_table)\n"
   ]
  },
  {
   "cell_type": "markdown",
   "metadata": {},
   "source": [
    "# Reduction from best to worst pipeline conditional on model"
   ]
  },
  {
   "cell_type": "code",
   "execution_count": 435,
   "metadata": {},
   "outputs": [
    {
     "data": {
      "text/html": [
       "<div>\n",
       "<style scoped>\n",
       "    .dataframe tbody tr th:only-of-type {\n",
       "        vertical-align: middle;\n",
       "    }\n",
       "\n",
       "    .dataframe tbody tr th {\n",
       "        vertical-align: top;\n",
       "    }\n",
       "\n",
       "    .dataframe thead th {\n",
       "        text-align: right;\n",
       "    }\n",
       "</style>\n",
       "<table border=\"1\" class=\"dataframe\">\n",
       "  <thead>\n",
       "    <tr style=\"text-align: right;\">\n",
       "      <th></th>\n",
       "      <th>idx</th>\n",
       "      <th>preprocessers</th>\n",
       "      <th>tokeniser</th>\n",
       "      <th>featuriser</th>\n",
       "      <th>model</th>\n",
       "      <th>total_time</th>\n",
       "      <th>preprocess_time</th>\n",
       "      <th>model_time</th>\n",
       "      <th>rmse_train</th>\n",
       "      <th>rmse_val</th>\n",
       "      <th>...</th>\n",
       "      <th>r2_train</th>\n",
       "      <th>r2_val</th>\n",
       "      <th>r2_test</th>\n",
       "      <th>medae_train</th>\n",
       "      <th>medae_val</th>\n",
       "      <th>medae_test</th>\n",
       "      <th>finetune</th>\n",
       "      <th>seed</th>\n",
       "      <th>preprocesser(s)</th>\n",
       "      <th>pipeline_hash</th>\n",
       "    </tr>\n",
       "  </thead>\n",
       "  <tbody>\n",
       "    <tr>\n",
       "      <th>0</th>\n",
       "      <td>721</td>\n",
       "      <td>[no_stopwords_nltk]</td>\n",
       "      <td>bert</td>\n",
       "      <td>bert_mean</td>\n",
       "      <td>mlp_ft</td>\n",
       "      <td>882.849295</td>\n",
       "      <td>27.127307</td>\n",
       "      <td>855.721988</td>\n",
       "      <td>312632.655761</td>\n",
       "      <td>347906.523124</td>\n",
       "      <td>...</td>\n",
       "      <td>0.802609</td>\n",
       "      <td>0.187581</td>\n",
       "      <td>0.437324</td>\n",
       "      <td>56293.304688</td>\n",
       "      <td>78129.964752</td>\n",
       "      <td>77999.021606</td>\n",
       "      <td>True</td>\n",
       "      <td>1</td>\n",
       "      <td>NSN</td>\n",
       "      <td>-365488063582128812</td>\n",
       "    </tr>\n",
       "    <tr>\n",
       "      <th>1</th>\n",
       "      <td>569</td>\n",
       "      <td>[empty]</td>\n",
       "      <td>bert</td>\n",
       "      <td>bert_cls</td>\n",
       "      <td>deep_linear_ft</td>\n",
       "      <td>1143.500595</td>\n",
       "      <td>17.745727</td>\n",
       "      <td>1125.754869</td>\n",
       "      <td>294493.771088</td>\n",
       "      <td>310971.115851</td>\n",
       "      <td>...</td>\n",
       "      <td>0.824610</td>\n",
       "      <td>0.362104</td>\n",
       "      <td>0.426940</td>\n",
       "      <td>23241.000000</td>\n",
       "      <td>71045.010742</td>\n",
       "      <td>69712.906250</td>\n",
       "      <td>True</td>\n",
       "      <td>2</td>\n",
       "      <td>empty</td>\n",
       "      <td>-5606085006502300781</td>\n",
       "    </tr>\n",
       "  </tbody>\n",
       "</table>\n",
       "<p>2 rows × 24 columns</p>\n",
       "</div>"
      ],
      "text/plain": [
       "   idx        preprocessers tokeniser featuriser           model   total_time  \\\n",
       "0  721  [no_stopwords_nltk]      bert  bert_mean          mlp_ft   882.849295   \n",
       "1  569              [empty]      bert   bert_cls  deep_linear_ft  1143.500595   \n",
       "\n",
       "   preprocess_time   model_time     rmse_train       rmse_val  ...  r2_train  \\\n",
       "0        27.127307   855.721988  312632.655761  347906.523124  ...  0.802609   \n",
       "1        17.745727  1125.754869  294493.771088  310971.115851  ...  0.824610   \n",
       "\n",
       "     r2_val   r2_test   medae_train     medae_val    medae_test  finetune  \\\n",
       "0  0.187581  0.437324  56293.304688  78129.964752  77999.021606      True   \n",
       "1  0.362104  0.426940  23241.000000  71045.010742  69712.906250      True   \n",
       "\n",
       "   seed  preprocesser(s)        pipeline_hash  \n",
       "0     1              NSN  -365488063582128812  \n",
       "1     2            empty -5606085006502300781  \n",
       "\n",
       "[2 rows x 24 columns]"
      ]
     },
     "execution_count": 435,
     "metadata": {},
     "output_type": "execute_result"
    }
   ],
   "source": [
    "filtered_results.head(2)"
   ]
  },
  {
   "cell_type": "markdown",
   "metadata": {},
   "source": [
    "## Raw total reduction"
   ]
  },
  {
   "cell_type": "code",
   "execution_count": 449,
   "metadata": {},
   "outputs": [],
   "source": [
    "worst_to_best_df = filtered_results.copy()"
   ]
  },
  {
   "cell_type": "code",
   "execution_count": 456,
   "metadata": {},
   "outputs": [
    {
     "data": {
      "text/html": [
       "<div>\n",
       "<style scoped>\n",
       "    .dataframe tbody tr th:only-of-type {\n",
       "        vertical-align: middle;\n",
       "    }\n",
       "\n",
       "    .dataframe tbody tr th {\n",
       "        vertical-align: top;\n",
       "    }\n",
       "\n",
       "    .dataframe thead th {\n",
       "        text-align: right;\n",
       "    }\n",
       "</style>\n",
       "<table border=\"1\" class=\"dataframe\">\n",
       "  <thead>\n",
       "    <tr style=\"text-align: right;\">\n",
       "      <th></th>\n",
       "      <th>catboost</th>\n",
       "      <th>deep_linear</th>\n",
       "      <th>deep_linear_ft</th>\n",
       "      <th>mlp</th>\n",
       "      <th>mlp_ft</th>\n",
       "      <th>resnet</th>\n",
       "      <th>resnet_ft</th>\n",
       "      <th>xgboost</th>\n",
       "    </tr>\n",
       "  </thead>\n",
       "  <tbody>\n",
       "    <tr>\n",
       "      <th>reduction</th>\n",
       "      <td>16.461563</td>\n",
       "      <td>18.696972</td>\n",
       "      <td>12.941351</td>\n",
       "      <td>25.069113</td>\n",
       "      <td>20.147586</td>\n",
       "      <td>15.964982</td>\n",
       "      <td>16.908434</td>\n",
       "      <td>56.351265</td>\n",
       "    </tr>\n",
       "    <tr>\n",
       "      <th>best</th>\n",
       "      <td>394155.943720</td>\n",
       "      <td>366433.594525</td>\n",
       "      <td>337746.866655</td>\n",
       "      <td>361421.341939</td>\n",
       "      <td>334672.924494</td>\n",
       "      <td>390477.780873</td>\n",
       "      <td>357138.704818</td>\n",
       "      <td>376578.984750</td>\n",
       "    </tr>\n",
       "    <tr>\n",
       "      <th>worst</th>\n",
       "      <td>471825.854240</td>\n",
       "      <td>450701.039501</td>\n",
       "      <td>387953.257554</td>\n",
       "      <td>482339.599134</td>\n",
       "      <td>419114.347742</td>\n",
       "      <td>464660.793763</td>\n",
       "      <td>429813.423372</td>\n",
       "      <td>862748.911720</td>\n",
       "    </tr>\n",
       "    <tr>\n",
       "      <th>sem</th>\n",
       "      <td>609.312972</td>\n",
       "      <td>2166.518622</td>\n",
       "      <td>3191.938797</td>\n",
       "      <td>2873.730175</td>\n",
       "      <td>6836.656431</td>\n",
       "      <td>1720.606747</td>\n",
       "      <td>4085.463558</td>\n",
       "      <td>6982.615430</td>\n",
       "    </tr>\n",
       "  </tbody>\n",
       "</table>\n",
       "</div>"
      ],
      "text/plain": [
       "                catboost    deep_linear  deep_linear_ft            mlp  \\\n",
       "reduction      16.461563      18.696972       12.941351      25.069113   \n",
       "best       394155.943720  366433.594525   337746.866655  361421.341939   \n",
       "worst      471825.854240  450701.039501   387953.257554  482339.599134   \n",
       "sem           609.312972    2166.518622     3191.938797    2873.730175   \n",
       "\n",
       "                  mlp_ft         resnet      resnet_ft        xgboost  \n",
       "reduction      20.147586      15.964982      16.908434      56.351265  \n",
       "best       334672.924494  390477.780873  357138.704818  376578.984750  \n",
       "worst      419114.347742  464660.793763  429813.423372  862748.911720  \n",
       "sem          6836.656431    1720.606747    4085.463558    6982.615430  "
      ]
     },
     "metadata": {},
     "output_type": "display_data"
    },
    {
     "name": "stdout",
     "output_type": "stream",
     "text": [
      "Unconditional reduction in error: 61.21%\n"
     ]
    }
   ],
   "source": [
    "table_dir.mkdir(exist_ok=True, parents=True)\n",
    "def calc_reduction_in_error(df: pd.DataFrame, metric: str):\n",
    "    df = df.copy()\n",
    "    very_best = df[metric].sort_values().head(1).values[0]\n",
    "    very_worst = df[metric].sort_values().tail(1).values[0]\n",
    "    reduction_in_error = dict()\n",
    "    unconditional_reduction_in_error = (very_worst - very_best) / very_worst * 100\n",
    "    unique_models = df[\"model\"].unique()\n",
    "    for model in unique_models:\n",
    "        model_results = df[df[\"model\"] == model]\n",
    "        very_best = model_results[metric].sort_values().head(1).values[0]\n",
    "        very_worst = model_results[metric].sort_values().tail(1).values[0]\n",
    "        reduction_in_error[model] = {\n",
    "            \"reduction\": (very_worst - very_best) / very_worst * 100,\n",
    "            \"best\": very_best,\n",
    "            \"worst\": very_worst,\n",
    "            \"sem\": model_results[metric].sem()\n",
    "        }\n",
    "\n",
    "    reduction_in_error = pd.DataFrame(reduction_in_error).sort_index(axis=1)\n",
    "    return reduction_in_error, unconditional_reduction_in_error\n",
    "\n",
    "reduction_in_error, unconditional_reduction_in_error = calc_reduction_in_error(worst_to_best_df, metric)\n",
    "display(reduction_in_error)\n",
    "\n",
    "latex_table = reduction_in_error.to_latex(float_format=simple_format)\n",
    "latex_table = process_latex_table(latex_table)\n",
    "\n",
    "with open(table_dir / f\"{dataset}_{config_str}_reduction_in_error.tex\", \"w\") as f:\n",
    "    f.write(latex_table)\n",
    "print(f\"Unconditional reduction in error: {unconditional_reduction_in_error:.2f}%\")"
   ]
  },
  {
   "cell_type": "markdown",
   "metadata": {},
   "source": [
    "## Mean pipeline reduction"
   ]
  },
  {
   "cell_type": "markdown",
   "metadata": {},
   "source": [
    "Can be a bit more precise if we take averages of replicates so we do not conflate variability; but a bit harder to interpret as averaging naturally can reduce variance"
   ]
  },
  {
   "cell_type": "code",
   "execution_count": 459,
   "metadata": {},
   "outputs": [
    {
     "data": {
      "text/html": [
       "<div>\n",
       "<style scoped>\n",
       "    .dataframe tbody tr th:only-of-type {\n",
       "        vertical-align: middle;\n",
       "    }\n",
       "\n",
       "    .dataframe tbody tr th {\n",
       "        vertical-align: top;\n",
       "    }\n",
       "\n",
       "    .dataframe thead th {\n",
       "        text-align: right;\n",
       "    }\n",
       "</style>\n",
       "<table border=\"1\" class=\"dataframe\">\n",
       "  <thead>\n",
       "    <tr style=\"text-align: right;\">\n",
       "      <th></th>\n",
       "      <th>catboost</th>\n",
       "      <th>deep_linear</th>\n",
       "      <th>deep_linear_ft</th>\n",
       "      <th>mlp</th>\n",
       "      <th>mlp_ft</th>\n",
       "      <th>resnet</th>\n",
       "      <th>resnet_ft</th>\n",
       "      <th>xgboost</th>\n",
       "    </tr>\n",
       "  </thead>\n",
       "  <tbody>\n",
       "    <tr>\n",
       "      <th>reduction</th>\n",
       "      <td>4.578743</td>\n",
       "      <td>17.248734</td>\n",
       "      <td>4.276870</td>\n",
       "      <td>21.557073</td>\n",
       "      <td>4.217479</td>\n",
       "      <td>9.014470</td>\n",
       "      <td>7.332287</td>\n",
       "      <td>27.674745</td>\n",
       "    </tr>\n",
       "    <tr>\n",
       "      <th>best</th>\n",
       "      <td>432137.574607</td>\n",
       "      <td>371669.056646</td>\n",
       "      <td>350867.200857</td>\n",
       "      <td>367445.975190</td>\n",
       "      <td>367336.171585</td>\n",
       "      <td>407425.879770</td>\n",
       "      <td>374181.006172</td>\n",
       "      <td>403536.037431</td>\n",
       "    </tr>\n",
       "    <tr>\n",
       "      <th>worst</th>\n",
       "      <td>452873.488251</td>\n",
       "      <td>449140.025079</td>\n",
       "      <td>366543.803222</td>\n",
       "      <td>468424.608811</td>\n",
       "      <td>383510.651617</td>\n",
       "      <td>447791.953240</td>\n",
       "      <td>403787.892242</td>\n",
       "      <td>557946.234553</td>\n",
       "    </tr>\n",
       "    <tr>\n",
       "      <th>sem</th>\n",
       "      <td>687.317437</td>\n",
       "      <td>4274.857367</td>\n",
       "      <td>2958.890549</td>\n",
       "      <td>5670.963741</td>\n",
       "      <td>4896.140624</td>\n",
       "      <td>2517.404072</td>\n",
       "      <td>5580.987561</td>\n",
       "      <td>8071.425854</td>\n",
       "    </tr>\n",
       "  </tbody>\n",
       "</table>\n",
       "</div>"
      ],
      "text/plain": [
       "                catboost    deep_linear  deep_linear_ft            mlp  \\\n",
       "reduction       4.578743      17.248734        4.276870      21.557073   \n",
       "best       432137.574607  371669.056646   350867.200857  367445.975190   \n",
       "worst      452873.488251  449140.025079   366543.803222  468424.608811   \n",
       "sem           687.317437    4274.857367     2958.890549    5670.963741   \n",
       "\n",
       "                  mlp_ft         resnet      resnet_ft        xgboost  \n",
       "reduction       4.217479       9.014470       7.332287      27.674745  \n",
       "best       367336.171585  407425.879770  374181.006172  403536.037431  \n",
       "worst      383510.651617  447791.953240  403787.892242  557946.234553  \n",
       "sem          4896.140624    2517.404072    5580.987561    8071.425854  "
      ]
     },
     "metadata": {},
     "output_type": "display_data"
    },
    {
     "name": "stdout",
     "output_type": "stream",
     "text": [
      "Unconditional reduction in error: 37.11%\n"
     ]
    }
   ],
   "source": [
    "worst_to_best_df_average_replicates = filtered_results.groupby(hash_cols).agg({metric: \"mean\"}).reset_index()\n",
    "reduction_in_error, unconditional_reduction_in_error = calc_reduction_in_error(worst_to_best_df_average_replicates, metric)\n",
    "display(reduction_in_error)\n",
    "\n",
    "latex_table = reduction_in_error.to_latex(float_format=simple_format)\n",
    "latex_table = process_latex_table(latex_table)\n",
    "\n",
    "with open(table_dir / f\"{dataset}_{config_str}_reduction_in_error_mean.tex\", \"w\") as f:\n",
    "    f.write(latex_table)\n",
    "print(f\"Unconditional reduction in error: {unconditional_reduction_in_error:.2f}%\")\n"
   ]
  },
  {
   "cell_type": "markdown",
   "metadata": {},
   "source": [
    "# Outlier filtering"
   ]
  },
  {
   "cell_type": "markdown",
   "metadata": {},
   "source": [
    "If the range of interest is compressed by outliers for plots we can filter them below; following config from above"
   ]
  },
  {
   "cell_type": "code",
   "execution_count": 256,
   "metadata": {},
   "outputs": [],
   "source": [
    "# Filter top k\n",
    "if filter_out_worst:\n",
    "    k = filter_worst_k_for[dataset]\n",
    "else: \n",
    "    k = 0\n",
    "worst = filtered_results.sort_values(metric).tail(k)\n",
    "results_df = filtered_results[~filtered_results.index.isin(worst.index)]"
   ]
  },
  {
   "cell_type": "code",
   "execution_count": 257,
   "metadata": {},
   "outputs": [
    {
     "data": {
      "application/vnd.plotly.v1+json": {
       "config": {
        "plotlyServerURL": "https://plot.ly"
       },
       "data": [
        {
         "alignmentgroup": "True",
         "bingroup": "x",
         "hovertemplate": "rmse=%{x}<br>count=%{y}<extra></extra>",
         "legendgroup": "",
         "marker": {
          "color": "#636efa",
          "pattern": {
           "shape": ""
          }
         },
         "name": "",
         "nbinsx": 100,
         "offsetgroup": "",
         "orientation": "v",
         "showlegend": false,
         "type": "histogram",
         "x": [
          334672.92449431383,
          337746.86665508786,
          339429.7416737401,
          343361.3299350616,
          346313.46323340846,
          346809.51221742004,
          348540.27524561045,
          349111.8787168715,
          349702.19851147896,
          350960.2007643338,
          352394.7043239373,
          352763.5305858744,
          353284.9527075714,
          354193.5621144301,
          355669.7413590963,
          356326.4180732475,
          357138.704818284,
          357720.2200352138,
          358523.73346031795,
          358526.79820114473,
          361421.34193893836,
          361746.952636373,
          363053.0053446076,
          363199.5183173384,
          366211.90365923493,
          366433.5945247364,
          366746.5185878444,
          367595.66886785923,
          368390.24026379496,
          369647.6921583041,
          369982.5508239216,
          370369.5941213323,
          370754.7897793784,
          370967.63447614777,
          371335.8866625337,
          371710.9012912332,
          372168.10433634423,
          372846.7401907872,
          372924.9139539685,
          373069.9661529323,
          373225.84782664146,
          373415.95706602617,
          374638.94714777824,
          374681.4216982677,
          374971.0933159639,
          374974.0654724613,
          375919.61035550566,
          376259.96339778986,
          376562.9283245224,
          376578.98475005815,
          377825.7445526781,
          378061.822816205,
          378563.370350385,
          379047.67152541014,
          379145.85592737433,
          380046.4860495535,
          380451.53508466046,
          381009.5184730367,
          381119.52544397546,
          381163.7805688142,
          381884.7485880463,
          381955.0499252306,
          382122.578352095,
          382397.844844982,
          382404.38099533704,
          382483.3308421783,
          382600.552463905,
          383454.1870425049,
          383542.55913557834,
          383751.7030650158,
          383929.9266422194,
          383989.4170158413,
          384060.9527948743,
          384076.5600807728,
          384469.975052606,
          384856.6330372209,
          384865.0926920196,
          384952.0313391807,
          385052.0007888019,
          385162.1944463041,
          385364.10020168923,
          385534.40194630355,
          385723.64418557216,
          385804.1681560179,
          385864.8000929036,
          385892.066118161,
          385958.6099684862,
          386215.3508926513,
          386303.4040660779,
          386362.9443898347,
          386492.001884938,
          387532.0061128245,
          387953.2575538742,
          388051.294897365,
          388051.294897365,
          388139.46757176856,
          388186.5040581331,
          388423.51760545635,
          388552.369635193,
          388951.2057087476,
          389077.5056203898,
          389564.50900393305,
          389903.48792744015,
          390115.69162731373,
          390253.07459525,
          390477.78087332257,
          390510.91887931695,
          390568.6074798642,
          390738.03960997576,
          390770.935426669,
          391288.6089766442,
          391336.27438457496,
          391460.02856155485,
          391819.63020199665,
          392205.2867777827,
          392321.56006826245,
          392832.4825834609,
          392967.8484060197,
          393258.0022602269,
          393318.4028356041,
          393862.9758415156,
          394155.9437202242,
          394374.2562066468,
          394577.264598652,
          394581.5398549848,
          395270.02631568315,
          395802.4002370241,
          396054.37676723313,
          396123.6977184519,
          396376.04279356054,
          396455.0248021877,
          397212.03068910365,
          397707.4856629337,
          398177.4137605178,
          398255.71560344874,
          398522.6736767287,
          398895.4518719093,
          399002.7296144719,
          399268.5621343114,
          399380.7390631338,
          399398.36891634815,
          399507.86420543806,
          399837.52707912296,
          399966.68904725526,
          400199.13821662805,
          400676.5441727689,
          400692.1918276733,
          401458.5495194001,
          401862.41947844863,
          402395.7668319384,
          402511.18607077206,
          402548.7313968204,
          402839.88780160615,
          402840.64352808235,
          402848.2931470385,
          402851.02226329787,
          403252.0786391802,
          403265.8480864476,
          403609.08361798583,
          403740.79589157715,
          403962.3237772828,
          403995.3708323375,
          404297.07037826313,
          404754.61771762196,
          405331.571884742,
          405510.5212385421,
          405700.3737456335,
          405717.5810615458,
          405717.5810615458,
          406035.34883184434,
          406248.47215354606,
          406795.2643825645,
          407034.00716103765,
          407209.98265337094,
          407256.3791271824,
          407476.5074693586,
          407503.50923593785,
          408071.0171027928,
          408167.7659423436,
          408500.1358994044,
          408625.82606099785,
          408788.5016155155,
          408887.0514038459,
          408890.2287262573,
          409771.2385530062,
          410030.44495969027,
          410262.5737415571,
          410704.19116913655,
          410913.5747589744,
          411301.15855074045,
          411376.0889250001,
          411498.2043585986,
          411569.818425107,
          411789.13195025775,
          411894.77775569144,
          412564.10193409305,
          412661.8583433913,
          412903.6882240523,
          413003.0339636057,
          413413.5943788485,
          413649.08886411757,
          413649.08886411757,
          413817.2638481177,
          413959.31709094543,
          413989.03383132967,
          414005.0036699453,
          415046.2346218933,
          415094.9502398446,
          415095.3901420976,
          415172.32942359796,
          415172.3306701235,
          415409.0541774667,
          415776.085689703,
          416362.671237393,
          416511.92796280613,
          416511.92796280613,
          416766.3016005497,
          416785.2690391206,
          417163.94496406807,
          417360.37380789994,
          417434.2901258469,
          417434.2901258469,
          417518.08016194316,
          417763.09437432315,
          417807.4980759953,
          417959.39135198435,
          417988.7383970388,
          419114.3477417875,
          419534.25675357686,
          419711.90714772284,
          420231.7998232905,
          420605.1372795737,
          420968.8545751348,
          421118.8192940838,
          421295.1352598101,
          421569.00068676,
          421744.9318997668,
          421744.9318997668,
          421795.73470450565,
          422109.9064750162,
          422357.9391641093,
          422610.25125535944,
          422947.87093596853,
          422947.87093596853,
          423167.0715369111,
          423308.1442363169,
          423376.9763464382,
          423376.9763464382,
          423428.6295867926,
          423557.8892943666,
          424033.23032691894,
          424053.3086708219,
          424144.4643974573,
          424187.43347938574,
          424580.08429508895,
          424701.08569916646,
          424760.2314382882,
          425228.3808474518,
          425283.61176461505,
          425849.332360484,
          425913.6046903787,
          426343.29991353484,
          427292.3438428816,
          427292.3438428816,
          427508.88355006464,
          427682.49306642875,
          428276.45146332344,
          428484.84677851794,
          428521.7163003751,
          428918.8647805033,
          429154.9872398402,
          429318.27968143177,
          429318.2824137462,
          429735.54403966805,
          429813.423371997,
          429829.16621941276,
          430275.8015979762,
          430443.5232348798,
          430487.5768732312,
          430552.4810645078,
          430584.1246152464,
          430676.4908357653,
          430750.74836519576,
          430998.51569593325,
          431017.3327693827,
          431604.8934208936,
          431787.28163059393,
          431835.1764710003,
          432168.507629802,
          432194.8670403833,
          432650.77868055087,
          432954.3941746166,
          433316.42233726964,
          433341.7114398699,
          433815.8344270853,
          433931.19107897155,
          434048.0062764553,
          434130.80088150245,
          434188.4013646821,
          434433.0800925978,
          435191.337848269,
          435724.93780412525,
          436998.2854196784,
          437233.78631759767,
          437300.11009446374,
          437465.148952839,
          437490.0228860199,
          437637.7936001964,
          437803.8549145582,
          437803.8549145582,
          437805.1127190981,
          437820.1978221849,
          438093.86793271324,
          438570.1768344017,
          438645.4216585745,
          438945.4387781946,
          439022.6056208756,
          439832.84136902477,
          439976.02151423914,
          439988.27292210294,
          440928.6791278855,
          441091.11574072146,
          441274.08649983024,
          441353.737310031,
          441448.4646892766,
          441543.5834751805,
          441578.7324754904,
          442411.0532597469,
          442523.37079565006,
          442738.4654904903,
          442813.8343166663,
          442921.5616551125,
          443144.6787951654,
          443213.24164103734,
          443242.09552516014,
          443457.89181777876,
          443457.89181777876,
          443483.13568465674,
          443657.9285801291,
          443849.253163325,
          444194.37618041784,
          444200.52414172754,
          444218.1472440393,
          444247.5154916731,
          444251.8387984219,
          444336.8142651942,
          444363.79538146267,
          444493.82317995833,
          444564.1121468063,
          444699.84747369867,
          444738.6170237336,
          444780.8366785479,
          444872.82865737943,
          445030.57759494847,
          445060.9456550943,
          445069.9636990243,
          445112.59170021466,
          445380.86288209143,
          445433.5031652994,
          445446.7029740373,
          445504.3833456229,
          445599.0425007745,
          445726.1560148558,
          445727.3389991406,
          445738.4306802711,
          445742.8268510987,
          445773.37181913195,
          445860.1204057033,
          445925.6172845904,
          445935.78358338407,
          445980.9248294947,
          445999.84408155765,
          446072.22637650697,
          446076.4574828623,
          446086.3977996764,
          446100.1916507924,
          446100.7471659403,
          446122.1401863084,
          446123.78492599906,
          446144.57084557763,
          446145.66867770784,
          446154.46216471907,
          446176.89561813703,
          446188.4363894494,
          446196.2671235281,
          446211.8907778913,
          446217.97790027515,
          446235.9293518272,
          446239.1683950631,
          446255.1935775132,
          446257.5006130471,
          446260.2757018087,
          446260.4269019844,
          446262.4043603423,
          446280.51758817624,
          446287.72790554934,
          446288.17503341957,
          446288.5734074739,
          446291.3225789003,
          446292.1759642929,
          446292.8549916777,
          446292.97445743805,
          446292.9899969546,
          446295.7297681216,
          446295.8470157294,
          446297.1436035684,
          446297.6402269443,
          446299.8855467024,
          446310.0190804579,
          446318.0778263495,
          446322.91062658624,
          446367.26108071615,
          446368.7375555212,
          446372.370931561,
          446404.43250712566,
          446437.4887443529,
          446446.41430091095,
          446466.0479103102,
          446475.7822519645,
          446485.9567930064,
          446489.80918241123,
          446519.65743982384,
          446525.8113450214,
          446540.38569642534,
          446543.2458177946,
          446556.97803347494,
          446566.0008761839,
          446625.15844698605,
          446719.01627308223,
          446739.68083921284,
          446744.2694030698,
          446747.6274023081,
          446774.46416511014,
          446860.2708068473,
          446931.005456738,
          446979.46226307907,
          447055.9894932698,
          447057.7277233868,
          447067.45355500747,
          447076.9172635202,
          447106.2201132606,
          447154.1525349732,
          447197.50893952494,
          447231.226705636,
          447326.6271084981,
          447382.7276325274,
          447431.0390047435,
          447437.9784591779,
          447475.57231347216,
          447491.15594300115,
          447517.1225835086,
          447584.2218224691,
          447636.7443720136,
          447659.2040950535,
          447685.3014172189,
          447711.8044193485,
          447711.8044193485,
          447989.7544436863,
          448010.7452915838,
          448124.03439905593,
          448184.10536388867,
          448267.24649254297,
          448440.04934350634,
          448643.4060241709,
          448680.37815947284,
          448684.40878346155,
          448739.6631321524,
          448749.9873385829,
          448756.9699718935,
          448757.14974747587,
          448782.32447537984,
          448794.4420883316,
          448822.9267826487,
          448822.9267826487,
          448858.4883717732,
          449019.67346542655,
          449087.50937029306,
          449141.2574510649,
          449240.96809769,
          449323.59553418163,
          449329.8247664085,
          449476.7857069193,
          449781.6326575914,
          449797.612437453,
          449879.6011051586,
          449886.9385323502,
          449955.287970753,
          449963.56294867414,
          450077.29813055956,
          450084.4263870476,
          450158.7441410377,
          450304.8234123343,
          450328.3935917681,
          450379.1877936382,
          450645.32623028033,
          450701.03950064996,
          450812.323254023,
          450973.3335263127,
          451075.24228190165,
          451282.8915379302,
          452211.3780496828,
          452233.1368292684,
          452378.95756362256,
          452378.95756362256,
          452560.78980937944,
          452728.60797617474,
          453542.93573099957,
          453551.9327347001,
          453839.6960513623,
          453957.9097929447,
          454222.8775785273,
          455378.98665643303,
          455461.5226601992,
          456395.9446480326,
          456667.1461890107,
          457350.1476073938,
          457475.02970507287,
          457989.4980451096,
          459115.7829798387,
          459445.16295672336,
          460947.49527866667,
          462491.89764955355,
          462808.3626951324,
          463057.01493236417,
          463719.85814320977,
          463943.14263751655,
          464660.79376296076,
          465574.8316930521,
          465632.2323109415,
          465972.78653081384,
          465991.10082272155,
          467834.14214701287,
          467834.14214701287,
          468535.54640791053,
          469421.7755040185,
          469936.3492125527,
          470148.5858181873,
          470172.0378009795,
          471465.62348622584,
          471825.8542398566,
          472110.80595533736,
          472629.42827141186,
          473582.67046931933,
          473604.93267909804,
          475396.55889914255,
          476255.96548363543,
          478348.3890198714,
          481756.57531386643,
          481756.57531386643,
          482339.5991340238,
          483694.6866001213,
          484519.715623307,
          496610.62880680553,
          517104.47286724835,
          517335.14917329425,
          533425.3420265932,
          550691.2052433431,
          550691.2052433431,
          862748.9117204304,
          862748.9117204304
         ],
         "xaxis": "x",
         "yaxis": "y"
        }
       ],
       "layout": {
        "annotations": [
         {
          "showarrow": false,
          "text": "Mean baseline 446169.26",
          "x": 446169.2557239682,
          "xanchor": "left",
          "xref": "x",
          "y": 1,
          "yanchor": "top",
          "yref": "y domain"
         }
        ],
        "barmode": "relative",
        "legend": {
         "tracegroupgap": 0
        },
        "margin": {
         "t": 60
        },
        "shapes": [
         {
          "line": {
           "color": "red",
           "dash": "dash"
          },
          "type": "line",
          "x0": 446169.2557239682,
          "x1": 446169.2557239682,
          "xref": "x",
          "y0": 0,
          "y1": 1,
          "yref": "y domain"
         }
        ],
        "template": {
         "data": {
          "bar": [
           {
            "error_x": {
             "color": "#2a3f5f"
            },
            "error_y": {
             "color": "#2a3f5f"
            },
            "marker": {
             "line": {
              "color": "#E5ECF6",
              "width": 0.5
             },
             "pattern": {
              "fillmode": "overlay",
              "size": 10,
              "solidity": 0.2
             }
            },
            "type": "bar"
           }
          ],
          "barpolar": [
           {
            "marker": {
             "line": {
              "color": "#E5ECF6",
              "width": 0.5
             },
             "pattern": {
              "fillmode": "overlay",
              "size": 10,
              "solidity": 0.2
             }
            },
            "type": "barpolar"
           }
          ],
          "carpet": [
           {
            "aaxis": {
             "endlinecolor": "#2a3f5f",
             "gridcolor": "white",
             "linecolor": "white",
             "minorgridcolor": "white",
             "startlinecolor": "#2a3f5f"
            },
            "baxis": {
             "endlinecolor": "#2a3f5f",
             "gridcolor": "white",
             "linecolor": "white",
             "minorgridcolor": "white",
             "startlinecolor": "#2a3f5f"
            },
            "type": "carpet"
           }
          ],
          "choropleth": [
           {
            "colorbar": {
             "outlinewidth": 0,
             "ticks": ""
            },
            "type": "choropleth"
           }
          ],
          "contour": [
           {
            "colorbar": {
             "outlinewidth": 0,
             "ticks": ""
            },
            "colorscale": [
             [
              0,
              "#0d0887"
             ],
             [
              0.1111111111111111,
              "#46039f"
             ],
             [
              0.2222222222222222,
              "#7201a8"
             ],
             [
              0.3333333333333333,
              "#9c179e"
             ],
             [
              0.4444444444444444,
              "#bd3786"
             ],
             [
              0.5555555555555556,
              "#d8576b"
             ],
             [
              0.6666666666666666,
              "#ed7953"
             ],
             [
              0.7777777777777778,
              "#fb9f3a"
             ],
             [
              0.8888888888888888,
              "#fdca26"
             ],
             [
              1,
              "#f0f921"
             ]
            ],
            "type": "contour"
           }
          ],
          "contourcarpet": [
           {
            "colorbar": {
             "outlinewidth": 0,
             "ticks": ""
            },
            "type": "contourcarpet"
           }
          ],
          "heatmap": [
           {
            "colorbar": {
             "outlinewidth": 0,
             "ticks": ""
            },
            "colorscale": [
             [
              0,
              "#0d0887"
             ],
             [
              0.1111111111111111,
              "#46039f"
             ],
             [
              0.2222222222222222,
              "#7201a8"
             ],
             [
              0.3333333333333333,
              "#9c179e"
             ],
             [
              0.4444444444444444,
              "#bd3786"
             ],
             [
              0.5555555555555556,
              "#d8576b"
             ],
             [
              0.6666666666666666,
              "#ed7953"
             ],
             [
              0.7777777777777778,
              "#fb9f3a"
             ],
             [
              0.8888888888888888,
              "#fdca26"
             ],
             [
              1,
              "#f0f921"
             ]
            ],
            "type": "heatmap"
           }
          ],
          "heatmapgl": [
           {
            "colorbar": {
             "outlinewidth": 0,
             "ticks": ""
            },
            "colorscale": [
             [
              0,
              "#0d0887"
             ],
             [
              0.1111111111111111,
              "#46039f"
             ],
             [
              0.2222222222222222,
              "#7201a8"
             ],
             [
              0.3333333333333333,
              "#9c179e"
             ],
             [
              0.4444444444444444,
              "#bd3786"
             ],
             [
              0.5555555555555556,
              "#d8576b"
             ],
             [
              0.6666666666666666,
              "#ed7953"
             ],
             [
              0.7777777777777778,
              "#fb9f3a"
             ],
             [
              0.8888888888888888,
              "#fdca26"
             ],
             [
              1,
              "#f0f921"
             ]
            ],
            "type": "heatmapgl"
           }
          ],
          "histogram": [
           {
            "marker": {
             "pattern": {
              "fillmode": "overlay",
              "size": 10,
              "solidity": 0.2
             }
            },
            "type": "histogram"
           }
          ],
          "histogram2d": [
           {
            "colorbar": {
             "outlinewidth": 0,
             "ticks": ""
            },
            "colorscale": [
             [
              0,
              "#0d0887"
             ],
             [
              0.1111111111111111,
              "#46039f"
             ],
             [
              0.2222222222222222,
              "#7201a8"
             ],
             [
              0.3333333333333333,
              "#9c179e"
             ],
             [
              0.4444444444444444,
              "#bd3786"
             ],
             [
              0.5555555555555556,
              "#d8576b"
             ],
             [
              0.6666666666666666,
              "#ed7953"
             ],
             [
              0.7777777777777778,
              "#fb9f3a"
             ],
             [
              0.8888888888888888,
              "#fdca26"
             ],
             [
              1,
              "#f0f921"
             ]
            ],
            "type": "histogram2d"
           }
          ],
          "histogram2dcontour": [
           {
            "colorbar": {
             "outlinewidth": 0,
             "ticks": ""
            },
            "colorscale": [
             [
              0,
              "#0d0887"
             ],
             [
              0.1111111111111111,
              "#46039f"
             ],
             [
              0.2222222222222222,
              "#7201a8"
             ],
             [
              0.3333333333333333,
              "#9c179e"
             ],
             [
              0.4444444444444444,
              "#bd3786"
             ],
             [
              0.5555555555555556,
              "#d8576b"
             ],
             [
              0.6666666666666666,
              "#ed7953"
             ],
             [
              0.7777777777777778,
              "#fb9f3a"
             ],
             [
              0.8888888888888888,
              "#fdca26"
             ],
             [
              1,
              "#f0f921"
             ]
            ],
            "type": "histogram2dcontour"
           }
          ],
          "mesh3d": [
           {
            "colorbar": {
             "outlinewidth": 0,
             "ticks": ""
            },
            "type": "mesh3d"
           }
          ],
          "parcoords": [
           {
            "line": {
             "colorbar": {
              "outlinewidth": 0,
              "ticks": ""
             }
            },
            "type": "parcoords"
           }
          ],
          "pie": [
           {
            "automargin": true,
            "type": "pie"
           }
          ],
          "scatter": [
           {
            "fillpattern": {
             "fillmode": "overlay",
             "size": 10,
             "solidity": 0.2
            },
            "type": "scatter"
           }
          ],
          "scatter3d": [
           {
            "line": {
             "colorbar": {
              "outlinewidth": 0,
              "ticks": ""
             }
            },
            "marker": {
             "colorbar": {
              "outlinewidth": 0,
              "ticks": ""
             }
            },
            "type": "scatter3d"
           }
          ],
          "scattercarpet": [
           {
            "marker": {
             "colorbar": {
              "outlinewidth": 0,
              "ticks": ""
             }
            },
            "type": "scattercarpet"
           }
          ],
          "scattergeo": [
           {
            "marker": {
             "colorbar": {
              "outlinewidth": 0,
              "ticks": ""
             }
            },
            "type": "scattergeo"
           }
          ],
          "scattergl": [
           {
            "marker": {
             "colorbar": {
              "outlinewidth": 0,
              "ticks": ""
             }
            },
            "type": "scattergl"
           }
          ],
          "scattermapbox": [
           {
            "marker": {
             "colorbar": {
              "outlinewidth": 0,
              "ticks": ""
             }
            },
            "type": "scattermapbox"
           }
          ],
          "scatterpolar": [
           {
            "marker": {
             "colorbar": {
              "outlinewidth": 0,
              "ticks": ""
             }
            },
            "type": "scatterpolar"
           }
          ],
          "scatterpolargl": [
           {
            "marker": {
             "colorbar": {
              "outlinewidth": 0,
              "ticks": ""
             }
            },
            "type": "scatterpolargl"
           }
          ],
          "scatterternary": [
           {
            "marker": {
             "colorbar": {
              "outlinewidth": 0,
              "ticks": ""
             }
            },
            "type": "scatterternary"
           }
          ],
          "surface": [
           {
            "colorbar": {
             "outlinewidth": 0,
             "ticks": ""
            },
            "colorscale": [
             [
              0,
              "#0d0887"
             ],
             [
              0.1111111111111111,
              "#46039f"
             ],
             [
              0.2222222222222222,
              "#7201a8"
             ],
             [
              0.3333333333333333,
              "#9c179e"
             ],
             [
              0.4444444444444444,
              "#bd3786"
             ],
             [
              0.5555555555555556,
              "#d8576b"
             ],
             [
              0.6666666666666666,
              "#ed7953"
             ],
             [
              0.7777777777777778,
              "#fb9f3a"
             ],
             [
              0.8888888888888888,
              "#fdca26"
             ],
             [
              1,
              "#f0f921"
             ]
            ],
            "type": "surface"
           }
          ],
          "table": [
           {
            "cells": {
             "fill": {
              "color": "#EBF0F8"
             },
             "line": {
              "color": "white"
             }
            },
            "header": {
             "fill": {
              "color": "#C8D4E3"
             },
             "line": {
              "color": "white"
             }
            },
            "type": "table"
           }
          ]
         },
         "layout": {
          "annotationdefaults": {
           "arrowcolor": "#2a3f5f",
           "arrowhead": 0,
           "arrowwidth": 1
          },
          "autotypenumbers": "strict",
          "coloraxis": {
           "colorbar": {
            "outlinewidth": 0,
            "ticks": ""
           }
          },
          "colorscale": {
           "diverging": [
            [
             0,
             "#8e0152"
            ],
            [
             0.1,
             "#c51b7d"
            ],
            [
             0.2,
             "#de77ae"
            ],
            [
             0.3,
             "#f1b6da"
            ],
            [
             0.4,
             "#fde0ef"
            ],
            [
             0.5,
             "#f7f7f7"
            ],
            [
             0.6,
             "#e6f5d0"
            ],
            [
             0.7,
             "#b8e186"
            ],
            [
             0.8,
             "#7fbc41"
            ],
            [
             0.9,
             "#4d9221"
            ],
            [
             1,
             "#276419"
            ]
           ],
           "sequential": [
            [
             0,
             "#0d0887"
            ],
            [
             0.1111111111111111,
             "#46039f"
            ],
            [
             0.2222222222222222,
             "#7201a8"
            ],
            [
             0.3333333333333333,
             "#9c179e"
            ],
            [
             0.4444444444444444,
             "#bd3786"
            ],
            [
             0.5555555555555556,
             "#d8576b"
            ],
            [
             0.6666666666666666,
             "#ed7953"
            ],
            [
             0.7777777777777778,
             "#fb9f3a"
            ],
            [
             0.8888888888888888,
             "#fdca26"
            ],
            [
             1,
             "#f0f921"
            ]
           ],
           "sequentialminus": [
            [
             0,
             "#0d0887"
            ],
            [
             0.1111111111111111,
             "#46039f"
            ],
            [
             0.2222222222222222,
             "#7201a8"
            ],
            [
             0.3333333333333333,
             "#9c179e"
            ],
            [
             0.4444444444444444,
             "#bd3786"
            ],
            [
             0.5555555555555556,
             "#d8576b"
            ],
            [
             0.6666666666666666,
             "#ed7953"
            ],
            [
             0.7777777777777778,
             "#fb9f3a"
            ],
            [
             0.8888888888888888,
             "#fdca26"
            ],
            [
             1,
             "#f0f921"
            ]
           ]
          },
          "colorway": [
           "#636efa",
           "#EF553B",
           "#00cc96",
           "#ab63fa",
           "#FFA15A",
           "#19d3f3",
           "#FF6692",
           "#B6E880",
           "#FF97FF",
           "#FECB52"
          ],
          "font": {
           "color": "#2a3f5f"
          },
          "geo": {
           "bgcolor": "white",
           "lakecolor": "white",
           "landcolor": "#E5ECF6",
           "showlakes": true,
           "showland": true,
           "subunitcolor": "white"
          },
          "hoverlabel": {
           "align": "left"
          },
          "hovermode": "closest",
          "mapbox": {
           "style": "light"
          },
          "paper_bgcolor": "white",
          "plot_bgcolor": "#E5ECF6",
          "polar": {
           "angularaxis": {
            "gridcolor": "white",
            "linecolor": "white",
            "ticks": ""
           },
           "bgcolor": "#E5ECF6",
           "radialaxis": {
            "gridcolor": "white",
            "linecolor": "white",
            "ticks": ""
           }
          },
          "scene": {
           "xaxis": {
            "backgroundcolor": "#E5ECF6",
            "gridcolor": "white",
            "gridwidth": 2,
            "linecolor": "white",
            "showbackground": true,
            "ticks": "",
            "zerolinecolor": "white"
           },
           "yaxis": {
            "backgroundcolor": "#E5ECF6",
            "gridcolor": "white",
            "gridwidth": 2,
            "linecolor": "white",
            "showbackground": true,
            "ticks": "",
            "zerolinecolor": "white"
           },
           "zaxis": {
            "backgroundcolor": "#E5ECF6",
            "gridcolor": "white",
            "gridwidth": 2,
            "linecolor": "white",
            "showbackground": true,
            "ticks": "",
            "zerolinecolor": "white"
           }
          },
          "shapedefaults": {
           "line": {
            "color": "#2a3f5f"
           }
          },
          "ternary": {
           "aaxis": {
            "gridcolor": "white",
            "linecolor": "white",
            "ticks": ""
           },
           "baxis": {
            "gridcolor": "white",
            "linecolor": "white",
            "ticks": ""
           },
           "bgcolor": "#E5ECF6",
           "caxis": {
            "gridcolor": "white",
            "linecolor": "white",
            "ticks": ""
           }
          },
          "title": {
           "x": 0.05
          },
          "xaxis": {
           "automargin": true,
           "gridcolor": "white",
           "linecolor": "white",
           "ticks": "",
           "title": {
            "standoff": 15
           },
           "zerolinecolor": "white",
           "zerolinewidth": 2
          },
          "yaxis": {
           "automargin": true,
           "gridcolor": "white",
           "linecolor": "white",
           "ticks": "",
           "title": {
            "standoff": 15
           },
           "zerolinecolor": "white",
           "zerolinewidth": 2
          }
         }
        },
        "xaxis": {
         "anchor": "y",
         "domain": [
          0,
          1
         ],
         "title": {
          "text": "rmse"
         }
        },
        "yaxis": {
         "anchor": "x",
         "domain": [
          0,
          1
         ],
         "title": {
          "text": "count"
         }
        }
       }
      }
     },
     "metadata": {},
     "output_type": "display_data"
    }
   ],
   "source": [
    "fig = threshold_histogram(results_df, metric, min_metric, max_metric, perf_of_mean)\n",
    "fig.show()\n",
    "fig.write_image(OUTPUT_DIR / f\"{dataset}_{config_str}_filtered_{k}_histogram.{image_ext}\")\n"
   ]
  },
  {
   "cell_type": "markdown",
   "metadata": {},
   "source": [
    "# Record all performances in one CSV"
   ]
  },
  {
   "cell_type": "code",
   "execution_count": 258,
   "metadata": {},
   "outputs": [],
   "source": [
    "_sorted = original_results[pipeline_cols + [\"preprocesser(s)\", \"seed\", metric]].sort_values(metric)\n",
    "pipelines_cols_to_hash = pipeline_cols.copy()\n",
    "pipelines_cols_to_hash.remove(\"preprocessers\")\n",
    "pipelines_cols_to_hash.append(\"preprocesser(s)\")\n",
    "_sorted[\"hash\"] = _sorted.apply(lambda x: hash(tuple(x[pipelines_cols_to_hash])), axis=1)\n",
    "_sorted.to_csv(table_dir / f\"{config_str}_all_performances.csv\")"
   ]
  },
  {
   "cell_type": "markdown",
   "metadata": {},
   "source": [
    "# Look at best and worst performers"
   ]
  },
  {
   "cell_type": "code",
   "execution_count": 259,
   "metadata": {},
   "outputs": [],
   "source": [
    "k = 10\n",
    "if filter_out_replicates:\n",
    "    num_replicates = 1\n",
    "else:\n",
    "    num_replicates = 4\n",
    "unique_pipeline_cols = [col for col in pipeline_cols if col not in [\"preprocessers\", \"finetune\"]]\n",
    "unique_pipeline_cols = [\"preprocesser(s)\"] + unique_pipeline_cols\n",
    "unique_pipelines = filtered_results.groupby(unique_pipeline_cols)[[metric, \"seed\"]].agg(\n",
    " {\n",
    "     metric: [\"mean\", \"sem\"],\n",
    "     \"seed\" : \"count\"\n",
    " }\n",
    ")"
   ]
  },
  {
   "cell_type": "code",
   "execution_count": 260,
   "metadata": {},
   "outputs": [],
   "source": [
    "unique_pipelines_with_replicates = unique_pipelines[unique_pipelines[\"seed\", \"count\"] == num_replicates]"
   ]
  },
  {
   "cell_type": "code",
   "execution_count": 261,
   "metadata": {},
   "outputs": [
    {
     "name": "stderr",
     "output_type": "stream",
     "text": [
      "2025-03-13 16:58:52,262 - analysis - INFO - Best performers\n"
     ]
    },
    {
     "data": {
      "text/html": [
       "<div>\n",
       "<style scoped>\n",
       "    .dataframe tbody tr th:only-of-type {\n",
       "        vertical-align: middle;\n",
       "    }\n",
       "\n",
       "    .dataframe tbody tr th {\n",
       "        vertical-align: top;\n",
       "    }\n",
       "\n",
       "    .dataframe thead tr th {\n",
       "        text-align: left;\n",
       "    }\n",
       "\n",
       "    .dataframe thead tr:last-of-type th {\n",
       "        text-align: right;\n",
       "    }\n",
       "</style>\n",
       "<table border=\"1\" class=\"dataframe\">\n",
       "  <thead>\n",
       "    <tr>\n",
       "      <th></th>\n",
       "      <th></th>\n",
       "      <th></th>\n",
       "      <th></th>\n",
       "      <th colspan=\"2\" halign=\"left\">rmse</th>\n",
       "      <th>seed</th>\n",
       "    </tr>\n",
       "    <tr>\n",
       "      <th></th>\n",
       "      <th></th>\n",
       "      <th></th>\n",
       "      <th></th>\n",
       "      <th>mean</th>\n",
       "      <th>sem</th>\n",
       "      <th>count</th>\n",
       "    </tr>\n",
       "    <tr>\n",
       "      <th>preprocesser(s)</th>\n",
       "      <th>tokeniser</th>\n",
       "      <th>featuriser</th>\n",
       "      <th>model</th>\n",
       "      <th></th>\n",
       "      <th></th>\n",
       "      <th></th>\n",
       "    </tr>\n",
       "  </thead>\n",
       "  <tbody>\n",
       "    <tr>\n",
       "      <th>empty</th>\n",
       "      <th>bert</th>\n",
       "      <th>bert_mean</th>\n",
       "      <th>deep_linear_ft</th>\n",
       "      <td>350867.200857</td>\n",
       "      <td>1645.266271</td>\n",
       "      <td>4</td>\n",
       "    </tr>\n",
       "    <tr>\n",
       "      <th>Le,Lo</th>\n",
       "      <th>bert</th>\n",
       "      <th>bert_mean</th>\n",
       "      <th>deep_linear_ft</th>\n",
       "      <td>351301.832889</td>\n",
       "      <td>6202.251458</td>\n",
       "      <td>4</td>\n",
       "    </tr>\n",
       "    <tr>\n",
       "      <th>empty</th>\n",
       "      <th>bert</th>\n",
       "      <th>bert_cls</th>\n",
       "      <th>deep_linear_ft</th>\n",
       "      <td>354328.818128</td>\n",
       "      <td>8510.649599</td>\n",
       "      <td>4</td>\n",
       "    </tr>\n",
       "    <tr>\n",
       "      <th>NP</th>\n",
       "      <th>bert</th>\n",
       "      <th>bert_cls</th>\n",
       "      <th>deep_linear_ft</th>\n",
       "      <td>359783.353527</td>\n",
       "      <td>9632.145181</td>\n",
       "      <td>4</td>\n",
       "    </tr>\n",
       "    <tr>\n",
       "      <th>Le,Lo,NP,NSN</th>\n",
       "      <th>bert</th>\n",
       "      <th>bert_cls</th>\n",
       "      <th>deep_linear_ft</th>\n",
       "      <td>366543.803222</td>\n",
       "      <td>7608.146768</td>\n",
       "      <td>4</td>\n",
       "    </tr>\n",
       "    <tr>\n",
       "      <th>empty</th>\n",
       "      <th>bert</th>\n",
       "      <th>bert_cls</th>\n",
       "      <th>mlp_ft</th>\n",
       "      <td>367336.171585</td>\n",
       "      <td>6514.259578</td>\n",
       "      <td>4</td>\n",
       "    </tr>\n",
       "    <tr>\n",
       "      <th>Le</th>\n",
       "      <th>bpe</th>\n",
       "      <th>tf_idf</th>\n",
       "      <th>mlp</th>\n",
       "      <td>367445.975190</td>\n",
       "      <td>2354.992179</td>\n",
       "      <td>4</td>\n",
       "    </tr>\n",
       "    <tr>\n",
       "      <th>empty</th>\n",
       "      <th>bert</th>\n",
       "      <th>bert_mean</th>\n",
       "      <th>mlp_ft</th>\n",
       "      <td>371003.074074</td>\n",
       "      <td>8945.019364</td>\n",
       "      <td>4</td>\n",
       "    </tr>\n",
       "    <tr>\n",
       "      <th>Le</th>\n",
       "      <th>bpe</th>\n",
       "      <th>tf_idf</th>\n",
       "      <th>deep_linear</th>\n",
       "      <td>371669.056646</td>\n",
       "      <td>2116.859016</td>\n",
       "      <td>4</td>\n",
       "    </tr>\n",
       "    <tr>\n",
       "      <th>Le,NSN</th>\n",
       "      <th>bert</th>\n",
       "      <th>bert_mean</th>\n",
       "      <th>resnet_ft</th>\n",
       "      <td>374181.006172</td>\n",
       "      <td>8615.468414</td>\n",
       "      <td>4</td>\n",
       "    </tr>\n",
       "  </tbody>\n",
       "</table>\n",
       "</div>"
      ],
      "text/plain": [
       "                                                              rmse  \\\n",
       "                                                              mean   \n",
       "preprocesser(s) tokeniser featuriser model                           \n",
       "empty           bert      bert_mean  deep_linear_ft  350867.200857   \n",
       "Le,Lo           bert      bert_mean  deep_linear_ft  351301.832889   \n",
       "empty           bert      bert_cls   deep_linear_ft  354328.818128   \n",
       "NP              bert      bert_cls   deep_linear_ft  359783.353527   \n",
       "Le,Lo,NP,NSN    bert      bert_cls   deep_linear_ft  366543.803222   \n",
       "empty           bert      bert_cls   mlp_ft          367336.171585   \n",
       "Le              bpe       tf_idf     mlp             367445.975190   \n",
       "empty           bert      bert_mean  mlp_ft          371003.074074   \n",
       "Le              bpe       tf_idf     deep_linear     371669.056646   \n",
       "Le,NSN          bert      bert_mean  resnet_ft       374181.006172   \n",
       "\n",
       "                                                                  seed  \n",
       "                                                             sem count  \n",
       "preprocesser(s) tokeniser featuriser model                              \n",
       "empty           bert      bert_mean  deep_linear_ft  1645.266271     4  \n",
       "Le,Lo           bert      bert_mean  deep_linear_ft  6202.251458     4  \n",
       "empty           bert      bert_cls   deep_linear_ft  8510.649599     4  \n",
       "NP              bert      bert_cls   deep_linear_ft  9632.145181     4  \n",
       "Le,Lo,NP,NSN    bert      bert_cls   deep_linear_ft  7608.146768     4  \n",
       "empty           bert      bert_cls   mlp_ft          6514.259578     4  \n",
       "Le              bpe       tf_idf     mlp             2354.992179     4  \n",
       "empty           bert      bert_mean  mlp_ft          8945.019364     4  \n",
       "Le              bpe       tf_idf     deep_linear     2116.859016     4  \n",
       "Le,NSN          bert      bert_mean  resnet_ft       8615.468414     4  "
      ]
     },
     "metadata": {},
     "output_type": "display_data"
    },
    {
     "name": "stderr",
     "output_type": "stream",
     "text": [
      "2025-03-13 16:58:52,284 - analysis - INFO - Worst performers\n"
     ]
    },
    {
     "data": {
      "text/html": [
       "<div>\n",
       "<style scoped>\n",
       "    .dataframe tbody tr th:only-of-type {\n",
       "        vertical-align: middle;\n",
       "    }\n",
       "\n",
       "    .dataframe tbody tr th {\n",
       "        vertical-align: top;\n",
       "    }\n",
       "\n",
       "    .dataframe thead tr th {\n",
       "        text-align: left;\n",
       "    }\n",
       "\n",
       "    .dataframe thead tr:last-of-type th {\n",
       "        text-align: right;\n",
       "    }\n",
       "</style>\n",
       "<table border=\"1\" class=\"dataframe\">\n",
       "  <thead>\n",
       "    <tr>\n",
       "      <th></th>\n",
       "      <th></th>\n",
       "      <th></th>\n",
       "      <th></th>\n",
       "      <th colspan=\"2\" halign=\"left\">rmse</th>\n",
       "      <th>seed</th>\n",
       "    </tr>\n",
       "    <tr>\n",
       "      <th></th>\n",
       "      <th></th>\n",
       "      <th></th>\n",
       "      <th></th>\n",
       "      <th>mean</th>\n",
       "      <th>sem</th>\n",
       "      <th>count</th>\n",
       "    </tr>\n",
       "    <tr>\n",
       "      <th>preprocesser(s)</th>\n",
       "      <th>tokeniser</th>\n",
       "      <th>featuriser</th>\n",
       "      <th>model</th>\n",
       "      <th></th>\n",
       "      <th></th>\n",
       "      <th></th>\n",
       "    </tr>\n",
       "  </thead>\n",
       "  <tbody>\n",
       "    <tr>\n",
       "      <th>empty</th>\n",
       "      <th>whitespace</th>\n",
       "      <th>bow_binary</th>\n",
       "      <th>xgboost</th>\n",
       "      <td>461134.171131</td>\n",
       "      <td>27716.435925</td>\n",
       "      <td>4</td>\n",
       "    </tr>\n",
       "    <tr>\n",
       "      <th>NSCC</th>\n",
       "      <th>whitespace</th>\n",
       "      <th>bow_count</th>\n",
       "      <th>mlp</th>\n",
       "      <td>461816.274199</td>\n",
       "      <td>4801.034471</td>\n",
       "      <td>4</td>\n",
       "    </tr>\n",
       "    <tr>\n",
       "      <th>Le,NSCC</th>\n",
       "      <th>treebank</th>\n",
       "      <th>bow_count</th>\n",
       "      <th>mlp</th>\n",
       "      <td>465625.543803</td>\n",
       "      <td>3609.738392</td>\n",
       "      <td>4</td>\n",
       "    </tr>\n",
       "    <tr>\n",
       "      <th>Lo</th>\n",
       "      <th>treebank</th>\n",
       "      <th>bow_count</th>\n",
       "      <th>mlp</th>\n",
       "      <td>468424.608811</td>\n",
       "      <td>5086.328134</td>\n",
       "      <td>4</td>\n",
       "    </tr>\n",
       "    <tr>\n",
       "      <th>S</th>\n",
       "      <th>bert</th>\n",
       "      <th>bert_cls</th>\n",
       "      <th>xgboost</th>\n",
       "      <td>470257.424131</td>\n",
       "      <td>4629.749061</td>\n",
       "      <td>4</td>\n",
       "    </tr>\n",
       "    <tr>\n",
       "      <th>Le</th>\n",
       "      <th>bert</th>\n",
       "      <th>bert_mean</th>\n",
       "      <th>xgboost</th>\n",
       "      <td>478427.381822</td>\n",
       "      <td>25990.831515</td>\n",
       "      <td>4</td>\n",
       "    </tr>\n",
       "    <tr>\n",
       "      <th>Le,Lo</th>\n",
       "      <th>bert</th>\n",
       "      <th>bert_mean</th>\n",
       "      <th>xgboost</th>\n",
       "      <td>478427.381822</td>\n",
       "      <td>25990.831515</td>\n",
       "      <td>4</td>\n",
       "    </tr>\n",
       "    <tr>\n",
       "      <th>NSCC,S</th>\n",
       "      <th>whitespace</th>\n",
       "      <th>glove_mean</th>\n",
       "      <th>xgboost</th>\n",
       "      <td>490151.336132</td>\n",
       "      <td>16207.672852</td>\n",
       "      <td>4</td>\n",
       "    </tr>\n",
       "    <tr>\n",
       "      <th>Lo</th>\n",
       "      <th>bert</th>\n",
       "      <th>bert_cls</th>\n",
       "      <th>xgboost</th>\n",
       "      <td>557946.234553</td>\n",
       "      <td>101684.646283</td>\n",
       "      <td>4</td>\n",
       "    </tr>\n",
       "    <tr>\n",
       "      <th>empty</th>\n",
       "      <th>bert</th>\n",
       "      <th>bert_cls</th>\n",
       "      <th>xgboost</th>\n",
       "      <td>557946.234553</td>\n",
       "      <td>101684.646283</td>\n",
       "      <td>4</td>\n",
       "    </tr>\n",
       "  </tbody>\n",
       "</table>\n",
       "</div>"
      ],
      "text/plain": [
       "                                                        rmse                 \\\n",
       "                                                        mean            sem   \n",
       "preprocesser(s) tokeniser  featuriser model                                   \n",
       "empty           whitespace bow_binary xgboost  461134.171131   27716.435925   \n",
       "NSCC            whitespace bow_count  mlp      461816.274199    4801.034471   \n",
       "Le,NSCC         treebank   bow_count  mlp      465625.543803    3609.738392   \n",
       "Lo              treebank   bow_count  mlp      468424.608811    5086.328134   \n",
       "S               bert       bert_cls   xgboost  470257.424131    4629.749061   \n",
       "Le              bert       bert_mean  xgboost  478427.381822   25990.831515   \n",
       "Le,Lo           bert       bert_mean  xgboost  478427.381822   25990.831515   \n",
       "NSCC,S          whitespace glove_mean xgboost  490151.336132   16207.672852   \n",
       "Lo              bert       bert_cls   xgboost  557946.234553  101684.646283   \n",
       "empty           bert       bert_cls   xgboost  557946.234553  101684.646283   \n",
       "\n",
       "                                               seed  \n",
       "                                              count  \n",
       "preprocesser(s) tokeniser  featuriser model          \n",
       "empty           whitespace bow_binary xgboost     4  \n",
       "NSCC            whitespace bow_count  mlp         4  \n",
       "Le,NSCC         treebank   bow_count  mlp         4  \n",
       "Lo              treebank   bow_count  mlp         4  \n",
       "S               bert       bert_cls   xgboost     4  \n",
       "Le              bert       bert_mean  xgboost     4  \n",
       "Le,Lo           bert       bert_mean  xgboost     4  \n",
       "NSCC,S          whitespace glove_mean xgboost     4  \n",
       "Lo              bert       bert_cls   xgboost     4  \n",
       "empty           bert       bert_cls   xgboost     4  "
      ]
     },
     "metadata": {},
     "output_type": "display_data"
    }
   ],
   "source": [
    "if filter_out_replicates:\n",
    "    columns_to_save = [[metric, \"mean\"]]\n",
    "else:\n",
    "    columns_to_save = [[metric, \"mean\"],[metric, \"sem\"]]\n",
    "    \n",
    "logger.info(\"Best performers\")\n",
    "best = unique_pipelines_with_replicates.sort_values((metric, \"mean\")).head(k)\n",
    "latex_table = best[columns_to_save].to_latex(float_format=simple_format)\n",
    "latex_table = process_latex_table(latex_table)\n",
    "with open(table_dir / f\"{config_str}_best_{k}.tex\", \"w\") as f:\n",
    "    f.write(latex_table)\n",
    "display(best)\n",
    "logger.info(\"Worst performers\")\n",
    "worst = unique_pipelines_with_replicates.sort_values((metric, \"mean\")).tail(k)\n",
    "latex_table = worst[columns_to_save].to_latex(float_format=simple_format)\n",
    "latex_table = process_latex_table(latex_table)\n",
    "with open(table_dir / f\"{config_str}_worst_{k}.tex\", \"w\") as f:\n",
    "    f.write(latex_table)\n",
    "display(worst)\n"
   ]
  },
  {
   "cell_type": "markdown",
   "metadata": {},
   "source": [
    "Brief foray into looking at sem distribution - noting it is much more variable for finetuning"
   ]
  },
  {
   "cell_type": "code",
   "execution_count": 262,
   "metadata": {},
   "outputs": [
    {
     "name": "stderr",
     "output_type": "stream",
     "text": [
      "2025-03-13 16:58:52,339 - analysis - INFO - \n",
      "Standard Error Summary Statistics:\n",
      "2025-03-13 16:58:52,341 - analysis - INFO - Non-finetuned mean: 5819.22\n",
      "2025-03-13 16:58:52,343 - analysis - INFO - Finetuned mean: 8108.25\n"
     ]
    }
   ],
   "source": [
    "# Create histogram of standard errors, split by finetuned vs non-finetuned models\n",
    "import plotly.graph_objects as go\n",
    "from plotly.subplots import make_subplots\n",
    "\n",
    "df = unique_pipelines_with_replicates.copy().reset_index()\n",
    "\n",
    "# Get boolean mask for finetuned models\n",
    "ft_mask = df['model'].str.contains('_ft')\n",
    "\n",
    "# Create figure\n",
    "fig = go.Figure()\n",
    "\n",
    "# Add histograms\n",
    "fig.add_trace(go.Histogram(\n",
    "    x=df[~ft_mask][metric, 'sem'],\n",
    "    name='Non-finetuned',\n",
    "    opacity=0.5,\n",
    "    nbinsx=20,\n",
    "    histnorm=\"percent\"\n",
    "))\n",
    "\n",
    "fig.add_trace(go.Histogram(\n",
    "    x=df[ft_mask][metric, 'sem'], \n",
    "    name='Finetuned',\n",
    "    opacity=0.5,\n",
    "    nbinsx=20,\n",
    "    histnorm=\"percent\"\n",
    "))\n",
    "\n",
    "# Update layout\n",
    "fig.update_layout(\n",
    "    title='Distribution of Standard Errors by Model Type',\n",
    "    xaxis_title='Standard Error of Mean',\n",
    "    yaxis_title='Percentage',\n",
    "    barmode='overlay',\n",
    "    showlegend=True,\n",
    "    template='plotly_white'\n",
    ")\n",
    "\n",
    "# Log summary statistics\n",
    "logger.info(\"\\nStandard Error Summary Statistics:\")\n",
    "logger.info(f\"Non-finetuned mean: {df[~ft_mask][metric, 'sem'].mean():.2f}\")\n",
    "logger.info(f\"Finetuned mean: {df[ft_mask][metric, 'sem'].mean():.2f}\")"
   ]
  },
  {
   "cell_type": "markdown",
   "metadata": {},
   "source": [
    "# Confirm coverage of component choices"
   ]
  },
  {
   "cell_type": "code",
   "execution_count": 263,
   "metadata": {},
   "outputs": [
    {
     "data": {
      "text/html": [
       "<div>\n",
       "<style scoped>\n",
       "    .dataframe tbody tr th:only-of-type {\n",
       "        vertical-align: middle;\n",
       "    }\n",
       "\n",
       "    .dataframe tbody tr th {\n",
       "        vertical-align: top;\n",
       "    }\n",
       "\n",
       "    .dataframe thead th {\n",
       "        text-align: right;\n",
       "    }\n",
       "</style>\n",
       "<table border=\"1\" class=\"dataframe\">\n",
       "  <thead>\n",
       "    <tr style=\"text-align: right;\">\n",
       "      <th></th>\n",
       "      <th>preprocessers</th>\n",
       "    </tr>\n",
       "  </thead>\n",
       "  <tbody>\n",
       "    <tr>\n",
       "      <th>no_stopwords_nltk</th>\n",
       "      <td>100</td>\n",
       "    </tr>\n",
       "    <tr>\n",
       "      <th>empty</th>\n",
       "      <td>168</td>\n",
       "    </tr>\n",
       "    <tr>\n",
       "      <th>lemmatize</th>\n",
       "      <td>136</td>\n",
       "    </tr>\n",
       "    <tr>\n",
       "      <th>lowercase</th>\n",
       "      <td>196</td>\n",
       "    </tr>\n",
       "    <tr>\n",
       "      <th>no_punctuation</th>\n",
       "      <td>168</td>\n",
       "    </tr>\n",
       "    <tr>\n",
       "      <th>stem</th>\n",
       "      <td>136</td>\n",
       "    </tr>\n",
       "    <tr>\n",
       "      <th>no_stopwords_spacy</th>\n",
       "      <td>104</td>\n",
       "    </tr>\n",
       "  </tbody>\n",
       "</table>\n",
       "</div>"
      ],
      "text/plain": [
       "                    preprocessers\n",
       "no_stopwords_nltk             100\n",
       "empty                         168\n",
       "lemmatize                     136\n",
       "lowercase                     196\n",
       "no_punctuation                168\n",
       "stem                          136\n",
       "no_stopwords_spacy            104"
      ]
     },
     "metadata": {},
     "output_type": "display_data"
    },
    {
     "data": {
      "text/html": [
       "<div>\n",
       "<style scoped>\n",
       "    .dataframe tbody tr th:only-of-type {\n",
       "        vertical-align: middle;\n",
       "    }\n",
       "\n",
       "    .dataframe tbody tr th {\n",
       "        vertical-align: top;\n",
       "    }\n",
       "\n",
       "    .dataframe thead th {\n",
       "        text-align: right;\n",
       "    }\n",
       "</style>\n",
       "<table border=\"1\" class=\"dataframe\">\n",
       "  <thead>\n",
       "    <tr style=\"text-align: right;\">\n",
       "      <th></th>\n",
       "      <th>tokeniser</th>\n",
       "    </tr>\n",
       "  </thead>\n",
       "  <tbody>\n",
       "    <tr>\n",
       "      <th>bert</th>\n",
       "      <td>248</td>\n",
       "    </tr>\n",
       "    <tr>\n",
       "      <th>whitespace</th>\n",
       "      <td>116</td>\n",
       "    </tr>\n",
       "    <tr>\n",
       "      <th>stanford</th>\n",
       "      <td>92</td>\n",
       "    </tr>\n",
       "    <tr>\n",
       "      <th>bpe</th>\n",
       "      <td>56</td>\n",
       "    </tr>\n",
       "    <tr>\n",
       "      <th>treebank</th>\n",
       "      <td>48</td>\n",
       "    </tr>\n",
       "  </tbody>\n",
       "</table>\n",
       "</div>"
      ],
      "text/plain": [
       "            tokeniser\n",
       "bert              248\n",
       "whitespace        116\n",
       "stanford           92\n",
       "bpe                56\n",
       "treebank           48"
      ]
     },
     "metadata": {},
     "output_type": "display_data"
    },
    {
     "data": {
      "text/html": [
       "<div>\n",
       "<style scoped>\n",
       "    .dataframe tbody tr th:only-of-type {\n",
       "        vertical-align: middle;\n",
       "    }\n",
       "\n",
       "    .dataframe tbody tr th {\n",
       "        vertical-align: top;\n",
       "    }\n",
       "\n",
       "    .dataframe thead th {\n",
       "        text-align: right;\n",
       "    }\n",
       "</style>\n",
       "<table border=\"1\" class=\"dataframe\">\n",
       "  <thead>\n",
       "    <tr style=\"text-align: right;\">\n",
       "      <th></th>\n",
       "      <th>featuriser</th>\n",
       "    </tr>\n",
       "  </thead>\n",
       "  <tbody>\n",
       "    <tr>\n",
       "      <th>bow_binary</th>\n",
       "      <td>116</td>\n",
       "    </tr>\n",
       "    <tr>\n",
       "      <th>tf_idf</th>\n",
       "      <td>104</td>\n",
       "    </tr>\n",
       "    <tr>\n",
       "      <th>bert_cls</th>\n",
       "      <td>92</td>\n",
       "    </tr>\n",
       "    <tr>\n",
       "      <th>bert_mean</th>\n",
       "      <td>84</td>\n",
       "    </tr>\n",
       "    <tr>\n",
       "      <th>bow_count</th>\n",
       "      <td>84</td>\n",
       "    </tr>\n",
       "    <tr>\n",
       "      <th>glove_mean</th>\n",
       "      <td>80</td>\n",
       "    </tr>\n",
       "  </tbody>\n",
       "</table>\n",
       "</div>"
      ],
      "text/plain": [
       "            featuriser\n",
       "bow_binary         116\n",
       "tf_idf             104\n",
       "bert_cls            92\n",
       "bert_mean           84\n",
       "bow_count           84\n",
       "glove_mean          80"
      ]
     },
     "metadata": {},
     "output_type": "display_data"
    },
    {
     "data": {
      "text/html": [
       "<div>\n",
       "<style scoped>\n",
       "    .dataframe tbody tr th:only-of-type {\n",
       "        vertical-align: middle;\n",
       "    }\n",
       "\n",
       "    .dataframe tbody tr th {\n",
       "        vertical-align: top;\n",
       "    }\n",
       "\n",
       "    .dataframe thead th {\n",
       "        text-align: right;\n",
       "    }\n",
       "</style>\n",
       "<table border=\"1\" class=\"dataframe\">\n",
       "  <thead>\n",
       "    <tr style=\"text-align: right;\">\n",
       "      <th></th>\n",
       "      <th>model</th>\n",
       "    </tr>\n",
       "  </thead>\n",
       "  <tbody>\n",
       "    <tr>\n",
       "      <th>mlp</th>\n",
       "      <td>124</td>\n",
       "    </tr>\n",
       "    <tr>\n",
       "      <th>deep_linear</th>\n",
       "      <td>112</td>\n",
       "    </tr>\n",
       "    <tr>\n",
       "      <th>catboost</th>\n",
       "      <td>104</td>\n",
       "    </tr>\n",
       "    <tr>\n",
       "      <th>xgboost</th>\n",
       "      <td>96</td>\n",
       "    </tr>\n",
       "    <tr>\n",
       "      <th>resnet</th>\n",
       "      <td>72</td>\n",
       "    </tr>\n",
       "    <tr>\n",
       "      <th>deep_linear_ft</th>\n",
       "      <td>20</td>\n",
       "    </tr>\n",
       "    <tr>\n",
       "      <th>resnet_ft</th>\n",
       "      <td>20</td>\n",
       "    </tr>\n",
       "    <tr>\n",
       "      <th>mlp_ft</th>\n",
       "      <td>12</td>\n",
       "    </tr>\n",
       "  </tbody>\n",
       "</table>\n",
       "</div>"
      ],
      "text/plain": [
       "                model\n",
       "mlp               124\n",
       "deep_linear       112\n",
       "catboost          104\n",
       "xgboost            96\n",
       "resnet             72\n",
       "deep_linear_ft     20\n",
       "resnet_ft          20\n",
       "mlp_ft             12"
      ]
     },
     "metadata": {},
     "output_type": "display_data"
    }
   ],
   "source": [
    "def count_unique_values(df: pd.DataFrame, feature: str):\n",
    "    return df[feature].value_counts().to_dict()\n",
    "\n",
    "def count_unique_values_of_set(df: pd.DataFrame, feature: str):\n",
    "    counts = {}\n",
    "    for row in df.itertuples():\n",
    "        in_the_bag = getattr(row, feature)\n",
    "        for feature_value in in_the_bag:\n",
    "            counts[feature_value] = counts.get(feature_value, 0) + 1\n",
    "    return counts\n",
    "\n",
    "def create_pipeline_counts_table(df: pd.DataFrame):\n",
    "    tables = []\n",
    "    # Get counts for each pipeline step\n",
    "    counts = {}\n",
    "    counts[\"preprocessers\"] = count_unique_values_of_set(df, \"preprocessers\")\n",
    "    counts[\"tokeniser\"] = count_unique_values(df, \"tokeniser\") \n",
    "    counts[\"featuriser\"] = count_unique_values(df, \"featuriser\")\n",
    "    counts[\"model\"] = count_unique_values(df, \"model\")\n",
    "    \n",
    "    for feature in [\"preprocessers\", \"tokeniser\", \"featuriser\", \"model\"]:\n",
    "        counts_df = pd.DataFrame({feature: pd.Series(counts[feature])})\n",
    "        tables.append(counts_df)\n",
    "        latex_table = counts_df.to_latex(\n",
    "            float_format=simple_format,\n",
    "            na_rep='',\n",
    "            header=False,\n",
    "            escape=False\n",
    "        )\n",
    "        latex_table = latex_table.replace(\"_\", \"-\")\n",
    "\n",
    "        # Save to file\n",
    "        table_path = table_dir / f\"{config_str}_pipeline_counts_{feature}.tex\"\n",
    "        with open(table_path, 'w') as f:\n",
    "            f.write(latex_table)\n",
    "        \n",
    "    return tables\n",
    "\n",
    "# Generate and display the table\n",
    "pipeline_counts = create_pipeline_counts_table(results_df)\n",
    "for table in pipeline_counts:\n",
    "    display(table)\n"
   ]
  },
  {
   "cell_type": "markdown",
   "metadata": {},
   "source": [
    "# Look at spread associated with each component"
   ]
  },
  {
   "cell_type": "code",
   "execution_count": 264,
   "metadata": {},
   "outputs": [],
   "source": [
    "def histogram_on_feature(\n",
    "        df: pd.DataFrame, \n",
    "        feature: str, \n",
    "        metric: str, \n",
    "        threshold: float = None, \n",
    "        histogram: bool = True,\n",
    "        mean_line: float = None,\n",
    "        **kwargs\n",
    "    ):\n",
    "    if threshold is not None:\n",
    "        df = df[df[metric] < threshold]\n",
    "    unique_features = df[feature].unique()\n",
    "    unique_features = sorted(unique_features)\n",
    "    if histogram:\n",
    "        fig = make_subplots(rows=len(unique_features), cols=1, shared_xaxes=True, subplot_titles=unique_features)\n",
    "    else:\n",
    "        fig = make_subplots(rows=1, cols=len(unique_features), shared_yaxes=True, subplot_titles=unique_features)\n",
    "    for i, feature_value in enumerate(unique_features):\n",
    "        feature_data = df[df[feature] == feature_value][metric]\n",
    "        if histogram:\n",
    "            fig.add_trace(\n",
    "                go.Histogram(\n",
    "                x=feature_data, \n",
    "                name=feature_value, \n",
    "                texttemplate=\"%{y:.2f}\",\n",
    "                histnorm=\"percent\",\n",
    "                marker_color=\"gray\",\n",
    "                **kwargs\n",
    "            ), \n",
    "                row=i+1, col=1\n",
    "            )\n",
    "        else:\n",
    "            fig.add_trace(\n",
    "                go.Box(\n",
    "                    y=feature_data,\n",
    "                    name=feature_value,\n",
    "                    marker_color=\"gray\",\n",
    "                    **kwargs\n",
    "                ),\n",
    "                row=1, col=i+1\n",
    "            )\n",
    "    if mean_line is not None:\n",
    "        if histogram:\n",
    "            fig.add_vline(x=mean_line, line_dash=\"dash\", line_color=\"red\")\n",
    "        else:\n",
    "            fig.add_hline(y=mean_line, line_dash=\"dash\", line_color=\"red\")\n",
    "    if histogram:\n",
    "        fig.update_layout(height=200 * len(unique_features))\n",
    "    else:\n",
    "        fig.update_layout(width=200 * len(unique_features))\n",
    "    fig.update_layout(title=f\"Distribution of {metric} by {feature}\")\n",
    "    fig.update_layout(showlegend=False)\n",
    "    return fig\n",
    "\n",
    "def histogram_on_set(\n",
    "        df: pd.DataFrame, \n",
    "        feature: str, \n",
    "        metric: str, \n",
    "        threshold: float = None,\n",
    "        histogram: bool = True,\n",
    "        mean_line: float = None,\n",
    "        **kwargs\n",
    "    ):\n",
    "    if threshold is not None:\n",
    "        df = df[df[metric] < threshold]\n",
    "    bags = defaultdict(list)\n",
    "    for row in df.itertuples():\n",
    "        bag = getattr(row, feature)\n",
    "        for feature_value in bag:\n",
    "            bags[feature_value].append(getattr(row, metric))\n",
    "        if len(bag) == 0:\n",
    "            bags[\"Empty\"].append(getattr(row, metric))\n",
    "    bags = dict(sorted(bags.items()))\n",
    "    if histogram:\n",
    "        fig = make_subplots(rows=len(bags), cols=1, shared_xaxes=True, subplot_titles=list(bags.keys()))\n",
    "    else:\n",
    "        fig = make_subplots(rows=1, cols=len(bags), shared_yaxes=True, subplot_titles=list(bags.keys()))\n",
    "    for i, (feature_value, values) in enumerate(bags.items()):\n",
    "        if histogram:\n",
    "            fig.add_trace(\n",
    "                go.Histogram(\n",
    "                    x=values,\n",
    "                    name=feature_value,\n",
    "                    texttemplate=\"%{y:.2f}\",\n",
    "                    histnorm=\"percent\",\n",
    "                    marker_color=\"gray\",\n",
    "                    **kwargs\n",
    "                ),\n",
    "                row=i+1, col=1\n",
    "            )\n",
    "        else:\n",
    "            fig.add_trace(\n",
    "                go.Box(\n",
    "                    y=values,\n",
    "                    name=feature_value,\n",
    "                    marker_color=\"gray\",\n",
    "                    **kwargs\n",
    "                ),\n",
    "                row=1, col=i+1\n",
    "            )\n",
    "    if mean_line is not None:\n",
    "        if histogram:\n",
    "            fig.add_vline(x=mean_line, line_dash=\"dash\", line_color=\"red\")\n",
    "        else:\n",
    "            fig.add_hline(y=mean_line, line_dash=\"dash\", line_color=\"red\")\n",
    "    if histogram:\n",
    "        fig.update_layout(height=200 * len(bags))\n",
    "    else:\n",
    "        fig.update_layout(width=200 * len(bags))\n",
    "    fig.update_layout(title=f\"Distribution of {metric} for {feature}\")\n",
    "    fig.update_layout(showlegend=False)\n",
    "    return fig\n",
    "\n",
    "\n",
    "fig = histogram_on_set(results_df, \"preprocessers\", metric, mean_line=perf_of_mean)\n",
    "fig.write_image(histogram_dir / f\"{config_str}_preprocessers_histogram.{image_ext}\")\n",
    "for feature in [\"tokeniser\", \"featuriser\", \"model\"]:\n",
    "    fig = histogram_on_feature(results_df, feature, metric, mean_line=perf_of_mean)\n",
    "    fig.write_image(histogram_dir / f\"{config_str}_{feature}_histogram.{image_ext}\")\n"
   ]
  },
  {
   "cell_type": "code",
   "execution_count": 265,
   "metadata": {},
   "outputs": [],
   "source": [
    "fig = histogram_on_set(results_df, \"preprocessers\", metric, histogram=False, mean_line=perf_of_mean)\n",
    "# fig.show()\n",
    "# fig.write_html(OUTPUT_DIR / f\"{dataset}_{metric}_filtered_{k}_preprocessers_boxplot.html\")\n",
    "fig.write_image(boxplot_dir / f\"{config_str}_preprocessers_boxplot.{image_ext}\")\n",
    "\n",
    "for feature in [\"tokeniser\", \"featuriser\", \"model\"]:\n",
    "    fig = histogram_on_feature(results_df, feature, metric, histogram=False, mean_line=perf_of_mean)\n",
    "    # fig.show()\n",
    "    # fig.write_html(OUTPUT_DIR / f\"{dataset}_{metric}_filtered_{k}_{feature}_boxplot.html\")\n",
    "    fig.write_image(boxplot_dir / f\"{config_str}_{feature}_boxplot.{image_ext}\")\n"
   ]
  },
  {
   "cell_type": "markdown",
   "metadata": {},
   "source": [
    "# Develop filtering/conditioning logic"
   ]
  },
  {
   "cell_type": "code",
   "execution_count": 266,
   "metadata": {},
   "outputs": [],
   "source": [
    "def condition_on(\n",
    "        equals_conditions: list[tuple[str, str]], \n",
    "        not_equals_conditions: list[tuple[str, str]], \n",
    "        df: pd.DataFrame\n",
    "    ):\n",
    "    \"\"\"\n",
    "    A condition is a tuple of (column, value)\n",
    "\n",
    "    We want to filter the dataframe to only include rows where the equals \n",
    "    conditions are true AND the not equals conditions are false.\n",
    "    \"\"\"\n",
    "    subset = df.copy()  \n",
    "    for condition in equals_conditions:\n",
    "        idx = subset[condition[0]].str.contains(condition[1])\n",
    "        subset = subset.loc[idx, :]\n",
    "    for condition in not_equals_conditions:\n",
    "        idx = subset[condition[0]] != condition[1]\n",
    "        subset = subset.loc[idx, :]\n",
    "    return subset\n",
    "\n",
    "def condition_featuriser(df: pd.DataFrame, option: str):\n",
    "    condition = [(\"featuriser\", option)]\n",
    "    return condition_on(condition, [], df)\n",
    "\n",
    "def condition_not_featuriser(df: pd.DataFrame, option: str):\n",
    "    condition = [(\"featuriser\", option)]\n",
    "    return condition_on([], condition, df)\n",
    "\n",
    "featurisers = [\"glove_mean\", \"bow_count\", \"bow_binary\", \"tf_idf\", \"bert_cls\", \"bert_mean\"]\n",
    "conditioned_on = {}\n",
    "conditioned_not_on = {}\n",
    "\n",
    "for condition in featurisers:\n",
    "    conditioned_on[condition] = condition_featuriser(filtered_results, condition)\n",
    "    conditioned_not_on[condition] = condition_not_featuriser(filtered_results, condition)"
   ]
  },
  {
   "cell_type": "markdown",
   "metadata": {},
   "source": [
    "# BoW for DL"
   ]
  },
  {
   "cell_type": "code",
   "execution_count": 267,
   "metadata": {},
   "outputs": [],
   "source": [
    "if filter_only_replicates:\n",
    "    to_consider_rmse = filtered_results.groupby([\"preprocesser(s)\", \"tokeniser\", \"featuriser\", \"model\"]).agg({metric: [\"mean\", \"sem\"]}).reset_index()\n",
    "    to_consider_rmse.columns = [\"preprocesser(s)\", \"tokeniser\", \"featuriser\", \"model\", f\"{metric}\", f\"{metric}_sem\"]\n",
    "    title = \"dist of mean RMSE for each pipeline\"\n",
    "else:\n",
    "    to_consider_rmse = filtered_results\n",
    "    title = \"dist of RMSE for each pipeline\""
   ]
  },
  {
   "cell_type": "code",
   "execution_count": 268,
   "metadata": {},
   "outputs": [
    {
     "name": "stderr",
     "output_type": "stream",
     "text": [
      "/tmp/ipykernel_249924/3578367382.py:28: SettingWithCopyWarning:\n",
      "\n",
      "\n",
      "A value is trying to be set on a copy of a slice from a DataFrame.\n",
      "Try using .loc[row_indexer,col_indexer] = value instead\n",
      "\n",
      "See the caveats in the documentation: https://pandas.pydata.org/pandas-docs/stable/user_guide/indexing.html#returning-a-view-versus-a-copy\n",
      "\n",
      "/tmp/ipykernel_249924/3578367382.py:29: SettingWithCopyWarning:\n",
      "\n",
      "\n",
      "A value is trying to be set on a copy of a slice from a DataFrame.\n",
      "Try using .loc[row_indexer,col_indexer] = value instead\n",
      "\n",
      "See the caveats in the documentation: https://pandas.pydata.org/pandas-docs/stable/user_guide/indexing.html#returning-a-view-versus-a-copy\n",
      "\n",
      "/tmp/ipykernel_249924/3578367382.py:31: SettingWithCopyWarning:\n",
      "\n",
      "\n",
      "A value is trying to be set on a copy of a slice from a DataFrame.\n",
      "Try using .loc[row_indexer,col_indexer] = value instead\n",
      "\n",
      "See the caveats in the documentation: https://pandas.pydata.org/pandas-docs/stable/user_guide/indexing.html#returning-a-view-versus-a-copy\n",
      "\n",
      "/tmp/ipykernel_249924/3578367382.py:32: SettingWithCopyWarning:\n",
      "\n",
      "\n",
      "A value is trying to be set on a copy of a slice from a DataFrame.\n",
      "Try using .loc[row_indexer,col_indexer] = value instead\n",
      "\n",
      "See the caveats in the documentation: https://pandas.pydata.org/pandas-docs/stable/user_guide/indexing.html#returning-a-view-versus-a-copy\n",
      "\n"
     ]
    }
   ],
   "source": [
    "dl_models = [\"mlp\", \"resnet\", \"deep_linear\"]\n",
    "gbdt_models = [\"catboost\", \"xgboost\"]\n",
    "bow_models = [\"bow_count\", \"bow_binary\", \"tf_idf\"]\n",
    "ignore_glove = to_consider_rmse[\"featuriser\"] != \"glove_mean\"\n",
    "bow_comparison_df = to_consider_rmse[ignore_glove]\n",
    "dl_models = dl_models\n",
    "ft_dl_models = [f\"{x}_ft\" for x in dl_models]\n",
    "is_dl_model = bow_comparison_df[\"model\"].isin(dl_models)\n",
    "is_ft_dl_model = bow_comparison_df[\"model\"].isin(ft_dl_models)\n",
    "is_bow_model = bow_comparison_df[\"featuriser\"].isin(bow_models)\n",
    "is_gbdt_model = bow_comparison_df[\"model\"].isin(gbdt_models)\n",
    "\n",
    "bow_dl_results = bow_comparison_df[\n",
    "    is_dl_model & is_bow_model\n",
    "]\n",
    "bow_ft_dl_results = bow_comparison_df[\n",
    "    is_ft_dl_model & is_bow_model\n",
    "]\n",
    "bow_gbdt_results = bow_comparison_df[\n",
    "    is_gbdt_model & is_bow_model\n",
    "]\n",
    "not_bow_dl_results = bow_comparison_df[\n",
    "    is_dl_model & ~is_bow_model\n",
    "]\n",
    "not_bow_ft_dl_results = bow_comparison_df[\n",
    "    is_ft_dl_model & ~is_bow_model\n",
    "]\n",
    "bow_gbdt_results[\"model_type\"] = \"GBDT w/ BoW\"\n",
    "bow_dl_results[\"model_type\"] = \"DL w/ BoW\"\n",
    "bow_ft_dl_results[\"model_type\"] = \"DL w/ BoW + Finetuning\" # Wait this shouldnt be possible?\n",
    "not_bow_dl_results[\"model_type\"] = \"DL w/o BoW\"\n",
    "not_bow_ft_dl_results[\"model_type\"] = \"DL w/o BoW + Finetuning\"\n",
    "\n",
    "comparison = pd.concat([\n",
    "    bow_dl_results, \n",
    "    not_bow_dl_results, \n",
    "    bow_ft_dl_results, \n",
    "    not_bow_ft_dl_results,\n",
    "    bow_gbdt_results\n",
    "])\n",
    "fig = px.box(\n",
    "    comparison,\n",
    "    x=\"model_type\",\n",
    "    y=metric,\n",
    "    points=\"outliers\",\n",
    "    title=title\n",
    ")\n",
    "fig.add_hline(y=perf_of_mean, line_dash=\"dash\", line_color=\"gray\")\n",
    "fig.write_image(\n",
    "    OUTPUT_DIR / dataset / \"1d_boxplots\" / f\"{config_str}_bow_dl_gbdt.{image_ext}\",\n",
    "    height=SAVE_HEIGHT,\n",
    "    width=SAVE_WIDTH,\n",
    "    scale=2\n",
    ")\n"
   ]
  },
  {
   "cell_type": "markdown",
   "metadata": {},
   "source": [
    "# DL w/ Finetuning vs w/out"
   ]
  },
  {
   "cell_type": "markdown",
   "metadata": {},
   "source": [
    "Look into whether we have graphically noticable differences between pipelines that had BERT featurisation using and not using finetuning"
   ]
  },
  {
   "cell_type": "code",
   "execution_count": 269,
   "metadata": {},
   "outputs": [],
   "source": [
    "plot_version = 4"
   ]
  },
  {
   "cell_type": "code",
   "execution_count": 270,
   "metadata": {},
   "outputs": [
    {
     "data": {
      "text/plain": [
       "array(['mlp_ft', 'deep_linear_ft', 'resnet_ft', 'mlp', 'deep_linear',\n",
       "       'xgboost', 'resnet', 'catboost'], dtype=object)"
      ]
     },
     "execution_count": 270,
     "metadata": {},
     "output_type": "execute_result"
    }
   ],
   "source": [
    "unique_models = filtered_results[\"model\"].unique()\n",
    "unique_models "
   ]
  },
  {
   "cell_type": "code",
   "execution_count": 271,
   "metadata": {},
   "outputs": [],
   "source": [
    "if False:\n",
    "    to_consider_rmse = filtered_results.groupby([\"preprocesser(s)\", \"tokeniser\", \"featuriser\", \"model\"]).agg({metric: [\"mean\", \"sem\"]}).reset_index()\n",
    "    to_consider_rmse.columns = [\"preprocesser(s)\", \"tokeniser\", \"featuriser\", \"model\", f\"{metric}\", f\"{metric}_sem\"]\n",
    "else:\n",
    "    to_consider_rmse = filtered_results"
   ]
  },
  {
   "cell_type": "code",
   "execution_count": 272,
   "metadata": {},
   "outputs": [
    {
     "name": "stderr",
     "output_type": "stream",
     "text": [
      "/tmp/ipykernel_249924/2484556661.py:49: SettingWithCopyWarning:\n",
      "\n",
      "\n",
      "A value is trying to be set on a copy of a slice from a DataFrame.\n",
      "Try using .loc[row_indexer,col_indexer] = value instead\n",
      "\n",
      "See the caveats in the documentation: https://pandas.pydata.org/pandas-docs/stable/user_guide/indexing.html#returning-a-view-versus-a-copy\n",
      "\n",
      "/tmp/ipykernel_249924/2484556661.py:50: SettingWithCopyWarning:\n",
      "\n",
      "\n",
      "A value is trying to be set on a copy of a slice from a DataFrame.\n",
      "Try using .loc[row_indexer,col_indexer] = value instead\n",
      "\n",
      "See the caveats in the documentation: https://pandas.pydata.org/pandas-docs/stable/user_guide/indexing.html#returning-a-view-versus-a-copy\n",
      "\n",
      "/tmp/ipykernel_249924/2484556661.py:51: SettingWithCopyWarning:\n",
      "\n",
      "\n",
      "A value is trying to be set on a copy of a slice from a DataFrame.\n",
      "Try using .loc[row_indexer,col_indexer] = value instead\n",
      "\n",
      "See the caveats in the documentation: https://pandas.pydata.org/pandas-docs/stable/user_guide/indexing.html#returning-a-view-versus-a-copy\n",
      "\n",
      "/tmp/ipykernel_249924/2484556661.py:52: SettingWithCopyWarning:\n",
      "\n",
      "\n",
      "A value is trying to be set on a copy of a slice from a DataFrame.\n",
      "Try using .loc[row_indexer,col_indexer] = value instead\n",
      "\n",
      "See the caveats in the documentation: https://pandas.pydata.org/pandas-docs/stable/user_guide/indexing.html#returning-a-view-versus-a-copy\n",
      "\n",
      "/tmp/ipykernel_249924/2484556661.py:53: SettingWithCopyWarning:\n",
      "\n",
      "\n",
      "A value is trying to be set on a copy of a slice from a DataFrame.\n",
      "Try using .loc[row_indexer,col_indexer] = value instead\n",
      "\n",
      "See the caveats in the documentation: https://pandas.pydata.org/pandas-docs/stable/user_guide/indexing.html#returning-a-view-versus-a-copy\n",
      "\n",
      "/tmp/ipykernel_249924/2484556661.py:54: SettingWithCopyWarning:\n",
      "\n",
      "\n",
      "A value is trying to be set on a copy of a slice from a DataFrame.\n",
      "Try using .loc[row_indexer,col_indexer] = value instead\n",
      "\n",
      "See the caveats in the documentation: https://pandas.pydata.org/pandas-docs/stable/user_guide/indexing.html#returning-a-view-versus-a-copy\n",
      "\n"
     ]
    }
   ],
   "source": [
    "using_ft = condition_on([(\"model\", \"ft\")], [], to_consider_rmse)\n",
    "with_mlp = to_consider_rmse[\"model\"] == \"mlp\"\n",
    "with_linear = to_consider_rmse[\"model\"] == \"deep_linear\"\n",
    "with_resnet = to_consider_rmse[\"model\"] == \"resnet\"\n",
    "using_dl = with_mlp | with_linear | with_resnet\n",
    "with_bert_featurizer = (to_consider_rmse[\"featuriser\"] == \"bert_cls\") | (to_consider_rmse[\"featuriser\"] == \"bert_mean\")\n",
    "with_bow_featurizer = (to_consider_rmse[\"featuriser\"] == \"bow_count\") | (to_consider_rmse[\"featuriser\"] == \"bow_binary\") | (to_consider_rmse[\"featuriser\"] == \"tf_idf\")\n",
    "with_glove_featurizer = (to_consider_rmse[\"featuriser\"] == \"glove_mean\")\n",
    "\n",
    "using_dl_no_ft = using_dl & with_bert_featurizer\n",
    "incompatible_dl = using_dl & ~with_bert_featurizer\n",
    "bert_no_dl = ~using_dl & with_bert_featurizer\n",
    "using_dl_w_glove = using_dl & with_glove_featurizer\n",
    "dl_w_bow = using_dl & with_bow_featurizer\n",
    "\n",
    "subsampled = {}\n",
    "\n",
    "subsampled[\"using_ft\"] = using_ft\n",
    "subsampled[\"using_dl_no_ft\"] = to_consider_rmse[using_dl_no_ft]\n",
    "subsampled[\"using_dl_no_ft_incompatible\"] = to_consider_rmse[incompatible_dl]\n",
    "subsampled[\"using_dl_w_bow\"] = to_consider_rmse[dl_w_bow]\n",
    "subsampled[\"using_dl_w_glove\"] = to_consider_rmse[using_dl_w_glove]\n",
    "subsampled[\"using_bert_no_dl\"] = to_consider_rmse[bert_no_dl]\n",
    "subsampled[\"using_bow\"] = to_consider_rmse[with_bow_featurizer]\n",
    "\n",
    "compare_dl_ft = pd.DataFrame({\n",
    "    \"Model Type\": [\"DL + BERT w/ Finetuning\", \"DL + BERT w/o Finetuning\", \"DL + BoW\"],\n",
    "    \"Mean\": [\n",
    "        subsampled[\"using_ft\"][metric].mean(), \n",
    "        subsampled[\"using_dl_no_ft\"][metric].mean(), \n",
    "        subsampled[\"using_dl_w_bow\"][metric].mean()\n",
    "    ],\n",
    "    \"Standard Error\": [\n",
    "        subsampled[\"using_ft\"][metric].sem(), \n",
    "        subsampled[\"using_dl_no_ft\"][metric].sem(), \n",
    "        subsampled[\"using_dl_w_bow\"][metric].sem()\n",
    "    ]\n",
    "}).round(0)\n",
    "\n",
    "latex_table = compare_dl_ft.to_latex(\n",
    "    index=False,\n",
    "    float_format=simple_format\n",
    ")\n",
    "latex_table = process_latex_table(latex_table)\n",
    "with open(table_dir / f\"{config_str}_compare_dl_ft.tex\", \"w\") as f:\n",
    "    f.write(latex_table)\n",
    "\n",
    "subsampled[\"using_ft\"][\"model_type\"] = \"BERT+DL w/ Finetuning\"\n",
    "subsampled[\"using_dl_no_ft\"][\"model_type\"] = \"BERT+DL w/o Finetuning\"\n",
    "subsampled[\"using_dl_no_ft_incompatible\"][\"model_type\"] = \"Not BERT+DL\"\n",
    "subsampled[\"using_bert_no_dl\"][\"model_type\"] = \"BERT w/o DL\"\n",
    "subsampled[\"using_dl_w_bow\"][\"model_type\"] = \"BoW+DL\"\n",
    "subsampled[\"using_dl_w_glove\"][\"model_type\"] = \"GloVe+DL\"\n",
    "subsampled[\"using_bow\"][\"model_type\"] = \"BoW\"\n",
    "\n",
    "# Can also group by pipeline_hash and model_type - to compare main effects, not thought it through though so will just use raw data\n",
    "grouped_subsampled = {}\n",
    "for sampled in subsampled:\n",
    "    grouped_subsampled[sampled] = subsampled[sampled].groupby([\"pipeline_hash\", \"model_type\"]).agg({metric: \"mean\"}).reset_index()\n",
    "\n",
    "if plot_version == 5:\n",
    "    to_analyze = grouped_subsampled\n",
    "else:\n",
    "    to_analyze = subsampled\n",
    "\n",
    "to_combine = [\n",
    "    to_analyze[\"using_ft\"], \n",
    "    to_analyze[\"using_dl_no_ft\"]\n",
    "]\n",
    "if plot_version == 2:\n",
    "    to_combine.append(to_analyze[\"using_dl_no_ft_incompatible\"])\n",
    "if plot_version == 3:\n",
    "    to_combine.append(to_analyze[\"using_dl_w_bow\"])\n",
    "    to_combine.append(to_analyze[\"using_dl_w_glove\"])\n",
    "    to_combine.append(to_analyze[\"using_bert_no_dl\"])\n",
    "if plot_version == 4 or plot_version == 5:\n",
    "    to_combine.append(to_analyze[\"using_bow\"])\n",
    "combined = pd.concat(to_combine)\n",
    "\n",
    "\n",
    "fig = px.box(\n",
    "    combined,\n",
    "    y=metric,\n",
    "    x=\"model_type\",\n",
    "    points=\"outliers\"\n",
    ")\n",
    "fig.add_hline(y=perf_of_mean, line_dash=\"dash\", line_color=\"gray\")\n",
    "savepath = OUTPUT_DIR / dataset / \"1d_boxplots\" / f\"{config_str}_compare_dl_ft.{image_ext}\"\n",
    "if plot_version == 2:\n",
    "    savepath = OUTPUT_DIR / dataset / \"1d_boxplots\" / f\"{config_str}_compare_dl_ft_incompatible.{image_ext}\"\n",
    "if plot_version == 3:\n",
    "    savepath = OUTPUT_DIR / dataset / \"1d_boxplots\" / f\"{config_str}_compare_dl_ft_bow.{image_ext}\"\n",
    "if plot_version == 4:\n",
    "    savepath = OUTPUT_DIR / dataset / \"1d_boxplots\" / f\"{config_str}_compare_dl_ft_bow_v4.{image_ext}\"\n",
    "if plot_version == 5:\n",
    "    savepath = OUTPUT_DIR / dataset / \"1d_boxplots\" / f\"{config_str}_compare_dl_ft_bow_v5.{image_ext}\"\n",
    "fig.write_image(\n",
    "    savepath,\n",
    "    height=SAVE_HEIGHT,\n",
    "    width=SAVE_WIDTH,\n",
    "    scale=2\n",
    ")\n"
   ]
  },
  {
   "cell_type": "code",
   "execution_count": 273,
   "metadata": {},
   "outputs": [
    {
     "name": "stderr",
     "output_type": "stream",
     "text": [
      "/tmp/ipykernel_249924/3240004188.py:4: SettingWithCopyWarning:\n",
      "\n",
      "\n",
      "A value is trying to be set on a copy of a slice from a DataFrame.\n",
      "Try using .loc[row_indexer,col_indexer] = value instead\n",
      "\n",
      "See the caveats in the documentation: https://pandas.pydata.org/pandas-docs/stable/user_guide/indexing.html#returning-a-view-versus-a-copy\n",
      "\n",
      "/tmp/ipykernel_249924/3240004188.py:8: SettingWithCopyWarning:\n",
      "\n",
      "\n",
      "A value is trying to be set on a copy of a slice from a DataFrame.\n",
      "Try using .loc[row_indexer,col_indexer] = value instead\n",
      "\n",
      "See the caveats in the documentation: https://pandas.pydata.org/pandas-docs/stable/user_guide/indexing.html#returning-a-view-versus-a-copy\n",
      "\n",
      "/tmp/ipykernel_249924/3240004188.py:12: SettingWithCopyWarning:\n",
      "\n",
      "\n",
      "A value is trying to be set on a copy of a slice from a DataFrame.\n",
      "Try using .loc[row_indexer,col_indexer] = value instead\n",
      "\n",
      "See the caveats in the documentation: https://pandas.pydata.org/pandas-docs/stable/user_guide/indexing.html#returning-a-view-versus-a-copy\n",
      "\n"
     ]
    }
   ],
   "source": [
    "using_gbdt_w_bow = to_consider_rmse[\n",
    "    ~using_dl & with_bow_featurizer\n",
    "]\n",
    "using_gbdt_w_bow[\"model_type\"] = \"BoW + GBDT\"\n",
    "using_gbdt_w_glove = to_consider_rmse[\n",
    "    ~using_dl & with_glove_featurizer\n",
    "]\n",
    "using_gbdt_w_glove[\"model_type\"] = \"GloVe + GBDT\"\n",
    "using_gbdt_w_bert = to_consider_rmse[\n",
    "    ~using_dl & with_bert_featurizer\n",
    "]\n",
    "using_gbdt_w_bert[\"model_type\"] = \"BERT + GBDT\"\n",
    "\n",
    "subsampled[\"using_gbdt_w_bow\"] = using_gbdt_w_bow\n",
    "subsampled[\"using_gbdt_w_glove\"] = using_gbdt_w_glove\n",
    "subsampled[\"using_gbdt_w_bert\"] = using_gbdt_w_bert\n",
    "\n",
    "if plot_version == 5:\n",
    "    grouped_subsampled[\"using_gbdt_w_bow\"] = using_gbdt_w_bow.groupby([\"pipeline_hash\", \"model_type\"]).agg({metric: \"mean\"}).reset_index()\n",
    "    grouped_subsampled[\"using_gbdt_w_glove\"] = using_gbdt_w_glove.groupby([\"pipeline_hash\", \"model_type\"]).agg({metric: \"mean\"}).reset_index()\n",
    "    grouped_subsampled[\"using_gbdt_w_bert\"] = using_gbdt_w_bert.groupby([\"pipeline_hash\", \"model_type\"]).agg({metric: \"mean\"}).reset_index()\n",
    "\n",
    "all_combined = pd.concat([\n",
    "    combined, to_analyze[\"using_gbdt_w_bow\"]\n",
    "])\n",
    "\n",
    "if plot_version == 3 or plot_version == 4 or plot_version == 5:\n",
    "    all_combined = pd.concat([\n",
    "        all_combined, \n",
    "        to_analyze[\"using_gbdt_w_glove\"], \n",
    "        to_analyze[\"using_gbdt_w_bert\"]\n",
    "    ])\n",
    "\n",
    "fig = px.box(\n",
    "    all_combined,\n",
    "    y=metric,\n",
    "    x=\"model_type\",\n",
    "    points=\"outliers\"\n",
    ")\n",
    "fig.add_hline(y=perf_of_mean, line_dash=\"dash\", line_color=\"gray\")\n",
    "savepath = OUTPUT_DIR / dataset / \"1d_boxplots\" / f\"{config_str}_compare_dl_ft_and_bow.{image_ext}\"\n",
    "if plot_version == 2:\n",
    "    savepath = OUTPUT_DIR / dataset / \"1d_boxplots\" / f\"{config_str}_compare_dl_ft_and_bow_incompatible.{image_ext}\"\n",
    "if plot_version == 3:\n",
    "    savepath = OUTPUT_DIR / dataset / \"1d_boxplots\" / f\"{config_str}_compare_dl_ft_and_bow_w_wout_dl.{image_ext}\"\n",
    "if plot_version == 4:\n",
    "    savepath = OUTPUT_DIR / dataset / \"1d_boxplots\" / f\"{config_str}_compare_dl_ft_and_bow_v4.{image_ext}\"\n",
    "if plot_version == 5:\n",
    "    savepath = OUTPUT_DIR / dataset / \"1d_boxplots\" / f\"{config_str}_compare_dl_ft_and_bow_v5.{image_ext}\"\n",
    "fig.write_image(\n",
    "    savepath,\n",
    "    height=SAVE_HEIGHT,\n",
    "    width=SAVE_WIDTH,\n",
    "    scale=2\n",
    ")"
   ]
  },
  {
   "cell_type": "markdown",
   "metadata": {},
   "source": [
    "For BERT featurization to reach the performance of BoW (with or without DL, surprisingly DL performing strongly with BoW) then we must use finetuning"
   ]
  },
  {
   "cell_type": "markdown",
   "metadata": {},
   "source": [
    "## Testing for equivalence to validate reading of graph"
   ]
  },
  {
   "cell_type": "code",
   "execution_count": 274,
   "metadata": {},
   "outputs": [
    {
     "data": {
      "text/html": [
       "<div>\n",
       "<style scoped>\n",
       "    .dataframe tbody tr th:only-of-type {\n",
       "        vertical-align: middle;\n",
       "    }\n",
       "\n",
       "    .dataframe tbody tr th {\n",
       "        vertical-align: top;\n",
       "    }\n",
       "\n",
       "    .dataframe thead th {\n",
       "        text-align: right;\n",
       "    }\n",
       "</style>\n",
       "<table border=\"1\" class=\"dataframe\">\n",
       "  <thead>\n",
       "    <tr style=\"text-align: right;\">\n",
       "      <th></th>\n",
       "      <th>comparison</th>\n",
       "      <th>mean_difference</th>\n",
       "      <th>p_value</th>\n",
       "    </tr>\n",
       "  </thead>\n",
       "  <tbody>\n",
       "    <tr>\n",
       "      <th>0</th>\n",
       "      <td>ft vs no_ft</td>\n",
       "      <td>-52351.657714</td>\n",
       "      <td>0.000010</td>\n",
       "    </tr>\n",
       "    <tr>\n",
       "      <th>1</th>\n",
       "      <td>ft vs bow</td>\n",
       "      <td>-49932.133591</td>\n",
       "      <td>0.000010</td>\n",
       "    </tr>\n",
       "    <tr>\n",
       "      <th>2</th>\n",
       "      <td>no_ft vs bow</td>\n",
       "      <td>2419.524123</td>\n",
       "      <td>0.526265</td>\n",
       "    </tr>\n",
       "  </tbody>\n",
       "</table>\n",
       "</div>"
      ],
      "text/plain": [
       "     comparison  mean_difference   p_value\n",
       "0   ft vs no_ft    -52351.657714  0.000010\n",
       "1     ft vs bow    -49932.133591  0.000010\n",
       "2  no_ft vs bow      2419.524123  0.526265"
      ]
     },
     "metadata": {},
     "output_type": "display_data"
    },
    {
     "name": "stdout",
     "output_type": "stream",
     "text": [
      "Saved to notebook_output/online_boat_listings/tables/rmse_only_4_replicates_compare_dl_w_wout_ft_and_bow.tex\n"
     ]
    }
   ],
   "source": [
    "pairs = [\n",
    "    ((\"ft\", to_analyze[\"using_ft\"]), (\"no_ft\", to_analyze[\"using_dl_no_ft\"])),\n",
    "    ((\"ft\", to_analyze[\"using_ft\"]), (\"bow\", to_analyze[\"using_bow\"])),\n",
    "    ((\"no_ft\", to_analyze[\"using_dl_no_ft\"]), (\"bow\", to_analyze[\"using_bow\"])),\n",
    "]\n",
    "rows = []\n",
    "for (a, b) in pairs:\n",
    "    a_name, a_df = a\n",
    "    b_name, b_df = b\n",
    "    p_val, diff = permutation_test(a_df[metric], b_df[metric])\n",
    "    row = {\n",
    "        'comparison': f'{a_name} vs {b_name}',\n",
    "        'mean_difference': diff,\n",
    "        'p_value': p_val\n",
    "    }\n",
    "    rows.append(row)\n",
    "results = pd.DataFrame(rows)\n",
    "table = results.to_latex(\n",
    "    index=False,\n",
    "    float_format=simple_format\n",
    ")\n",
    "table = process_latex_table(table)\n",
    "savepath = OUTPUT_DIR / dataset / \"tables\" / f\"{config_str}_compare_dl_w_wout_ft_and_bow.tex\"\n",
    "if plot_version == 5:\n",
    "    savepath = OUTPUT_DIR / dataset / \"tables\" / f\"{config_str}_compare_dl_w_wout_ft_and_bow_v5.tex\"\n",
    "with open(savepath, \"w\") as f:\n",
    "    f.write(table)\n",
    "display(results)\n",
    "print(f\"Saved to {savepath}\")"
   ]
  },
  {
   "cell_type": "markdown",
   "metadata": {},
   "source": [
    "## Do this blocked pairwise on the seeds\n",
    "Most powerful approach - see if this gives substantially different results"
   ]
  },
  {
   "cell_type": "code",
   "execution_count": 275,
   "metadata": {},
   "outputs": [],
   "source": [
    "# Create a dictionary similar to subsampled but with seed filtering\n",
    "subsampled_by_seed = {}\n",
    "seeds = subsampled[\"using_ft\"][\"seed\"].unique()\n",
    "for seed in seeds:\n",
    "    if seed not in subsampled_by_seed:\n",
    "        subsampled_by_seed[seed] = {}\n",
    "    # Group by key and get mean RMSE for each seed\n",
    "    for key, df in subsampled.items():\n",
    "        df_seed = df[df[\"seed\"] == seed]\n",
    "        subsampled_by_seed[seed][key] = df_seed[metric].values\n"
   ]
  },
  {
   "cell_type": "code",
   "execution_count": 276,
   "metadata": {},
   "outputs": [
    {
     "data": {
      "text/plain": [
       "dict_keys([1, 2, 3, 97])"
      ]
     },
     "execution_count": 276,
     "metadata": {},
     "output_type": "execute_result"
    }
   ],
   "source": [
    "subsampled_by_seed.keys()"
   ]
  },
  {
   "cell_type": "code",
   "execution_count": 277,
   "metadata": {},
   "outputs": [],
   "source": [
    "def blocked_permutation_test(nested_dict, key1, key2, n_permutations=10000):\n",
    "    \"\"\"\n",
    "    Perform a blocked permutation test comparing two groups within blocks.\n",
    "    \n",
    "    Args:\n",
    "        nested_dict: Dictionary of dictionaries where first level is blocks and second level is groups, final level should be numpy arrays\n",
    "        key1: First group to compare\n",
    "        key2: Second group to compare \n",
    "        n_permutations: Number of permutations to perform\n",
    "        \n",
    "    Returns:\n",
    "        p_value: P-value from permutation test\n",
    "        observed_diff: Observed difference in means between groups\n",
    "    \"\"\"\n",
    "    # Calculate observed difference in means\n",
    "    group_1 = []\n",
    "    group_2 = []\n",
    "    blocks = nested_dict.keys()\n",
    "    for block in blocks:\n",
    "        group_1.append(nested_dict[block][key1])\n",
    "        group_2.append(nested_dict[block][key2])\n",
    "    observed_diff = np.mean(np.concatenate(group_1)) - np.mean(np.concatenate(group_2))\n",
    "    \n",
    "    # Perform permutations within each block\n",
    "    count = 0\n",
    "    for _ in range(n_permutations):\n",
    "        perm_group_1 = []\n",
    "        perm_group_2 = []\n",
    "        for block in blocks:\n",
    "            # Get values for both groups in this block\n",
    "            vals1 = nested_dict[block][key1]\n",
    "            vals2 = nested_dict[block][key2]\n",
    "            all_vals = np.concatenate([vals1, vals2])\n",
    "            \n",
    "            # Randomly permute and split back into groups\n",
    "            np.random.shuffle(all_vals)\n",
    "            perm1 = all_vals[:len(vals1)]\n",
    "            perm2 = all_vals[len(vals1):]\n",
    "            perm_group_1.append(perm1)\n",
    "            perm_group_2.append(perm2)\n",
    "            \n",
    "        # Calculate overall permuted difference\n",
    "        perm_mean_diff = np.mean(np.concatenate(perm_group_1)) - np.mean(np.concatenate(perm_group_2))\n",
    "        if abs(perm_mean_diff) >= abs(observed_diff):\n",
    "            count += 1\n",
    "            \n",
    "    p_value = (count + 1) / (n_permutations + 1)\n",
    "    \n",
    "    return p_value, observed_diff"
   ]
  },
  {
   "cell_type": "code",
   "execution_count": 278,
   "metadata": {},
   "outputs": [
    {
     "name": "stdout",
     "output_type": "stream",
     "text": [
      "Naive permutation test p-value: 0.362\n",
      "Observed difference: 5.971\n",
      "Blocked permutation test p-value: 0.006\n",
      "Observed difference: 5.971\n"
     ]
    }
   ],
   "source": [
    "\n",
    "# Create synthetic data from normal distribution to demonstrate importance of blocked testing\n",
    "# Create two blocks with different means but same treatment effect\n",
    "n_per_group = 20\n",
    "blocked_vals = {\n",
    "    \"block1\": {},\n",
    "    \"block2\": {}\n",
    "}\n",
    "blocked_vals[\"block1\"][\"control\"] = np.random.normal(loc=100, scale=10, size=n_per_group)\n",
    "blocked_vals[\"block2\"][\"control\"] = np.random.normal(loc=150, scale=10, size=n_per_group)\n",
    "\n",
    "blocked_vals[\"block1\"][\"treatment\"] = np.random.normal(loc=105, scale=10, size=n_per_group) # Effect size = 5\n",
    "blocked_vals[\"block2\"][\"treatment\"] = np.random.normal(loc=155, scale=10, size=n_per_group)  \n",
    "\n",
    "# Naive t-test ignoring blocks\n",
    "all_control = np.concatenate([blocked_vals[\"block1\"][\"control\"], blocked_vals[\"block2\"][\"control\"]])\n",
    "all_treatment = np.concatenate([blocked_vals[\"block1\"][\"treatment\"], blocked_vals[\"block2\"][\"treatment\"]])\n",
    "\n",
    "p_val, observed_diff = permutation_test(all_treatment, all_control)\n",
    "print(f\"Naive permutation test p-value: {p_val:.3f}\")\n",
    "print(f\"Observed difference: {observed_diff:.3f}\")\n",
    "\n",
    "\n",
    "p_val, observed_diff = blocked_permutation_test(blocked_vals, \"treatment\", \"control\")\n",
    "print(f\"Blocked permutation test p-value: {p_val:.3f}\")\n",
    "print(f\"Observed difference: {observed_diff:.3f}\")\n"
   ]
  },
  {
   "cell_type": "code",
   "execution_count": 279,
   "metadata": {},
   "outputs": [
    {
     "name": "stdout",
     "output_type": "stream",
     "text": [
      "Blocked permutation test p-value for ft vs no_ft: 0.0001\n",
      "Observed difference: -52351.6577\n",
      "Blocked permutation test p-value for ft vs bow: 0.0001\n",
      "Observed difference: -49932.1336\n",
      "Blocked permutation test p-value for no_ft vs bow: 0.5201\n",
      "Observed difference: 2419.5241\n"
     ]
    }
   ],
   "source": [
    "name_to_col_map = {\n",
    "    \"ft\": \"using_ft\",\n",
    "    \"no_ft\": \"using_dl_no_ft\",\n",
    "    \"bow\": \"using_bow\",\n",
    "}\n",
    "p_vals = []\n",
    "for a,b in pairs:\n",
    "    a_name, a_df = a\n",
    "    b_name, b_df = b    \n",
    "    p_val, observed_diff = blocked_permutation_test(subsampled_by_seed, name_to_col_map[a_name], name_to_col_map[b_name])\n",
    "    print(f\"Blocked permutation test p-value for {a_name} vs {b_name}: {p_val:.4f}\")\n",
    "    print(f\"Observed difference: {observed_diff:.4f}\")\n",
    "    p_vals.append(p_val)\n"
   ]
  },
  {
   "cell_type": "code",
   "execution_count": 280,
   "metadata": {},
   "outputs": [
    {
     "name": "stderr",
     "output_type": "stream",
     "text": [
      "2025-03-13 16:59:02,762 - analysis - INFO - \n",
      "After Benjamini-Hochberg correction (alpha=0.05):\n",
      "2025-03-13 16:59:02,763 - analysis - INFO - Adjusted significance threshold: 0.0333\n",
      "2025-03-13 16:59:02,764 - analysis - INFO - First 2 comparisons are significant\n"
     ]
    },
    {
     "data": {
      "application/vnd.plotly.v1+json": {
       "config": {
        "plotlyServerURL": "https://plot.ly"
       },
       "data": [
        {
         "marker": {
          "color": "blue"
         },
         "mode": "markers",
         "name": "P-values",
         "type": "scatter",
         "x": [
          1,
          2,
          3
         ],
         "y": [
          0.00009999000099990002,
          0.00009999000099990002,
          0.5201479852014799
         ]
        },
        {
         "line": {
          "color": "red",
          "dash": "dash"
         },
         "mode": "lines",
         "name": "BH line (α=0.05)",
         "type": "scatter",
         "x": [
          1,
          2,
          3
         ],
         "y": [
          0.016666666666666666,
          0.03333333333333333,
          0.05000000000000001
         ]
        }
       ],
       "layout": {
        "showlegend": true,
        "template": {
         "data": {
          "bar": [
           {
            "error_x": {
             "color": "#2a3f5f"
            },
            "error_y": {
             "color": "#2a3f5f"
            },
            "marker": {
             "line": {
              "color": "white",
              "width": 0.5
             },
             "pattern": {
              "fillmode": "overlay",
              "size": 10,
              "solidity": 0.2
             }
            },
            "type": "bar"
           }
          ],
          "barpolar": [
           {
            "marker": {
             "line": {
              "color": "white",
              "width": 0.5
             },
             "pattern": {
              "fillmode": "overlay",
              "size": 10,
              "solidity": 0.2
             }
            },
            "type": "barpolar"
           }
          ],
          "carpet": [
           {
            "aaxis": {
             "endlinecolor": "#2a3f5f",
             "gridcolor": "#C8D4E3",
             "linecolor": "#C8D4E3",
             "minorgridcolor": "#C8D4E3",
             "startlinecolor": "#2a3f5f"
            },
            "baxis": {
             "endlinecolor": "#2a3f5f",
             "gridcolor": "#C8D4E3",
             "linecolor": "#C8D4E3",
             "minorgridcolor": "#C8D4E3",
             "startlinecolor": "#2a3f5f"
            },
            "type": "carpet"
           }
          ],
          "choropleth": [
           {
            "colorbar": {
             "outlinewidth": 0,
             "ticks": ""
            },
            "type": "choropleth"
           }
          ],
          "contour": [
           {
            "colorbar": {
             "outlinewidth": 0,
             "ticks": ""
            },
            "colorscale": [
             [
              0,
              "#0d0887"
             ],
             [
              0.1111111111111111,
              "#46039f"
             ],
             [
              0.2222222222222222,
              "#7201a8"
             ],
             [
              0.3333333333333333,
              "#9c179e"
             ],
             [
              0.4444444444444444,
              "#bd3786"
             ],
             [
              0.5555555555555556,
              "#d8576b"
             ],
             [
              0.6666666666666666,
              "#ed7953"
             ],
             [
              0.7777777777777778,
              "#fb9f3a"
             ],
             [
              0.8888888888888888,
              "#fdca26"
             ],
             [
              1,
              "#f0f921"
             ]
            ],
            "type": "contour"
           }
          ],
          "contourcarpet": [
           {
            "colorbar": {
             "outlinewidth": 0,
             "ticks": ""
            },
            "type": "contourcarpet"
           }
          ],
          "heatmap": [
           {
            "colorbar": {
             "outlinewidth": 0,
             "ticks": ""
            },
            "colorscale": [
             [
              0,
              "#0d0887"
             ],
             [
              0.1111111111111111,
              "#46039f"
             ],
             [
              0.2222222222222222,
              "#7201a8"
             ],
             [
              0.3333333333333333,
              "#9c179e"
             ],
             [
              0.4444444444444444,
              "#bd3786"
             ],
             [
              0.5555555555555556,
              "#d8576b"
             ],
             [
              0.6666666666666666,
              "#ed7953"
             ],
             [
              0.7777777777777778,
              "#fb9f3a"
             ],
             [
              0.8888888888888888,
              "#fdca26"
             ],
             [
              1,
              "#f0f921"
             ]
            ],
            "type": "heatmap"
           }
          ],
          "heatmapgl": [
           {
            "colorbar": {
             "outlinewidth": 0,
             "ticks": ""
            },
            "colorscale": [
             [
              0,
              "#0d0887"
             ],
             [
              0.1111111111111111,
              "#46039f"
             ],
             [
              0.2222222222222222,
              "#7201a8"
             ],
             [
              0.3333333333333333,
              "#9c179e"
             ],
             [
              0.4444444444444444,
              "#bd3786"
             ],
             [
              0.5555555555555556,
              "#d8576b"
             ],
             [
              0.6666666666666666,
              "#ed7953"
             ],
             [
              0.7777777777777778,
              "#fb9f3a"
             ],
             [
              0.8888888888888888,
              "#fdca26"
             ],
             [
              1,
              "#f0f921"
             ]
            ],
            "type": "heatmapgl"
           }
          ],
          "histogram": [
           {
            "marker": {
             "pattern": {
              "fillmode": "overlay",
              "size": 10,
              "solidity": 0.2
             }
            },
            "type": "histogram"
           }
          ],
          "histogram2d": [
           {
            "colorbar": {
             "outlinewidth": 0,
             "ticks": ""
            },
            "colorscale": [
             [
              0,
              "#0d0887"
             ],
             [
              0.1111111111111111,
              "#46039f"
             ],
             [
              0.2222222222222222,
              "#7201a8"
             ],
             [
              0.3333333333333333,
              "#9c179e"
             ],
             [
              0.4444444444444444,
              "#bd3786"
             ],
             [
              0.5555555555555556,
              "#d8576b"
             ],
             [
              0.6666666666666666,
              "#ed7953"
             ],
             [
              0.7777777777777778,
              "#fb9f3a"
             ],
             [
              0.8888888888888888,
              "#fdca26"
             ],
             [
              1,
              "#f0f921"
             ]
            ],
            "type": "histogram2d"
           }
          ],
          "histogram2dcontour": [
           {
            "colorbar": {
             "outlinewidth": 0,
             "ticks": ""
            },
            "colorscale": [
             [
              0,
              "#0d0887"
             ],
             [
              0.1111111111111111,
              "#46039f"
             ],
             [
              0.2222222222222222,
              "#7201a8"
             ],
             [
              0.3333333333333333,
              "#9c179e"
             ],
             [
              0.4444444444444444,
              "#bd3786"
             ],
             [
              0.5555555555555556,
              "#d8576b"
             ],
             [
              0.6666666666666666,
              "#ed7953"
             ],
             [
              0.7777777777777778,
              "#fb9f3a"
             ],
             [
              0.8888888888888888,
              "#fdca26"
             ],
             [
              1,
              "#f0f921"
             ]
            ],
            "type": "histogram2dcontour"
           }
          ],
          "mesh3d": [
           {
            "colorbar": {
             "outlinewidth": 0,
             "ticks": ""
            },
            "type": "mesh3d"
           }
          ],
          "parcoords": [
           {
            "line": {
             "colorbar": {
              "outlinewidth": 0,
              "ticks": ""
             }
            },
            "type": "parcoords"
           }
          ],
          "pie": [
           {
            "automargin": true,
            "type": "pie"
           }
          ],
          "scatter": [
           {
            "fillpattern": {
             "fillmode": "overlay",
             "size": 10,
             "solidity": 0.2
            },
            "type": "scatter"
           }
          ],
          "scatter3d": [
           {
            "line": {
             "colorbar": {
              "outlinewidth": 0,
              "ticks": ""
             }
            },
            "marker": {
             "colorbar": {
              "outlinewidth": 0,
              "ticks": ""
             }
            },
            "type": "scatter3d"
           }
          ],
          "scattercarpet": [
           {
            "marker": {
             "colorbar": {
              "outlinewidth": 0,
              "ticks": ""
             }
            },
            "type": "scattercarpet"
           }
          ],
          "scattergeo": [
           {
            "marker": {
             "colorbar": {
              "outlinewidth": 0,
              "ticks": ""
             }
            },
            "type": "scattergeo"
           }
          ],
          "scattergl": [
           {
            "marker": {
             "colorbar": {
              "outlinewidth": 0,
              "ticks": ""
             }
            },
            "type": "scattergl"
           }
          ],
          "scattermapbox": [
           {
            "marker": {
             "colorbar": {
              "outlinewidth": 0,
              "ticks": ""
             }
            },
            "type": "scattermapbox"
           }
          ],
          "scatterpolar": [
           {
            "marker": {
             "colorbar": {
              "outlinewidth": 0,
              "ticks": ""
             }
            },
            "type": "scatterpolar"
           }
          ],
          "scatterpolargl": [
           {
            "marker": {
             "colorbar": {
              "outlinewidth": 0,
              "ticks": ""
             }
            },
            "type": "scatterpolargl"
           }
          ],
          "scatterternary": [
           {
            "marker": {
             "colorbar": {
              "outlinewidth": 0,
              "ticks": ""
             }
            },
            "type": "scatterternary"
           }
          ],
          "surface": [
           {
            "colorbar": {
             "outlinewidth": 0,
             "ticks": ""
            },
            "colorscale": [
             [
              0,
              "#0d0887"
             ],
             [
              0.1111111111111111,
              "#46039f"
             ],
             [
              0.2222222222222222,
              "#7201a8"
             ],
             [
              0.3333333333333333,
              "#9c179e"
             ],
             [
              0.4444444444444444,
              "#bd3786"
             ],
             [
              0.5555555555555556,
              "#d8576b"
             ],
             [
              0.6666666666666666,
              "#ed7953"
             ],
             [
              0.7777777777777778,
              "#fb9f3a"
             ],
             [
              0.8888888888888888,
              "#fdca26"
             ],
             [
              1,
              "#f0f921"
             ]
            ],
            "type": "surface"
           }
          ],
          "table": [
           {
            "cells": {
             "fill": {
              "color": "#EBF0F8"
             },
             "line": {
              "color": "white"
             }
            },
            "header": {
             "fill": {
              "color": "#C8D4E3"
             },
             "line": {
              "color": "white"
             }
            },
            "type": "table"
           }
          ]
         },
         "layout": {
          "annotationdefaults": {
           "arrowcolor": "#2a3f5f",
           "arrowhead": 0,
           "arrowwidth": 1
          },
          "autotypenumbers": "strict",
          "coloraxis": {
           "colorbar": {
            "outlinewidth": 0,
            "ticks": ""
           }
          },
          "colorscale": {
           "diverging": [
            [
             0,
             "#8e0152"
            ],
            [
             0.1,
             "#c51b7d"
            ],
            [
             0.2,
             "#de77ae"
            ],
            [
             0.3,
             "#f1b6da"
            ],
            [
             0.4,
             "#fde0ef"
            ],
            [
             0.5,
             "#f7f7f7"
            ],
            [
             0.6,
             "#e6f5d0"
            ],
            [
             0.7,
             "#b8e186"
            ],
            [
             0.8,
             "#7fbc41"
            ],
            [
             0.9,
             "#4d9221"
            ],
            [
             1,
             "#276419"
            ]
           ],
           "sequential": [
            [
             0,
             "#0d0887"
            ],
            [
             0.1111111111111111,
             "#46039f"
            ],
            [
             0.2222222222222222,
             "#7201a8"
            ],
            [
             0.3333333333333333,
             "#9c179e"
            ],
            [
             0.4444444444444444,
             "#bd3786"
            ],
            [
             0.5555555555555556,
             "#d8576b"
            ],
            [
             0.6666666666666666,
             "#ed7953"
            ],
            [
             0.7777777777777778,
             "#fb9f3a"
            ],
            [
             0.8888888888888888,
             "#fdca26"
            ],
            [
             1,
             "#f0f921"
            ]
           ],
           "sequentialminus": [
            [
             0,
             "#0d0887"
            ],
            [
             0.1111111111111111,
             "#46039f"
            ],
            [
             0.2222222222222222,
             "#7201a8"
            ],
            [
             0.3333333333333333,
             "#9c179e"
            ],
            [
             0.4444444444444444,
             "#bd3786"
            ],
            [
             0.5555555555555556,
             "#d8576b"
            ],
            [
             0.6666666666666666,
             "#ed7953"
            ],
            [
             0.7777777777777778,
             "#fb9f3a"
            ],
            [
             0.8888888888888888,
             "#fdca26"
            ],
            [
             1,
             "#f0f921"
            ]
           ]
          },
          "colorway": [
           "#636efa",
           "#EF553B",
           "#00cc96",
           "#ab63fa",
           "#FFA15A",
           "#19d3f3",
           "#FF6692",
           "#B6E880",
           "#FF97FF",
           "#FECB52"
          ],
          "font": {
           "color": "#2a3f5f"
          },
          "geo": {
           "bgcolor": "white",
           "lakecolor": "white",
           "landcolor": "white",
           "showlakes": true,
           "showland": true,
           "subunitcolor": "#C8D4E3"
          },
          "hoverlabel": {
           "align": "left"
          },
          "hovermode": "closest",
          "mapbox": {
           "style": "light"
          },
          "paper_bgcolor": "white",
          "plot_bgcolor": "white",
          "polar": {
           "angularaxis": {
            "gridcolor": "#EBF0F8",
            "linecolor": "#EBF0F8",
            "ticks": ""
           },
           "bgcolor": "white",
           "radialaxis": {
            "gridcolor": "#EBF0F8",
            "linecolor": "#EBF0F8",
            "ticks": ""
           }
          },
          "scene": {
           "xaxis": {
            "backgroundcolor": "white",
            "gridcolor": "#DFE8F3",
            "gridwidth": 2,
            "linecolor": "#EBF0F8",
            "showbackground": true,
            "ticks": "",
            "zerolinecolor": "#EBF0F8"
           },
           "yaxis": {
            "backgroundcolor": "white",
            "gridcolor": "#DFE8F3",
            "gridwidth": 2,
            "linecolor": "#EBF0F8",
            "showbackground": true,
            "ticks": "",
            "zerolinecolor": "#EBF0F8"
           },
           "zaxis": {
            "backgroundcolor": "white",
            "gridcolor": "#DFE8F3",
            "gridwidth": 2,
            "linecolor": "#EBF0F8",
            "showbackground": true,
            "ticks": "",
            "zerolinecolor": "#EBF0F8"
           }
          },
          "shapedefaults": {
           "line": {
            "color": "#2a3f5f"
           }
          },
          "ternary": {
           "aaxis": {
            "gridcolor": "#DFE8F3",
            "linecolor": "#A2B1C6",
            "ticks": ""
           },
           "baxis": {
            "gridcolor": "#DFE8F3",
            "linecolor": "#A2B1C6",
            "ticks": ""
           },
           "bgcolor": "white",
           "caxis": {
            "gridcolor": "#DFE8F3",
            "linecolor": "#A2B1C6",
            "ticks": ""
           }
          },
          "title": {
           "x": 0.05
          },
          "xaxis": {
           "automargin": true,
           "gridcolor": "#EBF0F8",
           "linecolor": "#EBF0F8",
           "ticks": "",
           "title": {
            "standoff": 15
           },
           "zerolinecolor": "#EBF0F8",
           "zerolinewidth": 2
          },
          "yaxis": {
           "automargin": true,
           "gridcolor": "#EBF0F8",
           "linecolor": "#EBF0F8",
           "ticks": "",
           "title": {
            "standoff": 15
           },
           "zerolinecolor": "#EBF0F8",
           "zerolinewidth": 2
          }
         }
        },
        "title": {
         "text": "P-values vs Benjamini-Hochberg Critical Values"
        },
        "xaxis": {
         "title": {
          "text": "Rank"
         }
        },
        "yaxis": {
         "title": {
          "text": "P-value"
         }
        }
       }
      }
     },
     "metadata": {},
     "output_type": "display_data"
    }
   ],
   "source": [
    "# Apply Benjamini-Hochberg correction to p-values\n",
    "p_vals = np.array(p_vals)\n",
    "n_tests = len(p_vals)\n",
    "sorted_p_idx = np.argsort(p_vals)\n",
    "sorted_p_vals = p_vals[sorted_p_idx]\n",
    "\n",
    "# Calculate BH critical values\n",
    "bh_values = np.arange(1, n_tests + 1) * alpha / n_tests\n",
    "\n",
    "# Find largest p-value that is less than corresponding BH critical value\n",
    "is_significant = sorted_p_vals <= bh_values\n",
    "if np.any(is_significant):\n",
    "    max_sig_idx = np.where(is_significant)[0][-1]\n",
    "    adjusted_alpha = bh_values[max_sig_idx]\n",
    "    logger.info(f\"\\nAfter Benjamini-Hochberg correction (alpha={alpha}):\")\n",
    "    logger.info(f\"Adjusted significance threshold: {adjusted_alpha:.4f}\")\n",
    "    logger.info(f\"First {max_sig_idx+1} comparisons are significant\")\n",
    "else:\n",
    "    logger.info(\"\\nNo comparisons significant after Benjamini-Hochberg correction\")\n",
    "\n",
    "# Plot p-values against their rank with BH line\n",
    "fig = go.Figure()\n",
    "\n",
    "# Plot points\n",
    "rank = np.arange(1, len(sorted_p_vals) + 1)\n",
    "fig.add_trace(\n",
    "    go.Scatter(\n",
    "        x=rank,\n",
    "        y=sorted_p_vals,\n",
    "        mode='markers',\n",
    "        name='P-values',\n",
    "        marker=dict(color='blue')\n",
    "    )\n",
    ")\n",
    "\n",
    "# Plot BH line\n",
    "fig.add_trace(\n",
    "    go.Scatter(\n",
    "        x=rank,\n",
    "        y=bh_values,\n",
    "        mode='lines',\n",
    "        name=f'BH line (α={alpha})',\n",
    "        line=dict(color='red', dash='dash')\n",
    "    )\n",
    ")\n",
    "\n",
    "# Update layout\n",
    "fig.update_layout(\n",
    "    title='P-values vs Benjamini-Hochberg Critical Values',\n",
    "    xaxis_title='Rank',\n",
    "    yaxis_title='P-value',\n",
    "    showlegend=True,\n",
    "    template='plotly_white'\n",
    ")\n",
    "\n",
    "fig.show()\n",
    "\n",
    "\n"
   ]
  },
  {
   "cell_type": "markdown",
   "metadata": {},
   "source": [
    "# bert_cls vs glove: Pairwise comparison"
   ]
  },
  {
   "cell_type": "code",
   "execution_count": 281,
   "metadata": {},
   "outputs": [],
   "source": [
    "bert_v_glove_version = 2"
   ]
  },
  {
   "cell_type": "code",
   "execution_count": 282,
   "metadata": {},
   "outputs": [
    {
     "name": "stdout",
     "output_type": "stream",
     "text": [
      "(36, 12)\n"
     ]
    }
   ],
   "source": [
    "cols_of_interest = latex_cols + [\"seed\", \"preprocessers\"]\n",
    "\n",
    "bert_performances = pd.concat([conditioned_on[\"bert_cls\"], conditioned_on[\"bert_mean\"]])[cols_of_interest]\n",
    "if bert_v_glove_version == 1:\n",
    "    glove_performances = conditioned_on[\"glove_mean\"][cols_of_interest]\n",
    "elif bert_v_glove_version == 2:\n",
    "    glove_performances = condition_on(\n",
    "        equals_conditions=[(\"featuriser\", \"glove_mean\")],\n",
    "        not_equals_conditions=[(\"model\", \"ft\")],\n",
    "        df=filtered_results\n",
    "    )[cols_of_interest]\n",
    "\n",
    "# def filter_out_stemming(df):\n",
    "#     return df[df[\"preprocessers\"].apply(lambda x: \"stem\" not in x)]\n",
    "\n",
    "# glove_performances = filter_out_stemming(glove_performances)\n",
    "# bert_performances = filter_out_stemming(bert_performances)\n",
    "\n",
    "shared_pipelines = glove_performances.merge(\n",
    "    bert_performances,\n",
    "    on=[\n",
    "        \"preprocesser(s)\",  # Unsure if we should also merge on preprocesser(s) as it fragments results, but it strengthens test\n",
    "        \"model\",\n",
    "        \"seed\"\n",
    "    ],\n",
    "    suffixes=[\"_glove\", \"_bert\"],\n",
    "    how=\"inner\"\n",
    ")\n",
    "shared_pipelines[metric+\"_diff\"] = shared_pipelines[metric+\"_bert\"] - shared_pipelines[metric+\"_glove\"]\n",
    "shared_pipelines = shared_pipelines.sort_values(metric+\"_diff\")\n",
    "print(shared_pipelines.shape)"
   ]
  },
  {
   "cell_type": "code",
   "execution_count": 283,
   "metadata": {},
   "outputs": [],
   "source": [
    "from itertools import product\n",
    "\n",
    "def binary_counter_gen(len):\n",
    "    for mask in product([True, False], repeat=len):\n",
    "        yield np.array(mask)\n"
   ]
  },
  {
   "cell_type": "code",
   "execution_count": 284,
   "metadata": {},
   "outputs": [],
   "source": [
    "def paired_permutation_test(a, b, n_permutations=10000, random=True):\n",
    "    \"\"\"\n",
    "    Tests that the mean difference between two paired samples is significantly different from 0.\n",
    "\n",
    "    Do so by shuffling membership of a and b and checking how often the mean difference is greater \n",
    "    than the observed difference.\n",
    "    \"\"\"\n",
    "\n",
    "    if len(a) != len(b):\n",
    "        raise ValueError(\"a and b must have the same length\")\n",
    "    max_num_perms = 2**len(a)\n",
    "    if n_permutations > max_num_perms:\n",
    "        if random:\n",
    "            logger.warning(f\"n_permutations ({n_permutations:.0e}) is greater than the maximum number of permutations ({max_num_perms:.0e}). This may give misleading results.\")\n",
    "        else:\n",
    "            logger.warning(f\"n_permutations ({n_permutations:.0e}) is greater than the maximum number of permutations ({max_num_perms:.0e}). Flooring to {max_num_perms}.\")\n",
    "            n_permutations = max_num_perms\n",
    "    elif n_permutations < max_num_perms and not random:\n",
    "        logger.warning(f\"n_permutations ({n_permutations:.0e}) is less than the maximum number of permutations ({max_num_perms:.0e}). This may give misleading results. As such we will use all permutations.\")\n",
    "        n_permutations = max_num_perms\n",
    "    a_copy = a.copy()\n",
    "    b_copy = b.copy()\n",
    "    observed_diff = (a_copy - b_copy).mean()\n",
    "    more_extreme_than_observed = 0.\n",
    "    if not random:\n",
    "        binary_counter = iter(binary_counter_gen(len(a)))\n",
    "    for i in range(n_permutations):\n",
    "        new_a = a_copy.copy()\n",
    "        new_b = b_copy.copy()\n",
    "        if random:\n",
    "            mask = np.random.choice([True, False], size=len(a), replace=True)\n",
    "            new_a[mask] = b_copy[mask]\n",
    "            new_b[mask] = a_copy[mask]\n",
    "            mean_diff = (new_a - new_b).mean()\n",
    "            if abs(mean_diff) >= abs(observed_diff):\n",
    "                more_extreme_than_observed += 1\n",
    "        else:\n",
    "            mask = next(binary_counter)\n",
    "            new_a[mask] = b_copy[mask]\n",
    "            new_b[mask] = a_copy[mask]\n",
    "            mean_diff = (new_a - new_b).mean()\n",
    "            if abs(mean_diff) >= abs(observed_diff):\n",
    "                more_extreme_than_observed += 1\n",
    "    return (more_extreme_than_observed+1) / (n_permutations+1), observed_diff"
   ]
  },
  {
   "cell_type": "code",
   "execution_count": 285,
   "metadata": {},
   "outputs": [
    {
     "name": "stderr",
     "output_type": "stream",
     "text": [
      "2025-03-13 16:59:03,282 - analysis - INFO - \n",
      "Paired permutation test on identical data:\n",
      "2025-03-13 16:59:03,282 - analysis - INFO - Observed difference: -0.09\n",
      "2025-03-13 16:59:03,284 - analysis - INFO - P-value: 0.45695430456954306\n",
      "2025-03-13 16:59:03,285 - analysis - INFO - Statistically not different from 0 at 0.05 significance\n"
     ]
    }
   ],
   "source": [
    "# Test that paired permutation test works correctly on identical data\n",
    "normal_sample = np.random.normal(size=100)\n",
    "same_normal_sample = np.random.normal(size=100)\n",
    "p_val, observed_diff = paired_permutation_test(normal_sample, same_normal_sample, random=True)\n",
    "logger.info(f\"\\nPaired permutation test on identical data:\")\n",
    "logger.info(f\"Observed difference: {observed_diff:.2f}\")\n",
    "logger.info(f\"P-value: {p_val}\")\n",
    "logger.info(f\"Statistically {'different' if p_val < alpha else 'not different'} from 0 at {alpha} significance\")\n"
   ]
  },
  {
   "cell_type": "code",
   "execution_count": 286,
   "metadata": {},
   "outputs": [
    {
     "name": "stdout",
     "output_type": "stream",
     "text": [
      "Saved to notebook_output/online_boat_listings/tables/rmse_only_4_replicates_glove_vs_bert.tex\n"
     ]
    },
    {
     "data": {
      "text/html": [
       "<div>\n",
       "<style scoped>\n",
       "    .dataframe tbody tr th:only-of-type {\n",
       "        vertical-align: middle;\n",
       "    }\n",
       "\n",
       "    .dataframe tbody tr th {\n",
       "        vertical-align: top;\n",
       "    }\n",
       "\n",
       "    .dataframe thead th {\n",
       "        text-align: right;\n",
       "    }\n",
       "</style>\n",
       "<table border=\"1\" class=\"dataframe\">\n",
       "  <thead>\n",
       "    <tr style=\"text-align: right;\">\n",
       "      <th></th>\n",
       "      <th>dataset</th>\n",
       "      <th>mean_difference (BERT - GloVE)</th>\n",
       "      <th>p_value</th>\n",
       "    </tr>\n",
       "  </thead>\n",
       "  <tbody>\n",
       "    <tr>\n",
       "      <th>0</th>\n",
       "      <td>obl</td>\n",
       "      <td>-32909.403372</td>\n",
       "      <td>0.00001</td>\n",
       "    </tr>\n",
       "  </tbody>\n",
       "</table>\n",
       "</div>"
      ],
      "text/plain": [
       "  dataset  mean_difference (BERT - GloVE)  p_value\n",
       "0     obl                   -32909.403372  0.00001"
      ]
     },
     "metadata": {},
     "output_type": "display_data"
    }
   ],
   "source": [
    "p_val, observed_diff = paired_permutation_test(\n",
    "    shared_pipelines[metric+\"_bert\"].values, \n",
    "    shared_pipelines[metric+\"_glove\"].values, \n",
    "    random=True,\n",
    "    n_permutations=100000\n",
    ")\n",
    "row = {\n",
    "    \"dataset\": dataset_name_map[dataset],\n",
    "    \"mean_difference (BERT - GloVE)\": observed_diff,\n",
    "    \"p_value\": p_val\n",
    "}\n",
    "results = pd.DataFrame([row])\n",
    "latex_table = results.to_latex(\n",
    "    index=False,\n",
    "    float_format=simple_format\n",
    ")\n",
    "latex_table = process_latex_table(latex_table)\n",
    "\n",
    "savepath = OUTPUT_DIR / dataset / \"tables\" / f\"{config_str}_glove_vs_bert.tex\"\n",
    "with open(savepath, \"w\") as f:\n",
    "    f.write(latex_table)\n",
    "print(f\"Saved to {savepath}\")\n",
    "display(results)"
   ]
  },
  {
   "cell_type": "markdown",
   "metadata": {},
   "source": [
    "Sanity check with a validated t test implementation"
   ]
  },
  {
   "cell_type": "code",
   "execution_count": 287,
   "metadata": {},
   "outputs": [
    {
     "name": "stderr",
     "output_type": "stream",
     "text": [
      "2025-03-13 16:59:06,639 - analysis - INFO - \n",
      "Paired t-test results:\n",
      "2025-03-13 16:59:06,641 - analysis - INFO - T-statistic: -11.841\n",
      "2025-03-13 16:59:06,642 - analysis - INFO - P-value: 0.000\n",
      "2025-03-13 16:59:06,643 - analysis - INFO - Statistically different at 0.05 significance\n"
     ]
    }
   ],
   "source": [
    "# Compare BERT and GloVE with paired t-test - sanity check on permutation test\n",
    "t_stat, t_pval = stats.ttest_rel(shared_pipelines[metric+\"_bert\"].values, shared_pipelines[metric+\"_glove\"].values)\n",
    "\n",
    "logger.info(f\"\\nPaired t-test results:\")\n",
    "logger.info(f\"T-statistic: {t_stat:.3f}\")\n",
    "logger.info(f\"P-value: {t_pval:.3f}\")\n",
    "logger.info(f\"Statistically {'different' if t_pval < alpha else 'not different'} at {alpha} significance\")\n"
   ]
  },
  {
   "cell_type": "markdown",
   "metadata": {},
   "source": [
    "# Do preprocessers matter?"
   ]
  },
  {
   "cell_type": "markdown",
   "metadata": {},
   "source": [
    "## Preprocessers for traditional NLP"
   ]
  },
  {
   "cell_type": "code",
   "execution_count": null,
   "metadata": {},
   "outputs": [
    {
     "name": "stderr",
     "output_type": "stream",
     "text": [
      "/tmp/ipykernel_249924/1258202587.py:11: SettingWithCopyWarning:\n",
      "\n",
      "\n",
      "A value is trying to be set on a copy of a slice from a DataFrame.\n",
      "Try using .loc[row_indexer,col_indexer] = value instead\n",
      "\n",
      "See the caveats in the documentation: https://pandas.pydata.org/pandas-docs/stable/user_guide/indexing.html#returning-a-view-versus-a-copy\n",
      "\n"
     ]
    },
    {
     "data": {
      "application/vnd.plotly.v1+json": {
       "config": {
        "plotlyServerURL": "https://plot.ly"
       },
       "data": [
        {
         "alignmentgroup": "True",
         "boxpoints": "outliers",
         "hovertemplate": "uses_preprocessing=True<br>rmse=%{y}<extra></extra>",
         "legendgroup": "True",
         "marker": {
          "color": "#636efa"
         },
         "name": "True",
         "notched": false,
         "offsetgroup": "True",
         "orientation": "v",
         "showlegend": true,
         "type": "box",
         "x0": " ",
         "xaxis": "x",
         "y": [
          361421.34193893836,
          366211.90365923493,
          366433.5945247364,
          369982.5508239216,
          370369.5941213323,
          370754.7897793784,
          372168.10433634423,
          372924.9139539685,
          373069.9661529323,
          373225.84782664146,
          374971.0933159639,
          374974.0654724613,
          375919.61035550566,
          376562.9283245224,
          377825.7445526781,
          378563.370350385,
          379047.67152541014,
          380046.4860495535,
          381009.5184730367,
          381119.52544397546,
          381163.7805688142,
          381884.7485880463,
          382122.578352095,
          382483.3308421783,
          382600.552463905,
          383454.1870425049,
          383542.55913557834,
          383751.7030650158,
          383989.4170158413,
          384060.9527948743,
          384856.6330372209,
          384952.0313391807,
          385052.0007888019,
          385534.40194630355,
          385804.1681560179,
          385864.8000929036,
          385892.066118161,
          385958.6099684862,
          388139.46757176856,
          388186.5040581331,
          388951.2057087476,
          389903.48792744015,
          390115.69162731373,
          390510.91887931695,
          390770.935426669,
          391819.63020199665,
          392321.56006826245,
          392832.4825834609,
          392967.8484060197,
          393318.4028356041,
          393862.9758415156,
          394374.2562066468,
          395802.4002370241,
          396455.0248021877,
          397212.03068910365,
          398177.4137605178,
          398522.6736767287,
          398895.4518719093,
          399002.7296144719,
          399507.86420543806,
          399837.52707912296,
          399966.68904725526,
          402839.88780160615,
          402848.2931470385,
          403252.0786391802,
          403265.8480864476,
          403740.79589157715,
          403962.3237772828,
          404754.61771762196,
          405331.571884742,
          405700.3737456335,
          406248.47215354606,
          407034.00716103765,
          408500.1358994044,
          408625.82606099785,
          408788.5016155155,
          409771.2385530062,
          410030.44495969027,
          410262.5737415571,
          410704.19116913655,
          410913.5747589744,
          411376.0889250001,
          411498.2043585986,
          411569.818425107,
          411789.13195025775,
          412661.8583433913,
          413989.03383132967,
          415409.0541774667,
          416766.3016005497,
          416785.2690391206,
          417518.08016194316,
          417959.39135198435,
          417988.7383970388,
          420231.7998232905,
          420968.8545751348,
          421795.73470450565,
          422357.9391641093,
          424187.43347938574,
          424760.2314382882,
          425849.332360484,
          426343.29991353484,
          429318.27968143177,
          429829.16621941276,
          430584.1246152464,
          430750.74836519576,
          431604.8934208936,
          431787.28163059393,
          432168.507629802,
          432194.8670403833,
          432954.3941746166,
          433341.7114398699,
          433815.8344270853,
          433931.19107897155,
          434130.80088150245,
          434188.4013646821,
          434433.0800925978,
          435191.337848269,
          436998.2854196784,
          437233.78631759767,
          437465.148952839,
          437490.0228860199,
          437637.7936001964,
          437805.1127190981,
          438945.4387781946,
          439022.6056208756,
          439988.27292210294,
          441091.11574072146,
          441543.5834751805,
          441578.7324754904,
          442523.37079565006,
          442738.4654904903,
          442813.8343166663,
          443144.6787951654,
          443213.24164103734,
          444363.79538146267,
          444493.82317995833,
          444564.1121468063,
          444872.82865737943,
          445030.57759494847,
          445380.86288209143,
          445727.3389991406,
          445742.8268510987,
          445773.37181913195,
          445925.6172845904,
          445935.78358338407,
          445980.9248294947,
          446072.22637650697,
          446100.1916507924,
          446100.7471659403,
          446123.78492599906,
          446144.57084557763,
          446145.66867770784,
          446154.46216471907,
          446176.89561813703,
          446188.4363894494,
          446211.8907778913,
          446235.9293518272,
          446257.5006130471,
          446260.2757018087,
          446260.4269019844,
          446262.4043603423,
          446280.51758817624,
          446287.72790554934,
          446288.17503341957,
          446288.5734074739,
          446291.3225789003,
          446292.8549916777,
          446292.97445743805,
          446295.7297681216,
          446295.8470157294,
          446297.1436035684,
          446297.6402269443,
          446299.8855467024,
          446318.0778263495,
          446322.91062658624,
          446475.7822519645,
          446525.8113450214,
          446540.38569642534,
          446774.46416511014,
          447055.9894932698,
          447067.45355500747,
          447231.226705636,
          447431.0390047435,
          447659.2040950535,
          448267.24649254297,
          449476.7857069193,
          449886.9385323502,
          450158.7441410377,
          450328.3935917681,
          450379.1877936382,
          450973.3335263127,
          452211.3780496828,
          452728.60797617474,
          455378.98665643303,
          456667.1461890107,
          459445.16295672336,
          460947.49527866667,
          462491.89764955355,
          463057.01493236417,
          465574.8316930521,
          469421.7755040185,
          470148.5858181873,
          472629.42827141186,
          473582.67046931933,
          476255.96548363543,
          482339.5991340238,
          484519.715623307,
          496610.62880680553
         ],
         "y0": " ",
         "yaxis": "y"
        },
        {
         "alignmentgroup": "True",
         "boxpoints": "outliers",
         "hovertemplate": "uses_preprocessing=False<br>rmse=%{y}<extra></extra>",
         "legendgroup": "False",
         "marker": {
          "color": "#EF553B"
         },
         "name": "False",
         "notched": false,
         "offsetgroup": "False",
         "orientation": "v",
         "showlegend": true,
         "type": "box",
         "x0": " ",
         "xaxis": "x",
         "y": [
          371335.8866625337,
          373415.95706602617,
          374638.94714777824,
          376578.98475005815,
          382404.38099533704,
          384865.0926920196,
          385364.10020168923,
          386303.4040660779,
          386362.9443898347,
          387532.0061128245,
          388423.51760545635,
          388552.369635193,
          389077.5056203898,
          389564.50900393305,
          390253.07459525,
          390568.6074798642,
          390738.03960997576,
          391288.6089766442,
          391336.27438457496,
          391460.02856155485,
          392205.2867777827,
          393258.0022602269,
          394155.9437202242,
          394581.5398549848,
          397707.4856629337,
          398255.71560344874,
          399268.5621343114,
          399380.7390631338,
          399398.36891634815,
          400199.13821662805,
          401458.5495194001,
          401862.41947844863,
          402511.18607077206,
          402851.02226329787,
          403609.08361798583,
          405510.5212385421,
          406035.34883184434,
          407209.98265337094,
          407476.5074693586,
          408071.0171027928,
          408887.0514038459,
          408890.2287262573,
          411301.15855074045,
          413003.0339636057,
          414005.0036699453,
          417360.37380789994,
          417763.09437432315,
          419534.25675357686,
          419711.90714772284,
          421118.8192940838,
          421295.1352598101,
          422109.9064750162,
          422610.25125535944,
          423308.1442363169,
          423428.6295867926,
          423557.8892943666,
          424053.3086708219,
          424580.08429508895,
          424701.08569916646,
          425913.6046903787,
          427682.49306642875,
          428484.84677851794,
          429318.2824137462,
          430487.5768732312,
          430998.51569593325,
          431017.3327693827,
          431835.1764710003,
          432650.77868055087,
          435724.93780412525,
          437820.1978221849,
          439832.84136902477,
          441274.08649983024,
          441353.737310031,
          442921.5616551125,
          445738.4306802711,
          445860.1204057033,
          445999.84408155765,
          446086.3977996764,
          446196.2671235281,
          446239.1683950631,
          446292.1759642929,
          446292.9899969546,
          446310.0190804579,
          446543.2458177946,
          446747.6274023081,
          447197.50893952494,
          447437.9784591779,
          447475.57231347216,
          448010.7452915838,
          449797.612437453,
          453839.6960513623,
          457475.02970507287,
          463719.85814320977,
          463943.14263751655,
          465632.2323109415,
          533425.3420265932
         ],
         "y0": " ",
         "yaxis": "y"
        }
       ],
       "layout": {
        "boxmode": "group",
        "legend": {
         "title": {
          "text": "uses_preprocessing"
         },
         "tracegroupgap": 0
        },
        "margin": {
         "t": 60
        },
        "template": {
         "data": {
          "bar": [
           {
            "error_x": {
             "color": "#2a3f5f"
            },
            "error_y": {
             "color": "#2a3f5f"
            },
            "marker": {
             "line": {
              "color": "#E5ECF6",
              "width": 0.5
             },
             "pattern": {
              "fillmode": "overlay",
              "size": 10,
              "solidity": 0.2
             }
            },
            "type": "bar"
           }
          ],
          "barpolar": [
           {
            "marker": {
             "line": {
              "color": "#E5ECF6",
              "width": 0.5
             },
             "pattern": {
              "fillmode": "overlay",
              "size": 10,
              "solidity": 0.2
             }
            },
            "type": "barpolar"
           }
          ],
          "carpet": [
           {
            "aaxis": {
             "endlinecolor": "#2a3f5f",
             "gridcolor": "white",
             "linecolor": "white",
             "minorgridcolor": "white",
             "startlinecolor": "#2a3f5f"
            },
            "baxis": {
             "endlinecolor": "#2a3f5f",
             "gridcolor": "white",
             "linecolor": "white",
             "minorgridcolor": "white",
             "startlinecolor": "#2a3f5f"
            },
            "type": "carpet"
           }
          ],
          "choropleth": [
           {
            "colorbar": {
             "outlinewidth": 0,
             "ticks": ""
            },
            "type": "choropleth"
           }
          ],
          "contour": [
           {
            "colorbar": {
             "outlinewidth": 0,
             "ticks": ""
            },
            "colorscale": [
             [
              0,
              "#0d0887"
             ],
             [
              0.1111111111111111,
              "#46039f"
             ],
             [
              0.2222222222222222,
              "#7201a8"
             ],
             [
              0.3333333333333333,
              "#9c179e"
             ],
             [
              0.4444444444444444,
              "#bd3786"
             ],
             [
              0.5555555555555556,
              "#d8576b"
             ],
             [
              0.6666666666666666,
              "#ed7953"
             ],
             [
              0.7777777777777778,
              "#fb9f3a"
             ],
             [
              0.8888888888888888,
              "#fdca26"
             ],
             [
              1,
              "#f0f921"
             ]
            ],
            "type": "contour"
           }
          ],
          "contourcarpet": [
           {
            "colorbar": {
             "outlinewidth": 0,
             "ticks": ""
            },
            "type": "contourcarpet"
           }
          ],
          "heatmap": [
           {
            "colorbar": {
             "outlinewidth": 0,
             "ticks": ""
            },
            "colorscale": [
             [
              0,
              "#0d0887"
             ],
             [
              0.1111111111111111,
              "#46039f"
             ],
             [
              0.2222222222222222,
              "#7201a8"
             ],
             [
              0.3333333333333333,
              "#9c179e"
             ],
             [
              0.4444444444444444,
              "#bd3786"
             ],
             [
              0.5555555555555556,
              "#d8576b"
             ],
             [
              0.6666666666666666,
              "#ed7953"
             ],
             [
              0.7777777777777778,
              "#fb9f3a"
             ],
             [
              0.8888888888888888,
              "#fdca26"
             ],
             [
              1,
              "#f0f921"
             ]
            ],
            "type": "heatmap"
           }
          ],
          "heatmapgl": [
           {
            "colorbar": {
             "outlinewidth": 0,
             "ticks": ""
            },
            "colorscale": [
             [
              0,
              "#0d0887"
             ],
             [
              0.1111111111111111,
              "#46039f"
             ],
             [
              0.2222222222222222,
              "#7201a8"
             ],
             [
              0.3333333333333333,
              "#9c179e"
             ],
             [
              0.4444444444444444,
              "#bd3786"
             ],
             [
              0.5555555555555556,
              "#d8576b"
             ],
             [
              0.6666666666666666,
              "#ed7953"
             ],
             [
              0.7777777777777778,
              "#fb9f3a"
             ],
             [
              0.8888888888888888,
              "#fdca26"
             ],
             [
              1,
              "#f0f921"
             ]
            ],
            "type": "heatmapgl"
           }
          ],
          "histogram": [
           {
            "marker": {
             "pattern": {
              "fillmode": "overlay",
              "size": 10,
              "solidity": 0.2
             }
            },
            "type": "histogram"
           }
          ],
          "histogram2d": [
           {
            "colorbar": {
             "outlinewidth": 0,
             "ticks": ""
            },
            "colorscale": [
             [
              0,
              "#0d0887"
             ],
             [
              0.1111111111111111,
              "#46039f"
             ],
             [
              0.2222222222222222,
              "#7201a8"
             ],
             [
              0.3333333333333333,
              "#9c179e"
             ],
             [
              0.4444444444444444,
              "#bd3786"
             ],
             [
              0.5555555555555556,
              "#d8576b"
             ],
             [
              0.6666666666666666,
              "#ed7953"
             ],
             [
              0.7777777777777778,
              "#fb9f3a"
             ],
             [
              0.8888888888888888,
              "#fdca26"
             ],
             [
              1,
              "#f0f921"
             ]
            ],
            "type": "histogram2d"
           }
          ],
          "histogram2dcontour": [
           {
            "colorbar": {
             "outlinewidth": 0,
             "ticks": ""
            },
            "colorscale": [
             [
              0,
              "#0d0887"
             ],
             [
              0.1111111111111111,
              "#46039f"
             ],
             [
              0.2222222222222222,
              "#7201a8"
             ],
             [
              0.3333333333333333,
              "#9c179e"
             ],
             [
              0.4444444444444444,
              "#bd3786"
             ],
             [
              0.5555555555555556,
              "#d8576b"
             ],
             [
              0.6666666666666666,
              "#ed7953"
             ],
             [
              0.7777777777777778,
              "#fb9f3a"
             ],
             [
              0.8888888888888888,
              "#fdca26"
             ],
             [
              1,
              "#f0f921"
             ]
            ],
            "type": "histogram2dcontour"
           }
          ],
          "mesh3d": [
           {
            "colorbar": {
             "outlinewidth": 0,
             "ticks": ""
            },
            "type": "mesh3d"
           }
          ],
          "parcoords": [
           {
            "line": {
             "colorbar": {
              "outlinewidth": 0,
              "ticks": ""
             }
            },
            "type": "parcoords"
           }
          ],
          "pie": [
           {
            "automargin": true,
            "type": "pie"
           }
          ],
          "scatter": [
           {
            "fillpattern": {
             "fillmode": "overlay",
             "size": 10,
             "solidity": 0.2
            },
            "type": "scatter"
           }
          ],
          "scatter3d": [
           {
            "line": {
             "colorbar": {
              "outlinewidth": 0,
              "ticks": ""
             }
            },
            "marker": {
             "colorbar": {
              "outlinewidth": 0,
              "ticks": ""
             }
            },
            "type": "scatter3d"
           }
          ],
          "scattercarpet": [
           {
            "marker": {
             "colorbar": {
              "outlinewidth": 0,
              "ticks": ""
             }
            },
            "type": "scattercarpet"
           }
          ],
          "scattergeo": [
           {
            "marker": {
             "colorbar": {
              "outlinewidth": 0,
              "ticks": ""
             }
            },
            "type": "scattergeo"
           }
          ],
          "scattergl": [
           {
            "marker": {
             "colorbar": {
              "outlinewidth": 0,
              "ticks": ""
             }
            },
            "type": "scattergl"
           }
          ],
          "scattermapbox": [
           {
            "marker": {
             "colorbar": {
              "outlinewidth": 0,
              "ticks": ""
             }
            },
            "type": "scattermapbox"
           }
          ],
          "scatterpolar": [
           {
            "marker": {
             "colorbar": {
              "outlinewidth": 0,
              "ticks": ""
             }
            },
            "type": "scatterpolar"
           }
          ],
          "scatterpolargl": [
           {
            "marker": {
             "colorbar": {
              "outlinewidth": 0,
              "ticks": ""
             }
            },
            "type": "scatterpolargl"
           }
          ],
          "scatterternary": [
           {
            "marker": {
             "colorbar": {
              "outlinewidth": 0,
              "ticks": ""
             }
            },
            "type": "scatterternary"
           }
          ],
          "surface": [
           {
            "colorbar": {
             "outlinewidth": 0,
             "ticks": ""
            },
            "colorscale": [
             [
              0,
              "#0d0887"
             ],
             [
              0.1111111111111111,
              "#46039f"
             ],
             [
              0.2222222222222222,
              "#7201a8"
             ],
             [
              0.3333333333333333,
              "#9c179e"
             ],
             [
              0.4444444444444444,
              "#bd3786"
             ],
             [
              0.5555555555555556,
              "#d8576b"
             ],
             [
              0.6666666666666666,
              "#ed7953"
             ],
             [
              0.7777777777777778,
              "#fb9f3a"
             ],
             [
              0.8888888888888888,
              "#fdca26"
             ],
             [
              1,
              "#f0f921"
             ]
            ],
            "type": "surface"
           }
          ],
          "table": [
           {
            "cells": {
             "fill": {
              "color": "#EBF0F8"
             },
             "line": {
              "color": "white"
             }
            },
            "header": {
             "fill": {
              "color": "#C8D4E3"
             },
             "line": {
              "color": "white"
             }
            },
            "type": "table"
           }
          ]
         },
         "layout": {
          "annotationdefaults": {
           "arrowcolor": "#2a3f5f",
           "arrowhead": 0,
           "arrowwidth": 1
          },
          "autotypenumbers": "strict",
          "coloraxis": {
           "colorbar": {
            "outlinewidth": 0,
            "ticks": ""
           }
          },
          "colorscale": {
           "diverging": [
            [
             0,
             "#8e0152"
            ],
            [
             0.1,
             "#c51b7d"
            ],
            [
             0.2,
             "#de77ae"
            ],
            [
             0.3,
             "#f1b6da"
            ],
            [
             0.4,
             "#fde0ef"
            ],
            [
             0.5,
             "#f7f7f7"
            ],
            [
             0.6,
             "#e6f5d0"
            ],
            [
             0.7,
             "#b8e186"
            ],
            [
             0.8,
             "#7fbc41"
            ],
            [
             0.9,
             "#4d9221"
            ],
            [
             1,
             "#276419"
            ]
           ],
           "sequential": [
            [
             0,
             "#0d0887"
            ],
            [
             0.1111111111111111,
             "#46039f"
            ],
            [
             0.2222222222222222,
             "#7201a8"
            ],
            [
             0.3333333333333333,
             "#9c179e"
            ],
            [
             0.4444444444444444,
             "#bd3786"
            ],
            [
             0.5555555555555556,
             "#d8576b"
            ],
            [
             0.6666666666666666,
             "#ed7953"
            ],
            [
             0.7777777777777778,
             "#fb9f3a"
            ],
            [
             0.8888888888888888,
             "#fdca26"
            ],
            [
             1,
             "#f0f921"
            ]
           ],
           "sequentialminus": [
            [
             0,
             "#0d0887"
            ],
            [
             0.1111111111111111,
             "#46039f"
            ],
            [
             0.2222222222222222,
             "#7201a8"
            ],
            [
             0.3333333333333333,
             "#9c179e"
            ],
            [
             0.4444444444444444,
             "#bd3786"
            ],
            [
             0.5555555555555556,
             "#d8576b"
            ],
            [
             0.6666666666666666,
             "#ed7953"
            ],
            [
             0.7777777777777778,
             "#fb9f3a"
            ],
            [
             0.8888888888888888,
             "#fdca26"
            ],
            [
             1,
             "#f0f921"
            ]
           ]
          },
          "colorway": [
           "#636efa",
           "#EF553B",
           "#00cc96",
           "#ab63fa",
           "#FFA15A",
           "#19d3f3",
           "#FF6692",
           "#B6E880",
           "#FF97FF",
           "#FECB52"
          ],
          "font": {
           "color": "#2a3f5f"
          },
          "geo": {
           "bgcolor": "white",
           "lakecolor": "white",
           "landcolor": "#E5ECF6",
           "showlakes": true,
           "showland": true,
           "subunitcolor": "white"
          },
          "hoverlabel": {
           "align": "left"
          },
          "hovermode": "closest",
          "mapbox": {
           "style": "light"
          },
          "paper_bgcolor": "white",
          "plot_bgcolor": "#E5ECF6",
          "polar": {
           "angularaxis": {
            "gridcolor": "white",
            "linecolor": "white",
            "ticks": ""
           },
           "bgcolor": "#E5ECF6",
           "radialaxis": {
            "gridcolor": "white",
            "linecolor": "white",
            "ticks": ""
           }
          },
          "scene": {
           "xaxis": {
            "backgroundcolor": "#E5ECF6",
            "gridcolor": "white",
            "gridwidth": 2,
            "linecolor": "white",
            "showbackground": true,
            "ticks": "",
            "zerolinecolor": "white"
           },
           "yaxis": {
            "backgroundcolor": "#E5ECF6",
            "gridcolor": "white",
            "gridwidth": 2,
            "linecolor": "white",
            "showbackground": true,
            "ticks": "",
            "zerolinecolor": "white"
           },
           "zaxis": {
            "backgroundcolor": "#E5ECF6",
            "gridcolor": "white",
            "gridwidth": 2,
            "linecolor": "white",
            "showbackground": true,
            "ticks": "",
            "zerolinecolor": "white"
           }
          },
          "shapedefaults": {
           "line": {
            "color": "#2a3f5f"
           }
          },
          "ternary": {
           "aaxis": {
            "gridcolor": "white",
            "linecolor": "white",
            "ticks": ""
           },
           "baxis": {
            "gridcolor": "white",
            "linecolor": "white",
            "ticks": ""
           },
           "bgcolor": "#E5ECF6",
           "caxis": {
            "gridcolor": "white",
            "linecolor": "white",
            "ticks": ""
           }
          },
          "title": {
           "x": 0.05
          },
          "xaxis": {
           "automargin": true,
           "gridcolor": "white",
           "linecolor": "white",
           "ticks": "",
           "title": {
            "standoff": 15
           },
           "zerolinecolor": "white",
           "zerolinewidth": 2
          },
          "yaxis": {
           "automargin": true,
           "gridcolor": "white",
           "linecolor": "white",
           "ticks": "",
           "title": {
            "standoff": 15
           },
           "zerolinecolor": "white",
           "zerolinewidth": 2
          }
         }
        },
        "xaxis": {
         "anchor": "y",
         "domain": [
          0,
          1
         ]
        },
        "yaxis": {
         "anchor": "x",
         "domain": [
          0,
          1
         ],
         "title": {
          "text": "rmse"
         }
        }
       }
      }
     },
     "metadata": {},
     "output_type": "display_data"
    }
   ],
   "source": [
    "featurisers = [\"bow_count\", \"bow_binary\", \"tf_idf\"]\n",
    "trad_nlp_results = filtered_results[\n",
    "    (filtered_results[\"featuriser\"].isin(featurisers))\n",
    "]\n",
    "unique_preprocessers = sorted(set(chain.from_iterable(trad_nlp_results[\"preprocessers\"].values)))\n",
    "uses_preprocessing = trad_nlp_results[\"preprocessers\"].apply(lambda x: x[0] != \"empty\")\n",
    "uses_specifically = {}\n",
    "for preprocesser in unique_preprocessers:\n",
    "    uses_specifically[preprocesser] = trad_nlp_results[\"preprocessers\"].apply(lambda x: preprocesser in x)\n",
    "\n",
    "trad_nlp_results[\"uses_preprocessing\"] = uses_preprocessing\n",
    "\n",
    "fig = px.box(\n",
    "    trad_nlp_results,\n",
    "    y=metric,\n",
    "    color=\"uses_preprocessing\",\n",
    "    points=\"outliers\"\n",
    ")\n",
    "fig.show()\n"
   ]
  },
  {
   "cell_type": "code",
   "execution_count": null,
   "metadata": {},
   "outputs": [
    {
     "name": "stderr",
     "output_type": "stream",
     "text": [
      "2025-03-13 16:59:06,759 - analysis - INFO - \n",
      "empty:\n",
      "2025-03-13 16:59:06,760 - analysis - INFO - With normality p-value: 0.000\n",
      "2025-03-13 16:59:06,760 - analysis - INFO - Without normality p-value: 0.000\n",
      "2025-03-13 16:59:06,761 - analysis - INFO - Mann-Whitney U p-value: 0.259\n",
      "2025-03-13 16:59:06,793 - analysis - INFO - \n",
      "lemmatize:\n",
      "2025-03-13 16:59:06,794 - analysis - INFO - With normality p-value: 0.000\n",
      "2025-03-13 16:59:06,794 - analysis - INFO - Without normality p-value: 0.652\n",
      "2025-03-13 16:59:06,795 - analysis - INFO - Mann-Whitney U p-value: 0.002\n",
      "2025-03-13 16:59:06,831 - analysis - INFO - \n",
      "lowercase:\n",
      "2025-03-13 16:59:06,832 - analysis - INFO - With normality p-value: 0.000\n",
      "2025-03-13 16:59:06,833 - analysis - INFO - Without normality p-value: 0.785\n",
      "2025-03-13 16:59:06,834 - analysis - INFO - Mann-Whitney U p-value: 0.010\n",
      "2025-03-13 16:59:06,880 - analysis - INFO - \n",
      "no_punctuation:\n",
      "2025-03-13 16:59:06,881 - analysis - INFO - With normality p-value: 0.007\n",
      "2025-03-13 16:59:06,882 - analysis - INFO - Without normality p-value: 0.975\n",
      "2025-03-13 16:59:06,882 - analysis - INFO - Mann-Whitney U p-value: 0.082\n",
      "2025-03-13 16:59:06,946 - analysis - INFO - \n",
      "no_stopwords_nltk:\n",
      "2025-03-13 16:59:06,946 - analysis - INFO - With normality p-value: 0.000\n",
      "2025-03-13 16:59:06,947 - analysis - INFO - Without normality p-value: 0.848\n",
      "2025-03-13 16:59:06,947 - analysis - INFO - Mann-Whitney U p-value: 0.071\n",
      "2025-03-13 16:59:07,031 - analysis - INFO - \n",
      "no_stopwords_spacy:\n",
      "2025-03-13 16:59:07,032 - analysis - INFO - With normality p-value: 0.034\n",
      "2025-03-13 16:59:07,033 - analysis - INFO - Without normality p-value: 0.310\n",
      "2025-03-13 16:59:07,035 - analysis - INFO - Mann-Whitney U p-value: 0.017\n",
      "2025-03-13 16:59:07,169 - analysis - INFO - \n",
      "stem:\n",
      "2025-03-13 16:59:07,170 - analysis - INFO - With normality p-value: 0.108\n",
      "2025-03-13 16:59:07,170 - analysis - INFO - Without normality p-value: 0.601\n",
      "2025-03-13 16:59:07,171 - analysis - INFO - t-test p-value: 0.659\n"
     ]
    },
    {
     "data": {
      "application/vnd.plotly.v1+json": {
       "config": {
        "plotlyServerURL": "https://plot.ly"
       },
       "data": [
        {
         "boxpoints": "outliers",
         "marker": {
          "color": "green"
         },
         "name": "with",
         "type": "box",
         "xaxis": "x",
         "y": [
          371335.8866625337,
          373415.95706602617,
          374638.94714777824,
          376578.98475005815,
          382404.38099533704,
          384865.0926920196,
          385364.10020168923,
          386303.4040660779,
          386362.9443898347,
          387532.0061128245,
          388423.51760545635,
          388552.369635193,
          389077.5056203898,
          389564.50900393305,
          390253.07459525,
          390568.6074798642,
          390738.03960997576,
          391288.6089766442,
          391336.27438457496,
          391460.02856155485,
          392205.2867777827,
          393258.0022602269,
          394155.9437202242,
          394581.5398549848,
          397707.4856629337,
          398255.71560344874,
          399268.5621343114,
          399380.7390631338,
          399398.36891634815,
          400199.13821662805,
          401458.5495194001,
          401862.41947844863,
          402511.18607077206,
          402851.02226329787,
          403609.08361798583,
          405510.5212385421,
          406035.34883184434,
          407209.98265337094,
          407476.5074693586,
          408071.0171027928,
          408887.0514038459,
          408890.2287262573,
          411301.15855074045,
          413003.0339636057,
          414005.0036699453,
          417360.37380789994,
          417763.09437432315,
          419534.25675357686,
          419711.90714772284,
          421118.8192940838,
          421295.1352598101,
          422109.9064750162,
          422610.25125535944,
          423308.1442363169,
          423428.6295867926,
          423557.8892943666,
          424053.3086708219,
          424580.08429508895,
          424701.08569916646,
          425913.6046903787,
          427682.49306642875,
          428484.84677851794,
          429318.2824137462,
          430487.5768732312,
          430998.51569593325,
          431017.3327693827,
          431835.1764710003,
          432650.77868055087,
          435724.93780412525,
          437820.1978221849,
          439832.84136902477,
          441274.08649983024,
          441353.737310031,
          442921.5616551125,
          445738.4306802711,
          445860.1204057033,
          445999.84408155765,
          446086.3977996764,
          446196.2671235281,
          446239.1683950631,
          446292.1759642929,
          446292.9899969546,
          446310.0190804579,
          446543.2458177946,
          446747.6274023081,
          447197.50893952494,
          447437.9784591779,
          447475.57231347216,
          448010.7452915838,
          449797.612437453,
          453839.6960513623,
          457475.02970507287,
          463719.85814320977,
          463943.14263751655,
          465632.2323109415,
          533425.3420265932
         ],
         "yaxis": "y"
        },
        {
         "boxpoints": "outliers",
         "marker": {
          "color": "red"
         },
         "name": "without",
         "type": "box",
         "xaxis": "x",
         "y": [
          361421.34193893836,
          366211.90365923493,
          366433.5945247364,
          369982.5508239216,
          370369.5941213323,
          370754.7897793784,
          372168.10433634423,
          372924.9139539685,
          373069.9661529323,
          373225.84782664146,
          374971.0933159639,
          374974.0654724613,
          375919.61035550566,
          376562.9283245224,
          377825.7445526781,
          378563.370350385,
          379047.67152541014,
          380046.4860495535,
          381009.5184730367,
          381119.52544397546,
          381163.7805688142,
          381884.7485880463,
          382122.578352095,
          382483.3308421783,
          382600.552463905,
          383454.1870425049,
          383542.55913557834,
          383751.7030650158,
          383989.4170158413,
          384060.9527948743,
          384856.6330372209,
          384952.0313391807,
          385052.0007888019,
          385534.40194630355,
          385804.1681560179,
          385864.8000929036,
          385892.066118161,
          385958.6099684862,
          388139.46757176856,
          388186.5040581331,
          388951.2057087476,
          389903.48792744015,
          390115.69162731373,
          390510.91887931695,
          390770.935426669,
          391819.63020199665,
          392321.56006826245,
          392832.4825834609,
          392967.8484060197,
          393318.4028356041,
          393862.9758415156,
          394374.2562066468,
          395802.4002370241,
          396455.0248021877,
          397212.03068910365,
          398177.4137605178,
          398522.6736767287,
          398895.4518719093,
          399002.7296144719,
          399507.86420543806,
          399837.52707912296,
          399966.68904725526,
          402839.88780160615,
          402848.2931470385,
          403252.0786391802,
          403265.8480864476,
          403740.79589157715,
          403962.3237772828,
          404754.61771762196,
          405331.571884742,
          405700.3737456335,
          406248.47215354606,
          407034.00716103765,
          408500.1358994044,
          408625.82606099785,
          408788.5016155155,
          409771.2385530062,
          410030.44495969027,
          410262.5737415571,
          410704.19116913655,
          410913.5747589744,
          411376.0889250001,
          411498.2043585986,
          411569.818425107,
          411789.13195025775,
          412661.8583433913,
          413989.03383132967,
          415409.0541774667,
          416766.3016005497,
          416785.2690391206,
          417518.08016194316,
          417959.39135198435,
          417988.7383970388,
          420231.7998232905,
          420968.8545751348,
          421795.73470450565,
          422357.9391641093,
          424187.43347938574,
          424760.2314382882,
          425849.332360484,
          426343.29991353484,
          429318.27968143177,
          429829.16621941276,
          430584.1246152464,
          430750.74836519576,
          431604.8934208936,
          431787.28163059393,
          432168.507629802,
          432194.8670403833,
          432954.3941746166,
          433341.7114398699,
          433815.8344270853,
          433931.19107897155,
          434130.80088150245,
          434188.4013646821,
          434433.0800925978,
          435191.337848269,
          436998.2854196784,
          437233.78631759767,
          437465.148952839,
          437490.0228860199,
          437637.7936001964,
          437805.1127190981,
          438945.4387781946,
          439022.6056208756,
          439988.27292210294,
          441091.11574072146,
          441543.5834751805,
          441578.7324754904,
          442523.37079565006,
          442738.4654904903,
          442813.8343166663,
          443144.6787951654,
          443213.24164103734,
          444363.79538146267,
          444493.82317995833,
          444564.1121468063,
          444872.82865737943,
          445030.57759494847,
          445380.86288209143,
          445727.3389991406,
          445742.8268510987,
          445773.37181913195,
          445925.6172845904,
          445935.78358338407,
          445980.9248294947,
          446072.22637650697,
          446100.1916507924,
          446100.7471659403,
          446123.78492599906,
          446144.57084557763,
          446145.66867770784,
          446154.46216471907,
          446176.89561813703,
          446188.4363894494,
          446211.8907778913,
          446235.9293518272,
          446257.5006130471,
          446260.2757018087,
          446260.4269019844,
          446262.4043603423,
          446280.51758817624,
          446287.72790554934,
          446288.17503341957,
          446288.5734074739,
          446291.3225789003,
          446292.8549916777,
          446292.97445743805,
          446295.7297681216,
          446295.8470157294,
          446297.1436035684,
          446297.6402269443,
          446299.8855467024,
          446318.0778263495,
          446322.91062658624,
          446475.7822519645,
          446525.8113450214,
          446540.38569642534,
          446774.46416511014,
          447055.9894932698,
          447067.45355500747,
          447231.226705636,
          447431.0390047435,
          447659.2040950535,
          448267.24649254297,
          449476.7857069193,
          449886.9385323502,
          450158.7441410377,
          450328.3935917681,
          450379.1877936382,
          450973.3335263127,
          452211.3780496828,
          452728.60797617474,
          455378.98665643303,
          456667.1461890107,
          459445.16295672336,
          460947.49527866667,
          462491.89764955355,
          463057.01493236417,
          465574.8316930521,
          469421.7755040185,
          470148.5858181873,
          472629.42827141186,
          473582.67046931933,
          476255.96548363543,
          482339.5991340238,
          484519.715623307,
          496610.62880680553
         ],
         "yaxis": "y"
        },
        {
         "boxpoints": "outliers",
         "marker": {
          "color": "green"
         },
         "name": "with",
         "type": "box",
         "xaxis": "x2",
         "y": [
          361421.34193893836,
          366211.90365923493,
          366433.5945247364,
          369982.5508239216,
          370754.7897793784,
          372168.10433634423,
          372924.9139539685,
          376562.9283245224,
          379047.67152541014,
          381009.5184730367,
          381119.52544397546,
          381163.7805688142,
          381884.7485880463,
          382122.578352095,
          382483.3308421783,
          382600.552463905,
          383454.1870425049,
          383542.55913557834,
          383989.4170158413,
          384060.9527948743,
          384856.6330372209,
          384952.0313391807,
          385052.0007888019,
          385534.40194630355,
          385864.8000929036,
          385892.066118161,
          385958.6099684862,
          388139.46757176856,
          389903.48792744015,
          390770.935426669,
          392967.8484060197,
          393318.4028356041,
          395802.4002370241,
          398522.6736767287,
          399002.7296144719,
          399837.52707912296,
          399966.68904725526,
          403265.8480864476,
          403962.3237772828,
          405331.571884742,
          407034.00716103765,
          408625.82606099785,
          409771.2385530062,
          410030.44495969027,
          410262.5737415571,
          410704.19116913655,
          411376.0889250001,
          411498.2043585986,
          420968.8545751348,
          422357.9391641093,
          424187.43347938574,
          425849.332360484,
          431604.8934208936,
          431787.28163059393,
          432168.507629802,
          434130.80088150245,
          437637.7936001964,
          438945.4387781946,
          441578.7324754904,
          442738.4654904903,
          444493.82317995833,
          444564.1121468063,
          444872.82865737943,
          445727.3389991406,
          445935.78358338407,
          446123.78492599906,
          446144.57084557763,
          446154.46216471907,
          446188.4363894494,
          446211.8907778913,
          446257.5006130471,
          446260.2757018087,
          446260.4269019844,
          446288.5734074739,
          446291.3225789003,
          446292.97445743805,
          446295.7297681216,
          446295.8470157294,
          446322.91062658624,
          447659.2040950535,
          456667.1461890107,
          463057.01493236417,
          470148.5858181873,
          472629.42827141186
         ],
         "yaxis": "y2"
        },
        {
         "boxpoints": "outliers",
         "marker": {
          "color": "red"
         },
         "name": "without",
         "type": "box",
         "xaxis": "x2",
         "y": [
          370369.5941213323,
          371335.8866625337,
          373069.9661529323,
          373225.84782664146,
          373415.95706602617,
          374638.94714777824,
          374971.0933159639,
          374974.0654724613,
          375919.61035550566,
          376578.98475005815,
          377825.7445526781,
          378563.370350385,
          380046.4860495535,
          382404.38099533704,
          383751.7030650158,
          384865.0926920196,
          385364.10020168923,
          385804.1681560179,
          386303.4040660779,
          386362.9443898347,
          387532.0061128245,
          388186.5040581331,
          388423.51760545635,
          388552.369635193,
          388951.2057087476,
          389077.5056203898,
          389564.50900393305,
          390115.69162731373,
          390253.07459525,
          390510.91887931695,
          390568.6074798642,
          390738.03960997576,
          391288.6089766442,
          391336.27438457496,
          391460.02856155485,
          391819.63020199665,
          392205.2867777827,
          392321.56006826245,
          392832.4825834609,
          393258.0022602269,
          393862.9758415156,
          394155.9437202242,
          394374.2562066468,
          394581.5398549848,
          396455.0248021877,
          397212.03068910365,
          397707.4856629337,
          398177.4137605178,
          398255.71560344874,
          398895.4518719093,
          399268.5621343114,
          399380.7390631338,
          399398.36891634815,
          399507.86420543806,
          400199.13821662805,
          401458.5495194001,
          401862.41947844863,
          402511.18607077206,
          402839.88780160615,
          402848.2931470385,
          402851.02226329787,
          403252.0786391802,
          403609.08361798583,
          403740.79589157715,
          404754.61771762196,
          405510.5212385421,
          405700.3737456335,
          406035.34883184434,
          406248.47215354606,
          407209.98265337094,
          407476.5074693586,
          408071.0171027928,
          408500.1358994044,
          408788.5016155155,
          408887.0514038459,
          408890.2287262573,
          410913.5747589744,
          411301.15855074045,
          411569.818425107,
          411789.13195025775,
          412661.8583433913,
          413003.0339636057,
          413989.03383132967,
          414005.0036699453,
          415409.0541774667,
          416766.3016005497,
          416785.2690391206,
          417360.37380789994,
          417518.08016194316,
          417763.09437432315,
          417959.39135198435,
          417988.7383970388,
          419534.25675357686,
          419711.90714772284,
          420231.7998232905,
          421118.8192940838,
          421295.1352598101,
          421795.73470450565,
          422109.9064750162,
          422610.25125535944,
          423308.1442363169,
          423428.6295867926,
          423557.8892943666,
          424053.3086708219,
          424580.08429508895,
          424701.08569916646,
          424760.2314382882,
          425913.6046903787,
          426343.29991353484,
          427682.49306642875,
          428484.84677851794,
          429318.27968143177,
          429318.2824137462,
          429829.16621941276,
          430487.5768732312,
          430584.1246152464,
          430750.74836519576,
          430998.51569593325,
          431017.3327693827,
          431835.1764710003,
          432194.8670403833,
          432650.77868055087,
          432954.3941746166,
          433341.7114398699,
          433815.8344270853,
          433931.19107897155,
          434188.4013646821,
          434433.0800925978,
          435191.337848269,
          435724.93780412525,
          436998.2854196784,
          437233.78631759767,
          437465.148952839,
          437490.0228860199,
          437805.1127190981,
          437820.1978221849,
          439022.6056208756,
          439832.84136902477,
          439988.27292210294,
          441091.11574072146,
          441274.08649983024,
          441353.737310031,
          441543.5834751805,
          442523.37079565006,
          442813.8343166663,
          442921.5616551125,
          443144.6787951654,
          443213.24164103734,
          444363.79538146267,
          445030.57759494847,
          445380.86288209143,
          445738.4306802711,
          445742.8268510987,
          445773.37181913195,
          445860.1204057033,
          445925.6172845904,
          445980.9248294947,
          445999.84408155765,
          446072.22637650697,
          446086.3977996764,
          446100.1916507924,
          446100.7471659403,
          446145.66867770784,
          446176.89561813703,
          446196.2671235281,
          446235.9293518272,
          446239.1683950631,
          446262.4043603423,
          446280.51758817624,
          446287.72790554934,
          446288.17503341957,
          446292.1759642929,
          446292.8549916777,
          446292.9899969546,
          446297.1436035684,
          446297.6402269443,
          446299.8855467024,
          446310.0190804579,
          446318.0778263495,
          446475.7822519645,
          446525.8113450214,
          446540.38569642534,
          446543.2458177946,
          446747.6274023081,
          446774.46416511014,
          447055.9894932698,
          447067.45355500747,
          447197.50893952494,
          447231.226705636,
          447431.0390047435,
          447437.9784591779,
          447475.57231347216,
          448010.7452915838,
          448267.24649254297,
          449476.7857069193,
          449797.612437453,
          449886.9385323502,
          450158.7441410377,
          450328.3935917681,
          450379.1877936382,
          450973.3335263127,
          452211.3780496828,
          452728.60797617474,
          453839.6960513623,
          455378.98665643303,
          457475.02970507287,
          459445.16295672336,
          460947.49527866667,
          462491.89764955355,
          463719.85814320977,
          463943.14263751655,
          465574.8316930521,
          465632.2323109415,
          469421.7755040185,
          473582.67046931933,
          476255.96548363543,
          482339.5991340238,
          484519.715623307,
          496610.62880680553,
          533425.3420265932
         ],
         "yaxis": "y2"
        },
        {
         "boxpoints": "outliers",
         "marker": {
          "color": "green"
         },
         "name": "with",
         "type": "box",
         "xaxis": "x3",
         "y": [
          370369.5941213323,
          373069.9661529323,
          373225.84782664146,
          374971.0933159639,
          374974.0654724613,
          375919.61035550566,
          377825.7445526781,
          378563.370350385,
          379047.67152541014,
          380046.4860495535,
          381009.5184730367,
          381119.52544397546,
          381163.7805688142,
          381884.7485880463,
          382122.578352095,
          382600.552463905,
          383454.1870425049,
          383751.7030650158,
          383989.4170158413,
          384856.6330372209,
          384952.0313391807,
          385052.0007888019,
          385804.1681560179,
          385864.8000929036,
          385892.066118161,
          385958.6099684862,
          388139.46757176856,
          388186.5040581331,
          388951.2057087476,
          389903.48792744015,
          390115.69162731373,
          390510.91887931695,
          390770.935426669,
          391819.63020199665,
          392321.56006826245,
          392967.8484060197,
          393318.4028356041,
          393862.9758415156,
          397212.03068910365,
          398522.6736767287,
          398895.4518719093,
          399002.7296144719,
          399966.68904725526,
          402848.2931470385,
          403962.3237772828,
          406248.47215354606,
          407034.00716103765,
          409771.2385530062,
          410030.44495969027,
          410913.5747589744,
          411376.0889250001,
          411569.818425107,
          411789.13195025775,
          412661.8583433913,
          413989.03383132967,
          415409.0541774667,
          416785.2690391206,
          417518.08016194316,
          417959.39135198435,
          424760.2314382882,
          429318.27968143177,
          429829.16621941276,
          430584.1246152464,
          430750.74836519576,
          431604.8934208936,
          431787.28163059393,
          432168.507629802,
          432194.8670403833,
          432954.3941746166,
          433815.8344270853,
          434130.80088150245,
          434188.4013646821,
          434433.0800925978,
          435191.337848269,
          437233.78631759767,
          437465.148952839,
          437490.0228860199,
          437637.7936001964,
          437805.1127190981,
          438945.4387781946,
          439022.6056208756,
          441091.11574072146,
          441578.7324754904,
          442738.4654904903,
          442813.8343166663,
          444493.82317995833,
          444564.1121468063,
          444872.82865737943,
          445727.3389991406,
          445925.6172845904,
          445935.78358338407,
          446123.78492599906,
          446144.57084557763,
          446154.46216471907,
          446188.4363894494,
          446211.8907778913,
          446235.9293518272,
          446257.5006130471,
          446260.2757018087,
          446260.4269019844,
          446280.51758817624,
          446288.5734074739,
          446291.3225789003,
          446292.97445743805,
          446295.7297681216,
          446295.8470157294,
          446322.91062658624,
          447659.2040950535,
          459445.16295672336,
          462491.89764955355,
          469421.7755040185,
          482339.5991340238
         ],
         "yaxis": "y3"
        },
        {
         "boxpoints": "outliers",
         "marker": {
          "color": "red"
         },
         "name": "without",
         "type": "box",
         "xaxis": "x3",
         "y": [
          361421.34193893836,
          366211.90365923493,
          366433.5945247364,
          369982.5508239216,
          370754.7897793784,
          371335.8866625337,
          372168.10433634423,
          372924.9139539685,
          373415.95706602617,
          374638.94714777824,
          376562.9283245224,
          376578.98475005815,
          382404.38099533704,
          382483.3308421783,
          383542.55913557834,
          384060.9527948743,
          384865.0926920196,
          385364.10020168923,
          385534.40194630355,
          386303.4040660779,
          386362.9443898347,
          387532.0061128245,
          388423.51760545635,
          388552.369635193,
          389077.5056203898,
          389564.50900393305,
          390253.07459525,
          390568.6074798642,
          390738.03960997576,
          391288.6089766442,
          391336.27438457496,
          391460.02856155485,
          392205.2867777827,
          392832.4825834609,
          393258.0022602269,
          394155.9437202242,
          394374.2562066468,
          394581.5398549848,
          395802.4002370241,
          396455.0248021877,
          397707.4856629337,
          398177.4137605178,
          398255.71560344874,
          399268.5621343114,
          399380.7390631338,
          399398.36891634815,
          399507.86420543806,
          399837.52707912296,
          400199.13821662805,
          401458.5495194001,
          401862.41947844863,
          402511.18607077206,
          402839.88780160615,
          402851.02226329787,
          403252.0786391802,
          403265.8480864476,
          403609.08361798583,
          403740.79589157715,
          404754.61771762196,
          405331.571884742,
          405510.5212385421,
          405700.3737456335,
          406035.34883184434,
          407209.98265337094,
          407476.5074693586,
          408071.0171027928,
          408500.1358994044,
          408625.82606099785,
          408788.5016155155,
          408887.0514038459,
          408890.2287262573,
          410262.5737415571,
          410704.19116913655,
          411301.15855074045,
          411498.2043585986,
          413003.0339636057,
          414005.0036699453,
          416766.3016005497,
          417360.37380789994,
          417763.09437432315,
          417988.7383970388,
          419534.25675357686,
          419711.90714772284,
          420231.7998232905,
          420968.8545751348,
          421118.8192940838,
          421295.1352598101,
          421795.73470450565,
          422109.9064750162,
          422357.9391641093,
          422610.25125535944,
          423308.1442363169,
          423428.6295867926,
          423557.8892943666,
          424053.3086708219,
          424187.43347938574,
          424580.08429508895,
          424701.08569916646,
          425849.332360484,
          425913.6046903787,
          426343.29991353484,
          427682.49306642875,
          428484.84677851794,
          429318.2824137462,
          430487.5768732312,
          430998.51569593325,
          431017.3327693827,
          431835.1764710003,
          432650.77868055087,
          433341.7114398699,
          433931.19107897155,
          435724.93780412525,
          436998.2854196784,
          437820.1978221849,
          439832.84136902477,
          439988.27292210294,
          441274.08649983024,
          441353.737310031,
          441543.5834751805,
          442523.37079565006,
          442921.5616551125,
          443144.6787951654,
          443213.24164103734,
          444363.79538146267,
          445030.57759494847,
          445380.86288209143,
          445738.4306802711,
          445742.8268510987,
          445773.37181913195,
          445860.1204057033,
          445980.9248294947,
          445999.84408155765,
          446072.22637650697,
          446086.3977996764,
          446100.1916507924,
          446100.7471659403,
          446145.66867770784,
          446176.89561813703,
          446196.2671235281,
          446239.1683950631,
          446262.4043603423,
          446287.72790554934,
          446288.17503341957,
          446292.1759642929,
          446292.8549916777,
          446292.9899969546,
          446297.1436035684,
          446297.6402269443,
          446299.8855467024,
          446310.0190804579,
          446318.0778263495,
          446475.7822519645,
          446525.8113450214,
          446540.38569642534,
          446543.2458177946,
          446747.6274023081,
          446774.46416511014,
          447055.9894932698,
          447067.45355500747,
          447197.50893952494,
          447231.226705636,
          447431.0390047435,
          447437.9784591779,
          447475.57231347216,
          448010.7452915838,
          448267.24649254297,
          449476.7857069193,
          449797.612437453,
          449886.9385323502,
          450158.7441410377,
          450328.3935917681,
          450379.1877936382,
          450973.3335263127,
          452211.3780496828,
          452728.60797617474,
          453839.6960513623,
          455378.98665643303,
          456667.1461890107,
          457475.02970507287,
          460947.49527866667,
          463057.01493236417,
          463719.85814320977,
          463943.14263751655,
          465574.8316930521,
          465632.2323109415,
          470148.5858181873,
          472629.42827141186,
          473582.67046931933,
          476255.96548363543,
          484519.715623307,
          496610.62880680553,
          533425.3420265932
         ],
         "yaxis": "y3"
        },
        {
         "boxpoints": "outliers",
         "marker": {
          "color": "green"
         },
         "name": "with",
         "type": "box",
         "xaxis": "x4",
         "y": [
          370369.5941213323,
          373069.9661529323,
          373225.84782664146,
          374971.0933159639,
          374974.0654724613,
          375919.61035550566,
          377825.7445526781,
          378563.370350385,
          379047.67152541014,
          381009.5184730367,
          381119.52544397546,
          381884.7485880463,
          382122.578352095,
          382483.3308421783,
          382600.552463905,
          383454.1870425049,
          383542.55913557834,
          384060.9527948743,
          385534.40194630355,
          385864.8000929036,
          385892.066118161,
          388186.5040581331,
          389903.48792744015,
          392967.8484060197,
          393318.4028356041,
          394374.2562066468,
          395802.4002370241,
          396455.0248021877,
          397212.03068910365,
          398177.4137605178,
          398522.6736767287,
          398895.4518719093,
          399002.7296144719,
          399507.86420543806,
          399837.52707912296,
          399966.68904725526,
          402839.88780160615,
          402848.2931470385,
          403252.0786391802,
          403265.8480864476,
          403962.3237772828,
          404754.61771762196,
          405331.571884742,
          406248.47215354606,
          407034.00716103765,
          409771.2385530062,
          410030.44495969027,
          410913.5747589744,
          411376.0889250001,
          413989.03383132967,
          415409.0541774667,
          416766.3016005497,
          416785.2690391206,
          417988.7383970388,
          420231.7998232905,
          421795.73470450565,
          424760.2314382882,
          426343.29991353484,
          430750.74836519576,
          431604.8934208936,
          433815.8344270853,
          433931.19107897155,
          438945.4387781946,
          441578.7324754904,
          442738.4654904903,
          443213.24164103734,
          444493.82317995833,
          444872.82865737943,
          445030.57759494847,
          445980.9248294947,
          446072.22637650697,
          446100.7471659403,
          446145.66867770784,
          446176.89561813703,
          446211.8907778913,
          446257.5006130471,
          446262.4043603423,
          446287.72790554934,
          446288.17503341957,
          446292.8549916777,
          446292.97445743805,
          446295.8470157294,
          446297.6402269443,
          446322.91062658624,
          446475.7822519645,
          446540.38569642534,
          446774.46416511014,
          447055.9894932698,
          447067.45355500747,
          447231.226705636,
          447659.2040950535,
          448267.24649254297,
          450158.7441410377,
          452211.3780496828,
          476255.96548363543,
          496610.62880680553
         ],
         "yaxis": "y4"
        },
        {
         "boxpoints": "outliers",
         "marker": {
          "color": "red"
         },
         "name": "without",
         "type": "box",
         "xaxis": "x4",
         "y": [
          361421.34193893836,
          366211.90365923493,
          366433.5945247364,
          369982.5508239216,
          370754.7897793784,
          371335.8866625337,
          372168.10433634423,
          372924.9139539685,
          373415.95706602617,
          374638.94714777824,
          376562.9283245224,
          376578.98475005815,
          380046.4860495535,
          381163.7805688142,
          382404.38099533704,
          383751.7030650158,
          383989.4170158413,
          384856.6330372209,
          384865.0926920196,
          384952.0313391807,
          385052.0007888019,
          385364.10020168923,
          385804.1681560179,
          385958.6099684862,
          386303.4040660779,
          386362.9443898347,
          387532.0061128245,
          388139.46757176856,
          388423.51760545635,
          388552.369635193,
          388951.2057087476,
          389077.5056203898,
          389564.50900393305,
          390115.69162731373,
          390253.07459525,
          390510.91887931695,
          390568.6074798642,
          390738.03960997576,
          390770.935426669,
          391288.6089766442,
          391336.27438457496,
          391460.02856155485,
          391819.63020199665,
          392205.2867777827,
          392321.56006826245,
          392832.4825834609,
          393258.0022602269,
          393862.9758415156,
          394155.9437202242,
          394581.5398549848,
          397707.4856629337,
          398255.71560344874,
          399268.5621343114,
          399380.7390631338,
          399398.36891634815,
          400199.13821662805,
          401458.5495194001,
          401862.41947844863,
          402511.18607077206,
          402851.02226329787,
          403609.08361798583,
          403740.79589157715,
          405510.5212385421,
          405700.3737456335,
          406035.34883184434,
          407209.98265337094,
          407476.5074693586,
          408071.0171027928,
          408500.1358994044,
          408625.82606099785,
          408788.5016155155,
          408887.0514038459,
          408890.2287262573,
          410262.5737415571,
          410704.19116913655,
          411301.15855074045,
          411498.2043585986,
          411569.818425107,
          411789.13195025775,
          412661.8583433913,
          413003.0339636057,
          414005.0036699453,
          417360.37380789994,
          417518.08016194316,
          417763.09437432315,
          417959.39135198435,
          419534.25675357686,
          419711.90714772284,
          420968.8545751348,
          421118.8192940838,
          421295.1352598101,
          422109.9064750162,
          422357.9391641093,
          422610.25125535944,
          423308.1442363169,
          423428.6295867926,
          423557.8892943666,
          424053.3086708219,
          424187.43347938574,
          424580.08429508895,
          424701.08569916646,
          425849.332360484,
          425913.6046903787,
          427682.49306642875,
          428484.84677851794,
          429318.27968143177,
          429318.2824137462,
          429829.16621941276,
          430487.5768732312,
          430584.1246152464,
          430998.51569593325,
          431017.3327693827,
          431787.28163059393,
          431835.1764710003,
          432168.507629802,
          432194.8670403833,
          432650.77868055087,
          432954.3941746166,
          433341.7114398699,
          434130.80088150245,
          434188.4013646821,
          434433.0800925978,
          435191.337848269,
          435724.93780412525,
          436998.2854196784,
          437233.78631759767,
          437465.148952839,
          437490.0228860199,
          437637.7936001964,
          437805.1127190981,
          437820.1978221849,
          439022.6056208756,
          439832.84136902477,
          439988.27292210294,
          441091.11574072146,
          441274.08649983024,
          441353.737310031,
          441543.5834751805,
          442523.37079565006,
          442813.8343166663,
          442921.5616551125,
          443144.6787951654,
          444363.79538146267,
          444564.1121468063,
          445380.86288209143,
          445727.3389991406,
          445738.4306802711,
          445742.8268510987,
          445773.37181913195,
          445860.1204057033,
          445925.6172845904,
          445935.78358338407,
          445999.84408155765,
          446086.3977996764,
          446100.1916507924,
          446123.78492599906,
          446144.57084557763,
          446154.46216471907,
          446188.4363894494,
          446196.2671235281,
          446235.9293518272,
          446239.1683950631,
          446260.2757018087,
          446260.4269019844,
          446280.51758817624,
          446288.5734074739,
          446291.3225789003,
          446292.1759642929,
          446292.9899969546,
          446295.7297681216,
          446297.1436035684,
          446299.8855467024,
          446310.0190804579,
          446318.0778263495,
          446525.8113450214,
          446543.2458177946,
          446747.6274023081,
          447197.50893952494,
          447431.0390047435,
          447437.9784591779,
          447475.57231347216,
          448010.7452915838,
          449476.7857069193,
          449797.612437453,
          449886.9385323502,
          450328.3935917681,
          450379.1877936382,
          450973.3335263127,
          452728.60797617474,
          453839.6960513623,
          455378.98665643303,
          456667.1461890107,
          457475.02970507287,
          459445.16295672336,
          460947.49527866667,
          462491.89764955355,
          463057.01493236417,
          463719.85814320977,
          463943.14263751655,
          465574.8316930521,
          465632.2323109415,
          469421.7755040185,
          470148.5858181873,
          472629.42827141186,
          473582.67046931933,
          482339.5991340238,
          484519.715623307,
          533425.3420265932
         ],
         "yaxis": "y4"
        },
        {
         "boxpoints": "outliers",
         "marker": {
          "color": "green"
         },
         "name": "with",
         "type": "box",
         "xaxis": "x5",
         "y": [
          373225.84782664146,
          374974.0654724613,
          375919.61035550566,
          377825.7445526781,
          379047.67152541014,
          381009.5184730367,
          381119.52544397546,
          381163.7805688142,
          382122.578352095,
          383989.4170158413,
          384856.6330372209,
          384952.0313391807,
          389903.48792744015,
          390115.69162731373,
          390510.91887931695,
          391819.63020199665,
          392967.8484060197,
          393318.4028356041,
          393862.9758415156,
          395802.4002370241,
          399002.7296144719,
          399837.52707912296,
          403265.8480864476,
          405331.571884742,
          410704.19116913655,
          411569.818425107,
          411789.13195025775,
          412661.8583433913,
          417518.08016194316,
          422357.9391641093,
          424187.43347938574,
          425849.332360484,
          444363.79538146267,
          445727.3389991406,
          446100.1916507924,
          446211.8907778913,
          446257.5006130471,
          446260.2757018087,
          446260.4269019844,
          446291.3225789003,
          446295.8470157294,
          446299.8855467024,
          446322.91062658624,
          447431.0390047435,
          449476.7857069193,
          450328.3935917681,
          450973.3335263127,
          460947.49527866667
         ],
         "yaxis": "y5"
        },
        {
         "boxpoints": "outliers",
         "marker": {
          "color": "red"
         },
         "name": "without",
         "type": "box",
         "xaxis": "x5",
         "y": [
          361421.34193893836,
          366211.90365923493,
          366433.5945247364,
          369982.5508239216,
          370369.5941213323,
          370754.7897793784,
          371335.8866625337,
          372168.10433634423,
          372924.9139539685,
          373069.9661529323,
          373415.95706602617,
          374638.94714777824,
          374971.0933159639,
          376562.9283245224,
          376578.98475005815,
          378563.370350385,
          380046.4860495535,
          381884.7485880463,
          382404.38099533704,
          382483.3308421783,
          382600.552463905,
          383454.1870425049,
          383542.55913557834,
          383751.7030650158,
          384060.9527948743,
          384865.0926920196,
          385052.0007888019,
          385364.10020168923,
          385534.40194630355,
          385804.1681560179,
          385864.8000929036,
          385892.066118161,
          385958.6099684862,
          386303.4040660779,
          386362.9443898347,
          387532.0061128245,
          388139.46757176856,
          388186.5040581331,
          388423.51760545635,
          388552.369635193,
          388951.2057087476,
          389077.5056203898,
          389564.50900393305,
          390253.07459525,
          390568.6074798642,
          390738.03960997576,
          390770.935426669,
          391288.6089766442,
          391336.27438457496,
          391460.02856155485,
          392205.2867777827,
          392321.56006826245,
          392832.4825834609,
          393258.0022602269,
          394155.9437202242,
          394374.2562066468,
          394581.5398549848,
          396455.0248021877,
          397212.03068910365,
          397707.4856629337,
          398177.4137605178,
          398255.71560344874,
          398522.6736767287,
          398895.4518719093,
          399268.5621343114,
          399380.7390631338,
          399398.36891634815,
          399507.86420543806,
          399966.68904725526,
          400199.13821662805,
          401458.5495194001,
          401862.41947844863,
          402511.18607077206,
          402839.88780160615,
          402848.2931470385,
          402851.02226329787,
          403252.0786391802,
          403609.08361798583,
          403740.79589157715,
          403962.3237772828,
          404754.61771762196,
          405510.5212385421,
          405700.3737456335,
          406035.34883184434,
          406248.47215354606,
          407034.00716103765,
          407209.98265337094,
          407476.5074693586,
          408071.0171027928,
          408500.1358994044,
          408625.82606099785,
          408788.5016155155,
          408887.0514038459,
          408890.2287262573,
          409771.2385530062,
          410030.44495969027,
          410262.5737415571,
          410913.5747589744,
          411301.15855074045,
          411376.0889250001,
          411498.2043585986,
          413003.0339636057,
          413989.03383132967,
          414005.0036699453,
          415409.0541774667,
          416766.3016005497,
          416785.2690391206,
          417360.37380789994,
          417763.09437432315,
          417959.39135198435,
          417988.7383970388,
          419534.25675357686,
          419711.90714772284,
          420231.7998232905,
          420968.8545751348,
          421118.8192940838,
          421295.1352598101,
          421795.73470450565,
          422109.9064750162,
          422610.25125535944,
          423308.1442363169,
          423428.6295867926,
          423557.8892943666,
          424053.3086708219,
          424580.08429508895,
          424701.08569916646,
          424760.2314382882,
          425913.6046903787,
          426343.29991353484,
          427682.49306642875,
          428484.84677851794,
          429318.27968143177,
          429318.2824137462,
          429829.16621941276,
          430487.5768732312,
          430584.1246152464,
          430750.74836519576,
          430998.51569593325,
          431017.3327693827,
          431604.8934208936,
          431787.28163059393,
          431835.1764710003,
          432168.507629802,
          432194.8670403833,
          432650.77868055087,
          432954.3941746166,
          433341.7114398699,
          433815.8344270853,
          433931.19107897155,
          434130.80088150245,
          434188.4013646821,
          434433.0800925978,
          435191.337848269,
          435724.93780412525,
          436998.2854196784,
          437233.78631759767,
          437465.148952839,
          437490.0228860199,
          437637.7936001964,
          437805.1127190981,
          437820.1978221849,
          438945.4387781946,
          439022.6056208756,
          439832.84136902477,
          439988.27292210294,
          441091.11574072146,
          441274.08649983024,
          441353.737310031,
          441543.5834751805,
          441578.7324754904,
          442523.37079565006,
          442738.4654904903,
          442813.8343166663,
          442921.5616551125,
          443144.6787951654,
          443213.24164103734,
          444493.82317995833,
          444564.1121468063,
          444872.82865737943,
          445030.57759494847,
          445380.86288209143,
          445738.4306802711,
          445742.8268510987,
          445773.37181913195,
          445860.1204057033,
          445925.6172845904,
          445935.78358338407,
          445980.9248294947,
          445999.84408155765,
          446072.22637650697,
          446086.3977996764,
          446100.7471659403,
          446123.78492599906,
          446144.57084557763,
          446145.66867770784,
          446154.46216471907,
          446176.89561813703,
          446188.4363894494,
          446196.2671235281,
          446235.9293518272,
          446239.1683950631,
          446262.4043603423,
          446280.51758817624,
          446287.72790554934,
          446288.17503341957,
          446288.5734074739,
          446292.1759642929,
          446292.8549916777,
          446292.97445743805,
          446292.9899969546,
          446295.7297681216,
          446297.1436035684,
          446297.6402269443,
          446310.0190804579,
          446318.0778263495,
          446475.7822519645,
          446525.8113450214,
          446540.38569642534,
          446543.2458177946,
          446747.6274023081,
          446774.46416511014,
          447055.9894932698,
          447067.45355500747,
          447197.50893952494,
          447231.226705636,
          447437.9784591779,
          447475.57231347216,
          447659.2040950535,
          448010.7452915838,
          448267.24649254297,
          449797.612437453,
          449886.9385323502,
          450158.7441410377,
          450379.1877936382,
          452211.3780496828,
          452728.60797617474,
          453839.6960513623,
          455378.98665643303,
          456667.1461890107,
          457475.02970507287,
          459445.16295672336,
          462491.89764955355,
          463057.01493236417,
          463719.85814320977,
          463943.14263751655,
          465574.8316930521,
          465632.2323109415,
          469421.7755040185,
          470148.5858181873,
          472629.42827141186,
          473582.67046931933,
          476255.96548363543,
          482339.5991340238,
          484519.715623307,
          496610.62880680553,
          533425.3420265932
         ],
         "yaxis": "y5"
        },
        {
         "boxpoints": "outliers",
         "marker": {
          "color": "green"
         },
         "name": "with",
         "type": "box",
         "xaxis": "x6",
         "y": [
          380046.4860495535,
          381884.7485880463,
          382600.552463905,
          383454.1870425049,
          383751.7030650158,
          385804.1681560179,
          385864.8000929036,
          385892.066118161,
          388186.5040581331,
          388951.2057087476,
          392321.56006826245,
          398522.6736767287,
          399966.68904725526,
          403740.79589157715,
          403962.3237772828,
          405700.3737456335,
          407034.00716103765,
          408500.1358994044,
          408788.5016155155,
          409771.2385530062,
          410030.44495969027,
          411376.0889250001,
          416785.2690391206,
          417959.39135198435,
          424760.2314382882,
          430584.1246152464,
          430750.74836519576,
          431604.8934208936,
          431787.28163059393,
          432168.507629802,
          432194.8670403833,
          432954.3941746166,
          434130.80088150245,
          434188.4013646821,
          434433.0800925978,
          435191.337848269,
          437233.78631759767,
          437465.148952839,
          437490.0228860199,
          437637.7936001964,
          438945.4387781946,
          441578.7324754904,
          442738.4654904903,
          442813.8343166663,
          444493.82317995833,
          444872.82865737943,
          446072.22637650697,
          446100.7471659403,
          446262.4043603423,
          446287.72790554934,
          446292.8549916777,
          446292.97445743805,
          446297.6402269443,
          446475.7822519645,
          446774.46416511014,
          447055.9894932698,
          447231.226705636,
          447659.2040950535,
          448267.24649254297,
          452211.3780496828,
          452728.60797617474,
          455378.98665643303,
          456667.1461890107,
          463057.01493236417,
          465574.8316930521,
          470148.5858181873,
          472629.42827141186,
          473582.67046931933
         ],
         "yaxis": "y6"
        },
        {
         "boxpoints": "outliers",
         "marker": {
          "color": "red"
         },
         "name": "without",
         "type": "box",
         "xaxis": "x6",
         "y": [
          361421.34193893836,
          366211.90365923493,
          366433.5945247364,
          369982.5508239216,
          370369.5941213323,
          370754.7897793784,
          371335.8866625337,
          372168.10433634423,
          372924.9139539685,
          373069.9661529323,
          373225.84782664146,
          373415.95706602617,
          374638.94714777824,
          374971.0933159639,
          374974.0654724613,
          375919.61035550566,
          376562.9283245224,
          376578.98475005815,
          377825.7445526781,
          378563.370350385,
          379047.67152541014,
          381009.5184730367,
          381119.52544397546,
          381163.7805688142,
          382122.578352095,
          382404.38099533704,
          382483.3308421783,
          383542.55913557834,
          383989.4170158413,
          384060.9527948743,
          384856.6330372209,
          384865.0926920196,
          384952.0313391807,
          385052.0007888019,
          385364.10020168923,
          385534.40194630355,
          385958.6099684862,
          386303.4040660779,
          386362.9443898347,
          387532.0061128245,
          388139.46757176856,
          388423.51760545635,
          388552.369635193,
          389077.5056203898,
          389564.50900393305,
          389903.48792744015,
          390115.69162731373,
          390253.07459525,
          390510.91887931695,
          390568.6074798642,
          390738.03960997576,
          390770.935426669,
          391288.6089766442,
          391336.27438457496,
          391460.02856155485,
          391819.63020199665,
          392205.2867777827,
          392832.4825834609,
          392967.8484060197,
          393258.0022602269,
          393318.4028356041,
          393862.9758415156,
          394155.9437202242,
          394374.2562066468,
          394581.5398549848,
          395802.4002370241,
          396455.0248021877,
          397212.03068910365,
          397707.4856629337,
          398177.4137605178,
          398255.71560344874,
          398895.4518719093,
          399002.7296144719,
          399268.5621343114,
          399380.7390631338,
          399398.36891634815,
          399507.86420543806,
          399837.52707912296,
          400199.13821662805,
          401458.5495194001,
          401862.41947844863,
          402511.18607077206,
          402839.88780160615,
          402848.2931470385,
          402851.02226329787,
          403252.0786391802,
          403265.8480864476,
          403609.08361798583,
          404754.61771762196,
          405331.571884742,
          405510.5212385421,
          406035.34883184434,
          406248.47215354606,
          407209.98265337094,
          407476.5074693586,
          408071.0171027928,
          408625.82606099785,
          408887.0514038459,
          408890.2287262573,
          410262.5737415571,
          410704.19116913655,
          410913.5747589744,
          411301.15855074045,
          411498.2043585986,
          411569.818425107,
          411789.13195025775,
          412661.8583433913,
          413003.0339636057,
          413989.03383132967,
          414005.0036699453,
          415409.0541774667,
          416766.3016005497,
          417360.37380789994,
          417518.08016194316,
          417763.09437432315,
          417988.7383970388,
          419534.25675357686,
          419711.90714772284,
          420231.7998232905,
          420968.8545751348,
          421118.8192940838,
          421295.1352598101,
          421795.73470450565,
          422109.9064750162,
          422357.9391641093,
          422610.25125535944,
          423308.1442363169,
          423428.6295867926,
          423557.8892943666,
          424053.3086708219,
          424187.43347938574,
          424580.08429508895,
          424701.08569916646,
          425849.332360484,
          425913.6046903787,
          426343.29991353484,
          427682.49306642875,
          428484.84677851794,
          429318.27968143177,
          429318.2824137462,
          429829.16621941276,
          430487.5768732312,
          430998.51569593325,
          431017.3327693827,
          431835.1764710003,
          432650.77868055087,
          433341.7114398699,
          433815.8344270853,
          433931.19107897155,
          435724.93780412525,
          436998.2854196784,
          437805.1127190981,
          437820.1978221849,
          439022.6056208756,
          439832.84136902477,
          439988.27292210294,
          441091.11574072146,
          441274.08649983024,
          441353.737310031,
          441543.5834751805,
          442523.37079565006,
          442921.5616551125,
          443144.6787951654,
          443213.24164103734,
          444363.79538146267,
          444564.1121468063,
          445030.57759494847,
          445380.86288209143,
          445727.3389991406,
          445738.4306802711,
          445742.8268510987,
          445773.37181913195,
          445860.1204057033,
          445925.6172845904,
          445935.78358338407,
          445980.9248294947,
          445999.84408155765,
          446086.3977996764,
          446100.1916507924,
          446123.78492599906,
          446144.57084557763,
          446145.66867770784,
          446154.46216471907,
          446176.89561813703,
          446188.4363894494,
          446196.2671235281,
          446211.8907778913,
          446235.9293518272,
          446239.1683950631,
          446257.5006130471,
          446260.2757018087,
          446260.4269019844,
          446280.51758817624,
          446288.17503341957,
          446288.5734074739,
          446291.3225789003,
          446292.1759642929,
          446292.9899969546,
          446295.7297681216,
          446295.8470157294,
          446297.1436035684,
          446299.8855467024,
          446310.0190804579,
          446318.0778263495,
          446322.91062658624,
          446525.8113450214,
          446540.38569642534,
          446543.2458177946,
          446747.6274023081,
          447067.45355500747,
          447197.50893952494,
          447431.0390047435,
          447437.9784591779,
          447475.57231347216,
          448010.7452915838,
          449476.7857069193,
          449797.612437453,
          449886.9385323502,
          450158.7441410377,
          450328.3935917681,
          450379.1877936382,
          450973.3335263127,
          453839.6960513623,
          457475.02970507287,
          459445.16295672336,
          460947.49527866667,
          462491.89764955355,
          463719.85814320977,
          463943.14263751655,
          465632.2323109415,
          469421.7755040185,
          476255.96548363543,
          482339.5991340238,
          484519.715623307,
          496610.62880680553,
          533425.3420265932
         ],
         "yaxis": "y6"
        },
        {
         "boxpoints": "outliers",
         "marker": {
          "color": "green"
         },
         "name": "with",
         "type": "box",
         "xaxis": "x7",
         "y": [
          370369.5941213323,
          373069.9661529323,
          373225.84782664146,
          374971.0933159639,
          374974.0654724613,
          375919.61035550566,
          377825.7445526781,
          378563.370350385,
          380046.4860495535,
          383751.7030650158,
          385804.1681560179,
          388186.5040581331,
          388951.2057087476,
          390115.69162731373,
          390510.91887931695,
          391819.63020199665,
          392832.4825834609,
          393862.9758415156,
          394374.2562066468,
          396455.0248021877,
          398177.4137605178,
          399507.86420543806,
          402839.88780160615,
          403252.0786391802,
          404754.61771762196,
          410913.5747589744,
          413989.03383132967,
          415409.0541774667,
          416766.3016005497,
          416785.2690391206,
          424760.2314382882,
          430750.74836519576,
          433341.7114398699,
          433815.8344270853,
          433931.19107897155,
          434433.0800925978,
          435191.337848269,
          436998.2854196784,
          437233.78631759767,
          437465.148952839,
          439988.27292210294,
          441543.5834751805,
          442523.37079565006,
          443144.6787951654,
          443213.24164103734,
          445030.57759494847,
          445380.86288209143,
          445742.8268510987,
          445773.37181913195,
          446145.66867770784,
          446176.89561813703,
          446262.4043603423,
          446292.8549916777,
          446297.1436035684,
          446318.0778263495,
          446475.7822519645,
          446525.8113450214,
          446774.46416511014,
          447055.9894932698,
          447231.226705636,
          448267.24649254297,
          449886.9385323502,
          450158.7441410377,
          450379.1877936382,
          452211.3780496828,
          476255.96548363543,
          484519.715623307,
          496610.62880680553
         ],
         "yaxis": "y7"
        },
        {
         "boxpoints": "outliers",
         "marker": {
          "color": "red"
         },
         "name": "without",
         "type": "box",
         "xaxis": "x7",
         "y": [
          361421.34193893836,
          366211.90365923493,
          366433.5945247364,
          369982.5508239216,
          370754.7897793784,
          371335.8866625337,
          372168.10433634423,
          372924.9139539685,
          373415.95706602617,
          374638.94714777824,
          376562.9283245224,
          376578.98475005815,
          379047.67152541014,
          381009.5184730367,
          381119.52544397546,
          381163.7805688142,
          381884.7485880463,
          382122.578352095,
          382404.38099533704,
          382483.3308421783,
          382600.552463905,
          383454.1870425049,
          383542.55913557834,
          383989.4170158413,
          384060.9527948743,
          384856.6330372209,
          384865.0926920196,
          384952.0313391807,
          385052.0007888019,
          385364.10020168923,
          385534.40194630355,
          385864.8000929036,
          385892.066118161,
          385958.6099684862,
          386303.4040660779,
          386362.9443898347,
          387532.0061128245,
          388139.46757176856,
          388423.51760545635,
          388552.369635193,
          389077.5056203898,
          389564.50900393305,
          389903.48792744015,
          390253.07459525,
          390568.6074798642,
          390738.03960997576,
          390770.935426669,
          391288.6089766442,
          391336.27438457496,
          391460.02856155485,
          392205.2867777827,
          392321.56006826245,
          392967.8484060197,
          393258.0022602269,
          393318.4028356041,
          394155.9437202242,
          394581.5398549848,
          395802.4002370241,
          397212.03068910365,
          397707.4856629337,
          398255.71560344874,
          398522.6736767287,
          398895.4518719093,
          399002.7296144719,
          399268.5621343114,
          399380.7390631338,
          399398.36891634815,
          399837.52707912296,
          399966.68904725526,
          400199.13821662805,
          401458.5495194001,
          401862.41947844863,
          402511.18607077206,
          402848.2931470385,
          402851.02226329787,
          403265.8480864476,
          403609.08361798583,
          403740.79589157715,
          403962.3237772828,
          405331.571884742,
          405510.5212385421,
          405700.3737456335,
          406035.34883184434,
          406248.47215354606,
          407034.00716103765,
          407209.98265337094,
          407476.5074693586,
          408071.0171027928,
          408500.1358994044,
          408625.82606099785,
          408788.5016155155,
          408887.0514038459,
          408890.2287262573,
          409771.2385530062,
          410030.44495969027,
          410262.5737415571,
          410704.19116913655,
          411301.15855074045,
          411376.0889250001,
          411498.2043585986,
          411569.818425107,
          411789.13195025775,
          412661.8583433913,
          413003.0339636057,
          414005.0036699453,
          417360.37380789994,
          417518.08016194316,
          417763.09437432315,
          417959.39135198435,
          417988.7383970388,
          419534.25675357686,
          419711.90714772284,
          420231.7998232905,
          420968.8545751348,
          421118.8192940838,
          421295.1352598101,
          421795.73470450565,
          422109.9064750162,
          422357.9391641093,
          422610.25125535944,
          423308.1442363169,
          423428.6295867926,
          423557.8892943666,
          424053.3086708219,
          424187.43347938574,
          424580.08429508895,
          424701.08569916646,
          425849.332360484,
          425913.6046903787,
          426343.29991353484,
          427682.49306642875,
          428484.84677851794,
          429318.27968143177,
          429318.2824137462,
          429829.16621941276,
          430487.5768732312,
          430584.1246152464,
          430998.51569593325,
          431017.3327693827,
          431604.8934208936,
          431787.28163059393,
          431835.1764710003,
          432168.507629802,
          432194.8670403833,
          432650.77868055087,
          432954.3941746166,
          434130.80088150245,
          434188.4013646821,
          435724.93780412525,
          437490.0228860199,
          437637.7936001964,
          437805.1127190981,
          437820.1978221849,
          438945.4387781946,
          439022.6056208756,
          439832.84136902477,
          441091.11574072146,
          441274.08649983024,
          441353.737310031,
          441578.7324754904,
          442738.4654904903,
          442813.8343166663,
          442921.5616551125,
          444363.79538146267,
          444493.82317995833,
          444564.1121468063,
          444872.82865737943,
          445727.3389991406,
          445738.4306802711,
          445860.1204057033,
          445925.6172845904,
          445935.78358338407,
          445980.9248294947,
          445999.84408155765,
          446072.22637650697,
          446086.3977996764,
          446100.1916507924,
          446100.7471659403,
          446123.78492599906,
          446144.57084557763,
          446154.46216471907,
          446188.4363894494,
          446196.2671235281,
          446211.8907778913,
          446235.9293518272,
          446239.1683950631,
          446257.5006130471,
          446260.2757018087,
          446260.4269019844,
          446280.51758817624,
          446287.72790554934,
          446288.17503341957,
          446288.5734074739,
          446291.3225789003,
          446292.1759642929,
          446292.97445743805,
          446292.9899969546,
          446295.7297681216,
          446295.8470157294,
          446297.6402269443,
          446299.8855467024,
          446310.0190804579,
          446322.91062658624,
          446540.38569642534,
          446543.2458177946,
          446747.6274023081,
          447067.45355500747,
          447197.50893952494,
          447431.0390047435,
          447437.9784591779,
          447475.57231347216,
          447659.2040950535,
          448010.7452915838,
          449476.7857069193,
          449797.612437453,
          450328.3935917681,
          450973.3335263127,
          452728.60797617474,
          453839.6960513623,
          455378.98665643303,
          456667.1461890107,
          457475.02970507287,
          459445.16295672336,
          460947.49527866667,
          462491.89764955355,
          463057.01493236417,
          463719.85814320977,
          463943.14263751655,
          465574.8316930521,
          465632.2323109415,
          469421.7755040185,
          470148.5858181873,
          472629.42827141186,
          473582.67046931933,
          482339.5991340238,
          533425.3420265932
         ],
         "yaxis": "y7"
        }
       ],
       "layout": {
        "annotations": [
         {
          "font": {
           "size": 16
          },
          "showarrow": false,
          "text": "empty",
          "x": 0.05918367346938775,
          "xanchor": "center",
          "xref": "paper",
          "y": 1,
          "yanchor": "bottom",
          "yref": "paper"
         },
         {
          "font": {
           "size": 16
          },
          "showarrow": false,
          "text": "lemmatize",
          "x": 0.2061224489795918,
          "xanchor": "center",
          "xref": "paper",
          "y": 1,
          "yanchor": "bottom",
          "yref": "paper"
         },
         {
          "font": {
           "size": 16
          },
          "showarrow": false,
          "text": "lowercase",
          "x": 0.3530612244897959,
          "xanchor": "center",
          "xref": "paper",
          "y": 1,
          "yanchor": "bottom",
          "yref": "paper"
         },
         {
          "font": {
           "size": 16
          },
          "showarrow": false,
          "text": "no_punctuation",
          "x": 0.49999999999999994,
          "xanchor": "center",
          "xref": "paper",
          "y": 1,
          "yanchor": "bottom",
          "yref": "paper"
         },
         {
          "font": {
           "size": 16
          },
          "showarrow": false,
          "text": "no_stopwords_nltk",
          "x": 0.6469387755102041,
          "xanchor": "center",
          "xref": "paper",
          "y": 1,
          "yanchor": "bottom",
          "yref": "paper"
         },
         {
          "font": {
           "size": 16
          },
          "showarrow": false,
          "text": "no_stopwords_spacy",
          "x": 0.7938775510204081,
          "xanchor": "center",
          "xref": "paper",
          "y": 1,
          "yanchor": "bottom",
          "yref": "paper"
         },
         {
          "font": {
           "size": 16
          },
          "showarrow": false,
          "text": "stem",
          "x": 0.9408163265306122,
          "xanchor": "center",
          "xref": "paper",
          "y": 1,
          "yanchor": "bottom",
          "yref": "paper"
         }
        ],
        "shapes": [
         {
          "line": {
           "color": "gray",
           "dash": "dash"
          },
          "type": "line",
          "x0": 0,
          "x1": 1,
          "xref": "x domain",
          "y0": 446169.2557239682,
          "y1": 446169.2557239682,
          "yref": "y"
         },
         {
          "line": {
           "color": "gray",
           "dash": "dash"
          },
          "type": "line",
          "x0": 0,
          "x1": 1,
          "xref": "x domain",
          "y0": 446169.2557239682,
          "y1": 446169.2557239682,
          "yref": "y"
         },
         {
          "line": {
           "color": "gray",
           "dash": "dash"
          },
          "type": "line",
          "x0": 0,
          "x1": 1,
          "xref": "x2 domain",
          "y0": 446169.2557239682,
          "y1": 446169.2557239682,
          "yref": "y2"
         },
         {
          "line": {
           "color": "gray",
           "dash": "dash"
          },
          "type": "line",
          "x0": 0,
          "x1": 1,
          "xref": "x domain",
          "y0": 446169.2557239682,
          "y1": 446169.2557239682,
          "yref": "y"
         },
         {
          "line": {
           "color": "gray",
           "dash": "dash"
          },
          "type": "line",
          "x0": 0,
          "x1": 1,
          "xref": "x2 domain",
          "y0": 446169.2557239682,
          "y1": 446169.2557239682,
          "yref": "y2"
         },
         {
          "line": {
           "color": "gray",
           "dash": "dash"
          },
          "type": "line",
          "x0": 0,
          "x1": 1,
          "xref": "x3 domain",
          "y0": 446169.2557239682,
          "y1": 446169.2557239682,
          "yref": "y3"
         },
         {
          "line": {
           "color": "gray",
           "dash": "dash"
          },
          "type": "line",
          "x0": 0,
          "x1": 1,
          "xref": "x domain",
          "y0": 446169.2557239682,
          "y1": 446169.2557239682,
          "yref": "y"
         },
         {
          "line": {
           "color": "gray",
           "dash": "dash"
          },
          "type": "line",
          "x0": 0,
          "x1": 1,
          "xref": "x2 domain",
          "y0": 446169.2557239682,
          "y1": 446169.2557239682,
          "yref": "y2"
         },
         {
          "line": {
           "color": "gray",
           "dash": "dash"
          },
          "type": "line",
          "x0": 0,
          "x1": 1,
          "xref": "x3 domain",
          "y0": 446169.2557239682,
          "y1": 446169.2557239682,
          "yref": "y3"
         },
         {
          "line": {
           "color": "gray",
           "dash": "dash"
          },
          "type": "line",
          "x0": 0,
          "x1": 1,
          "xref": "x4 domain",
          "y0": 446169.2557239682,
          "y1": 446169.2557239682,
          "yref": "y4"
         },
         {
          "line": {
           "color": "gray",
           "dash": "dash"
          },
          "type": "line",
          "x0": 0,
          "x1": 1,
          "xref": "x domain",
          "y0": 446169.2557239682,
          "y1": 446169.2557239682,
          "yref": "y"
         },
         {
          "line": {
           "color": "gray",
           "dash": "dash"
          },
          "type": "line",
          "x0": 0,
          "x1": 1,
          "xref": "x2 domain",
          "y0": 446169.2557239682,
          "y1": 446169.2557239682,
          "yref": "y2"
         },
         {
          "line": {
           "color": "gray",
           "dash": "dash"
          },
          "type": "line",
          "x0": 0,
          "x1": 1,
          "xref": "x3 domain",
          "y0": 446169.2557239682,
          "y1": 446169.2557239682,
          "yref": "y3"
         },
         {
          "line": {
           "color": "gray",
           "dash": "dash"
          },
          "type": "line",
          "x0": 0,
          "x1": 1,
          "xref": "x4 domain",
          "y0": 446169.2557239682,
          "y1": 446169.2557239682,
          "yref": "y4"
         },
         {
          "line": {
           "color": "gray",
           "dash": "dash"
          },
          "type": "line",
          "x0": 0,
          "x1": 1,
          "xref": "x5 domain",
          "y0": 446169.2557239682,
          "y1": 446169.2557239682,
          "yref": "y5"
         },
         {
          "line": {
           "color": "gray",
           "dash": "dash"
          },
          "type": "line",
          "x0": 0,
          "x1": 1,
          "xref": "x domain",
          "y0": 446169.2557239682,
          "y1": 446169.2557239682,
          "yref": "y"
         },
         {
          "line": {
           "color": "gray",
           "dash": "dash"
          },
          "type": "line",
          "x0": 0,
          "x1": 1,
          "xref": "x2 domain",
          "y0": 446169.2557239682,
          "y1": 446169.2557239682,
          "yref": "y2"
         },
         {
          "line": {
           "color": "gray",
           "dash": "dash"
          },
          "type": "line",
          "x0": 0,
          "x1": 1,
          "xref": "x3 domain",
          "y0": 446169.2557239682,
          "y1": 446169.2557239682,
          "yref": "y3"
         },
         {
          "line": {
           "color": "gray",
           "dash": "dash"
          },
          "type": "line",
          "x0": 0,
          "x1": 1,
          "xref": "x4 domain",
          "y0": 446169.2557239682,
          "y1": 446169.2557239682,
          "yref": "y4"
         },
         {
          "line": {
           "color": "gray",
           "dash": "dash"
          },
          "type": "line",
          "x0": 0,
          "x1": 1,
          "xref": "x5 domain",
          "y0": 446169.2557239682,
          "y1": 446169.2557239682,
          "yref": "y5"
         },
         {
          "line": {
           "color": "gray",
           "dash": "dash"
          },
          "type": "line",
          "x0": 0,
          "x1": 1,
          "xref": "x6 domain",
          "y0": 446169.2557239682,
          "y1": 446169.2557239682,
          "yref": "y6"
         },
         {
          "line": {
           "color": "gray",
           "dash": "dash"
          },
          "type": "line",
          "x0": 0,
          "x1": 1,
          "xref": "x domain",
          "y0": 446169.2557239682,
          "y1": 446169.2557239682,
          "yref": "y"
         },
         {
          "line": {
           "color": "gray",
           "dash": "dash"
          },
          "type": "line",
          "x0": 0,
          "x1": 1,
          "xref": "x2 domain",
          "y0": 446169.2557239682,
          "y1": 446169.2557239682,
          "yref": "y2"
         },
         {
          "line": {
           "color": "gray",
           "dash": "dash"
          },
          "type": "line",
          "x0": 0,
          "x1": 1,
          "xref": "x3 domain",
          "y0": 446169.2557239682,
          "y1": 446169.2557239682,
          "yref": "y3"
         },
         {
          "line": {
           "color": "gray",
           "dash": "dash"
          },
          "type": "line",
          "x0": 0,
          "x1": 1,
          "xref": "x4 domain",
          "y0": 446169.2557239682,
          "y1": 446169.2557239682,
          "yref": "y4"
         },
         {
          "line": {
           "color": "gray",
           "dash": "dash"
          },
          "type": "line",
          "x0": 0,
          "x1": 1,
          "xref": "x5 domain",
          "y0": 446169.2557239682,
          "y1": 446169.2557239682,
          "yref": "y5"
         },
         {
          "line": {
           "color": "gray",
           "dash": "dash"
          },
          "type": "line",
          "x0": 0,
          "x1": 1,
          "xref": "x6 domain",
          "y0": 446169.2557239682,
          "y1": 446169.2557239682,
          "yref": "y6"
         },
         {
          "line": {
           "color": "gray",
           "dash": "dash"
          },
          "type": "line",
          "x0": 0,
          "x1": 1,
          "xref": "x7 domain",
          "y0": 446169.2557239682,
          "y1": 446169.2557239682,
          "yref": "y7"
         }
        ],
        "template": {
         "data": {
          "bar": [
           {
            "error_x": {
             "color": "#2a3f5f"
            },
            "error_y": {
             "color": "#2a3f5f"
            },
            "marker": {
             "line": {
              "color": "#E5ECF6",
              "width": 0.5
             },
             "pattern": {
              "fillmode": "overlay",
              "size": 10,
              "solidity": 0.2
             }
            },
            "type": "bar"
           }
          ],
          "barpolar": [
           {
            "marker": {
             "line": {
              "color": "#E5ECF6",
              "width": 0.5
             },
             "pattern": {
              "fillmode": "overlay",
              "size": 10,
              "solidity": 0.2
             }
            },
            "type": "barpolar"
           }
          ],
          "carpet": [
           {
            "aaxis": {
             "endlinecolor": "#2a3f5f",
             "gridcolor": "white",
             "linecolor": "white",
             "minorgridcolor": "white",
             "startlinecolor": "#2a3f5f"
            },
            "baxis": {
             "endlinecolor": "#2a3f5f",
             "gridcolor": "white",
             "linecolor": "white",
             "minorgridcolor": "white",
             "startlinecolor": "#2a3f5f"
            },
            "type": "carpet"
           }
          ],
          "choropleth": [
           {
            "colorbar": {
             "outlinewidth": 0,
             "ticks": ""
            },
            "type": "choropleth"
           }
          ],
          "contour": [
           {
            "colorbar": {
             "outlinewidth": 0,
             "ticks": ""
            },
            "colorscale": [
             [
              0,
              "#0d0887"
             ],
             [
              0.1111111111111111,
              "#46039f"
             ],
             [
              0.2222222222222222,
              "#7201a8"
             ],
             [
              0.3333333333333333,
              "#9c179e"
             ],
             [
              0.4444444444444444,
              "#bd3786"
             ],
             [
              0.5555555555555556,
              "#d8576b"
             ],
             [
              0.6666666666666666,
              "#ed7953"
             ],
             [
              0.7777777777777778,
              "#fb9f3a"
             ],
             [
              0.8888888888888888,
              "#fdca26"
             ],
             [
              1,
              "#f0f921"
             ]
            ],
            "type": "contour"
           }
          ],
          "contourcarpet": [
           {
            "colorbar": {
             "outlinewidth": 0,
             "ticks": ""
            },
            "type": "contourcarpet"
           }
          ],
          "heatmap": [
           {
            "colorbar": {
             "outlinewidth": 0,
             "ticks": ""
            },
            "colorscale": [
             [
              0,
              "#0d0887"
             ],
             [
              0.1111111111111111,
              "#46039f"
             ],
             [
              0.2222222222222222,
              "#7201a8"
             ],
             [
              0.3333333333333333,
              "#9c179e"
             ],
             [
              0.4444444444444444,
              "#bd3786"
             ],
             [
              0.5555555555555556,
              "#d8576b"
             ],
             [
              0.6666666666666666,
              "#ed7953"
             ],
             [
              0.7777777777777778,
              "#fb9f3a"
             ],
             [
              0.8888888888888888,
              "#fdca26"
             ],
             [
              1,
              "#f0f921"
             ]
            ],
            "type": "heatmap"
           }
          ],
          "heatmapgl": [
           {
            "colorbar": {
             "outlinewidth": 0,
             "ticks": ""
            },
            "colorscale": [
             [
              0,
              "#0d0887"
             ],
             [
              0.1111111111111111,
              "#46039f"
             ],
             [
              0.2222222222222222,
              "#7201a8"
             ],
             [
              0.3333333333333333,
              "#9c179e"
             ],
             [
              0.4444444444444444,
              "#bd3786"
             ],
             [
              0.5555555555555556,
              "#d8576b"
             ],
             [
              0.6666666666666666,
              "#ed7953"
             ],
             [
              0.7777777777777778,
              "#fb9f3a"
             ],
             [
              0.8888888888888888,
              "#fdca26"
             ],
             [
              1,
              "#f0f921"
             ]
            ],
            "type": "heatmapgl"
           }
          ],
          "histogram": [
           {
            "marker": {
             "pattern": {
              "fillmode": "overlay",
              "size": 10,
              "solidity": 0.2
             }
            },
            "type": "histogram"
           }
          ],
          "histogram2d": [
           {
            "colorbar": {
             "outlinewidth": 0,
             "ticks": ""
            },
            "colorscale": [
             [
              0,
              "#0d0887"
             ],
             [
              0.1111111111111111,
              "#46039f"
             ],
             [
              0.2222222222222222,
              "#7201a8"
             ],
             [
              0.3333333333333333,
              "#9c179e"
             ],
             [
              0.4444444444444444,
              "#bd3786"
             ],
             [
              0.5555555555555556,
              "#d8576b"
             ],
             [
              0.6666666666666666,
              "#ed7953"
             ],
             [
              0.7777777777777778,
              "#fb9f3a"
             ],
             [
              0.8888888888888888,
              "#fdca26"
             ],
             [
              1,
              "#f0f921"
             ]
            ],
            "type": "histogram2d"
           }
          ],
          "histogram2dcontour": [
           {
            "colorbar": {
             "outlinewidth": 0,
             "ticks": ""
            },
            "colorscale": [
             [
              0,
              "#0d0887"
             ],
             [
              0.1111111111111111,
              "#46039f"
             ],
             [
              0.2222222222222222,
              "#7201a8"
             ],
             [
              0.3333333333333333,
              "#9c179e"
             ],
             [
              0.4444444444444444,
              "#bd3786"
             ],
             [
              0.5555555555555556,
              "#d8576b"
             ],
             [
              0.6666666666666666,
              "#ed7953"
             ],
             [
              0.7777777777777778,
              "#fb9f3a"
             ],
             [
              0.8888888888888888,
              "#fdca26"
             ],
             [
              1,
              "#f0f921"
             ]
            ],
            "type": "histogram2dcontour"
           }
          ],
          "mesh3d": [
           {
            "colorbar": {
             "outlinewidth": 0,
             "ticks": ""
            },
            "type": "mesh3d"
           }
          ],
          "parcoords": [
           {
            "line": {
             "colorbar": {
              "outlinewidth": 0,
              "ticks": ""
             }
            },
            "type": "parcoords"
           }
          ],
          "pie": [
           {
            "automargin": true,
            "type": "pie"
           }
          ],
          "scatter": [
           {
            "fillpattern": {
             "fillmode": "overlay",
             "size": 10,
             "solidity": 0.2
            },
            "type": "scatter"
           }
          ],
          "scatter3d": [
           {
            "line": {
             "colorbar": {
              "outlinewidth": 0,
              "ticks": ""
             }
            },
            "marker": {
             "colorbar": {
              "outlinewidth": 0,
              "ticks": ""
             }
            },
            "type": "scatter3d"
           }
          ],
          "scattercarpet": [
           {
            "marker": {
             "colorbar": {
              "outlinewidth": 0,
              "ticks": ""
             }
            },
            "type": "scattercarpet"
           }
          ],
          "scattergeo": [
           {
            "marker": {
             "colorbar": {
              "outlinewidth": 0,
              "ticks": ""
             }
            },
            "type": "scattergeo"
           }
          ],
          "scattergl": [
           {
            "marker": {
             "colorbar": {
              "outlinewidth": 0,
              "ticks": ""
             }
            },
            "type": "scattergl"
           }
          ],
          "scattermapbox": [
           {
            "marker": {
             "colorbar": {
              "outlinewidth": 0,
              "ticks": ""
             }
            },
            "type": "scattermapbox"
           }
          ],
          "scatterpolar": [
           {
            "marker": {
             "colorbar": {
              "outlinewidth": 0,
              "ticks": ""
             }
            },
            "type": "scatterpolar"
           }
          ],
          "scatterpolargl": [
           {
            "marker": {
             "colorbar": {
              "outlinewidth": 0,
              "ticks": ""
             }
            },
            "type": "scatterpolargl"
           }
          ],
          "scatterternary": [
           {
            "marker": {
             "colorbar": {
              "outlinewidth": 0,
              "ticks": ""
             }
            },
            "type": "scatterternary"
           }
          ],
          "surface": [
           {
            "colorbar": {
             "outlinewidth": 0,
             "ticks": ""
            },
            "colorscale": [
             [
              0,
              "#0d0887"
             ],
             [
              0.1111111111111111,
              "#46039f"
             ],
             [
              0.2222222222222222,
              "#7201a8"
             ],
             [
              0.3333333333333333,
              "#9c179e"
             ],
             [
              0.4444444444444444,
              "#bd3786"
             ],
             [
              0.5555555555555556,
              "#d8576b"
             ],
             [
              0.6666666666666666,
              "#ed7953"
             ],
             [
              0.7777777777777778,
              "#fb9f3a"
             ],
             [
              0.8888888888888888,
              "#fdca26"
             ],
             [
              1,
              "#f0f921"
             ]
            ],
            "type": "surface"
           }
          ],
          "table": [
           {
            "cells": {
             "fill": {
              "color": "#EBF0F8"
             },
             "line": {
              "color": "white"
             }
            },
            "header": {
             "fill": {
              "color": "#C8D4E3"
             },
             "line": {
              "color": "white"
             }
            },
            "type": "table"
           }
          ]
         },
         "layout": {
          "annotationdefaults": {
           "arrowcolor": "#2a3f5f",
           "arrowhead": 0,
           "arrowwidth": 1
          },
          "autotypenumbers": "strict",
          "coloraxis": {
           "colorbar": {
            "outlinewidth": 0,
            "ticks": ""
           }
          },
          "colorscale": {
           "diverging": [
            [
             0,
             "#8e0152"
            ],
            [
             0.1,
             "#c51b7d"
            ],
            [
             0.2,
             "#de77ae"
            ],
            [
             0.3,
             "#f1b6da"
            ],
            [
             0.4,
             "#fde0ef"
            ],
            [
             0.5,
             "#f7f7f7"
            ],
            [
             0.6,
             "#e6f5d0"
            ],
            [
             0.7,
             "#b8e186"
            ],
            [
             0.8,
             "#7fbc41"
            ],
            [
             0.9,
             "#4d9221"
            ],
            [
             1,
             "#276419"
            ]
           ],
           "sequential": [
            [
             0,
             "#0d0887"
            ],
            [
             0.1111111111111111,
             "#46039f"
            ],
            [
             0.2222222222222222,
             "#7201a8"
            ],
            [
             0.3333333333333333,
             "#9c179e"
            ],
            [
             0.4444444444444444,
             "#bd3786"
            ],
            [
             0.5555555555555556,
             "#d8576b"
            ],
            [
             0.6666666666666666,
             "#ed7953"
            ],
            [
             0.7777777777777778,
             "#fb9f3a"
            ],
            [
             0.8888888888888888,
             "#fdca26"
            ],
            [
             1,
             "#f0f921"
            ]
           ],
           "sequentialminus": [
            [
             0,
             "#0d0887"
            ],
            [
             0.1111111111111111,
             "#46039f"
            ],
            [
             0.2222222222222222,
             "#7201a8"
            ],
            [
             0.3333333333333333,
             "#9c179e"
            ],
            [
             0.4444444444444444,
             "#bd3786"
            ],
            [
             0.5555555555555556,
             "#d8576b"
            ],
            [
             0.6666666666666666,
             "#ed7953"
            ],
            [
             0.7777777777777778,
             "#fb9f3a"
            ],
            [
             0.8888888888888888,
             "#fdca26"
            ],
            [
             1,
             "#f0f921"
            ]
           ]
          },
          "colorway": [
           "#636efa",
           "#EF553B",
           "#00cc96",
           "#ab63fa",
           "#FFA15A",
           "#19d3f3",
           "#FF6692",
           "#B6E880",
           "#FF97FF",
           "#FECB52"
          ],
          "font": {
           "color": "#2a3f5f"
          },
          "geo": {
           "bgcolor": "white",
           "lakecolor": "white",
           "landcolor": "#E5ECF6",
           "showlakes": true,
           "showland": true,
           "subunitcolor": "white"
          },
          "hoverlabel": {
           "align": "left"
          },
          "hovermode": "closest",
          "mapbox": {
           "style": "light"
          },
          "paper_bgcolor": "white",
          "plot_bgcolor": "#E5ECF6",
          "polar": {
           "angularaxis": {
            "gridcolor": "white",
            "linecolor": "white",
            "ticks": ""
           },
           "bgcolor": "#E5ECF6",
           "radialaxis": {
            "gridcolor": "white",
            "linecolor": "white",
            "ticks": ""
           }
          },
          "scene": {
           "xaxis": {
            "backgroundcolor": "#E5ECF6",
            "gridcolor": "white",
            "gridwidth": 2,
            "linecolor": "white",
            "showbackground": true,
            "ticks": "",
            "zerolinecolor": "white"
           },
           "yaxis": {
            "backgroundcolor": "#E5ECF6",
            "gridcolor": "white",
            "gridwidth": 2,
            "linecolor": "white",
            "showbackground": true,
            "ticks": "",
            "zerolinecolor": "white"
           },
           "zaxis": {
            "backgroundcolor": "#E5ECF6",
            "gridcolor": "white",
            "gridwidth": 2,
            "linecolor": "white",
            "showbackground": true,
            "ticks": "",
            "zerolinecolor": "white"
           }
          },
          "shapedefaults": {
           "line": {
            "color": "#2a3f5f"
           }
          },
          "ternary": {
           "aaxis": {
            "gridcolor": "white",
            "linecolor": "white",
            "ticks": ""
           },
           "baxis": {
            "gridcolor": "white",
            "linecolor": "white",
            "ticks": ""
           },
           "bgcolor": "#E5ECF6",
           "caxis": {
            "gridcolor": "white",
            "linecolor": "white",
            "ticks": ""
           }
          },
          "title": {
           "x": 0.05
          },
          "xaxis": {
           "automargin": true,
           "gridcolor": "white",
           "linecolor": "white",
           "ticks": "",
           "title": {
            "standoff": 15
           },
           "zerolinecolor": "white",
           "zerolinewidth": 2
          },
          "yaxis": {
           "automargin": true,
           "gridcolor": "white",
           "linecolor": "white",
           "ticks": "",
           "title": {
            "standoff": 15
           },
           "zerolinecolor": "white",
           "zerolinewidth": 2
          }
         }
        },
        "title": {
         "text": "Impact of Different Preprocessors"
        },
        "width": 1400,
        "xaxis": {
         "anchor": "y",
         "domain": [
          0,
          0.1183673469387755
         ]
        },
        "xaxis2": {
         "anchor": "y2",
         "domain": [
          0.14693877551020407,
          0.26530612244897955
         ]
        },
        "xaxis3": {
         "anchor": "y3",
         "domain": [
          0.29387755102040813,
          0.4122448979591836
         ]
        },
        "xaxis4": {
         "anchor": "y4",
         "domain": [
          0.4408163265306122,
          0.5591836734693877
         ]
        },
        "xaxis5": {
         "anchor": "y5",
         "domain": [
          0.5877551020408163,
          0.7061224489795918
         ]
        },
        "xaxis6": {
         "anchor": "y6",
         "domain": [
          0.7346938775510204,
          0.8530612244897959
         ]
        },
        "xaxis7": {
         "anchor": "y7",
         "domain": [
          0.8816326530612244,
          0.9999999999999999
         ]
        },
        "yaxis": {
         "anchor": "x",
         "domain": [
          0,
          1
         ],
         "title": {
          "text": "rmse"
         }
        },
        "yaxis2": {
         "anchor": "x2",
         "domain": [
          0,
          1
         ],
         "matches": "y",
         "showticklabels": false
        },
        "yaxis3": {
         "anchor": "x3",
         "domain": [
          0,
          1
         ],
         "matches": "y",
         "showticklabels": false
        },
        "yaxis4": {
         "anchor": "x4",
         "domain": [
          0,
          1
         ],
         "matches": "y",
         "showticklabels": false
        },
        "yaxis5": {
         "anchor": "x5",
         "domain": [
          0,
          1
         ],
         "matches": "y",
         "showticklabels": false
        },
        "yaxis6": {
         "anchor": "x6",
         "domain": [
          0,
          1
         ],
         "matches": "y",
         "showticklabels": false
        },
        "yaxis7": {
         "anchor": "x7",
         "domain": [
          0,
          1
         ],
         "matches": "y",
         "showticklabels": false
        }
       }
      }
     },
     "metadata": {},
     "output_type": "display_data"
    }
   ],
   "source": [
    "# Create subplots, one for each preprocesser\n",
    "fig = make_subplots(cols=len(unique_preprocessers), rows=1, \n",
    "                    subplot_titles=unique_preprocessers,\n",
    "                    shared_yaxes=True,\n",
    "                    vertical_spacing=0.05)\n",
    "\n",
    "p_values = []\n",
    "\n",
    "for i, preprocesser in enumerate(unique_preprocessers, 1):\n",
    "    _with = trad_nlp_results[uses_specifically[preprocesser]][metric]\n",
    "    _without = trad_nlp_results[~uses_specifically[preprocesser]][metric]\n",
    "    # Test normality of each distribution\n",
    "    _, p_with = stats.normaltest(_with)\n",
    "    _, p_without = stats.normaltest(_without)\n",
    "    \n",
    "    # Perform appropriate statistical test based on normality\n",
    "    if p_with > 0.05 and p_without > 0.05:\n",
    "        # Both normal - use t-test\n",
    "        _, p_val = stats.ttest_ind(_with, _without)\n",
    "        test_type = \"t-test\"\n",
    "    else:\n",
    "        # At least one non-normal - use Mann-Whitney U test\n",
    "        _, p_val = stats.mannwhitneyu(_with, _without)\n",
    "        test_type = \"Mann-Whitney U\"\n",
    "    p_values.append(p_val)\n",
    "    annotation = f\"{test_type} p-value: {p_val:.3f}\"\n",
    "    logger.info(f\"\\n{preprocesser}:\")\n",
    "    logger.info(f\"With normality p-value: {p_with:.3f}\")\n",
    "    logger.info(f\"Without normality p-value: {p_without:.3f}\")\n",
    "    logger.info(annotation)\n",
    "\n",
    "    # Add box plot for when preprocesser is used\n",
    "    fig.add_trace(\n",
    "        go.Box(\n",
    "            y=_with,\n",
    "            name=\"with\",\n",
    "            boxpoints='outliers',\n",
    "            marker_color=\"green\"\n",
    "        ),\n",
    "        row=1, col=i\n",
    "    )\n",
    "    \n",
    "    # Add box plot for when preprocesser is not used\n",
    "    fig.add_trace(\n",
    "        go.Box(\n",
    "            y=_without,\n",
    "            name=\"without\",\n",
    "            boxpoints='outliers',\n",
    "            marker_color=\"red\"\n",
    "        ),\n",
    "        row=1, col=i\n",
    "    )\n",
    "\n",
    "    fig.add_hline(y=perf_of_mean, line_dash=\"dash\", line_color=\"gray\")\n",
    "\n",
    "fig.update_layout(\n",
    "    width=200*len(unique_preprocessers),\n",
    "    # showlegend=True,\n",
    "    title_text=\"Impact of Different Preprocessors\",\n",
    "    yaxis_title=metric\n",
    ")\n",
    "\n",
    "\n",
    "fig.show()"
   ]
  },
  {
   "cell_type": "markdown",
   "metadata": {},
   "source": [
    "Only takeaway: stemming seems to be universally bad, lemmatizing could be good. Generally this is not meaningful as not stratified by other choices"
   ]
  },
  {
   "cell_type": "markdown",
   "metadata": {},
   "source": [
    "If something passes then we know at least something even FWER corrected is meaningful to remove/keep"
   ]
  },
  {
   "cell_type": "markdown",
   "metadata": {},
   "source": [
    "## Specifically for 'modern' dl approaches?"
   ]
  },
  {
   "cell_type": "code",
   "execution_count": 290,
   "metadata": {},
   "outputs": [
    {
     "name": "stderr",
     "output_type": "stream",
     "text": [
      "2025-03-13 16:59:07,336 - analysis - INFO - (112, 24)\n"
     ]
    },
    {
     "data": {
      "application/vnd.plotly.v1+json": {
       "config": {
        "plotlyServerURL": "https://plot.ly"
       },
       "data": [
        {
         "alignmentgroup": "True",
         "hovertemplate": "model=mlp_ft<br>rmse=%{y}<extra></extra>",
         "legendgroup": "mlp_ft",
         "marker": {
          "color": "#636efa"
         },
         "name": "mlp_ft",
         "notched": false,
         "offsetgroup": "mlp_ft",
         "orientation": "v",
         "showlegend": true,
         "type": "box",
         "x0": " ",
         "xaxis": "x",
         "y": [
          334672.92449431383,
          353284.9527075714,
          357720.2200352138,
          358526.79820114473,
          363199.5183173384,
          368390.24026379496,
          371710.9012912332,
          376259.96339778986,
          384469.975052606,
          396054.37676723313,
          403995.3708323375,
          419114.3477417875
         ],
         "y0": " ",
         "yaxis": "y"
        },
        {
         "alignmentgroup": "True",
         "hovertemplate": "model=deep_linear_ft<br>rmse=%{y}<extra></extra>",
         "legendgroup": "deep_linear_ft",
         "marker": {
          "color": "#EF553B"
         },
         "name": "deep_linear_ft",
         "notched": false,
         "offsetgroup": "deep_linear_ft",
         "orientation": "v",
         "showlegend": true,
         "type": "box",
         "x0": " ",
         "xaxis": "x",
         "y": [
          337746.86665508786,
          339429.7416737401,
          343361.3299350616,
          346313.46323340846,
          346809.51221742004,
          348540.27524561045,
          349111.8787168715,
          349702.19851147896,
          350960.2007643338,
          352394.7043239373,
          352763.5305858744,
          354193.5621144301,
          355669.7413590963,
          356326.4180732475,
          358523.73346031795,
          366746.5185878444,
          370967.63447614777,
          378061.822816205,
          385723.64418557216,
          387953.2575538742
         ],
         "y0": " ",
         "yaxis": "y"
        },
        {
         "alignmentgroup": "True",
         "hovertemplate": "model=resnet_ft<br>rmse=%{y}<extra></extra>",
         "legendgroup": "resnet_ft",
         "marker": {
          "color": "#00cc96"
         },
         "name": "resnet_ft",
         "notched": false,
         "offsetgroup": "resnet_ft",
         "orientation": "v",
         "showlegend": true,
         "type": "box",
         "x0": " ",
         "xaxis": "x",
         "y": [
          357138.704818284,
          361746.952636373,
          363053.0053446076,
          367595.66886785923,
          369647.6921583041,
          372846.7401907872,
          374681.4216982677,
          379145.85592737433,
          380451.53508466046,
          381955.0499252306,
          382397.844844982,
          383929.9266422194,
          384076.5600807728,
          385162.1944463041,
          386215.3508926513,
          386492.001884938,
          394577.264598652,
          411894.77775569144,
          415046.2346218933,
          429813.423371997
         ],
         "y0": " ",
         "yaxis": "y"
        },
        {
         "alignmentgroup": "True",
         "hovertemplate": "model=mlp<br>rmse=%{y}<extra></extra>",
         "legendgroup": "mlp",
         "marker": {
          "color": "#ab63fa"
         },
         "name": "mlp",
         "notched": false,
         "offsetgroup": "mlp",
         "orientation": "v",
         "showlegend": true,
         "type": "box",
         "x0": " ",
         "xaxis": "x",
         "y": [
          388051.294897365,
          388051.294897365,
          396123.6977184519,
          400676.5441727689,
          407256.3791271824,
          415094.9502398446,
          415095.3901420976,
          417434.2901258469,
          417434.2901258469,
          425228.3808474518,
          428276.45146332344,
          430443.5232348798,
          438093.86793271324,
          438645.4216585745,
          446217.97790027515,
          446860.2708068473,
          447382.7276325274,
          447491.15594300115,
          447711.8044193485,
          447711.8044193485,
          448440.04934350634,
          448858.4883717732,
          453542.93573099957,
          453551.9327347001
         ],
         "y0": " ",
         "yaxis": "y"
        },
        {
         "alignmentgroup": "True",
         "hovertemplate": "model=resnet<br>rmse=%{y}<extra></extra>",
         "legendgroup": "resnet",
         "marker": {
          "color": "#FFA15A"
         },
         "name": "resnet",
         "notched": false,
         "offsetgroup": "resnet",
         "orientation": "v",
         "showlegend": true,
         "type": "box",
         "x0": " ",
         "xaxis": "x",
         "y": [
          395270.02631568315,
          402840.64352808235,
          406795.2643825645,
          407503.50923593785,
          412564.10193409305,
          415776.085689703,
          416362.671237393,
          429154.9872398402
         ],
         "y0": " ",
         "yaxis": "y"
        },
        {
         "alignmentgroup": "True",
         "hovertemplate": "model=deep_linear<br>rmse=%{y}<extra></extra>",
         "legendgroup": "deep_linear",
         "marker": {
          "color": "#19d3f3"
         },
         "name": "deep_linear",
         "notched": false,
         "offsetgroup": "deep_linear",
         "orientation": "v",
         "showlegend": true,
         "type": "box",
         "x0": " ",
         "xaxis": "x",
         "y": [
          405717.5810615458,
          405717.5810615458,
          408167.7659423436,
          413413.5943788485,
          413649.08886411757,
          413649.08886411757,
          415172.32942359796,
          415172.3306701235,
          416511.92796280613,
          416511.92796280613,
          417163.94496406807,
          420605.1372795737,
          421569.00068676,
          421744.9318997668,
          421744.9318997668,
          422947.87093596853,
          422947.87093596853,
          423167.0715369111,
          423376.9763464382,
          423376.9763464382,
          424033.23032691894,
          425283.61176461505,
          427292.3438428816,
          427292.3438428816,
          427508.88355006464,
          446556.97803347494,
          447076.9172635202,
          447517.1225835086
         ],
         "y0": " ",
         "yaxis": "y"
        }
       ],
       "layout": {
        "boxmode": "group",
        "legend": {
         "title": {
          "text": "model"
         },
         "tracegroupgap": 0
        },
        "margin": {
         "t": 60
        },
        "shapes": [
         {
          "line": {
           "color": "gray",
           "dash": "dash"
          },
          "type": "line",
          "x0": 0,
          "x1": 1,
          "xref": "x domain",
          "y0": 398941.0660987901,
          "y1": 398941.0660987901,
          "yref": "y"
         }
        ],
        "template": {
         "data": {
          "bar": [
           {
            "error_x": {
             "color": "#2a3f5f"
            },
            "error_y": {
             "color": "#2a3f5f"
            },
            "marker": {
             "line": {
              "color": "#E5ECF6",
              "width": 0.5
             },
             "pattern": {
              "fillmode": "overlay",
              "size": 10,
              "solidity": 0.2
             }
            },
            "type": "bar"
           }
          ],
          "barpolar": [
           {
            "marker": {
             "line": {
              "color": "#E5ECF6",
              "width": 0.5
             },
             "pattern": {
              "fillmode": "overlay",
              "size": 10,
              "solidity": 0.2
             }
            },
            "type": "barpolar"
           }
          ],
          "carpet": [
           {
            "aaxis": {
             "endlinecolor": "#2a3f5f",
             "gridcolor": "white",
             "linecolor": "white",
             "minorgridcolor": "white",
             "startlinecolor": "#2a3f5f"
            },
            "baxis": {
             "endlinecolor": "#2a3f5f",
             "gridcolor": "white",
             "linecolor": "white",
             "minorgridcolor": "white",
             "startlinecolor": "#2a3f5f"
            },
            "type": "carpet"
           }
          ],
          "choropleth": [
           {
            "colorbar": {
             "outlinewidth": 0,
             "ticks": ""
            },
            "type": "choropleth"
           }
          ],
          "contour": [
           {
            "colorbar": {
             "outlinewidth": 0,
             "ticks": ""
            },
            "colorscale": [
             [
              0,
              "#0d0887"
             ],
             [
              0.1111111111111111,
              "#46039f"
             ],
             [
              0.2222222222222222,
              "#7201a8"
             ],
             [
              0.3333333333333333,
              "#9c179e"
             ],
             [
              0.4444444444444444,
              "#bd3786"
             ],
             [
              0.5555555555555556,
              "#d8576b"
             ],
             [
              0.6666666666666666,
              "#ed7953"
             ],
             [
              0.7777777777777778,
              "#fb9f3a"
             ],
             [
              0.8888888888888888,
              "#fdca26"
             ],
             [
              1,
              "#f0f921"
             ]
            ],
            "type": "contour"
           }
          ],
          "contourcarpet": [
           {
            "colorbar": {
             "outlinewidth": 0,
             "ticks": ""
            },
            "type": "contourcarpet"
           }
          ],
          "heatmap": [
           {
            "colorbar": {
             "outlinewidth": 0,
             "ticks": ""
            },
            "colorscale": [
             [
              0,
              "#0d0887"
             ],
             [
              0.1111111111111111,
              "#46039f"
             ],
             [
              0.2222222222222222,
              "#7201a8"
             ],
             [
              0.3333333333333333,
              "#9c179e"
             ],
             [
              0.4444444444444444,
              "#bd3786"
             ],
             [
              0.5555555555555556,
              "#d8576b"
             ],
             [
              0.6666666666666666,
              "#ed7953"
             ],
             [
              0.7777777777777778,
              "#fb9f3a"
             ],
             [
              0.8888888888888888,
              "#fdca26"
             ],
             [
              1,
              "#f0f921"
             ]
            ],
            "type": "heatmap"
           }
          ],
          "heatmapgl": [
           {
            "colorbar": {
             "outlinewidth": 0,
             "ticks": ""
            },
            "colorscale": [
             [
              0,
              "#0d0887"
             ],
             [
              0.1111111111111111,
              "#46039f"
             ],
             [
              0.2222222222222222,
              "#7201a8"
             ],
             [
              0.3333333333333333,
              "#9c179e"
             ],
             [
              0.4444444444444444,
              "#bd3786"
             ],
             [
              0.5555555555555556,
              "#d8576b"
             ],
             [
              0.6666666666666666,
              "#ed7953"
             ],
             [
              0.7777777777777778,
              "#fb9f3a"
             ],
             [
              0.8888888888888888,
              "#fdca26"
             ],
             [
              1,
              "#f0f921"
             ]
            ],
            "type": "heatmapgl"
           }
          ],
          "histogram": [
           {
            "marker": {
             "pattern": {
              "fillmode": "overlay",
              "size": 10,
              "solidity": 0.2
             }
            },
            "type": "histogram"
           }
          ],
          "histogram2d": [
           {
            "colorbar": {
             "outlinewidth": 0,
             "ticks": ""
            },
            "colorscale": [
             [
              0,
              "#0d0887"
             ],
             [
              0.1111111111111111,
              "#46039f"
             ],
             [
              0.2222222222222222,
              "#7201a8"
             ],
             [
              0.3333333333333333,
              "#9c179e"
             ],
             [
              0.4444444444444444,
              "#bd3786"
             ],
             [
              0.5555555555555556,
              "#d8576b"
             ],
             [
              0.6666666666666666,
              "#ed7953"
             ],
             [
              0.7777777777777778,
              "#fb9f3a"
             ],
             [
              0.8888888888888888,
              "#fdca26"
             ],
             [
              1,
              "#f0f921"
             ]
            ],
            "type": "histogram2d"
           }
          ],
          "histogram2dcontour": [
           {
            "colorbar": {
             "outlinewidth": 0,
             "ticks": ""
            },
            "colorscale": [
             [
              0,
              "#0d0887"
             ],
             [
              0.1111111111111111,
              "#46039f"
             ],
             [
              0.2222222222222222,
              "#7201a8"
             ],
             [
              0.3333333333333333,
              "#9c179e"
             ],
             [
              0.4444444444444444,
              "#bd3786"
             ],
             [
              0.5555555555555556,
              "#d8576b"
             ],
             [
              0.6666666666666666,
              "#ed7953"
             ],
             [
              0.7777777777777778,
              "#fb9f3a"
             ],
             [
              0.8888888888888888,
              "#fdca26"
             ],
             [
              1,
              "#f0f921"
             ]
            ],
            "type": "histogram2dcontour"
           }
          ],
          "mesh3d": [
           {
            "colorbar": {
             "outlinewidth": 0,
             "ticks": ""
            },
            "type": "mesh3d"
           }
          ],
          "parcoords": [
           {
            "line": {
             "colorbar": {
              "outlinewidth": 0,
              "ticks": ""
             }
            },
            "type": "parcoords"
           }
          ],
          "pie": [
           {
            "automargin": true,
            "type": "pie"
           }
          ],
          "scatter": [
           {
            "fillpattern": {
             "fillmode": "overlay",
             "size": 10,
             "solidity": 0.2
            },
            "type": "scatter"
           }
          ],
          "scatter3d": [
           {
            "line": {
             "colorbar": {
              "outlinewidth": 0,
              "ticks": ""
             }
            },
            "marker": {
             "colorbar": {
              "outlinewidth": 0,
              "ticks": ""
             }
            },
            "type": "scatter3d"
           }
          ],
          "scattercarpet": [
           {
            "marker": {
             "colorbar": {
              "outlinewidth": 0,
              "ticks": ""
             }
            },
            "type": "scattercarpet"
           }
          ],
          "scattergeo": [
           {
            "marker": {
             "colorbar": {
              "outlinewidth": 0,
              "ticks": ""
             }
            },
            "type": "scattergeo"
           }
          ],
          "scattergl": [
           {
            "marker": {
             "colorbar": {
              "outlinewidth": 0,
              "ticks": ""
             }
            },
            "type": "scattergl"
           }
          ],
          "scattermapbox": [
           {
            "marker": {
             "colorbar": {
              "outlinewidth": 0,
              "ticks": ""
             }
            },
            "type": "scattermapbox"
           }
          ],
          "scatterpolar": [
           {
            "marker": {
             "colorbar": {
              "outlinewidth": 0,
              "ticks": ""
             }
            },
            "type": "scatterpolar"
           }
          ],
          "scatterpolargl": [
           {
            "marker": {
             "colorbar": {
              "outlinewidth": 0,
              "ticks": ""
             }
            },
            "type": "scatterpolargl"
           }
          ],
          "scatterternary": [
           {
            "marker": {
             "colorbar": {
              "outlinewidth": 0,
              "ticks": ""
             }
            },
            "type": "scatterternary"
           }
          ],
          "surface": [
           {
            "colorbar": {
             "outlinewidth": 0,
             "ticks": ""
            },
            "colorscale": [
             [
              0,
              "#0d0887"
             ],
             [
              0.1111111111111111,
              "#46039f"
             ],
             [
              0.2222222222222222,
              "#7201a8"
             ],
             [
              0.3333333333333333,
              "#9c179e"
             ],
             [
              0.4444444444444444,
              "#bd3786"
             ],
             [
              0.5555555555555556,
              "#d8576b"
             ],
             [
              0.6666666666666666,
              "#ed7953"
             ],
             [
              0.7777777777777778,
              "#fb9f3a"
             ],
             [
              0.8888888888888888,
              "#fdca26"
             ],
             [
              1,
              "#f0f921"
             ]
            ],
            "type": "surface"
           }
          ],
          "table": [
           {
            "cells": {
             "fill": {
              "color": "#EBF0F8"
             },
             "line": {
              "color": "white"
             }
            },
            "header": {
             "fill": {
              "color": "#C8D4E3"
             },
             "line": {
              "color": "white"
             }
            },
            "type": "table"
           }
          ]
         },
         "layout": {
          "annotationdefaults": {
           "arrowcolor": "#2a3f5f",
           "arrowhead": 0,
           "arrowwidth": 1
          },
          "autotypenumbers": "strict",
          "coloraxis": {
           "colorbar": {
            "outlinewidth": 0,
            "ticks": ""
           }
          },
          "colorscale": {
           "diverging": [
            [
             0,
             "#8e0152"
            ],
            [
             0.1,
             "#c51b7d"
            ],
            [
             0.2,
             "#de77ae"
            ],
            [
             0.3,
             "#f1b6da"
            ],
            [
             0.4,
             "#fde0ef"
            ],
            [
             0.5,
             "#f7f7f7"
            ],
            [
             0.6,
             "#e6f5d0"
            ],
            [
             0.7,
             "#b8e186"
            ],
            [
             0.8,
             "#7fbc41"
            ],
            [
             0.9,
             "#4d9221"
            ],
            [
             1,
             "#276419"
            ]
           ],
           "sequential": [
            [
             0,
             "#0d0887"
            ],
            [
             0.1111111111111111,
             "#46039f"
            ],
            [
             0.2222222222222222,
             "#7201a8"
            ],
            [
             0.3333333333333333,
             "#9c179e"
            ],
            [
             0.4444444444444444,
             "#bd3786"
            ],
            [
             0.5555555555555556,
             "#d8576b"
            ],
            [
             0.6666666666666666,
             "#ed7953"
            ],
            [
             0.7777777777777778,
             "#fb9f3a"
            ],
            [
             0.8888888888888888,
             "#fdca26"
            ],
            [
             1,
             "#f0f921"
            ]
           ],
           "sequentialminus": [
            [
             0,
             "#0d0887"
            ],
            [
             0.1111111111111111,
             "#46039f"
            ],
            [
             0.2222222222222222,
             "#7201a8"
            ],
            [
             0.3333333333333333,
             "#9c179e"
            ],
            [
             0.4444444444444444,
             "#bd3786"
            ],
            [
             0.5555555555555556,
             "#d8576b"
            ],
            [
             0.6666666666666666,
             "#ed7953"
            ],
            [
             0.7777777777777778,
             "#fb9f3a"
            ],
            [
             0.8888888888888888,
             "#fdca26"
            ],
            [
             1,
             "#f0f921"
            ]
           ]
          },
          "colorway": [
           "#636efa",
           "#EF553B",
           "#00cc96",
           "#ab63fa",
           "#FFA15A",
           "#19d3f3",
           "#FF6692",
           "#B6E880",
           "#FF97FF",
           "#FECB52"
          ],
          "font": {
           "color": "#2a3f5f"
          },
          "geo": {
           "bgcolor": "white",
           "lakecolor": "white",
           "landcolor": "#E5ECF6",
           "showlakes": true,
           "showland": true,
           "subunitcolor": "white"
          },
          "hoverlabel": {
           "align": "left"
          },
          "hovermode": "closest",
          "mapbox": {
           "style": "light"
          },
          "paper_bgcolor": "white",
          "plot_bgcolor": "#E5ECF6",
          "polar": {
           "angularaxis": {
            "gridcolor": "white",
            "linecolor": "white",
            "ticks": ""
           },
           "bgcolor": "#E5ECF6",
           "radialaxis": {
            "gridcolor": "white",
            "linecolor": "white",
            "ticks": ""
           }
          },
          "scene": {
           "xaxis": {
            "backgroundcolor": "#E5ECF6",
            "gridcolor": "white",
            "gridwidth": 2,
            "linecolor": "white",
            "showbackground": true,
            "ticks": "",
            "zerolinecolor": "white"
           },
           "yaxis": {
            "backgroundcolor": "#E5ECF6",
            "gridcolor": "white",
            "gridwidth": 2,
            "linecolor": "white",
            "showbackground": true,
            "ticks": "",
            "zerolinecolor": "white"
           },
           "zaxis": {
            "backgroundcolor": "#E5ECF6",
            "gridcolor": "white",
            "gridwidth": 2,
            "linecolor": "white",
            "showbackground": true,
            "ticks": "",
            "zerolinecolor": "white"
           }
          },
          "shapedefaults": {
           "line": {
            "color": "#2a3f5f"
           }
          },
          "ternary": {
           "aaxis": {
            "gridcolor": "white",
            "linecolor": "white",
            "ticks": ""
           },
           "baxis": {
            "gridcolor": "white",
            "linecolor": "white",
            "ticks": ""
           },
           "bgcolor": "#E5ECF6",
           "caxis": {
            "gridcolor": "white",
            "linecolor": "white",
            "ticks": ""
           }
          },
          "title": {
           "x": 0.05
          },
          "xaxis": {
           "automargin": true,
           "gridcolor": "white",
           "linecolor": "white",
           "ticks": "",
           "title": {
            "standoff": 15
           },
           "zerolinecolor": "white",
           "zerolinewidth": 2
          },
          "yaxis": {
           "automargin": true,
           "gridcolor": "white",
           "linecolor": "white",
           "ticks": "",
           "title": {
            "standoff": 15
           },
           "zerolinecolor": "white",
           "zerolinewidth": 2
          }
         }
        },
        "xaxis": {
         "anchor": "y",
         "domain": [
          0,
          1
         ]
        },
        "yaxis": {
         "anchor": "x",
         "domain": [
          0,
          1
         ],
         "title": {
          "text": "rmse"
         }
        }
       }
      }
     },
     "metadata": {},
     "output_type": "display_data"
    }
   ],
   "source": [
    "deep_learning_models = [\"mlp\", \"resnet\", \"deep_linear\"]\n",
    "deep_learning_models = deep_learning_models + [f\"{x}_ft\" for x in deep_learning_models]\n",
    "deep_learning_featurizers = [\"bert_cls\", \"bert_mean\"]\n",
    "deep_learning_tokenizers = [\"bert\"]\n",
    "\n",
    "deep_learning_results = filtered_results[\n",
    "    (filtered_results[\"model\"].isin(deep_learning_models)) &\n",
    "    (filtered_results[\"featuriser\"].isin(deep_learning_featurizers)) &\n",
    "    (filtered_results[\"tokeniser\"].isin(deep_learning_tokenizers))\n",
    "]\n",
    "\n",
    "z = deep_learning_results.sort_values(by=metric).reset_index(drop=True)\n",
    "logger.info(deep_learning_results.shape)\n",
    "fig = px.box(deep_learning_results, y=metric, color=\"model\")\n",
    "fig.add_hline(y=deep_learning_results[metric].mean(), line_dash=\"dash\", line_color=\"gray\")\n",
    "fig.show()"
   ]
  },
  {
   "cell_type": "code",
   "execution_count": 291,
   "metadata": {},
   "outputs": [
    {
     "name": "stderr",
     "output_type": "stream",
     "text": [
      "2025-03-13 16:59:07,401 - analysis - INFO - Best deep learners varied over preprocessers:\n"
     ]
    },
    {
     "data": {
      "text/html": [
       "<div>\n",
       "<style scoped>\n",
       "    .dataframe tbody tr th:only-of-type {\n",
       "        vertical-align: middle;\n",
       "    }\n",
       "\n",
       "    .dataframe tbody tr th {\n",
       "        vertical-align: top;\n",
       "    }\n",
       "\n",
       "    .dataframe thead th {\n",
       "        text-align: right;\n",
       "    }\n",
       "</style>\n",
       "<table border=\"1\" class=\"dataframe\">\n",
       "  <thead>\n",
       "    <tr style=\"text-align: right;\">\n",
       "      <th></th>\n",
       "      <th>preprocessers</th>\n",
       "      <th>rmse</th>\n",
       "    </tr>\n",
       "  </thead>\n",
       "  <tbody>\n",
       "    <tr>\n",
       "      <th>0</th>\n",
       "      <td>[no_stopwords_nltk]</td>\n",
       "      <td>334672.924494</td>\n",
       "    </tr>\n",
       "    <tr>\n",
       "      <th>1</th>\n",
       "      <td>[empty]</td>\n",
       "      <td>337746.866655</td>\n",
       "    </tr>\n",
       "    <tr>\n",
       "      <th>2</th>\n",
       "      <td>[lemmatize, lowercase]</td>\n",
       "      <td>339429.741674</td>\n",
       "    </tr>\n",
       "    <tr>\n",
       "      <th>3</th>\n",
       "      <td>[lemmatize, lowercase]</td>\n",
       "      <td>343361.329935</td>\n",
       "    </tr>\n",
       "    <tr>\n",
       "      <th>4</th>\n",
       "      <td>[no_punctuation]</td>\n",
       "      <td>346313.463233</td>\n",
       "    </tr>\n",
       "  </tbody>\n",
       "</table>\n",
       "</div>"
      ],
      "text/plain": [
       "            preprocessers           rmse\n",
       "0     [no_stopwords_nltk]  334672.924494\n",
       "1                 [empty]  337746.866655\n",
       "2  [lemmatize, lowercase]  339429.741674\n",
       "3  [lemmatize, lowercase]  343361.329935\n",
       "4        [no_punctuation]  346313.463233"
      ]
     },
     "metadata": {},
     "output_type": "display_data"
    },
    {
     "name": "stderr",
     "output_type": "stream",
     "text": [
      "2025-03-13 16:59:07,414 - analysis - INFO - Worst deep learners varied over preprocessers:\n"
     ]
    },
    {
     "data": {
      "text/html": [
       "<div>\n",
       "<style scoped>\n",
       "    .dataframe tbody tr th:only-of-type {\n",
       "        vertical-align: middle;\n",
       "    }\n",
       "\n",
       "    .dataframe tbody tr th {\n",
       "        vertical-align: top;\n",
       "    }\n",
       "\n",
       "    .dataframe thead th {\n",
       "        text-align: right;\n",
       "    }\n",
       "</style>\n",
       "<table border=\"1\" class=\"dataframe\">\n",
       "  <thead>\n",
       "    <tr style=\"text-align: right;\">\n",
       "      <th></th>\n",
       "      <th>preprocessers</th>\n",
       "      <th>rmse</th>\n",
       "    </tr>\n",
       "  </thead>\n",
       "  <tbody>\n",
       "    <tr>\n",
       "      <th>456</th>\n",
       "      <td>[lowercase]</td>\n",
       "      <td>447711.804419</td>\n",
       "    </tr>\n",
       "    <tr>\n",
       "      <th>462</th>\n",
       "      <td>[lowercase, no_punctuation, stem]</td>\n",
       "      <td>448440.049344</td>\n",
       "    </tr>\n",
       "    <tr>\n",
       "      <th>474</th>\n",
       "      <td>[lowercase, no_punctuation, stem]</td>\n",
       "      <td>448858.488372</td>\n",
       "    </tr>\n",
       "    <tr>\n",
       "      <th>506</th>\n",
       "      <td>[no_stopwords_spacy, stem]</td>\n",
       "      <td>453542.935731</td>\n",
       "    </tr>\n",
       "    <tr>\n",
       "      <th>507</th>\n",
       "      <td>[no_stopwords_spacy, stem]</td>\n",
       "      <td>453551.932735</td>\n",
       "    </tr>\n",
       "  </tbody>\n",
       "</table>\n",
       "</div>"
      ],
      "text/plain": [
       "                         preprocessers           rmse\n",
       "456                        [lowercase]  447711.804419\n",
       "462  [lowercase, no_punctuation, stem]  448440.049344\n",
       "474  [lowercase, no_punctuation, stem]  448858.488372\n",
       "506         [no_stopwords_spacy, stem]  453542.935731\n",
       "507         [no_stopwords_spacy, stem]  453551.932735"
      ]
     },
     "metadata": {},
     "output_type": "display_data"
    }
   ],
   "source": [
    "logger.info(f\"Best deep learners varied over preprocessers:\")\n",
    "best_subset = deep_learning_results.head(5)\n",
    "display(best_subset[[\"preprocessers\", metric]])\n",
    "\n",
    "logger.info(f\"Worst deep learners varied over preprocessers:\")\n",
    "worst_subset = deep_learning_results.tail(5)\n",
    "display(worst_subset[[\"preprocessers\", metric]])"
   ]
  },
  {
   "cell_type": "markdown",
   "metadata": {},
   "source": [
    "### Look at with and without preprocesser"
   ]
  },
  {
   "cell_type": "code",
   "execution_count": null,
   "metadata": {},
   "outputs": [
    {
     "name": "stderr",
     "output_type": "stream",
     "text": [
      "/tmp/ipykernel_249924/4287478704.py:4: SettingWithCopyWarning:\n",
      "\n",
      "\n",
      "A value is trying to be set on a copy of a slice from a DataFrame.\n",
      "Try using .loc[row_indexer,col_indexer] = value instead\n",
      "\n",
      "See the caveats in the documentation: https://pandas.pydata.org/pandas-docs/stable/user_guide/indexing.html#returning-a-view-versus-a-copy\n",
      "\n",
      "/tmp/ipykernel_249924/4287478704.py:5: SettingWithCopyWarning:\n",
      "\n",
      "\n",
      "A value is trying to be set on a copy of a slice from a DataFrame.\n",
      "Try using .loc[row_indexer,col_indexer] = value instead\n",
      "\n",
      "See the caveats in the documentation: https://pandas.pydata.org/pandas-docs/stable/user_guide/indexing.html#returning-a-view-versus-a-copy\n",
      "\n"
     ]
    }
   ],
   "source": [
    "no_preprocesser_idx = deep_learning_results[\"preprocessers\"].apply(lambda x: x==[\"empty\"])\n",
    "no_preprocessers_subset = deep_learning_results[no_preprocesser_idx]\n",
    "with_preprocessers_subset = deep_learning_results[~no_preprocesser_idx]\n",
    "no_preprocessers_subset[\"model_type\"] = \"w/o Preprocessers\"\n",
    "with_preprocessers_subset[\"model_type\"] = \"w/ Preprocessers\"\n",
    "joint = pd.concat([no_preprocessers_subset, with_preprocessers_subset])\n",
    "\n",
    "color_order = sorted(joint[\"model\"].unique())\n",
    "\n",
    "fig = px.box(\n",
    "    joint,\n",
    "    x=\"model_type\",\n",
    "    y=metric,\n",
    "    # color=\"model\",\n",
    "    points=\"outliers\",\n",
    "    category_orders={\"model\": color_order}\n",
    ")\n",
    "fig.add_hline(y=perf_of_mean, line_dash=\"dash\", line_color=\"gray\")\n",
    "\n",
    "fig.write_image(\n",
    "    OUTPUT_DIR / dataset / \"1d_boxplots\" / f\"{config_str}_deep_learners_w_wout_preprocessers.{image_ext}\",\n",
    "    height=SAVE_HEIGHT,\n",
    "    width=SAVE_WIDTH,\n",
    "    scale=2\n",
    ")"
   ]
  },
  {
   "cell_type": "code",
   "execution_count": null,
   "metadata": {},
   "outputs": [
    {
     "name": "stderr",
     "output_type": "stream",
     "text": [
      "2025-03-13 16:59:09,116 - analysis - INFO - \n",
      "Permutation Test Results:\n",
      "2025-03-13 16:59:09,118 - analysis - INFO - Observed difference in means (with - without): 18753.18; n = 72, m = 40\n",
      "2025-03-13 16:59:09,119 - analysis - INFO - P-value: 0.0031\n",
      "2025-03-13 16:59:09,120 - analysis - INFO - Statistically different at 0.05 significance\n"
     ]
    }
   ],
   "source": [
    "p_value, observed_diff = permutation_test(with_preprocessers_subset[metric], no_preprocessers_subset[metric])\n",
    "\n",
    "logger.info(f\"\\nPermutation Test Results:\")\n",
    "logger.info(f\"Observed difference in means (with - without): {observed_diff:.2f}; n = {len(with_preprocessers_subset)}, m = {len(no_preprocessers_subset)}\")\n",
    "logger.info(f\"P-value: {p_value:.4f}\")\n",
    "logger.info(f\"Statistically {'different' if p_value < alpha else 'not different'} at {alpha} significance\")\n"
   ]
  },
  {
   "cell_type": "markdown",
   "metadata": {},
   "source": [
    "Too difficult to draw meaningful conclusions from these results"
   ]
  },
  {
   "cell_type": "markdown",
   "metadata": {},
   "source": [
    "## 'Safe' vs 'Unsafe' preprocessers"
   ]
  },
  {
   "cell_type": "markdown",
   "metadata": {},
   "source": [
    "What about specifically preprocessers that do and dont change the token distribution?"
   ]
  },
  {
   "cell_type": "code",
   "execution_count": 294,
   "metadata": {},
   "outputs": [
    {
     "data": {
      "text/plain": [
       "['lowercase',\n",
       " 'no_punctuation',\n",
       " 'no_stopwords_spacy',\n",
       " 'stem',\n",
       " 'no_stopwords_nltk',\n",
       " 'empty',\n",
       " 'lemmatize']"
      ]
     },
     "execution_count": 294,
     "metadata": {},
     "output_type": "execute_result"
    }
   ],
   "source": [
    "# Remind of all preprocessers\n",
    "all_preproc = set()\n",
    "for preproc in filtered_results[\"preprocessers\"].values:\n",
    "    all_preproc.update(preproc)\n",
    "all_preproc = list(all_preproc)\n",
    "all_preproc"
   ]
  },
  {
   "cell_type": "code",
   "execution_count": 295,
   "metadata": {},
   "outputs": [
    {
     "data": {
      "text/plain": [
       "(['empty',\n",
       "  'no_stopwords_spacy',\n",
       "  'lowercase',\n",
       "  'no_stopwords_nltk',\n",
       "  'no_punctuation',\n",
       "  'lemmatize'],\n",
       " ['stem'])"
      ]
     },
     "execution_count": 295,
     "metadata": {},
     "output_type": "execute_result"
    }
   ],
   "source": [
    "safe_preproc = [\"empty\", \"no_stopwords_spacy\", \"lowercase\", \"no_stopwords_nltk\", \"no_punctuation\", \"lemmatize\"]\n",
    "unsafe_preproc = [x for x in all_preproc if x not in safe_preproc]\n",
    "safe_preproc, unsafe_preproc"
   ]
  },
  {
   "cell_type": "code",
   "execution_count": null,
   "metadata": {},
   "outputs": [
    {
     "data": {
      "application/vnd.plotly.v1+json": {
       "config": {
        "plotlyServerURL": "https://plot.ly"
       },
       "data": [
        {
         "alignmentgroup": "True",
         "boxpoints": "outliers",
         "hovertemplate": "model=mlp_ft<br>preproc_type=%{x}<br>rmse=%{y}<extra></extra>",
         "legendgroup": "mlp_ft",
         "marker": {
          "color": "#636efa"
         },
         "name": "mlp_ft",
         "notched": false,
         "offsetgroup": "mlp_ft",
         "orientation": "v",
         "showlegend": true,
         "type": "box",
         "x": [
          "Safe",
          "Safe",
          "Safe",
          "Safe",
          "Safe",
          "Safe",
          "Safe",
          "Safe",
          "Safe",
          "Safe",
          "Safe",
          "Safe"
         ],
         "x0": " ",
         "xaxis": "x",
         "y": [
          334672.92449431383,
          353284.9527075714,
          357720.2200352138,
          358526.79820114473,
          363199.5183173384,
          368390.24026379496,
          371710.9012912332,
          376259.96339778986,
          384469.975052606,
          396054.37676723313,
          403995.3708323375,
          419114.3477417875
         ],
         "y0": " ",
         "yaxis": "y"
        },
        {
         "alignmentgroup": "True",
         "boxpoints": "outliers",
         "hovertemplate": "model=deep_linear_ft<br>preproc_type=%{x}<br>rmse=%{y}<extra></extra>",
         "legendgroup": "deep_linear_ft",
         "marker": {
          "color": "#EF553B"
         },
         "name": "deep_linear_ft",
         "notched": false,
         "offsetgroup": "deep_linear_ft",
         "orientation": "v",
         "showlegend": true,
         "type": "box",
         "x": [
          "Safe",
          "Safe",
          "Safe",
          "Safe",
          "Safe",
          "Safe",
          "Safe",
          "Safe",
          "Safe",
          "Safe",
          "Safe",
          "Safe",
          "Safe",
          "Safe",
          "Safe",
          "Safe",
          "Safe",
          "Safe",
          "Safe",
          "Safe"
         ],
         "x0": " ",
         "xaxis": "x",
         "y": [
          337746.86665508786,
          339429.7416737401,
          343361.3299350616,
          346313.46323340846,
          346809.51221742004,
          348540.27524561045,
          349111.8787168715,
          349702.19851147896,
          350960.2007643338,
          352394.7043239373,
          352763.5305858744,
          354193.5621144301,
          355669.7413590963,
          356326.4180732475,
          358523.73346031795,
          366746.5185878444,
          370967.63447614777,
          378061.822816205,
          385723.64418557216,
          387953.2575538742
         ],
         "y0": " ",
         "yaxis": "y"
        },
        {
         "alignmentgroup": "True",
         "boxpoints": "outliers",
         "hovertemplate": "model=resnet_ft<br>preproc_type=%{x}<br>rmse=%{y}<extra></extra>",
         "legendgroup": "resnet_ft",
         "marker": {
          "color": "#00cc96"
         },
         "name": "resnet_ft",
         "notched": false,
         "offsetgroup": "resnet_ft",
         "orientation": "v",
         "showlegend": true,
         "type": "box",
         "x": [
          "Safe",
          "Safe",
          "Safe",
          "Safe",
          "Safe",
          "Safe",
          "Safe",
          "Safe",
          "Safe",
          "Safe",
          "Safe",
          "Safe",
          "Unsafe (['stem'])",
          "Unsafe (['stem'])",
          "Unsafe (['stem'])",
          "Unsafe (['stem'])",
          "Unsafe (['stem'])",
          "Unsafe (['stem'])",
          "Unsafe (['stem'])",
          "Unsafe (['stem'])"
         ],
         "x0": " ",
         "xaxis": "x",
         "y": [
          357138.704818284,
          361746.952636373,
          363053.0053446076,
          369647.6921583041,
          374681.4216982677,
          379145.85592737433,
          381955.0499252306,
          382397.844844982,
          383929.9266422194,
          386492.001884938,
          394577.264598652,
          411894.77775569144,
          367595.66886785923,
          372846.7401907872,
          380451.53508466046,
          384076.5600807728,
          385162.1944463041,
          386215.3508926513,
          415046.2346218933,
          429813.423371997
         ],
         "y0": " ",
         "yaxis": "y"
        },
        {
         "alignmentgroup": "True",
         "boxpoints": "outliers",
         "hovertemplate": "model=mlp<br>preproc_type=%{x}<br>rmse=%{y}<extra></extra>",
         "legendgroup": "mlp",
         "marker": {
          "color": "#ab63fa"
         },
         "name": "mlp",
         "notched": false,
         "offsetgroup": "mlp",
         "orientation": "v",
         "showlegend": true,
         "type": "box",
         "x": [
          "Safe",
          "Safe",
          "Safe",
          "Safe",
          "Safe",
          "Safe",
          "Safe",
          "Safe",
          "Safe",
          "Safe",
          "Safe",
          "Safe",
          "Safe",
          "Safe",
          "Safe",
          "Safe",
          "Safe",
          "Safe",
          "Safe",
          "Safe",
          "Safe",
          "Safe",
          "Safe",
          "Safe",
          "Safe",
          "Safe",
          "Safe",
          "Safe",
          "Safe",
          "Safe",
          "Safe",
          "Safe",
          "Safe",
          "Safe",
          "Safe",
          "Safe",
          "Safe",
          "Safe",
          "Safe",
          "Safe",
          "Safe",
          "Safe",
          "Safe",
          "Safe",
          "Safe",
          "Safe",
          "Safe",
          "Safe",
          "Safe",
          "Safe",
          "Safe",
          "Safe",
          "Safe",
          "Safe",
          "Safe",
          "Safe",
          "Safe",
          "Safe",
          "Safe",
          "Safe",
          "Safe",
          "Safe",
          "Safe",
          "Safe",
          "Safe",
          "Safe",
          "Safe",
          "Safe",
          "Safe",
          "Safe",
          "Safe",
          "Safe",
          "Safe",
          "Safe",
          "Safe",
          "Safe",
          "Safe",
          "Safe",
          "Safe",
          "Safe",
          "Safe",
          "Safe",
          "Safe",
          "Safe",
          "Safe",
          "Safe",
          "Safe",
          "Safe",
          "Safe",
          "Safe",
          "Safe",
          "Safe",
          "Safe",
          "Safe",
          "Safe",
          "Safe",
          "Safe",
          "Safe",
          "Safe",
          "Safe",
          "Unsafe (['stem'])",
          "Unsafe (['stem'])",
          "Unsafe (['stem'])",
          "Unsafe (['stem'])",
          "Unsafe (['stem'])",
          "Unsafe (['stem'])",
          "Unsafe (['stem'])",
          "Unsafe (['stem'])",
          "Unsafe (['stem'])",
          "Unsafe (['stem'])",
          "Unsafe (['stem'])",
          "Unsafe (['stem'])",
          "Unsafe (['stem'])",
          "Unsafe (['stem'])",
          "Unsafe (['stem'])",
          "Unsafe (['stem'])",
          "Unsafe (['stem'])",
          "Unsafe (['stem'])",
          "Unsafe (['stem'])",
          "Unsafe (['stem'])",
          "Unsafe (['stem'])",
          "Unsafe (['stem'])",
          "Unsafe (['stem'])",
          "Unsafe (['stem'])"
         ],
         "x0": " ",
         "xaxis": "x",
         "y": [
          361421.34193893836,
          366211.90365923493,
          369982.5508239216,
          372168.10433634423,
          379047.67152541014,
          381009.5184730367,
          381119.52544397546,
          381163.7805688142,
          381884.7485880463,
          382122.578352095,
          382483.3308421783,
          382600.552463905,
          383454.1870425049,
          383542.55913557834,
          383989.4170158413,
          384060.9527948743,
          384856.6330372209,
          384865.0926920196,
          384952.0313391807,
          385364.10020168923,
          385534.40194630355,
          385892.066118161,
          386303.4040660779,
          386362.9443898347,
          387532.0061128245,
          388051.294897365,
          388051.294897365,
          388423.51760545635,
          389077.5056203898,
          390568.6074798642,
          390738.03960997576,
          391288.6089766442,
          392205.2867777827,
          395802.4002370241,
          396123.6977184519,
          397707.4856629337,
          399398.36891634815,
          399837.52707912296,
          400676.5441727689,
          402511.18607077206,
          403265.8480864476,
          405331.571884742,
          407256.3791271824,
          408071.0171027928,
          408625.82606099785,
          410262.5737415571,
          411301.15855074045,
          411498.2043585986,
          411569.818425107,
          411789.13195025775,
          412661.8583433913,
          415094.9502398446,
          415095.3901420976,
          417434.2901258469,
          417434.2901258469,
          417518.08016194316,
          420968.8545751348,
          425228.3808474518,
          445726.1560148558,
          446446.41430091095,
          446466.0479103102,
          446519.65743982384,
          446719.01627308223,
          447106.2201132606,
          447326.6271084981,
          447636.7443720136,
          447685.3014172189,
          447711.8044193485,
          447711.8044193485,
          447989.7544436863,
          448184.10536388867,
          448680.37815947284,
          448684.40878346155,
          448739.6631321524,
          448756.9699718935,
          449240.96809769,
          449323.59553418163,
          449476.7857069193,
          449879.6011051586,
          449963.56294867414,
          450328.3935917681,
          450645.32623028033,
          450973.3335263127,
          452728.60797617474,
          453839.6960513623,
          455378.98665643303,
          456667.1461890107,
          457475.02970507287,
          459445.16295672336,
          460947.49527866667,
          462491.89764955355,
          463057.01493236417,
          463943.14263751655,
          465574.8316930521,
          465632.2323109415,
          469421.7755040185,
          470148.5858181873,
          472629.42827141186,
          473582.67046931933,
          482339.5991340238,
          370369.5941213323,
          373069.9661529323,
          374971.0933159639,
          378563.370350385,
          380046.4860495535,
          383751.7030650158,
          385804.1681560179,
          388951.2057087476,
          410913.5747589744,
          413989.03383132967,
          415409.0541774667,
          428276.45146332344,
          430443.5232348798,
          433815.8344270853,
          438093.86793271324,
          438645.4216585745,
          446217.97790027515,
          446860.2708068473,
          447382.7276325274,
          447491.15594300115,
          448440.04934350634,
          448858.4883717732,
          453542.93573099957,
          453551.9327347001
         ],
         "y0": " ",
         "yaxis": "y"
        },
        {
         "alignmentgroup": "True",
         "boxpoints": "outliers",
         "hovertemplate": "model=deep_linear<br>preproc_type=%{x}<br>rmse=%{y}<extra></extra>",
         "legendgroup": "deep_linear",
         "marker": {
          "color": "#FFA15A"
         },
         "name": "deep_linear",
         "notched": false,
         "offsetgroup": "deep_linear",
         "orientation": "v",
         "showlegend": true,
         "type": "box",
         "x": [
          "Safe",
          "Safe",
          "Safe",
          "Safe",
          "Safe",
          "Safe",
          "Safe",
          "Safe",
          "Safe",
          "Safe",
          "Safe",
          "Safe",
          "Safe",
          "Safe",
          "Safe",
          "Safe",
          "Safe",
          "Safe",
          "Safe",
          "Safe",
          "Safe",
          "Safe",
          "Safe",
          "Safe",
          "Safe",
          "Safe",
          "Safe",
          "Safe",
          "Safe",
          "Safe",
          "Safe",
          "Safe",
          "Safe",
          "Safe",
          "Safe",
          "Safe",
          "Safe",
          "Safe",
          "Safe",
          "Safe",
          "Safe",
          "Safe",
          "Safe",
          "Safe",
          "Safe",
          "Safe",
          "Safe",
          "Safe",
          "Safe",
          "Safe",
          "Safe",
          "Safe",
          "Safe",
          "Safe",
          "Safe",
          "Safe",
          "Safe",
          "Safe",
          "Safe",
          "Safe",
          "Safe",
          "Safe",
          "Safe",
          "Safe",
          "Safe",
          "Safe",
          "Safe",
          "Safe",
          "Safe",
          "Safe",
          "Safe",
          "Safe",
          "Safe",
          "Safe",
          "Safe",
          "Safe",
          "Safe",
          "Safe",
          "Safe",
          "Safe",
          "Safe",
          "Safe",
          "Safe",
          "Safe",
          "Safe",
          "Safe",
          "Safe",
          "Safe",
          "Safe",
          "Safe",
          "Safe",
          "Safe",
          "Unsafe (['stem'])",
          "Unsafe (['stem'])",
          "Unsafe (['stem'])",
          "Unsafe (['stem'])",
          "Unsafe (['stem'])",
          "Unsafe (['stem'])",
          "Unsafe (['stem'])",
          "Unsafe (['stem'])",
          "Unsafe (['stem'])",
          "Unsafe (['stem'])",
          "Unsafe (['stem'])",
          "Unsafe (['stem'])",
          "Unsafe (['stem'])",
          "Unsafe (['stem'])",
          "Unsafe (['stem'])",
          "Unsafe (['stem'])",
          "Unsafe (['stem'])",
          "Unsafe (['stem'])",
          "Unsafe (['stem'])",
          "Unsafe (['stem'])"
         ],
         "x0": " ",
         "xaxis": "x",
         "y": [
          366433.5945247364,
          370754.7897793784,
          371335.8866625337,
          372924.9139539685,
          373415.95706602617,
          374638.94714777824,
          376562.9283245224,
          382404.38099533704,
          385052.0007888019,
          385958.6099684862,
          388139.46757176856,
          388552.369635193,
          389564.50900393305,
          389903.48792744015,
          390253.07459525,
          390770.935426669,
          391336.27438457496,
          391460.02856155485,
          392967.8484060197,
          393258.0022602269,
          393318.4028356041,
          394581.5398549848,
          397212.03068910365,
          398895.4518719093,
          399002.7296144719,
          400199.13821662805,
          401458.5495194001,
          401862.41947844863,
          402848.2931470385,
          403609.08361798583,
          403740.79589157715,
          403962.3237772828,
          405510.5212385421,
          405700.3737456335,
          405717.5810615458,
          405717.5810615458,
          406248.47215354606,
          407034.00716103765,
          407209.98265337094,
          408167.7659423436,
          408500.1358994044,
          408788.5016155155,
          408890.2287262573,
          409771.2385530062,
          411376.0889250001,
          413003.0339636057,
          413413.5943788485,
          413649.08886411757,
          413649.08886411757,
          414005.0036699453,
          415172.32942359796,
          415172.3306701235,
          416511.92796280613,
          416511.92796280613,
          417163.94496406807,
          420605.1372795737,
          421569.00068676,
          421744.9318997668,
          421744.9318997668,
          422947.87093596853,
          422947.87093596853,
          423167.0715369111,
          423376.9763464382,
          423376.9763464382,
          424033.23032691894,
          425283.61176461505,
          427292.3438428816,
          427292.3438428816,
          427508.88355006464,
          429318.27968143177,
          429318.2824137462,
          429829.16621941276,
          430487.5768732312,
          437805.1127190981,
          437820.1978221849,
          439022.6056208756,
          441274.08649983024,
          445504.3833456229,
          446122.1401863084,
          446485.9567930064,
          446556.97803347494,
          446566.0008761839,
          446979.46226307907,
          447076.9172635202,
          447517.1225835086,
          447584.2218224691,
          448643.4060241709,
          448757.14974747587,
          449329.8247664085,
          449781.6326575914,
          449955.287970753,
          450701.03950064996,
          373225.84782664146,
          374974.0654724613,
          375919.61035550566,
          377825.7445526781,
          390115.69162731373,
          390510.91887931695,
          391819.63020199665,
          393862.9758415156,
          396455.0248021877,
          398177.4137605178,
          402839.88780160615,
          403252.0786391802,
          433341.7114398699,
          434433.0800925978,
          435191.337848269,
          436998.2854196784,
          437233.78631759767,
          437465.148952839,
          439988.27292210294,
          441543.5834751805
         ],
         "y0": " ",
         "yaxis": "y"
        },
        {
         "alignmentgroup": "True",
         "boxpoints": "outliers",
         "hovertemplate": "model=xgboost<br>preproc_type=%{x}<br>rmse=%{y}<extra></extra>",
         "legendgroup": "xgboost",
         "marker": {
          "color": "#19d3f3"
         },
         "name": "xgboost",
         "notched": false,
         "offsetgroup": "xgboost",
         "orientation": "v",
         "showlegend": true,
         "type": "box",
         "x": [
          "Safe",
          "Safe",
          "Safe",
          "Safe",
          "Safe",
          "Safe",
          "Safe",
          "Safe",
          "Safe",
          "Safe",
          "Safe",
          "Safe",
          "Safe",
          "Safe",
          "Safe",
          "Safe",
          "Safe",
          "Safe",
          "Safe",
          "Safe",
          "Safe",
          "Safe",
          "Safe",
          "Safe",
          "Safe",
          "Safe",
          "Safe",
          "Safe",
          "Safe",
          "Safe",
          "Safe",
          "Safe",
          "Safe",
          "Safe",
          "Safe",
          "Safe",
          "Safe",
          "Safe",
          "Safe",
          "Safe",
          "Safe",
          "Safe",
          "Safe",
          "Safe",
          "Safe",
          "Safe",
          "Safe",
          "Safe",
          "Safe",
          "Safe",
          "Safe",
          "Safe",
          "Safe",
          "Safe",
          "Safe",
          "Safe",
          "Unsafe (['stem'])",
          "Unsafe (['stem'])",
          "Unsafe (['stem'])",
          "Unsafe (['stem'])",
          "Unsafe (['stem'])",
          "Unsafe (['stem'])",
          "Unsafe (['stem'])",
          "Unsafe (['stem'])",
          "Unsafe (['stem'])",
          "Unsafe (['stem'])",
          "Unsafe (['stem'])",
          "Unsafe (['stem'])",
          "Unsafe (['stem'])",
          "Unsafe (['stem'])",
          "Unsafe (['stem'])",
          "Unsafe (['stem'])",
          "Unsafe (['stem'])",
          "Unsafe (['stem'])",
          "Unsafe (['stem'])",
          "Unsafe (['stem'])",
          "Unsafe (['stem'])",
          "Unsafe (['stem'])",
          "Unsafe (['stem'])",
          "Unsafe (['stem'])",
          "Unsafe (['stem'])",
          "Unsafe (['stem'])",
          "Unsafe (['stem'])",
          "Unsafe (['stem'])",
          "Unsafe (['stem'])",
          "Unsafe (['stem'])",
          "Unsafe (['stem'])",
          "Unsafe (['stem'])",
          "Unsafe (['stem'])",
          "Unsafe (['stem'])",
          "Unsafe (['stem'])",
          "Unsafe (['stem'])",
          "Unsafe (['stem'])",
          "Unsafe (['stem'])",
          "Unsafe (['stem'])",
          "Unsafe (['stem'])"
         ],
         "x0": " ",
         "xaxis": "x",
         "y": [
          376578.98475005815,
          385864.8000929036,
          392321.56006826245,
          398255.71560344874,
          398522.6736767287,
          399268.5621343114,
          399380.7390631338,
          399966.68904725526,
          402851.02226329787,
          406035.34883184434,
          407476.5074693586,
          410030.44495969027,
          417959.39135198435,
          421118.8192940838,
          424053.3086708219,
          431604.8934208936,
          434188.4013646821,
          435724.93780412525,
          437803.8549145582,
          437803.8549145582,
          438945.4387781946,
          439832.84136902477,
          440928.6791278855,
          441578.7324754904,
          442738.4654904903,
          442813.8343166663,
          442921.5616551125,
          443457.89181777876,
          443457.89181777876,
          444699.84747369867,
          445112.59170021466,
          448010.7452915838,
          448794.4420883316,
          448822.9267826487,
          448822.9267826487,
          449797.612437453,
          450077.29813055956,
          450812.323254023,
          452378.95756362256,
          452378.95756362256,
          454222.8775785273,
          455461.5226601992,
          459115.7829798387,
          463719.85814320977,
          467834.14214701287,
          467834.14214701287,
          469936.3492125527,
          470172.0378009795,
          475396.55889914255,
          481756.57531386643,
          481756.57531386643,
          533425.3420265932,
          550691.2052433431,
          550691.2052433431,
          862748.9117204304,
          862748.9117204304,
          388186.5040581331,
          392832.4825834609,
          394374.2562066468,
          399507.86420543806,
          404754.61771762196,
          416766.3016005497,
          416785.2690391206,
          424144.4643974573,
          424760.2314382882,
          430750.74836519576,
          433931.19107897155,
          442523.37079565006,
          443242.09552516014,
          443657.9285801291,
          449019.67346542655,
          449087.50937029306,
          450084.4263870476,
          450158.7441410377,
          450304.8234123343,
          450379.1877936382,
          451075.24228190165,
          451282.8915379302,
          452560.78980937944,
          453957.9097929447,
          456395.9446480326,
          457989.4980451096,
          462808.3626951324,
          465972.78653081384,
          465991.10082272155,
          468535.54640791053,
          471465.62348622584,
          472110.80595533736,
          473604.93267909804,
          476255.96548363543,
          478348.3890198714,
          483694.6866001213,
          484519.715623307,
          496610.62880680553,
          517104.47286724835,
          517335.14917329425
         ],
         "y0": " ",
         "yaxis": "y"
        },
        {
         "alignmentgroup": "True",
         "boxpoints": "outliers",
         "hovertemplate": "model=resnet<br>preproc_type=%{x}<br>rmse=%{y}<extra></extra>",
         "legendgroup": "resnet",
         "marker": {
          "color": "#FF6692"
         },
         "name": "resnet",
         "notched": false,
         "offsetgroup": "resnet",
         "orientation": "v",
         "showlegend": true,
         "type": "box",
         "x": [
          "Safe",
          "Safe",
          "Safe",
          "Safe",
          "Safe",
          "Safe",
          "Safe",
          "Safe",
          "Safe",
          "Safe",
          "Safe",
          "Safe",
          "Safe",
          "Safe",
          "Safe",
          "Safe",
          "Safe",
          "Safe",
          "Safe",
          "Safe",
          "Safe",
          "Safe",
          "Safe",
          "Safe",
          "Safe",
          "Safe",
          "Safe",
          "Safe",
          "Safe",
          "Safe",
          "Safe",
          "Safe",
          "Safe",
          "Safe",
          "Safe",
          "Safe",
          "Safe",
          "Safe",
          "Safe",
          "Safe",
          "Safe",
          "Safe",
          "Safe",
          "Safe",
          "Safe",
          "Safe",
          "Safe",
          "Safe",
          "Safe",
          "Safe",
          "Safe",
          "Safe",
          "Safe",
          "Safe",
          "Safe",
          "Safe",
          "Safe",
          "Safe",
          "Safe",
          "Safe",
          "Unsafe (['stem'])",
          "Unsafe (['stem'])",
          "Unsafe (['stem'])",
          "Unsafe (['stem'])",
          "Unsafe (['stem'])",
          "Unsafe (['stem'])",
          "Unsafe (['stem'])",
          "Unsafe (['stem'])",
          "Unsafe (['stem'])",
          "Unsafe (['stem'])",
          "Unsafe (['stem'])",
          "Unsafe (['stem'])"
         ],
         "x0": " ",
         "xaxis": "x",
         "y": [
          390477.78087332257,
          395270.02631568315,
          396376.04279356054,
          400692.1918276733,
          402395.7668319384,
          402548.7313968204,
          404297.07037826313,
          408887.0514038459,
          410704.19116913655,
          413817.2638481177,
          413959.31709094543,
          415776.085689703,
          416362.671237393,
          417360.37380789994,
          417763.09437432315,
          417807.4980759953,
          417988.7383970388,
          419534.25675357686,
          419711.90714772284,
          420231.7998232905,
          421295.1352598101,
          421795.73470450565,
          422109.9064750162,
          422357.9391641093,
          422610.25125535944,
          423308.1442363169,
          423428.6295867926,
          423557.8892943666,
          424187.43347938574,
          424580.08429508895,
          424701.08569916646,
          425849.332360484,
          425913.6046903787,
          426343.29991353484,
          427682.49306642875,
          428484.84677851794,
          429154.9872398402,
          429735.54403966805,
          430552.4810645078,
          430584.1246152464,
          430676.4908357653,
          430998.51569593325,
          431017.3327693827,
          431787.28163059393,
          431835.1764710003,
          432168.507629802,
          432194.8670403833,
          432650.77868055087,
          432954.3941746166,
          433316.42233726964,
          434130.80088150245,
          437300.11009446374,
          437490.0228860199,
          437637.7936001964,
          439976.02151423914,
          441448.4646892766,
          444200.52414172754,
          446489.80918241123,
          457350.1476073938,
          464660.79376296076,
          402840.64352808235,
          406795.2643825645,
          407503.50923593785,
          412564.10193409305,
          412903.6882240523,
          428521.7163003751,
          428918.8647805033,
          442411.0532597469,
          444194.37618041784,
          445599.0425007745,
          449141.2574510649,
          452233.1368292684
         ],
         "y0": " ",
         "yaxis": "y"
        },
        {
         "alignmentgroup": "True",
         "boxpoints": "outliers",
         "hovertemplate": "model=catboost<br>preproc_type=%{x}<br>rmse=%{y}<extra></extra>",
         "legendgroup": "catboost",
         "marker": {
          "color": "#B6E880"
         },
         "name": "catboost",
         "notched": false,
         "offsetgroup": "catboost",
         "orientation": "v",
         "showlegend": true,
         "type": "box",
         "x": [
          "Safe",
          "Safe",
          "Safe",
          "Safe",
          "Safe",
          "Safe",
          "Safe",
          "Safe",
          "Safe",
          "Safe",
          "Safe",
          "Safe",
          "Safe",
          "Safe",
          "Safe",
          "Safe",
          "Safe",
          "Safe",
          "Safe",
          "Safe",
          "Safe",
          "Safe",
          "Safe",
          "Safe",
          "Safe",
          "Safe",
          "Safe",
          "Safe",
          "Safe",
          "Safe",
          "Safe",
          "Safe",
          "Safe",
          "Safe",
          "Safe",
          "Safe",
          "Safe",
          "Safe",
          "Safe",
          "Safe",
          "Safe",
          "Safe",
          "Safe",
          "Safe",
          "Safe",
          "Safe",
          "Safe",
          "Safe",
          "Safe",
          "Safe",
          "Safe",
          "Safe",
          "Safe",
          "Safe",
          "Safe",
          "Safe",
          "Safe",
          "Safe",
          "Safe",
          "Safe",
          "Safe",
          "Safe",
          "Safe",
          "Safe",
          "Safe",
          "Safe",
          "Safe",
          "Safe",
          "Safe",
          "Safe",
          "Safe",
          "Safe",
          "Unsafe (['stem'])",
          "Unsafe (['stem'])",
          "Unsafe (['stem'])",
          "Unsafe (['stem'])",
          "Unsafe (['stem'])",
          "Unsafe (['stem'])",
          "Unsafe (['stem'])",
          "Unsafe (['stem'])",
          "Unsafe (['stem'])",
          "Unsafe (['stem'])",
          "Unsafe (['stem'])",
          "Unsafe (['stem'])",
          "Unsafe (['stem'])",
          "Unsafe (['stem'])",
          "Unsafe (['stem'])",
          "Unsafe (['stem'])",
          "Unsafe (['stem'])",
          "Unsafe (['stem'])",
          "Unsafe (['stem'])",
          "Unsafe (['stem'])",
          "Unsafe (['stem'])",
          "Unsafe (['stem'])",
          "Unsafe (['stem'])",
          "Unsafe (['stem'])",
          "Unsafe (['stem'])",
          "Unsafe (['stem'])",
          "Unsafe (['stem'])",
          "Unsafe (['stem'])",
          "Unsafe (['stem'])",
          "Unsafe (['stem'])",
          "Unsafe (['stem'])",
          "Unsafe (['stem'])"
         ],
         "x0": " ",
         "xaxis": "x",
         "y": [
          394155.9437202242,
          430275.8015979762,
          434048.0062764553,
          438570.1768344017,
          441091.11574072146,
          441353.737310031,
          443483.13568465674,
          443849.253163325,
          444218.1472440393,
          444251.8387984219,
          444363.79538146267,
          444493.82317995833,
          444564.1121468063,
          444738.6170237336,
          444872.82865737943,
          445060.9456550943,
          445433.5031652994,
          445446.7029740373,
          445727.3389991406,
          445738.4306802711,
          445860.1204057033,
          445925.6172845904,
          445935.78358338407,
          445980.9248294947,
          445999.84408155765,
          446072.22637650697,
          446076.4574828623,
          446086.3977996764,
          446100.1916507924,
          446100.7471659403,
          446123.78492599906,
          446144.57084557763,
          446154.46216471907,
          446188.4363894494,
          446196.2671235281,
          446211.8907778913,
          446235.9293518272,
          446239.1683950631,
          446257.5006130471,
          446260.2757018087,
          446260.4269019844,
          446280.51758817624,
          446287.72790554934,
          446288.17503341957,
          446288.5734074739,
          446291.3225789003,
          446292.1759642929,
          446292.97445743805,
          446292.9899969546,
          446295.7297681216,
          446295.8470157294,
          446297.6402269443,
          446299.8855467024,
          446310.0190804579,
          446322.91062658624,
          446368.7375555212,
          446437.4887443529,
          446540.38569642534,
          446543.2458177946,
          446744.2694030698,
          446747.6274023081,
          447057.7277233868,
          447067.45355500747,
          447154.1525349732,
          447197.50893952494,
          447431.0390047435,
          447437.9784591779,
          447475.57231347216,
          447659.2040950535,
          448749.9873385829,
          448782.32447537984,
          471825.8542398566,
          443144.6787951654,
          443213.24164103734,
          444247.5154916731,
          444336.8142651942,
          444780.8366785479,
          445030.57759494847,
          445069.9636990243,
          445380.86288209143,
          445742.8268510987,
          445773.37181913195,
          446145.66867770784,
          446176.89561813703,
          446255.1935775132,
          446262.4043603423,
          446292.8549916777,
          446297.1436035684,
          446318.0778263495,
          446367.26108071615,
          446372.370931561,
          446404.43250712566,
          446475.7822519645,
          446525.8113450214,
          446625.15844698605,
          446739.68083921284,
          446774.46416511014,
          446931.005456738,
          447055.9894932698,
          447231.226705636,
          448124.03439905593,
          448267.24649254297,
          449886.9385323502,
          452211.3780496828
         ],
         "y0": " ",
         "yaxis": "y"
        }
       ],
       "layout": {
        "boxmode": "group",
        "legend": {
         "title": {
          "text": "model"
         },
         "tracegroupgap": 0
        },
        "showlegend": true,
        "template": {
         "data": {
          "bar": [
           {
            "error_x": {
             "color": "#2a3f5f"
            },
            "error_y": {
             "color": "#2a3f5f"
            },
            "marker": {
             "line": {
              "color": "#E5ECF6",
              "width": 0.5
             },
             "pattern": {
              "fillmode": "overlay",
              "size": 10,
              "solidity": 0.2
             }
            },
            "type": "bar"
           }
          ],
          "barpolar": [
           {
            "marker": {
             "line": {
              "color": "#E5ECF6",
              "width": 0.5
             },
             "pattern": {
              "fillmode": "overlay",
              "size": 10,
              "solidity": 0.2
             }
            },
            "type": "barpolar"
           }
          ],
          "carpet": [
           {
            "aaxis": {
             "endlinecolor": "#2a3f5f",
             "gridcolor": "white",
             "linecolor": "white",
             "minorgridcolor": "white",
             "startlinecolor": "#2a3f5f"
            },
            "baxis": {
             "endlinecolor": "#2a3f5f",
             "gridcolor": "white",
             "linecolor": "white",
             "minorgridcolor": "white",
             "startlinecolor": "#2a3f5f"
            },
            "type": "carpet"
           }
          ],
          "choropleth": [
           {
            "colorbar": {
             "outlinewidth": 0,
             "ticks": ""
            },
            "type": "choropleth"
           }
          ],
          "contour": [
           {
            "colorbar": {
             "outlinewidth": 0,
             "ticks": ""
            },
            "colorscale": [
             [
              0,
              "#0d0887"
             ],
             [
              0.1111111111111111,
              "#46039f"
             ],
             [
              0.2222222222222222,
              "#7201a8"
             ],
             [
              0.3333333333333333,
              "#9c179e"
             ],
             [
              0.4444444444444444,
              "#bd3786"
             ],
             [
              0.5555555555555556,
              "#d8576b"
             ],
             [
              0.6666666666666666,
              "#ed7953"
             ],
             [
              0.7777777777777778,
              "#fb9f3a"
             ],
             [
              0.8888888888888888,
              "#fdca26"
             ],
             [
              1,
              "#f0f921"
             ]
            ],
            "type": "contour"
           }
          ],
          "contourcarpet": [
           {
            "colorbar": {
             "outlinewidth": 0,
             "ticks": ""
            },
            "type": "contourcarpet"
           }
          ],
          "heatmap": [
           {
            "colorbar": {
             "outlinewidth": 0,
             "ticks": ""
            },
            "colorscale": [
             [
              0,
              "#0d0887"
             ],
             [
              0.1111111111111111,
              "#46039f"
             ],
             [
              0.2222222222222222,
              "#7201a8"
             ],
             [
              0.3333333333333333,
              "#9c179e"
             ],
             [
              0.4444444444444444,
              "#bd3786"
             ],
             [
              0.5555555555555556,
              "#d8576b"
             ],
             [
              0.6666666666666666,
              "#ed7953"
             ],
             [
              0.7777777777777778,
              "#fb9f3a"
             ],
             [
              0.8888888888888888,
              "#fdca26"
             ],
             [
              1,
              "#f0f921"
             ]
            ],
            "type": "heatmap"
           }
          ],
          "heatmapgl": [
           {
            "colorbar": {
             "outlinewidth": 0,
             "ticks": ""
            },
            "colorscale": [
             [
              0,
              "#0d0887"
             ],
             [
              0.1111111111111111,
              "#46039f"
             ],
             [
              0.2222222222222222,
              "#7201a8"
             ],
             [
              0.3333333333333333,
              "#9c179e"
             ],
             [
              0.4444444444444444,
              "#bd3786"
             ],
             [
              0.5555555555555556,
              "#d8576b"
             ],
             [
              0.6666666666666666,
              "#ed7953"
             ],
             [
              0.7777777777777778,
              "#fb9f3a"
             ],
             [
              0.8888888888888888,
              "#fdca26"
             ],
             [
              1,
              "#f0f921"
             ]
            ],
            "type": "heatmapgl"
           }
          ],
          "histogram": [
           {
            "marker": {
             "pattern": {
              "fillmode": "overlay",
              "size": 10,
              "solidity": 0.2
             }
            },
            "type": "histogram"
           }
          ],
          "histogram2d": [
           {
            "colorbar": {
             "outlinewidth": 0,
             "ticks": ""
            },
            "colorscale": [
             [
              0,
              "#0d0887"
             ],
             [
              0.1111111111111111,
              "#46039f"
             ],
             [
              0.2222222222222222,
              "#7201a8"
             ],
             [
              0.3333333333333333,
              "#9c179e"
             ],
             [
              0.4444444444444444,
              "#bd3786"
             ],
             [
              0.5555555555555556,
              "#d8576b"
             ],
             [
              0.6666666666666666,
              "#ed7953"
             ],
             [
              0.7777777777777778,
              "#fb9f3a"
             ],
             [
              0.8888888888888888,
              "#fdca26"
             ],
             [
              1,
              "#f0f921"
             ]
            ],
            "type": "histogram2d"
           }
          ],
          "histogram2dcontour": [
           {
            "colorbar": {
             "outlinewidth": 0,
             "ticks": ""
            },
            "colorscale": [
             [
              0,
              "#0d0887"
             ],
             [
              0.1111111111111111,
              "#46039f"
             ],
             [
              0.2222222222222222,
              "#7201a8"
             ],
             [
              0.3333333333333333,
              "#9c179e"
             ],
             [
              0.4444444444444444,
              "#bd3786"
             ],
             [
              0.5555555555555556,
              "#d8576b"
             ],
             [
              0.6666666666666666,
              "#ed7953"
             ],
             [
              0.7777777777777778,
              "#fb9f3a"
             ],
             [
              0.8888888888888888,
              "#fdca26"
             ],
             [
              1,
              "#f0f921"
             ]
            ],
            "type": "histogram2dcontour"
           }
          ],
          "mesh3d": [
           {
            "colorbar": {
             "outlinewidth": 0,
             "ticks": ""
            },
            "type": "mesh3d"
           }
          ],
          "parcoords": [
           {
            "line": {
             "colorbar": {
              "outlinewidth": 0,
              "ticks": ""
             }
            },
            "type": "parcoords"
           }
          ],
          "pie": [
           {
            "automargin": true,
            "type": "pie"
           }
          ],
          "scatter": [
           {
            "fillpattern": {
             "fillmode": "overlay",
             "size": 10,
             "solidity": 0.2
            },
            "type": "scatter"
           }
          ],
          "scatter3d": [
           {
            "line": {
             "colorbar": {
              "outlinewidth": 0,
              "ticks": ""
             }
            },
            "marker": {
             "colorbar": {
              "outlinewidth": 0,
              "ticks": ""
             }
            },
            "type": "scatter3d"
           }
          ],
          "scattercarpet": [
           {
            "marker": {
             "colorbar": {
              "outlinewidth": 0,
              "ticks": ""
             }
            },
            "type": "scattercarpet"
           }
          ],
          "scattergeo": [
           {
            "marker": {
             "colorbar": {
              "outlinewidth": 0,
              "ticks": ""
             }
            },
            "type": "scattergeo"
           }
          ],
          "scattergl": [
           {
            "marker": {
             "colorbar": {
              "outlinewidth": 0,
              "ticks": ""
             }
            },
            "type": "scattergl"
           }
          ],
          "scattermapbox": [
           {
            "marker": {
             "colorbar": {
              "outlinewidth": 0,
              "ticks": ""
             }
            },
            "type": "scattermapbox"
           }
          ],
          "scatterpolar": [
           {
            "marker": {
             "colorbar": {
              "outlinewidth": 0,
              "ticks": ""
             }
            },
            "type": "scatterpolar"
           }
          ],
          "scatterpolargl": [
           {
            "marker": {
             "colorbar": {
              "outlinewidth": 0,
              "ticks": ""
             }
            },
            "type": "scatterpolargl"
           }
          ],
          "scatterternary": [
           {
            "marker": {
             "colorbar": {
              "outlinewidth": 0,
              "ticks": ""
             }
            },
            "type": "scatterternary"
           }
          ],
          "surface": [
           {
            "colorbar": {
             "outlinewidth": 0,
             "ticks": ""
            },
            "colorscale": [
             [
              0,
              "#0d0887"
             ],
             [
              0.1111111111111111,
              "#46039f"
             ],
             [
              0.2222222222222222,
              "#7201a8"
             ],
             [
              0.3333333333333333,
              "#9c179e"
             ],
             [
              0.4444444444444444,
              "#bd3786"
             ],
             [
              0.5555555555555556,
              "#d8576b"
             ],
             [
              0.6666666666666666,
              "#ed7953"
             ],
             [
              0.7777777777777778,
              "#fb9f3a"
             ],
             [
              0.8888888888888888,
              "#fdca26"
             ],
             [
              1,
              "#f0f921"
             ]
            ],
            "type": "surface"
           }
          ],
          "table": [
           {
            "cells": {
             "fill": {
              "color": "#EBF0F8"
             },
             "line": {
              "color": "white"
             }
            },
            "header": {
             "fill": {
              "color": "#C8D4E3"
             },
             "line": {
              "color": "white"
             }
            },
            "type": "table"
           }
          ]
         },
         "layout": {
          "annotationdefaults": {
           "arrowcolor": "#2a3f5f",
           "arrowhead": 0,
           "arrowwidth": 1
          },
          "autotypenumbers": "strict",
          "coloraxis": {
           "colorbar": {
            "outlinewidth": 0,
            "ticks": ""
           }
          },
          "colorscale": {
           "diverging": [
            [
             0,
             "#8e0152"
            ],
            [
             0.1,
             "#c51b7d"
            ],
            [
             0.2,
             "#de77ae"
            ],
            [
             0.3,
             "#f1b6da"
            ],
            [
             0.4,
             "#fde0ef"
            ],
            [
             0.5,
             "#f7f7f7"
            ],
            [
             0.6,
             "#e6f5d0"
            ],
            [
             0.7,
             "#b8e186"
            ],
            [
             0.8,
             "#7fbc41"
            ],
            [
             0.9,
             "#4d9221"
            ],
            [
             1,
             "#276419"
            ]
           ],
           "sequential": [
            [
             0,
             "#0d0887"
            ],
            [
             0.1111111111111111,
             "#46039f"
            ],
            [
             0.2222222222222222,
             "#7201a8"
            ],
            [
             0.3333333333333333,
             "#9c179e"
            ],
            [
             0.4444444444444444,
             "#bd3786"
            ],
            [
             0.5555555555555556,
             "#d8576b"
            ],
            [
             0.6666666666666666,
             "#ed7953"
            ],
            [
             0.7777777777777778,
             "#fb9f3a"
            ],
            [
             0.8888888888888888,
             "#fdca26"
            ],
            [
             1,
             "#f0f921"
            ]
           ],
           "sequentialminus": [
            [
             0,
             "#0d0887"
            ],
            [
             0.1111111111111111,
             "#46039f"
            ],
            [
             0.2222222222222222,
             "#7201a8"
            ],
            [
             0.3333333333333333,
             "#9c179e"
            ],
            [
             0.4444444444444444,
             "#bd3786"
            ],
            [
             0.5555555555555556,
             "#d8576b"
            ],
            [
             0.6666666666666666,
             "#ed7953"
            ],
            [
             0.7777777777777778,
             "#fb9f3a"
            ],
            [
             0.8888888888888888,
             "#fdca26"
            ],
            [
             1,
             "#f0f921"
            ]
           ]
          },
          "colorway": [
           "#636efa",
           "#EF553B",
           "#00cc96",
           "#ab63fa",
           "#FFA15A",
           "#19d3f3",
           "#FF6692",
           "#B6E880",
           "#FF97FF",
           "#FECB52"
          ],
          "font": {
           "color": "#2a3f5f"
          },
          "geo": {
           "bgcolor": "white",
           "lakecolor": "white",
           "landcolor": "#E5ECF6",
           "showlakes": true,
           "showland": true,
           "subunitcolor": "white"
          },
          "hoverlabel": {
           "align": "left"
          },
          "hovermode": "closest",
          "mapbox": {
           "style": "light"
          },
          "paper_bgcolor": "white",
          "plot_bgcolor": "#E5ECF6",
          "polar": {
           "angularaxis": {
            "gridcolor": "white",
            "linecolor": "white",
            "ticks": ""
           },
           "bgcolor": "#E5ECF6",
           "radialaxis": {
            "gridcolor": "white",
            "linecolor": "white",
            "ticks": ""
           }
          },
          "scene": {
           "xaxis": {
            "backgroundcolor": "#E5ECF6",
            "gridcolor": "white",
            "gridwidth": 2,
            "linecolor": "white",
            "showbackground": true,
            "ticks": "",
            "zerolinecolor": "white"
           },
           "yaxis": {
            "backgroundcolor": "#E5ECF6",
            "gridcolor": "white",
            "gridwidth": 2,
            "linecolor": "white",
            "showbackground": true,
            "ticks": "",
            "zerolinecolor": "white"
           },
           "zaxis": {
            "backgroundcolor": "#E5ECF6",
            "gridcolor": "white",
            "gridwidth": 2,
            "linecolor": "white",
            "showbackground": true,
            "ticks": "",
            "zerolinecolor": "white"
           }
          },
          "shapedefaults": {
           "line": {
            "color": "#2a3f5f"
           }
          },
          "ternary": {
           "aaxis": {
            "gridcolor": "white",
            "linecolor": "white",
            "ticks": ""
           },
           "baxis": {
            "gridcolor": "white",
            "linecolor": "white",
            "ticks": ""
           },
           "bgcolor": "#E5ECF6",
           "caxis": {
            "gridcolor": "white",
            "linecolor": "white",
            "ticks": ""
           }
          },
          "title": {
           "x": 0.05
          },
          "xaxis": {
           "automargin": true,
           "gridcolor": "white",
           "linecolor": "white",
           "ticks": "",
           "title": {
            "standoff": 15
           },
           "zerolinecolor": "white",
           "zerolinewidth": 2
          },
          "yaxis": {
           "automargin": true,
           "gridcolor": "white",
           "linecolor": "white",
           "ticks": "",
           "title": {
            "standoff": 15
           },
           "zerolinecolor": "white",
           "zerolinewidth": 2
          }
         }
        },
        "title": {
         "text": "Performance with Safe vs Unsafe Preprocessors"
        },
        "xaxis": {
         "anchor": "y",
         "domain": [
          0,
          1
         ],
         "title": {
          "text": "Preprocessor Type"
         }
        },
        "yaxis": {
         "anchor": "x",
         "domain": [
          0,
          1
         ],
         "title": {
          "text": "Rmse"
         }
        }
       }
      }
     },
     "metadata": {},
     "output_type": "display_data"
    }
   ],
   "source": [
    "\n",
    "# Condition on unsafe preprocessers\n",
    "unsafe_results = filtered_results[filtered_results[\"preprocessers\"].apply(\n",
    "    lambda x: any(y in unsafe_preproc for y in x)\n",
    ")]\n",
    "\n",
    "# Condition on safe preprocessers\n",
    "safe_results = filtered_results[filtered_results[\"preprocessers\"].apply(\n",
    "    lambda x: all(y in safe_preproc for y in x)\n",
    ")]\n",
    "\n",
    "# Create boxplot comparing safe vs unsafe preprocessers\n",
    "fig = px.box(\n",
    "    pd.concat([\n",
    "        safe_results.assign(preproc_type=f\"Safe\"),\n",
    "        unsafe_results.assign(preproc_type=f\"Unsafe ({unsafe_preproc})\")\n",
    "    ]),\n",
    "    x=\"preproc_type\",\n",
    "    y=metric,\n",
    "    points=\"outliers\",\n",
    "    color=\"model\",\n",
    "    title=\"Performance with Safe vs Unsafe Preprocessors\"\n",
    ")\n",
    "\n",
    "fig.update_layout(\n",
    "    xaxis_title=\"Preprocessor Type\",\n",
    "    yaxis_title=metric.replace(\"_\", \" \").title(),\n",
    "    showlegend=True,\n",
    "    boxmode='group'\n",
    ")"
   ]
  },
  {
   "cell_type": "code",
   "execution_count": 297,
   "metadata": {},
   "outputs": [],
   "source": [
    "\n",
    "fig.write_image(\n",
    "    OUTPUT_DIR / dataset / \"1d_boxplots\" / f\"{config_str}_safe_vs_unsafe_preprocessers.{image_ext}\",\n",
    "    height=SAVE_HEIGHT,\n",
    "    width=SAVE_WIDTH,\n",
    "    scale=2\n",
    ")"
   ]
  },
  {
   "cell_type": "code",
   "execution_count": null,
   "metadata": {},
   "outputs": [
    {
     "name": "stderr",
     "output_type": "stream",
     "text": [
      "2025-03-13 16:59:11,544 - analysis - INFO - \n",
      "Permutation Test Results for Safe vs Unsafe Preprocessors:\n",
      "2025-03-13 16:59:11,545 - analysis - INFO - Observed difference in means (safe - unsafe): -9065.66; n = 424, m = 136\n",
      "2025-03-13 16:59:11,546 - analysis - INFO - P-value: 0.0270\n",
      "2025-03-13 16:59:11,546 - analysis - INFO - Statistically different at 0.05 significance\n"
     ]
    }
   ],
   "source": [
    "# Run statistical test\n",
    "p_value, observed_diff = permutation_test(\n",
    "    safe_results[metric], \n",
    "    unsafe_results[metric]\n",
    ")\n",
    "\n",
    "logger.info(f\"\\nPermutation Test Results for Safe vs Unsafe Preprocessors:\")\n",
    "logger.info(f\"Observed difference in means (safe - unsafe): {observed_diff:.2f}; n = {len(safe_results)}, m = {len(unsafe_results)}\")\n",
    "logger.info(f\"P-value: {p_value:.4f}\")\n",
    "logger.info(f\"Statistically {'different' if p_value < alpha else 'not different'} at {alpha} significance\")\n"
   ]
  },
  {
   "cell_type": "markdown",
   "metadata": {},
   "source": [
    "## Systematically, each preprocesser"
   ]
  },
  {
   "cell_type": "code",
   "execution_count": null,
   "metadata": {},
   "outputs": [
    {
     "name": "stderr",
     "output_type": "stream",
     "text": [
      "2025-03-13 16:59:13,825 - analysis - INFO - \n",
      "Permutation Test Results for lowercase:\n",
      "2025-03-13 16:59:13,826 - analysis - INFO - Observed difference in means (with - without): 167.54; n = 196, m = 364\n",
      "2025-03-13 16:59:13,827 - analysis - INFO - P-value: 0.9642\n",
      "2025-03-13 16:59:13,827 - analysis - INFO - Statistically not different at 0.05 significance\n",
      "2025-03-13 16:59:16,072 - analysis - INFO - \n",
      "Permutation Test Results for no_punctuation:\n",
      "2025-03-13 16:59:16,073 - analysis - INFO - Observed difference in means (with - without): -4662.55; n = 168, m = 392\n",
      "2025-03-13 16:59:16,073 - analysis - INFO - P-value: 0.2292\n",
      "2025-03-13 16:59:16,074 - analysis - INFO - Statistically not different at 0.05 significance\n",
      "2025-03-13 16:59:18,331 - analysis - INFO - \n",
      "Permutation Test Results for no_stopwords_spacy:\n",
      "2025-03-13 16:59:18,331 - analysis - INFO - Observed difference in means (with - without): 9235.40; n = 104, m = 456\n",
      "2025-03-13 16:59:18,332 - analysis - INFO - P-value: 0.0408\n",
      "2025-03-13 16:59:18,333 - analysis - INFO - Statistically different at 0.05 significance\n",
      "2025-03-13 16:59:20,692 - analysis - INFO - \n",
      "Permutation Test Results for stem:\n",
      "2025-03-13 16:59:20,692 - analysis - INFO - Observed difference in means (with - without): 9065.66; n = 136, m = 424\n",
      "2025-03-13 16:59:20,693 - analysis - INFO - P-value: 0.0258\n",
      "2025-03-13 16:59:20,694 - analysis - INFO - Statistically different at 0.05 significance\n",
      "2025-03-13 16:59:23,409 - analysis - INFO - \n",
      "Permutation Test Results for no_stopwords_nltk:\n",
      "2025-03-13 16:59:23,409 - analysis - INFO - Observed difference in means (with - without): -6291.94; n = 100, m = 460\n",
      "2025-03-13 16:59:23,410 - analysis - INFO - P-value: 0.1698\n",
      "2025-03-13 16:59:23,411 - analysis - INFO - Statistically not different at 0.05 significance\n",
      "2025-03-13 16:59:25,953 - analysis - INFO - \n",
      "Permutation Test Results for empty:\n",
      "2025-03-13 16:59:25,954 - analysis - INFO - Observed difference in means (with - without): -9275.29; n = 168, m = 392\n",
      "2025-03-13 16:59:25,954 - analysis - INFO - P-value: 0.0146\n",
      "2025-03-13 16:59:25,955 - analysis - INFO - Statistically different at 0.05 significance\n",
      "2025-03-13 16:59:28,202 - analysis - INFO - \n",
      "Permutation Test Results for lemmatize:\n",
      "2025-03-13 16:59:28,203 - analysis - INFO - Observed difference in means (with - without): -8318.78; n = 136, m = 424\n",
      "2025-03-13 16:59:28,203 - analysis - INFO - P-value: 0.0420\n",
      "2025-03-13 16:59:28,204 - analysis - INFO - Statistically different at 0.05 significance\n"
     ]
    }
   ],
   "source": [
    "# Create plots for each preprocesser showing performance with/without\n",
    "\n",
    "for preprocesser in all_preproc:\n",
    "    # Create mask for results that include this preprocesser\n",
    "    uses_specifically = filtered_results['preprocessers'].apply(lambda x: preprocesser in x)\n",
    "    \n",
    "    # Split data\n",
    "    with_prep = filtered_results[uses_specifically].copy()\n",
    "    without_prep = filtered_results[~uses_specifically].copy()\n",
    "    \n",
    "    # Add labels\n",
    "    with_prep['preprocesser_usage'] = f'With {preprocesser}'\n",
    "    without_prep['preprocesser_usage'] = f'Without {preprocesser}'\n",
    "    \n",
    "    # Combine data\n",
    "    plot_data = pd.concat([with_prep, without_prep])\n",
    "    \n",
    "    # Create plot\n",
    "    fig = px.box(\n",
    "        plot_data,\n",
    "        x='preprocesser_usage',\n",
    "        y=metric,\n",
    "        color='model',\n",
    "        points='outliers',\n",
    "        title=f'Performance With vs Without {preprocesser}'\n",
    "    )\n",
    "    \n",
    "    fig.update_layout(\n",
    "        xaxis_title='Preprocesser Usage',\n",
    "        yaxis_title=metric.replace('_', ' ').title(),\n",
    "        showlegend=True,\n",
    "        boxmode='group'\n",
    "    )\n",
    "    \n",
    "    # Save plot\n",
    "    plot_dir = OUTPUT_DIR / dataset / '1d_boxplots' / 'preprocessers'\n",
    "    plot_dir.mkdir(parents=True, exist_ok=True)\n",
    "    fig.write_image(\n",
    "        plot_dir / f'{config_str}_with_without_{preprocesser}.{image_ext}',\n",
    "        height=SAVE_HEIGHT,\n",
    "        width=SAVE_WIDTH,\n",
    "        scale=2\n",
    "    )\n",
    "    \n",
    "    # Run statistical test\n",
    "    p_value, observed_diff = permutation_test(\n",
    "        with_prep[metric],\n",
    "        without_prep[metric]\n",
    "    )\n",
    "    \n",
    "    logger.info(f\"\\nPermutation Test Results for {preprocesser}:\")\n",
    "    logger.info(f\"Observed difference in means (with - without): {observed_diff:.2f}; n = {len(with_prep)}, m = {len(without_prep)}\")\n",
    "    logger.info(f\"P-value: {p_value:.4f}\")\n",
    "    logger.info(f\"Statistically {'different' if p_value < alpha else 'not different'} at {alpha} significance\")\n",
    "\n"
   ]
  },
  {
   "cell_type": "markdown",
   "metadata": {},
   "source": [
    "Conclusion seems to be: don't use stemming; at least when looking at the model partitioned plots.\n",
    "\n",
    "Stopword removal also works irrespective of pipeline?"
   ]
  },
  {
   "cell_type": "markdown",
   "metadata": {},
   "source": [
    "# Vector embeddings for GBDTs"
   ]
  },
  {
   "cell_type": "code",
   "execution_count": null,
   "metadata": {},
   "outputs": [
    {
     "name": "stdout",
     "output_type": "stream",
     "text": [
      "Saved to notebook_output/online_boat_listings/1d_boxplots/rmse_only_4_replicates_gbdt_w_wout_vec_embeddings_no_outliers.png\n",
      "Model order: ['catboost', 'xgboost']\n"
     ]
    }
   ],
   "source": [
    "vector_embeddings = [\"bert_cls\", \"bert_mean\", \"glove_mean\"]\n",
    "dl_models = [\"mlp\", \"resnet\", \"deep_linear\"]\n",
    "dl_models = dl_models + [f\"{x}_ft\" for x in dl_models]\n",
    "trad_nlp_with_dl_feat = filtered_results[\n",
    "    (~filtered_results[\"model\"].isin(dl_models)) &\n",
    "    (filtered_results[\"featuriser\"].isin(vector_embeddings))\n",
    "]\n",
    "trad_nlp_without_dl_feat = filtered_results[\n",
    "    (~filtered_results[\"model\"].isin(dl_models)) &\n",
    "    (~filtered_results[\"featuriser\"].isin(vector_embeddings))\n",
    "]\n",
    "trad_nlp_with_dl_feat = trad_nlp_with_dl_feat.sort_values(by=metric).reset_index(drop=True)\n",
    "trad_nlp_without_dl_feat = trad_nlp_without_dl_feat.sort_values(by=metric).reset_index(drop=True)\n",
    "\n",
    "w_embedding_label = \"w/ Vector Embeddings\"\n",
    "wout_embedding_label = \"w/o Vector Embeddings\"\n",
    "trad_nlp_with_dl_feat[\"model_type\"] = w_embedding_label\n",
    "trad_nlp_without_dl_feat[\"model_type\"] = wout_embedding_label\n",
    "joint = pd.concat([trad_nlp_with_dl_feat, trad_nlp_without_dl_feat])\n",
    "# Get unique models from both dataframes\n",
    "all_models = pd.concat([\n",
    "    trad_nlp_with_dl_feat['model'], \n",
    "    trad_nlp_without_dl_feat['model']\n",
    "]).unique()\n",
    "\n",
    "# Create color mapping using plotly's default color sequence\n",
    "from plotly.colors import qualitative\n",
    "def iqr_threshold(series):\n",
    "    q1 = series.quantile(0.25)\n",
    "    q3 = series.quantile(0.75)\n",
    "    return q3 + 1.5 * (q3 - q1) \n",
    "model_colors = {\n",
    "    model: qualitative.Set1[i] for i, model in enumerate(sorted(all_models))\n",
    "}\n",
    "model_order = sorted(all_models)\n",
    "\n",
    "save_name = f\"{config_str}_gbdt_w_wout_vec_embeddings\"\n",
    "\n",
    "to_plot = joint\n",
    "fig = px.box(\n",
    "    to_plot,\n",
    "    x=\"model_type\",\n",
    "    y=metric,\n",
    "    color=\"model\",\n",
    "    points=\"outliers\",\n",
    "    color_discrete_map=model_colors,  # Add this line,\n",
    "    category_orders={\"model\": model_order, \"model_type\": [w_embedding_label, wout_embedding_label]}\n",
    ")\n",
    "# fig.update_layout(title=\"Traditional NLP w/ and w/out vector embeddings\")\n",
    "fig.add_hline(y=perf_of_mean, line_dash=\"dash\", line_color=\"gray\")\n",
    "\n",
    "fig.write_image(\n",
    "    OUTPUT_DIR / dataset / \"1d_boxplots\" / f\"{save_name}.{image_ext}\",\n",
    "    height=SAVE_HEIGHT,\n",
    "    width=SAVE_WIDTH,\n",
    "    scale=2\n",
    ")\n",
    "\n",
    "# Replicate figure without outliers for easier reading\n",
    "\n",
    "save_name += \"_no_outliers\"\n",
    "threshold = iqr_threshold(joint[metric])\n",
    "k = 10\n",
    "without_worst_k = joint.sort_values(by=metric).head(len(joint)-k)\n",
    "to_plot = without_worst_k\n",
    "fig = px.box(\n",
    "    to_plot,\n",
    "    x=\"model_type\",\n",
    "    y=metric,\n",
    "    color=\"model\",\n",
    "    points=\"outliers\",\n",
    "    color_discrete_map=model_colors,  # Add this line,\n",
    "    category_orders={\"model\": model_order, \"model_type\": [w_embedding_label, wout_embedding_label]}\n",
    ")\n",
    "# fig.update_layout(title=\"Traditional NLP w/ and w/out vector embeddings\")\n",
    "fig.add_hline(y=perf_of_mean, line_dash=\"dash\", line_color=\"gray\")\n",
    "\n",
    "fig.write_image(\n",
    "    OUTPUT_DIR / dataset / \"1d_boxplots\" / f\"{save_name}.{image_ext}\",\n",
    "    height=SAVE_HEIGHT,\n",
    "    width=SAVE_WIDTH,\n",
    "    scale=2\n",
    ")\n",
    "print(f\"Saved to {OUTPUT_DIR / dataset / '1d_boxplots' / f'{save_name}.{image_ext}'}\")\n",
    "print(f\"Model order: {model_order}\")"
   ]
  },
  {
   "cell_type": "code",
   "execution_count": 301,
   "metadata": {},
   "outputs": [],
   "source": [
    "# Get scores for each group\n",
    "with_vec = trad_nlp_with_dl_feat[metric].values\n",
    "without_vec = trad_nlp_without_dl_feat[metric].values\n",
    "\n",
    "# Perform permutation test\n",
    "p_value, diff = permutation_test(without_vec, with_vec)\n",
    "comparison_df = pd.DataFrame({\n",
    "    'dataset': [dataset_name_map[dataset]],\n",
    "    'mean_difference (BoW - Vector)': [diff],\n",
    "    'p_value': [p_value]\n",
    "})\n",
    "\n",
    "latex_table = comparison_df.to_latex(\n",
    "    index=False,\n",
    "    float_format=lambda x: f\"{x:.3f}\"\n",
    ")\n",
    "latex_table = process_latex_table(latex_table)\n",
    "with open(table_dir / f\"{config_str}_compare_gbdt_w_wout_vec_embeddings.tex\", \"w\") as f:\n",
    "    f.write(latex_table)\n"
   ]
  },
  {
   "cell_type": "markdown",
   "metadata": {},
   "source": [
    "# Should we choose CLS or Mean?"
   ]
  },
  {
   "cell_type": "code",
   "execution_count": 302,
   "metadata": {},
   "outputs": [
    {
     "name": "stderr",
     "output_type": "stream",
     "text": [
      "2025-03-13 16:59:30,600 - analysis - INFO - Mann-Whitney U test results:\n",
      "2025-03-13 16:59:30,602 - analysis - INFO - Statistic: 3860.0\n",
      "2025-03-13 16:59:30,603 - analysis - INFO - p-value: 0.9917286754498297\n",
      "2025-03-13 16:59:30,605 - analysis - INFO - No difference between BERT CLS and BERT MEAN at 0.05 significance\n"
     ]
    },
    {
     "data": {
      "application/vnd.plotly.v1+json": {
       "config": {
        "plotlyServerURL": "https://plot.ly"
       },
       "data": [
        {
         "boxpoints": "all",
         "jitter": 0.3,
         "name": "BERT CLS",
         "pointpos": -1.8,
         "type": "box",
         "y": [
          337746.86665508786,
          346313.46323340846,
          348540.27524561045,
          349111.8787168715,
          350960.2007643338,
          352394.7043239373,
          353284.9527075714,
          356326.4180732475,
          358523.73346031795,
          363199.5183173384,
          367595.66886785923,
          368390.24026379496,
          369647.6921583041,
          370967.63447614777,
          372846.7401907872,
          378061.822816205,
          380451.53508466046,
          382397.844844982,
          383929.9266422194,
          384076.5600807728,
          384469.975052606,
          385162.1944463041,
          385723.64418557216,
          386215.3508926513,
          387953.2575538742,
          388051.294897365,
          388051.294897365,
          395270.02631568315,
          402840.64352808235,
          406795.2643825645,
          407503.50923593785,
          408167.7659423436,
          411894.77775569144,
          412564.10193409305,
          413413.5943788485,
          415046.2346218933,
          415094.9502398446,
          415095.3901420976,
          415776.085689703,
          416362.671237393,
          417163.94496406807,
          417434.2901258469,
          417434.2901258469,
          420605.1372795737,
          421569.00068676,
          423167.0715369111,
          424033.23032691894,
          425283.61176461505,
          427508.88355006464,
          428276.45146332344,
          429154.9872398402,
          429813.423371997,
          430443.5232348798,
          438093.86793271324,
          438645.4216585745,
          444247.5154916731,
          444336.8142651942,
          444738.6170237336,
          444780.8366785479,
          445060.9456550943,
          445433.5031652994,
          445446.7029740373,
          446076.4574828623,
          446404.43250712566,
          446437.4887443529,
          446556.97803347494,
          446860.2708068473,
          447076.9172635202,
          447154.1525349732,
          447491.15594300115,
          447517.1225835086,
          447711.8044193485,
          447711.8044193485,
          448440.04934350634,
          448822.9267826487,
          448822.9267826487,
          448858.4883717732,
          449019.67346542655,
          449087.50937029306,
          450304.8234123343,
          451075.24228190165,
          452378.95756362256,
          452378.95756362256,
          462808.3626951324,
          465991.10082272155,
          467834.14214701287,
          467834.14214701287,
          468535.54640791053,
          471825.8542398566,
          483694.6866001213,
          862748.9117204304,
          862748.9117204304
         ]
        },
        {
         "boxpoints": "all",
         "jitter": 0.3,
         "name": "BERT MEAN",
         "pointpos": -1.8,
         "type": "box",
         "y": [
          334672.92449431383,
          339429.7416737401,
          343361.3299350616,
          346809.51221742004,
          349702.19851147896,
          352763.5305858744,
          354193.5621144301,
          355669.7413590963,
          357138.704818284,
          357720.2200352138,
          358526.79820114473,
          361746.952636373,
          363053.0053446076,
          366746.5185878444,
          371710.9012912332,
          374681.4216982677,
          376259.96339778986,
          379145.85592737433,
          381955.0499252306,
          386492.001884938,
          394577.264598652,
          396054.37676723313,
          396123.6977184519,
          400676.5441727689,
          403995.3708323375,
          405717.5810615458,
          405717.5810615458,
          407256.3791271824,
          413649.08886411757,
          413649.08886411757,
          415172.32942359796,
          415172.3306701235,
          416511.92796280613,
          416511.92796280613,
          419114.3477417875,
          421744.9318997668,
          421744.9318997668,
          422947.87093596853,
          422947.87093596853,
          423376.9763464382,
          423376.9763464382,
          425228.3808474518,
          427292.3438428816,
          427292.3438428816,
          430275.8015979762,
          437803.8549145582,
          437803.8549145582,
          440928.6791278855,
          443242.09552516014,
          443457.89181777876,
          443457.89181777876,
          443483.13568465674,
          443657.9285801291,
          443849.253163325,
          444699.84747369867,
          445069.9636990243,
          445112.59170021466,
          446217.97790027515,
          446255.1935775132,
          446367.26108071615,
          446368.7375555212,
          446372.370931561,
          446625.15844698605,
          446739.68083921284,
          446744.2694030698,
          446931.005456738,
          447057.7277233868,
          447382.7276325274,
          448124.03439905593,
          448749.9873385829,
          448782.32447537984,
          450077.29813055956,
          453542.93573099957,
          453551.9327347001,
          454222.8775785273,
          456395.9446480326,
          459115.7829798387,
          469936.3492125527,
          470172.0378009795,
          478348.3890198714,
          481756.57531386643,
          481756.57531386643,
          550691.2052433431,
          550691.2052433431
         ]
        }
       ],
       "layout": {
        "showlegend": true,
        "template": {
         "data": {
          "bar": [
           {
            "error_x": {
             "color": "#2a3f5f"
            },
            "error_y": {
             "color": "#2a3f5f"
            },
            "marker": {
             "line": {
              "color": "#E5ECF6",
              "width": 0.5
             },
             "pattern": {
              "fillmode": "overlay",
              "size": 10,
              "solidity": 0.2
             }
            },
            "type": "bar"
           }
          ],
          "barpolar": [
           {
            "marker": {
             "line": {
              "color": "#E5ECF6",
              "width": 0.5
             },
             "pattern": {
              "fillmode": "overlay",
              "size": 10,
              "solidity": 0.2
             }
            },
            "type": "barpolar"
           }
          ],
          "carpet": [
           {
            "aaxis": {
             "endlinecolor": "#2a3f5f",
             "gridcolor": "white",
             "linecolor": "white",
             "minorgridcolor": "white",
             "startlinecolor": "#2a3f5f"
            },
            "baxis": {
             "endlinecolor": "#2a3f5f",
             "gridcolor": "white",
             "linecolor": "white",
             "minorgridcolor": "white",
             "startlinecolor": "#2a3f5f"
            },
            "type": "carpet"
           }
          ],
          "choropleth": [
           {
            "colorbar": {
             "outlinewidth": 0,
             "ticks": ""
            },
            "type": "choropleth"
           }
          ],
          "contour": [
           {
            "colorbar": {
             "outlinewidth": 0,
             "ticks": ""
            },
            "colorscale": [
             [
              0,
              "#0d0887"
             ],
             [
              0.1111111111111111,
              "#46039f"
             ],
             [
              0.2222222222222222,
              "#7201a8"
             ],
             [
              0.3333333333333333,
              "#9c179e"
             ],
             [
              0.4444444444444444,
              "#bd3786"
             ],
             [
              0.5555555555555556,
              "#d8576b"
             ],
             [
              0.6666666666666666,
              "#ed7953"
             ],
             [
              0.7777777777777778,
              "#fb9f3a"
             ],
             [
              0.8888888888888888,
              "#fdca26"
             ],
             [
              1,
              "#f0f921"
             ]
            ],
            "type": "contour"
           }
          ],
          "contourcarpet": [
           {
            "colorbar": {
             "outlinewidth": 0,
             "ticks": ""
            },
            "type": "contourcarpet"
           }
          ],
          "heatmap": [
           {
            "colorbar": {
             "outlinewidth": 0,
             "ticks": ""
            },
            "colorscale": [
             [
              0,
              "#0d0887"
             ],
             [
              0.1111111111111111,
              "#46039f"
             ],
             [
              0.2222222222222222,
              "#7201a8"
             ],
             [
              0.3333333333333333,
              "#9c179e"
             ],
             [
              0.4444444444444444,
              "#bd3786"
             ],
             [
              0.5555555555555556,
              "#d8576b"
             ],
             [
              0.6666666666666666,
              "#ed7953"
             ],
             [
              0.7777777777777778,
              "#fb9f3a"
             ],
             [
              0.8888888888888888,
              "#fdca26"
             ],
             [
              1,
              "#f0f921"
             ]
            ],
            "type": "heatmap"
           }
          ],
          "heatmapgl": [
           {
            "colorbar": {
             "outlinewidth": 0,
             "ticks": ""
            },
            "colorscale": [
             [
              0,
              "#0d0887"
             ],
             [
              0.1111111111111111,
              "#46039f"
             ],
             [
              0.2222222222222222,
              "#7201a8"
             ],
             [
              0.3333333333333333,
              "#9c179e"
             ],
             [
              0.4444444444444444,
              "#bd3786"
             ],
             [
              0.5555555555555556,
              "#d8576b"
             ],
             [
              0.6666666666666666,
              "#ed7953"
             ],
             [
              0.7777777777777778,
              "#fb9f3a"
             ],
             [
              0.8888888888888888,
              "#fdca26"
             ],
             [
              1,
              "#f0f921"
             ]
            ],
            "type": "heatmapgl"
           }
          ],
          "histogram": [
           {
            "marker": {
             "pattern": {
              "fillmode": "overlay",
              "size": 10,
              "solidity": 0.2
             }
            },
            "type": "histogram"
           }
          ],
          "histogram2d": [
           {
            "colorbar": {
             "outlinewidth": 0,
             "ticks": ""
            },
            "colorscale": [
             [
              0,
              "#0d0887"
             ],
             [
              0.1111111111111111,
              "#46039f"
             ],
             [
              0.2222222222222222,
              "#7201a8"
             ],
             [
              0.3333333333333333,
              "#9c179e"
             ],
             [
              0.4444444444444444,
              "#bd3786"
             ],
             [
              0.5555555555555556,
              "#d8576b"
             ],
             [
              0.6666666666666666,
              "#ed7953"
             ],
             [
              0.7777777777777778,
              "#fb9f3a"
             ],
             [
              0.8888888888888888,
              "#fdca26"
             ],
             [
              1,
              "#f0f921"
             ]
            ],
            "type": "histogram2d"
           }
          ],
          "histogram2dcontour": [
           {
            "colorbar": {
             "outlinewidth": 0,
             "ticks": ""
            },
            "colorscale": [
             [
              0,
              "#0d0887"
             ],
             [
              0.1111111111111111,
              "#46039f"
             ],
             [
              0.2222222222222222,
              "#7201a8"
             ],
             [
              0.3333333333333333,
              "#9c179e"
             ],
             [
              0.4444444444444444,
              "#bd3786"
             ],
             [
              0.5555555555555556,
              "#d8576b"
             ],
             [
              0.6666666666666666,
              "#ed7953"
             ],
             [
              0.7777777777777778,
              "#fb9f3a"
             ],
             [
              0.8888888888888888,
              "#fdca26"
             ],
             [
              1,
              "#f0f921"
             ]
            ],
            "type": "histogram2dcontour"
           }
          ],
          "mesh3d": [
           {
            "colorbar": {
             "outlinewidth": 0,
             "ticks": ""
            },
            "type": "mesh3d"
           }
          ],
          "parcoords": [
           {
            "line": {
             "colorbar": {
              "outlinewidth": 0,
              "ticks": ""
             }
            },
            "type": "parcoords"
           }
          ],
          "pie": [
           {
            "automargin": true,
            "type": "pie"
           }
          ],
          "scatter": [
           {
            "fillpattern": {
             "fillmode": "overlay",
             "size": 10,
             "solidity": 0.2
            },
            "type": "scatter"
           }
          ],
          "scatter3d": [
           {
            "line": {
             "colorbar": {
              "outlinewidth": 0,
              "ticks": ""
             }
            },
            "marker": {
             "colorbar": {
              "outlinewidth": 0,
              "ticks": ""
             }
            },
            "type": "scatter3d"
           }
          ],
          "scattercarpet": [
           {
            "marker": {
             "colorbar": {
              "outlinewidth": 0,
              "ticks": ""
             }
            },
            "type": "scattercarpet"
           }
          ],
          "scattergeo": [
           {
            "marker": {
             "colorbar": {
              "outlinewidth": 0,
              "ticks": ""
             }
            },
            "type": "scattergeo"
           }
          ],
          "scattergl": [
           {
            "marker": {
             "colorbar": {
              "outlinewidth": 0,
              "ticks": ""
             }
            },
            "type": "scattergl"
           }
          ],
          "scattermapbox": [
           {
            "marker": {
             "colorbar": {
              "outlinewidth": 0,
              "ticks": ""
             }
            },
            "type": "scattermapbox"
           }
          ],
          "scatterpolar": [
           {
            "marker": {
             "colorbar": {
              "outlinewidth": 0,
              "ticks": ""
             }
            },
            "type": "scatterpolar"
           }
          ],
          "scatterpolargl": [
           {
            "marker": {
             "colorbar": {
              "outlinewidth": 0,
              "ticks": ""
             }
            },
            "type": "scatterpolargl"
           }
          ],
          "scatterternary": [
           {
            "marker": {
             "colorbar": {
              "outlinewidth": 0,
              "ticks": ""
             }
            },
            "type": "scatterternary"
           }
          ],
          "surface": [
           {
            "colorbar": {
             "outlinewidth": 0,
             "ticks": ""
            },
            "colorscale": [
             [
              0,
              "#0d0887"
             ],
             [
              0.1111111111111111,
              "#46039f"
             ],
             [
              0.2222222222222222,
              "#7201a8"
             ],
             [
              0.3333333333333333,
              "#9c179e"
             ],
             [
              0.4444444444444444,
              "#bd3786"
             ],
             [
              0.5555555555555556,
              "#d8576b"
             ],
             [
              0.6666666666666666,
              "#ed7953"
             ],
             [
              0.7777777777777778,
              "#fb9f3a"
             ],
             [
              0.8888888888888888,
              "#fdca26"
             ],
             [
              1,
              "#f0f921"
             ]
            ],
            "type": "surface"
           }
          ],
          "table": [
           {
            "cells": {
             "fill": {
              "color": "#EBF0F8"
             },
             "line": {
              "color": "white"
             }
            },
            "header": {
             "fill": {
              "color": "#C8D4E3"
             },
             "line": {
              "color": "white"
             }
            },
            "type": "table"
           }
          ]
         },
         "layout": {
          "annotationdefaults": {
           "arrowcolor": "#2a3f5f",
           "arrowhead": 0,
           "arrowwidth": 1
          },
          "autotypenumbers": "strict",
          "coloraxis": {
           "colorbar": {
            "outlinewidth": 0,
            "ticks": ""
           }
          },
          "colorscale": {
           "diverging": [
            [
             0,
             "#8e0152"
            ],
            [
             0.1,
             "#c51b7d"
            ],
            [
             0.2,
             "#de77ae"
            ],
            [
             0.3,
             "#f1b6da"
            ],
            [
             0.4,
             "#fde0ef"
            ],
            [
             0.5,
             "#f7f7f7"
            ],
            [
             0.6,
             "#e6f5d0"
            ],
            [
             0.7,
             "#b8e186"
            ],
            [
             0.8,
             "#7fbc41"
            ],
            [
             0.9,
             "#4d9221"
            ],
            [
             1,
             "#276419"
            ]
           ],
           "sequential": [
            [
             0,
             "#0d0887"
            ],
            [
             0.1111111111111111,
             "#46039f"
            ],
            [
             0.2222222222222222,
             "#7201a8"
            ],
            [
             0.3333333333333333,
             "#9c179e"
            ],
            [
             0.4444444444444444,
             "#bd3786"
            ],
            [
             0.5555555555555556,
             "#d8576b"
            ],
            [
             0.6666666666666666,
             "#ed7953"
            ],
            [
             0.7777777777777778,
             "#fb9f3a"
            ],
            [
             0.8888888888888888,
             "#fdca26"
            ],
            [
             1,
             "#f0f921"
            ]
           ],
           "sequentialminus": [
            [
             0,
             "#0d0887"
            ],
            [
             0.1111111111111111,
             "#46039f"
            ],
            [
             0.2222222222222222,
             "#7201a8"
            ],
            [
             0.3333333333333333,
             "#9c179e"
            ],
            [
             0.4444444444444444,
             "#bd3786"
            ],
            [
             0.5555555555555556,
             "#d8576b"
            ],
            [
             0.6666666666666666,
             "#ed7953"
            ],
            [
             0.7777777777777778,
             "#fb9f3a"
            ],
            [
             0.8888888888888888,
             "#fdca26"
            ],
            [
             1,
             "#f0f921"
            ]
           ]
          },
          "colorway": [
           "#636efa",
           "#EF553B",
           "#00cc96",
           "#ab63fa",
           "#FFA15A",
           "#19d3f3",
           "#FF6692",
           "#B6E880",
           "#FF97FF",
           "#FECB52"
          ],
          "font": {
           "color": "#2a3f5f"
          },
          "geo": {
           "bgcolor": "white",
           "lakecolor": "white",
           "landcolor": "#E5ECF6",
           "showlakes": true,
           "showland": true,
           "subunitcolor": "white"
          },
          "hoverlabel": {
           "align": "left"
          },
          "hovermode": "closest",
          "mapbox": {
           "style": "light"
          },
          "paper_bgcolor": "white",
          "plot_bgcolor": "#E5ECF6",
          "polar": {
           "angularaxis": {
            "gridcolor": "white",
            "linecolor": "white",
            "ticks": ""
           },
           "bgcolor": "#E5ECF6",
           "radialaxis": {
            "gridcolor": "white",
            "linecolor": "white",
            "ticks": ""
           }
          },
          "scene": {
           "xaxis": {
            "backgroundcolor": "#E5ECF6",
            "gridcolor": "white",
            "gridwidth": 2,
            "linecolor": "white",
            "showbackground": true,
            "ticks": "",
            "zerolinecolor": "white"
           },
           "yaxis": {
            "backgroundcolor": "#E5ECF6",
            "gridcolor": "white",
            "gridwidth": 2,
            "linecolor": "white",
            "showbackground": true,
            "ticks": "",
            "zerolinecolor": "white"
           },
           "zaxis": {
            "backgroundcolor": "#E5ECF6",
            "gridcolor": "white",
            "gridwidth": 2,
            "linecolor": "white",
            "showbackground": true,
            "ticks": "",
            "zerolinecolor": "white"
           }
          },
          "shapedefaults": {
           "line": {
            "color": "#2a3f5f"
           }
          },
          "ternary": {
           "aaxis": {
            "gridcolor": "white",
            "linecolor": "white",
            "ticks": ""
           },
           "baxis": {
            "gridcolor": "white",
            "linecolor": "white",
            "ticks": ""
           },
           "bgcolor": "#E5ECF6",
           "caxis": {
            "gridcolor": "white",
            "linecolor": "white",
            "ticks": ""
           }
          },
          "title": {
           "x": 0.05
          },
          "xaxis": {
           "automargin": true,
           "gridcolor": "white",
           "linecolor": "white",
           "ticks": "",
           "title": {
            "standoff": 15
           },
           "zerolinecolor": "white",
           "zerolinewidth": 2
          },
          "yaxis": {
           "automargin": true,
           "gridcolor": "white",
           "linecolor": "white",
           "ticks": "",
           "title": {
            "standoff": 15
           },
           "zerolinecolor": "white",
           "zerolinewidth": 2
          }
         }
        },
        "title": {
         "text": "RMSE Distribution: BERT CLS vs MEAN"
        },
        "yaxis": {
         "title": {
          "text": "RMSE"
         }
        }
       }
      }
     },
     "metadata": {},
     "output_type": "display_data"
    }
   ],
   "source": [
    "# Extract RMSE values for CLS and MEAN\n",
    "cls_rmse = filtered_results[filtered_results['featuriser'] == 'bert_cls'][metric]\n",
    "mean_rmse = filtered_results[filtered_results['featuriser'] == 'bert_mean'][metric]\n",
    "\n",
    "# Perform Mann-Whitney U test since we can't assume normality\n",
    "statistic, p_value = stats.mannwhitneyu(cls_rmse, mean_rmse, alternative='two-sided')\n",
    "\n",
    "logger.info(f\"Mann-Whitney U test results:\")\n",
    "logger.info(f\"Statistic: {statistic}\")\n",
    "logger.info(f\"p-value: {p_value}\")\n",
    "if p_value < alpha:\n",
    "    logger.info(f\"There is a difference between BERT CLS and BERT MEAN at {alpha} significance\")\n",
    "else:\n",
    "    logger.info(f\"No difference between BERT CLS and BERT MEAN at {alpha} significance\")\n",
    "\n",
    "# Create box plot comparing distributions\n",
    "fig = go.Figure()\n",
    "\n",
    "fig.add_trace(go.Box(\n",
    "    y=cls_rmse,\n",
    "    name='BERT CLS',\n",
    "    boxpoints='all',\n",
    "    jitter=0.3,\n",
    "    pointpos=-1.8\n",
    "))\n",
    "\n",
    "fig.add_trace(go.Box(\n",
    "    y=mean_rmse,\n",
    "    name='BERT MEAN', \n",
    "    boxpoints='all',\n",
    "    jitter=0.3,\n",
    "    pointpos=-1.8\n",
    "))\n",
    "\n",
    "fig.update_layout(\n",
    "    title='RMSE Distribution: BERT CLS vs MEAN',\n",
    "    yaxis_title='RMSE',\n",
    "    showlegend=True\n",
    ")\n",
    "\n",
    "fig.show()\n"
   ]
  },
  {
   "cell_type": "markdown",
   "metadata": {},
   "source": [
    "# Can we look at spread associated with choosing a model?"
   ]
  },
  {
   "cell_type": "code",
   "execution_count": 303,
   "metadata": {},
   "outputs": [],
   "source": [
    "to_analyze = filtered_results.copy()\n",
    "nlp_steps = [\"preprocesser(s)\", \"tokeniser\", \"featuriser\"]\n",
    "to_analyze[\"nlp_hash\"] = to_analyze[nlp_steps].apply(lambda x: \"_\".join(x), axis=1)"
   ]
  },
  {
   "cell_type": "markdown",
   "metadata": {},
   "source": [
    "## Expected Variance/Standard deviation"
   ]
  },
  {
   "cell_type": "code",
   "execution_count": 349,
   "metadata": {},
   "outputs": [],
   "source": [
    "from itertools import chain\n",
    "def expected_agg_over_model(aggregate, df, verbose=False):\n",
    "    \"\"\" \n",
    "    Gets V(Model)\n",
    "    \"\"\"\n",
    "    sub_pipeline_cols = [\"preprocesser(s)\", \"tokeniser\", \"featuriser\"]\n",
    "    # First remove variance from choosing replicate\n",
    "    hashable_replicates = df.copy()\n",
    "    hashable_replicates = hashable_replicates.groupby(sub_pipeline_cols+[\"model\"]).agg(\n",
    "        {metric: \"mean\", \"seed\": \"count\"}\n",
    "    ).reset_index()\n",
    "    hashable_replicates[\"upstream_hash\"] = hashable_replicates[sub_pipeline_cols].apply(lambda x: \"_\".join(x), axis=1)\n",
    "    # Find every pipeline that has just the model different at least once\n",
    "    replicate_idx = hashable_replicates.duplicated(subset=\"upstream_hash\", keep=False)\n",
    "    aggregate_dict = {\n",
    "        metric: aggregate\n",
    "    }\n",
    "    if verbose:\n",
    "        aggregate_dict[\"model\"] = lambda row: \",\".join(row.values)\n",
    "    variance_from_choosing_model = hashable_replicates[replicate_idx].groupby(\"upstream_hash\").agg(\n",
    "        aggregate_dict\n",
    "    )\n",
    "    result = variance_from_choosing_model.reset_index()\n",
    "    expected_variance_from_choosing_model = variance_from_choosing_model[metric].mean()\n",
    "    logger.info(f\"Expected {aggregate} from choosing model: {expected_variance_from_choosing_model:.2f}\")\n",
    "    return result, expected_variance_from_choosing_model"
   ]
  },
  {
   "cell_type": "code",
   "execution_count": 364,
   "metadata": {},
   "outputs": [],
   "source": [
    "def expected_agg_over_step(aggregate, df, step=\"model\"):\n",
    "    # Find every pipeline that has a fixed model but varying pipeline\n",
    "    # We guarantee that each model has duplicates in the dataset\n",
    "    to_analyze = df.copy()\n",
    "    to_analyze = to_analyze.groupby([\"preprocesser(s)\", \"tokeniser\", \"featuriser\", \"model\"]).agg(\n",
    "        {metric: \"mean\", \"seed\": \"count\"}\n",
    "    ).reset_index()\n",
    "    variance_per_model = to_analyze.groupby(step).agg(\n",
    "        {metric: aggregate, \"seed\": \"count\"}\n",
    "    )\n",
    "    result = variance_per_model.reset_index()\n",
    "    variance_marginalised_over_model = variance_per_model[metric].mean()\n",
    "    logger.info(f\"Expected {aggregate} from choosing everything else marginalised over {step}: {variance_marginalised_over_model:.2f}\")\n",
    "    return result, variance_marginalised_over_model"
   ]
  },
  {
   "cell_type": "code",
   "execution_count": 365,
   "metadata": {},
   "outputs": [],
   "source": [
    "def expected_agg_over_replicate(aggregate, df):\n",
    "    pipeline_cols = [\"preprocesser(s)\", \"tokeniser\", \"featuriser\", \"model\"]\n",
    "    hashable_replicates = df.copy()\n",
    "    hashable_replicates[\"hash\"] = hashable_replicates[pipeline_cols].apply(lambda x: \"_\".join(x), axis=1)\n",
    "    replicate_idx = hashable_replicates.duplicated(subset=\"hash\", keep=False)\n",
    "    agg_per_replicate = hashable_replicates[replicate_idx].groupby(\"hash\").agg(\n",
    "        {metric: aggregate}\n",
    "    ).reset_index()\n",
    "\n",
    "    result = agg_per_replicate\n",
    "    agg_marginalised_over_replicate = agg_per_replicate[metric].mean()\n",
    "    logger.info(f\"Expected {aggregate} from choosing replicate: {agg_marginalised_over_replicate:.2f}\")\n",
    "    return result, agg_marginalised_over_replicate\n"
   ]
  },
  {
   "cell_type": "code",
   "execution_count": null,
   "metadata": {},
   "outputs": [
    {
     "name": "stderr",
     "output_type": "stream",
     "text": [
      "2025-03-13 18:02:51,871 - analysis - INFO - Expected var from choosing model: 1576752499.94\n",
      "2025-03-13 18:02:51,881 - analysis - INFO - Expected var from choosing everything else marginalised over model: 433746406.96\n",
      "2025-03-13 18:02:51,890 - analysis - INFO - Expected var from choosing replicate: 792789611.18\n",
      "2025-03-13 18:02:51,892 - analysis - INFO - Overall variance: 1742233901.41\n"
     ]
    },
    {
     "name": "stdout",
     "output_type": "stream",
     "text": [
      "\\begin{tabular}{lrr}\n",
      "\\toprule\n",
      "Dataset & $ \\mathbb{E}_\\text{model}[V]$ & $ \\mathbb{E}_\\text{upstream}[V]$ \\\\\n",
      "\\midrule\n",
      "obl & 1.6e+09 & 4.3e+08 \\\\\n",
      "\\bottomrule\n",
      "\\end{tabular}\n",
      "\n"
     ]
    }
   ],
   "source": [
    "agg = \"var\"\n",
    "\n",
    "to_analyze = filtered_results\n",
    "per_model, overall_model = expected_agg_over_model(agg, to_analyze)\n",
    "per_upstream, overall_upstream = expected_agg_over_step(agg, to_analyze)\n",
    "# _ = expected_agg_over_step(\"std\", step=\"featuriser\")\n",
    "# _ = expected_agg_over_step(\"std\", step=\"tokeniser\")\n",
    "per_replicate, overall_replicate = expected_agg_over_replicate(agg, to_analyze)\n",
    "if agg == \"var\":\n",
    "    logger.info(f\"Overall variance: {filtered_results[metric].var():.2f}\")\n",
    "elif agg == \"std\":\n",
    "    logger.info(f\"Overall standard deviation: {filtered_results[metric].std():.2f}\")\n",
    "\n",
    "# Create LaTeX table comparing variances\n",
    "agg_map = {\n",
    "    \"var\": \"V\",\n",
    "    \"std\": \"S\"\n",
    "}\n",
    "\n",
    "latex_table = (\n",
    "    \"\\\\begin{tabular}{lrr}\\n\"\n",
    "    \"\\\\toprule\\n\"\n",
    "    f\"Dataset & $ \\\\mathbb{{E}}_\\\\text{{model}}[{agg_map[agg]}]$ & $ \\\\mathbb{{E}}_\\\\text{{upstream}}[{agg_map[agg]}]$ \\\\\\\\\\n\"\n",
    "    \"\\\\midrule\\n\"\n",
    "    f\"{dataset_name_map[dataset]} & {overall_model:.1e} & {overall_upstream:.1e} \\\\\\\\\\n\"\n",
    "    \"\\\\bottomrule\\n\"\n",
    "    \"\\\\end{tabular}\\n\"\n",
    ")\n",
    "with open(table_dir / f\"{config_str}_variance_comparison.tex\", \"w\") as f:\n",
    "    f.write(latex_table)\n",
    "\n",
    "print(latex_table)\n",
    "\n"
   ]
  },
  {
   "cell_type": "code",
   "execution_count": 367,
   "metadata": {},
   "outputs": [
    {
     "name": "stdout",
     "output_type": "stream",
     "text": [
      "\\begin{tabular}{lrrr}\n",
      "\\toprule\n",
      "Dataset & var_from_model & var_from_upstream & var_from_replicates \\\\\n",
      "\\midrule\n",
      "obl & 2e+09 & 4e+08 & 8e+08 \\\\\n",
      "\\bottomrule\n",
      "\\end{tabular}\n",
      "\n"
     ]
    }
   ],
   "source": [
    "# Create DataFrame comparing variances\n",
    "variance_df = pd.DataFrame({\n",
    "    'Dataset': [dataset_name_map[dataset]],\n",
    "    'var_from_model': [overall_model],\n",
    "    'var_from_upstream': [overall_upstream], \n",
    "    'var_from_replicates': [overall_replicate]\n",
    "})\n",
    "print(variance_df.to_latex(\n",
    "    index=False,\n",
    "    float_format=lambda x: f\"{x:.0e}\"\n",
    "))"
   ]
  },
  {
   "cell_type": "code",
   "execution_count": 379,
   "metadata": {},
   "outputs": [
    {
     "name": "stdout",
     "output_type": "stream",
     "text": [
      "Pipeline groups for V(Model), n = 20\n",
      "Model groups for V(Upstream), n = 8\n",
      "Replicate groups for V(Monte Carlo), n = 140\n"
     ]
    }
   ],
   "source": [
    "print(f\"Pipeline groups for V(Model), n = {per_model.shape[0]}\")\n",
    "print(f\"Model groups for V(Upstream), n = {per_upstream.shape[0]}\")\n",
    "print(f\"Replicate groups for V(Monte Carlo), n = {per_replicate.shape[0]}\")"
   ]
  },
  {
   "cell_type": "markdown",
   "metadata": {},
   "source": [
    "## Partitioning on finetuning"
   ]
  },
  {
   "cell_type": "code",
   "execution_count": 369,
   "metadata": {},
   "outputs": [
    {
     "name": "stdout",
     "output_type": "stream",
     "text": [
      "Sample size using ft (52, 24)\n",
      "Sample size not using ft (508, 24)\n"
     ]
    }
   ],
   "source": [
    "ft_selector = to_analyze[\"model\"].str.contains(\"_ft\")\n",
    "using_ft, not_using_ft = to_analyze[ft_selector], to_analyze[~ft_selector]\n",
    "\n",
    "print(f\"Sample size using ft {using_ft.shape}\")\n",
    "print(f\"Sample size not using ft {not_using_ft.shape}\")"
   ]
  },
  {
   "cell_type": "code",
   "execution_count": null,
   "metadata": {},
   "outputs": [
    {
     "name": "stderr",
     "output_type": "stream",
     "text": [
      "2025-03-13 18:13:59,153 - analysis - INFO - Expected var from choosing model: 221107158.31\n",
      "2025-03-13 18:13:59,167 - analysis - INFO - Expected var from choosing model: 1065677282.93\n"
     ]
    },
    {
     "data": {
      "text/html": [
       "<div>\n",
       "<style scoped>\n",
       "    .dataframe tbody tr th:only-of-type {\n",
       "        vertical-align: middle;\n",
       "    }\n",
       "\n",
       "    .dataframe tbody tr th {\n",
       "        vertical-align: top;\n",
       "    }\n",
       "\n",
       "    .dataframe thead th {\n",
       "        text-align: right;\n",
       "    }\n",
       "</style>\n",
       "<table border=\"1\" class=\"dataframe\">\n",
       "  <thead>\n",
       "    <tr style=\"text-align: right;\">\n",
       "      <th></th>\n",
       "      <th>upstream_hash</th>\n",
       "      <th>rmse</th>\n",
       "      <th>model</th>\n",
       "    </tr>\n",
       "  </thead>\n",
       "  <tbody>\n",
       "    <tr>\n",
       "      <th>0</th>\n",
       "      <td>empty_bert_bert_cls</td>\n",
       "      <td>2.699784e+08</td>\n",
       "      <td>deep_linear_ft,mlp_ft,resnet_ft</td>\n",
       "    </tr>\n",
       "    <tr>\n",
       "      <th>1</th>\n",
       "      <td>empty_bert_bert_mean</td>\n",
       "      <td>1.722360e+08</td>\n",
       "      <td>deep_linear_ft,mlp_ft,resnet_ft</td>\n",
       "    </tr>\n",
       "  </tbody>\n",
       "</table>\n",
       "</div>"
      ],
      "text/plain": [
       "          upstream_hash          rmse                            model\n",
       "0   empty_bert_bert_cls  2.699784e+08  deep_linear_ft,mlp_ft,resnet_ft\n",
       "1  empty_bert_bert_mean  1.722360e+08  deep_linear_ft,mlp_ft,resnet_ft"
      ]
     },
     "metadata": {},
     "output_type": "display_data"
    },
    {
     "name": "stdout",
     "output_type": "stream",
     "text": [
      "Not finetuned has 17 samples compared to the above 2\n"
     ]
    }
   ],
   "source": [
    "\n",
    "using_ft_V_per_model, using_ft_V_model = expected_agg_over_model(agg, using_ft, verbose=True)\n",
    "not_using_ft_V_per_model, not_using_ft_V_model = expected_agg_over_model(agg, not_using_ft, verbose=True)\n",
    "\n",
    "display(using_ft_V_per_model)\n",
    "print(f\"Not finetuned has {len(not_using_ft_V_per_model)} samples compared to the above {len(using_ft_V_per_model)}\")"
   ]
  },
  {
   "cell_type": "code",
   "execution_count": 381,
   "metadata": {},
   "outputs": [
    {
     "name": "stderr",
     "output_type": "stream",
     "text": [
      "2025-03-13 18:17:10,584 - analysis - INFO - Expected var from choosing everything else marginalised over model: 90476285.40\n",
      "2025-03-13 18:17:10,593 - analysis - INFO - Expected var from choosing everything else marginalised over model: 639708479.90\n"
     ]
    },
    {
     "name": "stdout",
     "output_type": "stream",
     "text": [
      "Showing the number of upstream pipelines used per modelling approach\n",
      "With finetuning\n"
     ]
    },
    {
     "data": {
      "text/html": [
       "<div>\n",
       "<style scoped>\n",
       "    .dataframe tbody tr th:only-of-type {\n",
       "        vertical-align: middle;\n",
       "    }\n",
       "\n",
       "    .dataframe tbody tr th {\n",
       "        vertical-align: top;\n",
       "    }\n",
       "\n",
       "    .dataframe thead th {\n",
       "        text-align: right;\n",
       "    }\n",
       "</style>\n",
       "<table border=\"1\" class=\"dataframe\">\n",
       "  <thead>\n",
       "    <tr style=\"text-align: right;\">\n",
       "      <th></th>\n",
       "      <th>model</th>\n",
       "      <th>rmse</th>\n",
       "      <th>seed</th>\n",
       "    </tr>\n",
       "  </thead>\n",
       "  <tbody>\n",
       "    <tr>\n",
       "      <th>0</th>\n",
       "      <td>deep_linear_ft</td>\n",
       "      <td>4.377517e+07</td>\n",
       "      <td>5</td>\n",
       "    </tr>\n",
       "    <tr>\n",
       "      <th>1</th>\n",
       "      <td>mlp_ft</td>\n",
       "      <td>7.191658e+07</td>\n",
       "      <td>3</td>\n",
       "    </tr>\n",
       "    <tr>\n",
       "      <th>2</th>\n",
       "      <td>resnet_ft</td>\n",
       "      <td>1.557371e+08</td>\n",
       "      <td>5</td>\n",
       "    </tr>\n",
       "  </tbody>\n",
       "</table>\n",
       "</div>"
      ],
      "text/plain": [
       "            model          rmse  seed\n",
       "0  deep_linear_ft  4.377517e+07     5\n",
       "1          mlp_ft  7.191658e+07     3\n",
       "2       resnet_ft  1.557371e+08     5"
      ]
     },
     "metadata": {},
     "output_type": "display_data"
    },
    {
     "name": "stdout",
     "output_type": "stream",
     "text": [
      "Without finetuning\n"
     ]
    },
    {
     "data": {
      "text/html": [
       "<div>\n",
       "<style scoped>\n",
       "    .dataframe tbody tr th:only-of-type {\n",
       "        vertical-align: middle;\n",
       "    }\n",
       "\n",
       "    .dataframe tbody tr th {\n",
       "        vertical-align: top;\n",
       "    }\n",
       "\n",
       "    .dataframe thead th {\n",
       "        text-align: right;\n",
       "    }\n",
       "</style>\n",
       "<table border=\"1\" class=\"dataframe\">\n",
       "  <thead>\n",
       "    <tr style=\"text-align: right;\">\n",
       "      <th></th>\n",
       "      <th>model</th>\n",
       "      <th>rmse</th>\n",
       "      <th>seed</th>\n",
       "    </tr>\n",
       "  </thead>\n",
       "  <tbody>\n",
       "    <tr>\n",
       "      <th>0</th>\n",
       "      <td>catboost</td>\n",
       "      <td>1.228254e+07</td>\n",
       "      <td>26</td>\n",
       "    </tr>\n",
       "    <tr>\n",
       "      <th>1</th>\n",
       "      <td>deep_linear</td>\n",
       "      <td>5.116834e+08</td>\n",
       "      <td>28</td>\n",
       "    </tr>\n",
       "    <tr>\n",
       "      <th>2</th>\n",
       "      <td>mlp</td>\n",
       "      <td>9.969547e+08</td>\n",
       "      <td>31</td>\n",
       "    </tr>\n",
       "    <tr>\n",
       "      <th>3</th>\n",
       "      <td>resnet</td>\n",
       "      <td>1.140718e+08</td>\n",
       "      <td>18</td>\n",
       "    </tr>\n",
       "    <tr>\n",
       "      <th>4</th>\n",
       "      <td>xgboost</td>\n",
       "      <td>1.563550e+09</td>\n",
       "      <td>24</td>\n",
       "    </tr>\n",
       "  </tbody>\n",
       "</table>\n",
       "</div>"
      ],
      "text/plain": [
       "         model          rmse  seed\n",
       "0     catboost  1.228254e+07    26\n",
       "1  deep_linear  5.116834e+08    28\n",
       "2          mlp  9.969547e+08    31\n",
       "3       resnet  1.140718e+08    18\n",
       "4      xgboost  1.563550e+09    24"
      ]
     },
     "metadata": {},
     "output_type": "display_data"
    }
   ],
   "source": [
    "using_ft_V_per_upstream, using_ft_V_upstream = expected_agg_over_step(agg, using_ft)\n",
    "not_using_ft_V_per_upstream, not_using_ft_V_upstream = expected_agg_over_step(agg, not_using_ft)\n",
    "\n",
    "print(\"Showing the number of upstream pipelines used per modelling approach\")\n",
    "print(\"With finetuning\")\n",
    "display(using_ft_V_per_upstream)\n",
    "print(\"Without finetuning\")\n",
    "display(not_using_ft_V_per_upstream)"
   ]
  },
  {
   "cell_type": "code",
   "execution_count": 382,
   "metadata": {},
   "outputs": [
    {
     "name": "stderr",
     "output_type": "stream",
     "text": [
      "2025-03-13 18:17:20,297 - analysis - INFO - Expected var from choosing replicate: 323495859.45\n",
      "2025-03-13 18:17:20,315 - analysis - INFO - Expected var from choosing replicate: 840827554.27\n"
     ]
    },
    {
     "name": "stdout",
     "output_type": "stream",
     "text": [
      "\n",
      "Using finetuning:\n",
      "V(model): 2.2e+08\n",
      "V(upstream): 9.0e+07\n",
      "V(replicate): 3.2e+08\n",
      "\n",
      "\n",
      "Not using finetuning:\n",
      "V(model): 1.1e+09\n",
      "V(upstream): 6.4e+08\n",
      "V(replicate): 8.4e+08\n",
      "\n"
     ]
    }
   ],
   "source": [
    "\n",
    "using_ft_V_per_replicate, using_ft_V_replicate = expected_agg_over_replicate(agg, using_ft)\n",
    "not_using_ft_V_per_replicate, not_using_ft_V_replicate = expected_agg_over_replicate(agg, not_using_ft)\n",
    "\n",
    "ft_result = f\"\"\"\n",
    "Using finetuning:\n",
    "V(model): {using_ft_V_model:.1e}\n",
    "V(upstream): {using_ft_V_upstream:.1e}\n",
    "V(replicate): {using_ft_V_replicate:.1e}\n",
    "\"\"\"\n",
    "not_ft_result = f\"\"\"\n",
    "Not using finetuning:\n",
    "V(model): {not_using_ft_V_model:.1e}\n",
    "V(upstream): {not_using_ft_V_upstream:.1e}\n",
    "V(replicate): {not_using_ft_V_replicate:.1e}\n",
    "\"\"\"\n",
    "\n",
    "print(ft_result)\n",
    "print(not_ft_result)\n",
    "\n",
    "with open(table_dir / f\"{config_str}_ft_variance_comparison.txt\", \"w\") as f:\n",
    "    f.write(ft_result)\n",
    "    f.write(not_ft_result)\n",
    "\n",
    "\n"
   ]
  },
  {
   "cell_type": "markdown",
   "metadata": {},
   "source": [
    "# Error improvement?"
   ]
  },
  {
   "cell_type": "code",
   "execution_count": null,
   "metadata": {},
   "outputs": [
    {
     "name": "stderr",
     "output_type": "stream",
     "text": [
      "2025-03-13 18:04:35,865 - analysis - INFO - Expected maximum_improvement from choosing model: 22960.54\n"
     ]
    },
    {
     "name": "stderr",
     "output_type": "stream",
     "text": [
      "2025-03-13 18:04:35,877 - analysis - INFO - Expected maximum_improvement from choosing everything else marginalised over model: 24559.40\n",
      "2025-03-13 18:04:35,919 - analysis - INFO - Expected maximum_improvement from choosing replicate: 11243.97\n"
     ]
    }
   ],
   "source": [
    "class CustomReprFunc:\n",
    "\n",
    "    def __init__(self, f, custom_repr):\n",
    "        self.f = f\n",
    "        self.custom_repr = custom_repr\n",
    "\n",
    "    def __call__(self, *args, **kwargs):\n",
    "        return self.f(*args, **kwargs)\n",
    "\n",
    "    def __repr__(self):\n",
    "        return self.custom_repr(self.f)\n",
    "\n",
    "\n",
    "def set_repr(custom_repr):\n",
    "    def set_repr_decorator(f):\n",
    "        return CustomReprFunc(f, custom_repr)\n",
    "    return set_repr_decorator\n",
    "\n",
    "@set_repr(lambda f: f.__name__)\n",
    "def maximum_improvement(series):\n",
    "    lowest_metric = series.min()\n",
    "    improvement = series - lowest_metric\n",
    "    return improvement.mean() # Mean == expected value\n",
    "\n",
    "_ = expected_agg_over_model(maximum_improvement, df=to_analyze)\n",
    "_ = expected_agg_over_step(maximum_improvement, df=to_analyze)\n",
    "_ = expected_agg_over_replicate(maximum_improvement, df=to_analyze)\n"
   ]
  },
  {
   "cell_type": "code",
   "execution_count": null,
   "metadata": {},
   "outputs": [],
   "source": []
  }
 ],
 "metadata": {
  "kernelspec": {
   "display_name": "random_experiments",
   "language": "python",
   "name": "random_experiments"
  },
  "language_info": {
   "codemirror_mode": {
    "name": "ipython",
    "version": 3
   },
   "file_extension": ".py",
   "mimetype": "text/x-python",
   "name": "python",
   "nbconvert_exporter": "python",
   "pygments_lexer": "ipython3",
   "version": "3.10.12"
  }
 },
 "nbformat": 4,
 "nbformat_minor": 2
}
