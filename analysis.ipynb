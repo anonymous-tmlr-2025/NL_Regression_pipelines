{
 "cells": [
  {
   "cell_type": "markdown",
   "metadata": {},
   "source": [
    "# Goal\n",
    "Investigate if there is anything interesting in the interaction of pipeline steps and/or individual pipeline components and the rmse.\n",
    "\n",
    "Obviously very adhoc but such is the nature of exploratory research"
   ]
  },
  {
   "cell_type": "code",
   "execution_count": 2,
   "metadata": {},
   "outputs": [],
   "source": [
    "import pandas as pd\n",
    "from pathlib import Path\n",
    "import plotly.express as px\n",
    "import plotly.graph_objects as go\n",
    "from collections import defaultdict\n",
    "from plotly.subplots import make_subplots\n",
    "from scipy import stats\n",
    "from scipy.stats import friedmanchisquare\n",
    "import numpy as np\n",
    "from itertools import chain\n",
    "\n",
    "import json\n",
    "\n",
    "from constants import SEED\n",
    "from datasets import load_dataset\n",
    "\n",
    "def get_all_results_paths(root_dir: Path):\n",
    "    return list(root_dir.glob(\"**/*results.json\"))\n",
    "\n",
    "def single_layer_unnest(node: dict, keys: list[str]):\n",
    "    \"\"\"\n",
    "    Unnest a single layer of a nested dictionary\n",
    "    \"\"\"\n",
    "    to_merge_later = {}\n",
    "    to_delete_later = []\n",
    "    for top_key, top_item in node.items():\n",
    "        if isinstance(top_item, dict):\n",
    "            for child_key, child_item in top_item.items():\n",
    "                if child_key in keys:\n",
    "                    to_merge_later[f\"{top_key}_{child_key}\"] = child_item\n",
    "                    to_delete_later.append((top_key, child_key))\n",
    "    for top_key, child_key in to_delete_later:\n",
    "        del node[top_key][child_key]\n",
    "    for new_key, new_item in to_merge_later.items():\n",
    "        node[new_key] = new_item\n",
    "    return node\n",
    "\n",
    "def get_all_results(root_dir: Path, response_is_normalised: bool = False, log_response: bool = False):\n",
    "    results = []\n",
    "    for path in get_all_results_paths(root_dir):\n",
    "        result = json.load(open(path))\n",
    "        ## Handle nested metrics\n",
    "        result = single_layer_unnest(result, [\"train\", \"val\", \"test\"])\n",
    "        to_delete = []\n",
    "        for key, val in result.items():\n",
    "            if not val:\n",
    "                to_delete.append(key)\n",
    "        for key in to_delete:\n",
    "            del result[key]\n",
    "        ## Map model names\n",
    "        result[\"model\"] = result[\"model\"].replace(\"relu_mlp\", \"mlp\")\n",
    "        result[\"model\"] = result[\"model\"].replace(\"no_activation_mlp\", \"deep_linear\")\n",
    "        ## Handle finetune\n",
    "        if \"finetune\" not in result:\n",
    "            result[\"finetune\"] = False\n",
    "        ## Handle empty preprocessers\n",
    "        if \"preprocessers\" not in result:\n",
    "            result[\"preprocessers\"] = [\"empty\"]\n",
    "        ## Handle missing seed\n",
    "        if \"seed\" not in result:\n",
    "            seed_part = [x for x in path.parts if \"seed\" in x][0]\n",
    "            result[\"seed\"] = int(seed_part.split(\"_\")[-1])\n",
    "        ## Order preprocessers\n",
    "        result[\"preprocessers\"] = sorted(result[\"preprocessers\"])\n",
    "\n",
    "        nice_table_map = {\n",
    "            \"empty\": \"empty\",\n",
    "            \"lemmatize\": \"Le\",\n",
    "            \"lowercase\": \"Lo\",\n",
    "            \"no_numbers_simple\": \"NN\",\n",
    "            \"no_numbers_spacy\": \"NNSC\",\n",
    "            \"no_punctuation\": \"NP\",\n",
    "            \"no_stopwords_nltk\": \"NSN\",\n",
    "            \"no_stopwords_spacy\": \"NSCC\",\n",
    "            \"stem\": \"S\",\n",
    "        }\n",
    "        cleaned_processers = [nice_table_map.get(x, x) for x in result[\"preprocessers\"]]\n",
    "        result[\"preprocesser(s)\"] = \",\".join(sorted(cleaned_processers))\n",
    "\n",
    "        if response_is_normalised:\n",
    "            normaliser_path = path.parent / \"normalisation_params.json\"\n",
    "            with open(normaliser_path, \"r\") as f:\n",
    "                normaliser_constants = json.load(f)\n",
    "            std = normaliser_constants[\"std\"]\n",
    "            for col in result.keys():\n",
    "                if \"rmse\" in col:\n",
    "                    result[col] = result[col] * std\n",
    "        if log_response:\n",
    "            for col in result.keys():\n",
    "                if \"rmse\" in col:\n",
    "                    result[col] = np.log(result[col])\n",
    "        results.append(result)\n",
    "    return results\n",
    "\n",
    "\n",
    "def permutation_test(x, y, n_permutations=100000, one_sided: bool = False):\n",
    "    \"\"\"\n",
    "    Perform permutation test for difference in means\n",
    "    H0: mean(x) = mean(y)\n",
    "    H1: mean(x) != mean(y) \n",
    "\n",
    "    If one_sided is True, then we test if mean(x) > mean(y)\n",
    "\n",
    "    Return p-value and observed difference\n",
    "    \"\"\"\n",
    "    observed_diff = np.mean(x) - np.mean(y)\n",
    "    \n",
    "    # Combine samples\n",
    "    combined = np.concatenate([x, y])\n",
    "    n_x = len(x)\n",
    "    \n",
    "    # Generate permutations\n",
    "    diffs = np.zeros(n_permutations)\n",
    "    for i in range(n_permutations):\n",
    "        np.random.shuffle(combined)\n",
    "        perm_x = combined[:n_x]\n",
    "        perm_y = combined[n_x:]\n",
    "        diffs[i] = np.mean(perm_x) - np.mean(perm_y)\n",
    "    \n",
    "    # Calculate one-sided p-value\n",
    "    if one_sided:\n",
    "        delta = diffs >= observed_diff\n",
    "    else:\n",
    "        delta = np.abs(diffs) >= np.abs(observed_diff)\n",
    "    delta = np.concatenate([delta, [True]]) # Effectively do (C+1/N+1) as in https://arxiv.org/pdf/1603.05766\n",
    "    p_value = np.mean(delta)\n",
    "    \n",
    "    return p_value, observed_diff\n",
    "\n",
    "def process_latex_table(latex_table: str):\n",
    "    latex_table = latex_table.replace(\"_\", \"-\")\n",
    "    latex_table = latex_table.replace(\"%\", \"\\%\")\n",
    "    latex_table = latex_table.replace(\"rmse-test\", \"RMSE\")\n",
    "    latex_table = latex_table.replace(\"featuriser\", \"featurizer\")\n",
    "    latex_table = latex_table.replace(\"tokeniser\", \"tokenizer\")\n",
    "    latex_table = latex_table.replace(\"rmse-test\", \"rmse\")\n",
    "    latex_table = latex_table.replace(\"<\", \"\\\\textless\")\n",
    "    latex_table = latex_table.replace(\">\", \"\\\\textgreater\")\n",
    "    latex_table = latex_table.replace(\"obl\", \"\\\\named{obl}\")\n",
    "    latex_table = latex_table.replace(\"jcp\", \"\\\\named{jcp}\")\n",
    "    return latex_table\n",
    "\n",
    "def simple_format(x: float):\n",
    "    if abs(x) < 0.001:\n",
    "        # Assumes no negative values between -0.001 and 0.001\n",
    "        return \"<0.001\"\n",
    "    elif abs(x) < 1:\n",
    "        return f\"{x:.3f}\"\n",
    "    else:\n",
    "        return f\"{x:,.0f}\""
   ]
  },
  {
   "cell_type": "markdown",
   "metadata": {},
   "source": [
    "## Configure"
   ]
  },
  {
   "cell_type": "code",
   "execution_count": 3,
   "metadata": {},
   "outputs": [
    {
     "name": "stdout",
     "output_type": "stream",
     "text": [
      "jc_penney_products at 2025-03-11T11:33:24.593077\n"
     ]
    }
   ],
   "source": [
    "import datetime\n",
    "import logging\n",
    "\n",
    "datasets = [\n",
    "    \"jc_penney_products\", \n",
    "    \"online_boat_listings\",\n",
    "    \"online_boat_listings_no_foreign_languages\",\n",
    "    \"california_house_prices\" \n",
    "]\n",
    "## Change analysis dataset\n",
    "dataset = datasets[0]\n",
    "\n",
    "## Change whether we look at downsampled results (only for jc_penney_products)\n",
    "downsamples = [0.2, 0.01, None]\n",
    "downsample = downsamples[2]\n",
    "\n",
    "## Change whether we look at normalised response\n",
    "response_is_normalised = False\n",
    "\n",
    "filter_out_replicates = False\n",
    "filter_only_replicates = 4 # Can be int (4) or None, if int then only include results with this number of replicates, cannot be used with filter_out_replicates\n",
    "filter_out_worst = False\n",
    "\n",
    "log_response = False # Currently too difficult to interpret\n",
    "\n",
    "which_ds_string = f\"{dataset} at {datetime.datetime.now().isoformat()}\"\n",
    "print(which_ds_string)"
   ]
  },
  {
   "cell_type": "code",
   "execution_count": 4,
   "metadata": {},
   "outputs": [
    {
     "name": "stderr",
     "output_type": "stream",
     "text": [
      "2025-03-11 11:33:24,614 - analysis - INFO - jc_penney_products at 2025-03-11T11:33:24.593077\n"
     ]
    }
   ],
   "source": [
    "\n",
    "### Configure analysis\n",
    "import sys\n",
    "\n",
    "\n",
    "raw_metric = \"rmse_test\"\n",
    "metric = raw_metric.removesuffix(\"_test\")\n",
    "\n",
    "pipeline_cols = [\"preprocessers\", \"tokeniser\", \"featuriser\", \"model\", \"finetune\"]\n",
    "# Dont include finetune as we will alter the model name\n",
    "hash_cols = [\"preprocesser(s)\", \"tokeniser\", \"featuriser\", \"model\"]\n",
    "filter_worst_k_for = {\n",
    "    \"jc_penney_products\": 0,\n",
    "    \"online_boat_listings\": 0,\n",
    "    \"california_house_prices\": 0\n",
    "}\n",
    "alpha = 0.05\n",
    "### Configure plot saving\n",
    "image_ext = \"png\"\n",
    "OUTPUT_DIR = Path(\"notebook_output\")\n",
    "SAVE_HEIGHT = 400\n",
    "SAVE_WIDTH = 500\n",
    "table_dir = OUTPUT_DIR / dataset / \"tables\"\n",
    "histogram_dir = OUTPUT_DIR / dataset / \"1d_histograms\"\n",
    "boxplot_dir = OUTPUT_DIR / dataset / \"1d_boxplots\"\n",
    "### Configure latex columns\n",
    "latex_cols = [\"preprocesser(s)\", \"tokeniser\", \"featuriser\", \"model\", metric]\n",
    "dataset_name_map = {\n",
    "    \"jc_penney_products\": \"jcp\",\n",
    "    \"online_boat_listings\": \"obl\",\n",
    "}\n",
    "###\n",
    "histogram_dir.mkdir(exist_ok=True, parents=True)\n",
    "table_dir.mkdir(exist_ok=True, parents=True)\n",
    "boxplot_dir.mkdir(exist_ok=True, parents=True)\n",
    "\n",
    "config_str = metric\n",
    "if filter_out_replicates:\n",
    "    config_str += \"_no_replicates\"\n",
    "if filter_only_replicates is not None:\n",
    "    config_str += f\"_only_{filter_only_replicates}_replicates\"\n",
    "if filter_out_worst:\n",
    "    config_str += f\"_filter_worst_{filter_worst_k_for[dataset]}\"\n",
    "if downsample is not None:\n",
    "    config_str += f\"_downsample_{downsample}\"\n",
    "if response_is_normalised:\n",
    "    config_str += \"_normalise_response\"\n",
    "\n",
    "logger = logging.getLogger(\"analysis\")\n",
    "logger.setLevel(logging.DEBUG)\n",
    "for handler in logger.handlers:\n",
    "    logger.removeHandler(handler)\n",
    "# Configure logging to file\n",
    "log_file = OUTPUT_DIR / f\"{dataset}/{config_str}.log\"\n",
    "log_file.parent.mkdir(parents=True, exist_ok=True)\n",
    "# Remove all existing handlers\n",
    "for handler in logger.handlers[:]:\n",
    "    logger.removeHandler(handler)\n",
    "\n",
    "file_handler = logging.FileHandler(log_file)\n",
    "file_handler.setLevel(logging.DEBUG)\n",
    "formatter = logging.Formatter('%(asctime)s - %(name)s - %(levelname)s - %(message)s')\n",
    "file_handler.setFormatter(formatter)\n",
    "logger.addHandler(file_handler)\n",
    "stream_handler = logging.StreamHandler()\n",
    "stream_handler.setLevel(logging.INFO)\n",
    "stream_handler.setFormatter(formatter)\n",
    "logger.addHandler(stream_handler)\n",
    "logger.info(which_ds_string)"
   ]
  },
  {
   "cell_type": "code",
   "execution_count": 5,
   "metadata": {},
   "outputs": [
    {
     "name": "stdout",
     "output_type": "stream",
     "text": [
      "Config: rmse_only_4_replicates\n"
     ]
    }
   ],
   "source": [
    "print(f\"Config: {config_str}\")"
   ]
  },
  {
   "cell_type": "code",
   "execution_count": 6,
   "metadata": {},
   "outputs": [
    {
     "name": "stderr",
     "output_type": "stream",
     "text": [
      "2025-03-11 11:33:25,168 - analysis - INFO - Found 2584 results for jc_penney_products\n",
      "2025-03-11 11:33:25,256 - analysis - INFO - Performance of mean with seed 97: 459.02\n"
     ]
    },
    {
     "data": {
      "text/html": [
       "<div>\n",
       "<style scoped>\n",
       "    .dataframe tbody tr th:only-of-type {\n",
       "        vertical-align: middle;\n",
       "    }\n",
       "\n",
       "    .dataframe tbody tr th {\n",
       "        vertical-align: top;\n",
       "    }\n",
       "\n",
       "    .dataframe thead th {\n",
       "        text-align: right;\n",
       "    }\n",
       "</style>\n",
       "<table border=\"1\" class=\"dataframe\">\n",
       "  <thead>\n",
       "    <tr style=\"text-align: right;\">\n",
       "      <th></th>\n",
       "      <th>preprocessers</th>\n",
       "      <th>tokeniser</th>\n",
       "      <th>featuriser</th>\n",
       "      <th>model</th>\n",
       "      <th>total_time</th>\n",
       "      <th>preprocess_time</th>\n",
       "      <th>model_time</th>\n",
       "      <th>rmse_train</th>\n",
       "      <th>rmse_val</th>\n",
       "      <th>rmse</th>\n",
       "      <th>...</th>\n",
       "      <th>mae_test</th>\n",
       "      <th>r2_train</th>\n",
       "      <th>r2_val</th>\n",
       "      <th>r2_test</th>\n",
       "      <th>medae_train</th>\n",
       "      <th>medae_val</th>\n",
       "      <th>medae_test</th>\n",
       "      <th>finetune</th>\n",
       "      <th>seed</th>\n",
       "      <th>preprocesser(s)</th>\n",
       "    </tr>\n",
       "  </thead>\n",
       "  <tbody>\n",
       "    <tr>\n",
       "      <th>0</th>\n",
       "      <td>[no_numbers_spacy, no_punctuation, no_stopword...</td>\n",
       "      <td>whitespace</td>\n",
       "      <td>bow_count</td>\n",
       "      <td>deep_linear</td>\n",
       "      <td>188.320256</td>\n",
       "      <td>144.192708</td>\n",
       "      <td>44.127548</td>\n",
       "      <td>340.860807</td>\n",
       "      <td>386.984260</td>\n",
       "      <td>355.809357</td>\n",
       "      <td>...</td>\n",
       "      <td>84.925031</td>\n",
       "      <td>0.592588</td>\n",
       "      <td>0.433308</td>\n",
       "      <td>0.398786</td>\n",
       "      <td>20.153707</td>\n",
       "      <td>31.814530</td>\n",
       "      <td>30.873307</td>\n",
       "      <td>False</td>\n",
       "      <td>1</td>\n",
       "      <td>NNSC,NP,NSCC</td>\n",
       "    </tr>\n",
       "    <tr>\n",
       "      <th>1</th>\n",
       "      <td>[no_numbers_spacy, no_punctuation, no_stopword...</td>\n",
       "      <td>whitespace</td>\n",
       "      <td>bow_count</td>\n",
       "      <td>deep_linear</td>\n",
       "      <td>338.250530</td>\n",
       "      <td>174.657244</td>\n",
       "      <td>163.593286</td>\n",
       "      <td>323.709366</td>\n",
       "      <td>366.931999</td>\n",
       "      <td>355.322415</td>\n",
       "      <td>...</td>\n",
       "      <td>94.500459</td>\n",
       "      <td>0.634370</td>\n",
       "      <td>0.482099</td>\n",
       "      <td>0.400430</td>\n",
       "      <td>25.439191</td>\n",
       "      <td>40.348397</td>\n",
       "      <td>38.273909</td>\n",
       "      <td>False</td>\n",
       "      <td>97</td>\n",
       "      <td>NNSC,NP,NSCC</td>\n",
       "    </tr>\n",
       "    <tr>\n",
       "      <th>2</th>\n",
       "      <td>[no_numbers_spacy, no_punctuation, no_stopword...</td>\n",
       "      <td>whitespace</td>\n",
       "      <td>glove_mean</td>\n",
       "      <td>xgboost</td>\n",
       "      <td>246.419280</td>\n",
       "      <td>245.773605</td>\n",
       "      <td>0.645675</td>\n",
       "      <td>152.374078</td>\n",
       "      <td>406.505359</td>\n",
       "      <td>442.135709</td>\n",
       "      <td>...</td>\n",
       "      <td>102.175853</td>\n",
       "      <td>0.918585</td>\n",
       "      <td>0.374693</td>\n",
       "      <td>0.071663</td>\n",
       "      <td>19.334696</td>\n",
       "      <td>22.967763</td>\n",
       "      <td>22.688130</td>\n",
       "      <td>False</td>\n",
       "      <td>1</td>\n",
       "      <td>NNSC,NP,NSCC</td>\n",
       "    </tr>\n",
       "    <tr>\n",
       "      <th>3</th>\n",
       "      <td>[no_numbers_spacy, no_punctuation, no_stopword...</td>\n",
       "      <td>whitespace</td>\n",
       "      <td>glove_mean</td>\n",
       "      <td>xgboost</td>\n",
       "      <td>202.102430</td>\n",
       "      <td>200.952845</td>\n",
       "      <td>1.149585</td>\n",
       "      <td>154.237789</td>\n",
       "      <td>337.736983</td>\n",
       "      <td>425.236931</td>\n",
       "      <td>...</td>\n",
       "      <td>107.023927</td>\n",
       "      <td>0.916993</td>\n",
       "      <td>0.561234</td>\n",
       "      <td>0.141270</td>\n",
       "      <td>19.616468</td>\n",
       "      <td>24.034204</td>\n",
       "      <td>23.483477</td>\n",
       "      <td>False</td>\n",
       "      <td>97</td>\n",
       "      <td>NNSC,NP,NSCC</td>\n",
       "    </tr>\n",
       "    <tr>\n",
       "      <th>4</th>\n",
       "      <td>[no_numbers_spacy, no_punctuation, no_stopword...</td>\n",
       "      <td>whitespace</td>\n",
       "      <td>glove_mean</td>\n",
       "      <td>xgboost</td>\n",
       "      <td>231.389905</td>\n",
       "      <td>230.918232</td>\n",
       "      <td>0.471673</td>\n",
       "      <td>238.010890</td>\n",
       "      <td>351.899757</td>\n",
       "      <td>426.812451</td>\n",
       "      <td>...</td>\n",
       "      <td>108.858736</td>\n",
       "      <td>0.820463</td>\n",
       "      <td>0.284517</td>\n",
       "      <td>0.134895</td>\n",
       "      <td>23.890877</td>\n",
       "      <td>24.821656</td>\n",
       "      <td>23.907604</td>\n",
       "      <td>False</td>\n",
       "      <td>2</td>\n",
       "      <td>NNSC,NP,NSCC</td>\n",
       "    </tr>\n",
       "  </tbody>\n",
       "</table>\n",
       "<p>5 rows × 22 columns</p>\n",
       "</div>"
      ],
      "text/plain": [
       "                                       preprocessers   tokeniser  featuriser  \\\n",
       "0  [no_numbers_spacy, no_punctuation, no_stopword...  whitespace   bow_count   \n",
       "1  [no_numbers_spacy, no_punctuation, no_stopword...  whitespace   bow_count   \n",
       "2  [no_numbers_spacy, no_punctuation, no_stopword...  whitespace  glove_mean   \n",
       "3  [no_numbers_spacy, no_punctuation, no_stopword...  whitespace  glove_mean   \n",
       "4  [no_numbers_spacy, no_punctuation, no_stopword...  whitespace  glove_mean   \n",
       "\n",
       "         model  total_time  preprocess_time  model_time  rmse_train  \\\n",
       "0  deep_linear  188.320256       144.192708   44.127548  340.860807   \n",
       "1  deep_linear  338.250530       174.657244  163.593286  323.709366   \n",
       "2      xgboost  246.419280       245.773605    0.645675  152.374078   \n",
       "3      xgboost  202.102430       200.952845    1.149585  154.237789   \n",
       "4      xgboost  231.389905       230.918232    0.471673  238.010890   \n",
       "\n",
       "     rmse_val        rmse  ...    mae_test  r2_train    r2_val   r2_test  \\\n",
       "0  386.984260  355.809357  ...   84.925031  0.592588  0.433308  0.398786   \n",
       "1  366.931999  355.322415  ...   94.500459  0.634370  0.482099  0.400430   \n",
       "2  406.505359  442.135709  ...  102.175853  0.918585  0.374693  0.071663   \n",
       "3  337.736983  425.236931  ...  107.023927  0.916993  0.561234  0.141270   \n",
       "4  351.899757  426.812451  ...  108.858736  0.820463  0.284517  0.134895   \n",
       "\n",
       "   medae_train  medae_val  medae_test  finetune  seed  preprocesser(s)  \n",
       "0    20.153707  31.814530   30.873307     False     1     NNSC,NP,NSCC  \n",
       "1    25.439191  40.348397   38.273909     False    97     NNSC,NP,NSCC  \n",
       "2    19.334696  22.967763   22.688130     False     1     NNSC,NP,NSCC  \n",
       "3    19.616468  24.034204   23.483477     False    97     NNSC,NP,NSCC  \n",
       "4    23.890877  24.821656   23.907604     False     2     NNSC,NP,NSCC  \n",
       "\n",
       "[5 rows x 22 columns]"
      ]
     },
     "execution_count": 6,
     "metadata": {},
     "output_type": "execute_result"
    }
   ],
   "source": [
    "\n",
    "if filter_out_replicates and (filter_only_replicates is not None):\n",
    "    raise ValueError(\"Cannot filter out replicates and only include replicates\")\n",
    "\n",
    "root_results = Path(f\"results/\")\n",
    "if downsample is not None:\n",
    "    root_results = root_results / f\"downsample_{downsample}\"\n",
    "if response_is_normalised:\n",
    "    root_results = root_results / f\"normalised_response\"\n",
    "\n",
    "results = get_all_results(root_results / dataset, response_is_normalised=response_is_normalised, log_response=log_response)\n",
    "logger.info(f\"Found {len(results)} results for {dataset}\")\n",
    "train, val, test = load_dataset(dataset, seed=SEED)\n",
    "mean = pd.concat([train, val])[\"label\"].mean()\n",
    "if \"rmse\" in metric:\n",
    "    perf_of_mean = ((test[\"label\"] - mean) ** 2).mean() ** 0.5\n",
    "    if log_response:\n",
    "        perf_of_mean = np.log(perf_of_mean)\n",
    "    logger.info(f\"Performance of mean with seed {SEED}: {perf_of_mean:.2f}\")\n",
    "else:\n",
    "    raise NotImplementedError(f\"Metric {metric} not implemented\")\n",
    "\n",
    "original_results = pd.DataFrame(results)\n",
    "# Quickly strip suffix from metric name for latex tables/figures\n",
    "original_results.rename(columns={raw_metric: metric}, inplace=True)\n",
    "original_results.head()"
   ]
  },
  {
   "cell_type": "code",
   "execution_count": 7,
   "metadata": {},
   "outputs": [
    {
     "name": "stderr",
     "output_type": "stream",
     "text": [
      "2025-03-11 11:33:25,301 - analysis - INFO - Mean response (n data=13575): 127.72 +- 515.87\n"
     ]
    }
   ],
   "source": [
    "joined_data = pd.concat([train, val])\n",
    "all_data = pd.concat([train, val, test])\n",
    "mean_response = all_data[\"label\"].mean()\n",
    "standard_deviation_of_response = all_data[\"label\"].std()\n",
    "logger.info(f\"Mean response (n data={len(all_data)}): {mean_response:.2f} +- {standard_deviation_of_response:.2f}\")"
   ]
  },
  {
   "cell_type": "markdown",
   "metadata": {},
   "source": [
    "## Filter"
   ]
  },
  {
   "cell_type": "code",
   "execution_count": 8,
   "metadata": {},
   "outputs": [],
   "source": [
    "filter_out = {\n",
    "    \"preprocessers\": [\"number\"],\n",
    "    \"model\": [\"linear_regression\"], # We filter out these results as they are just too bad, deep_linear models sorta do that anyway\n",
    "    \"tokeniser\": [],\n",
    "    \"featuriser\": [],\n",
    "}\n",
    "if filter_out_replicates:\n",
    "    filter_out[\"seed\"] = [1, 2, 3]\n",
    "\n",
    "filtered_results = original_results.copy()\n",
    "for feature, values in filter_out.items():\n",
    "    if feature == \"preprocessers\":\n",
    "        for value in values:\n",
    "            filtered_results = filtered_results[~filtered_results[\"preprocessers\"].apply(lambda x: any(value in y for y in x))]\n",
    "    else:\n",
    "        for value in values:\n",
    "            filtered_results = filtered_results[filtered_results[feature] != value]\n",
    "filtered_results.loc[filtered_results['finetune'], 'model'] = filtered_results.loc[filtered_results['finetune'], 'model'] + '_ft'\n",
    "\n"
   ]
  },
  {
   "cell_type": "markdown",
   "metadata": {},
   "source": [
    "Analyse which seeds are missing in certain replicates if we want to increase sample size"
   ]
  },
  {
   "cell_type": "code",
   "execution_count": 9,
   "metadata": {},
   "outputs": [
    {
     "data": {
      "text/plain": [
       "seed\n",
       "[2]        58\n",
       "[1, 2]     55\n",
       "[1]        42\n",
       "[1, 3]      9\n",
       "[97]        1\n",
       "[97, 3]     1\n",
       "Name: count, dtype: int64"
      ]
     },
     "execution_count": 9,
     "metadata": {},
     "output_type": "execute_result"
    }
   ],
   "source": [
    "replicates = filtered_results.groupby(hash_cols)[\"seed\"].transform(\"count\")\n",
    "def seed_missing(seeds):\n",
    "    return list(set([1,2,3,97]) - set(seeds))\n",
    "missing_seeds = filtered_results[(1 < replicates) & (replicates < 4)].groupby([\"preprocesser(s)\", \"tokeniser\", \"featuriser\", \"model\"]).agg({\"seed\": lambda x: seed_missing(x)})\n",
    "missing_seeds[\"seed\"].value_counts()\n"
   ]
  },
  {
   "cell_type": "code",
   "execution_count": 10,
   "metadata": {},
   "outputs": [
    {
     "name": "stderr",
     "output_type": "stream",
     "text": [
      "2025-03-11 11:33:37,105 - analysis - INFO - Filtered to 620 results\n"
     ]
    }
   ],
   "source": [
    "if filter_only_replicates is not None:\n",
    "    filtered_results = filtered_results[replicates == filter_only_replicates]\n",
    "\n",
    "logger.info(f\"Filtered to {len(filtered_results)} results\")\n",
    "filtered_results = filtered_results.sort_values(metric).reset_index(names=\"idx\")\n",
    "filtered_results[\"pipeline_hash\"] = filtered_results[hash_cols].apply(lambda x: hash(tuple(x)), axis=1)"
   ]
  },
  {
   "cell_type": "code",
   "execution_count": 11,
   "metadata": {},
   "outputs": [
    {
     "name": "stderr",
     "output_type": "stream",
     "text": [
      "2025-03-11 11:33:40,213 - analysis - INFO - Found 0 duplicates\n"
     ]
    },
    {
     "data": {
      "text/html": [
       "<div>\n",
       "<style scoped>\n",
       "    .dataframe tbody tr th:only-of-type {\n",
       "        vertical-align: middle;\n",
       "    }\n",
       "\n",
       "    .dataframe tbody tr th {\n",
       "        vertical-align: top;\n",
       "    }\n",
       "\n",
       "    .dataframe thead th {\n",
       "        text-align: right;\n",
       "    }\n",
       "</style>\n",
       "<table border=\"1\" class=\"dataframe\">\n",
       "  <thead>\n",
       "    <tr style=\"text-align: right;\">\n",
       "      <th></th>\n",
       "      <th>idx</th>\n",
       "      <th>preprocessers</th>\n",
       "      <th>tokeniser</th>\n",
       "      <th>featuriser</th>\n",
       "      <th>model</th>\n",
       "      <th>total_time</th>\n",
       "      <th>preprocess_time</th>\n",
       "      <th>model_time</th>\n",
       "      <th>rmse_train</th>\n",
       "      <th>rmse_val</th>\n",
       "      <th>...</th>\n",
       "      <th>r2_train</th>\n",
       "      <th>r2_val</th>\n",
       "      <th>r2_test</th>\n",
       "      <th>medae_train</th>\n",
       "      <th>medae_val</th>\n",
       "      <th>medae_test</th>\n",
       "      <th>finetune</th>\n",
       "      <th>seed</th>\n",
       "      <th>preprocesser(s)</th>\n",
       "      <th>pipeline_hash</th>\n",
       "    </tr>\n",
       "  </thead>\n",
       "  <tbody>\n",
       "  </tbody>\n",
       "</table>\n",
       "<p>0 rows × 24 columns</p>\n",
       "</div>"
      ],
      "text/plain": [
       "Empty DataFrame\n",
       "Columns: [idx, preprocessers, tokeniser, featuriser, model, total_time, preprocess_time, model_time, rmse_train, rmse_val, rmse, mae_train, mae_val, mae_test, r2_train, r2_val, r2_test, medae_train, medae_val, medae_test, finetune, seed, preprocesser(s), pipeline_hash]\n",
       "Index: []\n",
       "\n",
       "[0 rows x 24 columns]"
      ]
     },
     "metadata": {},
     "output_type": "display_data"
    }
   ],
   "source": [
    "dupe_cols = [\"pipeline_hash\"]\n",
    "if filter_only_replicates:\n",
    "    dupe_cols.append(\"seed\")\n",
    "dupe_idx = filtered_results.duplicated(subset=dupe_cols, keep=False)\n",
    "dupes = filtered_results[dupe_idx]\n",
    "logger.info(f\"Found {len(dupes)} duplicates\")\n",
    "display(dupes.sort_values(\"pipeline_hash\").head(5))"
   ]
  },
  {
   "cell_type": "code",
   "execution_count": 12,
   "metadata": {},
   "outputs": [],
   "source": [
    "fig = px.box(filtered_results, y=metric, points=\"outliers\")\n",
    "def quantiles(df: pd.DataFrame):\n",
    "    min_metric, max_metric = df[metric].min(), df[metric].max()\n",
    "    q1_metric, q3_metric = df[metric].quantile(0.25), df[metric].quantile(0.75)\n",
    "    median_metric = df[metric].median()\n",
    "    return min_metric, q1_metric, median_metric, q3_metric, max_metric\n",
    "min_metric, q1_metric, median_metric, q3_metric, max_metric = quantiles(filtered_results)\n",
    "fig.update_yaxes(\n",
    "    range=[\n",
    "        filtered_results[metric].min()*0.9,\n",
    "        (filtered_results[metric].median() + 1.5 * (filtered_results[metric].quantile(0.75) - filtered_results[metric].quantile(0.25)))*1.1\n",
    "    ]\n",
    ")\n",
    "fig.add_hline(y=perf_of_mean, line_dash=\"dash\", line_color=\"red\", annotation_text=f\"Mean baseline {perf_of_mean:.2f}\")\n",
    "\n",
    "fig.write_image(OUTPUT_DIR / f\"{dataset}_{config_str}_boxplot.{image_ext}\")"
   ]
  },
  {
   "cell_type": "code",
   "execution_count": 13,
   "metadata": {},
   "outputs": [
    {
     "data": {
      "application/vnd.plotly.v1+json": {
       "config": {
        "plotlyServerURL": "https://plot.ly"
       },
       "data": [
        {
         "alignmentgroup": "True",
         "bingroup": "x",
         "hovertemplate": "rmse=%{x}<br>count=%{y}<extra></extra>",
         "legendgroup": "",
         "marker": {
          "color": "#636efa",
          "pattern": {
           "shape": ""
          }
         },
         "name": "",
         "nbinsx": 100,
         "offsetgroup": "",
         "orientation": "v",
         "showlegend": false,
         "type": "histogram",
         "x": [
          302.98532877952385,
          311.33440967319,
          314.76436904156856,
          316.04417458454685,
          317.2746493887332,
          317.7346017842418,
          319.6769612338791,
          319.84229154228257,
          321.90214560858936,
          322.87510822185965,
          324.50076013120145,
          324.7643090896138,
          325.80635178825247,
          325.9737215556308,
          326.2234016638535,
          329.03338868175547,
          329.3217094612876,
          330.1086612808074,
          330.5256683133251,
          330.76188374701206,
          331.16129587426065,
          331.358287112954,
          331.548140198718,
          331.9290450060042,
          332.0048347202477,
          332.75503476142876,
          333.43970039167675,
          334.2797103352185,
          335.2713293085249,
          335.5864986540254,
          335.9048992042993,
          336.08907085976875,
          336.1852444079673,
          336.3351739395896,
          336.3448535264005,
          336.48704449130076,
          336.60502664897905,
          336.79821777577615,
          336.8335200998433,
          336.85379930801435,
          336.8591724846095,
          336.9500563360441,
          337.0332588518629,
          337.11922636614725,
          337.25941827706737,
          337.48317715345,
          337.5988671166009,
          337.894982623395,
          337.90077754813865,
          337.90266967544187,
          337.9748343805495,
          338.05647616789224,
          338.09792610688277,
          338.1378270491865,
          338.3236260538346,
          338.3263710117045,
          338.4344042126516,
          338.48460706558797,
          338.5606744392377,
          338.6965440924381,
          338.9869071965612,
          338.9966386827068,
          339.05756189746137,
          339.1918218769382,
          339.21406567615145,
          339.3346064616603,
          339.541484845856,
          339.86693325695734,
          339.9439793598518,
          340.0157353003433,
          340.3232638181472,
          340.3437861967969,
          340.4496627710643,
          340.71481472697303,
          340.7598731006099,
          341.1772702149842,
          341.56155651982795,
          341.5654140819198,
          341.730787983425,
          341.73937912501395,
          341.7554176447597,
          341.7874981043275,
          341.8069453362533,
          341.8343958172098,
          341.8814359752579,
          341.9640180301286,
          341.9704219945067,
          342.03959722230746,
          342.09688120534224,
          342.16792444405667,
          342.6541438788124,
          342.66038394171005,
          342.6972553433169,
          342.9266835577458,
          342.95439203852345,
          343.1297097274561,
          343.1759709279876,
          343.4001405466925,
          343.63183190382716,
          344.08238575632225,
          344.46179711836015,
          344.5882851234182,
          344.6599005800042,
          344.70917584583214,
          344.7681872587935,
          344.90126037181847,
          344.9162252396897,
          344.9582203077432,
          344.99491808649987,
          345.1905750696036,
          345.23251918281466,
          345.45965330677683,
          345.6375675273746,
          345.6561772720931,
          345.72446705636304,
          345.7941666431594,
          345.9117337808273,
          345.92895858835993,
          345.93135766557367,
          346.35034830966623,
          346.4082543063963,
          346.5631573115318,
          346.84779563276646,
          347.0141209772471,
          347.03265533083226,
          347.16949423169433,
          347.2047541452248,
          347.28476239664195,
          347.41207006458774,
          347.4294724288325,
          347.46799393338375,
          347.5181405710475,
          347.58230329110717,
          347.7000635312551,
          347.9021828044338,
          348.1711070939988,
          348.22211579793645,
          348.41011530741076,
          348.41962699372687,
          348.4396373626991,
          348.44425235320244,
          348.46370137366364,
          348.50457546165956,
          348.5777695564028,
          348.61908268886566,
          348.6620630386463,
          348.6716869328035,
          348.7344944978441,
          348.9703867724513,
          349.02414312168804,
          349.03036184294484,
          349.04017537813047,
          349.0705664824753,
          349.11626894318266,
          349.12113101810587,
          349.1965941402116,
          349.23751047489844,
          349.2625917441977,
          349.2758628342209,
          349.2994040683845,
          349.32132362424323,
          349.3279625093249,
          349.37162517811197,
          349.37537321542425,
          349.3901244979621,
          349.40465243002933,
          349.43919144210247,
          349.51486855039616,
          349.5485828283458,
          349.57263945412586,
          349.74731365656083,
          349.7812956218617,
          349.80690329770636,
          349.87701756783974,
          349.933912210853,
          350.0300069200573,
          350.06693498838104,
          350.1828547872948,
          350.1949826413795,
          350.2573249152995,
          350.2843877997468,
          350.29939244677956,
          350.37150443864977,
          350.4150112538761,
          350.513723721203,
          350.53434639653204,
          350.63896679093614,
          350.6427108952664,
          350.6462899837157,
          350.68205486571253,
          350.7739509101003,
          350.78275671424836,
          350.79536890295367,
          350.8358069292958,
          350.88307844273106,
          350.89342673343697,
          350.9219214509135,
          351.0253572516627,
          351.2048352565753,
          351.22109175659654,
          351.231930676306,
          351.31390493750945,
          351.3254948239948,
          351.3293125051709,
          351.3377469312316,
          351.34004666910556,
          351.36143618895954,
          351.7103111005102,
          351.78153245464944,
          351.79613989863475,
          351.8306927690175,
          351.8468011579895,
          351.92959765326276,
          351.9710491200743,
          352.01419376552434,
          352.15072296073316,
          352.1743319068449,
          352.1872572228812,
          352.19343919505417,
          352.3140587355279,
          352.41515822828916,
          352.4553312867923,
          352.4833673836635,
          352.48955144875686,
          352.51364608339475,
          352.5419263889379,
          352.61210900033564,
          352.6279312841654,
          352.6316692522216,
          352.6698077178222,
          352.7332699657305,
          352.81046930747533,
          352.856737446726,
          352.8620526122858,
          352.87408207406116,
          353.0294081920973,
          353.08244032067927,
          353.0838869420854,
          353.1124817455461,
          353.1151182093502,
          353.1335303202907,
          353.1670024945526,
          353.1739941797307,
          353.21342753476205,
          353.5893263783249,
          353.606273349257,
          353.6354308880048,
          353.6679692404049,
          353.68082534058703,
          353.7027342923967,
          353.79333173049474,
          353.98112293100826,
          353.9919067000957,
          354.04205051869445,
          354.13967330331985,
          354.36535169775783,
          354.3660847119559,
          354.49235621872435,
          354.6199450795406,
          354.74201192634143,
          354.8457934551521,
          354.8798618370827,
          354.88937440743456,
          354.9032814765862,
          354.91046588833,
          354.9447006474114,
          354.98064293427853,
          355.0338531752973,
          355.45024575788625,
          355.6040367861931,
          355.6735847619962,
          355.68057856622704,
          355.71127626477363,
          355.8245888970643,
          355.884607031762,
          355.9033910963849,
          355.9401747785815,
          355.97914072714224,
          355.9808364054509,
          356.02156563865435,
          356.0679837375498,
          356.2411953398134,
          356.3133229287219,
          356.49644770792906,
          356.6991293469381,
          356.8398268634553,
          356.84132909003364,
          356.92774844375293,
          356.98470950334683,
          356.98562678393165,
          357.3378689586965,
          357.5443174790907,
          357.70510125551914,
          357.73883631466583,
          357.75011304409156,
          357.85157603954525,
          357.93551491304,
          357.976700682603,
          358.1030152770202,
          358.5018560050089,
          358.5614054039148,
          358.63423423016394,
          359.1113483535576,
          359.1157001004959,
          359.12411026638614,
          359.22752334396586,
          359.272442432111,
          359.2965882286245,
          359.585543533579,
          359.67294314191514,
          359.8976568270002,
          359.942952652981,
          359.9429722259473,
          359.9668987870047,
          360.099004379823,
          360.10752534130694,
          360.4603648959505,
          360.4603882841269,
          360.4609205536714,
          360.7153568184963,
          360.8514829437244,
          360.88184047643097,
          360.96087493399034,
          360.9839473909152,
          361.013226377878,
          361.0856321960106,
          361.1538533561009,
          361.25804441501856,
          361.4407093716513,
          361.52466131979776,
          361.9404734647899,
          361.9992545748583,
          362.0226172875552,
          362.026135141724,
          362.20467374040646,
          362.32222747461407,
          362.5724020344435,
          362.81126021551154,
          362.8328335497407,
          362.849756851671,
          362.9855138737894,
          363.0239181814165,
          363.07764144071365,
          363.2347751283879,
          363.3237442781769,
          363.35087278437527,
          363.67991570720363,
          363.8052631857211,
          363.8194286693244,
          364.0193204711598,
          364.1713705296326,
          364.2161913691774,
          364.2407253593071,
          364.26840297584334,
          364.28728553022927,
          364.5668946789429,
          364.88130759744774,
          365.036764558557,
          365.08751113082116,
          365.0875355846386,
          365.25388299105725,
          365.3041734388673,
          365.34210859311264,
          365.4177951397347,
          365.65457369388264,
          365.65457369388264,
          365.6946530737583,
          365.74543909929184,
          366.02839085232114,
          366.06220001115344,
          366.3196957860713,
          366.48899989726215,
          366.8519451239413,
          367.4069798555944,
          367.43688107707527,
          367.8588745847962,
          368.1723638158064,
          368.2894080382948,
          368.3388589571237,
          368.4912307839422,
          368.52091726169806,
          368.90861003636127,
          368.94624341410935,
          368.9670422736481,
          369.1052855469451,
          369.4996771144671,
          369.4997010077673,
          369.52179900033474,
          369.71482860775654,
          369.7780359153365,
          369.7838330736886,
          369.8948160224413,
          369.9934710894124,
          370.14552137240315,
          370.2050904911549,
          370.2057238716686,
          370.3860078978548,
          370.4380462873185,
          370.49770092829493,
          370.55193277548267,
          370.62188050813205,
          370.65760437810036,
          370.6576278305256,
          370.73300951580666,
          370.7843775762481,
          370.8757152209511,
          370.8770502108128,
          370.9253271936054,
          370.9984113687101,
          371.2718651402472,
          371.3479739413136,
          371.44434562983963,
          371.57465711437794,
          371.73384976894664,
          372.1014242799801,
          372.224647685234,
          372.3674992889362,
          372.53106896312073,
          372.5728263888575,
          372.79629983440424,
          372.94570734635766,
          372.9658502935422,
          373.03430773451083,
          373.20929264765,
          373.9828571356585,
          374.1124939246338,
          374.31364671418106,
          374.4939247981931,
          374.66451596763966,
          374.69911584110145,
          374.7229520005292,
          374.78607979511054,
          374.84708617838504,
          374.855010612338,
          374.9997614273561,
          375.50278670085095,
          375.52652193826634,
          375.5534021021255,
          375.7072909743442,
          375.7146514419944,
          375.9506247797896,
          375.9734045572443,
          375.9770076861147,
          376.1286019076023,
          376.2694166703999,
          376.2694166703999,
          376.78291641115504,
          377.51326173270786,
          377.8681616373733,
          377.9421602963221,
          378.27063680495627,
          378.4567873402641,
          378.8994000148206,
          379.1154924801731,
          379.1209801771319,
          379.5630560405303,
          379.68623492462063,
          379.78330042507423,
          380.06320522771983,
          380.3029536467347,
          380.41747075129547,
          380.5809858285109,
          380.5950121606963,
          381.152231321977,
          381.15223269775316,
          381.35751873108154,
          381.59657576653046,
          382.0509900092225,
          382.18221529452404,
          382.4232035154832,
          382.57004213387137,
          382.854119211079,
          382.854119211079,
          383.02889980245436,
          383.02898217912934,
          383.2772263110119,
          383.6969715992203,
          383.80966630424103,
          383.8501446510284,
          383.96407164421544,
          384.0900696184098,
          384.30404315776656,
          384.5087800647171,
          384.51201069379687,
          385.3125103664196,
          385.36151258545226,
          385.4179353204312,
          386.0288387329702,
          387.05339465391984,
          387.10390912109716,
          387.21824188686037,
          387.21824188686037,
          387.7165306825249,
          388.1148788970531,
          388.37844747672193,
          388.78028327491865,
          388.95355217227524,
          389.03496006985046,
          389.28013938065595,
          389.7413193447094,
          389.80468299271416,
          389.8061023032268,
          390.1381354286694,
          390.20608760747695,
          390.56214376657783,
          391.25998448422916,
          391.4700797161284,
          391.7286389451438,
          392.5451948235551,
          392.58565900484433,
          392.7302047874685,
          393.3824519729062,
          394.1172468462516,
          394.46024478097763,
          394.65352527730477,
          395.48310894665536,
          395.7152810624031,
          395.76567878476703,
          395.76567878476703,
          395.8022871959019,
          395.8022871959019,
          396.01434855284907,
          396.18282469298936,
          396.18282469298936,
          396.2435672043826,
          396.68174634093964,
          396.81847398599035,
          396.85571070939767,
          397.01146325129235,
          397.4522613326406,
          397.4642401618922,
          397.6446494334573,
          397.6446494334573,
          397.7821879894977,
          397.8692259341138,
          397.8692259341138,
          398.05072784887494,
          398.08956563452256,
          398.1208598039466,
          398.1208598039466,
          398.5571539927195,
          398.77398676364845,
          399.0805936042448,
          399.32312118403775,
          399.32312118403775,
          399.413924843801,
          399.7092781205411,
          399.70999641110814,
          400.22875457374914,
          400.6501558807895,
          401.1433870234501,
          401.3676407353667,
          401.5639424391225,
          401.5639424391225,
          401.58128588853543,
          402.2682055877634,
          402.34658073284925,
          402.4114890639279,
          402.9832966975721,
          403.63254750977575,
          404.066974066485,
          404.19045891016077,
          404.23070892280134,
          404.29279137382946,
          404.4569142803265,
          404.9648166330556,
          405.0058692110435,
          405.3318442184889,
          405.46296148735223,
          405.6030039896613,
          405.9919103056463,
          406.0137170868423,
          406.94545181064206,
          408.60094912524875,
          408.60275995145224,
          408.93014108873115,
          409.02331644330764,
          409.270980873635,
          409.314670772304,
          409.7060595256735,
          410.18279965590557,
          410.18279965590557,
          411.2309316908985,
          411.51939120475356,
          411.6802541601293,
          413.29208208876565,
          415.5496784446039,
          417.7577656334962,
          417.8333463237878,
          419.08591667064263,
          419.317351362789,
          420.60680174927074,
          420.6615239852247,
          422.6355509196624,
          422.95923672946407,
          423.1119063864024,
          423.662146627735,
          424.58231657679477,
          424.6390229265572,
          425.22275059905286,
          426.13300126602934,
          428.19059920228347,
          431.64539741273086,
          432.010309371242,
          432.0498402125762,
          432.2060562869685,
          432.3037237820714,
          432.3512296175998,
          432.35328301335255,
          432.4130428612226,
          432.7764937703638,
          432.92107894207925,
          433.1194155380841,
          433.4197219235252,
          434.4399713764995,
          435.0064635068908,
          438.13881647421186,
          443.58348162512027,
          470.8857583656977,
          480.70134103849585
         ],
         "xaxis": "x",
         "yaxis": "y"
        }
       ],
       "layout": {
        "annotations": [
         {
          "showarrow": false,
          "text": "Mean baseline 459.02",
          "x": 459.02179559721816,
          "xanchor": "left",
          "xref": "x",
          "y": 1,
          "yanchor": "top",
          "yref": "y domain"
         }
        ],
        "barmode": "relative",
        "legend": {
         "tracegroupgap": 0
        },
        "margin": {
         "t": 60
        },
        "shapes": [
         {
          "line": {
           "color": "red",
           "dash": "dash"
          },
          "type": "line",
          "x0": 459.02179559721816,
          "x1": 459.02179559721816,
          "xref": "x",
          "y0": 0,
          "y1": 1,
          "yref": "y domain"
         }
        ],
        "template": {
         "data": {
          "bar": [
           {
            "error_x": {
             "color": "#2a3f5f"
            },
            "error_y": {
             "color": "#2a3f5f"
            },
            "marker": {
             "line": {
              "color": "#E5ECF6",
              "width": 0.5
             },
             "pattern": {
              "fillmode": "overlay",
              "size": 10,
              "solidity": 0.2
             }
            },
            "type": "bar"
           }
          ],
          "barpolar": [
           {
            "marker": {
             "line": {
              "color": "#E5ECF6",
              "width": 0.5
             },
             "pattern": {
              "fillmode": "overlay",
              "size": 10,
              "solidity": 0.2
             }
            },
            "type": "barpolar"
           }
          ],
          "carpet": [
           {
            "aaxis": {
             "endlinecolor": "#2a3f5f",
             "gridcolor": "white",
             "linecolor": "white",
             "minorgridcolor": "white",
             "startlinecolor": "#2a3f5f"
            },
            "baxis": {
             "endlinecolor": "#2a3f5f",
             "gridcolor": "white",
             "linecolor": "white",
             "minorgridcolor": "white",
             "startlinecolor": "#2a3f5f"
            },
            "type": "carpet"
           }
          ],
          "choropleth": [
           {
            "colorbar": {
             "outlinewidth": 0,
             "ticks": ""
            },
            "type": "choropleth"
           }
          ],
          "contour": [
           {
            "colorbar": {
             "outlinewidth": 0,
             "ticks": ""
            },
            "colorscale": [
             [
              0,
              "#0d0887"
             ],
             [
              0.1111111111111111,
              "#46039f"
             ],
             [
              0.2222222222222222,
              "#7201a8"
             ],
             [
              0.3333333333333333,
              "#9c179e"
             ],
             [
              0.4444444444444444,
              "#bd3786"
             ],
             [
              0.5555555555555556,
              "#d8576b"
             ],
             [
              0.6666666666666666,
              "#ed7953"
             ],
             [
              0.7777777777777778,
              "#fb9f3a"
             ],
             [
              0.8888888888888888,
              "#fdca26"
             ],
             [
              1,
              "#f0f921"
             ]
            ],
            "type": "contour"
           }
          ],
          "contourcarpet": [
           {
            "colorbar": {
             "outlinewidth": 0,
             "ticks": ""
            },
            "type": "contourcarpet"
           }
          ],
          "heatmap": [
           {
            "colorbar": {
             "outlinewidth": 0,
             "ticks": ""
            },
            "colorscale": [
             [
              0,
              "#0d0887"
             ],
             [
              0.1111111111111111,
              "#46039f"
             ],
             [
              0.2222222222222222,
              "#7201a8"
             ],
             [
              0.3333333333333333,
              "#9c179e"
             ],
             [
              0.4444444444444444,
              "#bd3786"
             ],
             [
              0.5555555555555556,
              "#d8576b"
             ],
             [
              0.6666666666666666,
              "#ed7953"
             ],
             [
              0.7777777777777778,
              "#fb9f3a"
             ],
             [
              0.8888888888888888,
              "#fdca26"
             ],
             [
              1,
              "#f0f921"
             ]
            ],
            "type": "heatmap"
           }
          ],
          "heatmapgl": [
           {
            "colorbar": {
             "outlinewidth": 0,
             "ticks": ""
            },
            "colorscale": [
             [
              0,
              "#0d0887"
             ],
             [
              0.1111111111111111,
              "#46039f"
             ],
             [
              0.2222222222222222,
              "#7201a8"
             ],
             [
              0.3333333333333333,
              "#9c179e"
             ],
             [
              0.4444444444444444,
              "#bd3786"
             ],
             [
              0.5555555555555556,
              "#d8576b"
             ],
             [
              0.6666666666666666,
              "#ed7953"
             ],
             [
              0.7777777777777778,
              "#fb9f3a"
             ],
             [
              0.8888888888888888,
              "#fdca26"
             ],
             [
              1,
              "#f0f921"
             ]
            ],
            "type": "heatmapgl"
           }
          ],
          "histogram": [
           {
            "marker": {
             "pattern": {
              "fillmode": "overlay",
              "size": 10,
              "solidity": 0.2
             }
            },
            "type": "histogram"
           }
          ],
          "histogram2d": [
           {
            "colorbar": {
             "outlinewidth": 0,
             "ticks": ""
            },
            "colorscale": [
             [
              0,
              "#0d0887"
             ],
             [
              0.1111111111111111,
              "#46039f"
             ],
             [
              0.2222222222222222,
              "#7201a8"
             ],
             [
              0.3333333333333333,
              "#9c179e"
             ],
             [
              0.4444444444444444,
              "#bd3786"
             ],
             [
              0.5555555555555556,
              "#d8576b"
             ],
             [
              0.6666666666666666,
              "#ed7953"
             ],
             [
              0.7777777777777778,
              "#fb9f3a"
             ],
             [
              0.8888888888888888,
              "#fdca26"
             ],
             [
              1,
              "#f0f921"
             ]
            ],
            "type": "histogram2d"
           }
          ],
          "histogram2dcontour": [
           {
            "colorbar": {
             "outlinewidth": 0,
             "ticks": ""
            },
            "colorscale": [
             [
              0,
              "#0d0887"
             ],
             [
              0.1111111111111111,
              "#46039f"
             ],
             [
              0.2222222222222222,
              "#7201a8"
             ],
             [
              0.3333333333333333,
              "#9c179e"
             ],
             [
              0.4444444444444444,
              "#bd3786"
             ],
             [
              0.5555555555555556,
              "#d8576b"
             ],
             [
              0.6666666666666666,
              "#ed7953"
             ],
             [
              0.7777777777777778,
              "#fb9f3a"
             ],
             [
              0.8888888888888888,
              "#fdca26"
             ],
             [
              1,
              "#f0f921"
             ]
            ],
            "type": "histogram2dcontour"
           }
          ],
          "mesh3d": [
           {
            "colorbar": {
             "outlinewidth": 0,
             "ticks": ""
            },
            "type": "mesh3d"
           }
          ],
          "parcoords": [
           {
            "line": {
             "colorbar": {
              "outlinewidth": 0,
              "ticks": ""
             }
            },
            "type": "parcoords"
           }
          ],
          "pie": [
           {
            "automargin": true,
            "type": "pie"
           }
          ],
          "scatter": [
           {
            "fillpattern": {
             "fillmode": "overlay",
             "size": 10,
             "solidity": 0.2
            },
            "type": "scatter"
           }
          ],
          "scatter3d": [
           {
            "line": {
             "colorbar": {
              "outlinewidth": 0,
              "ticks": ""
             }
            },
            "marker": {
             "colorbar": {
              "outlinewidth": 0,
              "ticks": ""
             }
            },
            "type": "scatter3d"
           }
          ],
          "scattercarpet": [
           {
            "marker": {
             "colorbar": {
              "outlinewidth": 0,
              "ticks": ""
             }
            },
            "type": "scattercarpet"
           }
          ],
          "scattergeo": [
           {
            "marker": {
             "colorbar": {
              "outlinewidth": 0,
              "ticks": ""
             }
            },
            "type": "scattergeo"
           }
          ],
          "scattergl": [
           {
            "marker": {
             "colorbar": {
              "outlinewidth": 0,
              "ticks": ""
             }
            },
            "type": "scattergl"
           }
          ],
          "scattermapbox": [
           {
            "marker": {
             "colorbar": {
              "outlinewidth": 0,
              "ticks": ""
             }
            },
            "type": "scattermapbox"
           }
          ],
          "scatterpolar": [
           {
            "marker": {
             "colorbar": {
              "outlinewidth": 0,
              "ticks": ""
             }
            },
            "type": "scatterpolar"
           }
          ],
          "scatterpolargl": [
           {
            "marker": {
             "colorbar": {
              "outlinewidth": 0,
              "ticks": ""
             }
            },
            "type": "scatterpolargl"
           }
          ],
          "scatterternary": [
           {
            "marker": {
             "colorbar": {
              "outlinewidth": 0,
              "ticks": ""
             }
            },
            "type": "scatterternary"
           }
          ],
          "surface": [
           {
            "colorbar": {
             "outlinewidth": 0,
             "ticks": ""
            },
            "colorscale": [
             [
              0,
              "#0d0887"
             ],
             [
              0.1111111111111111,
              "#46039f"
             ],
             [
              0.2222222222222222,
              "#7201a8"
             ],
             [
              0.3333333333333333,
              "#9c179e"
             ],
             [
              0.4444444444444444,
              "#bd3786"
             ],
             [
              0.5555555555555556,
              "#d8576b"
             ],
             [
              0.6666666666666666,
              "#ed7953"
             ],
             [
              0.7777777777777778,
              "#fb9f3a"
             ],
             [
              0.8888888888888888,
              "#fdca26"
             ],
             [
              1,
              "#f0f921"
             ]
            ],
            "type": "surface"
           }
          ],
          "table": [
           {
            "cells": {
             "fill": {
              "color": "#EBF0F8"
             },
             "line": {
              "color": "white"
             }
            },
            "header": {
             "fill": {
              "color": "#C8D4E3"
             },
             "line": {
              "color": "white"
             }
            },
            "type": "table"
           }
          ]
         },
         "layout": {
          "annotationdefaults": {
           "arrowcolor": "#2a3f5f",
           "arrowhead": 0,
           "arrowwidth": 1
          },
          "autotypenumbers": "strict",
          "coloraxis": {
           "colorbar": {
            "outlinewidth": 0,
            "ticks": ""
           }
          },
          "colorscale": {
           "diverging": [
            [
             0,
             "#8e0152"
            ],
            [
             0.1,
             "#c51b7d"
            ],
            [
             0.2,
             "#de77ae"
            ],
            [
             0.3,
             "#f1b6da"
            ],
            [
             0.4,
             "#fde0ef"
            ],
            [
             0.5,
             "#f7f7f7"
            ],
            [
             0.6,
             "#e6f5d0"
            ],
            [
             0.7,
             "#b8e186"
            ],
            [
             0.8,
             "#7fbc41"
            ],
            [
             0.9,
             "#4d9221"
            ],
            [
             1,
             "#276419"
            ]
           ],
           "sequential": [
            [
             0,
             "#0d0887"
            ],
            [
             0.1111111111111111,
             "#46039f"
            ],
            [
             0.2222222222222222,
             "#7201a8"
            ],
            [
             0.3333333333333333,
             "#9c179e"
            ],
            [
             0.4444444444444444,
             "#bd3786"
            ],
            [
             0.5555555555555556,
             "#d8576b"
            ],
            [
             0.6666666666666666,
             "#ed7953"
            ],
            [
             0.7777777777777778,
             "#fb9f3a"
            ],
            [
             0.8888888888888888,
             "#fdca26"
            ],
            [
             1,
             "#f0f921"
            ]
           ],
           "sequentialminus": [
            [
             0,
             "#0d0887"
            ],
            [
             0.1111111111111111,
             "#46039f"
            ],
            [
             0.2222222222222222,
             "#7201a8"
            ],
            [
             0.3333333333333333,
             "#9c179e"
            ],
            [
             0.4444444444444444,
             "#bd3786"
            ],
            [
             0.5555555555555556,
             "#d8576b"
            ],
            [
             0.6666666666666666,
             "#ed7953"
            ],
            [
             0.7777777777777778,
             "#fb9f3a"
            ],
            [
             0.8888888888888888,
             "#fdca26"
            ],
            [
             1,
             "#f0f921"
            ]
           ]
          },
          "colorway": [
           "#636efa",
           "#EF553B",
           "#00cc96",
           "#ab63fa",
           "#FFA15A",
           "#19d3f3",
           "#FF6692",
           "#B6E880",
           "#FF97FF",
           "#FECB52"
          ],
          "font": {
           "color": "#2a3f5f"
          },
          "geo": {
           "bgcolor": "white",
           "lakecolor": "white",
           "landcolor": "#E5ECF6",
           "showlakes": true,
           "showland": true,
           "subunitcolor": "white"
          },
          "hoverlabel": {
           "align": "left"
          },
          "hovermode": "closest",
          "mapbox": {
           "style": "light"
          },
          "paper_bgcolor": "white",
          "plot_bgcolor": "#E5ECF6",
          "polar": {
           "angularaxis": {
            "gridcolor": "white",
            "linecolor": "white",
            "ticks": ""
           },
           "bgcolor": "#E5ECF6",
           "radialaxis": {
            "gridcolor": "white",
            "linecolor": "white",
            "ticks": ""
           }
          },
          "scene": {
           "xaxis": {
            "backgroundcolor": "#E5ECF6",
            "gridcolor": "white",
            "gridwidth": 2,
            "linecolor": "white",
            "showbackground": true,
            "ticks": "",
            "zerolinecolor": "white"
           },
           "yaxis": {
            "backgroundcolor": "#E5ECF6",
            "gridcolor": "white",
            "gridwidth": 2,
            "linecolor": "white",
            "showbackground": true,
            "ticks": "",
            "zerolinecolor": "white"
           },
           "zaxis": {
            "backgroundcolor": "#E5ECF6",
            "gridcolor": "white",
            "gridwidth": 2,
            "linecolor": "white",
            "showbackground": true,
            "ticks": "",
            "zerolinecolor": "white"
           }
          },
          "shapedefaults": {
           "line": {
            "color": "#2a3f5f"
           }
          },
          "ternary": {
           "aaxis": {
            "gridcolor": "white",
            "linecolor": "white",
            "ticks": ""
           },
           "baxis": {
            "gridcolor": "white",
            "linecolor": "white",
            "ticks": ""
           },
           "bgcolor": "#E5ECF6",
           "caxis": {
            "gridcolor": "white",
            "linecolor": "white",
            "ticks": ""
           }
          },
          "title": {
           "x": 0.05
          },
          "xaxis": {
           "automargin": true,
           "gridcolor": "white",
           "linecolor": "white",
           "ticks": "",
           "title": {
            "standoff": 15
           },
           "zerolinecolor": "white",
           "zerolinewidth": 2
          },
          "yaxis": {
           "automargin": true,
           "gridcolor": "white",
           "linecolor": "white",
           "ticks": "",
           "title": {
            "standoff": 15
           },
           "zerolinecolor": "white",
           "zerolinewidth": 2
          }
         }
        },
        "xaxis": {
         "anchor": "y",
         "domain": [
          0,
          1
         ],
         "title": {
          "text": "rmse"
         }
        },
        "yaxis": {
         "anchor": "x",
         "domain": [
          0,
          1
         ],
         "title": {
          "text": "count"
         }
        }
       }
      }
     },
     "metadata": {},
     "output_type": "display_data"
    }
   ],
   "source": [
    "def threshold_histogram(df: pd.DataFrame, metric: str, min_val: float = None, max_val: float = None, mean_line: float = None):\n",
    "    if min_val is not None:\n",
    "        df = df[df[metric] >= min_val]\n",
    "    if max_val is not None:\n",
    "        df = df[df[metric] <= max_val]\n",
    "    fig = px.histogram(df, x=metric, nbins=100)\n",
    "    if mean_line is not None:\n",
    "        fig.add_vline(x=mean_line, line_dash=\"dash\", line_color=\"red\", annotation_text=f\"Mean baseline {mean_line:.2f}\")\n",
    "    return fig\n",
    "\n",
    "fig = threshold_histogram(filtered_results, metric, min_metric, max_metric, perf_of_mean)\n",
    "fig.show()"
   ]
  },
  {
   "cell_type": "code",
   "execution_count": 14,
   "metadata": {},
   "outputs": [
    {
     "data": {
      "application/vnd.plotly.v1+json": {
       "config": {
        "plotlyServerURL": "https://plot.ly"
       },
       "data": [
        {
         "alignmentgroup": "True",
         "bingroup": "x",
         "hovertemplate": "rmse=%{x}<br>count=%{y}<extra></extra>",
         "legendgroup": "",
         "marker": {
          "color": "#636efa",
          "pattern": {
           "shape": ""
          }
         },
         "name": "",
         "nbinsx": 100,
         "offsetgroup": "",
         "orientation": "v",
         "showlegend": false,
         "type": "histogram",
         "x": [
          366.10596768924955,
          396.88443615088937,
          337.1630471729656,
          335.4670840225024,
          364.1534963525735,
          362.1247314917428,
          383.5854689663183,
          395.22767154141656,
          381.3125337852591,
          383.5853109651339,
          369.03343899879576,
          344.12164641810386,
          352.82052020574304,
          402.479878738721,
          400.3089625157611,
          368.52246129547785,
          356.47479919501745,
          367.07823829255733,
          347.0345881634338,
          355.01121218904217,
          350.43853045003084,
          349.88073550412116,
          363.8856957398915,
          355.53669462793914,
          345.0813804265845,
          359.2199782649261,
          329.8631913290774,
          379.5487839026731,
          353.03849901512746,
          338.27345127184935,
          391.4093343626406,
          415.533965622173,
          353.67439517656885,
          385.23559131743485,
          381.6706450161388,
          356.34398868466934,
          360.48827618338044,
          432.9315613039758,
          376.41212654135944,
          349.65998720512147,
          346.33820834482606,
          357.12526562856067,
          348.0984825089418,
          359.59524980997514,
          338.4313972074258,
          364.6275967646478,
          353.27393876327335,
          340.1247489161867,
          367.54165632104207,
          349.9956488301253,
          328.38011915477,
          401.7917214182793,
          341.62810602935645,
          397.3592555918549,
          378.61391184894705,
          374.32729463462056,
          361.38570260345796,
          360.3383300505377,
          354.59091571621076,
          345.0170412167016,
          349.7578698112487,
          370.6950680106718,
          346.4907927469974,
          432.0147075024754,
          380.38749477247495,
          382.60081652114343,
          348.21600148352024,
          390.4173314266037,
          373.89062178790243,
          396.6638065279241,
          356.44227664876064,
          338.84583670946256,
          354.8272853171199,
          399.4507395573999,
          344.3144879251997,
          355.76936165590917,
          399.5751769193484,
          348.8199871609771,
          358.21790072684587,
          352.7545808555133,
          350.31312769821,
          362.7899919079627,
          432.066470451591,
          355.03693018802574,
          381.7831751887302,
          367.62740261926774,
          358.87706946445496,
          354.17568804935365,
          363.919528459581,
          346.92780521607295,
          367.38699282420043,
          402.32855945292386,
          355.1781129086794,
          355.59596331403645,
          355.8336036056288,
          352.90888157013865,
          395.44397467385136,
          374.2335916298368,
          360.3953424687341,
          387.0362673389091,
          397.524885979009,
          364.2628948945825,
          373.2907803391501,
          390.5120300814605,
          363.43707499831106,
          334.8719313189167,
          356.6258305128887,
          419.4799884159519,
          441.58049645520913,
          334.1818543721389,
          358.0976464225855,
          351.8436725802309,
          362.1123066112216,
          399.97637058889416,
          362.87284671533195,
          353.9060391733781,
          340.6705116883271,
          364.6904416163537,
          401.8131719930138,
          354.2545903207925,
          356.4319434164911,
          358.5018621782448,
          351.70026513484163,
          384.7924898258573,
          356.78949135334096,
          345.4025091789466,
          368.522486766826,
          397.3592555918549,
          362.4056290803995,
          345.27393016493903,
          351.941802829376,
          340.92054605221955,
          401.8131719930138,
          336.6106292727313,
          401.78497947317646,
          342.5193441938265,
          353.18054904563417,
          417.6486962464665,
          354.2689894408243,
          357.5178802570704,
          432.7762683361067,
          355.8506606767618,
          350.5481256751157,
          368.27198434353517,
          360.549978958835,
          363.78432812488415,
          355.0112424873956,
          347.48104727822107,
          350.478398590865,
          346.08671594728884,
          358.5900316118245,
          356.04641557175063,
          406.77778636335245,
          354.03440275277535,
          349.7165869489179
         ],
         "xaxis": "x",
         "yaxis": "y"
        }
       ],
       "layout": {
        "annotations": [
         {
          "showarrow": false,
          "text": "Mean baseline 459.02",
          "x": 459.02179559721816,
          "xanchor": "left",
          "xref": "x",
          "y": 1,
          "yanchor": "top",
          "yref": "y domain"
         }
        ],
        "barmode": "relative",
        "legend": {
         "tracegroupgap": 0
        },
        "margin": {
         "t": 60
        },
        "shapes": [
         {
          "line": {
           "color": "red",
           "dash": "dash"
          },
          "type": "line",
          "x0": 459.02179559721816,
          "x1": 459.02179559721816,
          "xref": "x",
          "y0": 0,
          "y1": 1,
          "yref": "y domain"
         }
        ],
        "template": {
         "data": {
          "bar": [
           {
            "error_x": {
             "color": "#2a3f5f"
            },
            "error_y": {
             "color": "#2a3f5f"
            },
            "marker": {
             "line": {
              "color": "#E5ECF6",
              "width": 0.5
             },
             "pattern": {
              "fillmode": "overlay",
              "size": 10,
              "solidity": 0.2
             }
            },
            "type": "bar"
           }
          ],
          "barpolar": [
           {
            "marker": {
             "line": {
              "color": "#E5ECF6",
              "width": 0.5
             },
             "pattern": {
              "fillmode": "overlay",
              "size": 10,
              "solidity": 0.2
             }
            },
            "type": "barpolar"
           }
          ],
          "carpet": [
           {
            "aaxis": {
             "endlinecolor": "#2a3f5f",
             "gridcolor": "white",
             "linecolor": "white",
             "minorgridcolor": "white",
             "startlinecolor": "#2a3f5f"
            },
            "baxis": {
             "endlinecolor": "#2a3f5f",
             "gridcolor": "white",
             "linecolor": "white",
             "minorgridcolor": "white",
             "startlinecolor": "#2a3f5f"
            },
            "type": "carpet"
           }
          ],
          "choropleth": [
           {
            "colorbar": {
             "outlinewidth": 0,
             "ticks": ""
            },
            "type": "choropleth"
           }
          ],
          "contour": [
           {
            "colorbar": {
             "outlinewidth": 0,
             "ticks": ""
            },
            "colorscale": [
             [
              0,
              "#0d0887"
             ],
             [
              0.1111111111111111,
              "#46039f"
             ],
             [
              0.2222222222222222,
              "#7201a8"
             ],
             [
              0.3333333333333333,
              "#9c179e"
             ],
             [
              0.4444444444444444,
              "#bd3786"
             ],
             [
              0.5555555555555556,
              "#d8576b"
             ],
             [
              0.6666666666666666,
              "#ed7953"
             ],
             [
              0.7777777777777778,
              "#fb9f3a"
             ],
             [
              0.8888888888888888,
              "#fdca26"
             ],
             [
              1,
              "#f0f921"
             ]
            ],
            "type": "contour"
           }
          ],
          "contourcarpet": [
           {
            "colorbar": {
             "outlinewidth": 0,
             "ticks": ""
            },
            "type": "contourcarpet"
           }
          ],
          "heatmap": [
           {
            "colorbar": {
             "outlinewidth": 0,
             "ticks": ""
            },
            "colorscale": [
             [
              0,
              "#0d0887"
             ],
             [
              0.1111111111111111,
              "#46039f"
             ],
             [
              0.2222222222222222,
              "#7201a8"
             ],
             [
              0.3333333333333333,
              "#9c179e"
             ],
             [
              0.4444444444444444,
              "#bd3786"
             ],
             [
              0.5555555555555556,
              "#d8576b"
             ],
             [
              0.6666666666666666,
              "#ed7953"
             ],
             [
              0.7777777777777778,
              "#fb9f3a"
             ],
             [
              0.8888888888888888,
              "#fdca26"
             ],
             [
              1,
              "#f0f921"
             ]
            ],
            "type": "heatmap"
           }
          ],
          "heatmapgl": [
           {
            "colorbar": {
             "outlinewidth": 0,
             "ticks": ""
            },
            "colorscale": [
             [
              0,
              "#0d0887"
             ],
             [
              0.1111111111111111,
              "#46039f"
             ],
             [
              0.2222222222222222,
              "#7201a8"
             ],
             [
              0.3333333333333333,
              "#9c179e"
             ],
             [
              0.4444444444444444,
              "#bd3786"
             ],
             [
              0.5555555555555556,
              "#d8576b"
             ],
             [
              0.6666666666666666,
              "#ed7953"
             ],
             [
              0.7777777777777778,
              "#fb9f3a"
             ],
             [
              0.8888888888888888,
              "#fdca26"
             ],
             [
              1,
              "#f0f921"
             ]
            ],
            "type": "heatmapgl"
           }
          ],
          "histogram": [
           {
            "marker": {
             "pattern": {
              "fillmode": "overlay",
              "size": 10,
              "solidity": 0.2
             }
            },
            "type": "histogram"
           }
          ],
          "histogram2d": [
           {
            "colorbar": {
             "outlinewidth": 0,
             "ticks": ""
            },
            "colorscale": [
             [
              0,
              "#0d0887"
             ],
             [
              0.1111111111111111,
              "#46039f"
             ],
             [
              0.2222222222222222,
              "#7201a8"
             ],
             [
              0.3333333333333333,
              "#9c179e"
             ],
             [
              0.4444444444444444,
              "#bd3786"
             ],
             [
              0.5555555555555556,
              "#d8576b"
             ],
             [
              0.6666666666666666,
              "#ed7953"
             ],
             [
              0.7777777777777778,
              "#fb9f3a"
             ],
             [
              0.8888888888888888,
              "#fdca26"
             ],
             [
              1,
              "#f0f921"
             ]
            ],
            "type": "histogram2d"
           }
          ],
          "histogram2dcontour": [
           {
            "colorbar": {
             "outlinewidth": 0,
             "ticks": ""
            },
            "colorscale": [
             [
              0,
              "#0d0887"
             ],
             [
              0.1111111111111111,
              "#46039f"
             ],
             [
              0.2222222222222222,
              "#7201a8"
             ],
             [
              0.3333333333333333,
              "#9c179e"
             ],
             [
              0.4444444444444444,
              "#bd3786"
             ],
             [
              0.5555555555555556,
              "#d8576b"
             ],
             [
              0.6666666666666666,
              "#ed7953"
             ],
             [
              0.7777777777777778,
              "#fb9f3a"
             ],
             [
              0.8888888888888888,
              "#fdca26"
             ],
             [
              1,
              "#f0f921"
             ]
            ],
            "type": "histogram2dcontour"
           }
          ],
          "mesh3d": [
           {
            "colorbar": {
             "outlinewidth": 0,
             "ticks": ""
            },
            "type": "mesh3d"
           }
          ],
          "parcoords": [
           {
            "line": {
             "colorbar": {
              "outlinewidth": 0,
              "ticks": ""
             }
            },
            "type": "parcoords"
           }
          ],
          "pie": [
           {
            "automargin": true,
            "type": "pie"
           }
          ],
          "scatter": [
           {
            "fillpattern": {
             "fillmode": "overlay",
             "size": 10,
             "solidity": 0.2
            },
            "type": "scatter"
           }
          ],
          "scatter3d": [
           {
            "line": {
             "colorbar": {
              "outlinewidth": 0,
              "ticks": ""
             }
            },
            "marker": {
             "colorbar": {
              "outlinewidth": 0,
              "ticks": ""
             }
            },
            "type": "scatter3d"
           }
          ],
          "scattercarpet": [
           {
            "marker": {
             "colorbar": {
              "outlinewidth": 0,
              "ticks": ""
             }
            },
            "type": "scattercarpet"
           }
          ],
          "scattergeo": [
           {
            "marker": {
             "colorbar": {
              "outlinewidth": 0,
              "ticks": ""
             }
            },
            "type": "scattergeo"
           }
          ],
          "scattergl": [
           {
            "marker": {
             "colorbar": {
              "outlinewidth": 0,
              "ticks": ""
             }
            },
            "type": "scattergl"
           }
          ],
          "scattermapbox": [
           {
            "marker": {
             "colorbar": {
              "outlinewidth": 0,
              "ticks": ""
             }
            },
            "type": "scattermapbox"
           }
          ],
          "scatterpolar": [
           {
            "marker": {
             "colorbar": {
              "outlinewidth": 0,
              "ticks": ""
             }
            },
            "type": "scatterpolar"
           }
          ],
          "scatterpolargl": [
           {
            "marker": {
             "colorbar": {
              "outlinewidth": 0,
              "ticks": ""
             }
            },
            "type": "scatterpolargl"
           }
          ],
          "scatterternary": [
           {
            "marker": {
             "colorbar": {
              "outlinewidth": 0,
              "ticks": ""
             }
            },
            "type": "scatterternary"
           }
          ],
          "surface": [
           {
            "colorbar": {
             "outlinewidth": 0,
             "ticks": ""
            },
            "colorscale": [
             [
              0,
              "#0d0887"
             ],
             [
              0.1111111111111111,
              "#46039f"
             ],
             [
              0.2222222222222222,
              "#7201a8"
             ],
             [
              0.3333333333333333,
              "#9c179e"
             ],
             [
              0.4444444444444444,
              "#bd3786"
             ],
             [
              0.5555555555555556,
              "#d8576b"
             ],
             [
              0.6666666666666666,
              "#ed7953"
             ],
             [
              0.7777777777777778,
              "#fb9f3a"
             ],
             [
              0.8888888888888888,
              "#fdca26"
             ],
             [
              1,
              "#f0f921"
             ]
            ],
            "type": "surface"
           }
          ],
          "table": [
           {
            "cells": {
             "fill": {
              "color": "#EBF0F8"
             },
             "line": {
              "color": "white"
             }
            },
            "header": {
             "fill": {
              "color": "#C8D4E3"
             },
             "line": {
              "color": "white"
             }
            },
            "type": "table"
           }
          ]
         },
         "layout": {
          "annotationdefaults": {
           "arrowcolor": "#2a3f5f",
           "arrowhead": 0,
           "arrowwidth": 1
          },
          "autotypenumbers": "strict",
          "coloraxis": {
           "colorbar": {
            "outlinewidth": 0,
            "ticks": ""
           }
          },
          "colorscale": {
           "diverging": [
            [
             0,
             "#8e0152"
            ],
            [
             0.1,
             "#c51b7d"
            ],
            [
             0.2,
             "#de77ae"
            ],
            [
             0.3,
             "#f1b6da"
            ],
            [
             0.4,
             "#fde0ef"
            ],
            [
             0.5,
             "#f7f7f7"
            ],
            [
             0.6,
             "#e6f5d0"
            ],
            [
             0.7,
             "#b8e186"
            ],
            [
             0.8,
             "#7fbc41"
            ],
            [
             0.9,
             "#4d9221"
            ],
            [
             1,
             "#276419"
            ]
           ],
           "sequential": [
            [
             0,
             "#0d0887"
            ],
            [
             0.1111111111111111,
             "#46039f"
            ],
            [
             0.2222222222222222,
             "#7201a8"
            ],
            [
             0.3333333333333333,
             "#9c179e"
            ],
            [
             0.4444444444444444,
             "#bd3786"
            ],
            [
             0.5555555555555556,
             "#d8576b"
            ],
            [
             0.6666666666666666,
             "#ed7953"
            ],
            [
             0.7777777777777778,
             "#fb9f3a"
            ],
            [
             0.8888888888888888,
             "#fdca26"
            ],
            [
             1,
             "#f0f921"
            ]
           ],
           "sequentialminus": [
            [
             0,
             "#0d0887"
            ],
            [
             0.1111111111111111,
             "#46039f"
            ],
            [
             0.2222222222222222,
             "#7201a8"
            ],
            [
             0.3333333333333333,
             "#9c179e"
            ],
            [
             0.4444444444444444,
             "#bd3786"
            ],
            [
             0.5555555555555556,
             "#d8576b"
            ],
            [
             0.6666666666666666,
             "#ed7953"
            ],
            [
             0.7777777777777778,
             "#fb9f3a"
            ],
            [
             0.8888888888888888,
             "#fdca26"
            ],
            [
             1,
             "#f0f921"
            ]
           ]
          },
          "colorway": [
           "#636efa",
           "#EF553B",
           "#00cc96",
           "#ab63fa",
           "#FFA15A",
           "#19d3f3",
           "#FF6692",
           "#B6E880",
           "#FF97FF",
           "#FECB52"
          ],
          "font": {
           "color": "#2a3f5f"
          },
          "geo": {
           "bgcolor": "white",
           "lakecolor": "white",
           "landcolor": "#E5ECF6",
           "showlakes": true,
           "showland": true,
           "subunitcolor": "white"
          },
          "hoverlabel": {
           "align": "left"
          },
          "hovermode": "closest",
          "mapbox": {
           "style": "light"
          },
          "paper_bgcolor": "white",
          "plot_bgcolor": "#E5ECF6",
          "polar": {
           "angularaxis": {
            "gridcolor": "white",
            "linecolor": "white",
            "ticks": ""
           },
           "bgcolor": "#E5ECF6",
           "radialaxis": {
            "gridcolor": "white",
            "linecolor": "white",
            "ticks": ""
           }
          },
          "scene": {
           "xaxis": {
            "backgroundcolor": "#E5ECF6",
            "gridcolor": "white",
            "gridwidth": 2,
            "linecolor": "white",
            "showbackground": true,
            "ticks": "",
            "zerolinecolor": "white"
           },
           "yaxis": {
            "backgroundcolor": "#E5ECF6",
            "gridcolor": "white",
            "gridwidth": 2,
            "linecolor": "white",
            "showbackground": true,
            "ticks": "",
            "zerolinecolor": "white"
           },
           "zaxis": {
            "backgroundcolor": "#E5ECF6",
            "gridcolor": "white",
            "gridwidth": 2,
            "linecolor": "white",
            "showbackground": true,
            "ticks": "",
            "zerolinecolor": "white"
           }
          },
          "shapedefaults": {
           "line": {
            "color": "#2a3f5f"
           }
          },
          "ternary": {
           "aaxis": {
            "gridcolor": "white",
            "linecolor": "white",
            "ticks": ""
           },
           "baxis": {
            "gridcolor": "white",
            "linecolor": "white",
            "ticks": ""
           },
           "bgcolor": "#E5ECF6",
           "caxis": {
            "gridcolor": "white",
            "linecolor": "white",
            "ticks": ""
           }
          },
          "title": {
           "x": 0.05
          },
          "xaxis": {
           "automargin": true,
           "gridcolor": "white",
           "linecolor": "white",
           "ticks": "",
           "title": {
            "standoff": 15
           },
           "zerolinecolor": "white",
           "zerolinewidth": 2
          },
          "yaxis": {
           "automargin": true,
           "gridcolor": "white",
           "linecolor": "white",
           "ticks": "",
           "title": {
            "standoff": 15
           },
           "zerolinecolor": "white",
           "zerolinewidth": 2
          }
         }
        },
        "xaxis": {
         "anchor": "y",
         "domain": [
          0,
          1
         ],
         "title": {
          "text": "rmse"
         }
        },
        "yaxis": {
         "anchor": "x",
         "domain": [
          0,
          1
         ],
         "title": {
          "text": "count"
         }
        }
       }
      }
     },
     "metadata": {},
     "output_type": "display_data"
    }
   ],
   "source": [
    "if filter_only_replicates:\n",
    "    mean_rmse = filtered_results.groupby(\"pipeline_hash\").agg({metric: \"mean\"})\n",
    "    min_mean_rmse = mean_rmse[metric].min()\n",
    "    max_mean_rmse = mean_rmse[metric].max()\n",
    "    fig = threshold_histogram(mean_rmse, metric, min_mean_rmse, max_mean_rmse, perf_of_mean)\n",
    "    fig.show()"
   ]
  },
  {
   "cell_type": "markdown",
   "metadata": {},
   "source": [
    "# Timing of different groups of model"
   ]
  },
  {
   "cell_type": "code",
   "execution_count": 15,
   "metadata": {},
   "outputs": [
    {
     "data": {
      "application/vnd.plotly.v1+json": {
       "config": {
        "plotlyServerURL": "https://plot.ly"
       },
       "data": [
        {
         "histnorm": "percent",
         "name": "Finetuned Models",
         "nbinsx": 20,
         "opacity": 0.75,
         "type": "histogram",
         "x": [
          7414.869353532791,
          7331.874741077423,
          1442.3879189491272,
          4095.5578224658966,
          6006.07505607605,
          2388.4872744083405,
          6423.2743265628815,
          6993.232015609741,
          2669.0909512043,
          7436.105145692825,
          5719.0085072517395,
          1213.3190751075745,
          7515.827690124512,
          1279.6862349510193,
          7385.35244512558,
          4333.387562990189,
          3374.823520421982,
          1882.2995071411133,
          2295.589254617691,
          1605.122844696045,
          2254.9674944877625,
          2187.48419547081,
          1228.8805782794952,
          2067.1637461185455,
          3196.1732382774353,
          4634.797522306442,
          660.8532402515411,
          840.2722580432892,
          1888.9579603672028,
          3958.922776222229,
          2063.076954126358,
          927.0596964359283,
          2005.1364905834198,
          2353.3650176525116,
          2455.469009399414,
          1980.228340625763,
          2323.442350625992,
          1855.837012052536,
          1938.7155730724335,
          1059.2983257770538,
          2392.0321745872498,
          2362.6783678531647,
          1953.864494562149,
          2182.460271835327,
          2090.8513197898865,
          2412.223392724991,
          2065.4730231761932,
          675.3207230567932,
          969.6231515407562,
          2031.876338481903,
          2380.3278930187225,
          2060.4767026901245,
          3932.1750502586365,
          1836.6292006969452,
          2454.071273326874,
          2975.3338277339935
         ]
        },
        {
         "histnorm": "percent",
         "name": "BOW Models",
         "nbinsx": 20,
         "opacity": 0.75,
         "type": "histogram",
         "x": [
          247.0763440132141,
          107.41576743125916,
          69.28359937667847,
          94.83045554161072,
          112.42793536186218,
          72.13124752044678,
          174.378657579422,
          112.09282565116882,
          112.68791365623474,
          251.22012996673584,
          47.22100758552551,
          231.29477953910828,
          167.47276043891907,
          126.11411690711975,
          371.074077129364,
          67.49410820007324,
          793.2772009372711,
          82.4754889011383,
          67.02357029914856,
          115.3555223941803,
          183.7250096797943,
          38.073461294174194,
          66.06328535079956,
          281.09621477127075,
          72.96957778930664,
          45.61836051940918,
          36.909135818481445,
          26.909082889556885,
          769.0961728096008,
          28.486449241638184,
          253.2962019443512,
          27.297674417495728,
          328.0205509662628,
          157.90966749191284,
          71.4765248298645,
          59.67583250999451,
          180.95490956306458,
          24.687655210494995,
          214.35098218917847,
          83.14969444274902,
          146.09601259231567,
          184.1260085105896,
          359.73066210746765,
          130.82649326324463,
          55.4231071472168,
          172.92699313163757,
          217.74017190933228,
          149.44387984275818,
          152.00449013710022,
          70.35320854187012,
          58.4804949760437,
          115.0064218044281,
          91.56343936920166,
          195.80991315841675,
          119.69731998443604,
          258.2673511505127,
          73.68780565261841,
          163.42191338539124,
          69.91242361068726,
          130.22636485099792,
          143.69501638412476,
          144.60541105270386,
          92.08678531646729,
          82.8383240699768,
          22.927138328552246,
          103.25524544715881,
          175.8132574558258,
          131.9488115310669,
          124.19099497795105,
          244.87356185913086,
          76.30337595939636,
          115.79298830032349,
          38.736666440963745,
          114.61460852622986,
          79.12606883049011,
          104.01037788391113,
          50.93319773674011,
          97.57307004928589,
          77.00550723075867,
          68.88243269920349,
          774.7626032829285,
          78.04613780975342,
          162.06495809555054,
          163.40330576896667,
          173.49915599822998,
          95.31964254379272,
          330.6415102481842,
          143.63584113121033,
          179.4175570011139,
          110.95348024368286,
          107.28203105926514,
          133.7229564189911,
          68.82434105873108,
          249.86120891571045,
          35.71621656417847,
          113.81165599822998,
          240.77378129959106,
          110.53560662269592,
          43.87816071510315,
          294.87504744529724,
          208.19754600524902,
          45.94039702415466,
          196.73600554466248,
          53.26849818229675,
          836.3472895622253,
          34.675541400909424,
          74.50147271156311,
          41.273165464401245,
          62.22408699989319,
          69.44040632247925,
          165.5691990852356,
          111.5026319026947,
          146.03841590881348,
          28.934489727020264,
          316.4090406894684,
          83.36145257949829,
          276.0090253353119,
          125.01649522781372,
          80.61567425727844,
          120.71315956115723,
          55.20565891265869,
          59.4162814617157,
          52.758785009384155,
          110.8554139137268,
          106.95534348487854,
          757.9293212890625,
          231.28885197639465,
          160.8893551826477,
          711.3979678153992,
          69.8082320690155,
          141.20849514007568,
          98.50665807723999,
          187.37138390541077,
          712.0830492973328,
          201.15360307693481,
          86.7566614151001,
          735.2865040302277,
          85.21418881416321,
          161.74145102500916,
          103.98802185058594,
          730.6713714599609,
          162.23851132392883,
          24.476354122161865,
          133.77359247207642,
          149.99158239364624,
          441.8134698867798,
          704.0952608585358,
          73.1880362033844,
          68.8287308216095,
          142.29287123680115,
          92.30439329147339,
          179.03033423423767,
          83.98729228973389,
          23.077404260635376,
          34.23402404785156,
          39.401899099349976,
          94.75608420372009,
          89.91541886329651,
          76.66747260093689,
          784.1063215732574,
          62.1360239982605,
          179.4194300174713,
          115.96918034553528,
          60.879680156707764,
          30.323076486587524,
          106.62508344650269,
          733.3381288051605,
          103.37092018127441,
          91.55392861366272,
          781.0314681529999,
          806.7888231277466,
          23.11889338493347,
          57.01832675933838,
          79.02144360542297,
          784.6264269351959,
          777.112291097641,
          122.30278491973877,
          125.48334956169128,
          64.8241536617279,
          741.3825922012329,
          156.86758470535278,
          164.28130197525024,
          155.37742567062378,
          91.25035858154297,
          820.4891576766968,
          110.88001489639282,
          74.89764499664307,
          102.92492818832397,
          713.2502229213715,
          110.89145088195801,
          112.00340723991394,
          43.15675115585327,
          116.29074120521545,
          781.4897356033325,
          102.90117692947388,
          67.09087181091309,
          127.1126115322113,
          67.33417177200317,
          100.95821285247803,
          137.1660554409027,
          117.13679432868958,
          764.0561006069183,
          94.3929271697998,
          74.43344926834106,
          84.7881829738617,
          812.8769173622131,
          768.1256287097931,
          170.93802523612976,
          177.17999458312988,
          117.29010057449341,
          96.9603624343872,
          116.86797499656677,
          98.09467267990112,
          759.7241196632385,
          55.57614850997925,
          807.21631026268,
          36.98008441925049,
          778.6508746147156,
          60.80315804481506,
          123.5149474143982,
          885.4928805828094,
          132.02469325065613,
          165.31150078773499,
          20.308101654052734,
          152.3434042930603,
          36.06749629974365,
          99.86924004554749,
          113.30603241920471,
          199.2518503665924,
          41.059380292892456,
          241.68930387496948,
          248.21687293052673,
          25.041744470596313,
          95.89091277122498,
          122.64163970947266,
          178.1042652130127,
          73.6375584602356,
          100.83047080039978,
          98.94518995285034,
          129.56961035728455,
          84.24946284294128,
          125.20269870758057,
          124.40627765655518,
          85.38418483734131,
          30.750001668930054,
          136.6565387248993,
          95.55432152748108,
          98.50374436378479,
          133.54257130622864,
          148.08616423606873,
          24.754024744033813,
          681.2676436901093,
          97.10861921310425,
          124.85499811172485,
          128.23258709907532,
          142.37636137008667,
          742.3555555343628,
          86.58649396896362,
          129.66681814193726,
          106.97831010818481,
          153.27145171165466,
          129.14574265480042,
          118.20826387405396,
          158.3457591533661,
          154.0947995185852,
          61.94578242301941,
          179.39460039138794,
          118.62980580329895,
          134.63963532447815,
          51.058931827545166,
          176.34114027023315,
          250.85412287712097,
          51.22223353385925,
          147.38635110855103,
          783.2802364826202,
          108.49173402786255,
          124.7760579586029,
          41.254631757736206,
          47.62730383872986,
          127.30112504959106,
          131.98867440223694,
          84.7080237865448,
          40.185394048690796,
          300.54932141304016,
          140.41856217384338,
          62.443479776382446,
          219.4454653263092,
          29.81443190574646,
          139.55110669136047,
          108.58054494857788,
          109.34858512878418,
          802.9708814620972,
          116.04932260513306,
          132.98125529289246,
          98.08932209014893,
          178.26341795921326,
          92.85672068595886,
          157.19798064231873,
          31.080424308776855,
          93.18450498580933,
          165.1266119480133,
          137.81112217903137,
          144.72613167762756,
          96.69991874694824,
          184.63448071479797,
          143.03845834732056,
          821.0676827430725,
          64.3108959197998,
          770.8587603569031,
          113.38115429878235,
          272.01260590553284,
          163.56547451019287,
          282.07574248313904,
          81.42146968841553,
          91.20298838615417,
          78.12355446815491,
          280.0932688713074,
          323.7203326225281,
          56.87179684638977,
          107.226886510849,
          96.03010964393616,
          254.98122787475586,
          217.61164593696594,
          172.28906273841858,
          102.7028238773346,
          328.9555859565735,
          178.21550846099854,
          90.85504817962646
         ]
        }
       ],
       "layout": {
        "barmode": "overlay",
        "template": {
         "data": {
          "bar": [
           {
            "error_x": {
             "color": "#2a3f5f"
            },
            "error_y": {
             "color": "#2a3f5f"
            },
            "marker": {
             "line": {
              "color": "#E5ECF6",
              "width": 0.5
             },
             "pattern": {
              "fillmode": "overlay",
              "size": 10,
              "solidity": 0.2
             }
            },
            "type": "bar"
           }
          ],
          "barpolar": [
           {
            "marker": {
             "line": {
              "color": "#E5ECF6",
              "width": 0.5
             },
             "pattern": {
              "fillmode": "overlay",
              "size": 10,
              "solidity": 0.2
             }
            },
            "type": "barpolar"
           }
          ],
          "carpet": [
           {
            "aaxis": {
             "endlinecolor": "#2a3f5f",
             "gridcolor": "white",
             "linecolor": "white",
             "minorgridcolor": "white",
             "startlinecolor": "#2a3f5f"
            },
            "baxis": {
             "endlinecolor": "#2a3f5f",
             "gridcolor": "white",
             "linecolor": "white",
             "minorgridcolor": "white",
             "startlinecolor": "#2a3f5f"
            },
            "type": "carpet"
           }
          ],
          "choropleth": [
           {
            "colorbar": {
             "outlinewidth": 0,
             "ticks": ""
            },
            "type": "choropleth"
           }
          ],
          "contour": [
           {
            "colorbar": {
             "outlinewidth": 0,
             "ticks": ""
            },
            "colorscale": [
             [
              0,
              "#0d0887"
             ],
             [
              0.1111111111111111,
              "#46039f"
             ],
             [
              0.2222222222222222,
              "#7201a8"
             ],
             [
              0.3333333333333333,
              "#9c179e"
             ],
             [
              0.4444444444444444,
              "#bd3786"
             ],
             [
              0.5555555555555556,
              "#d8576b"
             ],
             [
              0.6666666666666666,
              "#ed7953"
             ],
             [
              0.7777777777777778,
              "#fb9f3a"
             ],
             [
              0.8888888888888888,
              "#fdca26"
             ],
             [
              1,
              "#f0f921"
             ]
            ],
            "type": "contour"
           }
          ],
          "contourcarpet": [
           {
            "colorbar": {
             "outlinewidth": 0,
             "ticks": ""
            },
            "type": "contourcarpet"
           }
          ],
          "heatmap": [
           {
            "colorbar": {
             "outlinewidth": 0,
             "ticks": ""
            },
            "colorscale": [
             [
              0,
              "#0d0887"
             ],
             [
              0.1111111111111111,
              "#46039f"
             ],
             [
              0.2222222222222222,
              "#7201a8"
             ],
             [
              0.3333333333333333,
              "#9c179e"
             ],
             [
              0.4444444444444444,
              "#bd3786"
             ],
             [
              0.5555555555555556,
              "#d8576b"
             ],
             [
              0.6666666666666666,
              "#ed7953"
             ],
             [
              0.7777777777777778,
              "#fb9f3a"
             ],
             [
              0.8888888888888888,
              "#fdca26"
             ],
             [
              1,
              "#f0f921"
             ]
            ],
            "type": "heatmap"
           }
          ],
          "heatmapgl": [
           {
            "colorbar": {
             "outlinewidth": 0,
             "ticks": ""
            },
            "colorscale": [
             [
              0,
              "#0d0887"
             ],
             [
              0.1111111111111111,
              "#46039f"
             ],
             [
              0.2222222222222222,
              "#7201a8"
             ],
             [
              0.3333333333333333,
              "#9c179e"
             ],
             [
              0.4444444444444444,
              "#bd3786"
             ],
             [
              0.5555555555555556,
              "#d8576b"
             ],
             [
              0.6666666666666666,
              "#ed7953"
             ],
             [
              0.7777777777777778,
              "#fb9f3a"
             ],
             [
              0.8888888888888888,
              "#fdca26"
             ],
             [
              1,
              "#f0f921"
             ]
            ],
            "type": "heatmapgl"
           }
          ],
          "histogram": [
           {
            "marker": {
             "pattern": {
              "fillmode": "overlay",
              "size": 10,
              "solidity": 0.2
             }
            },
            "type": "histogram"
           }
          ],
          "histogram2d": [
           {
            "colorbar": {
             "outlinewidth": 0,
             "ticks": ""
            },
            "colorscale": [
             [
              0,
              "#0d0887"
             ],
             [
              0.1111111111111111,
              "#46039f"
             ],
             [
              0.2222222222222222,
              "#7201a8"
             ],
             [
              0.3333333333333333,
              "#9c179e"
             ],
             [
              0.4444444444444444,
              "#bd3786"
             ],
             [
              0.5555555555555556,
              "#d8576b"
             ],
             [
              0.6666666666666666,
              "#ed7953"
             ],
             [
              0.7777777777777778,
              "#fb9f3a"
             ],
             [
              0.8888888888888888,
              "#fdca26"
             ],
             [
              1,
              "#f0f921"
             ]
            ],
            "type": "histogram2d"
           }
          ],
          "histogram2dcontour": [
           {
            "colorbar": {
             "outlinewidth": 0,
             "ticks": ""
            },
            "colorscale": [
             [
              0,
              "#0d0887"
             ],
             [
              0.1111111111111111,
              "#46039f"
             ],
             [
              0.2222222222222222,
              "#7201a8"
             ],
             [
              0.3333333333333333,
              "#9c179e"
             ],
             [
              0.4444444444444444,
              "#bd3786"
             ],
             [
              0.5555555555555556,
              "#d8576b"
             ],
             [
              0.6666666666666666,
              "#ed7953"
             ],
             [
              0.7777777777777778,
              "#fb9f3a"
             ],
             [
              0.8888888888888888,
              "#fdca26"
             ],
             [
              1,
              "#f0f921"
             ]
            ],
            "type": "histogram2dcontour"
           }
          ],
          "mesh3d": [
           {
            "colorbar": {
             "outlinewidth": 0,
             "ticks": ""
            },
            "type": "mesh3d"
           }
          ],
          "parcoords": [
           {
            "line": {
             "colorbar": {
              "outlinewidth": 0,
              "ticks": ""
             }
            },
            "type": "parcoords"
           }
          ],
          "pie": [
           {
            "automargin": true,
            "type": "pie"
           }
          ],
          "scatter": [
           {
            "fillpattern": {
             "fillmode": "overlay",
             "size": 10,
             "solidity": 0.2
            },
            "type": "scatter"
           }
          ],
          "scatter3d": [
           {
            "line": {
             "colorbar": {
              "outlinewidth": 0,
              "ticks": ""
             }
            },
            "marker": {
             "colorbar": {
              "outlinewidth": 0,
              "ticks": ""
             }
            },
            "type": "scatter3d"
           }
          ],
          "scattercarpet": [
           {
            "marker": {
             "colorbar": {
              "outlinewidth": 0,
              "ticks": ""
             }
            },
            "type": "scattercarpet"
           }
          ],
          "scattergeo": [
           {
            "marker": {
             "colorbar": {
              "outlinewidth": 0,
              "ticks": ""
             }
            },
            "type": "scattergeo"
           }
          ],
          "scattergl": [
           {
            "marker": {
             "colorbar": {
              "outlinewidth": 0,
              "ticks": ""
             }
            },
            "type": "scattergl"
           }
          ],
          "scattermapbox": [
           {
            "marker": {
             "colorbar": {
              "outlinewidth": 0,
              "ticks": ""
             }
            },
            "type": "scattermapbox"
           }
          ],
          "scatterpolar": [
           {
            "marker": {
             "colorbar": {
              "outlinewidth": 0,
              "ticks": ""
             }
            },
            "type": "scatterpolar"
           }
          ],
          "scatterpolargl": [
           {
            "marker": {
             "colorbar": {
              "outlinewidth": 0,
              "ticks": ""
             }
            },
            "type": "scatterpolargl"
           }
          ],
          "scatterternary": [
           {
            "marker": {
             "colorbar": {
              "outlinewidth": 0,
              "ticks": ""
             }
            },
            "type": "scatterternary"
           }
          ],
          "surface": [
           {
            "colorbar": {
             "outlinewidth": 0,
             "ticks": ""
            },
            "colorscale": [
             [
              0,
              "#0d0887"
             ],
             [
              0.1111111111111111,
              "#46039f"
             ],
             [
              0.2222222222222222,
              "#7201a8"
             ],
             [
              0.3333333333333333,
              "#9c179e"
             ],
             [
              0.4444444444444444,
              "#bd3786"
             ],
             [
              0.5555555555555556,
              "#d8576b"
             ],
             [
              0.6666666666666666,
              "#ed7953"
             ],
             [
              0.7777777777777778,
              "#fb9f3a"
             ],
             [
              0.8888888888888888,
              "#fdca26"
             ],
             [
              1,
              "#f0f921"
             ]
            ],
            "type": "surface"
           }
          ],
          "table": [
           {
            "cells": {
             "fill": {
              "color": "#EBF0F8"
             },
             "line": {
              "color": "white"
             }
            },
            "header": {
             "fill": {
              "color": "#C8D4E3"
             },
             "line": {
              "color": "white"
             }
            },
            "type": "table"
           }
          ]
         },
         "layout": {
          "annotationdefaults": {
           "arrowcolor": "#2a3f5f",
           "arrowhead": 0,
           "arrowwidth": 1
          },
          "autotypenumbers": "strict",
          "coloraxis": {
           "colorbar": {
            "outlinewidth": 0,
            "ticks": ""
           }
          },
          "colorscale": {
           "diverging": [
            [
             0,
             "#8e0152"
            ],
            [
             0.1,
             "#c51b7d"
            ],
            [
             0.2,
             "#de77ae"
            ],
            [
             0.3,
             "#f1b6da"
            ],
            [
             0.4,
             "#fde0ef"
            ],
            [
             0.5,
             "#f7f7f7"
            ],
            [
             0.6,
             "#e6f5d0"
            ],
            [
             0.7,
             "#b8e186"
            ],
            [
             0.8,
             "#7fbc41"
            ],
            [
             0.9,
             "#4d9221"
            ],
            [
             1,
             "#276419"
            ]
           ],
           "sequential": [
            [
             0,
             "#0d0887"
            ],
            [
             0.1111111111111111,
             "#46039f"
            ],
            [
             0.2222222222222222,
             "#7201a8"
            ],
            [
             0.3333333333333333,
             "#9c179e"
            ],
            [
             0.4444444444444444,
             "#bd3786"
            ],
            [
             0.5555555555555556,
             "#d8576b"
            ],
            [
             0.6666666666666666,
             "#ed7953"
            ],
            [
             0.7777777777777778,
             "#fb9f3a"
            ],
            [
             0.8888888888888888,
             "#fdca26"
            ],
            [
             1,
             "#f0f921"
            ]
           ],
           "sequentialminus": [
            [
             0,
             "#0d0887"
            ],
            [
             0.1111111111111111,
             "#46039f"
            ],
            [
             0.2222222222222222,
             "#7201a8"
            ],
            [
             0.3333333333333333,
             "#9c179e"
            ],
            [
             0.4444444444444444,
             "#bd3786"
            ],
            [
             0.5555555555555556,
             "#d8576b"
            ],
            [
             0.6666666666666666,
             "#ed7953"
            ],
            [
             0.7777777777777778,
             "#fb9f3a"
            ],
            [
             0.8888888888888888,
             "#fdca26"
            ],
            [
             1,
             "#f0f921"
            ]
           ]
          },
          "colorway": [
           "#636efa",
           "#EF553B",
           "#00cc96",
           "#ab63fa",
           "#FFA15A",
           "#19d3f3",
           "#FF6692",
           "#B6E880",
           "#FF97FF",
           "#FECB52"
          ],
          "font": {
           "color": "#2a3f5f"
          },
          "geo": {
           "bgcolor": "white",
           "lakecolor": "white",
           "landcolor": "#E5ECF6",
           "showlakes": true,
           "showland": true,
           "subunitcolor": "white"
          },
          "hoverlabel": {
           "align": "left"
          },
          "hovermode": "closest",
          "mapbox": {
           "style": "light"
          },
          "paper_bgcolor": "white",
          "plot_bgcolor": "#E5ECF6",
          "polar": {
           "angularaxis": {
            "gridcolor": "white",
            "linecolor": "white",
            "ticks": ""
           },
           "bgcolor": "#E5ECF6",
           "radialaxis": {
            "gridcolor": "white",
            "linecolor": "white",
            "ticks": ""
           }
          },
          "scene": {
           "xaxis": {
            "backgroundcolor": "#E5ECF6",
            "gridcolor": "white",
            "gridwidth": 2,
            "linecolor": "white",
            "showbackground": true,
            "ticks": "",
            "zerolinecolor": "white"
           },
           "yaxis": {
            "backgroundcolor": "#E5ECF6",
            "gridcolor": "white",
            "gridwidth": 2,
            "linecolor": "white",
            "showbackground": true,
            "ticks": "",
            "zerolinecolor": "white"
           },
           "zaxis": {
            "backgroundcolor": "#E5ECF6",
            "gridcolor": "white",
            "gridwidth": 2,
            "linecolor": "white",
            "showbackground": true,
            "ticks": "",
            "zerolinecolor": "white"
           }
          },
          "shapedefaults": {
           "line": {
            "color": "#2a3f5f"
           }
          },
          "ternary": {
           "aaxis": {
            "gridcolor": "white",
            "linecolor": "white",
            "ticks": ""
           },
           "baxis": {
            "gridcolor": "white",
            "linecolor": "white",
            "ticks": ""
           },
           "bgcolor": "#E5ECF6",
           "caxis": {
            "gridcolor": "white",
            "linecolor": "white",
            "ticks": ""
           }
          },
          "title": {
           "x": 0.05
          },
          "xaxis": {
           "automargin": true,
           "gridcolor": "white",
           "linecolor": "white",
           "ticks": "",
           "title": {
            "standoff": 15
           },
           "zerolinecolor": "white",
           "zerolinewidth": 2
          },
          "yaxis": {
           "automargin": true,
           "gridcolor": "white",
           "linecolor": "white",
           "ticks": "",
           "title": {
            "standoff": 15
           },
           "zerolinecolor": "white",
           "zerolinewidth": 2
          }
         }
        },
        "title": {
         "text": "Training Time Distribution: Finetuned vs BOW Models"
        },
        "xaxis": {
         "title": {
          "text": "Total Training Time (s)"
         }
        },
        "yaxis": {
         "title": {
          "text": "Count"
         }
        }
       }
      }
     },
     "metadata": {},
     "output_type": "display_data"
    }
   ],
   "source": [
    "# Create histogram comparing timing of finetuned vs non-finetuned models\n",
    "ft_pipelines = filtered_results[filtered_results[\"model\"].str.contains(\"_ft\", na=False)].copy()\n",
    "bow_pipelines = filtered_results[filtered_results[\"featuriser\"].isin([\"bow_binary\", \"bow_count\", \"tf_idf\"])].copy()\n",
    "ft_times = ft_pipelines[\"total_time\"].values\n",
    "bow_times = bow_pipelines[\"total_time\"].values\n",
    "\n",
    "fig = go.Figure()\n",
    "fig.add_trace(go.Histogram(x=ft_times, name=\"Finetuned Models\", histnorm=\"percent\", nbinsx=20))\n",
    "fig.add_trace(go.Histogram(x=bow_times, name=\"BOW Models\", histnorm=\"percent\", nbinsx=20))\n",
    "\n",
    "fig.update_layout(\n",
    "    title=\"Training Time Distribution: Finetuned vs BOW Models\",\n",
    "    xaxis_title=\"Total Training Time (s)\",\n",
    "    yaxis_title=\"Count\",\n",
    "    barmode='overlay'\n",
    ")\n",
    "\n",
    "fig.update_traces(opacity=0.75)\n",
    "fig.write_image(OUTPUT_DIR / f\"{dataset}_{config_str}_timing_histogram.{image_ext}\")\n",
    "fig.show()\n"
   ]
  },
  {
   "cell_type": "code",
   "execution_count": 16,
   "metadata": {},
   "outputs": [
    {
     "data": {
      "text/html": [
       "<div>\n",
       "<style scoped>\n",
       "    .dataframe tbody tr th:only-of-type {\n",
       "        vertical-align: middle;\n",
       "    }\n",
       "\n",
       "    .dataframe tbody tr th {\n",
       "        vertical-align: top;\n",
       "    }\n",
       "\n",
       "    .dataframe thead th {\n",
       "        text-align: right;\n",
       "    }\n",
       "</style>\n",
       "<table border=\"1\" class=\"dataframe\">\n",
       "  <thead>\n",
       "    <tr style=\"text-align: right;\">\n",
       "      <th></th>\n",
       "      <th>dataset</th>\n",
       "      <th>mean-difference (BOW - FT)</th>\n",
       "      <th>p_value</th>\n",
       "    </tr>\n",
       "  </thead>\n",
       "  <tbody>\n",
       "    <tr>\n",
       "      <th>0</th>\n",
       "      <td>jcp</td>\n",
       "      <td>-2766.750859</td>\n",
       "      <td>0.00001</td>\n",
       "    </tr>\n",
       "  </tbody>\n",
       "</table>\n",
       "</div>"
      ],
      "text/plain": [
       "  dataset  mean-difference (BOW - FT)  p_value\n",
       "0     jcp                -2766.750859  0.00001"
      ]
     },
     "metadata": {},
     "output_type": "display_data"
    }
   ],
   "source": [
    "p_value, diff = permutation_test(bow_times, ft_times)\n",
    "\n",
    "results = pd.DataFrame({\n",
    "    \"dataset\": [dataset_name_map[dataset]],\n",
    "    \"mean-difference (BOW - FT)\": [diff],\n",
    "    \"p_value\": [p_value],\n",
    "})\n",
    "\n",
    "display(results)\n",
    "\n",
    "latex_table = results.to_latex(float_format=simple_format, index=False)\n",
    "latex_table = process_latex_table(latex_table)\n",
    "with open(table_dir / f\"{dataset}_{config_str}_time_permutation_test.tex\", \"w\") as f:\n",
    "    f.write(latex_table)\n"
   ]
  },
  {
   "cell_type": "markdown",
   "metadata": {},
   "source": [
    "# Reduction from best to worst pipeline conditional on model"
   ]
  },
  {
   "cell_type": "code",
   "execution_count": 17,
   "metadata": {},
   "outputs": [
    {
     "data": {
      "text/html": [
       "<div>\n",
       "<style scoped>\n",
       "    .dataframe tbody tr th:only-of-type {\n",
       "        vertical-align: middle;\n",
       "    }\n",
       "\n",
       "    .dataframe tbody tr th {\n",
       "        vertical-align: top;\n",
       "    }\n",
       "\n",
       "    .dataframe thead th {\n",
       "        text-align: right;\n",
       "    }\n",
       "</style>\n",
       "<table border=\"1\" class=\"dataframe\">\n",
       "  <thead>\n",
       "    <tr style=\"text-align: right;\">\n",
       "      <th></th>\n",
       "      <th>% Reduction in error</th>\n",
       "    </tr>\n",
       "  </thead>\n",
       "  <tbody>\n",
       "    <tr>\n",
       "      <th>catboost</th>\n",
       "      <td>16.955141</td>\n",
       "    </tr>\n",
       "    <tr>\n",
       "      <th>deep_linear</th>\n",
       "      <td>20.123804</td>\n",
       "    </tr>\n",
       "    <tr>\n",
       "      <th>deep_linear_ft</th>\n",
       "      <td>21.808106</td>\n",
       "    </tr>\n",
       "    <tr>\n",
       "      <th>mlp</th>\n",
       "      <td>32.111567</td>\n",
       "    </tr>\n",
       "    <tr>\n",
       "      <th>mlp_ft</th>\n",
       "      <td>16.751690</td>\n",
       "    </tr>\n",
       "    <tr>\n",
       "      <th>resnet</th>\n",
       "      <td>14.900697</td>\n",
       "    </tr>\n",
       "    <tr>\n",
       "      <th>resnet_ft</th>\n",
       "      <td>16.869808</td>\n",
       "    </tr>\n",
       "    <tr>\n",
       "      <th>unconditional</th>\n",
       "      <td>36.970151</td>\n",
       "    </tr>\n",
       "    <tr>\n",
       "      <th>xgboost</th>\n",
       "      <td>36.970151</td>\n",
       "    </tr>\n",
       "  </tbody>\n",
       "</table>\n",
       "</div>"
      ],
      "text/plain": [
       "                % Reduction in error\n",
       "catboost                   16.955141\n",
       "deep_linear                20.123804\n",
       "deep_linear_ft             21.808106\n",
       "mlp                        32.111567\n",
       "mlp_ft                     16.751690\n",
       "resnet                     14.900697\n",
       "resnet_ft                  16.869808\n",
       "unconditional              36.970151\n",
       "xgboost                    36.970151"
      ]
     },
     "metadata": {},
     "output_type": "display_data"
    }
   ],
   "source": [
    "table_dir.mkdir(exist_ok=True, parents=True)\n",
    "very_best = filtered_results[metric].sort_values().head(1).values[0]\n",
    "very_worst = filtered_results[metric].sort_values().tail(1).values[0]\n",
    "reduction_in_error = dict()\n",
    "reduction_in_error[\"unconditional\"] = (very_worst - very_best) / very_worst * 100\n",
    "unique_models = filtered_results[\"model\"].unique()\n",
    "for model in unique_models:\n",
    "    model_results = filtered_results[filtered_results[\"model\"] == model]\n",
    "    very_best = model_results[metric].sort_values().head(1).values[0]\n",
    "    very_worst = model_results[metric].sort_values().tail(1).values[0]\n",
    "    reduction_in_error[model] = (very_worst - very_best) / very_worst * 100\n",
    "\n",
    "reduction_in_error = pd.Series(reduction_in_error, name=\"% Reduction in error\").sort_index()\n",
    "display(pd.DataFrame(reduction_in_error))\n",
    "\n",
    "latex_table = reduction_in_error.to_latex(float_format=simple_format)\n",
    "latex_table = process_latex_table(latex_table)\n",
    "\n",
    "with open(table_dir / f\"{dataset}_{config_str}_reduction_in_error.tex\", \"w\") as f:\n",
    "    f.write(latex_table)\n"
   ]
  },
  {
   "cell_type": "markdown",
   "metadata": {},
   "source": [
    "If the range of interest is compressed by outliers for plots we can filter them below; following config from above"
   ]
  },
  {
   "cell_type": "code",
   "execution_count": 18,
   "metadata": {},
   "outputs": [],
   "source": [
    "# Filter top k\n",
    "if filter_out_worst:\n",
    "    k = filter_worst_k_for[dataset]\n",
    "else: \n",
    "    k = 0\n",
    "worst = filtered_results.sort_values(metric).tail(k)\n",
    "results_df = filtered_results[~filtered_results.index.isin(worst.index)]"
   ]
  },
  {
   "cell_type": "code",
   "execution_count": 19,
   "metadata": {},
   "outputs": [
    {
     "data": {
      "application/vnd.plotly.v1+json": {
       "config": {
        "plotlyServerURL": "https://plot.ly"
       },
       "data": [
        {
         "alignmentgroup": "True",
         "bingroup": "x",
         "hovertemplate": "rmse=%{x}<br>count=%{y}<extra></extra>",
         "legendgroup": "",
         "marker": {
          "color": "#636efa",
          "pattern": {
           "shape": ""
          }
         },
         "name": "",
         "nbinsx": 100,
         "offsetgroup": "",
         "orientation": "v",
         "showlegend": false,
         "type": "histogram",
         "x": [
          302.98532877952385,
          311.33440967319,
          314.76436904156856,
          316.04417458454685,
          317.2746493887332,
          317.7346017842418,
          319.6769612338791,
          319.84229154228257,
          321.90214560858936,
          322.87510822185965,
          324.50076013120145,
          324.7643090896138,
          325.80635178825247,
          325.9737215556308,
          326.2234016638535,
          329.03338868175547,
          329.3217094612876,
          330.1086612808074,
          330.5256683133251,
          330.76188374701206,
          331.16129587426065,
          331.358287112954,
          331.548140198718,
          331.9290450060042,
          332.0048347202477,
          332.75503476142876,
          333.43970039167675,
          334.2797103352185,
          335.2713293085249,
          335.5864986540254,
          335.9048992042993,
          336.08907085976875,
          336.1852444079673,
          336.3351739395896,
          336.3448535264005,
          336.48704449130076,
          336.60502664897905,
          336.79821777577615,
          336.8335200998433,
          336.85379930801435,
          336.8591724846095,
          336.9500563360441,
          337.0332588518629,
          337.11922636614725,
          337.25941827706737,
          337.48317715345,
          337.5988671166009,
          337.894982623395,
          337.90077754813865,
          337.90266967544187,
          337.9748343805495,
          338.05647616789224,
          338.09792610688277,
          338.1378270491865,
          338.3236260538346,
          338.3263710117045,
          338.4344042126516,
          338.48460706558797,
          338.5606744392377,
          338.6965440924381,
          338.9869071965612,
          338.9966386827068,
          339.05756189746137,
          339.1918218769382,
          339.21406567615145,
          339.3346064616603,
          339.541484845856,
          339.86693325695734,
          339.9439793598518,
          340.0157353003433,
          340.3232638181472,
          340.3437861967969,
          340.4496627710643,
          340.71481472697303,
          340.7598731006099,
          341.1772702149842,
          341.56155651982795,
          341.5654140819198,
          341.730787983425,
          341.73937912501395,
          341.7554176447597,
          341.7874981043275,
          341.8069453362533,
          341.8343958172098,
          341.8814359752579,
          341.9640180301286,
          341.9704219945067,
          342.03959722230746,
          342.09688120534224,
          342.16792444405667,
          342.6541438788124,
          342.66038394171005,
          342.6972553433169,
          342.9266835577458,
          342.95439203852345,
          343.1297097274561,
          343.1759709279876,
          343.4001405466925,
          343.63183190382716,
          344.08238575632225,
          344.46179711836015,
          344.5882851234182,
          344.6599005800042,
          344.70917584583214,
          344.7681872587935,
          344.90126037181847,
          344.9162252396897,
          344.9582203077432,
          344.99491808649987,
          345.1905750696036,
          345.23251918281466,
          345.45965330677683,
          345.6375675273746,
          345.6561772720931,
          345.72446705636304,
          345.7941666431594,
          345.9117337808273,
          345.92895858835993,
          345.93135766557367,
          346.35034830966623,
          346.4082543063963,
          346.5631573115318,
          346.84779563276646,
          347.0141209772471,
          347.03265533083226,
          347.16949423169433,
          347.2047541452248,
          347.28476239664195,
          347.41207006458774,
          347.4294724288325,
          347.46799393338375,
          347.5181405710475,
          347.58230329110717,
          347.7000635312551,
          347.9021828044338,
          348.1711070939988,
          348.22211579793645,
          348.41011530741076,
          348.41962699372687,
          348.4396373626991,
          348.44425235320244,
          348.46370137366364,
          348.50457546165956,
          348.5777695564028,
          348.61908268886566,
          348.6620630386463,
          348.6716869328035,
          348.7344944978441,
          348.9703867724513,
          349.02414312168804,
          349.03036184294484,
          349.04017537813047,
          349.0705664824753,
          349.11626894318266,
          349.12113101810587,
          349.1965941402116,
          349.23751047489844,
          349.2625917441977,
          349.2758628342209,
          349.2994040683845,
          349.32132362424323,
          349.3279625093249,
          349.37162517811197,
          349.37537321542425,
          349.3901244979621,
          349.40465243002933,
          349.43919144210247,
          349.51486855039616,
          349.5485828283458,
          349.57263945412586,
          349.74731365656083,
          349.7812956218617,
          349.80690329770636,
          349.87701756783974,
          349.933912210853,
          350.0300069200573,
          350.06693498838104,
          350.1828547872948,
          350.1949826413795,
          350.2573249152995,
          350.2843877997468,
          350.29939244677956,
          350.37150443864977,
          350.4150112538761,
          350.513723721203,
          350.53434639653204,
          350.63896679093614,
          350.6427108952664,
          350.6462899837157,
          350.68205486571253,
          350.7739509101003,
          350.78275671424836,
          350.79536890295367,
          350.8358069292958,
          350.88307844273106,
          350.89342673343697,
          350.9219214509135,
          351.0253572516627,
          351.2048352565753,
          351.22109175659654,
          351.231930676306,
          351.31390493750945,
          351.3254948239948,
          351.3293125051709,
          351.3377469312316,
          351.34004666910556,
          351.36143618895954,
          351.7103111005102,
          351.78153245464944,
          351.79613989863475,
          351.8306927690175,
          351.8468011579895,
          351.92959765326276,
          351.9710491200743,
          352.01419376552434,
          352.15072296073316,
          352.1743319068449,
          352.1872572228812,
          352.19343919505417,
          352.3140587355279,
          352.41515822828916,
          352.4553312867923,
          352.4833673836635,
          352.48955144875686,
          352.51364608339475,
          352.5419263889379,
          352.61210900033564,
          352.6279312841654,
          352.6316692522216,
          352.6698077178222,
          352.7332699657305,
          352.81046930747533,
          352.856737446726,
          352.8620526122858,
          352.87408207406116,
          353.0294081920973,
          353.08244032067927,
          353.0838869420854,
          353.1124817455461,
          353.1151182093502,
          353.1335303202907,
          353.1670024945526,
          353.1739941797307,
          353.21342753476205,
          353.5893263783249,
          353.606273349257,
          353.6354308880048,
          353.6679692404049,
          353.68082534058703,
          353.7027342923967,
          353.79333173049474,
          353.98112293100826,
          353.9919067000957,
          354.04205051869445,
          354.13967330331985,
          354.36535169775783,
          354.3660847119559,
          354.49235621872435,
          354.6199450795406,
          354.74201192634143,
          354.8457934551521,
          354.8798618370827,
          354.88937440743456,
          354.9032814765862,
          354.91046588833,
          354.9447006474114,
          354.98064293427853,
          355.0338531752973,
          355.45024575788625,
          355.6040367861931,
          355.6735847619962,
          355.68057856622704,
          355.71127626477363,
          355.8245888970643,
          355.884607031762,
          355.9033910963849,
          355.9401747785815,
          355.97914072714224,
          355.9808364054509,
          356.02156563865435,
          356.0679837375498,
          356.2411953398134,
          356.3133229287219,
          356.49644770792906,
          356.6991293469381,
          356.8398268634553,
          356.84132909003364,
          356.92774844375293,
          356.98470950334683,
          356.98562678393165,
          357.3378689586965,
          357.5443174790907,
          357.70510125551914,
          357.73883631466583,
          357.75011304409156,
          357.85157603954525,
          357.93551491304,
          357.976700682603,
          358.1030152770202,
          358.5018560050089,
          358.5614054039148,
          358.63423423016394,
          359.1113483535576,
          359.1157001004959,
          359.12411026638614,
          359.22752334396586,
          359.272442432111,
          359.2965882286245,
          359.585543533579,
          359.67294314191514,
          359.8976568270002,
          359.942952652981,
          359.9429722259473,
          359.9668987870047,
          360.099004379823,
          360.10752534130694,
          360.4603648959505,
          360.4603882841269,
          360.4609205536714,
          360.7153568184963,
          360.8514829437244,
          360.88184047643097,
          360.96087493399034,
          360.9839473909152,
          361.013226377878,
          361.0856321960106,
          361.1538533561009,
          361.25804441501856,
          361.4407093716513,
          361.52466131979776,
          361.9404734647899,
          361.9992545748583,
          362.0226172875552,
          362.026135141724,
          362.20467374040646,
          362.32222747461407,
          362.5724020344435,
          362.81126021551154,
          362.8328335497407,
          362.849756851671,
          362.9855138737894,
          363.0239181814165,
          363.07764144071365,
          363.2347751283879,
          363.3237442781769,
          363.35087278437527,
          363.67991570720363,
          363.8052631857211,
          363.8194286693244,
          364.0193204711598,
          364.1713705296326,
          364.2161913691774,
          364.2407253593071,
          364.26840297584334,
          364.28728553022927,
          364.5668946789429,
          364.88130759744774,
          365.036764558557,
          365.08751113082116,
          365.0875355846386,
          365.25388299105725,
          365.3041734388673,
          365.34210859311264,
          365.4177951397347,
          365.65457369388264,
          365.65457369388264,
          365.6946530737583,
          365.74543909929184,
          366.02839085232114,
          366.06220001115344,
          366.3196957860713,
          366.48899989726215,
          366.8519451239413,
          367.4069798555944,
          367.43688107707527,
          367.8588745847962,
          368.1723638158064,
          368.2894080382948,
          368.3388589571237,
          368.4912307839422,
          368.52091726169806,
          368.90861003636127,
          368.94624341410935,
          368.9670422736481,
          369.1052855469451,
          369.4996771144671,
          369.4997010077673,
          369.52179900033474,
          369.71482860775654,
          369.7780359153365,
          369.7838330736886,
          369.8948160224413,
          369.9934710894124,
          370.14552137240315,
          370.2050904911549,
          370.2057238716686,
          370.3860078978548,
          370.4380462873185,
          370.49770092829493,
          370.55193277548267,
          370.62188050813205,
          370.65760437810036,
          370.6576278305256,
          370.73300951580666,
          370.7843775762481,
          370.8757152209511,
          370.8770502108128,
          370.9253271936054,
          370.9984113687101,
          371.2718651402472,
          371.3479739413136,
          371.44434562983963,
          371.57465711437794,
          371.73384976894664,
          372.1014242799801,
          372.224647685234,
          372.3674992889362,
          372.53106896312073,
          372.5728263888575,
          372.79629983440424,
          372.94570734635766,
          372.9658502935422,
          373.03430773451083,
          373.20929264765,
          373.9828571356585,
          374.1124939246338,
          374.31364671418106,
          374.4939247981931,
          374.66451596763966,
          374.69911584110145,
          374.7229520005292,
          374.78607979511054,
          374.84708617838504,
          374.855010612338,
          374.9997614273561,
          375.50278670085095,
          375.52652193826634,
          375.5534021021255,
          375.7072909743442,
          375.7146514419944,
          375.9506247797896,
          375.9734045572443,
          375.9770076861147,
          376.1286019076023,
          376.2694166703999,
          376.2694166703999,
          376.78291641115504,
          377.51326173270786,
          377.8681616373733,
          377.9421602963221,
          378.27063680495627,
          378.4567873402641,
          378.8994000148206,
          379.1154924801731,
          379.1209801771319,
          379.5630560405303,
          379.68623492462063,
          379.78330042507423,
          380.06320522771983,
          380.3029536467347,
          380.41747075129547,
          380.5809858285109,
          380.5950121606963,
          381.152231321977,
          381.15223269775316,
          381.35751873108154,
          381.59657576653046,
          382.0509900092225,
          382.18221529452404,
          382.4232035154832,
          382.57004213387137,
          382.854119211079,
          382.854119211079,
          383.02889980245436,
          383.02898217912934,
          383.2772263110119,
          383.6969715992203,
          383.80966630424103,
          383.8501446510284,
          383.96407164421544,
          384.0900696184098,
          384.30404315776656,
          384.5087800647171,
          384.51201069379687,
          385.3125103664196,
          385.36151258545226,
          385.4179353204312,
          386.0288387329702,
          387.05339465391984,
          387.10390912109716,
          387.21824188686037,
          387.21824188686037,
          387.7165306825249,
          388.1148788970531,
          388.37844747672193,
          388.78028327491865,
          388.95355217227524,
          389.03496006985046,
          389.28013938065595,
          389.7413193447094,
          389.80468299271416,
          389.8061023032268,
          390.1381354286694,
          390.20608760747695,
          390.56214376657783,
          391.25998448422916,
          391.4700797161284,
          391.7286389451438,
          392.5451948235551,
          392.58565900484433,
          392.7302047874685,
          393.3824519729062,
          394.1172468462516,
          394.46024478097763,
          394.65352527730477,
          395.48310894665536,
          395.7152810624031,
          395.76567878476703,
          395.76567878476703,
          395.8022871959019,
          395.8022871959019,
          396.01434855284907,
          396.18282469298936,
          396.18282469298936,
          396.2435672043826,
          396.68174634093964,
          396.81847398599035,
          396.85571070939767,
          397.01146325129235,
          397.4522613326406,
          397.4642401618922,
          397.6446494334573,
          397.6446494334573,
          397.7821879894977,
          397.8692259341138,
          397.8692259341138,
          398.05072784887494,
          398.08956563452256,
          398.1208598039466,
          398.1208598039466,
          398.5571539927195,
          398.77398676364845,
          399.0805936042448,
          399.32312118403775,
          399.32312118403775,
          399.413924843801,
          399.7092781205411,
          399.70999641110814,
          400.22875457374914,
          400.6501558807895,
          401.1433870234501,
          401.3676407353667,
          401.5639424391225,
          401.5639424391225,
          401.58128588853543,
          402.2682055877634,
          402.34658073284925,
          402.4114890639279,
          402.9832966975721,
          403.63254750977575,
          404.066974066485,
          404.19045891016077,
          404.23070892280134,
          404.29279137382946,
          404.4569142803265,
          404.9648166330556,
          405.0058692110435,
          405.3318442184889,
          405.46296148735223,
          405.6030039896613,
          405.9919103056463,
          406.0137170868423,
          406.94545181064206,
          408.60094912524875,
          408.60275995145224,
          408.93014108873115,
          409.02331644330764,
          409.270980873635,
          409.314670772304,
          409.7060595256735,
          410.18279965590557,
          410.18279965590557,
          411.2309316908985,
          411.51939120475356,
          411.6802541601293,
          413.29208208876565,
          415.5496784446039,
          417.7577656334962,
          417.8333463237878,
          419.08591667064263,
          419.317351362789,
          420.60680174927074,
          420.6615239852247,
          422.6355509196624,
          422.95923672946407,
          423.1119063864024,
          423.662146627735,
          424.58231657679477,
          424.6390229265572,
          425.22275059905286,
          426.13300126602934,
          428.19059920228347,
          431.64539741273086,
          432.010309371242,
          432.0498402125762,
          432.2060562869685,
          432.3037237820714,
          432.3512296175998,
          432.35328301335255,
          432.4130428612226,
          432.7764937703638,
          432.92107894207925,
          433.1194155380841,
          433.4197219235252,
          434.4399713764995,
          435.0064635068908,
          438.13881647421186,
          443.58348162512027,
          470.8857583656977,
          480.70134103849585
         ],
         "xaxis": "x",
         "yaxis": "y"
        }
       ],
       "layout": {
        "annotations": [
         {
          "showarrow": false,
          "text": "Mean baseline 459.02",
          "x": 459.02179559721816,
          "xanchor": "left",
          "xref": "x",
          "y": 1,
          "yanchor": "top",
          "yref": "y domain"
         }
        ],
        "barmode": "relative",
        "legend": {
         "tracegroupgap": 0
        },
        "margin": {
         "t": 60
        },
        "shapes": [
         {
          "line": {
           "color": "red",
           "dash": "dash"
          },
          "type": "line",
          "x0": 459.02179559721816,
          "x1": 459.02179559721816,
          "xref": "x",
          "y0": 0,
          "y1": 1,
          "yref": "y domain"
         }
        ],
        "template": {
         "data": {
          "bar": [
           {
            "error_x": {
             "color": "#2a3f5f"
            },
            "error_y": {
             "color": "#2a3f5f"
            },
            "marker": {
             "line": {
              "color": "#E5ECF6",
              "width": 0.5
             },
             "pattern": {
              "fillmode": "overlay",
              "size": 10,
              "solidity": 0.2
             }
            },
            "type": "bar"
           }
          ],
          "barpolar": [
           {
            "marker": {
             "line": {
              "color": "#E5ECF6",
              "width": 0.5
             },
             "pattern": {
              "fillmode": "overlay",
              "size": 10,
              "solidity": 0.2
             }
            },
            "type": "barpolar"
           }
          ],
          "carpet": [
           {
            "aaxis": {
             "endlinecolor": "#2a3f5f",
             "gridcolor": "white",
             "linecolor": "white",
             "minorgridcolor": "white",
             "startlinecolor": "#2a3f5f"
            },
            "baxis": {
             "endlinecolor": "#2a3f5f",
             "gridcolor": "white",
             "linecolor": "white",
             "minorgridcolor": "white",
             "startlinecolor": "#2a3f5f"
            },
            "type": "carpet"
           }
          ],
          "choropleth": [
           {
            "colorbar": {
             "outlinewidth": 0,
             "ticks": ""
            },
            "type": "choropleth"
           }
          ],
          "contour": [
           {
            "colorbar": {
             "outlinewidth": 0,
             "ticks": ""
            },
            "colorscale": [
             [
              0,
              "#0d0887"
             ],
             [
              0.1111111111111111,
              "#46039f"
             ],
             [
              0.2222222222222222,
              "#7201a8"
             ],
             [
              0.3333333333333333,
              "#9c179e"
             ],
             [
              0.4444444444444444,
              "#bd3786"
             ],
             [
              0.5555555555555556,
              "#d8576b"
             ],
             [
              0.6666666666666666,
              "#ed7953"
             ],
             [
              0.7777777777777778,
              "#fb9f3a"
             ],
             [
              0.8888888888888888,
              "#fdca26"
             ],
             [
              1,
              "#f0f921"
             ]
            ],
            "type": "contour"
           }
          ],
          "contourcarpet": [
           {
            "colorbar": {
             "outlinewidth": 0,
             "ticks": ""
            },
            "type": "contourcarpet"
           }
          ],
          "heatmap": [
           {
            "colorbar": {
             "outlinewidth": 0,
             "ticks": ""
            },
            "colorscale": [
             [
              0,
              "#0d0887"
             ],
             [
              0.1111111111111111,
              "#46039f"
             ],
             [
              0.2222222222222222,
              "#7201a8"
             ],
             [
              0.3333333333333333,
              "#9c179e"
             ],
             [
              0.4444444444444444,
              "#bd3786"
             ],
             [
              0.5555555555555556,
              "#d8576b"
             ],
             [
              0.6666666666666666,
              "#ed7953"
             ],
             [
              0.7777777777777778,
              "#fb9f3a"
             ],
             [
              0.8888888888888888,
              "#fdca26"
             ],
             [
              1,
              "#f0f921"
             ]
            ],
            "type": "heatmap"
           }
          ],
          "heatmapgl": [
           {
            "colorbar": {
             "outlinewidth": 0,
             "ticks": ""
            },
            "colorscale": [
             [
              0,
              "#0d0887"
             ],
             [
              0.1111111111111111,
              "#46039f"
             ],
             [
              0.2222222222222222,
              "#7201a8"
             ],
             [
              0.3333333333333333,
              "#9c179e"
             ],
             [
              0.4444444444444444,
              "#bd3786"
             ],
             [
              0.5555555555555556,
              "#d8576b"
             ],
             [
              0.6666666666666666,
              "#ed7953"
             ],
             [
              0.7777777777777778,
              "#fb9f3a"
             ],
             [
              0.8888888888888888,
              "#fdca26"
             ],
             [
              1,
              "#f0f921"
             ]
            ],
            "type": "heatmapgl"
           }
          ],
          "histogram": [
           {
            "marker": {
             "pattern": {
              "fillmode": "overlay",
              "size": 10,
              "solidity": 0.2
             }
            },
            "type": "histogram"
           }
          ],
          "histogram2d": [
           {
            "colorbar": {
             "outlinewidth": 0,
             "ticks": ""
            },
            "colorscale": [
             [
              0,
              "#0d0887"
             ],
             [
              0.1111111111111111,
              "#46039f"
             ],
             [
              0.2222222222222222,
              "#7201a8"
             ],
             [
              0.3333333333333333,
              "#9c179e"
             ],
             [
              0.4444444444444444,
              "#bd3786"
             ],
             [
              0.5555555555555556,
              "#d8576b"
             ],
             [
              0.6666666666666666,
              "#ed7953"
             ],
             [
              0.7777777777777778,
              "#fb9f3a"
             ],
             [
              0.8888888888888888,
              "#fdca26"
             ],
             [
              1,
              "#f0f921"
             ]
            ],
            "type": "histogram2d"
           }
          ],
          "histogram2dcontour": [
           {
            "colorbar": {
             "outlinewidth": 0,
             "ticks": ""
            },
            "colorscale": [
             [
              0,
              "#0d0887"
             ],
             [
              0.1111111111111111,
              "#46039f"
             ],
             [
              0.2222222222222222,
              "#7201a8"
             ],
             [
              0.3333333333333333,
              "#9c179e"
             ],
             [
              0.4444444444444444,
              "#bd3786"
             ],
             [
              0.5555555555555556,
              "#d8576b"
             ],
             [
              0.6666666666666666,
              "#ed7953"
             ],
             [
              0.7777777777777778,
              "#fb9f3a"
             ],
             [
              0.8888888888888888,
              "#fdca26"
             ],
             [
              1,
              "#f0f921"
             ]
            ],
            "type": "histogram2dcontour"
           }
          ],
          "mesh3d": [
           {
            "colorbar": {
             "outlinewidth": 0,
             "ticks": ""
            },
            "type": "mesh3d"
           }
          ],
          "parcoords": [
           {
            "line": {
             "colorbar": {
              "outlinewidth": 0,
              "ticks": ""
             }
            },
            "type": "parcoords"
           }
          ],
          "pie": [
           {
            "automargin": true,
            "type": "pie"
           }
          ],
          "scatter": [
           {
            "fillpattern": {
             "fillmode": "overlay",
             "size": 10,
             "solidity": 0.2
            },
            "type": "scatter"
           }
          ],
          "scatter3d": [
           {
            "line": {
             "colorbar": {
              "outlinewidth": 0,
              "ticks": ""
             }
            },
            "marker": {
             "colorbar": {
              "outlinewidth": 0,
              "ticks": ""
             }
            },
            "type": "scatter3d"
           }
          ],
          "scattercarpet": [
           {
            "marker": {
             "colorbar": {
              "outlinewidth": 0,
              "ticks": ""
             }
            },
            "type": "scattercarpet"
           }
          ],
          "scattergeo": [
           {
            "marker": {
             "colorbar": {
              "outlinewidth": 0,
              "ticks": ""
             }
            },
            "type": "scattergeo"
           }
          ],
          "scattergl": [
           {
            "marker": {
             "colorbar": {
              "outlinewidth": 0,
              "ticks": ""
             }
            },
            "type": "scattergl"
           }
          ],
          "scattermapbox": [
           {
            "marker": {
             "colorbar": {
              "outlinewidth": 0,
              "ticks": ""
             }
            },
            "type": "scattermapbox"
           }
          ],
          "scatterpolar": [
           {
            "marker": {
             "colorbar": {
              "outlinewidth": 0,
              "ticks": ""
             }
            },
            "type": "scatterpolar"
           }
          ],
          "scatterpolargl": [
           {
            "marker": {
             "colorbar": {
              "outlinewidth": 0,
              "ticks": ""
             }
            },
            "type": "scatterpolargl"
           }
          ],
          "scatterternary": [
           {
            "marker": {
             "colorbar": {
              "outlinewidth": 0,
              "ticks": ""
             }
            },
            "type": "scatterternary"
           }
          ],
          "surface": [
           {
            "colorbar": {
             "outlinewidth": 0,
             "ticks": ""
            },
            "colorscale": [
             [
              0,
              "#0d0887"
             ],
             [
              0.1111111111111111,
              "#46039f"
             ],
             [
              0.2222222222222222,
              "#7201a8"
             ],
             [
              0.3333333333333333,
              "#9c179e"
             ],
             [
              0.4444444444444444,
              "#bd3786"
             ],
             [
              0.5555555555555556,
              "#d8576b"
             ],
             [
              0.6666666666666666,
              "#ed7953"
             ],
             [
              0.7777777777777778,
              "#fb9f3a"
             ],
             [
              0.8888888888888888,
              "#fdca26"
             ],
             [
              1,
              "#f0f921"
             ]
            ],
            "type": "surface"
           }
          ],
          "table": [
           {
            "cells": {
             "fill": {
              "color": "#EBF0F8"
             },
             "line": {
              "color": "white"
             }
            },
            "header": {
             "fill": {
              "color": "#C8D4E3"
             },
             "line": {
              "color": "white"
             }
            },
            "type": "table"
           }
          ]
         },
         "layout": {
          "annotationdefaults": {
           "arrowcolor": "#2a3f5f",
           "arrowhead": 0,
           "arrowwidth": 1
          },
          "autotypenumbers": "strict",
          "coloraxis": {
           "colorbar": {
            "outlinewidth": 0,
            "ticks": ""
           }
          },
          "colorscale": {
           "diverging": [
            [
             0,
             "#8e0152"
            ],
            [
             0.1,
             "#c51b7d"
            ],
            [
             0.2,
             "#de77ae"
            ],
            [
             0.3,
             "#f1b6da"
            ],
            [
             0.4,
             "#fde0ef"
            ],
            [
             0.5,
             "#f7f7f7"
            ],
            [
             0.6,
             "#e6f5d0"
            ],
            [
             0.7,
             "#b8e186"
            ],
            [
             0.8,
             "#7fbc41"
            ],
            [
             0.9,
             "#4d9221"
            ],
            [
             1,
             "#276419"
            ]
           ],
           "sequential": [
            [
             0,
             "#0d0887"
            ],
            [
             0.1111111111111111,
             "#46039f"
            ],
            [
             0.2222222222222222,
             "#7201a8"
            ],
            [
             0.3333333333333333,
             "#9c179e"
            ],
            [
             0.4444444444444444,
             "#bd3786"
            ],
            [
             0.5555555555555556,
             "#d8576b"
            ],
            [
             0.6666666666666666,
             "#ed7953"
            ],
            [
             0.7777777777777778,
             "#fb9f3a"
            ],
            [
             0.8888888888888888,
             "#fdca26"
            ],
            [
             1,
             "#f0f921"
            ]
           ],
           "sequentialminus": [
            [
             0,
             "#0d0887"
            ],
            [
             0.1111111111111111,
             "#46039f"
            ],
            [
             0.2222222222222222,
             "#7201a8"
            ],
            [
             0.3333333333333333,
             "#9c179e"
            ],
            [
             0.4444444444444444,
             "#bd3786"
            ],
            [
             0.5555555555555556,
             "#d8576b"
            ],
            [
             0.6666666666666666,
             "#ed7953"
            ],
            [
             0.7777777777777778,
             "#fb9f3a"
            ],
            [
             0.8888888888888888,
             "#fdca26"
            ],
            [
             1,
             "#f0f921"
            ]
           ]
          },
          "colorway": [
           "#636efa",
           "#EF553B",
           "#00cc96",
           "#ab63fa",
           "#FFA15A",
           "#19d3f3",
           "#FF6692",
           "#B6E880",
           "#FF97FF",
           "#FECB52"
          ],
          "font": {
           "color": "#2a3f5f"
          },
          "geo": {
           "bgcolor": "white",
           "lakecolor": "white",
           "landcolor": "#E5ECF6",
           "showlakes": true,
           "showland": true,
           "subunitcolor": "white"
          },
          "hoverlabel": {
           "align": "left"
          },
          "hovermode": "closest",
          "mapbox": {
           "style": "light"
          },
          "paper_bgcolor": "white",
          "plot_bgcolor": "#E5ECF6",
          "polar": {
           "angularaxis": {
            "gridcolor": "white",
            "linecolor": "white",
            "ticks": ""
           },
           "bgcolor": "#E5ECF6",
           "radialaxis": {
            "gridcolor": "white",
            "linecolor": "white",
            "ticks": ""
           }
          },
          "scene": {
           "xaxis": {
            "backgroundcolor": "#E5ECF6",
            "gridcolor": "white",
            "gridwidth": 2,
            "linecolor": "white",
            "showbackground": true,
            "ticks": "",
            "zerolinecolor": "white"
           },
           "yaxis": {
            "backgroundcolor": "#E5ECF6",
            "gridcolor": "white",
            "gridwidth": 2,
            "linecolor": "white",
            "showbackground": true,
            "ticks": "",
            "zerolinecolor": "white"
           },
           "zaxis": {
            "backgroundcolor": "#E5ECF6",
            "gridcolor": "white",
            "gridwidth": 2,
            "linecolor": "white",
            "showbackground": true,
            "ticks": "",
            "zerolinecolor": "white"
           }
          },
          "shapedefaults": {
           "line": {
            "color": "#2a3f5f"
           }
          },
          "ternary": {
           "aaxis": {
            "gridcolor": "white",
            "linecolor": "white",
            "ticks": ""
           },
           "baxis": {
            "gridcolor": "white",
            "linecolor": "white",
            "ticks": ""
           },
           "bgcolor": "#E5ECF6",
           "caxis": {
            "gridcolor": "white",
            "linecolor": "white",
            "ticks": ""
           }
          },
          "title": {
           "x": 0.05
          },
          "xaxis": {
           "automargin": true,
           "gridcolor": "white",
           "linecolor": "white",
           "ticks": "",
           "title": {
            "standoff": 15
           },
           "zerolinecolor": "white",
           "zerolinewidth": 2
          },
          "yaxis": {
           "automargin": true,
           "gridcolor": "white",
           "linecolor": "white",
           "ticks": "",
           "title": {
            "standoff": 15
           },
           "zerolinecolor": "white",
           "zerolinewidth": 2
          }
         }
        },
        "xaxis": {
         "anchor": "y",
         "domain": [
          0,
          1
         ],
         "title": {
          "text": "rmse"
         }
        },
        "yaxis": {
         "anchor": "x",
         "domain": [
          0,
          1
         ],
         "title": {
          "text": "count"
         }
        }
       }
      }
     },
     "metadata": {},
     "output_type": "display_data"
    }
   ],
   "source": [
    "fig = threshold_histogram(results_df, metric, min_metric, max_metric, perf_of_mean)\n",
    "fig.show()\n",
    "fig.write_image(OUTPUT_DIR / f\"{dataset}_{config_str}_filtered_{k}_histogram.{image_ext}\")\n"
   ]
  },
  {
   "cell_type": "markdown",
   "metadata": {},
   "source": [
    "# Record all performances in one CSV"
   ]
  },
  {
   "cell_type": "code",
   "execution_count": 20,
   "metadata": {},
   "outputs": [],
   "source": [
    "_sorted = original_results[pipeline_cols + [\"preprocesser(s)\", \"seed\", metric]].sort_values(metric)\n",
    "pipelines_cols_to_hash = pipeline_cols.copy()\n",
    "pipelines_cols_to_hash.remove(\"preprocessers\")\n",
    "pipelines_cols_to_hash.append(\"preprocesser(s)\")\n",
    "_sorted[\"hash\"] = _sorted.apply(lambda x: hash(tuple(x[pipelines_cols_to_hash])), axis=1)\n",
    "_sorted.to_csv(table_dir / f\"{config_str}_all_performances.csv\")"
   ]
  },
  {
   "cell_type": "markdown",
   "metadata": {},
   "source": [
    "# Look at best and worst performers"
   ]
  },
  {
   "cell_type": "code",
   "execution_count": 21,
   "metadata": {},
   "outputs": [],
   "source": [
    "k = 10\n",
    "if filter_out_replicates:\n",
    "    num_replicates = 1\n",
    "else:\n",
    "    num_replicates = 4\n",
    "unique_pipeline_cols = [col for col in pipeline_cols if col not in [\"preprocessers\", \"finetune\"]]\n",
    "unique_pipeline_cols = [\"preprocesser(s)\"] + unique_pipeline_cols\n",
    "unique_pipelines = filtered_results.groupby(unique_pipeline_cols)[[metric, \"seed\"]].agg(\n",
    " {\n",
    "     metric: [\"mean\", \"sem\"],\n",
    "     \"seed\" : \"count\"\n",
    " }\n",
    ")"
   ]
  },
  {
   "cell_type": "code",
   "execution_count": 22,
   "metadata": {},
   "outputs": [],
   "source": [
    "unique_pipelines_with_replicates = unique_pipelines[unique_pipelines[\"seed\", \"count\"] == num_replicates]"
   ]
  },
  {
   "cell_type": "code",
   "execution_count": 23,
   "metadata": {},
   "outputs": [
    {
     "name": "stderr",
     "output_type": "stream",
     "text": [
      "2025-03-11 11:34:37,638 - analysis - INFO - Best performers\n"
     ]
    },
    {
     "data": {
      "text/html": [
       "<div>\n",
       "<style scoped>\n",
       "    .dataframe tbody tr th:only-of-type {\n",
       "        vertical-align: middle;\n",
       "    }\n",
       "\n",
       "    .dataframe tbody tr th {\n",
       "        vertical-align: top;\n",
       "    }\n",
       "\n",
       "    .dataframe thead tr th {\n",
       "        text-align: left;\n",
       "    }\n",
       "\n",
       "    .dataframe thead tr:last-of-type th {\n",
       "        text-align: right;\n",
       "    }\n",
       "</style>\n",
       "<table border=\"1\" class=\"dataframe\">\n",
       "  <thead>\n",
       "    <tr>\n",
       "      <th></th>\n",
       "      <th></th>\n",
       "      <th></th>\n",
       "      <th></th>\n",
       "      <th colspan=\"2\" halign=\"left\">rmse</th>\n",
       "      <th>seed</th>\n",
       "    </tr>\n",
       "    <tr>\n",
       "      <th></th>\n",
       "      <th></th>\n",
       "      <th></th>\n",
       "      <th></th>\n",
       "      <th>mean</th>\n",
       "      <th>sem</th>\n",
       "      <th>count</th>\n",
       "    </tr>\n",
       "    <tr>\n",
       "      <th>preprocesser(s)</th>\n",
       "      <th>tokeniser</th>\n",
       "      <th>featuriser</th>\n",
       "      <th>model</th>\n",
       "      <th></th>\n",
       "      <th></th>\n",
       "      <th></th>\n",
       "    </tr>\n",
       "  </thead>\n",
       "  <tbody>\n",
       "    <tr>\n",
       "      <th>NSN</th>\n",
       "      <th>bert</th>\n",
       "      <th>bert_mean</th>\n",
       "      <th>mlp_ft</th>\n",
       "      <td>328.380119</td>\n",
       "      <td>7.628759</td>\n",
       "      <td>4</td>\n",
       "    </tr>\n",
       "    <tr>\n",
       "      <th rowspan=\"2\" valign=\"top\">empty</th>\n",
       "      <th>bert</th>\n",
       "      <th>bert_mean</th>\n",
       "      <th>mlp_ft</th>\n",
       "      <td>329.863191</td>\n",
       "      <td>4.885979</td>\n",
       "      <td>4</td>\n",
       "    </tr>\n",
       "    <tr>\n",
       "      <th>whitespace</th>\n",
       "      <th>tf_idf</th>\n",
       "      <th>mlp</th>\n",
       "      <td>334.181854</td>\n",
       "      <td>5.244016</td>\n",
       "      <td>4</td>\n",
       "    </tr>\n",
       "    <tr>\n",
       "      <th>NSN</th>\n",
       "      <th>whitespace</th>\n",
       "      <th>bow_count</th>\n",
       "      <th>mlp</th>\n",
       "      <td>334.871931</td>\n",
       "      <td>5.126242</td>\n",
       "      <td>4</td>\n",
       "    </tr>\n",
       "    <tr>\n",
       "      <th rowspan=\"3\" valign=\"top\">empty</th>\n",
       "      <th>treebank</th>\n",
       "      <th>tf_idf</th>\n",
       "      <th>mlp</th>\n",
       "      <td>335.467084</td>\n",
       "      <td>3.555399</td>\n",
       "      <td>4</td>\n",
       "    </tr>\n",
       "    <tr>\n",
       "      <th>bert</th>\n",
       "      <th>bert_mean</th>\n",
       "      <th>deep_linear_ft</th>\n",
       "      <td>336.610629</td>\n",
       "      <td>5.704093</td>\n",
       "      <td>4</td>\n",
       "    </tr>\n",
       "    <tr>\n",
       "      <th>stanford</th>\n",
       "      <th>tf_idf</th>\n",
       "      <th>mlp</th>\n",
       "      <td>337.163047</td>\n",
       "      <td>4.112963</td>\n",
       "      <td>4</td>\n",
       "    </tr>\n",
       "    <tr>\n",
       "      <th>NSN,S</th>\n",
       "      <th>whitespace</th>\n",
       "      <th>glove_mean</th>\n",
       "      <th>resnet</th>\n",
       "      <td>338.273451</td>\n",
       "      <td>2.261563</td>\n",
       "      <td>4</td>\n",
       "    </tr>\n",
       "    <tr>\n",
       "      <th>Lo,NSN</th>\n",
       "      <th>treebank</th>\n",
       "      <th>bow_binary</th>\n",
       "      <th>mlp</th>\n",
       "      <td>338.431397</td>\n",
       "      <td>3.930526</td>\n",
       "      <td>4</td>\n",
       "    </tr>\n",
       "    <tr>\n",
       "      <th>Le</th>\n",
       "      <th>bpe</th>\n",
       "      <th>tf_idf</th>\n",
       "      <th>mlp</th>\n",
       "      <td>338.845837</td>\n",
       "      <td>1.360006</td>\n",
       "      <td>4</td>\n",
       "    </tr>\n",
       "  </tbody>\n",
       "</table>\n",
       "</div>"
      ],
      "text/plain": [
       "                                                            rmse            \\\n",
       "                                                            mean       sem   \n",
       "preprocesser(s) tokeniser  featuriser model                                  \n",
       "NSN             bert       bert_mean  mlp_ft          328.380119  7.628759   \n",
       "empty           bert       bert_mean  mlp_ft          329.863191  4.885979   \n",
       "                whitespace tf_idf     mlp             334.181854  5.244016   \n",
       "NSN             whitespace bow_count  mlp             334.871931  5.126242   \n",
       "empty           treebank   tf_idf     mlp             335.467084  3.555399   \n",
       "                bert       bert_mean  deep_linear_ft  336.610629  5.704093   \n",
       "                stanford   tf_idf     mlp             337.163047  4.112963   \n",
       "NSN,S           whitespace glove_mean resnet          338.273451  2.261563   \n",
       "Lo,NSN          treebank   bow_binary mlp             338.431397  3.930526   \n",
       "Le              bpe        tf_idf     mlp             338.845837  1.360006   \n",
       "\n",
       "                                                      seed  \n",
       "                                                     count  \n",
       "preprocesser(s) tokeniser  featuriser model                 \n",
       "NSN             bert       bert_mean  mlp_ft             4  \n",
       "empty           bert       bert_mean  mlp_ft             4  \n",
       "                whitespace tf_idf     mlp                4  \n",
       "NSN             whitespace bow_count  mlp                4  \n",
       "empty           treebank   tf_idf     mlp                4  \n",
       "                bert       bert_mean  deep_linear_ft     4  \n",
       "                stanford   tf_idf     mlp                4  \n",
       "NSN,S           whitespace glove_mean resnet             4  \n",
       "Lo,NSN          treebank   bow_binary mlp                4  \n",
       "Le              bpe        tf_idf     mlp                4  "
      ]
     },
     "metadata": {},
     "output_type": "display_data"
    },
    {
     "name": "stderr",
     "output_type": "stream",
     "text": [
      "2025-03-11 11:34:37,659 - analysis - INFO - Worst performers\n"
     ]
    },
    {
     "data": {
      "text/html": [
       "<div>\n",
       "<style scoped>\n",
       "    .dataframe tbody tr th:only-of-type {\n",
       "        vertical-align: middle;\n",
       "    }\n",
       "\n",
       "    .dataframe tbody tr th {\n",
       "        vertical-align: top;\n",
       "    }\n",
       "\n",
       "    .dataframe thead tr th {\n",
       "        text-align: left;\n",
       "    }\n",
       "\n",
       "    .dataframe thead tr:last-of-type th {\n",
       "        text-align: right;\n",
       "    }\n",
       "</style>\n",
       "<table border=\"1\" class=\"dataframe\">\n",
       "  <thead>\n",
       "    <tr>\n",
       "      <th></th>\n",
       "      <th></th>\n",
       "      <th></th>\n",
       "      <th></th>\n",
       "      <th colspan=\"2\" halign=\"left\">rmse</th>\n",
       "      <th>seed</th>\n",
       "    </tr>\n",
       "    <tr>\n",
       "      <th></th>\n",
       "      <th></th>\n",
       "      <th></th>\n",
       "      <th></th>\n",
       "      <th>mean</th>\n",
       "      <th>sem</th>\n",
       "      <th>count</th>\n",
       "    </tr>\n",
       "    <tr>\n",
       "      <th>preprocesser(s)</th>\n",
       "      <th>tokeniser</th>\n",
       "      <th>featuriser</th>\n",
       "      <th>model</th>\n",
       "      <th></th>\n",
       "      <th></th>\n",
       "      <th></th>\n",
       "    </tr>\n",
       "  </thead>\n",
       "  <tbody>\n",
       "    <tr>\n",
       "      <th>Lo</th>\n",
       "      <th>whitespace</th>\n",
       "      <th>glove_mean</th>\n",
       "      <th>mlp</th>\n",
       "      <td>402.479879</td>\n",
       "      <td>5.144282</td>\n",
       "      <td>4</td>\n",
       "    </tr>\n",
       "    <tr>\n",
       "      <th>Lo,NP,NSCC,S</th>\n",
       "      <th>stanford</th>\n",
       "      <th>glove_mean</th>\n",
       "      <th>mlp</th>\n",
       "      <td>406.777786</td>\n",
       "      <td>1.275871</td>\n",
       "      <td>4</td>\n",
       "    </tr>\n",
       "    <tr>\n",
       "      <th>S</th>\n",
       "      <th>bert</th>\n",
       "      <th>bert_cls</th>\n",
       "      <th>xgboost</th>\n",
       "      <td>415.533966</td>\n",
       "      <td>8.531672</td>\n",
       "      <td>4</td>\n",
       "    </tr>\n",
       "    <tr>\n",
       "      <th rowspan=\"2\" valign=\"top\">empty</th>\n",
       "      <th>whitespace</th>\n",
       "      <th>glove_mean</th>\n",
       "      <th>mlp</th>\n",
       "      <td>417.648696</td>\n",
       "      <td>2.988174</td>\n",
       "      <td>4</td>\n",
       "    </tr>\n",
       "    <tr>\n",
       "      <th>stanford</th>\n",
       "      <th>glove_mean</th>\n",
       "      <th>mlp</th>\n",
       "      <td>419.479988</td>\n",
       "      <td>2.687319</td>\n",
       "      <td>4</td>\n",
       "    </tr>\n",
       "    <tr>\n",
       "      <th>Lo</th>\n",
       "      <th>whitespace</th>\n",
       "      <th>glove_mean</th>\n",
       "      <th>deep_linear</th>\n",
       "      <td>432.014708</td>\n",
       "      <td>0.144993</td>\n",
       "      <td>4</td>\n",
       "    </tr>\n",
       "    <tr>\n",
       "      <th>NSCC,S</th>\n",
       "      <th>whitespace</th>\n",
       "      <th>glove_mean</th>\n",
       "      <th>xgboost</th>\n",
       "      <td>432.066470</td>\n",
       "      <td>18.725128</td>\n",
       "      <td>4</td>\n",
       "    </tr>\n",
       "    <tr>\n",
       "      <th>Le</th>\n",
       "      <th>stanford</th>\n",
       "      <th>glove_mean</th>\n",
       "      <th>deep_linear</th>\n",
       "      <td>432.776268</td>\n",
       "      <td>0.249599</td>\n",
       "      <td>4</td>\n",
       "    </tr>\n",
       "    <tr>\n",
       "      <th>empty</th>\n",
       "      <th>whitespace</th>\n",
       "      <th>glove_mean</th>\n",
       "      <th>deep_linear</th>\n",
       "      <td>432.931561</td>\n",
       "      <td>0.518000</td>\n",
       "      <td>4</td>\n",
       "    </tr>\n",
       "    <tr>\n",
       "      <th>Le,Lo,NSCC</th>\n",
       "      <th>stanford</th>\n",
       "      <th>glove_mean</th>\n",
       "      <th>mlp</th>\n",
       "      <td>441.580496</td>\n",
       "      <td>10.658201</td>\n",
       "      <td>4</td>\n",
       "    </tr>\n",
       "  </tbody>\n",
       "</table>\n",
       "</div>"
      ],
      "text/plain": [
       "                                                         rmse             seed\n",
       "                                                         mean        sem count\n",
       "preprocesser(s) tokeniser  featuriser model                                   \n",
       "Lo              whitespace glove_mean mlp          402.479879   5.144282     4\n",
       "Lo,NP,NSCC,S    stanford   glove_mean mlp          406.777786   1.275871     4\n",
       "S               bert       bert_cls   xgboost      415.533966   8.531672     4\n",
       "empty           whitespace glove_mean mlp          417.648696   2.988174     4\n",
       "                stanford   glove_mean mlp          419.479988   2.687319     4\n",
       "Lo              whitespace glove_mean deep_linear  432.014708   0.144993     4\n",
       "NSCC,S          whitespace glove_mean xgboost      432.066470  18.725128     4\n",
       "Le              stanford   glove_mean deep_linear  432.776268   0.249599     4\n",
       "empty           whitespace glove_mean deep_linear  432.931561   0.518000     4\n",
       "Le,Lo,NSCC      stanford   glove_mean mlp          441.580496  10.658201     4"
      ]
     },
     "metadata": {},
     "output_type": "display_data"
    }
   ],
   "source": [
    "if filter_out_replicates:\n",
    "    columns_to_save = [[metric, \"mean\"]]\n",
    "else:\n",
    "    columns_to_save = [[metric, \"mean\"],[metric, \"sem\"]]\n",
    "    \n",
    "logger.info(\"Best performers\")\n",
    "best = unique_pipelines_with_replicates.sort_values((metric, \"mean\")).head(k)\n",
    "latex_table = best[columns_to_save].to_latex(float_format=simple_format)\n",
    "latex_table = process_latex_table(latex_table)\n",
    "with open(table_dir / f\"{config_str}_best_{k}.tex\", \"w\") as f:\n",
    "    f.write(latex_table)\n",
    "display(best)\n",
    "logger.info(\"Worst performers\")\n",
    "worst = unique_pipelines_with_replicates.sort_values((metric, \"mean\")).tail(k)\n",
    "latex_table = worst[columns_to_save].to_latex(float_format=simple_format)\n",
    "latex_table = process_latex_table(latex_table)\n",
    "with open(table_dir / f\"{config_str}_worst_{k}.tex\", \"w\") as f:\n",
    "    f.write(latex_table)\n",
    "display(worst)\n"
   ]
  },
  {
   "cell_type": "markdown",
   "metadata": {},
   "source": [
    "Brief foray into looking at sem distribution - noting it is much more variable for finetuning"
   ]
  },
  {
   "cell_type": "code",
   "execution_count": 24,
   "metadata": {},
   "outputs": [
    {
     "name": "stderr",
     "output_type": "stream",
     "text": [
      "2025-03-11 11:34:47,655 - analysis - INFO - \n",
      "Standard Error Summary Statistics:\n",
      "2025-03-11 11:34:47,657 - analysis - INFO - Non-finetuned mean: 5.05\n",
      "2025-03-11 11:34:47,659 - analysis - INFO - Finetuned mean: 8.04\n"
     ]
    }
   ],
   "source": [
    "# Create histogram of standard errors, split by finetuned vs non-finetuned models\n",
    "import plotly.graph_objects as go\n",
    "from plotly.subplots import make_subplots\n",
    "\n",
    "df = unique_pipelines_with_replicates.copy().reset_index()\n",
    "\n",
    "# Get boolean mask for finetuned models\n",
    "ft_mask = df['model'].str.contains('_ft')\n",
    "\n",
    "# Create figure\n",
    "fig = go.Figure()\n",
    "\n",
    "# Add histograms\n",
    "fig.add_trace(go.Histogram(\n",
    "    x=df[~ft_mask][metric, 'sem'],\n",
    "    name='Non-finetuned',\n",
    "    opacity=0.5,\n",
    "    nbinsx=20,\n",
    "    histnorm=\"percent\"\n",
    "))\n",
    "\n",
    "fig.add_trace(go.Histogram(\n",
    "    x=df[ft_mask][metric, 'sem'], \n",
    "    name='Finetuned',\n",
    "    opacity=0.5,\n",
    "    nbinsx=20,\n",
    "    histnorm=\"percent\"\n",
    "))\n",
    "\n",
    "# Update layout\n",
    "fig.update_layout(\n",
    "    title='Distribution of Standard Errors by Model Type',\n",
    "    xaxis_title='Standard Error of Mean',\n",
    "    yaxis_title='Percentage',\n",
    "    barmode='overlay',\n",
    "    showlegend=True,\n",
    "    template='plotly_white'\n",
    ")\n",
    "\n",
    "# Log summary statistics\n",
    "logger.info(\"\\nStandard Error Summary Statistics:\")\n",
    "logger.info(f\"Non-finetuned mean: {df[~ft_mask][metric, 'sem'].mean():.2f}\")\n",
    "logger.info(f\"Finetuned mean: {df[ft_mask][metric, 'sem'].mean():.2f}\")"
   ]
  },
  {
   "cell_type": "markdown",
   "metadata": {},
   "source": [
    "# Confirm coverage of component choices"
   ]
  },
  {
   "cell_type": "code",
   "execution_count": 25,
   "metadata": {},
   "outputs": [
    {
     "data": {
      "text/html": [
       "<div>\n",
       "<style scoped>\n",
       "    .dataframe tbody tr th:only-of-type {\n",
       "        vertical-align: middle;\n",
       "    }\n",
       "\n",
       "    .dataframe tbody tr th {\n",
       "        vertical-align: top;\n",
       "    }\n",
       "\n",
       "    .dataframe thead th {\n",
       "        text-align: right;\n",
       "    }\n",
       "</style>\n",
       "<table border=\"1\" class=\"dataframe\">\n",
       "  <thead>\n",
       "    <tr style=\"text-align: right;\">\n",
       "      <th></th>\n",
       "      <th>preprocessers</th>\n",
       "    </tr>\n",
       "  </thead>\n",
       "  <tbody>\n",
       "    <tr>\n",
       "      <th>no_punctuation</th>\n",
       "      <td>196</td>\n",
       "    </tr>\n",
       "    <tr>\n",
       "      <th>stem</th>\n",
       "      <td>164</td>\n",
       "    </tr>\n",
       "    <tr>\n",
       "      <th>no_stopwords_nltk</th>\n",
       "      <td>120</td>\n",
       "    </tr>\n",
       "    <tr>\n",
       "      <th>empty</th>\n",
       "      <td>168</td>\n",
       "    </tr>\n",
       "    <tr>\n",
       "      <th>lowercase</th>\n",
       "      <td>220</td>\n",
       "    </tr>\n",
       "    <tr>\n",
       "      <th>lemmatize</th>\n",
       "      <td>156</td>\n",
       "    </tr>\n",
       "    <tr>\n",
       "      <th>no_stopwords_spacy</th>\n",
       "      <td>140</td>\n",
       "    </tr>\n",
       "  </tbody>\n",
       "</table>\n",
       "</div>"
      ],
      "text/plain": [
       "                    preprocessers\n",
       "no_punctuation                196\n",
       "stem                          164\n",
       "no_stopwords_nltk             120\n",
       "empty                         168\n",
       "lowercase                     220\n",
       "lemmatize                     156\n",
       "no_stopwords_spacy            140"
      ]
     },
     "metadata": {},
     "output_type": "display_data"
    },
    {
     "data": {
      "text/html": [
       "<div>\n",
       "<style scoped>\n",
       "    .dataframe tbody tr th:only-of-type {\n",
       "        vertical-align: middle;\n",
       "    }\n",
       "\n",
       "    .dataframe tbody tr th {\n",
       "        vertical-align: top;\n",
       "    }\n",
       "\n",
       "    .dataframe thead th {\n",
       "        text-align: right;\n",
       "    }\n",
       "</style>\n",
       "<table border=\"1\" class=\"dataframe\">\n",
       "  <thead>\n",
       "    <tr style=\"text-align: right;\">\n",
       "      <th></th>\n",
       "      <th>tokeniser</th>\n",
       "    </tr>\n",
       "  </thead>\n",
       "  <tbody>\n",
       "    <tr>\n",
       "      <th>bert</th>\n",
       "      <td>260</td>\n",
       "    </tr>\n",
       "    <tr>\n",
       "      <th>stanford</th>\n",
       "      <td>120</td>\n",
       "    </tr>\n",
       "    <tr>\n",
       "      <th>whitespace</th>\n",
       "      <td>116</td>\n",
       "    </tr>\n",
       "    <tr>\n",
       "      <th>bpe</th>\n",
       "      <td>72</td>\n",
       "    </tr>\n",
       "    <tr>\n",
       "      <th>treebank</th>\n",
       "      <td>52</td>\n",
       "    </tr>\n",
       "  </tbody>\n",
       "</table>\n",
       "</div>"
      ],
      "text/plain": [
       "            tokeniser\n",
       "bert              260\n",
       "stanford          120\n",
       "whitespace        116\n",
       "bpe                72\n",
       "treebank           52"
      ]
     },
     "metadata": {},
     "output_type": "display_data"
    },
    {
     "data": {
      "text/html": [
       "<div>\n",
       "<style scoped>\n",
       "    .dataframe tbody tr th:only-of-type {\n",
       "        vertical-align: middle;\n",
       "    }\n",
       "\n",
       "    .dataframe tbody tr th {\n",
       "        vertical-align: top;\n",
       "    }\n",
       "\n",
       "    .dataframe thead th {\n",
       "        text-align: right;\n",
       "    }\n",
       "</style>\n",
       "<table border=\"1\" class=\"dataframe\">\n",
       "  <thead>\n",
       "    <tr style=\"text-align: right;\">\n",
       "      <th></th>\n",
       "      <th>featuriser</th>\n",
       "    </tr>\n",
       "  </thead>\n",
       "  <tbody>\n",
       "    <tr>\n",
       "      <th>tf_idf</th>\n",
       "      <td>116</td>\n",
       "    </tr>\n",
       "    <tr>\n",
       "      <th>bow_binary</th>\n",
       "      <td>112</td>\n",
       "    </tr>\n",
       "    <tr>\n",
       "      <th>bert_cls</th>\n",
       "      <td>104</td>\n",
       "    </tr>\n",
       "    <tr>\n",
       "      <th>bow_count</th>\n",
       "      <td>100</td>\n",
       "    </tr>\n",
       "    <tr>\n",
       "      <th>bert_mean</th>\n",
       "      <td>96</td>\n",
       "    </tr>\n",
       "    <tr>\n",
       "      <th>glove_mean</th>\n",
       "      <td>92</td>\n",
       "    </tr>\n",
       "  </tbody>\n",
       "</table>\n",
       "</div>"
      ],
      "text/plain": [
       "            featuriser\n",
       "tf_idf             116\n",
       "bow_binary         112\n",
       "bert_cls           104\n",
       "bow_count          100\n",
       "bert_mean           96\n",
       "glove_mean          92"
      ]
     },
     "metadata": {},
     "output_type": "display_data"
    },
    {
     "data": {
      "text/html": [
       "<div>\n",
       "<style scoped>\n",
       "    .dataframe tbody tr th:only-of-type {\n",
       "        vertical-align: middle;\n",
       "    }\n",
       "\n",
       "    .dataframe tbody tr th {\n",
       "        vertical-align: top;\n",
       "    }\n",
       "\n",
       "    .dataframe thead th {\n",
       "        text-align: right;\n",
       "    }\n",
       "</style>\n",
       "<table border=\"1\" class=\"dataframe\">\n",
       "  <thead>\n",
       "    <tr style=\"text-align: right;\">\n",
       "      <th></th>\n",
       "      <th>model</th>\n",
       "    </tr>\n",
       "  </thead>\n",
       "  <tbody>\n",
       "    <tr>\n",
       "      <th>catboost</th>\n",
       "      <td>140</td>\n",
       "    </tr>\n",
       "    <tr>\n",
       "      <th>deep_linear</th>\n",
       "      <td>124</td>\n",
       "    </tr>\n",
       "    <tr>\n",
       "      <th>xgboost</th>\n",
       "      <td>112</td>\n",
       "    </tr>\n",
       "    <tr>\n",
       "      <th>mlp</th>\n",
       "      <td>108</td>\n",
       "    </tr>\n",
       "    <tr>\n",
       "      <th>resnet</th>\n",
       "      <td>80</td>\n",
       "    </tr>\n",
       "    <tr>\n",
       "      <th>resnet_ft</th>\n",
       "      <td>24</td>\n",
       "    </tr>\n",
       "    <tr>\n",
       "      <th>mlp_ft</th>\n",
       "      <td>16</td>\n",
       "    </tr>\n",
       "    <tr>\n",
       "      <th>deep_linear_ft</th>\n",
       "      <td>16</td>\n",
       "    </tr>\n",
       "  </tbody>\n",
       "</table>\n",
       "</div>"
      ],
      "text/plain": [
       "                model\n",
       "catboost          140\n",
       "deep_linear       124\n",
       "xgboost           112\n",
       "mlp               108\n",
       "resnet             80\n",
       "resnet_ft          24\n",
       "mlp_ft             16\n",
       "deep_linear_ft     16"
      ]
     },
     "metadata": {},
     "output_type": "display_data"
    }
   ],
   "source": [
    "def count_unique_values(df: pd.DataFrame, feature: str):\n",
    "    return df[feature].value_counts().to_dict()\n",
    "\n",
    "def count_unique_values_of_set(df: pd.DataFrame, feature: str):\n",
    "    counts = {}\n",
    "    for row in df.itertuples():\n",
    "        in_the_bag = getattr(row, feature)\n",
    "        for feature_value in in_the_bag:\n",
    "            counts[feature_value] = counts.get(feature_value, 0) + 1\n",
    "    return counts\n",
    "\n",
    "def create_pipeline_counts_table(df: pd.DataFrame):\n",
    "    tables = []\n",
    "    # Get counts for each pipeline step\n",
    "    counts = {}\n",
    "    counts[\"preprocessers\"] = count_unique_values_of_set(df, \"preprocessers\")\n",
    "    counts[\"tokeniser\"] = count_unique_values(df, \"tokeniser\") \n",
    "    counts[\"featuriser\"] = count_unique_values(df, \"featuriser\")\n",
    "    counts[\"model\"] = count_unique_values(df, \"model\")\n",
    "    \n",
    "    for feature in [\"preprocessers\", \"tokeniser\", \"featuriser\", \"model\"]:\n",
    "        counts_df = pd.DataFrame({feature: pd.Series(counts[feature])})\n",
    "        tables.append(counts_df)\n",
    "        latex_table = counts_df.to_latex(\n",
    "            float_format=simple_format,\n",
    "            na_rep='',\n",
    "            header=False,\n",
    "            escape=False\n",
    "        )\n",
    "        latex_table = latex_table.replace(\"_\", \"-\")\n",
    "\n",
    "        # Save to file\n",
    "        table_path = table_dir / f\"{config_str}_pipeline_counts_{feature}.tex\"\n",
    "        with open(table_path, 'w') as f:\n",
    "            f.write(latex_table)\n",
    "        \n",
    "    return tables\n",
    "\n",
    "# Generate and display the table\n",
    "pipeline_counts = create_pipeline_counts_table(results_df)\n",
    "for table in pipeline_counts:\n",
    "    display(table)\n"
   ]
  },
  {
   "cell_type": "markdown",
   "metadata": {},
   "source": [
    "# Look at spread associated with each component"
   ]
  },
  {
   "cell_type": "code",
   "execution_count": 26,
   "metadata": {},
   "outputs": [],
   "source": [
    "def histogram_on_feature(\n",
    "        df: pd.DataFrame, \n",
    "        feature: str, \n",
    "        metric: str, \n",
    "        threshold: float = None, \n",
    "        histogram: bool = True,\n",
    "        mean_line: float = None,\n",
    "        **kwargs\n",
    "    ):\n",
    "    if threshold is not None:\n",
    "        df = df[df[metric] < threshold]\n",
    "    unique_features = df[feature].unique()\n",
    "    unique_features = sorted(unique_features)\n",
    "    if histogram:\n",
    "        fig = make_subplots(rows=len(unique_features), cols=1, shared_xaxes=True, subplot_titles=unique_features)\n",
    "    else:\n",
    "        fig = make_subplots(rows=1, cols=len(unique_features), shared_yaxes=True, subplot_titles=unique_features)\n",
    "    for i, feature_value in enumerate(unique_features):\n",
    "        feature_data = df[df[feature] == feature_value][metric]\n",
    "        if histogram:\n",
    "            fig.add_trace(\n",
    "                go.Histogram(\n",
    "                x=feature_data, \n",
    "                name=feature_value, \n",
    "                texttemplate=\"%{y:.2f}\",\n",
    "                histnorm=\"percent\",\n",
    "                marker_color=\"gray\",\n",
    "                **kwargs\n",
    "            ), \n",
    "                row=i+1, col=1\n",
    "            )\n",
    "        else:\n",
    "            fig.add_trace(\n",
    "                go.Box(\n",
    "                    y=feature_data,\n",
    "                    name=feature_value,\n",
    "                    marker_color=\"gray\",\n",
    "                    **kwargs\n",
    "                ),\n",
    "                row=1, col=i+1\n",
    "            )\n",
    "    if mean_line is not None:\n",
    "        if histogram:\n",
    "            fig.add_vline(x=mean_line, line_dash=\"dash\", line_color=\"red\")\n",
    "        else:\n",
    "            fig.add_hline(y=mean_line, line_dash=\"dash\", line_color=\"red\")\n",
    "    if histogram:\n",
    "        fig.update_layout(height=200 * len(unique_features))\n",
    "    else:\n",
    "        fig.update_layout(width=200 * len(unique_features))\n",
    "    fig.update_layout(title=f\"Distribution of {metric} by {feature}\")\n",
    "    fig.update_layout(showlegend=False)\n",
    "    return fig\n",
    "\n",
    "def histogram_on_set(\n",
    "        df: pd.DataFrame, \n",
    "        feature: str, \n",
    "        metric: str, \n",
    "        threshold: float = None,\n",
    "        histogram: bool = True,\n",
    "        mean_line: float = None,\n",
    "        **kwargs\n",
    "    ):\n",
    "    if threshold is not None:\n",
    "        df = df[df[metric] < threshold]\n",
    "    bags = defaultdict(list)\n",
    "    for row in df.itertuples():\n",
    "        bag = getattr(row, feature)\n",
    "        for feature_value in bag:\n",
    "            bags[feature_value].append(getattr(row, metric))\n",
    "        if len(bag) == 0:\n",
    "            bags[\"Empty\"].append(getattr(row, metric))\n",
    "    bags = dict(sorted(bags.items()))\n",
    "    if histogram:\n",
    "        fig = make_subplots(rows=len(bags), cols=1, shared_xaxes=True, subplot_titles=list(bags.keys()))\n",
    "    else:\n",
    "        fig = make_subplots(rows=1, cols=len(bags), shared_yaxes=True, subplot_titles=list(bags.keys()))\n",
    "    for i, (feature_value, values) in enumerate(bags.items()):\n",
    "        if histogram:\n",
    "            fig.add_trace(\n",
    "                go.Histogram(\n",
    "                    x=values,\n",
    "                    name=feature_value,\n",
    "                    texttemplate=\"%{y:.2f}\",\n",
    "                    histnorm=\"percent\",\n",
    "                    marker_color=\"gray\",\n",
    "                    **kwargs\n",
    "                ),\n",
    "                row=i+1, col=1\n",
    "            )\n",
    "        else:\n",
    "            fig.add_trace(\n",
    "                go.Box(\n",
    "                    y=values,\n",
    "                    name=feature_value,\n",
    "                    marker_color=\"gray\",\n",
    "                    **kwargs\n",
    "                ),\n",
    "                row=1, col=i+1\n",
    "            )\n",
    "    if mean_line is not None:\n",
    "        if histogram:\n",
    "            fig.add_vline(x=mean_line, line_dash=\"dash\", line_color=\"red\")\n",
    "        else:\n",
    "            fig.add_hline(y=mean_line, line_dash=\"dash\", line_color=\"red\")\n",
    "    if histogram:\n",
    "        fig.update_layout(height=200 * len(bags))\n",
    "    else:\n",
    "        fig.update_layout(width=200 * len(bags))\n",
    "    fig.update_layout(title=f\"Distribution of {metric} for {feature}\")\n",
    "    fig.update_layout(showlegend=False)\n",
    "    return fig\n",
    "\n",
    "\n",
    "fig = histogram_on_set(results_df, \"preprocessers\", metric, mean_line=perf_of_mean)\n",
    "fig.write_image(histogram_dir / f\"{config_str}_preprocessers_histogram.{image_ext}\")\n",
    "for feature in [\"tokeniser\", \"featuriser\", \"model\"]:\n",
    "    fig = histogram_on_feature(results_df, feature, metric, mean_line=perf_of_mean)\n",
    "    fig.write_image(histogram_dir / f\"{config_str}_{feature}_histogram.{image_ext}\")\n"
   ]
  },
  {
   "cell_type": "code",
   "execution_count": 27,
   "metadata": {},
   "outputs": [],
   "source": [
    "fig = histogram_on_set(results_df, \"preprocessers\", metric, histogram=False, mean_line=perf_of_mean)\n",
    "# fig.show()\n",
    "# fig.write_html(OUTPUT_DIR / f\"{dataset}_{metric}_filtered_{k}_preprocessers_boxplot.html\")\n",
    "fig.write_image(boxplot_dir / f\"{config_str}_preprocessers_boxplot.{image_ext}\")\n",
    "\n",
    "for feature in [\"tokeniser\", \"featuriser\", \"model\"]:\n",
    "    fig = histogram_on_feature(results_df, feature, metric, histogram=False, mean_line=perf_of_mean)\n",
    "    # fig.show()\n",
    "    # fig.write_html(OUTPUT_DIR / f\"{dataset}_{metric}_filtered_{k}_{feature}_boxplot.html\")\n",
    "    fig.write_image(boxplot_dir / f\"{config_str}_{feature}_boxplot.{image_ext}\")\n"
   ]
  },
  {
   "cell_type": "markdown",
   "metadata": {},
   "source": [
    "# Develop filtering/conditioning logic"
   ]
  },
  {
   "cell_type": "code",
   "execution_count": 28,
   "metadata": {},
   "outputs": [],
   "source": [
    "def condition_on(\n",
    "        equals_conditions: list[tuple[str, str]], \n",
    "        not_equals_conditions: list[tuple[str, str]], \n",
    "        df: pd.DataFrame\n",
    "    ):\n",
    "    \"\"\"\n",
    "    A condition is a tuple of (column, value)\n",
    "\n",
    "    We want to filter the dataframe to only include rows where the equals \n",
    "    conditions are true AND the not equals conditions are false.\n",
    "    \"\"\"\n",
    "    subset = df.copy()  \n",
    "    for condition in equals_conditions:\n",
    "        idx = subset[condition[0]].str.contains(condition[1])\n",
    "        subset = subset.loc[idx, :]\n",
    "    for condition in not_equals_conditions:\n",
    "        idx = subset[condition[0]] != condition[1]\n",
    "        subset = subset.loc[idx, :]\n",
    "    return subset\n",
    "\n",
    "def condition_featuriser(df: pd.DataFrame, option: str):\n",
    "    condition = [(\"featuriser\", option)]\n",
    "    return condition_on(condition, [], df)\n",
    "\n",
    "def condition_not_featuriser(df: pd.DataFrame, option: str):\n",
    "    condition = [(\"featuriser\", option)]\n",
    "    return condition_on([], condition, df)\n",
    "\n",
    "featurisers = [\"glove_mean\", \"bow_count\", \"bow_binary\", \"tf_idf\", \"bert_cls\", \"bert_mean\"]\n",
    "conditioned_on = {}\n",
    "conditioned_not_on = {}\n",
    "\n",
    "for condition in featurisers:\n",
    "    conditioned_on[condition] = condition_featuriser(filtered_results, condition)\n",
    "    conditioned_not_on[condition] = condition_not_featuriser(filtered_results, condition)"
   ]
  },
  {
   "cell_type": "markdown",
   "metadata": {},
   "source": [
    "# BoW for DL"
   ]
  },
  {
   "cell_type": "code",
   "execution_count": 30,
   "metadata": {},
   "outputs": [],
   "source": [
    "if filter_only_replicates:\n",
    "    to_consider_rmse = filtered_results.groupby([\"preprocesser(s)\", \"tokeniser\", \"featuriser\", \"model\"]).agg({metric: [\"mean\", \"sem\"]}).reset_index()\n",
    "    to_consider_rmse.columns = [\"preprocesser(s)\", \"tokeniser\", \"featuriser\", \"model\", f\"{metric}\", f\"{metric}_sem\"]\n",
    "    title = \"dist of mean RMSE for each pipeline\"\n",
    "else:\n",
    "    to_consider_rmse = filtered_results\n",
    "    title = \"dist of RMSE for each pipeline\""
   ]
  },
  {
   "cell_type": "code",
   "execution_count": 31,
   "metadata": {},
   "outputs": [
    {
     "name": "stderr",
     "output_type": "stream",
     "text": [
      "/tmp/ipykernel_56187/3578367382.py:28: SettingWithCopyWarning:\n",
      "\n",
      "\n",
      "A value is trying to be set on a copy of a slice from a DataFrame.\n",
      "Try using .loc[row_indexer,col_indexer] = value instead\n",
      "\n",
      "See the caveats in the documentation: https://pandas.pydata.org/pandas-docs/stable/user_guide/indexing.html#returning-a-view-versus-a-copy\n",
      "\n",
      "/tmp/ipykernel_56187/3578367382.py:29: SettingWithCopyWarning:\n",
      "\n",
      "\n",
      "A value is trying to be set on a copy of a slice from a DataFrame.\n",
      "Try using .loc[row_indexer,col_indexer] = value instead\n",
      "\n",
      "See the caveats in the documentation: https://pandas.pydata.org/pandas-docs/stable/user_guide/indexing.html#returning-a-view-versus-a-copy\n",
      "\n",
      "/tmp/ipykernel_56187/3578367382.py:31: SettingWithCopyWarning:\n",
      "\n",
      "\n",
      "A value is trying to be set on a copy of a slice from a DataFrame.\n",
      "Try using .loc[row_indexer,col_indexer] = value instead\n",
      "\n",
      "See the caveats in the documentation: https://pandas.pydata.org/pandas-docs/stable/user_guide/indexing.html#returning-a-view-versus-a-copy\n",
      "\n",
      "/tmp/ipykernel_56187/3578367382.py:32: SettingWithCopyWarning:\n",
      "\n",
      "\n",
      "A value is trying to be set on a copy of a slice from a DataFrame.\n",
      "Try using .loc[row_indexer,col_indexer] = value instead\n",
      "\n",
      "See the caveats in the documentation: https://pandas.pydata.org/pandas-docs/stable/user_guide/indexing.html#returning-a-view-versus-a-copy\n",
      "\n"
     ]
    }
   ],
   "source": [
    "dl_models = [\"mlp\", \"resnet\", \"deep_linear\"]\n",
    "gbdt_models = [\"catboost\", \"xgboost\"]\n",
    "bow_models = [\"bow_count\", \"bow_binary\", \"tf_idf\"]\n",
    "ignore_glove = to_consider_rmse[\"featuriser\"] != \"glove_mean\"\n",
    "bow_comparison_df = to_consider_rmse[ignore_glove]\n",
    "dl_models = dl_models\n",
    "ft_dl_models = [f\"{x}_ft\" for x in dl_models]\n",
    "is_dl_model = bow_comparison_df[\"model\"].isin(dl_models)\n",
    "is_ft_dl_model = bow_comparison_df[\"model\"].isin(ft_dl_models)\n",
    "is_bow_model = bow_comparison_df[\"featuriser\"].isin(bow_models)\n",
    "is_gbdt_model = bow_comparison_df[\"model\"].isin(gbdt_models)\n",
    "\n",
    "bow_dl_results = bow_comparison_df[\n",
    "    is_dl_model & is_bow_model\n",
    "]\n",
    "bow_ft_dl_results = bow_comparison_df[\n",
    "    is_ft_dl_model & is_bow_model\n",
    "]\n",
    "bow_gbdt_results = bow_comparison_df[\n",
    "    is_gbdt_model & is_bow_model\n",
    "]\n",
    "not_bow_dl_results = bow_comparison_df[\n",
    "    is_dl_model & ~is_bow_model\n",
    "]\n",
    "not_bow_ft_dl_results = bow_comparison_df[\n",
    "    is_ft_dl_model & ~is_bow_model\n",
    "]\n",
    "bow_gbdt_results[\"model_type\"] = \"GBDT w/ BoW\"\n",
    "bow_dl_results[\"model_type\"] = \"DL w/ BoW\"\n",
    "bow_ft_dl_results[\"model_type\"] = \"DL w/ BoW + Finetuning\" # Wait this shouldnt be possible?\n",
    "not_bow_dl_results[\"model_type\"] = \"DL w/o BoW\"\n",
    "not_bow_ft_dl_results[\"model_type\"] = \"DL w/o BoW + Finetuning\"\n",
    "\n",
    "comparison = pd.concat([\n",
    "    bow_dl_results, \n",
    "    not_bow_dl_results, \n",
    "    bow_ft_dl_results, \n",
    "    not_bow_ft_dl_results,\n",
    "    bow_gbdt_results\n",
    "])\n",
    "fig = px.box(\n",
    "    comparison,\n",
    "    x=\"model_type\",\n",
    "    y=metric,\n",
    "    points=\"outliers\",\n",
    "    title=title\n",
    ")\n",
    "fig.add_hline(y=perf_of_mean, line_dash=\"dash\", line_color=\"gray\")\n",
    "fig.write_image(\n",
    "    OUTPUT_DIR / dataset / \"1d_boxplots\" / f\"{config_str}_bow_dl_gbdt.{image_ext}\",\n",
    "    height=SAVE_HEIGHT,\n",
    "    width=SAVE_WIDTH,\n",
    "    scale=2\n",
    ")\n"
   ]
  },
  {
   "cell_type": "markdown",
   "metadata": {},
   "source": [
    "# DL w/ Finetuning vs w/out"
   ]
  },
  {
   "cell_type": "markdown",
   "metadata": {},
   "source": [
    "Look into whether we have graphically noticable differences between pipelines that had BERT featurisation using and not using finetuning"
   ]
  },
  {
   "cell_type": "code",
   "execution_count": 32,
   "metadata": {},
   "outputs": [],
   "source": [
    "plot_version = 4"
   ]
  },
  {
   "cell_type": "code",
   "execution_count": 33,
   "metadata": {},
   "outputs": [
    {
     "data": {
      "text/plain": [
       "array(['xgboost', 'mlp_ft', 'deep_linear_ft', 'mlp', 'catboost', 'resnet',\n",
       "       'deep_linear', 'resnet_ft'], dtype=object)"
      ]
     },
     "execution_count": 33,
     "metadata": {},
     "output_type": "execute_result"
    }
   ],
   "source": [
    "unique_models = filtered_results[\"model\"].unique()\n",
    "unique_models "
   ]
  },
  {
   "cell_type": "code",
   "execution_count": 34,
   "metadata": {},
   "outputs": [],
   "source": [
    "if False:\n",
    "    to_consider_rmse = filtered_results.groupby([\"preprocesser(s)\", \"tokeniser\", \"featuriser\", \"model\"]).agg({metric: [\"mean\", \"sem\"]}).reset_index()\n",
    "    to_consider_rmse.columns = [\"preprocesser(s)\", \"tokeniser\", \"featuriser\", \"model\", f\"{metric}\", f\"{metric}_sem\"]\n",
    "else:\n",
    "    to_consider_rmse = filtered_results"
   ]
  },
  {
   "cell_type": "code",
   "execution_count": 35,
   "metadata": {},
   "outputs": [
    {
     "name": "stderr",
     "output_type": "stream",
     "text": [
      "/tmp/ipykernel_56187/2484556661.py:49: SettingWithCopyWarning:\n",
      "\n",
      "\n",
      "A value is trying to be set on a copy of a slice from a DataFrame.\n",
      "Try using .loc[row_indexer,col_indexer] = value instead\n",
      "\n",
      "See the caveats in the documentation: https://pandas.pydata.org/pandas-docs/stable/user_guide/indexing.html#returning-a-view-versus-a-copy\n",
      "\n",
      "/tmp/ipykernel_56187/2484556661.py:50: SettingWithCopyWarning:\n",
      "\n",
      "\n",
      "A value is trying to be set on a copy of a slice from a DataFrame.\n",
      "Try using .loc[row_indexer,col_indexer] = value instead\n",
      "\n",
      "See the caveats in the documentation: https://pandas.pydata.org/pandas-docs/stable/user_guide/indexing.html#returning-a-view-versus-a-copy\n",
      "\n",
      "/tmp/ipykernel_56187/2484556661.py:51: SettingWithCopyWarning:\n",
      "\n",
      "\n",
      "A value is trying to be set on a copy of a slice from a DataFrame.\n",
      "Try using .loc[row_indexer,col_indexer] = value instead\n",
      "\n",
      "See the caveats in the documentation: https://pandas.pydata.org/pandas-docs/stable/user_guide/indexing.html#returning-a-view-versus-a-copy\n",
      "\n",
      "/tmp/ipykernel_56187/2484556661.py:52: SettingWithCopyWarning:\n",
      "\n",
      "\n",
      "A value is trying to be set on a copy of a slice from a DataFrame.\n",
      "Try using .loc[row_indexer,col_indexer] = value instead\n",
      "\n",
      "See the caveats in the documentation: https://pandas.pydata.org/pandas-docs/stable/user_guide/indexing.html#returning-a-view-versus-a-copy\n",
      "\n",
      "/tmp/ipykernel_56187/2484556661.py:53: SettingWithCopyWarning:\n",
      "\n",
      "\n",
      "A value is trying to be set on a copy of a slice from a DataFrame.\n",
      "Try using .loc[row_indexer,col_indexer] = value instead\n",
      "\n",
      "See the caveats in the documentation: https://pandas.pydata.org/pandas-docs/stable/user_guide/indexing.html#returning-a-view-versus-a-copy\n",
      "\n",
      "/tmp/ipykernel_56187/2484556661.py:54: SettingWithCopyWarning:\n",
      "\n",
      "\n",
      "A value is trying to be set on a copy of a slice from a DataFrame.\n",
      "Try using .loc[row_indexer,col_indexer] = value instead\n",
      "\n",
      "See the caveats in the documentation: https://pandas.pydata.org/pandas-docs/stable/user_guide/indexing.html#returning-a-view-versus-a-copy\n",
      "\n"
     ]
    }
   ],
   "source": [
    "using_ft = condition_on([(\"model\", \"ft\")], [], to_consider_rmse)\n",
    "with_mlp = to_consider_rmse[\"model\"] == \"mlp\"\n",
    "with_linear = to_consider_rmse[\"model\"] == \"deep_linear\"\n",
    "with_resnet = to_consider_rmse[\"model\"] == \"resnet\"\n",
    "using_dl = with_mlp | with_linear | with_resnet\n",
    "with_bert_featurizer = (to_consider_rmse[\"featuriser\"] == \"bert_cls\") | (to_consider_rmse[\"featuriser\"] == \"bert_mean\")\n",
    "with_bow_featurizer = (to_consider_rmse[\"featuriser\"] == \"bow_count\") | (to_consider_rmse[\"featuriser\"] == \"bow_binary\") | (to_consider_rmse[\"featuriser\"] == \"tf_idf\")\n",
    "with_glove_featurizer = (to_consider_rmse[\"featuriser\"] == \"glove_mean\")\n",
    "\n",
    "using_dl_no_ft = using_dl & with_bert_featurizer\n",
    "incompatible_dl = using_dl & ~with_bert_featurizer\n",
    "bert_no_dl = ~using_dl & with_bert_featurizer\n",
    "using_dl_w_glove = using_dl & with_glove_featurizer\n",
    "dl_w_bow = using_dl & with_bow_featurizer\n",
    "\n",
    "subsampled = {}\n",
    "\n",
    "subsampled[\"using_ft\"] = using_ft\n",
    "subsampled[\"using_dl_no_ft\"] = to_consider_rmse[using_dl_no_ft]\n",
    "subsampled[\"using_dl_no_ft_incompatible\"] = to_consider_rmse[incompatible_dl]\n",
    "subsampled[\"using_dl_w_bow\"] = to_consider_rmse[dl_w_bow]\n",
    "subsampled[\"using_dl_w_glove\"] = to_consider_rmse[using_dl_w_glove]\n",
    "subsampled[\"using_bert_no_dl\"] = to_consider_rmse[bert_no_dl]\n",
    "subsampled[\"using_bow\"] = to_consider_rmse[with_bow_featurizer]\n",
    "\n",
    "compare_dl_ft = pd.DataFrame({\n",
    "    \"Model Type\": [\"DL + BERT w/ Finetuning\", \"DL + BERT w/o Finetuning\", \"DL + BoW\"],\n",
    "    \"Mean\": [\n",
    "        subsampled[\"using_ft\"][metric].mean(), \n",
    "        subsampled[\"using_dl_no_ft\"][metric].mean(), \n",
    "        subsampled[\"using_dl_w_bow\"][metric].mean()\n",
    "    ],\n",
    "    \"Standard Error\": [\n",
    "        subsampled[\"using_ft\"][metric].sem(), \n",
    "        subsampled[\"using_dl_no_ft\"][metric].sem(), \n",
    "        subsampled[\"using_dl_w_bow\"][metric].sem()\n",
    "    ]\n",
    "}).round(0)\n",
    "\n",
    "latex_table = compare_dl_ft.to_latex(\n",
    "    index=False,\n",
    "    float_format=simple_format\n",
    ")\n",
    "latex_table = process_latex_table(latex_table)\n",
    "with open(table_dir / f\"{config_str}_compare_dl_ft.tex\", \"w\") as f:\n",
    "    f.write(latex_table)\n",
    "\n",
    "subsampled[\"using_ft\"][\"model_type\"] = \"BERT+DL w/ Finetuning\"\n",
    "subsampled[\"using_dl_no_ft\"][\"model_type\"] = \"BERT+DL w/o Finetuning\"\n",
    "subsampled[\"using_dl_no_ft_incompatible\"][\"model_type\"] = \"Not BERT+DL\"\n",
    "subsampled[\"using_bert_no_dl\"][\"model_type\"] = \"BERT w/o DL\"\n",
    "subsampled[\"using_dl_w_bow\"][\"model_type\"] = \"BoW+DL\"\n",
    "subsampled[\"using_dl_w_glove\"][\"model_type\"] = \"GloVe+DL\"\n",
    "subsampled[\"using_bow\"][\"model_type\"] = \"BoW\"\n",
    "\n",
    "# Can also group by pipeline_hash and model_type - to compare main effects, not thought it through though so will just use raw data\n",
    "grouped_subsampled = {}\n",
    "for sampled in subsampled:\n",
    "    grouped_subsampled[sampled] = subsampled[sampled].groupby([\"pipeline_hash\", \"model_type\"]).agg({metric: \"mean\"}).reset_index()\n",
    "\n",
    "if plot_version == 5:\n",
    "    to_analyze = grouped_subsampled\n",
    "else:\n",
    "    to_analyze = subsampled\n",
    "\n",
    "to_combine = [\n",
    "    to_analyze[\"using_ft\"], \n",
    "    to_analyze[\"using_dl_no_ft\"]\n",
    "]\n",
    "if plot_version == 2:\n",
    "    to_combine.append(to_analyze[\"using_dl_no_ft_incompatible\"])\n",
    "if plot_version == 3:\n",
    "    to_combine.append(to_analyze[\"using_dl_w_bow\"])\n",
    "    to_combine.append(to_analyze[\"using_dl_w_glove\"])\n",
    "    to_combine.append(to_analyze[\"using_bert_no_dl\"])\n",
    "if plot_version == 4 or plot_version == 5:\n",
    "    to_combine.append(to_analyze[\"using_bow\"])\n",
    "combined = pd.concat(to_combine)\n",
    "\n",
    "\n",
    "fig = px.box(\n",
    "    combined,\n",
    "    y=metric,\n",
    "    x=\"model_type\",\n",
    "    points=\"outliers\"\n",
    ")\n",
    "fig.add_hline(y=perf_of_mean, line_dash=\"dash\", line_color=\"gray\")\n",
    "savepath = OUTPUT_DIR / dataset / \"1d_boxplots\" / f\"{config_str}_compare_dl_ft.{image_ext}\"\n",
    "if plot_version == 2:\n",
    "    savepath = OUTPUT_DIR / dataset / \"1d_boxplots\" / f\"{config_str}_compare_dl_ft_incompatible.{image_ext}\"\n",
    "if plot_version == 3:\n",
    "    savepath = OUTPUT_DIR / dataset / \"1d_boxplots\" / f\"{config_str}_compare_dl_ft_bow.{image_ext}\"\n",
    "if plot_version == 4:\n",
    "    savepath = OUTPUT_DIR / dataset / \"1d_boxplots\" / f\"{config_str}_compare_dl_ft_bow_v4.{image_ext}\"\n",
    "if plot_version == 5:\n",
    "    savepath = OUTPUT_DIR / dataset / \"1d_boxplots\" / f\"{config_str}_compare_dl_ft_bow_v5.{image_ext}\"\n",
    "fig.write_image(\n",
    "    savepath,\n",
    "    height=SAVE_HEIGHT,\n",
    "    width=SAVE_WIDTH,\n",
    "    scale=2\n",
    ")\n"
   ]
  },
  {
   "cell_type": "code",
   "execution_count": 36,
   "metadata": {},
   "outputs": [
    {
     "name": "stderr",
     "output_type": "stream",
     "text": [
      "/tmp/ipykernel_56187/3240004188.py:4: SettingWithCopyWarning:\n",
      "\n",
      "\n",
      "A value is trying to be set on a copy of a slice from a DataFrame.\n",
      "Try using .loc[row_indexer,col_indexer] = value instead\n",
      "\n",
      "See the caveats in the documentation: https://pandas.pydata.org/pandas-docs/stable/user_guide/indexing.html#returning-a-view-versus-a-copy\n",
      "\n",
      "/tmp/ipykernel_56187/3240004188.py:8: SettingWithCopyWarning:\n",
      "\n",
      "\n",
      "A value is trying to be set on a copy of a slice from a DataFrame.\n",
      "Try using .loc[row_indexer,col_indexer] = value instead\n",
      "\n",
      "See the caveats in the documentation: https://pandas.pydata.org/pandas-docs/stable/user_guide/indexing.html#returning-a-view-versus-a-copy\n",
      "\n",
      "/tmp/ipykernel_56187/3240004188.py:12: SettingWithCopyWarning:\n",
      "\n",
      "\n",
      "A value is trying to be set on a copy of a slice from a DataFrame.\n",
      "Try using .loc[row_indexer,col_indexer] = value instead\n",
      "\n",
      "See the caveats in the documentation: https://pandas.pydata.org/pandas-docs/stable/user_guide/indexing.html#returning-a-view-versus-a-copy\n",
      "\n"
     ]
    }
   ],
   "source": [
    "using_gbdt_w_bow = to_consider_rmse[\n",
    "    ~using_dl & with_bow_featurizer\n",
    "]\n",
    "using_gbdt_w_bow[\"model_type\"] = \"BoW + GBDT\"\n",
    "using_gbdt_w_glove = to_consider_rmse[\n",
    "    ~using_dl & with_glove_featurizer\n",
    "]\n",
    "using_gbdt_w_glove[\"model_type\"] = \"GloVe + GBDT\"\n",
    "using_gbdt_w_bert = to_consider_rmse[\n",
    "    ~using_dl & with_bert_featurizer\n",
    "]\n",
    "using_gbdt_w_bert[\"model_type\"] = \"BERT + GBDT\"\n",
    "\n",
    "subsampled[\"using_gbdt_w_bow\"] = using_gbdt_w_bow\n",
    "subsampled[\"using_gbdt_w_glove\"] = using_gbdt_w_glove\n",
    "subsampled[\"using_gbdt_w_bert\"] = using_gbdt_w_bert\n",
    "\n",
    "if plot_version == 5:\n",
    "    grouped_subsampled[\"using_gbdt_w_bow\"] = using_gbdt_w_bow.groupby([\"pipeline_hash\", \"model_type\"]).agg({metric: \"mean\"}).reset_index()\n",
    "    grouped_subsampled[\"using_gbdt_w_glove\"] = using_gbdt_w_glove.groupby([\"pipeline_hash\", \"model_type\"]).agg({metric: \"mean\"}).reset_index()\n",
    "    grouped_subsampled[\"using_gbdt_w_bert\"] = using_gbdt_w_bert.groupby([\"pipeline_hash\", \"model_type\"]).agg({metric: \"mean\"}).reset_index()\n",
    "\n",
    "all_combined = pd.concat([\n",
    "    combined, to_analyze[\"using_gbdt_w_bow\"]\n",
    "])\n",
    "\n",
    "if plot_version == 3 or plot_version == 4 or plot_version == 5:\n",
    "    all_combined = pd.concat([\n",
    "        all_combined, \n",
    "        to_analyze[\"using_gbdt_w_glove\"], \n",
    "        to_analyze[\"using_gbdt_w_bert\"]\n",
    "    ])\n",
    "\n",
    "fig = px.box(\n",
    "    all_combined,\n",
    "    y=metric,\n",
    "    x=\"model_type\",\n",
    "    points=\"outliers\"\n",
    ")\n",
    "fig.add_hline(y=perf_of_mean, line_dash=\"dash\", line_color=\"gray\")\n",
    "savepath = OUTPUT_DIR / dataset / \"1d_boxplots\" / f\"{config_str}_compare_dl_ft_and_bow.{image_ext}\"\n",
    "if plot_version == 2:\n",
    "    savepath = OUTPUT_DIR / dataset / \"1d_boxplots\" / f\"{config_str}_compare_dl_ft_and_bow_incompatible.{image_ext}\"\n",
    "if plot_version == 3:\n",
    "    savepath = OUTPUT_DIR / dataset / \"1d_boxplots\" / f\"{config_str}_compare_dl_ft_and_bow_w_wout_dl.{image_ext}\"\n",
    "if plot_version == 4:\n",
    "    savepath = OUTPUT_DIR / dataset / \"1d_boxplots\" / f\"{config_str}_compare_dl_ft_and_bow_v4.{image_ext}\"\n",
    "if plot_version == 5:\n",
    "    savepath = OUTPUT_DIR / dataset / \"1d_boxplots\" / f\"{config_str}_compare_dl_ft_and_bow_v5.{image_ext}\"\n",
    "fig.write_image(\n",
    "    savepath,\n",
    "    height=SAVE_HEIGHT,\n",
    "    width=SAVE_WIDTH,\n",
    "    scale=2\n",
    ")"
   ]
  },
  {
   "cell_type": "markdown",
   "metadata": {},
   "source": [
    "For BERT featurization to reach the performance of BoW (with or without DL, surprisingly DL performing strongly with BoW) then we must use finetuning"
   ]
  },
  {
   "cell_type": "markdown",
   "metadata": {},
   "source": [
    "## Testing for equivalence to validate reading of graph"
   ]
  },
  {
   "cell_type": "code",
   "execution_count": 37,
   "metadata": {},
   "outputs": [
    {
     "data": {
      "text/html": [
       "<div>\n",
       "<style scoped>\n",
       "    .dataframe tbody tr th:only-of-type {\n",
       "        vertical-align: middle;\n",
       "    }\n",
       "\n",
       "    .dataframe tbody tr th {\n",
       "        vertical-align: top;\n",
       "    }\n",
       "\n",
       "    .dataframe thead th {\n",
       "        text-align: right;\n",
       "    }\n",
       "</style>\n",
       "<table border=\"1\" class=\"dataframe\">\n",
       "  <thead>\n",
       "    <tr style=\"text-align: right;\">\n",
       "      <th></th>\n",
       "      <th>comparison</th>\n",
       "      <th>mean_difference</th>\n",
       "      <th>p_value</th>\n",
       "    </tr>\n",
       "  </thead>\n",
       "  <tbody>\n",
       "    <tr>\n",
       "      <th>0</th>\n",
       "      <td>ft vs no_ft</td>\n",
       "      <td>-30.014917</td>\n",
       "      <td>0.00001</td>\n",
       "    </tr>\n",
       "    <tr>\n",
       "      <th>1</th>\n",
       "      <td>ft vs bow</td>\n",
       "      <td>5.388124</td>\n",
       "      <td>0.02262</td>\n",
       "    </tr>\n",
       "    <tr>\n",
       "      <th>2</th>\n",
       "      <td>no_ft vs bow</td>\n",
       "      <td>35.403041</td>\n",
       "      <td>0.00001</td>\n",
       "    </tr>\n",
       "  </tbody>\n",
       "</table>\n",
       "</div>"
      ],
      "text/plain": [
       "     comparison  mean_difference  p_value\n",
       "0   ft vs no_ft       -30.014917  0.00001\n",
       "1     ft vs bow         5.388124  0.02262\n",
       "2  no_ft vs bow        35.403041  0.00001"
      ]
     },
     "metadata": {},
     "output_type": "display_data"
    },
    {
     "name": "stdout",
     "output_type": "stream",
     "text": [
      "Saved to notebook_output/jc_penney_products/tables/rmse_only_4_replicates_compare_dl_w_wout_ft_and_bow.tex\n"
     ]
    }
   ],
   "source": [
    "pairs = [\n",
    "    ((\"ft\", to_analyze[\"using_ft\"]), (\"no_ft\", to_analyze[\"using_dl_no_ft\"])),\n",
    "    ((\"ft\", to_analyze[\"using_ft\"]), (\"bow\", to_analyze[\"using_bow\"])),\n",
    "    ((\"no_ft\", to_analyze[\"using_dl_no_ft\"]), (\"bow\", to_analyze[\"using_bow\"])),\n",
    "]\n",
    "rows = []\n",
    "for (a, b) in pairs:\n",
    "    a_name, a_df = a\n",
    "    b_name, b_df = b\n",
    "    p_val, diff = permutation_test(a_df[metric], b_df[metric])\n",
    "    row = {\n",
    "        'comparison': f'{a_name} vs {b_name}',\n",
    "        'mean_difference': diff,\n",
    "        'p_value': p_val\n",
    "    }\n",
    "    rows.append(row)\n",
    "results = pd.DataFrame(rows)\n",
    "table = results.to_latex(\n",
    "    index=False,\n",
    "    float_format=simple_format\n",
    ")\n",
    "table = process_latex_table(table)\n",
    "savepath = OUTPUT_DIR / dataset / \"tables\" / f\"{config_str}_compare_dl_w_wout_ft_and_bow.tex\"\n",
    "if plot_version == 5:\n",
    "    savepath = OUTPUT_DIR / dataset / \"tables\" / f\"{config_str}_compare_dl_w_wout_ft_and_bow_v5.tex\"\n",
    "with open(savepath, \"w\") as f:\n",
    "    f.write(table)\n",
    "display(results)\n",
    "print(f\"Saved to {savepath}\")"
   ]
  },
  {
   "cell_type": "markdown",
   "metadata": {},
   "source": [
    "## Do this blocked pairwise on the seeds\n",
    "Most powerful approach - see if this gives substantially different results"
   ]
  },
  {
   "cell_type": "code",
   "execution_count": 38,
   "metadata": {},
   "outputs": [],
   "source": [
    "# Create a dictionary similar to subsampled but with seed filtering\n",
    "subsampled_by_seed = {}\n",
    "seeds = subsampled[\"using_ft\"][\"seed\"].unique()\n",
    "for seed in seeds:\n",
    "    if seed not in subsampled_by_seed:\n",
    "        subsampled_by_seed[seed] = {}\n",
    "    # Group by key and get mean RMSE for each seed\n",
    "    for key, df in subsampled.items():\n",
    "        df_seed = df[df[\"seed\"] == seed]\n",
    "        subsampled_by_seed[seed][key] = df_seed[metric].values\n"
   ]
  },
  {
   "cell_type": "code",
   "execution_count": 39,
   "metadata": {},
   "outputs": [
    {
     "data": {
      "text/plain": [
       "dict_keys([97, 2, 1, 3])"
      ]
     },
     "execution_count": 39,
     "metadata": {},
     "output_type": "execute_result"
    }
   ],
   "source": [
    "subsampled_by_seed.keys()"
   ]
  },
  {
   "cell_type": "code",
   "execution_count": 40,
   "metadata": {},
   "outputs": [],
   "source": [
    "def blocked_permutation_test(nested_dict, key1, key2, n_permutations=10000):\n",
    "    \"\"\"\n",
    "    Perform a blocked permutation test comparing two groups within blocks.\n",
    "    \n",
    "    Args:\n",
    "        nested_dict: Dictionary of dictionaries where first level is blocks and second level is groups, final level should be numpy arrays\n",
    "        key1: First group to compare\n",
    "        key2: Second group to compare \n",
    "        n_permutations: Number of permutations to perform\n",
    "        \n",
    "    Returns:\n",
    "        p_value: P-value from permutation test\n",
    "        observed_diff: Observed difference in means between groups\n",
    "    \"\"\"\n",
    "    # Calculate observed difference in means\n",
    "    group_1 = []\n",
    "    group_2 = []\n",
    "    blocks = nested_dict.keys()\n",
    "    for block in blocks:\n",
    "        group_1.append(nested_dict[block][key1])\n",
    "        group_2.append(nested_dict[block][key2])\n",
    "    observed_diff = np.mean(np.concatenate(group_1)) - np.mean(np.concatenate(group_2))\n",
    "    \n",
    "    # Perform permutations within each block\n",
    "    count = 0\n",
    "    for _ in range(n_permutations):\n",
    "        perm_group_1 = []\n",
    "        perm_group_2 = []\n",
    "        for block in blocks:\n",
    "            # Get values for both groups in this block\n",
    "            vals1 = nested_dict[block][key1]\n",
    "            vals2 = nested_dict[block][key2]\n",
    "            all_vals = np.concatenate([vals1, vals2])\n",
    "            \n",
    "            # Randomly permute and split back into groups\n",
    "            np.random.shuffle(all_vals)\n",
    "            perm1 = all_vals[:len(vals1)]\n",
    "            perm2 = all_vals[len(vals1):]\n",
    "            perm_group_1.append(perm1)\n",
    "            perm_group_2.append(perm2)\n",
    "            \n",
    "        # Calculate overall permuted difference\n",
    "        perm_mean_diff = np.mean(np.concatenate(perm_group_1)) - np.mean(np.concatenate(perm_group_2))\n",
    "        if abs(perm_mean_diff) >= abs(observed_diff):\n",
    "            count += 1\n",
    "            \n",
    "    p_value = (count + 1) / (n_permutations + 1)\n",
    "    \n",
    "    return p_value, observed_diff"
   ]
  },
  {
   "cell_type": "code",
   "execution_count": 41,
   "metadata": {},
   "outputs": [
    {
     "name": "stdout",
     "output_type": "stream",
     "text": [
      "Naive permutation test p-value: 0.383\n",
      "Observed difference: 5.372\n",
      "Blocked permutation test p-value: 0.037\n",
      "Observed difference: 5.372\n"
     ]
    }
   ],
   "source": [
    "\n",
    "# Create synthetic data from normal distribution to demonstrate importance of blocked testing\n",
    "# Create two blocks with different means but same treatment effect\n",
    "n_per_group = 20\n",
    "blocked_vals = {\n",
    "    \"block1\": {},\n",
    "    \"block2\": {}\n",
    "}\n",
    "blocked_vals[\"block1\"][\"control\"] = np.random.normal(loc=100, scale=10, size=n_per_group)\n",
    "blocked_vals[\"block2\"][\"control\"] = np.random.normal(loc=150, scale=10, size=n_per_group)\n",
    "\n",
    "blocked_vals[\"block1\"][\"treatment\"] = np.random.normal(loc=105, scale=10, size=n_per_group) # Effect size = 5\n",
    "blocked_vals[\"block2\"][\"treatment\"] = np.random.normal(loc=155, scale=10, size=n_per_group)  \n",
    "\n",
    "# Naive t-test ignoring blocks\n",
    "all_control = np.concatenate([blocked_vals[\"block1\"][\"control\"], blocked_vals[\"block2\"][\"control\"]])\n",
    "all_treatment = np.concatenate([blocked_vals[\"block1\"][\"treatment\"], blocked_vals[\"block2\"][\"treatment\"]])\n",
    "\n",
    "p_val, observed_diff = permutation_test(all_treatment, all_control)\n",
    "print(f\"Naive permutation test p-value: {p_val:.3f}\")\n",
    "print(f\"Observed difference: {observed_diff:.3f}\")\n",
    "\n",
    "\n",
    "p_val, observed_diff = blocked_permutation_test(blocked_vals, \"treatment\", \"control\")\n",
    "print(f\"Blocked permutation test p-value: {p_val:.3f}\")\n",
    "print(f\"Observed difference: {observed_diff:.3f}\")\n"
   ]
  },
  {
   "cell_type": "code",
   "execution_count": 42,
   "metadata": {},
   "outputs": [
    {
     "name": "stdout",
     "output_type": "stream",
     "text": [
      "Blocked permutation test p-value for ft vs no_ft: 0.0001\n",
      "Observed difference: -30.0149\n",
      "Blocked permutation test p-value for ft vs bow: 0.0217\n",
      "Observed difference: 5.3881\n",
      "Blocked permutation test p-value for no_ft vs bow: 0.0001\n",
      "Observed difference: 35.4030\n"
     ]
    }
   ],
   "source": [
    "name_to_col_map = {\n",
    "    \"ft\": \"using_ft\",\n",
    "    \"no_ft\": \"using_dl_no_ft\",\n",
    "    \"bow\": \"using_bow\",\n",
    "}\n",
    "p_vals = []\n",
    "for a,b in pairs:\n",
    "    a_name, a_df = a\n",
    "    b_name, b_df = b    \n",
    "    p_val, observed_diff = blocked_permutation_test(subsampled_by_seed, name_to_col_map[a_name], name_to_col_map[b_name])\n",
    "    print(f\"Blocked permutation test p-value for {a_name} vs {b_name}: {p_val:.4f}\")\n",
    "    print(f\"Observed difference: {observed_diff:.4f}\")\n",
    "    p_vals.append(p_val)\n"
   ]
  },
  {
   "cell_type": "code",
   "execution_count": 43,
   "metadata": {},
   "outputs": [
    {
     "name": "stderr",
     "output_type": "stream",
     "text": [
      "2025-03-11 11:37:56,509 - analysis - INFO - \n",
      "After Benjamini-Hochberg correction (alpha=0.05):\n",
      "2025-03-11 11:37:56,511 - analysis - INFO - Adjusted significance threshold: 0.0500\n",
      "2025-03-11 11:37:56,512 - analysis - INFO - First 3 comparisons are significant\n"
     ]
    },
    {
     "data": {
      "application/vnd.plotly.v1+json": {
       "config": {
        "plotlyServerURL": "https://plot.ly"
       },
       "data": [
        {
         "marker": {
          "color": "blue"
         },
         "mode": "markers",
         "name": "P-values",
         "type": "scatter",
         "x": [
          1,
          2,
          3
         ],
         "y": [
          0.00009999000099990002,
          0.00009999000099990002,
          0.0216978302169783
         ]
        },
        {
         "line": {
          "color": "red",
          "dash": "dash"
         },
         "mode": "lines",
         "name": "BH line (α=0.05)",
         "type": "scatter",
         "x": [
          1,
          2,
          3
         ],
         "y": [
          0.016666666666666666,
          0.03333333333333333,
          0.05000000000000001
         ]
        }
       ],
       "layout": {
        "showlegend": true,
        "template": {
         "data": {
          "bar": [
           {
            "error_x": {
             "color": "#2a3f5f"
            },
            "error_y": {
             "color": "#2a3f5f"
            },
            "marker": {
             "line": {
              "color": "white",
              "width": 0.5
             },
             "pattern": {
              "fillmode": "overlay",
              "size": 10,
              "solidity": 0.2
             }
            },
            "type": "bar"
           }
          ],
          "barpolar": [
           {
            "marker": {
             "line": {
              "color": "white",
              "width": 0.5
             },
             "pattern": {
              "fillmode": "overlay",
              "size": 10,
              "solidity": 0.2
             }
            },
            "type": "barpolar"
           }
          ],
          "carpet": [
           {
            "aaxis": {
             "endlinecolor": "#2a3f5f",
             "gridcolor": "#C8D4E3",
             "linecolor": "#C8D4E3",
             "minorgridcolor": "#C8D4E3",
             "startlinecolor": "#2a3f5f"
            },
            "baxis": {
             "endlinecolor": "#2a3f5f",
             "gridcolor": "#C8D4E3",
             "linecolor": "#C8D4E3",
             "minorgridcolor": "#C8D4E3",
             "startlinecolor": "#2a3f5f"
            },
            "type": "carpet"
           }
          ],
          "choropleth": [
           {
            "colorbar": {
             "outlinewidth": 0,
             "ticks": ""
            },
            "type": "choropleth"
           }
          ],
          "contour": [
           {
            "colorbar": {
             "outlinewidth": 0,
             "ticks": ""
            },
            "colorscale": [
             [
              0,
              "#0d0887"
             ],
             [
              0.1111111111111111,
              "#46039f"
             ],
             [
              0.2222222222222222,
              "#7201a8"
             ],
             [
              0.3333333333333333,
              "#9c179e"
             ],
             [
              0.4444444444444444,
              "#bd3786"
             ],
             [
              0.5555555555555556,
              "#d8576b"
             ],
             [
              0.6666666666666666,
              "#ed7953"
             ],
             [
              0.7777777777777778,
              "#fb9f3a"
             ],
             [
              0.8888888888888888,
              "#fdca26"
             ],
             [
              1,
              "#f0f921"
             ]
            ],
            "type": "contour"
           }
          ],
          "contourcarpet": [
           {
            "colorbar": {
             "outlinewidth": 0,
             "ticks": ""
            },
            "type": "contourcarpet"
           }
          ],
          "heatmap": [
           {
            "colorbar": {
             "outlinewidth": 0,
             "ticks": ""
            },
            "colorscale": [
             [
              0,
              "#0d0887"
             ],
             [
              0.1111111111111111,
              "#46039f"
             ],
             [
              0.2222222222222222,
              "#7201a8"
             ],
             [
              0.3333333333333333,
              "#9c179e"
             ],
             [
              0.4444444444444444,
              "#bd3786"
             ],
             [
              0.5555555555555556,
              "#d8576b"
             ],
             [
              0.6666666666666666,
              "#ed7953"
             ],
             [
              0.7777777777777778,
              "#fb9f3a"
             ],
             [
              0.8888888888888888,
              "#fdca26"
             ],
             [
              1,
              "#f0f921"
             ]
            ],
            "type": "heatmap"
           }
          ],
          "heatmapgl": [
           {
            "colorbar": {
             "outlinewidth": 0,
             "ticks": ""
            },
            "colorscale": [
             [
              0,
              "#0d0887"
             ],
             [
              0.1111111111111111,
              "#46039f"
             ],
             [
              0.2222222222222222,
              "#7201a8"
             ],
             [
              0.3333333333333333,
              "#9c179e"
             ],
             [
              0.4444444444444444,
              "#bd3786"
             ],
             [
              0.5555555555555556,
              "#d8576b"
             ],
             [
              0.6666666666666666,
              "#ed7953"
             ],
             [
              0.7777777777777778,
              "#fb9f3a"
             ],
             [
              0.8888888888888888,
              "#fdca26"
             ],
             [
              1,
              "#f0f921"
             ]
            ],
            "type": "heatmapgl"
           }
          ],
          "histogram": [
           {
            "marker": {
             "pattern": {
              "fillmode": "overlay",
              "size": 10,
              "solidity": 0.2
             }
            },
            "type": "histogram"
           }
          ],
          "histogram2d": [
           {
            "colorbar": {
             "outlinewidth": 0,
             "ticks": ""
            },
            "colorscale": [
             [
              0,
              "#0d0887"
             ],
             [
              0.1111111111111111,
              "#46039f"
             ],
             [
              0.2222222222222222,
              "#7201a8"
             ],
             [
              0.3333333333333333,
              "#9c179e"
             ],
             [
              0.4444444444444444,
              "#bd3786"
             ],
             [
              0.5555555555555556,
              "#d8576b"
             ],
             [
              0.6666666666666666,
              "#ed7953"
             ],
             [
              0.7777777777777778,
              "#fb9f3a"
             ],
             [
              0.8888888888888888,
              "#fdca26"
             ],
             [
              1,
              "#f0f921"
             ]
            ],
            "type": "histogram2d"
           }
          ],
          "histogram2dcontour": [
           {
            "colorbar": {
             "outlinewidth": 0,
             "ticks": ""
            },
            "colorscale": [
             [
              0,
              "#0d0887"
             ],
             [
              0.1111111111111111,
              "#46039f"
             ],
             [
              0.2222222222222222,
              "#7201a8"
             ],
             [
              0.3333333333333333,
              "#9c179e"
             ],
             [
              0.4444444444444444,
              "#bd3786"
             ],
             [
              0.5555555555555556,
              "#d8576b"
             ],
             [
              0.6666666666666666,
              "#ed7953"
             ],
             [
              0.7777777777777778,
              "#fb9f3a"
             ],
             [
              0.8888888888888888,
              "#fdca26"
             ],
             [
              1,
              "#f0f921"
             ]
            ],
            "type": "histogram2dcontour"
           }
          ],
          "mesh3d": [
           {
            "colorbar": {
             "outlinewidth": 0,
             "ticks": ""
            },
            "type": "mesh3d"
           }
          ],
          "parcoords": [
           {
            "line": {
             "colorbar": {
              "outlinewidth": 0,
              "ticks": ""
             }
            },
            "type": "parcoords"
           }
          ],
          "pie": [
           {
            "automargin": true,
            "type": "pie"
           }
          ],
          "scatter": [
           {
            "fillpattern": {
             "fillmode": "overlay",
             "size": 10,
             "solidity": 0.2
            },
            "type": "scatter"
           }
          ],
          "scatter3d": [
           {
            "line": {
             "colorbar": {
              "outlinewidth": 0,
              "ticks": ""
             }
            },
            "marker": {
             "colorbar": {
              "outlinewidth": 0,
              "ticks": ""
             }
            },
            "type": "scatter3d"
           }
          ],
          "scattercarpet": [
           {
            "marker": {
             "colorbar": {
              "outlinewidth": 0,
              "ticks": ""
             }
            },
            "type": "scattercarpet"
           }
          ],
          "scattergeo": [
           {
            "marker": {
             "colorbar": {
              "outlinewidth": 0,
              "ticks": ""
             }
            },
            "type": "scattergeo"
           }
          ],
          "scattergl": [
           {
            "marker": {
             "colorbar": {
              "outlinewidth": 0,
              "ticks": ""
             }
            },
            "type": "scattergl"
           }
          ],
          "scattermapbox": [
           {
            "marker": {
             "colorbar": {
              "outlinewidth": 0,
              "ticks": ""
             }
            },
            "type": "scattermapbox"
           }
          ],
          "scatterpolar": [
           {
            "marker": {
             "colorbar": {
              "outlinewidth": 0,
              "ticks": ""
             }
            },
            "type": "scatterpolar"
           }
          ],
          "scatterpolargl": [
           {
            "marker": {
             "colorbar": {
              "outlinewidth": 0,
              "ticks": ""
             }
            },
            "type": "scatterpolargl"
           }
          ],
          "scatterternary": [
           {
            "marker": {
             "colorbar": {
              "outlinewidth": 0,
              "ticks": ""
             }
            },
            "type": "scatterternary"
           }
          ],
          "surface": [
           {
            "colorbar": {
             "outlinewidth": 0,
             "ticks": ""
            },
            "colorscale": [
             [
              0,
              "#0d0887"
             ],
             [
              0.1111111111111111,
              "#46039f"
             ],
             [
              0.2222222222222222,
              "#7201a8"
             ],
             [
              0.3333333333333333,
              "#9c179e"
             ],
             [
              0.4444444444444444,
              "#bd3786"
             ],
             [
              0.5555555555555556,
              "#d8576b"
             ],
             [
              0.6666666666666666,
              "#ed7953"
             ],
             [
              0.7777777777777778,
              "#fb9f3a"
             ],
             [
              0.8888888888888888,
              "#fdca26"
             ],
             [
              1,
              "#f0f921"
             ]
            ],
            "type": "surface"
           }
          ],
          "table": [
           {
            "cells": {
             "fill": {
              "color": "#EBF0F8"
             },
             "line": {
              "color": "white"
             }
            },
            "header": {
             "fill": {
              "color": "#C8D4E3"
             },
             "line": {
              "color": "white"
             }
            },
            "type": "table"
           }
          ]
         },
         "layout": {
          "annotationdefaults": {
           "arrowcolor": "#2a3f5f",
           "arrowhead": 0,
           "arrowwidth": 1
          },
          "autotypenumbers": "strict",
          "coloraxis": {
           "colorbar": {
            "outlinewidth": 0,
            "ticks": ""
           }
          },
          "colorscale": {
           "diverging": [
            [
             0,
             "#8e0152"
            ],
            [
             0.1,
             "#c51b7d"
            ],
            [
             0.2,
             "#de77ae"
            ],
            [
             0.3,
             "#f1b6da"
            ],
            [
             0.4,
             "#fde0ef"
            ],
            [
             0.5,
             "#f7f7f7"
            ],
            [
             0.6,
             "#e6f5d0"
            ],
            [
             0.7,
             "#b8e186"
            ],
            [
             0.8,
             "#7fbc41"
            ],
            [
             0.9,
             "#4d9221"
            ],
            [
             1,
             "#276419"
            ]
           ],
           "sequential": [
            [
             0,
             "#0d0887"
            ],
            [
             0.1111111111111111,
             "#46039f"
            ],
            [
             0.2222222222222222,
             "#7201a8"
            ],
            [
             0.3333333333333333,
             "#9c179e"
            ],
            [
             0.4444444444444444,
             "#bd3786"
            ],
            [
             0.5555555555555556,
             "#d8576b"
            ],
            [
             0.6666666666666666,
             "#ed7953"
            ],
            [
             0.7777777777777778,
             "#fb9f3a"
            ],
            [
             0.8888888888888888,
             "#fdca26"
            ],
            [
             1,
             "#f0f921"
            ]
           ],
           "sequentialminus": [
            [
             0,
             "#0d0887"
            ],
            [
             0.1111111111111111,
             "#46039f"
            ],
            [
             0.2222222222222222,
             "#7201a8"
            ],
            [
             0.3333333333333333,
             "#9c179e"
            ],
            [
             0.4444444444444444,
             "#bd3786"
            ],
            [
             0.5555555555555556,
             "#d8576b"
            ],
            [
             0.6666666666666666,
             "#ed7953"
            ],
            [
             0.7777777777777778,
             "#fb9f3a"
            ],
            [
             0.8888888888888888,
             "#fdca26"
            ],
            [
             1,
             "#f0f921"
            ]
           ]
          },
          "colorway": [
           "#636efa",
           "#EF553B",
           "#00cc96",
           "#ab63fa",
           "#FFA15A",
           "#19d3f3",
           "#FF6692",
           "#B6E880",
           "#FF97FF",
           "#FECB52"
          ],
          "font": {
           "color": "#2a3f5f"
          },
          "geo": {
           "bgcolor": "white",
           "lakecolor": "white",
           "landcolor": "white",
           "showlakes": true,
           "showland": true,
           "subunitcolor": "#C8D4E3"
          },
          "hoverlabel": {
           "align": "left"
          },
          "hovermode": "closest",
          "mapbox": {
           "style": "light"
          },
          "paper_bgcolor": "white",
          "plot_bgcolor": "white",
          "polar": {
           "angularaxis": {
            "gridcolor": "#EBF0F8",
            "linecolor": "#EBF0F8",
            "ticks": ""
           },
           "bgcolor": "white",
           "radialaxis": {
            "gridcolor": "#EBF0F8",
            "linecolor": "#EBF0F8",
            "ticks": ""
           }
          },
          "scene": {
           "xaxis": {
            "backgroundcolor": "white",
            "gridcolor": "#DFE8F3",
            "gridwidth": 2,
            "linecolor": "#EBF0F8",
            "showbackground": true,
            "ticks": "",
            "zerolinecolor": "#EBF0F8"
           },
           "yaxis": {
            "backgroundcolor": "white",
            "gridcolor": "#DFE8F3",
            "gridwidth": 2,
            "linecolor": "#EBF0F8",
            "showbackground": true,
            "ticks": "",
            "zerolinecolor": "#EBF0F8"
           },
           "zaxis": {
            "backgroundcolor": "white",
            "gridcolor": "#DFE8F3",
            "gridwidth": 2,
            "linecolor": "#EBF0F8",
            "showbackground": true,
            "ticks": "",
            "zerolinecolor": "#EBF0F8"
           }
          },
          "shapedefaults": {
           "line": {
            "color": "#2a3f5f"
           }
          },
          "ternary": {
           "aaxis": {
            "gridcolor": "#DFE8F3",
            "linecolor": "#A2B1C6",
            "ticks": ""
           },
           "baxis": {
            "gridcolor": "#DFE8F3",
            "linecolor": "#A2B1C6",
            "ticks": ""
           },
           "bgcolor": "white",
           "caxis": {
            "gridcolor": "#DFE8F3",
            "linecolor": "#A2B1C6",
            "ticks": ""
           }
          },
          "title": {
           "x": 0.05
          },
          "xaxis": {
           "automargin": true,
           "gridcolor": "#EBF0F8",
           "linecolor": "#EBF0F8",
           "ticks": "",
           "title": {
            "standoff": 15
           },
           "zerolinecolor": "#EBF0F8",
           "zerolinewidth": 2
          },
          "yaxis": {
           "automargin": true,
           "gridcolor": "#EBF0F8",
           "linecolor": "#EBF0F8",
           "ticks": "",
           "title": {
            "standoff": 15
           },
           "zerolinecolor": "#EBF0F8",
           "zerolinewidth": 2
          }
         }
        },
        "title": {
         "text": "P-values vs Benjamini-Hochberg Critical Values"
        },
        "xaxis": {
         "title": {
          "text": "Rank"
         }
        },
        "yaxis": {
         "title": {
          "text": "P-value"
         }
        }
       }
      }
     },
     "metadata": {},
     "output_type": "display_data"
    }
   ],
   "source": [
    "# Apply Benjamini-Hochberg correction to p-values\n",
    "p_vals = np.array(p_vals)\n",
    "n_tests = len(p_vals)\n",
    "sorted_p_idx = np.argsort(p_vals)\n",
    "sorted_p_vals = p_vals[sorted_p_idx]\n",
    "\n",
    "# Calculate BH critical values\n",
    "bh_values = np.arange(1, n_tests + 1) * alpha / n_tests\n",
    "\n",
    "# Find largest p-value that is less than corresponding BH critical value\n",
    "is_significant = sorted_p_vals <= bh_values\n",
    "if np.any(is_significant):\n",
    "    max_sig_idx = np.where(is_significant)[0][-1]\n",
    "    adjusted_alpha = bh_values[max_sig_idx]\n",
    "    logger.info(f\"\\nAfter Benjamini-Hochberg correction (alpha={alpha}):\")\n",
    "    logger.info(f\"Adjusted significance threshold: {adjusted_alpha:.4f}\")\n",
    "    logger.info(f\"First {max_sig_idx+1} comparisons are significant\")\n",
    "else:\n",
    "    logger.info(\"\\nNo comparisons significant after Benjamini-Hochberg correction\")\n",
    "\n",
    "# Plot p-values against their rank with BH line\n",
    "fig = go.Figure()\n",
    "\n",
    "# Plot points\n",
    "rank = np.arange(1, len(sorted_p_vals) + 1)\n",
    "fig.add_trace(\n",
    "    go.Scatter(\n",
    "        x=rank,\n",
    "        y=sorted_p_vals,\n",
    "        mode='markers',\n",
    "        name='P-values',\n",
    "        marker=dict(color='blue')\n",
    "    )\n",
    ")\n",
    "\n",
    "# Plot BH line\n",
    "fig.add_trace(\n",
    "    go.Scatter(\n",
    "        x=rank,\n",
    "        y=bh_values,\n",
    "        mode='lines',\n",
    "        name=f'BH line (α={alpha})',\n",
    "        line=dict(color='red', dash='dash')\n",
    "    )\n",
    ")\n",
    "\n",
    "# Update layout\n",
    "fig.update_layout(\n",
    "    title='P-values vs Benjamini-Hochberg Critical Values',\n",
    "    xaxis_title='Rank',\n",
    "    yaxis_title='P-value',\n",
    "    showlegend=True,\n",
    "    template='plotly_white'\n",
    ")\n",
    "\n",
    "fig.show()\n",
    "\n",
    "\n"
   ]
  },
  {
   "cell_type": "markdown",
   "metadata": {},
   "source": [
    "# bert_cls vs glove: Pairwise comparison"
   ]
  },
  {
   "cell_type": "code",
   "execution_count": 44,
   "metadata": {},
   "outputs": [
    {
     "name": "stdout",
     "output_type": "stream",
     "text": [
      "(28, 12)\n"
     ]
    },
    {
     "data": {
      "text/html": [
       "<div>\n",
       "<style scoped>\n",
       "    .dataframe tbody tr th:only-of-type {\n",
       "        vertical-align: middle;\n",
       "    }\n",
       "\n",
       "    .dataframe tbody tr th {\n",
       "        vertical-align: top;\n",
       "    }\n",
       "\n",
       "    .dataframe thead th {\n",
       "        text-align: right;\n",
       "    }\n",
       "</style>\n",
       "<table border=\"1\" class=\"dataframe\">\n",
       "  <thead>\n",
       "    <tr style=\"text-align: right;\">\n",
       "      <th></th>\n",
       "      <th>preprocesser(s)</th>\n",
       "      <th>tokeniser_glove</th>\n",
       "      <th>featuriser_glove</th>\n",
       "      <th>model</th>\n",
       "      <th>rmse_glove</th>\n",
       "      <th>seed</th>\n",
       "      <th>preprocessers_glove</th>\n",
       "      <th>tokeniser_bert</th>\n",
       "      <th>featuriser_bert</th>\n",
       "      <th>rmse_bert</th>\n",
       "      <th>preprocessers_bert</th>\n",
       "      <th>rmse_diff</th>\n",
       "    </tr>\n",
       "  </thead>\n",
       "  <tbody>\n",
       "    <tr>\n",
       "      <th>15</th>\n",
       "      <td>Lo</td>\n",
       "      <td>whitespace</td>\n",
       "      <td>glove_mean</td>\n",
       "      <td>mlp</td>\n",
       "      <td>411.519391</td>\n",
       "      <td>1</td>\n",
       "      <td>[lowercase]</td>\n",
       "      <td>bert</td>\n",
       "      <td>bert_cls</td>\n",
       "      <td>369.499701</td>\n",
       "      <td>[lowercase]</td>\n",
       "      <td>-42.019690</td>\n",
       "    </tr>\n",
       "    <tr>\n",
       "      <th>14</th>\n",
       "      <td>Lo</td>\n",
       "      <td>whitespace</td>\n",
       "      <td>glove_mean</td>\n",
       "      <td>mlp</td>\n",
       "      <td>409.706060</td>\n",
       "      <td>2</td>\n",
       "      <td>[lowercase]</td>\n",
       "      <td>bert</td>\n",
       "      <td>bert_cls</td>\n",
       "      <td>370.877050</td>\n",
       "      <td>[lowercase]</td>\n",
       "      <td>-38.829009</td>\n",
       "    </tr>\n",
       "    <tr>\n",
       "      <th>26</th>\n",
       "      <td>empty</td>\n",
       "      <td>whitespace</td>\n",
       "      <td>glove_mean</td>\n",
       "      <td>deep_linear</td>\n",
       "      <td>434.439971</td>\n",
       "      <td>2</td>\n",
       "      <td>[empty]</td>\n",
       "      <td>bert</td>\n",
       "      <td>bert_cls</td>\n",
       "      <td>397.464240</td>\n",
       "      <td>[empty]</td>\n",
       "      <td>-36.975731</td>\n",
       "    </tr>\n",
       "    <tr>\n",
       "      <th>27</th>\n",
       "      <td>empty</td>\n",
       "      <td>whitespace</td>\n",
       "      <td>glove_mean</td>\n",
       "      <td>deep_linear</td>\n",
       "      <td>434.439971</td>\n",
       "      <td>2</td>\n",
       "      <td>[empty]</td>\n",
       "      <td>bert</td>\n",
       "      <td>bert_mean</td>\n",
       "      <td>397.869226</td>\n",
       "      <td>[empty]</td>\n",
       "      <td>-36.570745</td>\n",
       "    </tr>\n",
       "    <tr>\n",
       "      <th>20</th>\n",
       "      <td>empty</td>\n",
       "      <td>whitespace</td>\n",
       "      <td>glove_mean</td>\n",
       "      <td>deep_linear</td>\n",
       "      <td>432.206056</td>\n",
       "      <td>97</td>\n",
       "      <td>[empty]</td>\n",
       "      <td>bert</td>\n",
       "      <td>bert_mean</td>\n",
       "      <td>395.802287</td>\n",
       "      <td>[empty]</td>\n",
       "      <td>-36.403769</td>\n",
       "    </tr>\n",
       "    <tr>\n",
       "      <th>17</th>\n",
       "      <td>Lo</td>\n",
       "      <td>whitespace</td>\n",
       "      <td>glove_mean</td>\n",
       "      <td>deep_linear</td>\n",
       "      <td>432.010309</td>\n",
       "      <td>97</td>\n",
       "      <td>[lowercase]</td>\n",
       "      <td>bert</td>\n",
       "      <td>bert_mean</td>\n",
       "      <td>395.802287</td>\n",
       "      <td>[lowercase]</td>\n",
       "      <td>-36.208022</td>\n",
       "    </tr>\n",
       "    <tr>\n",
       "      <th>21</th>\n",
       "      <td>empty</td>\n",
       "      <td>whitespace</td>\n",
       "      <td>glove_mean</td>\n",
       "      <td>deep_linear</td>\n",
       "      <td>432.303724</td>\n",
       "      <td>3</td>\n",
       "      <td>[empty]</td>\n",
       "      <td>bert</td>\n",
       "      <td>bert_cls</td>\n",
       "      <td>396.243567</td>\n",
       "      <td>[empty]</td>\n",
       "      <td>-36.060157</td>\n",
       "    </tr>\n",
       "    <tr>\n",
       "      <th>24</th>\n",
       "      <td>empty</td>\n",
       "      <td>whitespace</td>\n",
       "      <td>glove_mean</td>\n",
       "      <td>deep_linear</td>\n",
       "      <td>432.776494</td>\n",
       "      <td>1</td>\n",
       "      <td>[empty]</td>\n",
       "      <td>bert</td>\n",
       "      <td>bert_cls</td>\n",
       "      <td>396.818474</td>\n",
       "      <td>[empty]</td>\n",
       "      <td>-35.958020</td>\n",
       "    </tr>\n",
       "    <tr>\n",
       "      <th>19</th>\n",
       "      <td>empty</td>\n",
       "      <td>whitespace</td>\n",
       "      <td>glove_mean</td>\n",
       "      <td>deep_linear</td>\n",
       "      <td>432.206056</td>\n",
       "      <td>97</td>\n",
       "      <td>[empty]</td>\n",
       "      <td>bert</td>\n",
       "      <td>bert_cls</td>\n",
       "      <td>397.011463</td>\n",
       "      <td>[empty]</td>\n",
       "      <td>-35.194593</td>\n",
       "    </tr>\n",
       "    <tr>\n",
       "      <th>22</th>\n",
       "      <td>empty</td>\n",
       "      <td>whitespace</td>\n",
       "      <td>glove_mean</td>\n",
       "      <td>deep_linear</td>\n",
       "      <td>432.303724</td>\n",
       "      <td>3</td>\n",
       "      <td>[empty]</td>\n",
       "      <td>bert</td>\n",
       "      <td>bert_mean</td>\n",
       "      <td>397.644649</td>\n",
       "      <td>[empty]</td>\n",
       "      <td>-34.659074</td>\n",
       "    </tr>\n",
       "    <tr>\n",
       "      <th>25</th>\n",
       "      <td>empty</td>\n",
       "      <td>whitespace</td>\n",
       "      <td>glove_mean</td>\n",
       "      <td>deep_linear</td>\n",
       "      <td>432.776494</td>\n",
       "      <td>1</td>\n",
       "      <td>[empty]</td>\n",
       "      <td>bert</td>\n",
       "      <td>bert_mean</td>\n",
       "      <td>398.120860</td>\n",
       "      <td>[empty]</td>\n",
       "      <td>-34.655634</td>\n",
       "    </tr>\n",
       "    <tr>\n",
       "      <th>23</th>\n",
       "      <td>Lo</td>\n",
       "      <td>whitespace</td>\n",
       "      <td>glove_mean</td>\n",
       "      <td>deep_linear</td>\n",
       "      <td>432.353283</td>\n",
       "      <td>2</td>\n",
       "      <td>[lowercase]</td>\n",
       "      <td>bert</td>\n",
       "      <td>bert_mean</td>\n",
       "      <td>397.869226</td>\n",
       "      <td>[lowercase]</td>\n",
       "      <td>-34.484057</td>\n",
       "    </tr>\n",
       "    <tr>\n",
       "      <th>11</th>\n",
       "      <td>Lo</td>\n",
       "      <td>whitespace</td>\n",
       "      <td>glove_mean</td>\n",
       "      <td>mlp</td>\n",
       "      <td>399.413925</td>\n",
       "      <td>3</td>\n",
       "      <td>[lowercase]</td>\n",
       "      <td>bert</td>\n",
       "      <td>bert_cls</td>\n",
       "      <td>365.087536</td>\n",
       "      <td>[lowercase]</td>\n",
       "      <td>-34.326389</td>\n",
       "    </tr>\n",
       "    <tr>\n",
       "      <th>12</th>\n",
       "      <td>Lo</td>\n",
       "      <td>stanford</td>\n",
       "      <td>glove_mean</td>\n",
       "      <td>mlp</td>\n",
       "      <td>403.632548</td>\n",
       "      <td>1</td>\n",
       "      <td>[lowercase]</td>\n",
       "      <td>bert</td>\n",
       "      <td>bert_cls</td>\n",
       "      <td>369.499701</td>\n",
       "      <td>[lowercase]</td>\n",
       "      <td>-34.132847</td>\n",
       "    </tr>\n",
       "    <tr>\n",
       "      <th>16</th>\n",
       "      <td>Lo</td>\n",
       "      <td>whitespace</td>\n",
       "      <td>glove_mean</td>\n",
       "      <td>deep_linear</td>\n",
       "      <td>431.645397</td>\n",
       "      <td>3</td>\n",
       "      <td>[lowercase]</td>\n",
       "      <td>bert</td>\n",
       "      <td>bert_mean</td>\n",
       "      <td>397.644649</td>\n",
       "      <td>[lowercase]</td>\n",
       "      <td>-34.000748</td>\n",
       "    </tr>\n",
       "    <tr>\n",
       "      <th>18</th>\n",
       "      <td>Lo</td>\n",
       "      <td>whitespace</td>\n",
       "      <td>glove_mean</td>\n",
       "      <td>deep_linear</td>\n",
       "      <td>432.049840</td>\n",
       "      <td>1</td>\n",
       "      <td>[lowercase]</td>\n",
       "      <td>bert</td>\n",
       "      <td>bert_mean</td>\n",
       "      <td>398.120860</td>\n",
       "      <td>[lowercase]</td>\n",
       "      <td>-33.928980</td>\n",
       "    </tr>\n",
       "    <tr>\n",
       "      <th>13</th>\n",
       "      <td>Lo</td>\n",
       "      <td>stanford</td>\n",
       "      <td>glove_mean</td>\n",
       "      <td>mlp</td>\n",
       "      <td>404.292791</td>\n",
       "      <td>2</td>\n",
       "      <td>[lowercase]</td>\n",
       "      <td>bert</td>\n",
       "      <td>bert_cls</td>\n",
       "      <td>370.877050</td>\n",
       "      <td>[lowercase]</td>\n",
       "      <td>-33.415741</td>\n",
       "    </tr>\n",
       "    <tr>\n",
       "      <th>10</th>\n",
       "      <td>Lo</td>\n",
       "      <td>stanford</td>\n",
       "      <td>glove_mean</td>\n",
       "      <td>mlp</td>\n",
       "      <td>390.562144</td>\n",
       "      <td>3</td>\n",
       "      <td>[lowercase]</td>\n",
       "      <td>bert</td>\n",
       "      <td>bert_cls</td>\n",
       "      <td>365.087536</td>\n",
       "      <td>[lowercase]</td>\n",
       "      <td>-25.474608</td>\n",
       "    </tr>\n",
       "    <tr>\n",
       "      <th>7</th>\n",
       "      <td>Le,Lo,NP,NSCC</td>\n",
       "      <td>stanford</td>\n",
       "      <td>glove_mean</td>\n",
       "      <td>catboost</td>\n",
       "      <td>373.209293</td>\n",
       "      <td>1</td>\n",
       "      <td>[lemmatize, lowercase, no_punctuation, no_stop...</td>\n",
       "      <td>bert</td>\n",
       "      <td>bert_mean</td>\n",
       "      <td>369.783833</td>\n",
       "      <td>[lemmatize, lowercase, no_punctuation, no_stop...</td>\n",
       "      <td>-3.425460</td>\n",
       "    </tr>\n",
       "    <tr>\n",
       "      <th>9</th>\n",
       "      <td>Lo</td>\n",
       "      <td>whitespace</td>\n",
       "      <td>glove_mean</td>\n",
       "      <td>mlp</td>\n",
       "      <td>389.280139</td>\n",
       "      <td>97</td>\n",
       "      <td>[lowercase]</td>\n",
       "      <td>bert</td>\n",
       "      <td>bert_cls</td>\n",
       "      <td>391.470080</td>\n",
       "      <td>[lowercase]</td>\n",
       "      <td>2.189940</td>\n",
       "    </tr>\n",
       "    <tr>\n",
       "      <th>4</th>\n",
       "      <td>Le,Lo,NP,NSCC</td>\n",
       "      <td>stanford</td>\n",
       "      <td>glove_mean</td>\n",
       "      <td>catboost</td>\n",
       "      <td>351.340047</td>\n",
       "      <td>3</td>\n",
       "      <td>[lemmatize, lowercase, no_punctuation, no_stop...</td>\n",
       "      <td>bert</td>\n",
       "      <td>bert_mean</td>\n",
       "      <td>353.702734</td>\n",
       "      <td>[lemmatize, lowercase, no_punctuation, no_stop...</td>\n",
       "      <td>2.362688</td>\n",
       "    </tr>\n",
       "    <tr>\n",
       "      <th>6</th>\n",
       "      <td>Le,Lo,NP,NSCC</td>\n",
       "      <td>stanford</td>\n",
       "      <td>glove_mean</td>\n",
       "      <td>catboost</td>\n",
       "      <td>364.881308</td>\n",
       "      <td>97</td>\n",
       "      <td>[lemmatize, lowercase, no_punctuation, no_stop...</td>\n",
       "      <td>bert</td>\n",
       "      <td>bert_mean</td>\n",
       "      <td>372.224648</td>\n",
       "      <td>[lemmatize, lowercase, no_punctuation, no_stop...</td>\n",
       "      <td>7.343340</td>\n",
       "    </tr>\n",
       "    <tr>\n",
       "      <th>5</th>\n",
       "      <td>Le,Lo,NP,NSCC</td>\n",
       "      <td>stanford</td>\n",
       "      <td>glove_mean</td>\n",
       "      <td>catboost</td>\n",
       "      <td>352.150723</td>\n",
       "      <td>2</td>\n",
       "      <td>[lemmatize, lowercase, no_punctuation, no_stop...</td>\n",
       "      <td>bert</td>\n",
       "      <td>bert_mean</td>\n",
       "      <td>359.966899</td>\n",
       "      <td>[lemmatize, lowercase, no_punctuation, no_stop...</td>\n",
       "      <td>7.816176</td>\n",
       "    </tr>\n",
       "    <tr>\n",
       "      <th>8</th>\n",
       "      <td>Lo</td>\n",
       "      <td>stanford</td>\n",
       "      <td>glove_mean</td>\n",
       "      <td>mlp</td>\n",
       "      <td>382.423204</td>\n",
       "      <td>97</td>\n",
       "      <td>[lowercase]</td>\n",
       "      <td>bert</td>\n",
       "      <td>bert_cls</td>\n",
       "      <td>391.470080</td>\n",
       "      <td>[lowercase]</td>\n",
       "      <td>9.046876</td>\n",
       "    </tr>\n",
       "    <tr>\n",
       "      <th>3</th>\n",
       "      <td>NSN,S</td>\n",
       "      <td>whitespace</td>\n",
       "      <td>glove_mean</td>\n",
       "      <td>resnet</td>\n",
       "      <td>342.660384</td>\n",
       "      <td>2</td>\n",
       "      <td>[no_stopwords_nltk, stem]</td>\n",
       "      <td>bert</td>\n",
       "      <td>bert_mean</td>\n",
       "      <td>369.894816</td>\n",
       "      <td>[no_stopwords_nltk, stem]</td>\n",
       "      <td>27.234432</td>\n",
       "    </tr>\n",
       "    <tr>\n",
       "      <th>2</th>\n",
       "      <td>NSN,S</td>\n",
       "      <td>whitespace</td>\n",
       "      <td>glove_mean</td>\n",
       "      <td>resnet</td>\n",
       "      <td>339.943979</td>\n",
       "      <td>97</td>\n",
       "      <td>[no_stopwords_nltk, stem]</td>\n",
       "      <td>bert</td>\n",
       "      <td>bert_mean</td>\n",
       "      <td>369.778036</td>\n",
       "      <td>[no_stopwords_nltk, stem]</td>\n",
       "      <td>29.834057</td>\n",
       "    </tr>\n",
       "    <tr>\n",
       "      <th>1</th>\n",
       "      <td>NSN,S</td>\n",
       "      <td>whitespace</td>\n",
       "      <td>glove_mean</td>\n",
       "      <td>resnet</td>\n",
       "      <td>338.484607</td>\n",
       "      <td>1</td>\n",
       "      <td>[no_stopwords_nltk, stem]</td>\n",
       "      <td>bert</td>\n",
       "      <td>bert_mean</td>\n",
       "      <td>375.977008</td>\n",
       "      <td>[no_stopwords_nltk, stem]</td>\n",
       "      <td>37.492401</td>\n",
       "    </tr>\n",
       "    <tr>\n",
       "      <th>0</th>\n",
       "      <td>NSN,S</td>\n",
       "      <td>whitespace</td>\n",
       "      <td>glove_mean</td>\n",
       "      <td>resnet</td>\n",
       "      <td>332.004835</td>\n",
       "      <td>3</td>\n",
       "      <td>[no_stopwords_nltk, stem]</td>\n",
       "      <td>bert</td>\n",
       "      <td>bert_mean</td>\n",
       "      <td>377.513262</td>\n",
       "      <td>[no_stopwords_nltk, stem]</td>\n",
       "      <td>45.508427</td>\n",
       "    </tr>\n",
       "  </tbody>\n",
       "</table>\n",
       "</div>"
      ],
      "text/plain": [
       "   preprocesser(s) tokeniser_glove featuriser_glove        model  rmse_glove  \\\n",
       "15              Lo      whitespace       glove_mean          mlp  411.519391   \n",
       "14              Lo      whitespace       glove_mean          mlp  409.706060   \n",
       "26           empty      whitespace       glove_mean  deep_linear  434.439971   \n",
       "27           empty      whitespace       glove_mean  deep_linear  434.439971   \n",
       "20           empty      whitespace       glove_mean  deep_linear  432.206056   \n",
       "17              Lo      whitespace       glove_mean  deep_linear  432.010309   \n",
       "21           empty      whitespace       glove_mean  deep_linear  432.303724   \n",
       "24           empty      whitespace       glove_mean  deep_linear  432.776494   \n",
       "19           empty      whitespace       glove_mean  deep_linear  432.206056   \n",
       "22           empty      whitespace       glove_mean  deep_linear  432.303724   \n",
       "25           empty      whitespace       glove_mean  deep_linear  432.776494   \n",
       "23              Lo      whitespace       glove_mean  deep_linear  432.353283   \n",
       "11              Lo      whitespace       glove_mean          mlp  399.413925   \n",
       "12              Lo        stanford       glove_mean          mlp  403.632548   \n",
       "16              Lo      whitespace       glove_mean  deep_linear  431.645397   \n",
       "18              Lo      whitespace       glove_mean  deep_linear  432.049840   \n",
       "13              Lo        stanford       glove_mean          mlp  404.292791   \n",
       "10              Lo        stanford       glove_mean          mlp  390.562144   \n",
       "7    Le,Lo,NP,NSCC        stanford       glove_mean     catboost  373.209293   \n",
       "9               Lo      whitespace       glove_mean          mlp  389.280139   \n",
       "4    Le,Lo,NP,NSCC        stanford       glove_mean     catboost  351.340047   \n",
       "6    Le,Lo,NP,NSCC        stanford       glove_mean     catboost  364.881308   \n",
       "5    Le,Lo,NP,NSCC        stanford       glove_mean     catboost  352.150723   \n",
       "8               Lo        stanford       glove_mean          mlp  382.423204   \n",
       "3            NSN,S      whitespace       glove_mean       resnet  342.660384   \n",
       "2            NSN,S      whitespace       glove_mean       resnet  339.943979   \n",
       "1            NSN,S      whitespace       glove_mean       resnet  338.484607   \n",
       "0            NSN,S      whitespace       glove_mean       resnet  332.004835   \n",
       "\n",
       "    seed                                preprocessers_glove tokeniser_bert  \\\n",
       "15     1                                        [lowercase]           bert   \n",
       "14     2                                        [lowercase]           bert   \n",
       "26     2                                            [empty]           bert   \n",
       "27     2                                            [empty]           bert   \n",
       "20    97                                            [empty]           bert   \n",
       "17    97                                        [lowercase]           bert   \n",
       "21     3                                            [empty]           bert   \n",
       "24     1                                            [empty]           bert   \n",
       "19    97                                            [empty]           bert   \n",
       "22     3                                            [empty]           bert   \n",
       "25     1                                            [empty]           bert   \n",
       "23     2                                        [lowercase]           bert   \n",
       "11     3                                        [lowercase]           bert   \n",
       "12     1                                        [lowercase]           bert   \n",
       "16     3                                        [lowercase]           bert   \n",
       "18     1                                        [lowercase]           bert   \n",
       "13     2                                        [lowercase]           bert   \n",
       "10     3                                        [lowercase]           bert   \n",
       "7      1  [lemmatize, lowercase, no_punctuation, no_stop...           bert   \n",
       "9     97                                        [lowercase]           bert   \n",
       "4      3  [lemmatize, lowercase, no_punctuation, no_stop...           bert   \n",
       "6     97  [lemmatize, lowercase, no_punctuation, no_stop...           bert   \n",
       "5      2  [lemmatize, lowercase, no_punctuation, no_stop...           bert   \n",
       "8     97                                        [lowercase]           bert   \n",
       "3      2                          [no_stopwords_nltk, stem]           bert   \n",
       "2     97                          [no_stopwords_nltk, stem]           bert   \n",
       "1      1                          [no_stopwords_nltk, stem]           bert   \n",
       "0      3                          [no_stopwords_nltk, stem]           bert   \n",
       "\n",
       "   featuriser_bert   rmse_bert  \\\n",
       "15        bert_cls  369.499701   \n",
       "14        bert_cls  370.877050   \n",
       "26        bert_cls  397.464240   \n",
       "27       bert_mean  397.869226   \n",
       "20       bert_mean  395.802287   \n",
       "17       bert_mean  395.802287   \n",
       "21        bert_cls  396.243567   \n",
       "24        bert_cls  396.818474   \n",
       "19        bert_cls  397.011463   \n",
       "22       bert_mean  397.644649   \n",
       "25       bert_mean  398.120860   \n",
       "23       bert_mean  397.869226   \n",
       "11        bert_cls  365.087536   \n",
       "12        bert_cls  369.499701   \n",
       "16       bert_mean  397.644649   \n",
       "18       bert_mean  398.120860   \n",
       "13        bert_cls  370.877050   \n",
       "10        bert_cls  365.087536   \n",
       "7        bert_mean  369.783833   \n",
       "9         bert_cls  391.470080   \n",
       "4        bert_mean  353.702734   \n",
       "6        bert_mean  372.224648   \n",
       "5        bert_mean  359.966899   \n",
       "8         bert_cls  391.470080   \n",
       "3        bert_mean  369.894816   \n",
       "2        bert_mean  369.778036   \n",
       "1        bert_mean  375.977008   \n",
       "0        bert_mean  377.513262   \n",
       "\n",
       "                                   preprocessers_bert  rmse_diff  \n",
       "15                                        [lowercase] -42.019690  \n",
       "14                                        [lowercase] -38.829009  \n",
       "26                                            [empty] -36.975731  \n",
       "27                                            [empty] -36.570745  \n",
       "20                                            [empty] -36.403769  \n",
       "17                                        [lowercase] -36.208022  \n",
       "21                                            [empty] -36.060157  \n",
       "24                                            [empty] -35.958020  \n",
       "19                                            [empty] -35.194593  \n",
       "22                                            [empty] -34.659074  \n",
       "25                                            [empty] -34.655634  \n",
       "23                                        [lowercase] -34.484057  \n",
       "11                                        [lowercase] -34.326389  \n",
       "12                                        [lowercase] -34.132847  \n",
       "16                                        [lowercase] -34.000748  \n",
       "18                                        [lowercase] -33.928980  \n",
       "13                                        [lowercase] -33.415741  \n",
       "10                                        [lowercase] -25.474608  \n",
       "7   [lemmatize, lowercase, no_punctuation, no_stop...  -3.425460  \n",
       "9                                         [lowercase]   2.189940  \n",
       "4   [lemmatize, lowercase, no_punctuation, no_stop...   2.362688  \n",
       "6   [lemmatize, lowercase, no_punctuation, no_stop...   7.343340  \n",
       "5   [lemmatize, lowercase, no_punctuation, no_stop...   7.816176  \n",
       "8                                         [lowercase]   9.046876  \n",
       "3                           [no_stopwords_nltk, stem]  27.234432  \n",
       "2                           [no_stopwords_nltk, stem]  29.834057  \n",
       "1                           [no_stopwords_nltk, stem]  37.492401  \n",
       "0                           [no_stopwords_nltk, stem]  45.508427  "
      ]
     },
     "metadata": {},
     "output_type": "display_data"
    }
   ],
   "source": [
    "cols_of_interest = latex_cols + [\"seed\", \"preprocessers\"]\n",
    "glove_performances = conditioned_on[\"glove_mean\"][cols_of_interest]\n",
    "bert_performances = pd.concat([conditioned_on[\"bert_cls\"], conditioned_on[\"bert_mean\"]])[cols_of_interest]\n",
    "\n",
    "# def filter_out_stemming(df):\n",
    "#     return df[df[\"preprocessers\"].apply(lambda x: \"stem\" not in x)]\n",
    "\n",
    "# glove_performances = filter_out_stemming(glove_performances)\n",
    "# bert_performances = filter_out_stemming(bert_performances)\n",
    "\n",
    "shared_pipelines = glove_performances.merge(\n",
    "    bert_performances,\n",
    "    on=[\n",
    "        \"preprocesser(s)\",  # Unsure if we should also merge on preprocesser(s) as it fragments results, but it strengthens test\n",
    "        \"model\",\n",
    "        \"seed\"\n",
    "    ],\n",
    "    suffixes=[\"_glove\", \"_bert\"],\n",
    "    how=\"inner\"\n",
    ")\n",
    "shared_pipelines[metric+\"_diff\"] = shared_pipelines[metric+\"_bert\"] - shared_pipelines[metric+\"_glove\"]\n",
    "shared_pipelines = shared_pipelines.sort_values(metric+\"_diff\")\n",
    "print(shared_pipelines.shape)\n",
    "display(shared_pipelines)"
   ]
  },
  {
   "cell_type": "code",
   "execution_count": 45,
   "metadata": {},
   "outputs": [],
   "source": [
    "from itertools import product\n",
    "\n",
    "def binary_counter_gen(len):\n",
    "    for mask in product([True, False], repeat=len):\n",
    "        yield np.array(mask)\n"
   ]
  },
  {
   "cell_type": "code",
   "execution_count": 46,
   "metadata": {},
   "outputs": [
    {
     "name": "stdout",
     "output_type": "stream",
     "text": [
      "[ True  True  True]\n",
      "[ True  True False]\n",
      "[ True False  True]\n",
      "[ True False False]\n",
      "[False  True  True]\n",
      "[False  True False]\n",
      "[False False  True]\n",
      "[False False False]\n"
     ]
    }
   ],
   "source": [
    "for sample in binary_counter_gen(3):\n",
    "    print(sample)"
   ]
  },
  {
   "cell_type": "code",
   "execution_count": 47,
   "metadata": {},
   "outputs": [],
   "source": [
    "\n",
    "\n",
    "def paired_permutation_test(a, b, n_permutations=10000, random=True):\n",
    "    \"\"\"\n",
    "    Tests that the mean difference between two paired samples is significantly different from 0.\n",
    "\n",
    "    Do so by shuffling membership of a and b and checking how often the mean difference is greater \n",
    "    than the observed difference.\n",
    "    \"\"\"\n",
    "\n",
    "    if len(a) != len(b):\n",
    "        raise ValueError(\"a and b must have the same length\")\n",
    "    max_num_perms = 2**len(a)\n",
    "    if n_permutations > max_num_perms:\n",
    "        if random:\n",
    "            logger.warning(f\"n_permutations ({n_permutations:.0e}) is greater than the maximum number of permutations ({max_num_perms:.0e}). This may give misleading results.\")\n",
    "        else:\n",
    "            logger.warning(f\"n_permutations ({n_permutations:.0e}) is greater than the maximum number of permutations ({max_num_perms:.0e}). Flooring to {max_num_perms}.\")\n",
    "            n_permutations = max_num_perms\n",
    "    elif n_permutations < max_num_perms and not random:\n",
    "        logger.warning(f\"n_permutations ({n_permutations:.0e}) is less than the maximum number of permutations ({max_num_perms:.0e}). This may give misleading results. As such we will use all permutations.\")\n",
    "        n_permutations = max_num_perms\n",
    "    a_copy = a.copy()\n",
    "    b_copy = b.copy()\n",
    "    observed_diff = (a_copy - b_copy).mean()\n",
    "    more_extreme_than_observed = 0.\n",
    "    if not random:\n",
    "        binary_counter = iter(binary_counter_gen(len(a)))\n",
    "    for i in range(n_permutations):\n",
    "        new_a = a_copy.copy()\n",
    "        new_b = b_copy.copy()\n",
    "        if random:\n",
    "            mask = np.random.choice([True, False], size=len(a), replace=True)\n",
    "            new_a[mask] = b_copy[mask]\n",
    "            new_b[mask] = a_copy[mask]\n",
    "            mean_diff = (new_a - new_b).mean()\n",
    "            if abs(mean_diff) >= abs(observed_diff):\n",
    "                more_extreme_than_observed += 1\n",
    "        else:\n",
    "            mask = next(binary_counter)\n",
    "            new_a[mask] = b_copy[mask]\n",
    "            new_b[mask] = a_copy[mask]\n",
    "            mean_diff = (new_a - new_b).mean()\n",
    "            if abs(mean_diff) >= abs(observed_diff):\n",
    "                more_extreme_than_observed += 1\n",
    "    return (more_extreme_than_observed+1) / (n_permutations+1), observed_diff"
   ]
  },
  {
   "cell_type": "code",
   "execution_count": 48,
   "metadata": {},
   "outputs": [
    {
     "name": "stderr",
     "output_type": "stream",
     "text": [
      "2025-03-11 11:38:10,263 - analysis - INFO - \n",
      "Paired permutation test on identical data:\n",
      "2025-03-11 11:38:10,264 - analysis - INFO - Observed difference: 0.03\n",
      "2025-03-11 11:38:10,265 - analysis - INFO - P-value: 0.8401159884011599\n",
      "2025-03-11 11:38:10,266 - analysis - INFO - Statistically not different from 0 at 0.05 significance\n"
     ]
    }
   ],
   "source": [
    "# Test that paired permutation test works correctly on identical data\n",
    "normal_sample = np.random.normal(size=100)\n",
    "same_normal_sample = np.random.normal(size=100)\n",
    "p_val, observed_diff = paired_permutation_test(normal_sample, same_normal_sample, random=True)\n",
    "logger.info(f\"\\nPaired permutation test on identical data:\")\n",
    "logger.info(f\"Observed difference: {observed_diff:.2f}\")\n",
    "logger.info(f\"P-value: {p_val}\")\n",
    "logger.info(f\"Statistically {'different' if p_val < alpha else 'not different'} from 0 at {alpha} significance\")\n"
   ]
  },
  {
   "cell_type": "code",
   "execution_count": 49,
   "metadata": {},
   "outputs": [
    {
     "name": "stdout",
     "output_type": "stream",
     "text": [
      "Saved to notebook_output/jc_penney_products/tables/rmse_only_4_replicates_glove_vs_bert.tex\n"
     ]
    },
    {
     "data": {
      "text/html": [
       "<div>\n",
       "<style scoped>\n",
       "    .dataframe tbody tr th:only-of-type {\n",
       "        vertical-align: middle;\n",
       "    }\n",
       "\n",
       "    .dataframe tbody tr th {\n",
       "        vertical-align: top;\n",
       "    }\n",
       "\n",
       "    .dataframe thead th {\n",
       "        text-align: right;\n",
       "    }\n",
       "</style>\n",
       "<table border=\"1\" class=\"dataframe\">\n",
       "  <thead>\n",
       "    <tr style=\"text-align: right;\">\n",
       "      <th></th>\n",
       "      <th>dataset</th>\n",
       "      <th>mean_difference (BERT - GloVE)</th>\n",
       "      <th>p_value</th>\n",
       "    </tr>\n",
       "  </thead>\n",
       "  <tbody>\n",
       "    <tr>\n",
       "      <th>0</th>\n",
       "      <td>jcp</td>\n",
       "      <td>-16.710534</td>\n",
       "      <td>0.00434</td>\n",
       "    </tr>\n",
       "  </tbody>\n",
       "</table>\n",
       "</div>"
      ],
      "text/plain": [
       "  dataset  mean_difference (BERT - GloVE)  p_value\n",
       "0     jcp                      -16.710534  0.00434"
      ]
     },
     "metadata": {},
     "output_type": "display_data"
    }
   ],
   "source": [
    "p_val, observed_diff = paired_permutation_test(\n",
    "    shared_pipelines[metric+\"_bert\"].values, \n",
    "    shared_pipelines[metric+\"_glove\"].values, \n",
    "    random=True,\n",
    "    n_permutations=100000\n",
    ")\n",
    "row = {\n",
    "    \"dataset\": dataset_name_map[dataset],\n",
    "    \"mean_difference (BERT - GloVE)\": observed_diff,\n",
    "    \"p_value\": p_val\n",
    "}\n",
    "results = pd.DataFrame([row])\n",
    "latex_table = results.to_latex(\n",
    "    index=False,\n",
    "    float_format=simple_format\n",
    ")\n",
    "latex_table = process_latex_table(latex_table)\n",
    "\n",
    "savepath = OUTPUT_DIR / dataset / \"tables\" / f\"{config_str}_glove_vs_bert.tex\"\n",
    "with open(savepath, \"w\") as f:\n",
    "    f.write(latex_table)\n",
    "print(f\"Saved to {savepath}\")\n",
    "display(results)"
   ]
  },
  {
   "cell_type": "markdown",
   "metadata": {},
   "source": [
    "Sanity check with a validated t test implementation"
   ]
  },
  {
   "cell_type": "code",
   "execution_count": 50,
   "metadata": {},
   "outputs": [
    {
     "name": "stderr",
     "output_type": "stream",
     "text": [
      "2025-03-11 11:38:13,962 - analysis - INFO - \n",
      "Paired t-test results:\n",
      "2025-03-11 11:38:13,963 - analysis - INFO - T-statistic: -3.252\n",
      "2025-03-11 11:38:13,965 - analysis - INFO - P-value: 0.003\n",
      "2025-03-11 11:38:13,966 - analysis - INFO - Statistically different at 0.05 significance\n"
     ]
    }
   ],
   "source": [
    "# Compare BERT and GloVE with paired t-test - sanity check on permutation test\n",
    "t_stat, t_pval = stats.ttest_rel(shared_pipelines[metric+\"_bert\"].values, shared_pipelines[metric+\"_glove\"].values)\n",
    "\n",
    "logger.info(f\"\\nPaired t-test results:\")\n",
    "logger.info(f\"T-statistic: {t_stat:.3f}\")\n",
    "logger.info(f\"P-value: {t_pval:.3f}\")\n",
    "logger.info(f\"Statistically {'different' if t_pval < alpha else 'not different'} at {alpha} significance\")\n"
   ]
  },
  {
   "cell_type": "markdown",
   "metadata": {},
   "source": [
    "# Do preprocessers matter?"
   ]
  },
  {
   "cell_type": "markdown",
   "metadata": {},
   "source": [
    "## Preprocessers for traditional NLP"
   ]
  },
  {
   "cell_type": "code",
   "execution_count": 51,
   "metadata": {},
   "outputs": [
    {
     "name": "stderr",
     "output_type": "stream",
     "text": [
      "/tmp/ipykernel_56187/1258202587.py:11: SettingWithCopyWarning:\n",
      "\n",
      "\n",
      "A value is trying to be set on a copy of a slice from a DataFrame.\n",
      "Try using .loc[row_indexer,col_indexer] = value instead\n",
      "\n",
      "See the caveats in the documentation: https://pandas.pydata.org/pandas-docs/stable/user_guide/indexing.html#returning-a-view-versus-a-copy\n",
      "\n"
     ]
    },
    {
     "data": {
      "application/vnd.plotly.v1+json": {
       "config": {
        "plotlyServerURL": "https://plot.ly"
       },
       "data": [
        {
         "alignmentgroup": "True",
         "boxpoints": "outliers",
         "hovertemplate": "uses_preprocessing=True<br>rmse=%{y}<extra></extra>",
         "legendgroup": "True",
         "marker": {
          "color": "#636efa"
         },
         "name": "True",
         "notched": false,
         "offsetgroup": "True",
         "orientation": "v",
         "showlegend": true,
         "type": "box",
         "x0": " ",
         "xaxis": "x",
         "y": [
          302.98532877952385,
          317.2746493887332,
          322.87510822185965,
          329.03338868175547,
          330.5256683133251,
          330.76188374701206,
          331.16129587426065,
          331.548140198718,
          332.75503476142876,
          333.43970039167675,
          334.2797103352185,
          335.9048992042993,
          336.08907085976875,
          336.3448535264005,
          336.48704449130076,
          336.85379930801435,
          336.8591724846095,
          337.0332588518629,
          337.25941827706737,
          337.48317715345,
          337.894982623395,
          337.90077754813865,
          337.90266967544187,
          338.05647616789224,
          338.3263710117045,
          338.4344042126516,
          338.9869071965612,
          339.1918218769382,
          339.86693325695734,
          340.0157353003433,
          340.3437861967969,
          340.71481472697303,
          340.7598731006099,
          341.1772702149842,
          341.5654140819198,
          341.730787983425,
          341.73937912501395,
          341.7554176447597,
          341.7874981043275,
          341.8069453362533,
          341.8343958172098,
          341.9640180301286,
          342.03959722230746,
          342.09688120534224,
          342.16792444405667,
          342.6541438788124,
          342.6972553433169,
          342.95439203852345,
          343.1759709279876,
          344.08238575632225,
          344.5882851234182,
          344.9162252396897,
          344.9582203077432,
          345.45965330677683,
          345.6561772720931,
          345.9117337808273,
          346.35034830966623,
          347.0141209772471,
          347.03265533083226,
          347.16949423169433,
          347.28476239664195,
          347.41207006458774,
          347.5181405710475,
          347.7000635312551,
          348.1711070939988,
          348.22211579793645,
          348.41962699372687,
          348.44425235320244,
          348.46370137366364,
          348.50457546165956,
          348.5777695564028,
          348.6716869328035,
          348.7344944978441,
          348.9703867724513,
          349.02414312168804,
          349.03036184294484,
          349.04017537813047,
          349.0705664824753,
          349.12113101810587,
          349.1965941402116,
          349.23751047489844,
          349.2625917441977,
          349.2994040683845,
          349.37162517811197,
          349.37537321542425,
          349.40465243002933,
          349.5485828283458,
          349.57263945412586,
          349.7812956218617,
          349.80690329770636,
          349.87701756783974,
          349.933912210853,
          350.1949826413795,
          350.4150112538761,
          350.513723721203,
          350.53434639653204,
          350.6427108952664,
          350.68205486571253,
          350.8358069292958,
          350.88307844273106,
          350.89342673343697,
          351.0253572516627,
          351.22109175659654,
          351.231930676306,
          351.36143618895954,
          351.7103111005102,
          351.78153245464944,
          351.79613989863475,
          351.8306927690175,
          351.9710491200743,
          352.1743319068449,
          352.1872572228812,
          352.41515822828916,
          352.4833673836635,
          352.48955144875686,
          352.5419263889379,
          352.61210900033564,
          352.6279312841654,
          352.6698077178222,
          352.7332699657305,
          352.81046930747533,
          352.856737446726,
          353.0294081920973,
          353.1124817455461,
          353.1151182093502,
          353.1335303202907,
          353.1670024945526,
          353.21342753476205,
          353.606273349257,
          353.6354308880048,
          353.6679692404049,
          353.68082534058703,
          353.79333173049474,
          353.9919067000957,
          354.13967330331985,
          354.36535169775783,
          354.3660847119559,
          354.49235621872435,
          354.74201192634143,
          354.8457934551521,
          354.8798618370827,
          354.88937440743456,
          354.9032814765862,
          354.91046588833,
          354.98064293427853,
          355.0338531752973,
          355.45024575788625,
          355.6735847619962,
          355.68057856622704,
          355.71127626477363,
          355.9033910963849,
          355.9808364054509,
          356.02156563865435,
          356.49644770792906,
          356.8398268634553,
          356.92774844375293,
          356.98562678393165,
          357.3378689586965,
          357.73883631466583,
          357.75011304409156,
          357.85157603954525,
          357.976700682603,
          358.5018560050089,
          358.5614054039148,
          358.63423423016394,
          359.1113483535576,
          359.12411026638614,
          359.272442432111,
          359.2965882286245,
          359.585543533579,
          359.8976568270002,
          360.099004379823,
          360.4609205536714,
          360.8514829437244,
          361.4407093716513,
          361.52466131979776,
          361.9992545748583,
          362.0226172875552,
          362.026135141724,
          362.9855138737894,
          363.07764144071365,
          363.2347751283879,
          363.3237442781769,
          363.8052631857211,
          363.8194286693244,
          364.26840297584334,
          364.28728553022927,
          365.4177951397347,
          365.74543909929184,
          366.3196957860713,
          366.48899989726215,
          367.8588745847962,
          368.9670422736481,
          369.1052855469451,
          369.9934710894124,
          370.49770092829493,
          370.8757152209511,
          370.9984113687101,
          371.44434562983963,
          372.1014242799801,
          372.5728263888575,
          372.94570734635766,
          372.9658502935422,
          374.31364671418106,
          374.69911584110145,
          374.7229520005292,
          374.9997614273561,
          375.50278670085095,
          375.7146514419944,
          375.9506247797896,
          375.9734045572443,
          377.8681616373733,
          377.9421602963221,
          380.3029536467347,
          384.30404315776656,
          384.51201069379687,
          386.0288387329702,
          388.37844747672193,
          389.03496006985046,
          391.7286389451438,
          393.3824519729062,
          404.4569142803265,
          409.02331644330764,
          424.58231657679477
         ],
         "y0": " ",
         "yaxis": "y"
        },
        {
         "alignmentgroup": "True",
         "boxpoints": "outliers",
         "hovertemplate": "uses_preprocessing=False<br>rmse=%{y}<extra></extra>",
         "legendgroup": "False",
         "marker": {
          "color": "#EF553B"
         },
         "name": "False",
         "notched": false,
         "offsetgroup": "False",
         "orientation": "v",
         "showlegend": true,
         "type": "box",
         "x0": " ",
         "xaxis": "x",
         "y": [
          319.6769612338791,
          321.90214560858936,
          325.80635178825247,
          325.9737215556308,
          330.1086612808074,
          331.9290450060042,
          335.2713293085249,
          335.5864986540254,
          336.1852444079673,
          336.3351739395896,
          336.60502664897905,
          336.8335200998433,
          336.9500563360441,
          337.11922636614725,
          337.5988671166009,
          337.9748343805495,
          338.3236260538346,
          338.5606744392377,
          339.05756189746137,
          339.541484845856,
          340.3232638181472,
          340.4496627710643,
          341.56155651982795,
          341.8814359752579,
          341.9704219945067,
          342.9266835577458,
          344.46179711836015,
          344.6599005800042,
          344.7681872587935,
          344.99491808649987,
          345.23251918281466,
          345.72446705636304,
          345.7941666431594,
          345.92895858835993,
          345.93135766557367,
          346.4082543063963,
          346.5631573115318,
          346.84779563276646,
          347.2047541452248,
          347.46799393338375,
          347.58230329110717,
          348.41011530741076,
          348.61908268886566,
          348.6620630386463,
          349.32132362424323,
          349.3279625093249,
          349.3901244979621,
          349.43919144210247,
          349.51486855039616,
          350.0300069200573,
          350.06693498838104,
          350.1828547872948,
          350.2573249152995,
          350.2843877997468,
          350.6462899837157,
          350.7739509101003,
          350.78275671424836,
          350.79536890295367,
          351.2048352565753,
          351.31390493750945,
          351.3254948239948,
          351.3293125051709,
          351.8468011579895,
          351.92959765326276,
          352.19343919505417,
          352.4553312867923,
          352.8620526122858,
          352.87408207406116,
          353.0838869420854,
          353.1739941797307,
          353.98112293100826,
          354.04205051869445,
          355.6040367861931,
          355.8245888970643,
          355.9401747785815,
          356.0679837375498,
          356.3133229287219,
          356.84132909003364,
          359.1157001004959,
          359.22752334396586,
          359.67294314191514,
          360.10752534130694,
          360.88184047643097,
          360.96087493399034,
          361.013226377878,
          362.32222747461407,
          362.81126021551154,
          363.67991570720363,
          364.2161913691774,
          364.2407253593071,
          365.25388299105725,
          365.34210859311264,
          366.02839085232114,
          366.06220001115344,
          366.8519451239413,
          368.52091726169806,
          371.73384976894664,
          373.03430773451083,
          374.4939247981931,
          374.84708617838504,
          376.1286019076023,
          383.96407164421544,
          396.68174634093964,
          398.08956563452256
         ],
         "y0": " ",
         "yaxis": "y"
        }
       ],
       "layout": {
        "boxmode": "group",
        "legend": {
         "title": {
          "text": "uses_preprocessing"
         },
         "tracegroupgap": 0
        },
        "margin": {
         "t": 60
        },
        "template": {
         "data": {
          "bar": [
           {
            "error_x": {
             "color": "#2a3f5f"
            },
            "error_y": {
             "color": "#2a3f5f"
            },
            "marker": {
             "line": {
              "color": "#E5ECF6",
              "width": 0.5
             },
             "pattern": {
              "fillmode": "overlay",
              "size": 10,
              "solidity": 0.2
             }
            },
            "type": "bar"
           }
          ],
          "barpolar": [
           {
            "marker": {
             "line": {
              "color": "#E5ECF6",
              "width": 0.5
             },
             "pattern": {
              "fillmode": "overlay",
              "size": 10,
              "solidity": 0.2
             }
            },
            "type": "barpolar"
           }
          ],
          "carpet": [
           {
            "aaxis": {
             "endlinecolor": "#2a3f5f",
             "gridcolor": "white",
             "linecolor": "white",
             "minorgridcolor": "white",
             "startlinecolor": "#2a3f5f"
            },
            "baxis": {
             "endlinecolor": "#2a3f5f",
             "gridcolor": "white",
             "linecolor": "white",
             "minorgridcolor": "white",
             "startlinecolor": "#2a3f5f"
            },
            "type": "carpet"
           }
          ],
          "choropleth": [
           {
            "colorbar": {
             "outlinewidth": 0,
             "ticks": ""
            },
            "type": "choropleth"
           }
          ],
          "contour": [
           {
            "colorbar": {
             "outlinewidth": 0,
             "ticks": ""
            },
            "colorscale": [
             [
              0,
              "#0d0887"
             ],
             [
              0.1111111111111111,
              "#46039f"
             ],
             [
              0.2222222222222222,
              "#7201a8"
             ],
             [
              0.3333333333333333,
              "#9c179e"
             ],
             [
              0.4444444444444444,
              "#bd3786"
             ],
             [
              0.5555555555555556,
              "#d8576b"
             ],
             [
              0.6666666666666666,
              "#ed7953"
             ],
             [
              0.7777777777777778,
              "#fb9f3a"
             ],
             [
              0.8888888888888888,
              "#fdca26"
             ],
             [
              1,
              "#f0f921"
             ]
            ],
            "type": "contour"
           }
          ],
          "contourcarpet": [
           {
            "colorbar": {
             "outlinewidth": 0,
             "ticks": ""
            },
            "type": "contourcarpet"
           }
          ],
          "heatmap": [
           {
            "colorbar": {
             "outlinewidth": 0,
             "ticks": ""
            },
            "colorscale": [
             [
              0,
              "#0d0887"
             ],
             [
              0.1111111111111111,
              "#46039f"
             ],
             [
              0.2222222222222222,
              "#7201a8"
             ],
             [
              0.3333333333333333,
              "#9c179e"
             ],
             [
              0.4444444444444444,
              "#bd3786"
             ],
             [
              0.5555555555555556,
              "#d8576b"
             ],
             [
              0.6666666666666666,
              "#ed7953"
             ],
             [
              0.7777777777777778,
              "#fb9f3a"
             ],
             [
              0.8888888888888888,
              "#fdca26"
             ],
             [
              1,
              "#f0f921"
             ]
            ],
            "type": "heatmap"
           }
          ],
          "heatmapgl": [
           {
            "colorbar": {
             "outlinewidth": 0,
             "ticks": ""
            },
            "colorscale": [
             [
              0,
              "#0d0887"
             ],
             [
              0.1111111111111111,
              "#46039f"
             ],
             [
              0.2222222222222222,
              "#7201a8"
             ],
             [
              0.3333333333333333,
              "#9c179e"
             ],
             [
              0.4444444444444444,
              "#bd3786"
             ],
             [
              0.5555555555555556,
              "#d8576b"
             ],
             [
              0.6666666666666666,
              "#ed7953"
             ],
             [
              0.7777777777777778,
              "#fb9f3a"
             ],
             [
              0.8888888888888888,
              "#fdca26"
             ],
             [
              1,
              "#f0f921"
             ]
            ],
            "type": "heatmapgl"
           }
          ],
          "histogram": [
           {
            "marker": {
             "pattern": {
              "fillmode": "overlay",
              "size": 10,
              "solidity": 0.2
             }
            },
            "type": "histogram"
           }
          ],
          "histogram2d": [
           {
            "colorbar": {
             "outlinewidth": 0,
             "ticks": ""
            },
            "colorscale": [
             [
              0,
              "#0d0887"
             ],
             [
              0.1111111111111111,
              "#46039f"
             ],
             [
              0.2222222222222222,
              "#7201a8"
             ],
             [
              0.3333333333333333,
              "#9c179e"
             ],
             [
              0.4444444444444444,
              "#bd3786"
             ],
             [
              0.5555555555555556,
              "#d8576b"
             ],
             [
              0.6666666666666666,
              "#ed7953"
             ],
             [
              0.7777777777777778,
              "#fb9f3a"
             ],
             [
              0.8888888888888888,
              "#fdca26"
             ],
             [
              1,
              "#f0f921"
             ]
            ],
            "type": "histogram2d"
           }
          ],
          "histogram2dcontour": [
           {
            "colorbar": {
             "outlinewidth": 0,
             "ticks": ""
            },
            "colorscale": [
             [
              0,
              "#0d0887"
             ],
             [
              0.1111111111111111,
              "#46039f"
             ],
             [
              0.2222222222222222,
              "#7201a8"
             ],
             [
              0.3333333333333333,
              "#9c179e"
             ],
             [
              0.4444444444444444,
              "#bd3786"
             ],
             [
              0.5555555555555556,
              "#d8576b"
             ],
             [
              0.6666666666666666,
              "#ed7953"
             ],
             [
              0.7777777777777778,
              "#fb9f3a"
             ],
             [
              0.8888888888888888,
              "#fdca26"
             ],
             [
              1,
              "#f0f921"
             ]
            ],
            "type": "histogram2dcontour"
           }
          ],
          "mesh3d": [
           {
            "colorbar": {
             "outlinewidth": 0,
             "ticks": ""
            },
            "type": "mesh3d"
           }
          ],
          "parcoords": [
           {
            "line": {
             "colorbar": {
              "outlinewidth": 0,
              "ticks": ""
             }
            },
            "type": "parcoords"
           }
          ],
          "pie": [
           {
            "automargin": true,
            "type": "pie"
           }
          ],
          "scatter": [
           {
            "fillpattern": {
             "fillmode": "overlay",
             "size": 10,
             "solidity": 0.2
            },
            "type": "scatter"
           }
          ],
          "scatter3d": [
           {
            "line": {
             "colorbar": {
              "outlinewidth": 0,
              "ticks": ""
             }
            },
            "marker": {
             "colorbar": {
              "outlinewidth": 0,
              "ticks": ""
             }
            },
            "type": "scatter3d"
           }
          ],
          "scattercarpet": [
           {
            "marker": {
             "colorbar": {
              "outlinewidth": 0,
              "ticks": ""
             }
            },
            "type": "scattercarpet"
           }
          ],
          "scattergeo": [
           {
            "marker": {
             "colorbar": {
              "outlinewidth": 0,
              "ticks": ""
             }
            },
            "type": "scattergeo"
           }
          ],
          "scattergl": [
           {
            "marker": {
             "colorbar": {
              "outlinewidth": 0,
              "ticks": ""
             }
            },
            "type": "scattergl"
           }
          ],
          "scattermapbox": [
           {
            "marker": {
             "colorbar": {
              "outlinewidth": 0,
              "ticks": ""
             }
            },
            "type": "scattermapbox"
           }
          ],
          "scatterpolar": [
           {
            "marker": {
             "colorbar": {
              "outlinewidth": 0,
              "ticks": ""
             }
            },
            "type": "scatterpolar"
           }
          ],
          "scatterpolargl": [
           {
            "marker": {
             "colorbar": {
              "outlinewidth": 0,
              "ticks": ""
             }
            },
            "type": "scatterpolargl"
           }
          ],
          "scatterternary": [
           {
            "marker": {
             "colorbar": {
              "outlinewidth": 0,
              "ticks": ""
             }
            },
            "type": "scatterternary"
           }
          ],
          "surface": [
           {
            "colorbar": {
             "outlinewidth": 0,
             "ticks": ""
            },
            "colorscale": [
             [
              0,
              "#0d0887"
             ],
             [
              0.1111111111111111,
              "#46039f"
             ],
             [
              0.2222222222222222,
              "#7201a8"
             ],
             [
              0.3333333333333333,
              "#9c179e"
             ],
             [
              0.4444444444444444,
              "#bd3786"
             ],
             [
              0.5555555555555556,
              "#d8576b"
             ],
             [
              0.6666666666666666,
              "#ed7953"
             ],
             [
              0.7777777777777778,
              "#fb9f3a"
             ],
             [
              0.8888888888888888,
              "#fdca26"
             ],
             [
              1,
              "#f0f921"
             ]
            ],
            "type": "surface"
           }
          ],
          "table": [
           {
            "cells": {
             "fill": {
              "color": "#EBF0F8"
             },
             "line": {
              "color": "white"
             }
            },
            "header": {
             "fill": {
              "color": "#C8D4E3"
             },
             "line": {
              "color": "white"
             }
            },
            "type": "table"
           }
          ]
         },
         "layout": {
          "annotationdefaults": {
           "arrowcolor": "#2a3f5f",
           "arrowhead": 0,
           "arrowwidth": 1
          },
          "autotypenumbers": "strict",
          "coloraxis": {
           "colorbar": {
            "outlinewidth": 0,
            "ticks": ""
           }
          },
          "colorscale": {
           "diverging": [
            [
             0,
             "#8e0152"
            ],
            [
             0.1,
             "#c51b7d"
            ],
            [
             0.2,
             "#de77ae"
            ],
            [
             0.3,
             "#f1b6da"
            ],
            [
             0.4,
             "#fde0ef"
            ],
            [
             0.5,
             "#f7f7f7"
            ],
            [
             0.6,
             "#e6f5d0"
            ],
            [
             0.7,
             "#b8e186"
            ],
            [
             0.8,
             "#7fbc41"
            ],
            [
             0.9,
             "#4d9221"
            ],
            [
             1,
             "#276419"
            ]
           ],
           "sequential": [
            [
             0,
             "#0d0887"
            ],
            [
             0.1111111111111111,
             "#46039f"
            ],
            [
             0.2222222222222222,
             "#7201a8"
            ],
            [
             0.3333333333333333,
             "#9c179e"
            ],
            [
             0.4444444444444444,
             "#bd3786"
            ],
            [
             0.5555555555555556,
             "#d8576b"
            ],
            [
             0.6666666666666666,
             "#ed7953"
            ],
            [
             0.7777777777777778,
             "#fb9f3a"
            ],
            [
             0.8888888888888888,
             "#fdca26"
            ],
            [
             1,
             "#f0f921"
            ]
           ],
           "sequentialminus": [
            [
             0,
             "#0d0887"
            ],
            [
             0.1111111111111111,
             "#46039f"
            ],
            [
             0.2222222222222222,
             "#7201a8"
            ],
            [
             0.3333333333333333,
             "#9c179e"
            ],
            [
             0.4444444444444444,
             "#bd3786"
            ],
            [
             0.5555555555555556,
             "#d8576b"
            ],
            [
             0.6666666666666666,
             "#ed7953"
            ],
            [
             0.7777777777777778,
             "#fb9f3a"
            ],
            [
             0.8888888888888888,
             "#fdca26"
            ],
            [
             1,
             "#f0f921"
            ]
           ]
          },
          "colorway": [
           "#636efa",
           "#EF553B",
           "#00cc96",
           "#ab63fa",
           "#FFA15A",
           "#19d3f3",
           "#FF6692",
           "#B6E880",
           "#FF97FF",
           "#FECB52"
          ],
          "font": {
           "color": "#2a3f5f"
          },
          "geo": {
           "bgcolor": "white",
           "lakecolor": "white",
           "landcolor": "#E5ECF6",
           "showlakes": true,
           "showland": true,
           "subunitcolor": "white"
          },
          "hoverlabel": {
           "align": "left"
          },
          "hovermode": "closest",
          "mapbox": {
           "style": "light"
          },
          "paper_bgcolor": "white",
          "plot_bgcolor": "#E5ECF6",
          "polar": {
           "angularaxis": {
            "gridcolor": "white",
            "linecolor": "white",
            "ticks": ""
           },
           "bgcolor": "#E5ECF6",
           "radialaxis": {
            "gridcolor": "white",
            "linecolor": "white",
            "ticks": ""
           }
          },
          "scene": {
           "xaxis": {
            "backgroundcolor": "#E5ECF6",
            "gridcolor": "white",
            "gridwidth": 2,
            "linecolor": "white",
            "showbackground": true,
            "ticks": "",
            "zerolinecolor": "white"
           },
           "yaxis": {
            "backgroundcolor": "#E5ECF6",
            "gridcolor": "white",
            "gridwidth": 2,
            "linecolor": "white",
            "showbackground": true,
            "ticks": "",
            "zerolinecolor": "white"
           },
           "zaxis": {
            "backgroundcolor": "#E5ECF6",
            "gridcolor": "white",
            "gridwidth": 2,
            "linecolor": "white",
            "showbackground": true,
            "ticks": "",
            "zerolinecolor": "white"
           }
          },
          "shapedefaults": {
           "line": {
            "color": "#2a3f5f"
           }
          },
          "ternary": {
           "aaxis": {
            "gridcolor": "white",
            "linecolor": "white",
            "ticks": ""
           },
           "baxis": {
            "gridcolor": "white",
            "linecolor": "white",
            "ticks": ""
           },
           "bgcolor": "#E5ECF6",
           "caxis": {
            "gridcolor": "white",
            "linecolor": "white",
            "ticks": ""
           }
          },
          "title": {
           "x": 0.05
          },
          "xaxis": {
           "automargin": true,
           "gridcolor": "white",
           "linecolor": "white",
           "ticks": "",
           "title": {
            "standoff": 15
           },
           "zerolinecolor": "white",
           "zerolinewidth": 2
          },
          "yaxis": {
           "automargin": true,
           "gridcolor": "white",
           "linecolor": "white",
           "ticks": "",
           "title": {
            "standoff": 15
           },
           "zerolinecolor": "white",
           "zerolinewidth": 2
          }
         }
        },
        "xaxis": {
         "anchor": "y",
         "domain": [
          0,
          1
         ]
        },
        "yaxis": {
         "anchor": "x",
         "domain": [
          0,
          1
         ],
         "title": {
          "text": "rmse"
         }
        }
       }
      }
     },
     "metadata": {},
     "output_type": "display_data"
    }
   ],
   "source": [
    "featurisers = [\"bow_count\", \"bow_binary\", \"tf_idf\"]\n",
    "trad_nlp_results = filtered_results[\n",
    "    (filtered_results[\"featuriser\"].isin(featurisers))\n",
    "]\n",
    "unique_preprocessers = sorted(set(chain.from_iterable(trad_nlp_results[\"preprocessers\"].values)))\n",
    "uses_preprocessing = trad_nlp_results[\"preprocessers\"].apply(lambda x: x[0] != \"empty\")\n",
    "uses_specifically = {}\n",
    "for preprocesser in unique_preprocessers:\n",
    "    uses_specifically[preprocesser] = trad_nlp_results[\"preprocessers\"].apply(lambda x: preprocesser in x)\n",
    "\n",
    "trad_nlp_results[\"uses_preprocessing\"] = uses_preprocessing\n",
    "\n",
    "fig = px.box(\n",
    "    trad_nlp_results,\n",
    "    y=metric,\n",
    "    color=\"uses_preprocessing\",\n",
    "    points=\"outliers\"\n",
    ")\n",
    "fig.show()\n"
   ]
  },
  {
   "cell_type": "code",
   "execution_count": 52,
   "metadata": {},
   "outputs": [
    {
     "name": "stderr",
     "output_type": "stream",
     "text": [
      "2025-03-11 11:38:39,563 - analysis - INFO - \n",
      "empty:\n",
      "2025-03-11 11:38:39,564 - analysis - INFO - With normality p-value: 0.000\n",
      "2025-03-11 11:38:39,564 - analysis - INFO - Without normality p-value: 0.000\n",
      "2025-03-11 11:38:39,566 - analysis - INFO - Mann-Whitney U p-value: 0.086\n",
      "2025-03-11 11:38:39,602 - analysis - INFO - \n",
      "lemmatize:\n",
      "2025-03-11 11:38:39,606 - analysis - INFO - With normality p-value: 0.000\n",
      "2025-03-11 11:38:39,608 - analysis - INFO - Without normality p-value: 0.000\n",
      "2025-03-11 11:38:39,609 - analysis - INFO - Mann-Whitney U p-value: 0.821\n",
      "2025-03-11 11:38:39,655 - analysis - INFO - \n",
      "lowercase:\n",
      "2025-03-11 11:38:39,656 - analysis - INFO - With normality p-value: 0.000\n",
      "2025-03-11 11:38:39,656 - analysis - INFO - Without normality p-value: 0.000\n",
      "2025-03-11 11:38:39,657 - analysis - INFO - Mann-Whitney U p-value: 0.024\n",
      "2025-03-11 11:38:39,708 - analysis - INFO - \n",
      "no_punctuation:\n",
      "2025-03-11 11:38:39,708 - analysis - INFO - With normality p-value: 0.001\n",
      "2025-03-11 11:38:39,709 - analysis - INFO - Without normality p-value: 0.000\n",
      "2025-03-11 11:38:39,709 - analysis - INFO - Mann-Whitney U p-value: 0.055\n",
      "2025-03-11 11:38:39,775 - analysis - INFO - \n",
      "no_stopwords_nltk:\n",
      "2025-03-11 11:38:39,776 - analysis - INFO - With normality p-value: 0.223\n",
      "2025-03-11 11:38:39,776 - analysis - INFO - Without normality p-value: 0.000\n",
      "2025-03-11 11:38:39,777 - analysis - INFO - Mann-Whitney U p-value: 0.044\n",
      "2025-03-11 11:38:39,860 - analysis - INFO - \n",
      "no_stopwords_spacy:\n",
      "2025-03-11 11:38:39,861 - analysis - INFO - With normality p-value: 0.000\n",
      "2025-03-11 11:38:39,861 - analysis - INFO - Without normality p-value: 0.000\n",
      "2025-03-11 11:38:39,862 - analysis - INFO - Mann-Whitney U p-value: 0.001\n",
      "2025-03-11 11:38:39,977 - analysis - INFO - \n",
      "stem:\n",
      "2025-03-11 11:38:39,978 - analysis - INFO - With normality p-value: 0.000\n",
      "2025-03-11 11:38:39,978 - analysis - INFO - Without normality p-value: 0.000\n",
      "2025-03-11 11:38:39,979 - analysis - INFO - Mann-Whitney U p-value: 0.003\n"
     ]
    },
    {
     "data": {
      "application/vnd.plotly.v1+json": {
       "config": {
        "plotlyServerURL": "https://plot.ly"
       },
       "data": [
        {
         "boxpoints": "outliers",
         "marker": {
          "color": "green"
         },
         "name": "with",
         "type": "box",
         "xaxis": "x",
         "y": [
          319.6769612338791,
          321.90214560858936,
          325.80635178825247,
          325.9737215556308,
          330.1086612808074,
          331.9290450060042,
          335.2713293085249,
          335.5864986540254,
          336.1852444079673,
          336.3351739395896,
          336.60502664897905,
          336.8335200998433,
          336.9500563360441,
          337.11922636614725,
          337.5988671166009,
          337.9748343805495,
          338.3236260538346,
          338.5606744392377,
          339.05756189746137,
          339.541484845856,
          340.3232638181472,
          340.4496627710643,
          341.56155651982795,
          341.8814359752579,
          341.9704219945067,
          342.9266835577458,
          344.46179711836015,
          344.6599005800042,
          344.7681872587935,
          344.99491808649987,
          345.23251918281466,
          345.72446705636304,
          345.7941666431594,
          345.92895858835993,
          345.93135766557367,
          346.4082543063963,
          346.5631573115318,
          346.84779563276646,
          347.2047541452248,
          347.46799393338375,
          347.58230329110717,
          348.41011530741076,
          348.61908268886566,
          348.6620630386463,
          349.32132362424323,
          349.3279625093249,
          349.3901244979621,
          349.43919144210247,
          349.51486855039616,
          350.0300069200573,
          350.06693498838104,
          350.1828547872948,
          350.2573249152995,
          350.2843877997468,
          350.6462899837157,
          350.7739509101003,
          350.78275671424836,
          350.79536890295367,
          351.2048352565753,
          351.31390493750945,
          351.3254948239948,
          351.3293125051709,
          351.8468011579895,
          351.92959765326276,
          352.19343919505417,
          352.4553312867923,
          352.8620526122858,
          352.87408207406116,
          353.0838869420854,
          353.1739941797307,
          353.98112293100826,
          354.04205051869445,
          355.6040367861931,
          355.8245888970643,
          355.9401747785815,
          356.0679837375498,
          356.3133229287219,
          356.84132909003364,
          359.1157001004959,
          359.22752334396586,
          359.67294314191514,
          360.10752534130694,
          360.88184047643097,
          360.96087493399034,
          361.013226377878,
          362.32222747461407,
          362.81126021551154,
          363.67991570720363,
          364.2161913691774,
          364.2407253593071,
          365.25388299105725,
          365.34210859311264,
          366.02839085232114,
          366.06220001115344,
          366.8519451239413,
          368.52091726169806,
          371.73384976894664,
          373.03430773451083,
          374.4939247981931,
          374.84708617838504,
          376.1286019076023,
          383.96407164421544,
          396.68174634093964,
          398.08956563452256
         ],
         "yaxis": "y"
        },
        {
         "boxpoints": "outliers",
         "marker": {
          "color": "red"
         },
         "name": "without",
         "type": "box",
         "xaxis": "x",
         "y": [
          302.98532877952385,
          317.2746493887332,
          322.87510822185965,
          329.03338868175547,
          330.5256683133251,
          330.76188374701206,
          331.16129587426065,
          331.548140198718,
          332.75503476142876,
          333.43970039167675,
          334.2797103352185,
          335.9048992042993,
          336.08907085976875,
          336.3448535264005,
          336.48704449130076,
          336.85379930801435,
          336.8591724846095,
          337.0332588518629,
          337.25941827706737,
          337.48317715345,
          337.894982623395,
          337.90077754813865,
          337.90266967544187,
          338.05647616789224,
          338.3263710117045,
          338.4344042126516,
          338.9869071965612,
          339.1918218769382,
          339.86693325695734,
          340.0157353003433,
          340.3437861967969,
          340.71481472697303,
          340.7598731006099,
          341.1772702149842,
          341.5654140819198,
          341.730787983425,
          341.73937912501395,
          341.7554176447597,
          341.7874981043275,
          341.8069453362533,
          341.8343958172098,
          341.9640180301286,
          342.03959722230746,
          342.09688120534224,
          342.16792444405667,
          342.6541438788124,
          342.6972553433169,
          342.95439203852345,
          343.1759709279876,
          344.08238575632225,
          344.5882851234182,
          344.9162252396897,
          344.9582203077432,
          345.45965330677683,
          345.6561772720931,
          345.9117337808273,
          346.35034830966623,
          347.0141209772471,
          347.03265533083226,
          347.16949423169433,
          347.28476239664195,
          347.41207006458774,
          347.5181405710475,
          347.7000635312551,
          348.1711070939988,
          348.22211579793645,
          348.41962699372687,
          348.44425235320244,
          348.46370137366364,
          348.50457546165956,
          348.5777695564028,
          348.6716869328035,
          348.7344944978441,
          348.9703867724513,
          349.02414312168804,
          349.03036184294484,
          349.04017537813047,
          349.0705664824753,
          349.12113101810587,
          349.1965941402116,
          349.23751047489844,
          349.2625917441977,
          349.2994040683845,
          349.37162517811197,
          349.37537321542425,
          349.40465243002933,
          349.5485828283458,
          349.57263945412586,
          349.7812956218617,
          349.80690329770636,
          349.87701756783974,
          349.933912210853,
          350.1949826413795,
          350.4150112538761,
          350.513723721203,
          350.53434639653204,
          350.6427108952664,
          350.68205486571253,
          350.8358069292958,
          350.88307844273106,
          350.89342673343697,
          351.0253572516627,
          351.22109175659654,
          351.231930676306,
          351.36143618895954,
          351.7103111005102,
          351.78153245464944,
          351.79613989863475,
          351.8306927690175,
          351.9710491200743,
          352.1743319068449,
          352.1872572228812,
          352.41515822828916,
          352.4833673836635,
          352.48955144875686,
          352.5419263889379,
          352.61210900033564,
          352.6279312841654,
          352.6698077178222,
          352.7332699657305,
          352.81046930747533,
          352.856737446726,
          353.0294081920973,
          353.1124817455461,
          353.1151182093502,
          353.1335303202907,
          353.1670024945526,
          353.21342753476205,
          353.606273349257,
          353.6354308880048,
          353.6679692404049,
          353.68082534058703,
          353.79333173049474,
          353.9919067000957,
          354.13967330331985,
          354.36535169775783,
          354.3660847119559,
          354.49235621872435,
          354.74201192634143,
          354.8457934551521,
          354.8798618370827,
          354.88937440743456,
          354.9032814765862,
          354.91046588833,
          354.98064293427853,
          355.0338531752973,
          355.45024575788625,
          355.6735847619962,
          355.68057856622704,
          355.71127626477363,
          355.9033910963849,
          355.9808364054509,
          356.02156563865435,
          356.49644770792906,
          356.8398268634553,
          356.92774844375293,
          356.98562678393165,
          357.3378689586965,
          357.73883631466583,
          357.75011304409156,
          357.85157603954525,
          357.976700682603,
          358.5018560050089,
          358.5614054039148,
          358.63423423016394,
          359.1113483535576,
          359.12411026638614,
          359.272442432111,
          359.2965882286245,
          359.585543533579,
          359.8976568270002,
          360.099004379823,
          360.4609205536714,
          360.8514829437244,
          361.4407093716513,
          361.52466131979776,
          361.9992545748583,
          362.0226172875552,
          362.026135141724,
          362.9855138737894,
          363.07764144071365,
          363.2347751283879,
          363.3237442781769,
          363.8052631857211,
          363.8194286693244,
          364.26840297584334,
          364.28728553022927,
          365.4177951397347,
          365.74543909929184,
          366.3196957860713,
          366.48899989726215,
          367.8588745847962,
          368.9670422736481,
          369.1052855469451,
          369.9934710894124,
          370.49770092829493,
          370.8757152209511,
          370.9984113687101,
          371.44434562983963,
          372.1014242799801,
          372.5728263888575,
          372.94570734635766,
          372.9658502935422,
          374.31364671418106,
          374.69911584110145,
          374.7229520005292,
          374.9997614273561,
          375.50278670085095,
          375.7146514419944,
          375.9506247797896,
          375.9734045572443,
          377.8681616373733,
          377.9421602963221,
          380.3029536467347,
          384.30404315776656,
          384.51201069379687,
          386.0288387329702,
          388.37844747672193,
          389.03496006985046,
          391.7286389451438,
          393.3824519729062,
          404.4569142803265,
          409.02331644330764,
          424.58231657679477
         ],
         "yaxis": "y"
        },
        {
         "boxpoints": "outliers",
         "marker": {
          "color": "green"
         },
         "name": "with",
         "type": "box",
         "xaxis": "x2",
         "y": [
          332.75503476142876,
          336.08907085976875,
          336.48704449130076,
          336.8591724846095,
          337.25941827706737,
          337.90077754813865,
          339.86693325695734,
          340.0157353003433,
          340.3437861967969,
          340.71481472697303,
          341.5654140819198,
          341.730787983425,
          341.7874981043275,
          341.9640180301286,
          342.03959722230746,
          342.09688120534224,
          342.16792444405667,
          342.6972553433169,
          342.95439203852345,
          344.08238575632225,
          344.9162252396897,
          344.9582203077432,
          345.45965330677683,
          345.9117337808273,
          347.0141209772471,
          347.28476239664195,
          347.5181405710475,
          348.50457546165956,
          348.7344944978441,
          348.9703867724513,
          349.03036184294484,
          349.1965941402116,
          349.23751047489844,
          349.37162517811197,
          349.37537321542425,
          349.40465243002933,
          349.87701756783974,
          350.53434639653204,
          351.0253572516627,
          351.22109175659654,
          351.231930676306,
          351.7103111005102,
          351.8306927690175,
          352.1743319068449,
          352.48955144875686,
          352.61210900033564,
          352.7332699657305,
          352.81046930747533,
          353.0294081920973,
          353.1151182093502,
          353.1335303202907,
          353.21342753476205,
          353.6679692404049,
          353.68082534058703,
          353.9919067000957,
          354.13967330331985,
          354.3660847119559,
          354.49235621872435,
          354.88937440743456,
          354.91046588833,
          355.0338531752973,
          355.68057856622704,
          355.71127626477363,
          356.49644770792906,
          356.8398268634553,
          357.3378689586965,
          357.976700682603,
          358.5614054039148,
          359.2965882286245,
          359.585543533579,
          359.8976568270002,
          360.4609205536714,
          360.8514829437244,
          361.9992545748583,
          362.9855138737894,
          369.9934710894124,
          370.9984113687101,
          372.9658502935422,
          374.31364671418106,
          374.9997614273561,
          375.9734045572443,
          380.3029536467347,
          384.51201069379687,
          391.7286389451438
         ],
         "yaxis": "y2"
        },
        {
         "boxpoints": "outliers",
         "marker": {
          "color": "red"
         },
         "name": "without",
         "type": "box",
         "xaxis": "x2",
         "y": [
          302.98532877952385,
          317.2746493887332,
          319.6769612338791,
          321.90214560858936,
          322.87510822185965,
          325.80635178825247,
          325.9737215556308,
          329.03338868175547,
          330.1086612808074,
          330.5256683133251,
          330.76188374701206,
          331.16129587426065,
          331.548140198718,
          331.9290450060042,
          333.43970039167675,
          334.2797103352185,
          335.2713293085249,
          335.5864986540254,
          335.9048992042993,
          336.1852444079673,
          336.3351739395896,
          336.3448535264005,
          336.60502664897905,
          336.8335200998433,
          336.85379930801435,
          336.9500563360441,
          337.0332588518629,
          337.11922636614725,
          337.48317715345,
          337.5988671166009,
          337.894982623395,
          337.90266967544187,
          337.9748343805495,
          338.05647616789224,
          338.3236260538346,
          338.3263710117045,
          338.4344042126516,
          338.5606744392377,
          338.9869071965612,
          339.05756189746137,
          339.1918218769382,
          339.541484845856,
          340.3232638181472,
          340.4496627710643,
          340.7598731006099,
          341.1772702149842,
          341.56155651982795,
          341.73937912501395,
          341.7554176447597,
          341.8069453362533,
          341.8343958172098,
          341.8814359752579,
          341.9704219945067,
          342.6541438788124,
          342.9266835577458,
          343.1759709279876,
          344.46179711836015,
          344.5882851234182,
          344.6599005800042,
          344.7681872587935,
          344.99491808649987,
          345.23251918281466,
          345.6561772720931,
          345.72446705636304,
          345.7941666431594,
          345.92895858835993,
          345.93135766557367,
          346.35034830966623,
          346.4082543063963,
          346.5631573115318,
          346.84779563276646,
          347.03265533083226,
          347.16949423169433,
          347.2047541452248,
          347.41207006458774,
          347.46799393338375,
          347.58230329110717,
          347.7000635312551,
          348.1711070939988,
          348.22211579793645,
          348.41011530741076,
          348.41962699372687,
          348.44425235320244,
          348.46370137366364,
          348.5777695564028,
          348.61908268886566,
          348.6620630386463,
          348.6716869328035,
          349.02414312168804,
          349.04017537813047,
          349.0705664824753,
          349.12113101810587,
          349.2625917441977,
          349.2994040683845,
          349.32132362424323,
          349.3279625093249,
          349.3901244979621,
          349.43919144210247,
          349.51486855039616,
          349.5485828283458,
          349.57263945412586,
          349.7812956218617,
          349.80690329770636,
          349.933912210853,
          350.0300069200573,
          350.06693498838104,
          350.1828547872948,
          350.1949826413795,
          350.2573249152995,
          350.2843877997468,
          350.4150112538761,
          350.513723721203,
          350.6427108952664,
          350.6462899837157,
          350.68205486571253,
          350.7739509101003,
          350.78275671424836,
          350.79536890295367,
          350.8358069292958,
          350.88307844273106,
          350.89342673343697,
          351.2048352565753,
          351.31390493750945,
          351.3254948239948,
          351.3293125051709,
          351.36143618895954,
          351.78153245464944,
          351.79613989863475,
          351.8468011579895,
          351.92959765326276,
          351.9710491200743,
          352.1872572228812,
          352.19343919505417,
          352.41515822828916,
          352.4553312867923,
          352.4833673836635,
          352.5419263889379,
          352.6279312841654,
          352.6698077178222,
          352.856737446726,
          352.8620526122858,
          352.87408207406116,
          353.0838869420854,
          353.1124817455461,
          353.1670024945526,
          353.1739941797307,
          353.606273349257,
          353.6354308880048,
          353.79333173049474,
          353.98112293100826,
          354.04205051869445,
          354.36535169775783,
          354.74201192634143,
          354.8457934551521,
          354.8798618370827,
          354.9032814765862,
          354.98064293427853,
          355.45024575788625,
          355.6040367861931,
          355.6735847619962,
          355.8245888970643,
          355.9033910963849,
          355.9401747785815,
          355.9808364054509,
          356.02156563865435,
          356.0679837375498,
          356.3133229287219,
          356.84132909003364,
          356.92774844375293,
          356.98562678393165,
          357.73883631466583,
          357.75011304409156,
          357.85157603954525,
          358.5018560050089,
          358.63423423016394,
          359.1113483535576,
          359.1157001004959,
          359.12411026638614,
          359.22752334396586,
          359.272442432111,
          359.67294314191514,
          360.099004379823,
          360.10752534130694,
          360.88184047643097,
          360.96087493399034,
          361.013226377878,
          361.4407093716513,
          361.52466131979776,
          362.0226172875552,
          362.026135141724,
          362.32222747461407,
          362.81126021551154,
          363.07764144071365,
          363.2347751283879,
          363.3237442781769,
          363.67991570720363,
          363.8052631857211,
          363.8194286693244,
          364.2161913691774,
          364.2407253593071,
          364.26840297584334,
          364.28728553022927,
          365.25388299105725,
          365.34210859311264,
          365.4177951397347,
          365.74543909929184,
          366.02839085232114,
          366.06220001115344,
          366.3196957860713,
          366.48899989726215,
          366.8519451239413,
          367.8588745847962,
          368.52091726169806,
          368.9670422736481,
          369.1052855469451,
          370.49770092829493,
          370.8757152209511,
          371.44434562983963,
          371.73384976894664,
          372.1014242799801,
          372.5728263888575,
          372.94570734635766,
          373.03430773451083,
          374.4939247981931,
          374.69911584110145,
          374.7229520005292,
          374.84708617838504,
          375.50278670085095,
          375.7146514419944,
          375.9506247797896,
          376.1286019076023,
          377.8681616373733,
          377.9421602963221,
          383.96407164421544,
          384.30404315776656,
          386.0288387329702,
          388.37844747672193,
          389.03496006985046,
          393.3824519729062,
          396.68174634093964,
          398.08956563452256,
          404.4569142803265,
          409.02331644330764,
          424.58231657679477
         ],
         "yaxis": "y2"
        },
        {
         "boxpoints": "outliers",
         "marker": {
          "color": "green"
         },
         "name": "with",
         "type": "box",
         "xaxis": "x3",
         "y": [
          317.2746493887332,
          329.03338868175547,
          330.76188374701206,
          332.75503476142876,
          336.48704449130076,
          336.85379930801435,
          337.48317715345,
          337.90077754813865,
          337.90266967544187,
          338.9869071965612,
          340.0157353003433,
          341.5654140819198,
          341.7554176447597,
          342.09688120534224,
          342.6541438788124,
          344.08238575632225,
          344.5882851234182,
          345.9117337808273,
          347.0141209772471,
          347.28476239664195,
          347.5181405710475,
          348.22211579793645,
          348.41962699372687,
          348.50457546165956,
          348.6716869328035,
          348.7344944978441,
          348.9703867724513,
          349.02414312168804,
          349.04017537813047,
          349.1965941402116,
          349.23751047489844,
          349.37162517811197,
          349.5485828283458,
          349.7812956218617,
          349.87701756783974,
          350.4150112538761,
          350.513723721203,
          350.6427108952664,
          350.68205486571253,
          350.88307844273106,
          350.89342673343697,
          351.231930676306,
          351.7103111005102,
          351.78153245464944,
          351.9710491200743,
          352.41515822828916,
          352.48955144875686,
          352.5419263889379,
          352.7332699657305,
          352.81046930747533,
          353.0294081920973,
          353.1124817455461,
          353.21342753476205,
          353.606273349257,
          353.6679692404049,
          353.79333173049474,
          353.9919067000957,
          354.49235621872435,
          354.8798618370827,
          354.9032814765862,
          354.98064293427853,
          355.68057856622704,
          355.71127626477363,
          356.02156563865435,
          356.49644770792906,
          356.98562678393165,
          357.3378689586965,
          357.73883631466583,
          357.75011304409156,
          357.85157603954525,
          357.976700682603,
          359.272442432111,
          359.2965882286245,
          359.585543533579,
          359.8976568270002,
          360.8514829437244,
          361.4407093716513,
          361.9992545748583,
          362.9855138737894,
          363.2347751283879,
          363.3237442781769,
          363.8194286693244,
          365.74543909929184,
          366.3196957860713,
          369.9934710894124,
          370.9984113687101,
          371.44434562983963,
          372.1014242799801,
          372.9658502935422,
          374.31364671418106,
          374.69911584110145,
          374.9997614273561,
          375.9506247797896,
          375.9734045572443,
          377.8681616373733,
          380.3029536467347,
          384.51201069379687,
          389.03496006985046,
          391.7286389451438,
          424.58231657679477
         ],
         "yaxis": "y3"
        },
        {
         "boxpoints": "outliers",
         "marker": {
          "color": "red"
         },
         "name": "without",
         "type": "box",
         "xaxis": "x3",
         "y": [
          302.98532877952385,
          319.6769612338791,
          321.90214560858936,
          322.87510822185965,
          325.80635178825247,
          325.9737215556308,
          330.1086612808074,
          330.5256683133251,
          331.16129587426065,
          331.548140198718,
          331.9290450060042,
          333.43970039167675,
          334.2797103352185,
          335.2713293085249,
          335.5864986540254,
          335.9048992042993,
          336.08907085976875,
          336.1852444079673,
          336.3351739395896,
          336.3448535264005,
          336.60502664897905,
          336.8335200998433,
          336.8591724846095,
          336.9500563360441,
          337.0332588518629,
          337.11922636614725,
          337.25941827706737,
          337.5988671166009,
          337.894982623395,
          337.9748343805495,
          338.05647616789224,
          338.3236260538346,
          338.3263710117045,
          338.4344042126516,
          338.5606744392377,
          339.05756189746137,
          339.1918218769382,
          339.541484845856,
          339.86693325695734,
          340.3232638181472,
          340.3437861967969,
          340.4496627710643,
          340.71481472697303,
          340.7598731006099,
          341.1772702149842,
          341.56155651982795,
          341.730787983425,
          341.73937912501395,
          341.7874981043275,
          341.8069453362533,
          341.8343958172098,
          341.8814359752579,
          341.9640180301286,
          341.9704219945067,
          342.03959722230746,
          342.16792444405667,
          342.6972553433169,
          342.9266835577458,
          342.95439203852345,
          343.1759709279876,
          344.46179711836015,
          344.6599005800042,
          344.7681872587935,
          344.9162252396897,
          344.9582203077432,
          344.99491808649987,
          345.23251918281466,
          345.45965330677683,
          345.6561772720931,
          345.72446705636304,
          345.7941666431594,
          345.92895858835993,
          345.93135766557367,
          346.35034830966623,
          346.4082543063963,
          346.5631573115318,
          346.84779563276646,
          347.03265533083226,
          347.16949423169433,
          347.2047541452248,
          347.41207006458774,
          347.46799393338375,
          347.58230329110717,
          347.7000635312551,
          348.1711070939988,
          348.41011530741076,
          348.44425235320244,
          348.46370137366364,
          348.5777695564028,
          348.61908268886566,
          348.6620630386463,
          349.03036184294484,
          349.0705664824753,
          349.12113101810587,
          349.2625917441977,
          349.2994040683845,
          349.32132362424323,
          349.3279625093249,
          349.37537321542425,
          349.3901244979621,
          349.40465243002933,
          349.43919144210247,
          349.51486855039616,
          349.57263945412586,
          349.80690329770636,
          349.933912210853,
          350.0300069200573,
          350.06693498838104,
          350.1828547872948,
          350.1949826413795,
          350.2573249152995,
          350.2843877997468,
          350.53434639653204,
          350.6462899837157,
          350.7739509101003,
          350.78275671424836,
          350.79536890295367,
          350.8358069292958,
          351.0253572516627,
          351.2048352565753,
          351.22109175659654,
          351.31390493750945,
          351.3254948239948,
          351.3293125051709,
          351.36143618895954,
          351.79613989863475,
          351.8306927690175,
          351.8468011579895,
          351.92959765326276,
          352.1743319068449,
          352.1872572228812,
          352.19343919505417,
          352.4553312867923,
          352.4833673836635,
          352.61210900033564,
          352.6279312841654,
          352.6698077178222,
          352.856737446726,
          352.8620526122858,
          352.87408207406116,
          353.0838869420854,
          353.1151182093502,
          353.1335303202907,
          353.1670024945526,
          353.1739941797307,
          353.6354308880048,
          353.68082534058703,
          353.98112293100826,
          354.04205051869445,
          354.13967330331985,
          354.36535169775783,
          354.3660847119559,
          354.74201192634143,
          354.8457934551521,
          354.88937440743456,
          354.91046588833,
          355.0338531752973,
          355.45024575788625,
          355.6040367861931,
          355.6735847619962,
          355.8245888970643,
          355.9033910963849,
          355.9401747785815,
          355.9808364054509,
          356.0679837375498,
          356.3133229287219,
          356.8398268634553,
          356.84132909003364,
          356.92774844375293,
          358.5018560050089,
          358.5614054039148,
          358.63423423016394,
          359.1113483535576,
          359.1157001004959,
          359.12411026638614,
          359.22752334396586,
          359.67294314191514,
          360.099004379823,
          360.10752534130694,
          360.4609205536714,
          360.88184047643097,
          360.96087493399034,
          361.013226377878,
          361.52466131979776,
          362.0226172875552,
          362.026135141724,
          362.32222747461407,
          362.81126021551154,
          363.07764144071365,
          363.67991570720363,
          363.8052631857211,
          364.2161913691774,
          364.2407253593071,
          364.26840297584334,
          364.28728553022927,
          365.25388299105725,
          365.34210859311264,
          365.4177951397347,
          366.02839085232114,
          366.06220001115344,
          366.48899989726215,
          366.8519451239413,
          367.8588745847962,
          368.52091726169806,
          368.9670422736481,
          369.1052855469451,
          370.49770092829493,
          370.8757152209511,
          371.73384976894664,
          372.5728263888575,
          372.94570734635766,
          373.03430773451083,
          374.4939247981931,
          374.7229520005292,
          374.84708617838504,
          375.50278670085095,
          375.7146514419944,
          376.1286019076023,
          377.9421602963221,
          383.96407164421544,
          384.30404315776656,
          386.0288387329702,
          388.37844747672193,
          393.3824519729062,
          396.68174634093964,
          398.08956563452256,
          404.4569142803265,
          409.02331644330764
         ],
         "yaxis": "y3"
        },
        {
         "boxpoints": "outliers",
         "marker": {
          "color": "green"
         },
         "name": "with",
         "type": "box",
         "xaxis": "x4",
         "y": [
          302.98532877952385,
          330.5256683133251,
          331.16129587426065,
          332.75503476142876,
          333.43970039167675,
          335.9048992042993,
          336.48704449130076,
          337.0332588518629,
          338.05647616789224,
          340.0157353003433,
          341.5654140819198,
          341.730787983425,
          341.73937912501395,
          341.7554176447597,
          341.7874981043275,
          341.9640180301286,
          342.03959722230746,
          342.09688120534224,
          342.6541438788124,
          344.08238575632225,
          344.9582203077432,
          345.45965330677683,
          347.0141209772471,
          347.28476239664195,
          347.41207006458774,
          348.46370137366364,
          348.50457546165956,
          348.5777695564028,
          348.7344944978441,
          348.9703867724513,
          349.0705664824753,
          349.1965941402116,
          349.23751047489844,
          349.2994040683845,
          349.37162517811197,
          350.4150112538761,
          350.513723721203,
          350.88307844273106,
          350.89342673343697,
          351.36143618895954,
          351.9710491200743,
          352.41515822828916,
          352.6698077178222,
          352.81046930747533,
          353.1124817455461,
          353.1335303202907,
          353.21342753476205,
          353.606273349257,
          353.68082534058703,
          353.79333173049474,
          353.9919067000957,
          354.13967330331985,
          354.36535169775783,
          354.3660847119559,
          354.8457934551521,
          354.88937440743456,
          355.45024575788625,
          355.6735847619962,
          355.9033910963849,
          356.49644770792906,
          356.92774844375293,
          356.98562678393165,
          357.73883631466583,
          357.75011304409156,
          357.85157603954525,
          357.976700682603,
          358.5018560050089,
          358.63423423016394,
          359.1113483535576,
          359.12411026638614,
          359.8976568270002,
          360.4609205536714,
          361.4407093716513,
          361.52466131979776,
          362.0226172875552,
          362.9855138737894,
          363.2347751283879,
          363.3237442781769,
          364.28728553022927,
          365.4177951397347,
          365.74543909929184,
          367.8588745847962,
          369.9934710894124,
          370.49770092829493,
          370.9984113687101,
          371.44434562983963,
          372.5728263888575,
          374.31364671418106,
          374.9997614273561,
          375.50278670085095,
          375.7146514419944,
          380.3029536467347,
          384.30404315776656,
          384.51201069379687,
          391.7286389451438,
          409.02331644330764
         ],
         "yaxis": "y4"
        },
        {
         "boxpoints": "outliers",
         "marker": {
          "color": "red"
         },
         "name": "without",
         "type": "box",
         "xaxis": "x4",
         "y": [
          317.2746493887332,
          319.6769612338791,
          321.90214560858936,
          322.87510822185965,
          325.80635178825247,
          325.9737215556308,
          329.03338868175547,
          330.1086612808074,
          330.76188374701206,
          331.548140198718,
          331.9290450060042,
          334.2797103352185,
          335.2713293085249,
          335.5864986540254,
          336.08907085976875,
          336.1852444079673,
          336.3351739395896,
          336.3448535264005,
          336.60502664897905,
          336.8335200998433,
          336.85379930801435,
          336.8591724846095,
          336.9500563360441,
          337.11922636614725,
          337.25941827706737,
          337.48317715345,
          337.5988671166009,
          337.894982623395,
          337.90077754813865,
          337.90266967544187,
          337.9748343805495,
          338.3236260538346,
          338.3263710117045,
          338.4344042126516,
          338.5606744392377,
          338.9869071965612,
          339.05756189746137,
          339.1918218769382,
          339.541484845856,
          339.86693325695734,
          340.3232638181472,
          340.3437861967969,
          340.4496627710643,
          340.71481472697303,
          340.7598731006099,
          341.1772702149842,
          341.56155651982795,
          341.8069453362533,
          341.8343958172098,
          341.8814359752579,
          341.9704219945067,
          342.16792444405667,
          342.6972553433169,
          342.9266835577458,
          342.95439203852345,
          343.1759709279876,
          344.46179711836015,
          344.5882851234182,
          344.6599005800042,
          344.7681872587935,
          344.9162252396897,
          344.99491808649987,
          345.23251918281466,
          345.6561772720931,
          345.72446705636304,
          345.7941666431594,
          345.9117337808273,
          345.92895858835993,
          345.93135766557367,
          346.35034830966623,
          346.4082543063963,
          346.5631573115318,
          346.84779563276646,
          347.03265533083226,
          347.16949423169433,
          347.2047541452248,
          347.46799393338375,
          347.5181405710475,
          347.58230329110717,
          347.7000635312551,
          348.1711070939988,
          348.22211579793645,
          348.41011530741076,
          348.41962699372687,
          348.44425235320244,
          348.61908268886566,
          348.6620630386463,
          348.6716869328035,
          349.02414312168804,
          349.03036184294484,
          349.04017537813047,
          349.12113101810587,
          349.2625917441977,
          349.32132362424323,
          349.3279625093249,
          349.37537321542425,
          349.3901244979621,
          349.40465243002933,
          349.43919144210247,
          349.51486855039616,
          349.5485828283458,
          349.57263945412586,
          349.7812956218617,
          349.80690329770636,
          349.87701756783974,
          349.933912210853,
          350.0300069200573,
          350.06693498838104,
          350.1828547872948,
          350.1949826413795,
          350.2573249152995,
          350.2843877997468,
          350.53434639653204,
          350.6427108952664,
          350.6462899837157,
          350.68205486571253,
          350.7739509101003,
          350.78275671424836,
          350.79536890295367,
          350.8358069292958,
          351.0253572516627,
          351.2048352565753,
          351.22109175659654,
          351.231930676306,
          351.31390493750945,
          351.3254948239948,
          351.3293125051709,
          351.7103111005102,
          351.78153245464944,
          351.79613989863475,
          351.8306927690175,
          351.8468011579895,
          351.92959765326276,
          352.1743319068449,
          352.1872572228812,
          352.19343919505417,
          352.4553312867923,
          352.4833673836635,
          352.48955144875686,
          352.5419263889379,
          352.61210900033564,
          352.6279312841654,
          352.7332699657305,
          352.856737446726,
          352.8620526122858,
          352.87408207406116,
          353.0294081920973,
          353.0838869420854,
          353.1151182093502,
          353.1670024945526,
          353.1739941797307,
          353.6354308880048,
          353.6679692404049,
          353.98112293100826,
          354.04205051869445,
          354.49235621872435,
          354.74201192634143,
          354.8798618370827,
          354.9032814765862,
          354.91046588833,
          354.98064293427853,
          355.0338531752973,
          355.6040367861931,
          355.68057856622704,
          355.71127626477363,
          355.8245888970643,
          355.9401747785815,
          355.9808364054509,
          356.02156563865435,
          356.0679837375498,
          356.3133229287219,
          356.8398268634553,
          356.84132909003364,
          357.3378689586965,
          358.5614054039148,
          359.1157001004959,
          359.22752334396586,
          359.272442432111,
          359.2965882286245,
          359.585543533579,
          359.67294314191514,
          360.099004379823,
          360.10752534130694,
          360.8514829437244,
          360.88184047643097,
          360.96087493399034,
          361.013226377878,
          361.9992545748583,
          362.026135141724,
          362.32222747461407,
          362.81126021551154,
          363.07764144071365,
          363.67991570720363,
          363.8052631857211,
          363.8194286693244,
          364.2161913691774,
          364.2407253593071,
          364.26840297584334,
          365.25388299105725,
          365.34210859311264,
          366.02839085232114,
          366.06220001115344,
          366.3196957860713,
          366.48899989726215,
          366.8519451239413,
          368.52091726169806,
          368.9670422736481,
          369.1052855469451,
          370.8757152209511,
          371.73384976894664,
          372.1014242799801,
          372.94570734635766,
          372.9658502935422,
          373.03430773451083,
          374.4939247981931,
          374.69911584110145,
          374.7229520005292,
          374.84708617838504,
          375.9506247797896,
          375.9734045572443,
          376.1286019076023,
          377.8681616373733,
          377.9421602963221,
          383.96407164421544,
          386.0288387329702,
          388.37844747672193,
          389.03496006985046,
          393.3824519729062,
          396.68174634093964,
          398.08956563452256,
          404.4569142803265,
          424.58231657679477
         ],
         "yaxis": "y4"
        },
        {
         "boxpoints": "outliers",
         "marker": {
          "color": "green"
         },
         "name": "with",
         "type": "box",
         "xaxis": "x5",
         "y": [
          322.87510822185965,
          329.03338868175547,
          331.548140198718,
          336.48704449130076,
          336.8591724846095,
          337.48317715345,
          337.894982623395,
          338.3263710117045,
          338.9869071965612,
          339.1918218769382,
          340.0157353003433,
          341.5654140819198,
          341.9640180301286,
          342.03959722230746,
          342.09688120534224,
          342.6541438788124,
          343.1759709279876,
          344.08238575632225,
          344.9162252396897,
          345.45965330677683,
          345.6561772720931,
          345.9117337808273,
          347.16949423169433,
          348.22211579793645,
          348.44425235320244,
          349.37162517811197,
          350.4150112538761,
          350.513723721203,
          350.88307844273106,
          350.89342673343697,
          351.0253572516627,
          351.7103111005102,
          351.9710491200743,
          352.48955144875686,
          353.1670024945526,
          353.21342753476205,
          353.68082534058703,
          353.9919067000957,
          354.13967330331985,
          354.3660847119559,
          354.88937440743456,
          354.91046588833,
          355.9808364054509,
          357.73883631466583,
          360.4609205536714,
          362.9855138737894,
          363.3237442781769,
          369.1052855469451,
          369.9934710894124,
          370.9984113687101,
          372.9658502935422,
          380.3029536467347
         ],
         "yaxis": "y5"
        },
        {
         "boxpoints": "outliers",
         "marker": {
          "color": "red"
         },
         "name": "without",
         "type": "box",
         "xaxis": "x5",
         "y": [
          302.98532877952385,
          317.2746493887332,
          319.6769612338791,
          321.90214560858936,
          325.80635178825247,
          325.9737215556308,
          330.1086612808074,
          330.5256683133251,
          330.76188374701206,
          331.16129587426065,
          331.9290450060042,
          332.75503476142876,
          333.43970039167675,
          334.2797103352185,
          335.2713293085249,
          335.5864986540254,
          335.9048992042993,
          336.08907085976875,
          336.1852444079673,
          336.3351739395896,
          336.3448535264005,
          336.60502664897905,
          336.8335200998433,
          336.85379930801435,
          336.9500563360441,
          337.0332588518629,
          337.11922636614725,
          337.25941827706737,
          337.5988671166009,
          337.90077754813865,
          337.90266967544187,
          337.9748343805495,
          338.05647616789224,
          338.3236260538346,
          338.4344042126516,
          338.5606744392377,
          339.05756189746137,
          339.541484845856,
          339.86693325695734,
          340.3232638181472,
          340.3437861967969,
          340.4496627710643,
          340.71481472697303,
          340.7598731006099,
          341.1772702149842,
          341.56155651982795,
          341.730787983425,
          341.73937912501395,
          341.7554176447597,
          341.7874981043275,
          341.8069453362533,
          341.8343958172098,
          341.8814359752579,
          341.9704219945067,
          342.16792444405667,
          342.6972553433169,
          342.9266835577458,
          342.95439203852345,
          344.46179711836015,
          344.5882851234182,
          344.6599005800042,
          344.7681872587935,
          344.9582203077432,
          344.99491808649987,
          345.23251918281466,
          345.72446705636304,
          345.7941666431594,
          345.92895858835993,
          345.93135766557367,
          346.35034830966623,
          346.4082543063963,
          346.5631573115318,
          346.84779563276646,
          347.0141209772471,
          347.03265533083226,
          347.2047541452248,
          347.28476239664195,
          347.41207006458774,
          347.46799393338375,
          347.5181405710475,
          347.58230329110717,
          347.7000635312551,
          348.1711070939988,
          348.41011530741076,
          348.41962699372687,
          348.46370137366364,
          348.50457546165956,
          348.5777695564028,
          348.61908268886566,
          348.6620630386463,
          348.6716869328035,
          348.7344944978441,
          348.9703867724513,
          349.02414312168804,
          349.03036184294484,
          349.04017537813047,
          349.0705664824753,
          349.12113101810587,
          349.1965941402116,
          349.23751047489844,
          349.2625917441977,
          349.2994040683845,
          349.32132362424323,
          349.3279625093249,
          349.37537321542425,
          349.3901244979621,
          349.40465243002933,
          349.43919144210247,
          349.51486855039616,
          349.5485828283458,
          349.57263945412586,
          349.7812956218617,
          349.80690329770636,
          349.87701756783974,
          349.933912210853,
          350.0300069200573,
          350.06693498838104,
          350.1828547872948,
          350.1949826413795,
          350.2573249152995,
          350.2843877997468,
          350.53434639653204,
          350.6427108952664,
          350.6462899837157,
          350.68205486571253,
          350.7739509101003,
          350.78275671424836,
          350.79536890295367,
          350.8358069292958,
          351.2048352565753,
          351.22109175659654,
          351.231930676306,
          351.31390493750945,
          351.3254948239948,
          351.3293125051709,
          351.36143618895954,
          351.78153245464944,
          351.79613989863475,
          351.8306927690175,
          351.8468011579895,
          351.92959765326276,
          352.1743319068449,
          352.1872572228812,
          352.19343919505417,
          352.41515822828916,
          352.4553312867923,
          352.4833673836635,
          352.5419263889379,
          352.61210900033564,
          352.6279312841654,
          352.6698077178222,
          352.7332699657305,
          352.81046930747533,
          352.856737446726,
          352.8620526122858,
          352.87408207406116,
          353.0294081920973,
          353.0838869420854,
          353.1124817455461,
          353.1151182093502,
          353.1335303202907,
          353.1739941797307,
          353.606273349257,
          353.6354308880048,
          353.6679692404049,
          353.79333173049474,
          353.98112293100826,
          354.04205051869445,
          354.36535169775783,
          354.49235621872435,
          354.74201192634143,
          354.8457934551521,
          354.8798618370827,
          354.9032814765862,
          354.98064293427853,
          355.0338531752973,
          355.45024575788625,
          355.6040367861931,
          355.6735847619962,
          355.68057856622704,
          355.71127626477363,
          355.8245888970643,
          355.9033910963849,
          355.9401747785815,
          356.02156563865435,
          356.0679837375498,
          356.3133229287219,
          356.49644770792906,
          356.8398268634553,
          356.84132909003364,
          356.92774844375293,
          356.98562678393165,
          357.3378689586965,
          357.75011304409156,
          357.85157603954525,
          357.976700682603,
          358.5018560050089,
          358.5614054039148,
          358.63423423016394,
          359.1113483535576,
          359.1157001004959,
          359.12411026638614,
          359.22752334396586,
          359.272442432111,
          359.2965882286245,
          359.585543533579,
          359.67294314191514,
          359.8976568270002,
          360.099004379823,
          360.10752534130694,
          360.8514829437244,
          360.88184047643097,
          360.96087493399034,
          361.013226377878,
          361.4407093716513,
          361.52466131979776,
          361.9992545748583,
          362.0226172875552,
          362.026135141724,
          362.32222747461407,
          362.81126021551154,
          363.07764144071365,
          363.2347751283879,
          363.67991570720363,
          363.8052631857211,
          363.8194286693244,
          364.2161913691774,
          364.2407253593071,
          364.26840297584334,
          364.28728553022927,
          365.25388299105725,
          365.34210859311264,
          365.4177951397347,
          365.74543909929184,
          366.02839085232114,
          366.06220001115344,
          366.3196957860713,
          366.48899989726215,
          366.8519451239413,
          367.8588745847962,
          368.52091726169806,
          368.9670422736481,
          370.49770092829493,
          370.8757152209511,
          371.44434562983963,
          371.73384976894664,
          372.1014242799801,
          372.5728263888575,
          372.94570734635766,
          373.03430773451083,
          374.31364671418106,
          374.4939247981931,
          374.69911584110145,
          374.7229520005292,
          374.84708617838504,
          374.9997614273561,
          375.50278670085095,
          375.7146514419944,
          375.9506247797896,
          375.9734045572443,
          376.1286019076023,
          377.8681616373733,
          377.9421602963221,
          383.96407164421544,
          384.30404315776656,
          384.51201069379687,
          386.0288387329702,
          388.37844747672193,
          389.03496006985046,
          391.7286389451438,
          393.3824519729062,
          396.68174634093964,
          398.08956563452256,
          404.4569142803265,
          409.02331644330764,
          424.58231657679477
         ],
         "yaxis": "y5"
        },
        {
         "boxpoints": "outliers",
         "marker": {
          "color": "green"
         },
         "name": "with",
         "type": "box",
         "xaxis": "x6",
         "y": [
          331.16129587426065,
          332.75503476142876,
          336.3448535264005,
          337.0332588518629,
          338.4344042126516,
          340.3437861967969,
          340.7598731006099,
          341.1772702149842,
          341.7554176447597,
          341.8069453362533,
          341.8343958172098,
          342.95439203852345,
          347.0141209772471,
          347.03265533083226,
          347.28476239664195,
          348.5777695564028,
          348.6716869328035,
          348.7344944978441,
          349.02414312168804,
          349.1965941402116,
          349.2625917441977,
          349.2994040683845,
          349.5485828283458,
          349.57263945412586,
          349.7812956218617,
          349.933912210853,
          350.1949826413795,
          350.53434639653204,
          350.6427108952664,
          350.68205486571253,
          350.8358069292958,
          351.78153245464944,
          351.8306927690175,
          352.1743319068449,
          352.4833673836635,
          352.6279312841654,
          352.856737446726,
          353.1124817455461,
          353.1151182093502,
          353.606273349257,
          353.6354308880048,
          353.79333173049474,
          354.36535169775783,
          354.8457934551521,
          355.0338531752973,
          356.49644770792906,
          356.92774844375293,
          357.3378689586965,
          357.75011304409156,
          357.85157603954525,
          357.976700682603,
          358.5614054039148,
          359.585543533579,
          359.8976568270002,
          360.8514829437244,
          361.4407093716513,
          361.52466131979776,
          362.0226172875552,
          362.026135141724,
          363.8052631857211,
          364.28728553022927,
          365.4177951397347,
          366.3196957860713,
          366.48899989726215,
          367.8588745847962,
          370.8757152209511,
          371.44434562983963,
          372.1014242799801,
          374.31364671418106,
          374.7229520005292,
          374.9997614273561,
          375.9506247797896,
          375.9734045572443,
          384.51201069379687,
          388.37844747672193,
          389.03496006985046,
          391.7286389451438,
          393.3824519729062,
          404.4569142803265,
          424.58231657679477
         ],
         "yaxis": "y6"
        },
        {
         "boxpoints": "outliers",
         "marker": {
          "color": "red"
         },
         "name": "without",
         "type": "box",
         "xaxis": "x6",
         "y": [
          302.98532877952385,
          317.2746493887332,
          319.6769612338791,
          321.90214560858936,
          322.87510822185965,
          325.80635178825247,
          325.9737215556308,
          329.03338868175547,
          330.1086612808074,
          330.5256683133251,
          330.76188374701206,
          331.548140198718,
          331.9290450060042,
          333.43970039167675,
          334.2797103352185,
          335.2713293085249,
          335.5864986540254,
          335.9048992042993,
          336.08907085976875,
          336.1852444079673,
          336.3351739395896,
          336.48704449130076,
          336.60502664897905,
          336.8335200998433,
          336.85379930801435,
          336.8591724846095,
          336.9500563360441,
          337.11922636614725,
          337.25941827706737,
          337.48317715345,
          337.5988671166009,
          337.894982623395,
          337.90077754813865,
          337.90266967544187,
          337.9748343805495,
          338.05647616789224,
          338.3236260538346,
          338.3263710117045,
          338.5606744392377,
          338.9869071965612,
          339.05756189746137,
          339.1918218769382,
          339.541484845856,
          339.86693325695734,
          340.0157353003433,
          340.3232638181472,
          340.4496627710643,
          340.71481472697303,
          341.56155651982795,
          341.5654140819198,
          341.730787983425,
          341.73937912501395,
          341.7874981043275,
          341.8814359752579,
          341.9640180301286,
          341.9704219945067,
          342.03959722230746,
          342.09688120534224,
          342.16792444405667,
          342.6541438788124,
          342.6972553433169,
          342.9266835577458,
          343.1759709279876,
          344.08238575632225,
          344.46179711836015,
          344.5882851234182,
          344.6599005800042,
          344.7681872587935,
          344.9162252396897,
          344.9582203077432,
          344.99491808649987,
          345.23251918281466,
          345.45965330677683,
          345.6561772720931,
          345.72446705636304,
          345.7941666431594,
          345.9117337808273,
          345.92895858835993,
          345.93135766557367,
          346.35034830966623,
          346.4082543063963,
          346.5631573115318,
          346.84779563276646,
          347.16949423169433,
          347.2047541452248,
          347.41207006458774,
          347.46799393338375,
          347.5181405710475,
          347.58230329110717,
          347.7000635312551,
          348.1711070939988,
          348.22211579793645,
          348.41011530741076,
          348.41962699372687,
          348.44425235320244,
          348.46370137366364,
          348.50457546165956,
          348.61908268886566,
          348.6620630386463,
          348.9703867724513,
          349.03036184294484,
          349.04017537813047,
          349.0705664824753,
          349.12113101810587,
          349.23751047489844,
          349.32132362424323,
          349.3279625093249,
          349.37162517811197,
          349.37537321542425,
          349.3901244979621,
          349.40465243002933,
          349.43919144210247,
          349.51486855039616,
          349.80690329770636,
          349.87701756783974,
          350.0300069200573,
          350.06693498838104,
          350.1828547872948,
          350.2573249152995,
          350.2843877997468,
          350.4150112538761,
          350.513723721203,
          350.6462899837157,
          350.7739509101003,
          350.78275671424836,
          350.79536890295367,
          350.88307844273106,
          350.89342673343697,
          351.0253572516627,
          351.2048352565753,
          351.22109175659654,
          351.231930676306,
          351.31390493750945,
          351.3254948239948,
          351.3293125051709,
          351.36143618895954,
          351.7103111005102,
          351.79613989863475,
          351.8468011579895,
          351.92959765326276,
          351.9710491200743,
          352.1872572228812,
          352.19343919505417,
          352.41515822828916,
          352.4553312867923,
          352.48955144875686,
          352.5419263889379,
          352.61210900033564,
          352.6698077178222,
          352.7332699657305,
          352.81046930747533,
          352.8620526122858,
          352.87408207406116,
          353.0294081920973,
          353.0838869420854,
          353.1335303202907,
          353.1670024945526,
          353.1739941797307,
          353.21342753476205,
          353.6679692404049,
          353.68082534058703,
          353.98112293100826,
          353.9919067000957,
          354.04205051869445,
          354.13967330331985,
          354.3660847119559,
          354.49235621872435,
          354.74201192634143,
          354.8798618370827,
          354.88937440743456,
          354.9032814765862,
          354.91046588833,
          354.98064293427853,
          355.45024575788625,
          355.6040367861931,
          355.6735847619962,
          355.68057856622704,
          355.71127626477363,
          355.8245888970643,
          355.9033910963849,
          355.9401747785815,
          355.9808364054509,
          356.02156563865435,
          356.0679837375498,
          356.3133229287219,
          356.8398268634553,
          356.84132909003364,
          356.98562678393165,
          357.73883631466583,
          358.5018560050089,
          358.63423423016394,
          359.1113483535576,
          359.1157001004959,
          359.12411026638614,
          359.22752334396586,
          359.272442432111,
          359.2965882286245,
          359.67294314191514,
          360.099004379823,
          360.10752534130694,
          360.4609205536714,
          360.88184047643097,
          360.96087493399034,
          361.013226377878,
          361.9992545748583,
          362.32222747461407,
          362.81126021551154,
          362.9855138737894,
          363.07764144071365,
          363.2347751283879,
          363.3237442781769,
          363.67991570720363,
          363.8194286693244,
          364.2161913691774,
          364.2407253593071,
          364.26840297584334,
          365.25388299105725,
          365.34210859311264,
          365.74543909929184,
          366.02839085232114,
          366.06220001115344,
          366.8519451239413,
          368.52091726169806,
          368.9670422736481,
          369.1052855469451,
          369.9934710894124,
          370.49770092829493,
          370.9984113687101,
          371.73384976894664,
          372.5728263888575,
          372.94570734635766,
          372.9658502935422,
          373.03430773451083,
          374.4939247981931,
          374.69911584110145,
          374.84708617838504,
          375.50278670085095,
          375.7146514419944,
          376.1286019076023,
          377.8681616373733,
          377.9421602963221,
          380.3029536467347,
          383.96407164421544,
          384.30404315776656,
          386.0288387329702,
          396.68174634093964,
          398.08956563452256,
          409.02331644330764
         ],
         "yaxis": "y6"
        },
        {
         "boxpoints": "outliers",
         "marker": {
          "color": "green"
         },
         "name": "with",
         "type": "box",
         "xaxis": "x7",
         "y": [
          302.98532877952385,
          330.5256683133251,
          334.2797103352185,
          336.3448535264005,
          338.4344042126516,
          341.73937912501395,
          342.6541438788124,
          346.35034830966623,
          347.03265533083226,
          347.41207006458774,
          347.7000635312551,
          348.1711070939988,
          348.46370137366364,
          348.5777695564028,
          349.0705664824753,
          349.12113101810587,
          349.2625917441977,
          349.5485828283458,
          349.57263945412586,
          349.7812956218617,
          349.80690329770636,
          349.933912210853,
          350.4150112538761,
          350.513723721203,
          350.6427108952664,
          350.88307844273106,
          350.89342673343697,
          351.36143618895954,
          351.78153245464944,
          351.79613989863475,
          351.9710491200743,
          352.1872572228812,
          352.4833673836635,
          352.6698077178222,
          353.1124817455461,
          353.606273349257,
          353.6354308880048,
          353.79333173049474,
          354.36535169775783,
          354.74201192634143,
          354.8457934551521,
          355.45024575788625,
          355.6735847619962,
          355.9033910963849,
          356.92774844375293,
          357.73883631466583,
          357.85157603954525,
          358.5018560050089,
          358.63423423016394,
          359.12411026638614,
          360.099004379823,
          361.52466131979776,
          362.0226172875552,
          362.026135141724,
          363.07764144071365,
          363.3237442781769,
          364.26840297584334,
          364.28728553022927,
          365.4177951397347,
          368.9670422736481,
          370.49770092829493,
          370.8757152209511,
          372.5728263888575,
          372.94570734635766,
          375.50278670085095,
          375.7146514419944,
          377.9421602963221,
          384.30404315776656,
          386.0288387329702,
          388.37844747672193,
          404.4569142803265,
          409.02331644330764
         ],
         "yaxis": "y7"
        },
        {
         "boxpoints": "outliers",
         "marker": {
          "color": "red"
         },
         "name": "without",
         "type": "box",
         "xaxis": "x7",
         "y": [
          317.2746493887332,
          319.6769612338791,
          321.90214560858936,
          322.87510822185965,
          325.80635178825247,
          325.9737215556308,
          329.03338868175547,
          330.1086612808074,
          330.76188374701206,
          331.16129587426065,
          331.548140198718,
          331.9290450060042,
          332.75503476142876,
          333.43970039167675,
          335.2713293085249,
          335.5864986540254,
          335.9048992042993,
          336.08907085976875,
          336.1852444079673,
          336.3351739395896,
          336.48704449130076,
          336.60502664897905,
          336.8335200998433,
          336.85379930801435,
          336.8591724846095,
          336.9500563360441,
          337.0332588518629,
          337.11922636614725,
          337.25941827706737,
          337.48317715345,
          337.5988671166009,
          337.894982623395,
          337.90077754813865,
          337.90266967544187,
          337.9748343805495,
          338.05647616789224,
          338.3236260538346,
          338.3263710117045,
          338.5606744392377,
          338.9869071965612,
          339.05756189746137,
          339.1918218769382,
          339.541484845856,
          339.86693325695734,
          340.0157353003433,
          340.3232638181472,
          340.3437861967969,
          340.4496627710643,
          340.71481472697303,
          340.7598731006099,
          341.1772702149842,
          341.56155651982795,
          341.5654140819198,
          341.730787983425,
          341.7554176447597,
          341.7874981043275,
          341.8069453362533,
          341.8343958172098,
          341.8814359752579,
          341.9640180301286,
          341.9704219945067,
          342.03959722230746,
          342.09688120534224,
          342.16792444405667,
          342.6972553433169,
          342.9266835577458,
          342.95439203852345,
          343.1759709279876,
          344.08238575632225,
          344.46179711836015,
          344.5882851234182,
          344.6599005800042,
          344.7681872587935,
          344.9162252396897,
          344.9582203077432,
          344.99491808649987,
          345.23251918281466,
          345.45965330677683,
          345.6561772720931,
          345.72446705636304,
          345.7941666431594,
          345.9117337808273,
          345.92895858835993,
          345.93135766557367,
          346.4082543063963,
          346.5631573115318,
          346.84779563276646,
          347.0141209772471,
          347.16949423169433,
          347.2047541452248,
          347.28476239664195,
          347.46799393338375,
          347.5181405710475,
          347.58230329110717,
          348.22211579793645,
          348.41011530741076,
          348.41962699372687,
          348.44425235320244,
          348.50457546165956,
          348.61908268886566,
          348.6620630386463,
          348.6716869328035,
          348.7344944978441,
          348.9703867724513,
          349.02414312168804,
          349.03036184294484,
          349.04017537813047,
          349.1965941402116,
          349.23751047489844,
          349.2994040683845,
          349.32132362424323,
          349.3279625093249,
          349.37162517811197,
          349.37537321542425,
          349.3901244979621,
          349.40465243002933,
          349.43919144210247,
          349.51486855039616,
          349.87701756783974,
          350.0300069200573,
          350.06693498838104,
          350.1828547872948,
          350.1949826413795,
          350.2573249152995,
          350.2843877997468,
          350.53434639653204,
          350.6462899837157,
          350.68205486571253,
          350.7739509101003,
          350.78275671424836,
          350.79536890295367,
          350.8358069292958,
          351.0253572516627,
          351.2048352565753,
          351.22109175659654,
          351.231930676306,
          351.31390493750945,
          351.3254948239948,
          351.3293125051709,
          351.7103111005102,
          351.8306927690175,
          351.8468011579895,
          351.92959765326276,
          352.1743319068449,
          352.19343919505417,
          352.41515822828916,
          352.4553312867923,
          352.48955144875686,
          352.5419263889379,
          352.61210900033564,
          352.6279312841654,
          352.7332699657305,
          352.81046930747533,
          352.856737446726,
          352.8620526122858,
          352.87408207406116,
          353.0294081920973,
          353.0838869420854,
          353.1151182093502,
          353.1335303202907,
          353.1670024945526,
          353.1739941797307,
          353.21342753476205,
          353.6679692404049,
          353.68082534058703,
          353.98112293100826,
          353.9919067000957,
          354.04205051869445,
          354.13967330331985,
          354.3660847119559,
          354.49235621872435,
          354.8798618370827,
          354.88937440743456,
          354.9032814765862,
          354.91046588833,
          354.98064293427853,
          355.0338531752973,
          355.6040367861931,
          355.68057856622704,
          355.71127626477363,
          355.8245888970643,
          355.9401747785815,
          355.9808364054509,
          356.02156563865435,
          356.0679837375498,
          356.3133229287219,
          356.49644770792906,
          356.8398268634553,
          356.84132909003364,
          356.98562678393165,
          357.3378689586965,
          357.75011304409156,
          357.976700682603,
          358.5614054039148,
          359.1113483535576,
          359.1157001004959,
          359.22752334396586,
          359.272442432111,
          359.2965882286245,
          359.585543533579,
          359.67294314191514,
          359.8976568270002,
          360.10752534130694,
          360.4609205536714,
          360.8514829437244,
          360.88184047643097,
          360.96087493399034,
          361.013226377878,
          361.4407093716513,
          361.9992545748583,
          362.32222747461407,
          362.81126021551154,
          362.9855138737894,
          363.2347751283879,
          363.67991570720363,
          363.8052631857211,
          363.8194286693244,
          364.2161913691774,
          364.2407253593071,
          365.25388299105725,
          365.34210859311264,
          365.74543909929184,
          366.02839085232114,
          366.06220001115344,
          366.3196957860713,
          366.48899989726215,
          366.8519451239413,
          367.8588745847962,
          368.52091726169806,
          369.1052855469451,
          369.9934710894124,
          370.9984113687101,
          371.44434562983963,
          371.73384976894664,
          372.1014242799801,
          372.9658502935422,
          373.03430773451083,
          374.31364671418106,
          374.4939247981931,
          374.69911584110145,
          374.7229520005292,
          374.84708617838504,
          374.9997614273561,
          375.9506247797896,
          375.9734045572443,
          376.1286019076023,
          377.8681616373733,
          380.3029536467347,
          383.96407164421544,
          384.51201069379687,
          389.03496006985046,
          391.7286389451438,
          393.3824519729062,
          396.68174634093964,
          398.08956563452256,
          424.58231657679477
         ],
         "yaxis": "y7"
        }
       ],
       "layout": {
        "annotations": [
         {
          "font": {
           "size": 16
          },
          "showarrow": false,
          "text": "empty",
          "x": 0.05918367346938775,
          "xanchor": "center",
          "xref": "paper",
          "y": 1,
          "yanchor": "bottom",
          "yref": "paper"
         },
         {
          "font": {
           "size": 16
          },
          "showarrow": false,
          "text": "lemmatize",
          "x": 0.2061224489795918,
          "xanchor": "center",
          "xref": "paper",
          "y": 1,
          "yanchor": "bottom",
          "yref": "paper"
         },
         {
          "font": {
           "size": 16
          },
          "showarrow": false,
          "text": "lowercase",
          "x": 0.3530612244897959,
          "xanchor": "center",
          "xref": "paper",
          "y": 1,
          "yanchor": "bottom",
          "yref": "paper"
         },
         {
          "font": {
           "size": 16
          },
          "showarrow": false,
          "text": "no_punctuation",
          "x": 0.49999999999999994,
          "xanchor": "center",
          "xref": "paper",
          "y": 1,
          "yanchor": "bottom",
          "yref": "paper"
         },
         {
          "font": {
           "size": 16
          },
          "showarrow": false,
          "text": "no_stopwords_nltk",
          "x": 0.6469387755102041,
          "xanchor": "center",
          "xref": "paper",
          "y": 1,
          "yanchor": "bottom",
          "yref": "paper"
         },
         {
          "font": {
           "size": 16
          },
          "showarrow": false,
          "text": "no_stopwords_spacy",
          "x": 0.7938775510204081,
          "xanchor": "center",
          "xref": "paper",
          "y": 1,
          "yanchor": "bottom",
          "yref": "paper"
         },
         {
          "font": {
           "size": 16
          },
          "showarrow": false,
          "text": "stem",
          "x": 0.9408163265306122,
          "xanchor": "center",
          "xref": "paper",
          "y": 1,
          "yanchor": "bottom",
          "yref": "paper"
         }
        ],
        "shapes": [
         {
          "line": {
           "color": "gray",
           "dash": "dash"
          },
          "type": "line",
          "x0": 0,
          "x1": 1,
          "xref": "x domain",
          "y0": 459.02179559721816,
          "y1": 459.02179559721816,
          "yref": "y"
         },
         {
          "line": {
           "color": "gray",
           "dash": "dash"
          },
          "type": "line",
          "x0": 0,
          "x1": 1,
          "xref": "x domain",
          "y0": 459.02179559721816,
          "y1": 459.02179559721816,
          "yref": "y"
         },
         {
          "line": {
           "color": "gray",
           "dash": "dash"
          },
          "type": "line",
          "x0": 0,
          "x1": 1,
          "xref": "x2 domain",
          "y0": 459.02179559721816,
          "y1": 459.02179559721816,
          "yref": "y2"
         },
         {
          "line": {
           "color": "gray",
           "dash": "dash"
          },
          "type": "line",
          "x0": 0,
          "x1": 1,
          "xref": "x domain",
          "y0": 459.02179559721816,
          "y1": 459.02179559721816,
          "yref": "y"
         },
         {
          "line": {
           "color": "gray",
           "dash": "dash"
          },
          "type": "line",
          "x0": 0,
          "x1": 1,
          "xref": "x2 domain",
          "y0": 459.02179559721816,
          "y1": 459.02179559721816,
          "yref": "y2"
         },
         {
          "line": {
           "color": "gray",
           "dash": "dash"
          },
          "type": "line",
          "x0": 0,
          "x1": 1,
          "xref": "x3 domain",
          "y0": 459.02179559721816,
          "y1": 459.02179559721816,
          "yref": "y3"
         },
         {
          "line": {
           "color": "gray",
           "dash": "dash"
          },
          "type": "line",
          "x0": 0,
          "x1": 1,
          "xref": "x domain",
          "y0": 459.02179559721816,
          "y1": 459.02179559721816,
          "yref": "y"
         },
         {
          "line": {
           "color": "gray",
           "dash": "dash"
          },
          "type": "line",
          "x0": 0,
          "x1": 1,
          "xref": "x2 domain",
          "y0": 459.02179559721816,
          "y1": 459.02179559721816,
          "yref": "y2"
         },
         {
          "line": {
           "color": "gray",
           "dash": "dash"
          },
          "type": "line",
          "x0": 0,
          "x1": 1,
          "xref": "x3 domain",
          "y0": 459.02179559721816,
          "y1": 459.02179559721816,
          "yref": "y3"
         },
         {
          "line": {
           "color": "gray",
           "dash": "dash"
          },
          "type": "line",
          "x0": 0,
          "x1": 1,
          "xref": "x4 domain",
          "y0": 459.02179559721816,
          "y1": 459.02179559721816,
          "yref": "y4"
         },
         {
          "line": {
           "color": "gray",
           "dash": "dash"
          },
          "type": "line",
          "x0": 0,
          "x1": 1,
          "xref": "x domain",
          "y0": 459.02179559721816,
          "y1": 459.02179559721816,
          "yref": "y"
         },
         {
          "line": {
           "color": "gray",
           "dash": "dash"
          },
          "type": "line",
          "x0": 0,
          "x1": 1,
          "xref": "x2 domain",
          "y0": 459.02179559721816,
          "y1": 459.02179559721816,
          "yref": "y2"
         },
         {
          "line": {
           "color": "gray",
           "dash": "dash"
          },
          "type": "line",
          "x0": 0,
          "x1": 1,
          "xref": "x3 domain",
          "y0": 459.02179559721816,
          "y1": 459.02179559721816,
          "yref": "y3"
         },
         {
          "line": {
           "color": "gray",
           "dash": "dash"
          },
          "type": "line",
          "x0": 0,
          "x1": 1,
          "xref": "x4 domain",
          "y0": 459.02179559721816,
          "y1": 459.02179559721816,
          "yref": "y4"
         },
         {
          "line": {
           "color": "gray",
           "dash": "dash"
          },
          "type": "line",
          "x0": 0,
          "x1": 1,
          "xref": "x5 domain",
          "y0": 459.02179559721816,
          "y1": 459.02179559721816,
          "yref": "y5"
         },
         {
          "line": {
           "color": "gray",
           "dash": "dash"
          },
          "type": "line",
          "x0": 0,
          "x1": 1,
          "xref": "x domain",
          "y0": 459.02179559721816,
          "y1": 459.02179559721816,
          "yref": "y"
         },
         {
          "line": {
           "color": "gray",
           "dash": "dash"
          },
          "type": "line",
          "x0": 0,
          "x1": 1,
          "xref": "x2 domain",
          "y0": 459.02179559721816,
          "y1": 459.02179559721816,
          "yref": "y2"
         },
         {
          "line": {
           "color": "gray",
           "dash": "dash"
          },
          "type": "line",
          "x0": 0,
          "x1": 1,
          "xref": "x3 domain",
          "y0": 459.02179559721816,
          "y1": 459.02179559721816,
          "yref": "y3"
         },
         {
          "line": {
           "color": "gray",
           "dash": "dash"
          },
          "type": "line",
          "x0": 0,
          "x1": 1,
          "xref": "x4 domain",
          "y0": 459.02179559721816,
          "y1": 459.02179559721816,
          "yref": "y4"
         },
         {
          "line": {
           "color": "gray",
           "dash": "dash"
          },
          "type": "line",
          "x0": 0,
          "x1": 1,
          "xref": "x5 domain",
          "y0": 459.02179559721816,
          "y1": 459.02179559721816,
          "yref": "y5"
         },
         {
          "line": {
           "color": "gray",
           "dash": "dash"
          },
          "type": "line",
          "x0": 0,
          "x1": 1,
          "xref": "x6 domain",
          "y0": 459.02179559721816,
          "y1": 459.02179559721816,
          "yref": "y6"
         },
         {
          "line": {
           "color": "gray",
           "dash": "dash"
          },
          "type": "line",
          "x0": 0,
          "x1": 1,
          "xref": "x domain",
          "y0": 459.02179559721816,
          "y1": 459.02179559721816,
          "yref": "y"
         },
         {
          "line": {
           "color": "gray",
           "dash": "dash"
          },
          "type": "line",
          "x0": 0,
          "x1": 1,
          "xref": "x2 domain",
          "y0": 459.02179559721816,
          "y1": 459.02179559721816,
          "yref": "y2"
         },
         {
          "line": {
           "color": "gray",
           "dash": "dash"
          },
          "type": "line",
          "x0": 0,
          "x1": 1,
          "xref": "x3 domain",
          "y0": 459.02179559721816,
          "y1": 459.02179559721816,
          "yref": "y3"
         },
         {
          "line": {
           "color": "gray",
           "dash": "dash"
          },
          "type": "line",
          "x0": 0,
          "x1": 1,
          "xref": "x4 domain",
          "y0": 459.02179559721816,
          "y1": 459.02179559721816,
          "yref": "y4"
         },
         {
          "line": {
           "color": "gray",
           "dash": "dash"
          },
          "type": "line",
          "x0": 0,
          "x1": 1,
          "xref": "x5 domain",
          "y0": 459.02179559721816,
          "y1": 459.02179559721816,
          "yref": "y5"
         },
         {
          "line": {
           "color": "gray",
           "dash": "dash"
          },
          "type": "line",
          "x0": 0,
          "x1": 1,
          "xref": "x6 domain",
          "y0": 459.02179559721816,
          "y1": 459.02179559721816,
          "yref": "y6"
         },
         {
          "line": {
           "color": "gray",
           "dash": "dash"
          },
          "type": "line",
          "x0": 0,
          "x1": 1,
          "xref": "x7 domain",
          "y0": 459.02179559721816,
          "y1": 459.02179559721816,
          "yref": "y7"
         }
        ],
        "template": {
         "data": {
          "bar": [
           {
            "error_x": {
             "color": "#2a3f5f"
            },
            "error_y": {
             "color": "#2a3f5f"
            },
            "marker": {
             "line": {
              "color": "#E5ECF6",
              "width": 0.5
             },
             "pattern": {
              "fillmode": "overlay",
              "size": 10,
              "solidity": 0.2
             }
            },
            "type": "bar"
           }
          ],
          "barpolar": [
           {
            "marker": {
             "line": {
              "color": "#E5ECF6",
              "width": 0.5
             },
             "pattern": {
              "fillmode": "overlay",
              "size": 10,
              "solidity": 0.2
             }
            },
            "type": "barpolar"
           }
          ],
          "carpet": [
           {
            "aaxis": {
             "endlinecolor": "#2a3f5f",
             "gridcolor": "white",
             "linecolor": "white",
             "minorgridcolor": "white",
             "startlinecolor": "#2a3f5f"
            },
            "baxis": {
             "endlinecolor": "#2a3f5f",
             "gridcolor": "white",
             "linecolor": "white",
             "minorgridcolor": "white",
             "startlinecolor": "#2a3f5f"
            },
            "type": "carpet"
           }
          ],
          "choropleth": [
           {
            "colorbar": {
             "outlinewidth": 0,
             "ticks": ""
            },
            "type": "choropleth"
           }
          ],
          "contour": [
           {
            "colorbar": {
             "outlinewidth": 0,
             "ticks": ""
            },
            "colorscale": [
             [
              0,
              "#0d0887"
             ],
             [
              0.1111111111111111,
              "#46039f"
             ],
             [
              0.2222222222222222,
              "#7201a8"
             ],
             [
              0.3333333333333333,
              "#9c179e"
             ],
             [
              0.4444444444444444,
              "#bd3786"
             ],
             [
              0.5555555555555556,
              "#d8576b"
             ],
             [
              0.6666666666666666,
              "#ed7953"
             ],
             [
              0.7777777777777778,
              "#fb9f3a"
             ],
             [
              0.8888888888888888,
              "#fdca26"
             ],
             [
              1,
              "#f0f921"
             ]
            ],
            "type": "contour"
           }
          ],
          "contourcarpet": [
           {
            "colorbar": {
             "outlinewidth": 0,
             "ticks": ""
            },
            "type": "contourcarpet"
           }
          ],
          "heatmap": [
           {
            "colorbar": {
             "outlinewidth": 0,
             "ticks": ""
            },
            "colorscale": [
             [
              0,
              "#0d0887"
             ],
             [
              0.1111111111111111,
              "#46039f"
             ],
             [
              0.2222222222222222,
              "#7201a8"
             ],
             [
              0.3333333333333333,
              "#9c179e"
             ],
             [
              0.4444444444444444,
              "#bd3786"
             ],
             [
              0.5555555555555556,
              "#d8576b"
             ],
             [
              0.6666666666666666,
              "#ed7953"
             ],
             [
              0.7777777777777778,
              "#fb9f3a"
             ],
             [
              0.8888888888888888,
              "#fdca26"
             ],
             [
              1,
              "#f0f921"
             ]
            ],
            "type": "heatmap"
           }
          ],
          "heatmapgl": [
           {
            "colorbar": {
             "outlinewidth": 0,
             "ticks": ""
            },
            "colorscale": [
             [
              0,
              "#0d0887"
             ],
             [
              0.1111111111111111,
              "#46039f"
             ],
             [
              0.2222222222222222,
              "#7201a8"
             ],
             [
              0.3333333333333333,
              "#9c179e"
             ],
             [
              0.4444444444444444,
              "#bd3786"
             ],
             [
              0.5555555555555556,
              "#d8576b"
             ],
             [
              0.6666666666666666,
              "#ed7953"
             ],
             [
              0.7777777777777778,
              "#fb9f3a"
             ],
             [
              0.8888888888888888,
              "#fdca26"
             ],
             [
              1,
              "#f0f921"
             ]
            ],
            "type": "heatmapgl"
           }
          ],
          "histogram": [
           {
            "marker": {
             "pattern": {
              "fillmode": "overlay",
              "size": 10,
              "solidity": 0.2
             }
            },
            "type": "histogram"
           }
          ],
          "histogram2d": [
           {
            "colorbar": {
             "outlinewidth": 0,
             "ticks": ""
            },
            "colorscale": [
             [
              0,
              "#0d0887"
             ],
             [
              0.1111111111111111,
              "#46039f"
             ],
             [
              0.2222222222222222,
              "#7201a8"
             ],
             [
              0.3333333333333333,
              "#9c179e"
             ],
             [
              0.4444444444444444,
              "#bd3786"
             ],
             [
              0.5555555555555556,
              "#d8576b"
             ],
             [
              0.6666666666666666,
              "#ed7953"
             ],
             [
              0.7777777777777778,
              "#fb9f3a"
             ],
             [
              0.8888888888888888,
              "#fdca26"
             ],
             [
              1,
              "#f0f921"
             ]
            ],
            "type": "histogram2d"
           }
          ],
          "histogram2dcontour": [
           {
            "colorbar": {
             "outlinewidth": 0,
             "ticks": ""
            },
            "colorscale": [
             [
              0,
              "#0d0887"
             ],
             [
              0.1111111111111111,
              "#46039f"
             ],
             [
              0.2222222222222222,
              "#7201a8"
             ],
             [
              0.3333333333333333,
              "#9c179e"
             ],
             [
              0.4444444444444444,
              "#bd3786"
             ],
             [
              0.5555555555555556,
              "#d8576b"
             ],
             [
              0.6666666666666666,
              "#ed7953"
             ],
             [
              0.7777777777777778,
              "#fb9f3a"
             ],
             [
              0.8888888888888888,
              "#fdca26"
             ],
             [
              1,
              "#f0f921"
             ]
            ],
            "type": "histogram2dcontour"
           }
          ],
          "mesh3d": [
           {
            "colorbar": {
             "outlinewidth": 0,
             "ticks": ""
            },
            "type": "mesh3d"
           }
          ],
          "parcoords": [
           {
            "line": {
             "colorbar": {
              "outlinewidth": 0,
              "ticks": ""
             }
            },
            "type": "parcoords"
           }
          ],
          "pie": [
           {
            "automargin": true,
            "type": "pie"
           }
          ],
          "scatter": [
           {
            "fillpattern": {
             "fillmode": "overlay",
             "size": 10,
             "solidity": 0.2
            },
            "type": "scatter"
           }
          ],
          "scatter3d": [
           {
            "line": {
             "colorbar": {
              "outlinewidth": 0,
              "ticks": ""
             }
            },
            "marker": {
             "colorbar": {
              "outlinewidth": 0,
              "ticks": ""
             }
            },
            "type": "scatter3d"
           }
          ],
          "scattercarpet": [
           {
            "marker": {
             "colorbar": {
              "outlinewidth": 0,
              "ticks": ""
             }
            },
            "type": "scattercarpet"
           }
          ],
          "scattergeo": [
           {
            "marker": {
             "colorbar": {
              "outlinewidth": 0,
              "ticks": ""
             }
            },
            "type": "scattergeo"
           }
          ],
          "scattergl": [
           {
            "marker": {
             "colorbar": {
              "outlinewidth": 0,
              "ticks": ""
             }
            },
            "type": "scattergl"
           }
          ],
          "scattermapbox": [
           {
            "marker": {
             "colorbar": {
              "outlinewidth": 0,
              "ticks": ""
             }
            },
            "type": "scattermapbox"
           }
          ],
          "scatterpolar": [
           {
            "marker": {
             "colorbar": {
              "outlinewidth": 0,
              "ticks": ""
             }
            },
            "type": "scatterpolar"
           }
          ],
          "scatterpolargl": [
           {
            "marker": {
             "colorbar": {
              "outlinewidth": 0,
              "ticks": ""
             }
            },
            "type": "scatterpolargl"
           }
          ],
          "scatterternary": [
           {
            "marker": {
             "colorbar": {
              "outlinewidth": 0,
              "ticks": ""
             }
            },
            "type": "scatterternary"
           }
          ],
          "surface": [
           {
            "colorbar": {
             "outlinewidth": 0,
             "ticks": ""
            },
            "colorscale": [
             [
              0,
              "#0d0887"
             ],
             [
              0.1111111111111111,
              "#46039f"
             ],
             [
              0.2222222222222222,
              "#7201a8"
             ],
             [
              0.3333333333333333,
              "#9c179e"
             ],
             [
              0.4444444444444444,
              "#bd3786"
             ],
             [
              0.5555555555555556,
              "#d8576b"
             ],
             [
              0.6666666666666666,
              "#ed7953"
             ],
             [
              0.7777777777777778,
              "#fb9f3a"
             ],
             [
              0.8888888888888888,
              "#fdca26"
             ],
             [
              1,
              "#f0f921"
             ]
            ],
            "type": "surface"
           }
          ],
          "table": [
           {
            "cells": {
             "fill": {
              "color": "#EBF0F8"
             },
             "line": {
              "color": "white"
             }
            },
            "header": {
             "fill": {
              "color": "#C8D4E3"
             },
             "line": {
              "color": "white"
             }
            },
            "type": "table"
           }
          ]
         },
         "layout": {
          "annotationdefaults": {
           "arrowcolor": "#2a3f5f",
           "arrowhead": 0,
           "arrowwidth": 1
          },
          "autotypenumbers": "strict",
          "coloraxis": {
           "colorbar": {
            "outlinewidth": 0,
            "ticks": ""
           }
          },
          "colorscale": {
           "diverging": [
            [
             0,
             "#8e0152"
            ],
            [
             0.1,
             "#c51b7d"
            ],
            [
             0.2,
             "#de77ae"
            ],
            [
             0.3,
             "#f1b6da"
            ],
            [
             0.4,
             "#fde0ef"
            ],
            [
             0.5,
             "#f7f7f7"
            ],
            [
             0.6,
             "#e6f5d0"
            ],
            [
             0.7,
             "#b8e186"
            ],
            [
             0.8,
             "#7fbc41"
            ],
            [
             0.9,
             "#4d9221"
            ],
            [
             1,
             "#276419"
            ]
           ],
           "sequential": [
            [
             0,
             "#0d0887"
            ],
            [
             0.1111111111111111,
             "#46039f"
            ],
            [
             0.2222222222222222,
             "#7201a8"
            ],
            [
             0.3333333333333333,
             "#9c179e"
            ],
            [
             0.4444444444444444,
             "#bd3786"
            ],
            [
             0.5555555555555556,
             "#d8576b"
            ],
            [
             0.6666666666666666,
             "#ed7953"
            ],
            [
             0.7777777777777778,
             "#fb9f3a"
            ],
            [
             0.8888888888888888,
             "#fdca26"
            ],
            [
             1,
             "#f0f921"
            ]
           ],
           "sequentialminus": [
            [
             0,
             "#0d0887"
            ],
            [
             0.1111111111111111,
             "#46039f"
            ],
            [
             0.2222222222222222,
             "#7201a8"
            ],
            [
             0.3333333333333333,
             "#9c179e"
            ],
            [
             0.4444444444444444,
             "#bd3786"
            ],
            [
             0.5555555555555556,
             "#d8576b"
            ],
            [
             0.6666666666666666,
             "#ed7953"
            ],
            [
             0.7777777777777778,
             "#fb9f3a"
            ],
            [
             0.8888888888888888,
             "#fdca26"
            ],
            [
             1,
             "#f0f921"
            ]
           ]
          },
          "colorway": [
           "#636efa",
           "#EF553B",
           "#00cc96",
           "#ab63fa",
           "#FFA15A",
           "#19d3f3",
           "#FF6692",
           "#B6E880",
           "#FF97FF",
           "#FECB52"
          ],
          "font": {
           "color": "#2a3f5f"
          },
          "geo": {
           "bgcolor": "white",
           "lakecolor": "white",
           "landcolor": "#E5ECF6",
           "showlakes": true,
           "showland": true,
           "subunitcolor": "white"
          },
          "hoverlabel": {
           "align": "left"
          },
          "hovermode": "closest",
          "mapbox": {
           "style": "light"
          },
          "paper_bgcolor": "white",
          "plot_bgcolor": "#E5ECF6",
          "polar": {
           "angularaxis": {
            "gridcolor": "white",
            "linecolor": "white",
            "ticks": ""
           },
           "bgcolor": "#E5ECF6",
           "radialaxis": {
            "gridcolor": "white",
            "linecolor": "white",
            "ticks": ""
           }
          },
          "scene": {
           "xaxis": {
            "backgroundcolor": "#E5ECF6",
            "gridcolor": "white",
            "gridwidth": 2,
            "linecolor": "white",
            "showbackground": true,
            "ticks": "",
            "zerolinecolor": "white"
           },
           "yaxis": {
            "backgroundcolor": "#E5ECF6",
            "gridcolor": "white",
            "gridwidth": 2,
            "linecolor": "white",
            "showbackground": true,
            "ticks": "",
            "zerolinecolor": "white"
           },
           "zaxis": {
            "backgroundcolor": "#E5ECF6",
            "gridcolor": "white",
            "gridwidth": 2,
            "linecolor": "white",
            "showbackground": true,
            "ticks": "",
            "zerolinecolor": "white"
           }
          },
          "shapedefaults": {
           "line": {
            "color": "#2a3f5f"
           }
          },
          "ternary": {
           "aaxis": {
            "gridcolor": "white",
            "linecolor": "white",
            "ticks": ""
           },
           "baxis": {
            "gridcolor": "white",
            "linecolor": "white",
            "ticks": ""
           },
           "bgcolor": "#E5ECF6",
           "caxis": {
            "gridcolor": "white",
            "linecolor": "white",
            "ticks": ""
           }
          },
          "title": {
           "x": 0.05
          },
          "xaxis": {
           "automargin": true,
           "gridcolor": "white",
           "linecolor": "white",
           "ticks": "",
           "title": {
            "standoff": 15
           },
           "zerolinecolor": "white",
           "zerolinewidth": 2
          },
          "yaxis": {
           "automargin": true,
           "gridcolor": "white",
           "linecolor": "white",
           "ticks": "",
           "title": {
            "standoff": 15
           },
           "zerolinecolor": "white",
           "zerolinewidth": 2
          }
         }
        },
        "title": {
         "text": "Impact of Different Preprocessors"
        },
        "width": 1400,
        "xaxis": {
         "anchor": "y",
         "domain": [
          0,
          0.1183673469387755
         ]
        },
        "xaxis2": {
         "anchor": "y2",
         "domain": [
          0.14693877551020407,
          0.26530612244897955
         ]
        },
        "xaxis3": {
         "anchor": "y3",
         "domain": [
          0.29387755102040813,
          0.4122448979591836
         ]
        },
        "xaxis4": {
         "anchor": "y4",
         "domain": [
          0.4408163265306122,
          0.5591836734693877
         ]
        },
        "xaxis5": {
         "anchor": "y5",
         "domain": [
          0.5877551020408163,
          0.7061224489795918
         ]
        },
        "xaxis6": {
         "anchor": "y6",
         "domain": [
          0.7346938775510204,
          0.8530612244897959
         ]
        },
        "xaxis7": {
         "anchor": "y7",
         "domain": [
          0.8816326530612244,
          0.9999999999999999
         ]
        },
        "yaxis": {
         "anchor": "x",
         "domain": [
          0,
          1
         ],
         "title": {
          "text": "rmse"
         }
        },
        "yaxis2": {
         "anchor": "x2",
         "domain": [
          0,
          1
         ],
         "matches": "y",
         "showticklabels": false
        },
        "yaxis3": {
         "anchor": "x3",
         "domain": [
          0,
          1
         ],
         "matches": "y",
         "showticklabels": false
        },
        "yaxis4": {
         "anchor": "x4",
         "domain": [
          0,
          1
         ],
         "matches": "y",
         "showticklabels": false
        },
        "yaxis5": {
         "anchor": "x5",
         "domain": [
          0,
          1
         ],
         "matches": "y",
         "showticklabels": false
        },
        "yaxis6": {
         "anchor": "x6",
         "domain": [
          0,
          1
         ],
         "matches": "y",
         "showticklabels": false
        },
        "yaxis7": {
         "anchor": "x7",
         "domain": [
          0,
          1
         ],
         "matches": "y",
         "showticklabels": false
        }
       }
      }
     },
     "metadata": {},
     "output_type": "display_data"
    }
   ],
   "source": [
    "# Create subplots, one for each preprocesser\n",
    "fig = make_subplots(cols=len(unique_preprocessers), rows=1, \n",
    "                    subplot_titles=unique_preprocessers,\n",
    "                    shared_yaxes=True,\n",
    "                    vertical_spacing=0.05)\n",
    "\n",
    "p_values = []\n",
    "\n",
    "for i, preprocesser in enumerate(unique_preprocessers, 1):\n",
    "    _with = trad_nlp_results[uses_specifically[preprocesser]][metric]\n",
    "    _without = trad_nlp_results[~uses_specifically[preprocesser]][metric]\n",
    "    # Test normality of each distribution\n",
    "    _, p_with = stats.normaltest(_with)\n",
    "    _, p_without = stats.normaltest(_without)\n",
    "    \n",
    "    # Perform appropriate statistical test based on normality\n",
    "    if p_with > 0.05 and p_without > 0.05:\n",
    "        # Both normal - use t-test\n",
    "        _, p_val = stats.ttest_ind(_with, _without)\n",
    "        test_type = \"t-test\"\n",
    "    else:\n",
    "        # At least one non-normal - use Mann-Whitney U test\n",
    "        _, p_val = stats.mannwhitneyu(_with, _without)\n",
    "        test_type = \"Mann-Whitney U\"\n",
    "    p_values.append(p_val)\n",
    "    annotation = f\"{test_type} p-value: {p_val:.3f}\"\n",
    "    logger.info(f\"\\n{preprocesser}:\")\n",
    "    logger.info(f\"With normality p-value: {p_with:.3f}\")\n",
    "    logger.info(f\"Without normality p-value: {p_without:.3f}\")\n",
    "    logger.info(annotation)\n",
    "\n",
    "    # Add box plot for when preprocesser is used\n",
    "    fig.add_trace(\n",
    "        go.Box(\n",
    "            y=_with,\n",
    "            name=\"with\",\n",
    "            boxpoints='outliers',\n",
    "            marker_color=\"green\"\n",
    "        ),\n",
    "        row=1, col=i\n",
    "    )\n",
    "    \n",
    "    # Add box plot for when preprocesser is not used\n",
    "    fig.add_trace(\n",
    "        go.Box(\n",
    "            y=_without,\n",
    "            name=\"without\",\n",
    "            boxpoints='outliers',\n",
    "            marker_color=\"red\"\n",
    "        ),\n",
    "        row=1, col=i\n",
    "    )\n",
    "\n",
    "    fig.add_hline(y=perf_of_mean, line_dash=\"dash\", line_color=\"gray\")\n",
    "\n",
    "fig.update_layout(\n",
    "    width=200*len(unique_preprocessers),\n",
    "    # showlegend=True,\n",
    "    title_text=\"Impact of Different Preprocessors\",\n",
    "    yaxis_title=metric\n",
    ")\n",
    "\n",
    "\n",
    "fig.show()"
   ]
  },
  {
   "cell_type": "markdown",
   "metadata": {},
   "source": [
    "Only takeaway: stemming seems to be universally bad, lemmatizing could be good. Generally this is not meaningful as not stratified by other choices"
   ]
  },
  {
   "cell_type": "markdown",
   "metadata": {},
   "source": [
    "If something passes then we know at least something even FWER corrected is meaningful to remove/keep"
   ]
  },
  {
   "cell_type": "markdown",
   "metadata": {},
   "source": [
    "## Specifically for 'modern' dl approaches?"
   ]
  },
  {
   "cell_type": "code",
   "execution_count": 54,
   "metadata": {},
   "outputs": [
    {
     "name": "stderr",
     "output_type": "stream",
     "text": [
      "2025-03-11 11:39:06,198 - analysis - INFO - (116, 24)\n"
     ]
    },
    {
     "data": {
      "application/vnd.plotly.v1+json": {
       "config": {
        "plotlyServerURL": "https://plot.ly"
       },
       "data": [
        {
         "alignmentgroup": "True",
         "hovertemplate": "model=mlp_ft<br>rmse=%{y}<extra></extra>",
         "legendgroup": "mlp_ft",
         "marker": {
          "color": "#636efa"
         },
         "name": "mlp_ft",
         "notched": false,
         "offsetgroup": "mlp_ft",
         "orientation": "v",
         "showlegend": true,
         "type": "box",
         "x0": " ",
         "xaxis": "x",
         "y": [
          311.33440967319,
          314.76436904156856,
          317.7346017842418,
          319.84229154228257,
          326.2234016638535,
          336.79821777577615,
          338.09792610688277,
          338.6965440924381,
          339.21406567615145,
          343.1297097274561,
          345.6375675273746,
          355.884607031762,
          362.5724020344435,
          365.08751113082116,
          369.4996771144671,
          373.9828571356585
         ],
         "y0": " ",
         "yaxis": "y"
        },
        {
         "alignmentgroup": "True",
         "hovertemplate": "model=deep_linear_ft<br>rmse=%{y}<extra></extra>",
         "legendgroup": "deep_linear_ft",
         "marker": {
          "color": "#EF553B"
         },
         "name": "deep_linear_ft",
         "notched": false,
         "offsetgroup": "deep_linear_ft",
         "orientation": "v",
         "showlegend": true,
         "type": "box",
         "x0": " ",
         "xaxis": "x",
         "y": [
          316.04417458454685,
          324.50076013120145,
          324.7643090896138,
          329.3217094612876,
          338.1378270491865,
          338.9966386827068,
          339.3346064616603,
          345.1905750696036,
          347.4294724288325,
          348.4396373626991,
          350.63896679093614,
          350.9219214509135,
          364.1713705296326,
          370.55193277548267,
          399.7092781205411,
          404.19045891016077
         ],
         "y0": " ",
         "yaxis": "y"
        },
        {
         "alignmentgroup": "True",
         "hovertemplate": "model=resnet_ft<br>rmse=%{y}<extra></extra>",
         "legendgroup": "resnet_ft",
         "marker": {
          "color": "#00cc96"
         },
         "name": "resnet_ft",
         "notched": false,
         "offsetgroup": "resnet_ft",
         "orientation": "v",
         "showlegend": true,
         "type": "box",
         "x0": " ",
         "xaxis": "x",
         "y": [
          351.3377469312316,
          358.1030152770202,
          359.942952652981,
          360.4603648959505,
          361.9404734647899,
          363.35087278437527,
          367.4069798555944,
          368.4912307839422,
          370.3860078978548,
          370.62188050813205,
          370.6576278305256,
          372.79629983440424,
          374.66451596763966,
          375.5534021021255,
          375.7072909743442,
          380.06320522771983,
          381.59657576653046,
          383.02889980245436,
          383.2772263110119,
          384.0900696184098,
          387.7165306825249,
          390.20608760747695,
          405.3318442184889,
          422.6355509196624
         ],
         "y0": " ",
         "yaxis": "y"
        },
        {
         "alignmentgroup": "True",
         "hovertemplate": "model=resnet<br>rmse=%{y}<extra></extra>",
         "legendgroup": "resnet",
         "marker": {
          "color": "#ab63fa"
         },
         "name": "resnet",
         "notched": false,
         "offsetgroup": "resnet",
         "orientation": "v",
         "showlegend": true,
         "type": "box",
         "x0": " ",
         "xaxis": "x",
         "y": [
          359.9429722259473,
          360.4603882841269,
          368.2894080382948,
          369.7780359153365,
          369.8948160224413,
          370.4380462873185,
          370.65760437810036,
          375.9770076861147,
          376.78291641115504,
          377.51326173270786,
          383.02898217912934,
          390.1381354286694
         ],
         "y0": " ",
         "yaxis": "y"
        },
        {
         "alignmentgroup": "True",
         "hovertemplate": "model=mlp<br>rmse=%{y}<extra></extra>",
         "legendgroup": "mlp",
         "marker": {
          "color": "#FFA15A"
         },
         "name": "mlp",
         "notched": false,
         "offsetgroup": "mlp",
         "orientation": "v",
         "showlegend": true,
         "type": "box",
         "x0": " ",
         "xaxis": "x",
         "y": [
          365.0875355846386,
          369.4997010077673,
          370.8770502108128,
          374.1124939246338,
          374.855010612338,
          378.8994000148206,
          379.78330042507423,
          380.5809858285109,
          381.35751873108154,
          382.0509900092225,
          382.18221529452404,
          383.6969715992203,
          383.80966630424103,
          383.8501446510284,
          391.4700797161284,
          392.58565900484433,
          394.1172468462516,
          394.46024478097763,
          394.65352527730477,
          397.7821879894977,
          399.0805936042448,
          404.066974066485,
          405.46296148735223,
          406.0137170868423
         ],
         "y0": " ",
         "yaxis": "y"
        },
        {
         "alignmentgroup": "True",
         "hovertemplate": "model=deep_linear<br>rmse=%{y}<extra></extra>",
         "legendgroup": "deep_linear",
         "marker": {
          "color": "#19d3f3"
         },
         "name": "deep_linear",
         "notched": false,
         "offsetgroup": "deep_linear",
         "orientation": "v",
         "showlegend": true,
         "type": "box",
         "x0": " ",
         "xaxis": "x",
         "y": [
          395.48310894665536,
          395.8022871959019,
          395.8022871959019,
          396.2435672043826,
          396.81847398599035,
          396.85571070939767,
          397.01146325129235,
          397.4522613326406,
          397.4642401618922,
          397.6446494334573,
          397.6446494334573,
          397.8692259341138,
          397.8692259341138,
          398.05072784887494,
          398.1208598039466,
          398.1208598039466,
          398.5571539927195,
          399.70999641110814,
          400.22875457374914,
          400.6501558807895,
          401.1433870234501,
          401.58128588853543,
          402.34658073284925,
          402.9832966975721
         ],
         "y0": " ",
         "yaxis": "y"
        }
       ],
       "layout": {
        "boxmode": "group",
        "legend": {
         "title": {
          "text": "model"
         },
         "tracegroupgap": 0
        },
        "margin": {
         "t": 60
        },
        "shapes": [
         {
          "line": {
           "color": "gray",
           "dash": "dash"
          },
          "type": "line",
          "x0": 0,
          "x1": 1,
          "xref": "x domain",
          "y0": 373.92157248186635,
          "y1": 373.92157248186635,
          "yref": "y"
         }
        ],
        "template": {
         "data": {
          "bar": [
           {
            "error_x": {
             "color": "#2a3f5f"
            },
            "error_y": {
             "color": "#2a3f5f"
            },
            "marker": {
             "line": {
              "color": "#E5ECF6",
              "width": 0.5
             },
             "pattern": {
              "fillmode": "overlay",
              "size": 10,
              "solidity": 0.2
             }
            },
            "type": "bar"
           }
          ],
          "barpolar": [
           {
            "marker": {
             "line": {
              "color": "#E5ECF6",
              "width": 0.5
             },
             "pattern": {
              "fillmode": "overlay",
              "size": 10,
              "solidity": 0.2
             }
            },
            "type": "barpolar"
           }
          ],
          "carpet": [
           {
            "aaxis": {
             "endlinecolor": "#2a3f5f",
             "gridcolor": "white",
             "linecolor": "white",
             "minorgridcolor": "white",
             "startlinecolor": "#2a3f5f"
            },
            "baxis": {
             "endlinecolor": "#2a3f5f",
             "gridcolor": "white",
             "linecolor": "white",
             "minorgridcolor": "white",
             "startlinecolor": "#2a3f5f"
            },
            "type": "carpet"
           }
          ],
          "choropleth": [
           {
            "colorbar": {
             "outlinewidth": 0,
             "ticks": ""
            },
            "type": "choropleth"
           }
          ],
          "contour": [
           {
            "colorbar": {
             "outlinewidth": 0,
             "ticks": ""
            },
            "colorscale": [
             [
              0,
              "#0d0887"
             ],
             [
              0.1111111111111111,
              "#46039f"
             ],
             [
              0.2222222222222222,
              "#7201a8"
             ],
             [
              0.3333333333333333,
              "#9c179e"
             ],
             [
              0.4444444444444444,
              "#bd3786"
             ],
             [
              0.5555555555555556,
              "#d8576b"
             ],
             [
              0.6666666666666666,
              "#ed7953"
             ],
             [
              0.7777777777777778,
              "#fb9f3a"
             ],
             [
              0.8888888888888888,
              "#fdca26"
             ],
             [
              1,
              "#f0f921"
             ]
            ],
            "type": "contour"
           }
          ],
          "contourcarpet": [
           {
            "colorbar": {
             "outlinewidth": 0,
             "ticks": ""
            },
            "type": "contourcarpet"
           }
          ],
          "heatmap": [
           {
            "colorbar": {
             "outlinewidth": 0,
             "ticks": ""
            },
            "colorscale": [
             [
              0,
              "#0d0887"
             ],
             [
              0.1111111111111111,
              "#46039f"
             ],
             [
              0.2222222222222222,
              "#7201a8"
             ],
             [
              0.3333333333333333,
              "#9c179e"
             ],
             [
              0.4444444444444444,
              "#bd3786"
             ],
             [
              0.5555555555555556,
              "#d8576b"
             ],
             [
              0.6666666666666666,
              "#ed7953"
             ],
             [
              0.7777777777777778,
              "#fb9f3a"
             ],
             [
              0.8888888888888888,
              "#fdca26"
             ],
             [
              1,
              "#f0f921"
             ]
            ],
            "type": "heatmap"
           }
          ],
          "heatmapgl": [
           {
            "colorbar": {
             "outlinewidth": 0,
             "ticks": ""
            },
            "colorscale": [
             [
              0,
              "#0d0887"
             ],
             [
              0.1111111111111111,
              "#46039f"
             ],
             [
              0.2222222222222222,
              "#7201a8"
             ],
             [
              0.3333333333333333,
              "#9c179e"
             ],
             [
              0.4444444444444444,
              "#bd3786"
             ],
             [
              0.5555555555555556,
              "#d8576b"
             ],
             [
              0.6666666666666666,
              "#ed7953"
             ],
             [
              0.7777777777777778,
              "#fb9f3a"
             ],
             [
              0.8888888888888888,
              "#fdca26"
             ],
             [
              1,
              "#f0f921"
             ]
            ],
            "type": "heatmapgl"
           }
          ],
          "histogram": [
           {
            "marker": {
             "pattern": {
              "fillmode": "overlay",
              "size": 10,
              "solidity": 0.2
             }
            },
            "type": "histogram"
           }
          ],
          "histogram2d": [
           {
            "colorbar": {
             "outlinewidth": 0,
             "ticks": ""
            },
            "colorscale": [
             [
              0,
              "#0d0887"
             ],
             [
              0.1111111111111111,
              "#46039f"
             ],
             [
              0.2222222222222222,
              "#7201a8"
             ],
             [
              0.3333333333333333,
              "#9c179e"
             ],
             [
              0.4444444444444444,
              "#bd3786"
             ],
             [
              0.5555555555555556,
              "#d8576b"
             ],
             [
              0.6666666666666666,
              "#ed7953"
             ],
             [
              0.7777777777777778,
              "#fb9f3a"
             ],
             [
              0.8888888888888888,
              "#fdca26"
             ],
             [
              1,
              "#f0f921"
             ]
            ],
            "type": "histogram2d"
           }
          ],
          "histogram2dcontour": [
           {
            "colorbar": {
             "outlinewidth": 0,
             "ticks": ""
            },
            "colorscale": [
             [
              0,
              "#0d0887"
             ],
             [
              0.1111111111111111,
              "#46039f"
             ],
             [
              0.2222222222222222,
              "#7201a8"
             ],
             [
              0.3333333333333333,
              "#9c179e"
             ],
             [
              0.4444444444444444,
              "#bd3786"
             ],
             [
              0.5555555555555556,
              "#d8576b"
             ],
             [
              0.6666666666666666,
              "#ed7953"
             ],
             [
              0.7777777777777778,
              "#fb9f3a"
             ],
             [
              0.8888888888888888,
              "#fdca26"
             ],
             [
              1,
              "#f0f921"
             ]
            ],
            "type": "histogram2dcontour"
           }
          ],
          "mesh3d": [
           {
            "colorbar": {
             "outlinewidth": 0,
             "ticks": ""
            },
            "type": "mesh3d"
           }
          ],
          "parcoords": [
           {
            "line": {
             "colorbar": {
              "outlinewidth": 0,
              "ticks": ""
             }
            },
            "type": "parcoords"
           }
          ],
          "pie": [
           {
            "automargin": true,
            "type": "pie"
           }
          ],
          "scatter": [
           {
            "fillpattern": {
             "fillmode": "overlay",
             "size": 10,
             "solidity": 0.2
            },
            "type": "scatter"
           }
          ],
          "scatter3d": [
           {
            "line": {
             "colorbar": {
              "outlinewidth": 0,
              "ticks": ""
             }
            },
            "marker": {
             "colorbar": {
              "outlinewidth": 0,
              "ticks": ""
             }
            },
            "type": "scatter3d"
           }
          ],
          "scattercarpet": [
           {
            "marker": {
             "colorbar": {
              "outlinewidth": 0,
              "ticks": ""
             }
            },
            "type": "scattercarpet"
           }
          ],
          "scattergeo": [
           {
            "marker": {
             "colorbar": {
              "outlinewidth": 0,
              "ticks": ""
             }
            },
            "type": "scattergeo"
           }
          ],
          "scattergl": [
           {
            "marker": {
             "colorbar": {
              "outlinewidth": 0,
              "ticks": ""
             }
            },
            "type": "scattergl"
           }
          ],
          "scattermapbox": [
           {
            "marker": {
             "colorbar": {
              "outlinewidth": 0,
              "ticks": ""
             }
            },
            "type": "scattermapbox"
           }
          ],
          "scatterpolar": [
           {
            "marker": {
             "colorbar": {
              "outlinewidth": 0,
              "ticks": ""
             }
            },
            "type": "scatterpolar"
           }
          ],
          "scatterpolargl": [
           {
            "marker": {
             "colorbar": {
              "outlinewidth": 0,
              "ticks": ""
             }
            },
            "type": "scatterpolargl"
           }
          ],
          "scatterternary": [
           {
            "marker": {
             "colorbar": {
              "outlinewidth": 0,
              "ticks": ""
             }
            },
            "type": "scatterternary"
           }
          ],
          "surface": [
           {
            "colorbar": {
             "outlinewidth": 0,
             "ticks": ""
            },
            "colorscale": [
             [
              0,
              "#0d0887"
             ],
             [
              0.1111111111111111,
              "#46039f"
             ],
             [
              0.2222222222222222,
              "#7201a8"
             ],
             [
              0.3333333333333333,
              "#9c179e"
             ],
             [
              0.4444444444444444,
              "#bd3786"
             ],
             [
              0.5555555555555556,
              "#d8576b"
             ],
             [
              0.6666666666666666,
              "#ed7953"
             ],
             [
              0.7777777777777778,
              "#fb9f3a"
             ],
             [
              0.8888888888888888,
              "#fdca26"
             ],
             [
              1,
              "#f0f921"
             ]
            ],
            "type": "surface"
           }
          ],
          "table": [
           {
            "cells": {
             "fill": {
              "color": "#EBF0F8"
             },
             "line": {
              "color": "white"
             }
            },
            "header": {
             "fill": {
              "color": "#C8D4E3"
             },
             "line": {
              "color": "white"
             }
            },
            "type": "table"
           }
          ]
         },
         "layout": {
          "annotationdefaults": {
           "arrowcolor": "#2a3f5f",
           "arrowhead": 0,
           "arrowwidth": 1
          },
          "autotypenumbers": "strict",
          "coloraxis": {
           "colorbar": {
            "outlinewidth": 0,
            "ticks": ""
           }
          },
          "colorscale": {
           "diverging": [
            [
             0,
             "#8e0152"
            ],
            [
             0.1,
             "#c51b7d"
            ],
            [
             0.2,
             "#de77ae"
            ],
            [
             0.3,
             "#f1b6da"
            ],
            [
             0.4,
             "#fde0ef"
            ],
            [
             0.5,
             "#f7f7f7"
            ],
            [
             0.6,
             "#e6f5d0"
            ],
            [
             0.7,
             "#b8e186"
            ],
            [
             0.8,
             "#7fbc41"
            ],
            [
             0.9,
             "#4d9221"
            ],
            [
             1,
             "#276419"
            ]
           ],
           "sequential": [
            [
             0,
             "#0d0887"
            ],
            [
             0.1111111111111111,
             "#46039f"
            ],
            [
             0.2222222222222222,
             "#7201a8"
            ],
            [
             0.3333333333333333,
             "#9c179e"
            ],
            [
             0.4444444444444444,
             "#bd3786"
            ],
            [
             0.5555555555555556,
             "#d8576b"
            ],
            [
             0.6666666666666666,
             "#ed7953"
            ],
            [
             0.7777777777777778,
             "#fb9f3a"
            ],
            [
             0.8888888888888888,
             "#fdca26"
            ],
            [
             1,
             "#f0f921"
            ]
           ],
           "sequentialminus": [
            [
             0,
             "#0d0887"
            ],
            [
             0.1111111111111111,
             "#46039f"
            ],
            [
             0.2222222222222222,
             "#7201a8"
            ],
            [
             0.3333333333333333,
             "#9c179e"
            ],
            [
             0.4444444444444444,
             "#bd3786"
            ],
            [
             0.5555555555555556,
             "#d8576b"
            ],
            [
             0.6666666666666666,
             "#ed7953"
            ],
            [
             0.7777777777777778,
             "#fb9f3a"
            ],
            [
             0.8888888888888888,
             "#fdca26"
            ],
            [
             1,
             "#f0f921"
            ]
           ]
          },
          "colorway": [
           "#636efa",
           "#EF553B",
           "#00cc96",
           "#ab63fa",
           "#FFA15A",
           "#19d3f3",
           "#FF6692",
           "#B6E880",
           "#FF97FF",
           "#FECB52"
          ],
          "font": {
           "color": "#2a3f5f"
          },
          "geo": {
           "bgcolor": "white",
           "lakecolor": "white",
           "landcolor": "#E5ECF6",
           "showlakes": true,
           "showland": true,
           "subunitcolor": "white"
          },
          "hoverlabel": {
           "align": "left"
          },
          "hovermode": "closest",
          "mapbox": {
           "style": "light"
          },
          "paper_bgcolor": "white",
          "plot_bgcolor": "#E5ECF6",
          "polar": {
           "angularaxis": {
            "gridcolor": "white",
            "linecolor": "white",
            "ticks": ""
           },
           "bgcolor": "#E5ECF6",
           "radialaxis": {
            "gridcolor": "white",
            "linecolor": "white",
            "ticks": ""
           }
          },
          "scene": {
           "xaxis": {
            "backgroundcolor": "#E5ECF6",
            "gridcolor": "white",
            "gridwidth": 2,
            "linecolor": "white",
            "showbackground": true,
            "ticks": "",
            "zerolinecolor": "white"
           },
           "yaxis": {
            "backgroundcolor": "#E5ECF6",
            "gridcolor": "white",
            "gridwidth": 2,
            "linecolor": "white",
            "showbackground": true,
            "ticks": "",
            "zerolinecolor": "white"
           },
           "zaxis": {
            "backgroundcolor": "#E5ECF6",
            "gridcolor": "white",
            "gridwidth": 2,
            "linecolor": "white",
            "showbackground": true,
            "ticks": "",
            "zerolinecolor": "white"
           }
          },
          "shapedefaults": {
           "line": {
            "color": "#2a3f5f"
           }
          },
          "ternary": {
           "aaxis": {
            "gridcolor": "white",
            "linecolor": "white",
            "ticks": ""
           },
           "baxis": {
            "gridcolor": "white",
            "linecolor": "white",
            "ticks": ""
           },
           "bgcolor": "#E5ECF6",
           "caxis": {
            "gridcolor": "white",
            "linecolor": "white",
            "ticks": ""
           }
          },
          "title": {
           "x": 0.05
          },
          "xaxis": {
           "automargin": true,
           "gridcolor": "white",
           "linecolor": "white",
           "ticks": "",
           "title": {
            "standoff": 15
           },
           "zerolinecolor": "white",
           "zerolinewidth": 2
          },
          "yaxis": {
           "automargin": true,
           "gridcolor": "white",
           "linecolor": "white",
           "ticks": "",
           "title": {
            "standoff": 15
           },
           "zerolinecolor": "white",
           "zerolinewidth": 2
          }
         }
        },
        "xaxis": {
         "anchor": "y",
         "domain": [
          0,
          1
         ]
        },
        "yaxis": {
         "anchor": "x",
         "domain": [
          0,
          1
         ],
         "title": {
          "text": "rmse"
         }
        }
       }
      }
     },
     "metadata": {},
     "output_type": "display_data"
    }
   ],
   "source": [
    "deep_learning_models = [\"mlp\", \"resnet\", \"deep_linear\"]\n",
    "deep_learning_models = deep_learning_models + [f\"{x}_ft\" for x in deep_learning_models]\n",
    "deep_learning_featurizers = [\"bert_cls\", \"bert_mean\"]\n",
    "deep_learning_tokenizers = [\"bert\"]\n",
    "\n",
    "deep_learning_results = filtered_results[\n",
    "    (filtered_results[\"model\"].isin(deep_learning_models)) &\n",
    "    (filtered_results[\"featuriser\"].isin(deep_learning_featurizers)) &\n",
    "    (filtered_results[\"tokeniser\"].isin(deep_learning_tokenizers))\n",
    "]\n",
    "\n",
    "z = deep_learning_results.sort_values(by=metric).reset_index(drop=True)\n",
    "logger.info(deep_learning_results.shape)\n",
    "fig = px.box(deep_learning_results, y=metric, color=\"model\")\n",
    "fig.add_hline(y=deep_learning_results[metric].mean(), line_dash=\"dash\", line_color=\"gray\")\n",
    "fig.show()"
   ]
  },
  {
   "cell_type": "code",
   "execution_count": 55,
   "metadata": {},
   "outputs": [
    {
     "name": "stderr",
     "output_type": "stream",
     "text": [
      "2025-03-11 11:39:09,093 - analysis - INFO - Best deep learners varied over preprocessers:\n"
     ]
    },
    {
     "data": {
      "text/html": [
       "<div>\n",
       "<style scoped>\n",
       "    .dataframe tbody tr th:only-of-type {\n",
       "        vertical-align: middle;\n",
       "    }\n",
       "\n",
       "    .dataframe tbody tr th {\n",
       "        vertical-align: top;\n",
       "    }\n",
       "\n",
       "    .dataframe thead th {\n",
       "        text-align: right;\n",
       "    }\n",
       "</style>\n",
       "<table border=\"1\" class=\"dataframe\">\n",
       "  <thead>\n",
       "    <tr style=\"text-align: right;\">\n",
       "      <th></th>\n",
       "      <th>preprocessers</th>\n",
       "      <th>rmse</th>\n",
       "    </tr>\n",
       "  </thead>\n",
       "  <tbody>\n",
       "    <tr>\n",
       "      <th>1</th>\n",
       "      <td>[no_stopwords_nltk]</td>\n",
       "      <td>311.334410</td>\n",
       "    </tr>\n",
       "    <tr>\n",
       "      <th>2</th>\n",
       "      <td>[empty]</td>\n",
       "      <td>314.764369</td>\n",
       "    </tr>\n",
       "    <tr>\n",
       "      <th>3</th>\n",
       "      <td>[empty]</td>\n",
       "      <td>316.044175</td>\n",
       "    </tr>\n",
       "    <tr>\n",
       "      <th>5</th>\n",
       "      <td>[empty]</td>\n",
       "      <td>317.734602</td>\n",
       "    </tr>\n",
       "    <tr>\n",
       "      <th>7</th>\n",
       "      <td>[no_stopwords_nltk]</td>\n",
       "      <td>319.842292</td>\n",
       "    </tr>\n",
       "  </tbody>\n",
       "</table>\n",
       "</div>"
      ],
      "text/plain": [
       "         preprocessers        rmse\n",
       "1  [no_stopwords_nltk]  311.334410\n",
       "2              [empty]  314.764369\n",
       "3              [empty]  316.044175\n",
       "5              [empty]  317.734602\n",
       "7  [no_stopwords_nltk]  319.842292"
      ]
     },
     "metadata": {},
     "output_type": "display_data"
    },
    {
     "name": "stderr",
     "output_type": "stream",
     "text": [
      "2025-03-11 11:39:09,104 - analysis - INFO - Worst deep learners varied over preprocessers:\n"
     ]
    },
    {
     "data": {
      "text/html": [
       "<div>\n",
       "<style scoped>\n",
       "    .dataframe tbody tr th:only-of-type {\n",
       "        vertical-align: middle;\n",
       "    }\n",
       "\n",
       "    .dataframe tbody tr th {\n",
       "        vertical-align: top;\n",
       "    }\n",
       "\n",
       "    .dataframe thead th {\n",
       "        text-align: right;\n",
       "    }\n",
       "</style>\n",
       "<table border=\"1\" class=\"dataframe\">\n",
       "  <thead>\n",
       "    <tr style=\"text-align: right;\">\n",
       "      <th></th>\n",
       "      <th>preprocessers</th>\n",
       "      <th>rmse</th>\n",
       "    </tr>\n",
       "  </thead>\n",
       "  <tbody>\n",
       "    <tr>\n",
       "      <th>561</th>\n",
       "      <td>[empty]</td>\n",
       "      <td>404.190459</td>\n",
       "    </tr>\n",
       "    <tr>\n",
       "      <th>567</th>\n",
       "      <td>[no_stopwords_spacy, stem]</td>\n",
       "      <td>405.331844</td>\n",
       "    </tr>\n",
       "    <tr>\n",
       "      <th>568</th>\n",
       "      <td>[no_stopwords_spacy, stem]</td>\n",
       "      <td>405.462961</td>\n",
       "    </tr>\n",
       "    <tr>\n",
       "      <th>571</th>\n",
       "      <td>[lowercase, no_punctuation, stem]</td>\n",
       "      <td>406.013717</td>\n",
       "    </tr>\n",
       "    <tr>\n",
       "      <th>593</th>\n",
       "      <td>[stem]</td>\n",
       "      <td>422.635551</td>\n",
       "    </tr>\n",
       "  </tbody>\n",
       "</table>\n",
       "</div>"
      ],
      "text/plain": [
       "                         preprocessers        rmse\n",
       "561                            [empty]  404.190459\n",
       "567         [no_stopwords_spacy, stem]  405.331844\n",
       "568         [no_stopwords_spacy, stem]  405.462961\n",
       "571  [lowercase, no_punctuation, stem]  406.013717\n",
       "593                             [stem]  422.635551"
      ]
     },
     "metadata": {},
     "output_type": "display_data"
    }
   ],
   "source": [
    "logger.info(f\"Best deep learners varied over preprocessers:\")\n",
    "best_subset = deep_learning_results.head(5)\n",
    "display(best_subset[[\"preprocessers\", metric]])\n",
    "\n",
    "logger.info(f\"Worst deep learners varied over preprocessers:\")\n",
    "worst_subset = deep_learning_results.tail(5)\n",
    "display(worst_subset[[\"preprocessers\", metric]])"
   ]
  },
  {
   "cell_type": "markdown",
   "metadata": {},
   "source": [
    "### Look at with and without preprocesser"
   ]
  },
  {
   "cell_type": "code",
   "execution_count": 56,
   "metadata": {},
   "outputs": [
    {
     "name": "stderr",
     "output_type": "stream",
     "text": [
      "/tmp/ipykernel_56187/4287478704.py:4: SettingWithCopyWarning:\n",
      "\n",
      "\n",
      "A value is trying to be set on a copy of a slice from a DataFrame.\n",
      "Try using .loc[row_indexer,col_indexer] = value instead\n",
      "\n",
      "See the caveats in the documentation: https://pandas.pydata.org/pandas-docs/stable/user_guide/indexing.html#returning-a-view-versus-a-copy\n",
      "\n",
      "/tmp/ipykernel_56187/4287478704.py:5: SettingWithCopyWarning:\n",
      "\n",
      "\n",
      "A value is trying to be set on a copy of a slice from a DataFrame.\n",
      "Try using .loc[row_indexer,col_indexer] = value instead\n",
      "\n",
      "See the caveats in the documentation: https://pandas.pydata.org/pandas-docs/stable/user_guide/indexing.html#returning-a-view-versus-a-copy\n",
      "\n"
     ]
    }
   ],
   "source": [
    "no_preprocesser_idx = deep_learning_results[\"preprocessers\"].apply(lambda x: x==[\"empty\"])\n",
    "no_preprocessers_subset = deep_learning_results[no_preprocesser_idx]\n",
    "with_preprocessers_subset = deep_learning_results[~no_preprocesser_idx]\n",
    "no_preprocessers_subset[\"model_type\"] = \"w/o Preprocessers\"\n",
    "with_preprocessers_subset[\"model_type\"] = \"w/ Preprocessers\"\n",
    "joint = pd.concat([no_preprocessers_subset, with_preprocessers_subset])\n",
    "\n",
    "color_order = sorted(joint[\"model\"].unique())\n",
    "\n",
    "fig = px.box(\n",
    "    joint,\n",
    "    x=\"model_type\",\n",
    "    y=metric,\n",
    "    # color=\"model\",\n",
    "    points=\"outliers\",\n",
    "    category_orders={\"model\": color_order}\n",
    ")\n",
    "fig.add_hline(y=perf_of_mean, line_dash=\"dash\", line_color=\"gray\")\n",
    "\n",
    "fig.write_image(\n",
    "    OUTPUT_DIR / dataset / \"1d_boxplots\" / f\"{config_str}_deep_learners_w_wout_preprocessers.{image_ext}\",\n",
    "    height=SAVE_HEIGHT,\n",
    "    width=SAVE_WIDTH,\n",
    "    scale=2\n",
    ")"
   ]
  },
  {
   "cell_type": "code",
   "execution_count": 57,
   "metadata": {},
   "outputs": [
    {
     "name": "stderr",
     "output_type": "stream",
     "text": [
      "2025-03-11 11:39:12,949 - analysis - INFO - \n",
      "Permutation Test Results:\n",
      "2025-03-11 11:39:12,950 - analysis - INFO - Observed difference in means (with - without): 15.25; n = 84, m = 32\n",
      "2025-03-11 11:39:12,951 - analysis - INFO - P-value: 0.0023\n",
      "2025-03-11 11:39:12,952 - analysis - INFO - Statistically different at 0.05 significance\n"
     ]
    }
   ],
   "source": [
    "p_value, observed_diff = permutation_test(with_preprocessers_subset[metric], no_preprocessers_subset[metric])\n",
    "\n",
    "logger.info(f\"\\nPermutation Test Results:\")\n",
    "logger.info(f\"Observed difference in means (with - without): {observed_diff:.2f}; n = {len(with_preprocessers_subset)}, m = {len(no_preprocessers_subset)}\")\n",
    "logger.info(f\"P-value: {p_value:.4f}\")\n",
    "logger.info(f\"Statistically {'different' if p_value < alpha else 'not different'} at {alpha} significance\")\n"
   ]
  },
  {
   "cell_type": "markdown",
   "metadata": {},
   "source": [
    "Too difficult to draw meaningful conclusions from these results"
   ]
  },
  {
   "cell_type": "markdown",
   "metadata": {},
   "source": [
    "## 'Safe' vs 'Unsafe' preprocessers"
   ]
  },
  {
   "cell_type": "markdown",
   "metadata": {},
   "source": [
    "What about specifically preprocessers that do and dont change the token distribution?"
   ]
  },
  {
   "cell_type": "code",
   "execution_count": 58,
   "metadata": {},
   "outputs": [
    {
     "data": {
      "text/plain": [
       "['lowercase',\n",
       " 'lemmatize',\n",
       " 'empty',\n",
       " 'no_punctuation',\n",
       " 'no_stopwords_spacy',\n",
       " 'stem',\n",
       " 'no_stopwords_nltk']"
      ]
     },
     "execution_count": 58,
     "metadata": {},
     "output_type": "execute_result"
    }
   ],
   "source": [
    "# Remind of all preprocessers\n",
    "all_preproc = set()\n",
    "for preproc in filtered_results[\"preprocessers\"].values:\n",
    "    all_preproc.update(preproc)\n",
    "all_preproc = list(all_preproc)\n",
    "all_preproc"
   ]
  },
  {
   "cell_type": "code",
   "execution_count": 59,
   "metadata": {},
   "outputs": [
    {
     "data": {
      "text/plain": [
       "(['empty',\n",
       "  'no_stopwords_spacy',\n",
       "  'lowercase',\n",
       "  'no_stopwords_nltk',\n",
       "  'no_punctuation',\n",
       "  'lemmatize'],\n",
       " ['stem'])"
      ]
     },
     "execution_count": 59,
     "metadata": {},
     "output_type": "execute_result"
    }
   ],
   "source": [
    "safe_preproc = [\"empty\", \"no_stopwords_spacy\", \"lowercase\", \"no_stopwords_nltk\", \"no_punctuation\", \"lemmatize\"]\n",
    "unsafe_preproc = [x for x in all_preproc if x not in safe_preproc]\n",
    "safe_preproc, unsafe_preproc"
   ]
  },
  {
   "cell_type": "code",
   "execution_count": 60,
   "metadata": {},
   "outputs": [
    {
     "data": {
      "application/vnd.plotly.v1+json": {
       "config": {
        "plotlyServerURL": "https://plot.ly"
       },
       "data": [
        {
         "alignmentgroup": "True",
         "boxpoints": "outliers",
         "hovertemplate": "model=mlp_ft<br>preproc_type=%{x}<br>rmse=%{y}<extra></extra>",
         "legendgroup": "mlp_ft",
         "marker": {
          "color": "#636efa"
         },
         "name": "mlp_ft",
         "notched": false,
         "offsetgroup": "mlp_ft",
         "orientation": "v",
         "showlegend": true,
         "type": "box",
         "x": [
          "Safe",
          "Safe",
          "Safe",
          "Safe",
          "Safe",
          "Safe",
          "Safe",
          "Safe",
          "Safe",
          "Safe",
          "Safe",
          "Safe",
          "Safe",
          "Safe",
          "Safe",
          "Safe"
         ],
         "x0": " ",
         "xaxis": "x",
         "y": [
          311.33440967319,
          314.76436904156856,
          317.7346017842418,
          319.84229154228257,
          326.2234016638535,
          336.79821777577615,
          338.09792610688277,
          338.6965440924381,
          339.21406567615145,
          343.1297097274561,
          345.6375675273746,
          355.884607031762,
          362.5724020344435,
          365.08751113082116,
          369.4996771144671,
          373.9828571356585
         ],
         "y0": " ",
         "yaxis": "y"
        },
        {
         "alignmentgroup": "True",
         "boxpoints": "outliers",
         "hovertemplate": "model=deep_linear_ft<br>preproc_type=%{x}<br>rmse=%{y}<extra></extra>",
         "legendgroup": "deep_linear_ft",
         "marker": {
          "color": "#EF553B"
         },
         "name": "deep_linear_ft",
         "notched": false,
         "offsetgroup": "deep_linear_ft",
         "orientation": "v",
         "showlegend": true,
         "type": "box",
         "x": [
          "Safe",
          "Safe",
          "Safe",
          "Safe",
          "Safe",
          "Safe",
          "Safe",
          "Safe",
          "Safe",
          "Safe",
          "Safe",
          "Safe",
          "Safe",
          "Safe",
          "Safe",
          "Safe"
         ],
         "x0": " ",
         "xaxis": "x",
         "y": [
          316.04417458454685,
          324.50076013120145,
          324.7643090896138,
          329.3217094612876,
          338.1378270491865,
          338.9966386827068,
          339.3346064616603,
          345.1905750696036,
          347.4294724288325,
          348.4396373626991,
          350.63896679093614,
          350.9219214509135,
          364.1713705296326,
          370.55193277548267,
          399.7092781205411,
          404.19045891016077
         ],
         "y0": " ",
         "yaxis": "y"
        },
        {
         "alignmentgroup": "True",
         "boxpoints": "outliers",
         "hovertemplate": "model=xgboost<br>preproc_type=%{x}<br>rmse=%{y}<extra></extra>",
         "legendgroup": "xgboost",
         "marker": {
          "color": "#00cc96"
         },
         "name": "xgboost",
         "notched": false,
         "offsetgroup": "xgboost",
         "orientation": "v",
         "showlegend": true,
         "type": "box",
         "x": [
          "Safe",
          "Safe",
          "Safe",
          "Safe",
          "Safe",
          "Safe",
          "Safe",
          "Safe",
          "Safe",
          "Safe",
          "Safe",
          "Safe",
          "Safe",
          "Safe",
          "Safe",
          "Safe",
          "Safe",
          "Safe",
          "Safe",
          "Safe",
          "Safe",
          "Safe",
          "Safe",
          "Safe",
          "Safe",
          "Safe",
          "Safe",
          "Safe",
          "Safe",
          "Safe",
          "Safe",
          "Safe",
          "Safe",
          "Safe",
          "Safe",
          "Safe",
          "Safe",
          "Safe",
          "Safe",
          "Safe",
          "Safe",
          "Safe",
          "Safe",
          "Safe",
          "Safe",
          "Safe",
          "Safe",
          "Safe",
          "Safe",
          "Safe",
          "Safe",
          "Safe",
          "Safe",
          "Safe",
          "Safe",
          "Safe",
          "Safe",
          "Safe",
          "Safe",
          "Safe",
          "Safe",
          "Safe",
          "Safe",
          "Safe",
          "Safe",
          "Safe",
          "Safe",
          "Safe",
          "Unsafe (['stem'])",
          "Unsafe (['stem'])",
          "Unsafe (['stem'])",
          "Unsafe (['stem'])",
          "Unsafe (['stem'])",
          "Unsafe (['stem'])",
          "Unsafe (['stem'])",
          "Unsafe (['stem'])",
          "Unsafe (['stem'])",
          "Unsafe (['stem'])",
          "Unsafe (['stem'])",
          "Unsafe (['stem'])",
          "Unsafe (['stem'])",
          "Unsafe (['stem'])",
          "Unsafe (['stem'])",
          "Unsafe (['stem'])",
          "Unsafe (['stem'])",
          "Unsafe (['stem'])",
          "Unsafe (['stem'])",
          "Unsafe (['stem'])",
          "Unsafe (['stem'])",
          "Unsafe (['stem'])",
          "Unsafe (['stem'])",
          "Unsafe (['stem'])",
          "Unsafe (['stem'])",
          "Unsafe (['stem'])",
          "Unsafe (['stem'])",
          "Unsafe (['stem'])",
          "Unsafe (['stem'])",
          "Unsafe (['stem'])",
          "Unsafe (['stem'])",
          "Unsafe (['stem'])",
          "Unsafe (['stem'])",
          "Unsafe (['stem'])",
          "Unsafe (['stem'])",
          "Unsafe (['stem'])",
          "Unsafe (['stem'])",
          "Unsafe (['stem'])",
          "Unsafe (['stem'])",
          "Unsafe (['stem'])",
          "Unsafe (['stem'])",
          "Unsafe (['stem'])",
          "Unsafe (['stem'])",
          "Unsafe (['stem'])"
         ],
         "x0": " ",
         "xaxis": "x",
         "y": [
          317.2746493887332,
          321.90214560858936,
          331.9290450060042,
          332.75503476142876,
          341.9704219945067,
          344.99491808649987,
          345.72446705636304,
          345.92895858835993,
          346.5631573115318,
          348.7344944978441,
          349.11626894318266,
          349.3901244979621,
          349.51486855039616,
          350.1828547872948,
          350.2573249152995,
          352.19343919505417,
          352.5419263889379,
          352.87408207406116,
          354.04205051869445,
          359.8976568270002,
          360.88184047643097,
          361.0856321960106,
          362.81126021551154,
          363.67991570720363,
          364.2407253593071,
          365.34210859311264,
          369.71482860775654,
          370.2050904911549,
          370.2057238716686,
          371.57465711437794,
          372.1014242799801,
          373.03430773451083,
          374.69911584110145,
          374.84708617838504,
          375.9506247797896,
          377.8681616373733,
          379.1209801771319,
          381.152231321977,
          381.15223269775316,
          382.57004213387137,
          383.96407164421544,
          384.51201069379687,
          387.10390912109716,
          387.21824188686037,
          387.21824188686037,
          388.78028327491865,
          389.03496006985046,
          389.80468299271416,
          391.25998448422916,
          392.7302047874685,
          395.76567878476703,
          395.76567878476703,
          396.18282469298936,
          396.18282469298936,
          396.68174634093964,
          398.08956563452256,
          399.32312118403775,
          399.32312118403775,
          401.5639424391225,
          401.5639424391225,
          405.0058692110435,
          405.9919103056463,
          410.18279965590557,
          410.18279965590557,
          411.6802541601293,
          415.5496784446039,
          423.1119063864024,
          424.58231657679477,
          302.98532877952385,
          330.5256683133251,
          331.358287112954,
          334.2797103352185,
          336.3448535264005,
          338.4344042126516,
          347.7000635312551,
          348.46370137366364,
          351.79613989863475,
          352.01419376552434,
          352.1872572228812,
          353.6354308880048,
          355.6735847619962,
          355.9033910963849,
          357.93551491304,
          370.49770092829493,
          371.3479739413136,
          378.4567873402641,
          384.30404315776656,
          384.5087800647171,
          385.3125103664196,
          385.36151258545226,
          388.95355217227524,
          389.8061023032268,
          392.5451948235551,
          396.01434855284907,
          401.3676407353667,
          402.2682055877634,
          402.4114890639279,
          404.4569142803265,
          405.6030039896613,
          406.94545181064206,
          408.60275995145224,
          408.93014108873115,
          409.02331644330764,
          411.2309316908985,
          419.08591667064263,
          419.317351362789,
          424.6390229265572,
          425.22275059905286,
          433.1194155380841,
          435.0064635068908,
          438.13881647421186,
          480.70134103849585
         ],
         "y0": " ",
         "yaxis": "y"
        },
        {
         "alignmentgroup": "True",
         "boxpoints": "outliers",
         "hovertemplate": "model=mlp<br>preproc_type=%{x}<br>rmse=%{y}<extra></extra>",
         "legendgroup": "mlp",
         "marker": {
          "color": "#ab63fa"
         },
         "name": "mlp",
         "notched": false,
         "offsetgroup": "mlp",
         "orientation": "v",
         "showlegend": true,
         "type": "box",
         "x": [
          "Safe",
          "Safe",
          "Safe",
          "Safe",
          "Safe",
          "Safe",
          "Safe",
          "Safe",
          "Safe",
          "Safe",
          "Safe",
          "Safe",
          "Safe",
          "Safe",
          "Safe",
          "Safe",
          "Safe",
          "Safe",
          "Safe",
          "Safe",
          "Safe",
          "Safe",
          "Safe",
          "Safe",
          "Safe",
          "Safe",
          "Safe",
          "Safe",
          "Safe",
          "Safe",
          "Safe",
          "Safe",
          "Safe",
          "Safe",
          "Safe",
          "Safe",
          "Safe",
          "Safe",
          "Safe",
          "Safe",
          "Safe",
          "Safe",
          "Safe",
          "Safe",
          "Safe",
          "Safe",
          "Safe",
          "Safe",
          "Safe",
          "Safe",
          "Safe",
          "Safe",
          "Safe",
          "Safe",
          "Safe",
          "Safe",
          "Safe",
          "Safe",
          "Safe",
          "Safe",
          "Safe",
          "Safe",
          "Safe",
          "Safe",
          "Safe",
          "Safe",
          "Safe",
          "Safe",
          "Safe",
          "Safe",
          "Safe",
          "Safe",
          "Safe",
          "Safe",
          "Safe",
          "Safe",
          "Safe",
          "Safe",
          "Safe",
          "Safe",
          "Safe",
          "Safe",
          "Safe",
          "Safe",
          "Safe",
          "Safe",
          "Safe",
          "Safe",
          "Unsafe (['stem'])",
          "Unsafe (['stem'])",
          "Unsafe (['stem'])",
          "Unsafe (['stem'])",
          "Unsafe (['stem'])",
          "Unsafe (['stem'])",
          "Unsafe (['stem'])",
          "Unsafe (['stem'])",
          "Unsafe (['stem'])",
          "Unsafe (['stem'])",
          "Unsafe (['stem'])",
          "Unsafe (['stem'])",
          "Unsafe (['stem'])",
          "Unsafe (['stem'])",
          "Unsafe (['stem'])",
          "Unsafe (['stem'])",
          "Unsafe (['stem'])",
          "Unsafe (['stem'])",
          "Unsafe (['stem'])",
          "Unsafe (['stem'])"
         ],
         "x0": " ",
         "xaxis": "x",
         "y": [
          319.6769612338791,
          322.87510822185965,
          325.80635178825247,
          325.9737215556308,
          329.03338868175547,
          330.1086612808074,
          330.76188374701206,
          331.548140198718,
          335.2713293085249,
          336.08907085976875,
          336.1852444079673,
          336.48704449130076,
          336.60502664897905,
          336.85379930801435,
          336.9500563360441,
          337.11922636614725,
          337.25941827706737,
          337.48317715345,
          337.894982623395,
          337.90266967544187,
          338.3236260538346,
          338.5606744392377,
          338.9869071965612,
          339.86693325695734,
          340.0157353003433,
          340.3437861967969,
          340.4496627710643,
          340.71481472697303,
          340.7598731006099,
          341.730787983425,
          341.7874981043275,
          341.8069453362533,
          341.8343958172098,
          341.8814359752579,
          341.9640180301286,
          342.03959722230746,
          342.09688120534224,
          342.16792444405667,
          342.6972553433169,
          342.9266835577458,
          342.95439203852345,
          344.08238575632225,
          344.46179711836015,
          344.6599005800042,
          344.9582203077432,
          345.45965330677683,
          345.7941666431594,
          347.16949423169433,
          347.2047541452248,
          348.22211579793645,
          348.6620630386463,
          350.53434639653204,
          350.79536890295367,
          352.61210900033564,
          352.856737446726,
          353.1335303202907,
          354.98064293427853,
          356.8398268634553,
          358.5614054039148,
          360.4609205536714,
          365.0875355846386,
          369.4997010077673,
          370.8770502108128,
          379.78330042507423,
          381.35751873108154,
          382.18221529452404,
          382.4232035154832,
          383.80966630424103,
          389.28013938065595,
          390.56214376657783,
          391.4700797161284,
          399.413924843801,
          403.63254750977575,
          404.29279137382946,
          409.270980873635,
          409.7060595256735,
          411.51939120475356,
          413.29208208876565,
          417.7577656334962,
          417.8333463237878,
          420.60680174927074,
          420.6615239852247,
          422.95923672946407,
          423.662146627735,
          426.13300126602934,
          428.19059920228347,
          443.58348162512027,
          470.8857583656977,
          374.1124939246338,
          374.855010612338,
          378.8994000148206,
          380.5809858285109,
          382.0509900092225,
          383.6969715992203,
          383.8501446510284,
          392.58565900484433,
          394.1172468462516,
          394.46024478097763,
          394.65352527730477,
          397.7821879894977,
          399.0805936042448,
          404.066974066485,
          404.23070892280134,
          404.9648166330556,
          405.46296148735223,
          406.0137170868423,
          408.60094912524875,
          409.314670772304
         ],
         "y0": " ",
         "yaxis": "y"
        },
        {
         "alignmentgroup": "True",
         "boxpoints": "outliers",
         "hovertemplate": "model=catboost<br>preproc_type=%{x}<br>rmse=%{y}<extra></extra>",
         "legendgroup": "catboost",
         "marker": {
          "color": "#FFA15A"
         },
         "name": "catboost",
         "notched": false,
         "offsetgroup": "catboost",
         "orientation": "v",
         "showlegend": true,
         "type": "box",
         "x": [
          "Safe",
          "Safe",
          "Safe",
          "Safe",
          "Safe",
          "Safe",
          "Safe",
          "Safe",
          "Safe",
          "Safe",
          "Safe",
          "Safe",
          "Safe",
          "Safe",
          "Safe",
          "Safe",
          "Safe",
          "Safe",
          "Safe",
          "Safe",
          "Safe",
          "Safe",
          "Safe",
          "Safe",
          "Safe",
          "Safe",
          "Safe",
          "Safe",
          "Safe",
          "Safe",
          "Safe",
          "Safe",
          "Safe",
          "Safe",
          "Safe",
          "Safe",
          "Safe",
          "Safe",
          "Safe",
          "Safe",
          "Safe",
          "Safe",
          "Safe",
          "Safe",
          "Safe",
          "Safe",
          "Safe",
          "Safe",
          "Safe",
          "Safe",
          "Safe",
          "Safe",
          "Safe",
          "Safe",
          "Safe",
          "Safe",
          "Safe",
          "Safe",
          "Safe",
          "Safe",
          "Safe",
          "Safe",
          "Safe",
          "Safe",
          "Safe",
          "Safe",
          "Safe",
          "Safe",
          "Safe",
          "Safe",
          "Safe",
          "Safe",
          "Safe",
          "Safe",
          "Safe",
          "Safe",
          "Safe",
          "Safe",
          "Safe",
          "Safe",
          "Safe",
          "Safe",
          "Safe",
          "Safe",
          "Safe",
          "Safe",
          "Safe",
          "Safe",
          "Safe",
          "Safe",
          "Safe",
          "Safe",
          "Safe",
          "Safe",
          "Safe",
          "Safe",
          "Safe",
          "Safe",
          "Safe",
          "Safe",
          "Unsafe (['stem'])",
          "Unsafe (['stem'])",
          "Unsafe (['stem'])",
          "Unsafe (['stem'])",
          "Unsafe (['stem'])",
          "Unsafe (['stem'])",
          "Unsafe (['stem'])",
          "Unsafe (['stem'])",
          "Unsafe (['stem'])",
          "Unsafe (['stem'])",
          "Unsafe (['stem'])",
          "Unsafe (['stem'])",
          "Unsafe (['stem'])",
          "Unsafe (['stem'])",
          "Unsafe (['stem'])",
          "Unsafe (['stem'])",
          "Unsafe (['stem'])",
          "Unsafe (['stem'])",
          "Unsafe (['stem'])",
          "Unsafe (['stem'])",
          "Unsafe (['stem'])",
          "Unsafe (['stem'])",
          "Unsafe (['stem'])",
          "Unsafe (['stem'])",
          "Unsafe (['stem'])",
          "Unsafe (['stem'])",
          "Unsafe (['stem'])",
          "Unsafe (['stem'])",
          "Unsafe (['stem'])",
          "Unsafe (['stem'])",
          "Unsafe (['stem'])",
          "Unsafe (['stem'])",
          "Unsafe (['stem'])",
          "Unsafe (['stem'])",
          "Unsafe (['stem'])",
          "Unsafe (['stem'])",
          "Unsafe (['stem'])",
          "Unsafe (['stem'])",
          "Unsafe (['stem'])",
          "Unsafe (['stem'])"
         ],
         "x0": " ",
         "xaxis": "x",
         "y": [
          331.16129587426065,
          333.43970039167675,
          335.5864986540254,
          335.9048992042993,
          337.0332588518629,
          337.90077754813865,
          338.05647616789224,
          338.3263710117045,
          339.05756189746137,
          339.1918218769382,
          340.3232638181472,
          341.1772702149842,
          341.5654140819198,
          341.7554176447597,
          343.1759709279876,
          343.63183190382716,
          344.5882851234182,
          344.90126037181847,
          345.23251918281466,
          345.6561772720931,
          345.9117337808273,
          345.93135766557367,
          347.28476239664195,
          347.5181405710475,
          347.9021828044338,
          348.44425235320244,
          349.2994040683845,
          349.32132362424323,
          350.0300069200573,
          351.2048352565753,
          351.34004666910556,
          351.7103111005102,
          352.15072296073316,
          352.4553312867923,
          352.48955144875686,
          352.7332699657305,
          353.1670024945526,
          353.6679692404049,
          353.7027342923967,
          353.98112293100826,
          354.49235621872435,
          354.8798618370827,
          354.9447006474114,
          355.68057856622704,
          355.71127626477363,
          355.97914072714224,
          355.9808364054509,
          356.02156563865435,
          356.0679837375498,
          356.2411953398134,
          356.49644770792906,
          356.98470950334683,
          357.5443174790907,
          357.75011304409156,
          359.1113483535576,
          359.2965882286245,
          359.9668987870047,
          360.96087493399034,
          361.1538533561009,
          361.4407093716513,
          362.20467374040646,
          362.9855138737894,
          363.8052631857211,
          363.8194286693244,
          364.88130759744774,
          365.65457369388264,
          365.65457369388264,
          366.02839085232114,
          367.8588745847962,
          368.1723638158064,
          369.1052855469451,
          369.52179900033474,
          369.7838330736886,
          369.9934710894124,
          370.73300951580666,
          370.7843775762481,
          370.9984113687101,
          371.2718651402472,
          371.44434562983963,
          371.73384976894664,
          372.224647685234,
          372.3674992889362,
          372.53106896312073,
          372.9658502935422,
          373.20929264765,
          374.4939247981931,
          374.7229520005292,
          374.78607979511054,
          374.9997614273561,
          376.1286019076023,
          376.2694166703999,
          376.2694166703999,
          379.1154924801731,
          380.41747075129547,
          380.5950121606963,
          382.854119211079,
          382.854119211079,
          387.05339465391984,
          391.7286389451438,
          393.3824519729062,
          341.73937912501395,
          346.35034830966623,
          347.03265533083226,
          347.41207006458774,
          351.36143618895954,
          352.6698077178222,
          354.36535169775783,
          354.74201192634143,
          356.6991293469381,
          358.63423423016394,
          360.099004379823,
          361.52466131979776,
          362.0226172875552,
          362.026135141724,
          362.8328335497407,
          362.849756851671,
          363.07764144071365,
          364.26840297584334,
          364.28728553022927,
          368.3388589571237,
          368.90861003636127,
          368.94624341410935,
          368.9670422736481,
          370.14552137240315,
          370.8757152209511,
          370.9253271936054,
          372.5728263888575,
          375.50278670085095,
          375.52652193826634,
          375.7146514419944,
          377.9421602963221,
          379.5630560405303,
          379.68623492462063,
          385.4179353204312,
          386.0288387329702,
          388.1148788970531,
          388.37844747672193,
          389.7413193447094,
          395.7152810624031,
          398.77398676364845
         ],
         "y0": " ",
         "yaxis": "y"
        },
        {
         "alignmentgroup": "True",
         "boxpoints": "outliers",
         "hovertemplate": "model=resnet<br>preproc_type=%{x}<br>rmse=%{y}<extra></extra>",
         "legendgroup": "resnet",
         "marker": {
          "color": "#19d3f3"
         },
         "name": "resnet",
         "notched": false,
         "offsetgroup": "resnet",
         "orientation": "v",
         "showlegend": true,
         "type": "box",
         "x": [
          "Safe",
          "Safe",
          "Safe",
          "Safe",
          "Safe",
          "Safe",
          "Safe",
          "Safe",
          "Safe",
          "Safe",
          "Safe",
          "Safe",
          "Safe",
          "Safe",
          "Safe",
          "Safe",
          "Safe",
          "Safe",
          "Safe",
          "Safe",
          "Safe",
          "Safe",
          "Safe",
          "Safe",
          "Safe",
          "Safe",
          "Safe",
          "Safe",
          "Safe",
          "Safe",
          "Safe",
          "Safe",
          "Safe",
          "Safe",
          "Safe",
          "Safe",
          "Safe",
          "Safe",
          "Safe",
          "Safe",
          "Safe",
          "Safe",
          "Safe",
          "Safe",
          "Safe",
          "Safe",
          "Safe",
          "Safe",
          "Safe",
          "Safe",
          "Safe",
          "Safe",
          "Safe",
          "Safe",
          "Safe",
          "Safe",
          "Unsafe (['stem'])",
          "Unsafe (['stem'])",
          "Unsafe (['stem'])",
          "Unsafe (['stem'])",
          "Unsafe (['stem'])",
          "Unsafe (['stem'])",
          "Unsafe (['stem'])",
          "Unsafe (['stem'])",
          "Unsafe (['stem'])",
          "Unsafe (['stem'])",
          "Unsafe (['stem'])",
          "Unsafe (['stem'])",
          "Unsafe (['stem'])",
          "Unsafe (['stem'])",
          "Unsafe (['stem'])",
          "Unsafe (['stem'])",
          "Unsafe (['stem'])",
          "Unsafe (['stem'])",
          "Unsafe (['stem'])",
          "Unsafe (['stem'])",
          "Unsafe (['stem'])",
          "Unsafe (['stem'])",
          "Unsafe (['stem'])",
          "Unsafe (['stem'])"
         ],
         "x0": " ",
         "xaxis": "x",
         "y": [
          336.3351739395896,
          336.8335200998433,
          336.8591724846095,
          337.5988671166009,
          337.9748343805495,
          339.541484845856,
          341.56155651982795,
          344.70917584583214,
          344.7681872587935,
          344.9162252396897,
          346.4082543063963,
          346.84779563276646,
          347.58230329110717,
          349.2758628342209,
          349.74731365656083,
          350.29939244677956,
          350.6462899837157,
          351.0253572516627,
          351.31390493750945,
          351.3293125051709,
          351.92959765326276,
          352.51364608339475,
          352.6316692522216,
          353.08244032067927,
          353.0838869420854,
          353.5893263783249,
          354.6199450795406,
          354.91046588833,
          355.9401747785815,
          356.3133229287219,
          357.3378689586965,
          357.70510125551914,
          359.22752334396586,
          359.585543533579,
          359.9429722259473,
          360.10752534130694,
          360.4603882841269,
          360.8514829437244,
          360.9839473909152,
          361.25804441501856,
          362.32222747461407,
          363.0239181814165,
          364.0193204711598,
          364.5668946789429,
          365.036764558557,
          365.25388299105725,
          365.3041734388673,
          365.6946530737583,
          366.06220001115344,
          366.8519451239413,
          367.43688107707527,
          368.52091726169806,
          370.65760437810036,
          375.9734045572443,
          378.27063680495627,
          383.02898217912934,
          332.0048347202477,
          338.48460706558797,
          339.9439793598518,
          342.6541438788124,
          342.66038394171005,
          343.4001405466925,
          348.5777695564028,
          350.37150443864977,
          350.513723721203,
          350.88307844273106,
          352.3140587355279,
          354.8457934551521,
          356.92774844375293,
          360.7153568184963,
          363.3237442781769,
          365.4177951397347,
          368.2894080382948,
          369.7780359153365,
          369.8948160224413,
          370.4380462873185,
          375.9770076861147,
          376.78291641115504,
          377.51326173270786,
          390.1381354286694
         ],
         "y0": " ",
         "yaxis": "y"
        },
        {
         "alignmentgroup": "True",
         "boxpoints": "outliers",
         "hovertemplate": "model=deep_linear<br>preproc_type=%{x}<br>rmse=%{y}<extra></extra>",
         "legendgroup": "deep_linear",
         "marker": {
          "color": "#FF6692"
         },
         "name": "deep_linear",
         "notched": false,
         "offsetgroup": "deep_linear",
         "orientation": "v",
         "showlegend": true,
         "type": "box",
         "x": [
          "Safe",
          "Safe",
          "Safe",
          "Safe",
          "Safe",
          "Safe",
          "Safe",
          "Safe",
          "Safe",
          "Safe",
          "Safe",
          "Safe",
          "Safe",
          "Safe",
          "Safe",
          "Safe",
          "Safe",
          "Safe",
          "Safe",
          "Safe",
          "Safe",
          "Safe",
          "Safe",
          "Safe",
          "Safe",
          "Safe",
          "Safe",
          "Safe",
          "Safe",
          "Safe",
          "Safe",
          "Safe",
          "Safe",
          "Safe",
          "Safe",
          "Safe",
          "Safe",
          "Safe",
          "Safe",
          "Safe",
          "Safe",
          "Safe",
          "Safe",
          "Safe",
          "Safe",
          "Safe",
          "Safe",
          "Safe",
          "Safe",
          "Safe",
          "Safe",
          "Safe",
          "Safe",
          "Safe",
          "Safe",
          "Safe",
          "Safe",
          "Safe",
          "Safe",
          "Safe",
          "Safe",
          "Safe",
          "Safe",
          "Safe",
          "Safe",
          "Safe",
          "Safe",
          "Safe",
          "Safe",
          "Safe",
          "Safe",
          "Safe",
          "Safe",
          "Safe",
          "Safe",
          "Safe",
          "Safe",
          "Safe",
          "Safe",
          "Safe",
          "Safe",
          "Safe",
          "Safe",
          "Safe",
          "Safe",
          "Safe",
          "Safe",
          "Safe",
          "Safe",
          "Safe",
          "Safe",
          "Safe",
          "Safe",
          "Safe",
          "Safe",
          "Safe",
          "Safe",
          "Safe",
          "Safe",
          "Safe",
          "Unsafe (['stem'])",
          "Unsafe (['stem'])",
          "Unsafe (['stem'])",
          "Unsafe (['stem'])",
          "Unsafe (['stem'])",
          "Unsafe (['stem'])",
          "Unsafe (['stem'])",
          "Unsafe (['stem'])",
          "Unsafe (['stem'])",
          "Unsafe (['stem'])",
          "Unsafe (['stem'])",
          "Unsafe (['stem'])",
          "Unsafe (['stem'])",
          "Unsafe (['stem'])",
          "Unsafe (['stem'])",
          "Unsafe (['stem'])",
          "Unsafe (['stem'])",
          "Unsafe (['stem'])",
          "Unsafe (['stem'])",
          "Unsafe (['stem'])",
          "Unsafe (['stem'])",
          "Unsafe (['stem'])",
          "Unsafe (['stem'])",
          "Unsafe (['stem'])"
         ],
         "x0": " ",
         "xaxis": "x",
         "y": [
          347.0141209772471,
          347.46799393338375,
          348.41011530741076,
          348.41962699372687,
          348.50457546165956,
          348.61908268886566,
          348.6716869328035,
          348.9703867724513,
          349.02414312168804,
          349.03036184294484,
          349.04017537813047,
          349.1965941402116,
          349.23751047489844,
          349.3279625093249,
          349.37162517811197,
          349.37537321542425,
          349.40465243002933,
          349.43919144210247,
          349.87701756783974,
          350.06693498838104,
          350.1949826413795,
          350.2843877997468,
          350.68205486571253,
          350.7739509101003,
          350.78275671424836,
          350.8358069292958,
          351.22109175659654,
          351.231930676306,
          351.3254948239948,
          351.8306927690175,
          351.8468011579895,
          352.1743319068449,
          352.41515822828916,
          352.6279312841654,
          352.81046930747533,
          352.8620526122858,
          353.0294081920973,
          353.1151182093502,
          353.1739941797307,
          353.21342753476205,
          353.68082534058703,
          353.9919067000957,
          354.13967330331985,
          354.3660847119559,
          354.88937440743456,
          354.9032814765862,
          355.0338531752973,
          355.6040367861931,
          355.8245888970643,
          356.84132909003364,
          356.98562678393165,
          357.976700682603,
          359.1157001004959,
          359.272442432111,
          359.67294314191514,
          361.013226377878,
          361.9992545748583,
          363.2347751283879,
          364.2161913691774,
          365.74543909929184,
          366.3196957860713,
          366.48899989726215,
          374.31364671418106,
          380.3029536467347,
          395.48310894665536,
          395.8022871959019,
          395.8022871959019,
          396.2435672043826,
          396.81847398599035,
          396.85571070939767,
          397.01146325129235,
          397.4522613326406,
          397.4642401618922,
          397.6446494334573,
          397.6446494334573,
          397.8692259341138,
          397.8692259341138,
          398.05072784887494,
          398.1208598039466,
          398.1208598039466,
          398.5571539927195,
          399.70999641110814,
          400.22875457374914,
          400.6501558807895,
          401.1433870234501,
          401.58128588853543,
          402.34658073284925,
          402.9832966975721,
          431.64539741273086,
          432.010309371242,
          432.0498402125762,
          432.2060562869685,
          432.3037237820714,
          432.3512296175998,
          432.35328301335255,
          432.4130428612226,
          432.7764937703638,
          432.92107894207925,
          433.4197219235252,
          434.4399713764995,
          348.1711070939988,
          349.0705664824753,
          349.12113101810587,
          349.2625917441977,
          349.5485828283458,
          349.57263945412586,
          349.7812956218617,
          349.80690329770636,
          349.933912210853,
          350.4150112538761,
          350.6427108952664,
          350.89342673343697,
          351.78153245464944,
          351.9710491200743,
          352.4833673836635,
          353.1124817455461,
          353.606273349257,
          353.79333173049474,
          355.45024575788625,
          357.73883631466583,
          357.85157603954525,
          358.5018560050089,
          359.12411026638614,
          372.94570734635766
         ],
         "y0": " ",
         "yaxis": "y"
        },
        {
         "alignmentgroup": "True",
         "boxpoints": "outliers",
         "hovertemplate": "model=resnet_ft<br>preproc_type=%{x}<br>rmse=%{y}<extra></extra>",
         "legendgroup": "resnet_ft",
         "marker": {
          "color": "#B6E880"
         },
         "name": "resnet_ft",
         "notched": false,
         "offsetgroup": "resnet_ft",
         "orientation": "v",
         "showlegend": true,
         "type": "box",
         "x": [
          "Safe",
          "Safe",
          "Safe",
          "Safe",
          "Safe",
          "Safe",
          "Safe",
          "Safe",
          "Safe",
          "Safe",
          "Safe",
          "Safe",
          "Unsafe (['stem'])",
          "Unsafe (['stem'])",
          "Unsafe (['stem'])",
          "Unsafe (['stem'])",
          "Unsafe (['stem'])",
          "Unsafe (['stem'])",
          "Unsafe (['stem'])",
          "Unsafe (['stem'])",
          "Unsafe (['stem'])",
          "Unsafe (['stem'])",
          "Unsafe (['stem'])",
          "Unsafe (['stem'])"
         ],
         "x0": " ",
         "xaxis": "x",
         "y": [
          351.3377469312316,
          358.1030152770202,
          359.942952652981,
          360.4603648959505,
          361.9404734647899,
          363.35087278437527,
          370.62188050813205,
          370.6576278305256,
          374.66451596763966,
          375.5534021021255,
          375.7072909743442,
          383.02889980245436,
          367.4069798555944,
          368.4912307839422,
          370.3860078978548,
          372.79629983440424,
          380.06320522771983,
          381.59657576653046,
          383.2772263110119,
          384.0900696184098,
          387.7165306825249,
          390.20608760747695,
          405.3318442184889,
          422.6355509196624
         ],
         "y0": " ",
         "yaxis": "y"
        }
       ],
       "layout": {
        "boxmode": "group",
        "legend": {
         "title": {
          "text": "model"
         },
         "tracegroupgap": 0
        },
        "showlegend": true,
        "template": {
         "data": {
          "bar": [
           {
            "error_x": {
             "color": "#2a3f5f"
            },
            "error_y": {
             "color": "#2a3f5f"
            },
            "marker": {
             "line": {
              "color": "#E5ECF6",
              "width": 0.5
             },
             "pattern": {
              "fillmode": "overlay",
              "size": 10,
              "solidity": 0.2
             }
            },
            "type": "bar"
           }
          ],
          "barpolar": [
           {
            "marker": {
             "line": {
              "color": "#E5ECF6",
              "width": 0.5
             },
             "pattern": {
              "fillmode": "overlay",
              "size": 10,
              "solidity": 0.2
             }
            },
            "type": "barpolar"
           }
          ],
          "carpet": [
           {
            "aaxis": {
             "endlinecolor": "#2a3f5f",
             "gridcolor": "white",
             "linecolor": "white",
             "minorgridcolor": "white",
             "startlinecolor": "#2a3f5f"
            },
            "baxis": {
             "endlinecolor": "#2a3f5f",
             "gridcolor": "white",
             "linecolor": "white",
             "minorgridcolor": "white",
             "startlinecolor": "#2a3f5f"
            },
            "type": "carpet"
           }
          ],
          "choropleth": [
           {
            "colorbar": {
             "outlinewidth": 0,
             "ticks": ""
            },
            "type": "choropleth"
           }
          ],
          "contour": [
           {
            "colorbar": {
             "outlinewidth": 0,
             "ticks": ""
            },
            "colorscale": [
             [
              0,
              "#0d0887"
             ],
             [
              0.1111111111111111,
              "#46039f"
             ],
             [
              0.2222222222222222,
              "#7201a8"
             ],
             [
              0.3333333333333333,
              "#9c179e"
             ],
             [
              0.4444444444444444,
              "#bd3786"
             ],
             [
              0.5555555555555556,
              "#d8576b"
             ],
             [
              0.6666666666666666,
              "#ed7953"
             ],
             [
              0.7777777777777778,
              "#fb9f3a"
             ],
             [
              0.8888888888888888,
              "#fdca26"
             ],
             [
              1,
              "#f0f921"
             ]
            ],
            "type": "contour"
           }
          ],
          "contourcarpet": [
           {
            "colorbar": {
             "outlinewidth": 0,
             "ticks": ""
            },
            "type": "contourcarpet"
           }
          ],
          "heatmap": [
           {
            "colorbar": {
             "outlinewidth": 0,
             "ticks": ""
            },
            "colorscale": [
             [
              0,
              "#0d0887"
             ],
             [
              0.1111111111111111,
              "#46039f"
             ],
             [
              0.2222222222222222,
              "#7201a8"
             ],
             [
              0.3333333333333333,
              "#9c179e"
             ],
             [
              0.4444444444444444,
              "#bd3786"
             ],
             [
              0.5555555555555556,
              "#d8576b"
             ],
             [
              0.6666666666666666,
              "#ed7953"
             ],
             [
              0.7777777777777778,
              "#fb9f3a"
             ],
             [
              0.8888888888888888,
              "#fdca26"
             ],
             [
              1,
              "#f0f921"
             ]
            ],
            "type": "heatmap"
           }
          ],
          "heatmapgl": [
           {
            "colorbar": {
             "outlinewidth": 0,
             "ticks": ""
            },
            "colorscale": [
             [
              0,
              "#0d0887"
             ],
             [
              0.1111111111111111,
              "#46039f"
             ],
             [
              0.2222222222222222,
              "#7201a8"
             ],
             [
              0.3333333333333333,
              "#9c179e"
             ],
             [
              0.4444444444444444,
              "#bd3786"
             ],
             [
              0.5555555555555556,
              "#d8576b"
             ],
             [
              0.6666666666666666,
              "#ed7953"
             ],
             [
              0.7777777777777778,
              "#fb9f3a"
             ],
             [
              0.8888888888888888,
              "#fdca26"
             ],
             [
              1,
              "#f0f921"
             ]
            ],
            "type": "heatmapgl"
           }
          ],
          "histogram": [
           {
            "marker": {
             "pattern": {
              "fillmode": "overlay",
              "size": 10,
              "solidity": 0.2
             }
            },
            "type": "histogram"
           }
          ],
          "histogram2d": [
           {
            "colorbar": {
             "outlinewidth": 0,
             "ticks": ""
            },
            "colorscale": [
             [
              0,
              "#0d0887"
             ],
             [
              0.1111111111111111,
              "#46039f"
             ],
             [
              0.2222222222222222,
              "#7201a8"
             ],
             [
              0.3333333333333333,
              "#9c179e"
             ],
             [
              0.4444444444444444,
              "#bd3786"
             ],
             [
              0.5555555555555556,
              "#d8576b"
             ],
             [
              0.6666666666666666,
              "#ed7953"
             ],
             [
              0.7777777777777778,
              "#fb9f3a"
             ],
             [
              0.8888888888888888,
              "#fdca26"
             ],
             [
              1,
              "#f0f921"
             ]
            ],
            "type": "histogram2d"
           }
          ],
          "histogram2dcontour": [
           {
            "colorbar": {
             "outlinewidth": 0,
             "ticks": ""
            },
            "colorscale": [
             [
              0,
              "#0d0887"
             ],
             [
              0.1111111111111111,
              "#46039f"
             ],
             [
              0.2222222222222222,
              "#7201a8"
             ],
             [
              0.3333333333333333,
              "#9c179e"
             ],
             [
              0.4444444444444444,
              "#bd3786"
             ],
             [
              0.5555555555555556,
              "#d8576b"
             ],
             [
              0.6666666666666666,
              "#ed7953"
             ],
             [
              0.7777777777777778,
              "#fb9f3a"
             ],
             [
              0.8888888888888888,
              "#fdca26"
             ],
             [
              1,
              "#f0f921"
             ]
            ],
            "type": "histogram2dcontour"
           }
          ],
          "mesh3d": [
           {
            "colorbar": {
             "outlinewidth": 0,
             "ticks": ""
            },
            "type": "mesh3d"
           }
          ],
          "parcoords": [
           {
            "line": {
             "colorbar": {
              "outlinewidth": 0,
              "ticks": ""
             }
            },
            "type": "parcoords"
           }
          ],
          "pie": [
           {
            "automargin": true,
            "type": "pie"
           }
          ],
          "scatter": [
           {
            "fillpattern": {
             "fillmode": "overlay",
             "size": 10,
             "solidity": 0.2
            },
            "type": "scatter"
           }
          ],
          "scatter3d": [
           {
            "line": {
             "colorbar": {
              "outlinewidth": 0,
              "ticks": ""
             }
            },
            "marker": {
             "colorbar": {
              "outlinewidth": 0,
              "ticks": ""
             }
            },
            "type": "scatter3d"
           }
          ],
          "scattercarpet": [
           {
            "marker": {
             "colorbar": {
              "outlinewidth": 0,
              "ticks": ""
             }
            },
            "type": "scattercarpet"
           }
          ],
          "scattergeo": [
           {
            "marker": {
             "colorbar": {
              "outlinewidth": 0,
              "ticks": ""
             }
            },
            "type": "scattergeo"
           }
          ],
          "scattergl": [
           {
            "marker": {
             "colorbar": {
              "outlinewidth": 0,
              "ticks": ""
             }
            },
            "type": "scattergl"
           }
          ],
          "scattermapbox": [
           {
            "marker": {
             "colorbar": {
              "outlinewidth": 0,
              "ticks": ""
             }
            },
            "type": "scattermapbox"
           }
          ],
          "scatterpolar": [
           {
            "marker": {
             "colorbar": {
              "outlinewidth": 0,
              "ticks": ""
             }
            },
            "type": "scatterpolar"
           }
          ],
          "scatterpolargl": [
           {
            "marker": {
             "colorbar": {
              "outlinewidth": 0,
              "ticks": ""
             }
            },
            "type": "scatterpolargl"
           }
          ],
          "scatterternary": [
           {
            "marker": {
             "colorbar": {
              "outlinewidth": 0,
              "ticks": ""
             }
            },
            "type": "scatterternary"
           }
          ],
          "surface": [
           {
            "colorbar": {
             "outlinewidth": 0,
             "ticks": ""
            },
            "colorscale": [
             [
              0,
              "#0d0887"
             ],
             [
              0.1111111111111111,
              "#46039f"
             ],
             [
              0.2222222222222222,
              "#7201a8"
             ],
             [
              0.3333333333333333,
              "#9c179e"
             ],
             [
              0.4444444444444444,
              "#bd3786"
             ],
             [
              0.5555555555555556,
              "#d8576b"
             ],
             [
              0.6666666666666666,
              "#ed7953"
             ],
             [
              0.7777777777777778,
              "#fb9f3a"
             ],
             [
              0.8888888888888888,
              "#fdca26"
             ],
             [
              1,
              "#f0f921"
             ]
            ],
            "type": "surface"
           }
          ],
          "table": [
           {
            "cells": {
             "fill": {
              "color": "#EBF0F8"
             },
             "line": {
              "color": "white"
             }
            },
            "header": {
             "fill": {
              "color": "#C8D4E3"
             },
             "line": {
              "color": "white"
             }
            },
            "type": "table"
           }
          ]
         },
         "layout": {
          "annotationdefaults": {
           "arrowcolor": "#2a3f5f",
           "arrowhead": 0,
           "arrowwidth": 1
          },
          "autotypenumbers": "strict",
          "coloraxis": {
           "colorbar": {
            "outlinewidth": 0,
            "ticks": ""
           }
          },
          "colorscale": {
           "diverging": [
            [
             0,
             "#8e0152"
            ],
            [
             0.1,
             "#c51b7d"
            ],
            [
             0.2,
             "#de77ae"
            ],
            [
             0.3,
             "#f1b6da"
            ],
            [
             0.4,
             "#fde0ef"
            ],
            [
             0.5,
             "#f7f7f7"
            ],
            [
             0.6,
             "#e6f5d0"
            ],
            [
             0.7,
             "#b8e186"
            ],
            [
             0.8,
             "#7fbc41"
            ],
            [
             0.9,
             "#4d9221"
            ],
            [
             1,
             "#276419"
            ]
           ],
           "sequential": [
            [
             0,
             "#0d0887"
            ],
            [
             0.1111111111111111,
             "#46039f"
            ],
            [
             0.2222222222222222,
             "#7201a8"
            ],
            [
             0.3333333333333333,
             "#9c179e"
            ],
            [
             0.4444444444444444,
             "#bd3786"
            ],
            [
             0.5555555555555556,
             "#d8576b"
            ],
            [
             0.6666666666666666,
             "#ed7953"
            ],
            [
             0.7777777777777778,
             "#fb9f3a"
            ],
            [
             0.8888888888888888,
             "#fdca26"
            ],
            [
             1,
             "#f0f921"
            ]
           ],
           "sequentialminus": [
            [
             0,
             "#0d0887"
            ],
            [
             0.1111111111111111,
             "#46039f"
            ],
            [
             0.2222222222222222,
             "#7201a8"
            ],
            [
             0.3333333333333333,
             "#9c179e"
            ],
            [
             0.4444444444444444,
             "#bd3786"
            ],
            [
             0.5555555555555556,
             "#d8576b"
            ],
            [
             0.6666666666666666,
             "#ed7953"
            ],
            [
             0.7777777777777778,
             "#fb9f3a"
            ],
            [
             0.8888888888888888,
             "#fdca26"
            ],
            [
             1,
             "#f0f921"
            ]
           ]
          },
          "colorway": [
           "#636efa",
           "#EF553B",
           "#00cc96",
           "#ab63fa",
           "#FFA15A",
           "#19d3f3",
           "#FF6692",
           "#B6E880",
           "#FF97FF",
           "#FECB52"
          ],
          "font": {
           "color": "#2a3f5f"
          },
          "geo": {
           "bgcolor": "white",
           "lakecolor": "white",
           "landcolor": "#E5ECF6",
           "showlakes": true,
           "showland": true,
           "subunitcolor": "white"
          },
          "hoverlabel": {
           "align": "left"
          },
          "hovermode": "closest",
          "mapbox": {
           "style": "light"
          },
          "paper_bgcolor": "white",
          "plot_bgcolor": "#E5ECF6",
          "polar": {
           "angularaxis": {
            "gridcolor": "white",
            "linecolor": "white",
            "ticks": ""
           },
           "bgcolor": "#E5ECF6",
           "radialaxis": {
            "gridcolor": "white",
            "linecolor": "white",
            "ticks": ""
           }
          },
          "scene": {
           "xaxis": {
            "backgroundcolor": "#E5ECF6",
            "gridcolor": "white",
            "gridwidth": 2,
            "linecolor": "white",
            "showbackground": true,
            "ticks": "",
            "zerolinecolor": "white"
           },
           "yaxis": {
            "backgroundcolor": "#E5ECF6",
            "gridcolor": "white",
            "gridwidth": 2,
            "linecolor": "white",
            "showbackground": true,
            "ticks": "",
            "zerolinecolor": "white"
           },
           "zaxis": {
            "backgroundcolor": "#E5ECF6",
            "gridcolor": "white",
            "gridwidth": 2,
            "linecolor": "white",
            "showbackground": true,
            "ticks": "",
            "zerolinecolor": "white"
           }
          },
          "shapedefaults": {
           "line": {
            "color": "#2a3f5f"
           }
          },
          "ternary": {
           "aaxis": {
            "gridcolor": "white",
            "linecolor": "white",
            "ticks": ""
           },
           "baxis": {
            "gridcolor": "white",
            "linecolor": "white",
            "ticks": ""
           },
           "bgcolor": "#E5ECF6",
           "caxis": {
            "gridcolor": "white",
            "linecolor": "white",
            "ticks": ""
           }
          },
          "title": {
           "x": 0.05
          },
          "xaxis": {
           "automargin": true,
           "gridcolor": "white",
           "linecolor": "white",
           "ticks": "",
           "title": {
            "standoff": 15
           },
           "zerolinecolor": "white",
           "zerolinewidth": 2
          },
          "yaxis": {
           "automargin": true,
           "gridcolor": "white",
           "linecolor": "white",
           "ticks": "",
           "title": {
            "standoff": 15
           },
           "zerolinecolor": "white",
           "zerolinewidth": 2
          }
         }
        },
        "title": {
         "text": "Performance with Safe vs Unsafe Preprocessors"
        },
        "xaxis": {
         "anchor": "y",
         "domain": [
          0,
          1
         ],
         "title": {
          "text": "Preprocessor Type"
         }
        },
        "yaxis": {
         "anchor": "x",
         "domain": [
          0,
          1
         ],
         "title": {
          "text": "Rmse"
         }
        }
       }
      }
     },
     "metadata": {},
     "output_type": "display_data"
    }
   ],
   "source": [
    "\n",
    "# Condition on unsafe preprocessers\n",
    "unsafe_results = filtered_results[filtered_results[\"preprocessers\"].apply(\n",
    "    lambda x: any(y in unsafe_preproc for y in x)\n",
    ")]\n",
    "\n",
    "# Condition on safe preprocessers\n",
    "safe_results = filtered_results[filtered_results[\"preprocessers\"].apply(\n",
    "    lambda x: all(y in safe_preproc for y in x)\n",
    ")]\n",
    "\n",
    "# Create boxplot comparing safe vs unsafe preprocessers\n",
    "fig = px.box(\n",
    "    pd.concat([\n",
    "        safe_results.assign(preproc_type=f\"Safe\"),\n",
    "        unsafe_results.assign(preproc_type=f\"Unsafe ({unsafe_preproc})\")\n",
    "    ]),\n",
    "    x=\"preproc_type\",\n",
    "    y=metric,\n",
    "    points=\"outliers\",\n",
    "    color=\"model\",\n",
    "    title=\"Performance with Safe vs Unsafe Preprocessors\"\n",
    ")\n",
    "\n",
    "fig.update_layout(\n",
    "    xaxis_title=\"Preprocessor Type\",\n",
    "    yaxis_title=metric.replace(\"_\", \" \").title(),\n",
    "    showlegend=True,\n",
    "    boxmode='group'\n",
    ")"
   ]
  },
  {
   "cell_type": "code",
   "execution_count": 61,
   "metadata": {},
   "outputs": [],
   "source": [
    "\n",
    "fig.write_image(\n",
    "    OUTPUT_DIR / dataset / \"1d_boxplots\" / f\"{config_str}_safe_vs_unsafe_preprocessers.{image_ext}\",\n",
    "    height=SAVE_HEIGHT,\n",
    "    width=SAVE_WIDTH,\n",
    "    scale=2\n",
    ")"
   ]
  },
  {
   "cell_type": "code",
   "execution_count": 62,
   "metadata": {},
   "outputs": [
    {
     "name": "stderr",
     "output_type": "stream",
     "text": [
      "2025-03-11 11:39:37,496 - analysis - INFO - \n",
      "Permutation Test Results for Safe vs Unsafe Preprocessors:\n",
      "2025-03-11 11:39:37,497 - analysis - INFO - Observed difference in means (safe - unsafe): -9.17; n = 456, m = 164\n",
      "2025-03-11 11:39:37,498 - analysis - INFO - P-value: 0.0001\n",
      "2025-03-11 11:39:37,498 - analysis - INFO - Statistically different at 0.05 significance\n"
     ]
    }
   ],
   "source": [
    "# Run statistical test\n",
    "p_value, observed_diff = permutation_test(\n",
    "    safe_results[metric], \n",
    "    unsafe_results[metric]\n",
    ")\n",
    "\n",
    "logger.info(f\"\\nPermutation Test Results for Safe vs Unsafe Preprocessors:\")\n",
    "logger.info(f\"Observed difference in means (safe - unsafe): {observed_diff:.2f}; n = {len(safe_results)}, m = {len(unsafe_results)}\")\n",
    "logger.info(f\"P-value: {p_value:.4f}\")\n",
    "logger.info(f\"Statistically {'different' if p_value < alpha else 'not different'} at {alpha} significance\")\n"
   ]
  },
  {
   "cell_type": "markdown",
   "metadata": {},
   "source": [
    "## Systematically, each preprocesser"
   ]
  },
  {
   "cell_type": "code",
   "execution_count": 63,
   "metadata": {},
   "outputs": [
    {
     "name": "stderr",
     "output_type": "stream",
     "text": [
      "2025-03-11 11:39:46,255 - analysis - INFO - \n",
      "Permutation Test Results for lowercase:\n",
      "2025-03-11 11:39:46,256 - analysis - INFO - Observed difference in means (with - without): 4.93; n = 220, m = 400\n",
      "2025-03-11 11:39:46,256 - analysis - INFO - P-value: 0.0228\n",
      "2025-03-11 11:39:46,257 - analysis - INFO - Statistically different at 0.05 significance\n",
      "2025-03-11 11:39:48,736 - analysis - INFO - \n",
      "Permutation Test Results for lemmatize:\n",
      "2025-03-11 11:39:48,736 - analysis - INFO - Observed difference in means (with - without): -1.81; n = 156, m = 464\n",
      "2025-03-11 11:39:48,737 - analysis - INFO - P-value: 0.4521\n",
      "2025-03-11 11:39:48,738 - analysis - INFO - Statistically not different at 0.05 significance\n",
      "2025-03-11 11:39:51,097 - analysis - INFO - \n",
      "Permutation Test Results for empty:\n",
      "2025-03-11 11:39:51,098 - analysis - INFO - Observed difference in means (with - without): -6.46; n = 168, m = 452\n",
      "2025-03-11 11:39:51,099 - analysis - INFO - P-value: 0.0062\n",
      "2025-03-11 11:39:51,099 - analysis - INFO - Statistically different at 0.05 significance\n",
      "2025-03-11 11:39:53,492 - analysis - INFO - \n",
      "Permutation Test Results for no_punctuation:\n",
      "2025-03-11 11:39:53,493 - analysis - INFO - Observed difference in means (with - without): 1.17; n = 196, m = 424\n",
      "2025-03-11 11:39:53,493 - analysis - INFO - P-value: 0.6037\n",
      "2025-03-11 11:39:53,494 - analysis - INFO - Statistically not different at 0.05 significance\n",
      "2025-03-11 11:39:56,009 - analysis - INFO - \n",
      "Permutation Test Results for no_stopwords_spacy:\n",
      "2025-03-11 11:39:56,010 - analysis - INFO - Observed difference in means (with - without): 4.38; n = 140, m = 480\n",
      "2025-03-11 11:39:56,010 - analysis - INFO - P-value: 0.0792\n",
      "2025-03-11 11:39:56,011 - analysis - INFO - Statistically not different at 0.05 significance\n",
      "2025-03-11 11:39:58,446 - analysis - INFO - \n",
      "Permutation Test Results for stem:\n",
      "2025-03-11 11:39:58,446 - analysis - INFO - Observed difference in means (with - without): 9.17; n = 164, m = 456\n",
      "2025-03-11 11:39:58,447 - analysis - INFO - P-value: 0.0001\n",
      "2025-03-11 11:39:58,448 - analysis - INFO - Statistically different at 0.05 significance\n",
      "2025-03-11 11:40:00,853 - analysis - INFO - \n",
      "Permutation Test Results for no_stopwords_nltk:\n",
      "2025-03-11 11:40:00,853 - analysis - INFO - Observed difference in means (with - without): -6.46; n = 120, m = 500\n",
      "2025-03-11 11:40:00,854 - analysis - INFO - P-value: 0.0146\n",
      "2025-03-11 11:40:00,855 - analysis - INFO - Statistically different at 0.05 significance\n"
     ]
    }
   ],
   "source": [
    "# Create plots for each preprocesser showing performance with/without\n",
    "\n",
    "for preprocesser in all_preproc:\n",
    "    # Create mask for results that include this preprocesser\n",
    "    uses_specifically = filtered_results['preprocessers'].apply(lambda x: preprocesser in x)\n",
    "    \n",
    "    # Split data\n",
    "    with_prep = filtered_results[uses_specifically].copy()\n",
    "    without_prep = filtered_results[~uses_specifically].copy()\n",
    "    \n",
    "    # Add labels\n",
    "    with_prep['preprocesser_usage'] = f'With {preprocesser}'\n",
    "    without_prep['preprocesser_usage'] = f'Without {preprocesser}'\n",
    "    \n",
    "    # Combine data\n",
    "    plot_data = pd.concat([with_prep, without_prep])\n",
    "    \n",
    "    # Create plot\n",
    "    fig = px.box(\n",
    "        plot_data,\n",
    "        x='preprocesser_usage',\n",
    "        y=metric,\n",
    "        color='model',\n",
    "        points='outliers',\n",
    "        title=f'Performance With vs Without {preprocesser}'\n",
    "    )\n",
    "    \n",
    "    fig.update_layout(\n",
    "        xaxis_title='Preprocesser Usage',\n",
    "        yaxis_title=metric.replace('_', ' ').title(),\n",
    "        showlegend=True,\n",
    "        boxmode='group'\n",
    "    )\n",
    "    \n",
    "    # Save plot\n",
    "    plot_dir = OUTPUT_DIR / dataset / '1d_boxplots' / 'preprocessers'\n",
    "    plot_dir.mkdir(parents=True, exist_ok=True)\n",
    "    fig.write_image(\n",
    "        plot_dir / f'{config_str}_with_without_{preprocesser}.{image_ext}',\n",
    "        height=SAVE_HEIGHT,\n",
    "        width=SAVE_WIDTH,\n",
    "        scale=2\n",
    "    )\n",
    "    \n",
    "    # Run statistical test\n",
    "    p_value, observed_diff = permutation_test(\n",
    "        with_prep[metric],\n",
    "        without_prep[metric]\n",
    "    )\n",
    "    \n",
    "    logger.info(f\"\\nPermutation Test Results for {preprocesser}:\")\n",
    "    logger.info(f\"Observed difference in means (with - without): {observed_diff:.2f}; n = {len(with_prep)}, m = {len(without_prep)}\")\n",
    "    logger.info(f\"P-value: {p_value:.4f}\")\n",
    "    logger.info(f\"Statistically {'different' if p_value < alpha else 'not different'} at {alpha} significance\")\n",
    "\n"
   ]
  },
  {
   "cell_type": "markdown",
   "metadata": {},
   "source": [
    "Conclusion seems to be: don't use stemming; at least when looking at the model partitioned plots.\n",
    "\n",
    "Stopword removal also works irrespective of pipeline?"
   ]
  },
  {
   "cell_type": "markdown",
   "metadata": {},
   "source": [
    "# Vector embeddings for GBDTs"
   ]
  },
  {
   "cell_type": "code",
   "execution_count": 64,
   "metadata": {},
   "outputs": [
    {
     "name": "stdout",
     "output_type": "stream",
     "text": [
      "Saved to notebook_output/jc_penney_products/1d_boxplots/rmse_only_4_replicates_gbdt_w_wout_vec_embeddings_no_outliers.png\n",
      "Model order: ['catboost', 'xgboost']\n"
     ]
    }
   ],
   "source": [
    "vector_embeddings = [\"bert_cls\", \"bert_mean\", \"glove_mean\"]\n",
    "dl_models = [\"mlp\", \"resnet\", \"deep_linear\"]\n",
    "dl_models = dl_models + [f\"{x}_ft\" for x in dl_models]\n",
    "trad_nlp_with_dl_feat = filtered_results[\n",
    "    (~filtered_results[\"model\"].isin(dl_models)) &\n",
    "    (filtered_results[\"featuriser\"].isin(vector_embeddings))\n",
    "]\n",
    "trad_nlp_without_dl_feat = filtered_results[\n",
    "    (~filtered_results[\"model\"].isin(dl_models)) &\n",
    "    (~filtered_results[\"featuriser\"].isin(vector_embeddings))\n",
    "]\n",
    "trad_nlp_with_dl_feat = trad_nlp_with_dl_feat.sort_values(by=metric).reset_index(drop=True)\n",
    "trad_nlp_without_dl_feat = trad_nlp_without_dl_feat.sort_values(by=metric).reset_index(drop=True)\n",
    "\n",
    "w_embedding_label = \"w/ Vector Embeddings\"\n",
    "wout_embedding_label = \"w/o Vector Embeddings\"\n",
    "trad_nlp_with_dl_feat[\"model_type\"] = w_embedding_label\n",
    "trad_nlp_without_dl_feat[\"model_type\"] = wout_embedding_label\n",
    "joint = pd.concat([trad_nlp_with_dl_feat, trad_nlp_without_dl_feat])\n",
    "# Get unique models from both dataframes\n",
    "all_models = pd.concat([\n",
    "    trad_nlp_with_dl_feat['model'], \n",
    "    trad_nlp_without_dl_feat['model']\n",
    "]).unique()\n",
    "\n",
    "# Create color mapping using plotly's default color sequence\n",
    "from plotly.colors import qualitative\n",
    "def iqr_threshold(series):\n",
    "    q1 = series.quantile(0.25)\n",
    "    q3 = series.quantile(0.75)\n",
    "    return q3 + 1.5 * (q3 - q1) \n",
    "model_colors = {\n",
    "    model: qualitative.Set1[i] for i, model in enumerate(sorted(all_models))\n",
    "}\n",
    "model_order = sorted(all_models)\n",
    "\n",
    "save_name = f\"{config_str}_gbdt_w_wout_vec_embeddings\"\n",
    "\n",
    "to_plot = joint\n",
    "fig = px.box(\n",
    "    to_plot,\n",
    "    x=\"model_type\",\n",
    "    y=metric,\n",
    "    color=\"model\",\n",
    "    points=\"outliers\",\n",
    "    color_discrete_map=model_colors,  # Add this line,\n",
    "    category_orders={\"model\": model_order, \"model_type\": [w_embedding_label, wout_embedding_label]}\n",
    ")\n",
    "# fig.update_layout(title=\"Traditional NLP w/ and w/out vector embeddings\")\n",
    "fig.add_hline(y=perf_of_mean, line_dash=\"dash\", line_color=\"gray\")\n",
    "\n",
    "fig.write_image(\n",
    "    OUTPUT_DIR / dataset / \"1d_boxplots\" / f\"{save_name}.{image_ext}\",\n",
    "    height=SAVE_HEIGHT,\n",
    "    width=SAVE_WIDTH,\n",
    "    scale=2\n",
    ")\n",
    "\n",
    "# Replicate figure without outliers for easier reading\n",
    "\n",
    "save_name += \"_no_outliers\"\n",
    "threshold = iqr_threshold(joint[metric])\n",
    "k = 10\n",
    "without_worst_k = joint.sort_values(by=metric).head(len(joint)-k)\n",
    "to_plot = without_worst_k\n",
    "fig = px.box(\n",
    "    to_plot,\n",
    "    x=\"model_type\",\n",
    "    y=metric,\n",
    "    color=\"model\",\n",
    "    points=\"outliers\",\n",
    "    color_discrete_map=model_colors,  # Add this line,\n",
    "    category_orders={\"model\": model_order, \"model_type\": [w_embedding_label, wout_embedding_label]}\n",
    ")\n",
    "# fig.update_layout(title=\"Traditional NLP w/ and w/out vector embeddings\")\n",
    "fig.add_hline(y=perf_of_mean, line_dash=\"dash\", line_color=\"gray\")\n",
    "\n",
    "fig.write_image(\n",
    "    OUTPUT_DIR / dataset / \"1d_boxplots\" / f\"{save_name}.{image_ext}\",\n",
    "    height=SAVE_HEIGHT,\n",
    "    width=SAVE_WIDTH,\n",
    "    scale=2\n",
    ")\n",
    "print(f\"Saved to {OUTPUT_DIR / dataset / '1d_boxplots' / f'{save_name}.{image_ext}'}\")\n",
    "print(f\"Model order: {model_order}\")"
   ]
  },
  {
   "cell_type": "code",
   "execution_count": 65,
   "metadata": {},
   "outputs": [],
   "source": [
    "# Get scores for each group\n",
    "with_vec = trad_nlp_with_dl_feat[metric].values\n",
    "without_vec = trad_nlp_without_dl_feat[metric].values\n",
    "\n",
    "# Perform permutation test\n",
    "p_value, diff = permutation_test(without_vec, with_vec)\n",
    "comparison_df = pd.DataFrame({\n",
    "    'dataset': [dataset_name_map[dataset]],\n",
    "    'mean_difference (BoW - Vector)': [diff],\n",
    "    'p_value': [p_value]\n",
    "})\n",
    "\n",
    "latex_table = comparison_df.to_latex(\n",
    "    index=False,\n",
    "    float_format=lambda x: f\"{x:.3f}\"\n",
    ")\n",
    "latex_table = process_latex_table(latex_table)\n",
    "with open(table_dir / f\"{config_str}_compare_gbdt_w_wout_vec_embeddings.tex\", \"w\") as f:\n",
    "    f.write(latex_table)\n"
   ]
  },
  {
   "cell_type": "markdown",
   "metadata": {},
   "source": [
    "# Should we choose CLS or Mean?"
   ]
  },
  {
   "cell_type": "code",
   "execution_count": 66,
   "metadata": {},
   "outputs": [
    {
     "name": "stderr",
     "output_type": "stream",
     "text": [
      "2025-03-11 11:40:02,884 - analysis - INFO - Mann-Whitney U test results:\n",
      "2025-03-11 11:40:02,885 - analysis - INFO - Statistic: 6424.0\n",
      "2025-03-11 11:40:02,886 - analysis - INFO - p-value: 0.0004643343399973647\n",
      "2025-03-11 11:40:02,887 - analysis - INFO - There is a difference between BERT CLS and BERT MEAN at 0.05 significance\n"
     ]
    },
    {
     "data": {
      "application/vnd.plotly.v1+json": {
       "config": {
        "plotlyServerURL": "https://plot.ly"
       },
       "data": [
        {
         "boxpoints": "all",
         "jitter": 0.3,
         "name": "BERT CLS",
         "pointpos": -1.8,
         "type": "box",
         "y": [
          314.76436904156856,
          316.04417458454685,
          324.7643090896138,
          338.9966386827068,
          339.3346064616603,
          359.942952652981,
          359.9429722259473,
          360.4603648959505,
          360.4603882841269,
          364.1713705296326,
          365.08751113082116,
          365.0875355846386,
          365.65457369388264,
          365.65457369388264,
          367.4069798555944,
          368.2894080382948,
          368.4912307839422,
          368.90861003636127,
          369.4996771144671,
          369.4997010077673,
          370.14552137240315,
          370.3860078978548,
          370.4380462873185,
          370.55193277548267,
          370.65760437810036,
          370.6576278305256,
          370.7843775762481,
          370.8770502108128,
          371.3479739413136,
          372.53106896312073,
          372.79629983440424,
          373.9828571356585,
          374.1124939246338,
          374.78607979511054,
          374.855010612338,
          376.2694166703999,
          376.2694166703999,
          376.78291641115504,
          378.8994000148206,
          379.1154924801731,
          379.68623492462063,
          380.06320522771983,
          380.5809858285109,
          380.5950121606963,
          382.0509900092225,
          382.854119211079,
          382.854119211079,
          383.02889980245436,
          383.02898217912934,
          383.6969715992203,
          383.8501446510284,
          384.5087800647171,
          385.3125103664196,
          385.4179353204312,
          387.05339465391984,
          387.10390912109716,
          387.7165306825249,
          388.1148788970531,
          389.7413193447094,
          390.1381354286694,
          391.25998448422916,
          391.4700797161284,
          392.58565900484433,
          394.46024478097763,
          395.48310894665536,
          395.7152810624031,
          396.01434855284907,
          396.18282469298936,
          396.18282469298936,
          396.2435672043826,
          396.81847398599035,
          396.85571070939767,
          397.01146325129235,
          397.4522613326406,
          397.4642401618922,
          397.7821879894977,
          398.05072784887494,
          398.5571539927195,
          398.77398676364845,
          399.0805936042448,
          399.32312118403775,
          399.32312118403775,
          399.7092781205411,
          399.70999641110814,
          400.6501558807895,
          401.1433870234501,
          401.5639424391225,
          401.5639424391225,
          402.2682055877634,
          402.4114890639279,
          404.19045891016077,
          405.3318442184889,
          405.6030039896613,
          405.9919103056463,
          406.0137170868423,
          406.94545181064206,
          410.18279965590557,
          410.18279965590557,
          411.2309316908985,
          415.5496784446039,
          419.317351362789,
          422.6355509196624,
          435.0064635068908,
          438.13881647421186
         ]
        },
        {
         "boxpoints": "all",
         "jitter": 0.3,
         "name": "BERT MEAN",
         "pointpos": -1.8,
         "type": "box",
         "y": [
          311.33440967319,
          317.7346017842418,
          319.84229154228257,
          324.50076013120145,
          326.2234016638535,
          329.3217094612876,
          336.79821777577615,
          338.09792610688277,
          338.1378270491865,
          338.6965440924381,
          339.21406567615145,
          343.1297097274561,
          345.1905750696036,
          345.6375675273746,
          347.4294724288325,
          348.4396373626991,
          350.63896679093614,
          350.9219214509135,
          351.3377469312316,
          353.7027342923967,
          354.9447006474114,
          355.884607031762,
          356.6991293469381,
          357.5443174790907,
          358.1030152770202,
          359.9668987870047,
          361.1538533561009,
          361.9404734647899,
          362.5724020344435,
          362.8328335497407,
          362.849756851671,
          363.35087278437527,
          368.1723638158064,
          368.3388589571237,
          368.94624341410935,
          369.52179900033474,
          369.7780359153365,
          369.7838330736886,
          369.8948160224413,
          370.2050904911549,
          370.2057238716686,
          370.62188050813205,
          370.73300951580666,
          370.9253271936054,
          371.2718651402472,
          372.224647685234,
          372.3674992889362,
          374.66451596763966,
          375.52652193826634,
          375.5534021021255,
          375.7072909743442,
          375.9770076861147,
          377.51326173270786,
          378.4567873402641,
          379.1209801771319,
          379.5630560405303,
          379.78330042507423,
          381.152231321977,
          381.15223269775316,
          381.35751873108154,
          381.59657576653046,
          382.18221529452404,
          382.57004213387137,
          383.2772263110119,
          383.80966630424103,
          384.0900696184098,
          387.21824188686037,
          387.21824188686037,
          388.78028327491865,
          388.95355217227524,
          389.80468299271416,
          390.20608760747695,
          392.7302047874685,
          394.1172468462516,
          394.65352527730477,
          395.76567878476703,
          395.76567878476703,
          395.8022871959019,
          395.8022871959019,
          397.6446494334573,
          397.6446494334573,
          397.8692259341138,
          397.8692259341138,
          398.1208598039466,
          398.1208598039466,
          400.22875457374914,
          401.58128588853543,
          402.34658073284925,
          402.9832966975721,
          404.066974066485,
          405.0058692110435,
          405.46296148735223,
          408.60275995145224,
          411.6802541601293,
          423.1119063864024,
          425.22275059905286
         ]
        }
       ],
       "layout": {
        "showlegend": true,
        "template": {
         "data": {
          "bar": [
           {
            "error_x": {
             "color": "#2a3f5f"
            },
            "error_y": {
             "color": "#2a3f5f"
            },
            "marker": {
             "line": {
              "color": "#E5ECF6",
              "width": 0.5
             },
             "pattern": {
              "fillmode": "overlay",
              "size": 10,
              "solidity": 0.2
             }
            },
            "type": "bar"
           }
          ],
          "barpolar": [
           {
            "marker": {
             "line": {
              "color": "#E5ECF6",
              "width": 0.5
             },
             "pattern": {
              "fillmode": "overlay",
              "size": 10,
              "solidity": 0.2
             }
            },
            "type": "barpolar"
           }
          ],
          "carpet": [
           {
            "aaxis": {
             "endlinecolor": "#2a3f5f",
             "gridcolor": "white",
             "linecolor": "white",
             "minorgridcolor": "white",
             "startlinecolor": "#2a3f5f"
            },
            "baxis": {
             "endlinecolor": "#2a3f5f",
             "gridcolor": "white",
             "linecolor": "white",
             "minorgridcolor": "white",
             "startlinecolor": "#2a3f5f"
            },
            "type": "carpet"
           }
          ],
          "choropleth": [
           {
            "colorbar": {
             "outlinewidth": 0,
             "ticks": ""
            },
            "type": "choropleth"
           }
          ],
          "contour": [
           {
            "colorbar": {
             "outlinewidth": 0,
             "ticks": ""
            },
            "colorscale": [
             [
              0,
              "#0d0887"
             ],
             [
              0.1111111111111111,
              "#46039f"
             ],
             [
              0.2222222222222222,
              "#7201a8"
             ],
             [
              0.3333333333333333,
              "#9c179e"
             ],
             [
              0.4444444444444444,
              "#bd3786"
             ],
             [
              0.5555555555555556,
              "#d8576b"
             ],
             [
              0.6666666666666666,
              "#ed7953"
             ],
             [
              0.7777777777777778,
              "#fb9f3a"
             ],
             [
              0.8888888888888888,
              "#fdca26"
             ],
             [
              1,
              "#f0f921"
             ]
            ],
            "type": "contour"
           }
          ],
          "contourcarpet": [
           {
            "colorbar": {
             "outlinewidth": 0,
             "ticks": ""
            },
            "type": "contourcarpet"
           }
          ],
          "heatmap": [
           {
            "colorbar": {
             "outlinewidth": 0,
             "ticks": ""
            },
            "colorscale": [
             [
              0,
              "#0d0887"
             ],
             [
              0.1111111111111111,
              "#46039f"
             ],
             [
              0.2222222222222222,
              "#7201a8"
             ],
             [
              0.3333333333333333,
              "#9c179e"
             ],
             [
              0.4444444444444444,
              "#bd3786"
             ],
             [
              0.5555555555555556,
              "#d8576b"
             ],
             [
              0.6666666666666666,
              "#ed7953"
             ],
             [
              0.7777777777777778,
              "#fb9f3a"
             ],
             [
              0.8888888888888888,
              "#fdca26"
             ],
             [
              1,
              "#f0f921"
             ]
            ],
            "type": "heatmap"
           }
          ],
          "heatmapgl": [
           {
            "colorbar": {
             "outlinewidth": 0,
             "ticks": ""
            },
            "colorscale": [
             [
              0,
              "#0d0887"
             ],
             [
              0.1111111111111111,
              "#46039f"
             ],
             [
              0.2222222222222222,
              "#7201a8"
             ],
             [
              0.3333333333333333,
              "#9c179e"
             ],
             [
              0.4444444444444444,
              "#bd3786"
             ],
             [
              0.5555555555555556,
              "#d8576b"
             ],
             [
              0.6666666666666666,
              "#ed7953"
             ],
             [
              0.7777777777777778,
              "#fb9f3a"
             ],
             [
              0.8888888888888888,
              "#fdca26"
             ],
             [
              1,
              "#f0f921"
             ]
            ],
            "type": "heatmapgl"
           }
          ],
          "histogram": [
           {
            "marker": {
             "pattern": {
              "fillmode": "overlay",
              "size": 10,
              "solidity": 0.2
             }
            },
            "type": "histogram"
           }
          ],
          "histogram2d": [
           {
            "colorbar": {
             "outlinewidth": 0,
             "ticks": ""
            },
            "colorscale": [
             [
              0,
              "#0d0887"
             ],
             [
              0.1111111111111111,
              "#46039f"
             ],
             [
              0.2222222222222222,
              "#7201a8"
             ],
             [
              0.3333333333333333,
              "#9c179e"
             ],
             [
              0.4444444444444444,
              "#bd3786"
             ],
             [
              0.5555555555555556,
              "#d8576b"
             ],
             [
              0.6666666666666666,
              "#ed7953"
             ],
             [
              0.7777777777777778,
              "#fb9f3a"
             ],
             [
              0.8888888888888888,
              "#fdca26"
             ],
             [
              1,
              "#f0f921"
             ]
            ],
            "type": "histogram2d"
           }
          ],
          "histogram2dcontour": [
           {
            "colorbar": {
             "outlinewidth": 0,
             "ticks": ""
            },
            "colorscale": [
             [
              0,
              "#0d0887"
             ],
             [
              0.1111111111111111,
              "#46039f"
             ],
             [
              0.2222222222222222,
              "#7201a8"
             ],
             [
              0.3333333333333333,
              "#9c179e"
             ],
             [
              0.4444444444444444,
              "#bd3786"
             ],
             [
              0.5555555555555556,
              "#d8576b"
             ],
             [
              0.6666666666666666,
              "#ed7953"
             ],
             [
              0.7777777777777778,
              "#fb9f3a"
             ],
             [
              0.8888888888888888,
              "#fdca26"
             ],
             [
              1,
              "#f0f921"
             ]
            ],
            "type": "histogram2dcontour"
           }
          ],
          "mesh3d": [
           {
            "colorbar": {
             "outlinewidth": 0,
             "ticks": ""
            },
            "type": "mesh3d"
           }
          ],
          "parcoords": [
           {
            "line": {
             "colorbar": {
              "outlinewidth": 0,
              "ticks": ""
             }
            },
            "type": "parcoords"
           }
          ],
          "pie": [
           {
            "automargin": true,
            "type": "pie"
           }
          ],
          "scatter": [
           {
            "fillpattern": {
             "fillmode": "overlay",
             "size": 10,
             "solidity": 0.2
            },
            "type": "scatter"
           }
          ],
          "scatter3d": [
           {
            "line": {
             "colorbar": {
              "outlinewidth": 0,
              "ticks": ""
             }
            },
            "marker": {
             "colorbar": {
              "outlinewidth": 0,
              "ticks": ""
             }
            },
            "type": "scatter3d"
           }
          ],
          "scattercarpet": [
           {
            "marker": {
             "colorbar": {
              "outlinewidth": 0,
              "ticks": ""
             }
            },
            "type": "scattercarpet"
           }
          ],
          "scattergeo": [
           {
            "marker": {
             "colorbar": {
              "outlinewidth": 0,
              "ticks": ""
             }
            },
            "type": "scattergeo"
           }
          ],
          "scattergl": [
           {
            "marker": {
             "colorbar": {
              "outlinewidth": 0,
              "ticks": ""
             }
            },
            "type": "scattergl"
           }
          ],
          "scattermapbox": [
           {
            "marker": {
             "colorbar": {
              "outlinewidth": 0,
              "ticks": ""
             }
            },
            "type": "scattermapbox"
           }
          ],
          "scatterpolar": [
           {
            "marker": {
             "colorbar": {
              "outlinewidth": 0,
              "ticks": ""
             }
            },
            "type": "scatterpolar"
           }
          ],
          "scatterpolargl": [
           {
            "marker": {
             "colorbar": {
              "outlinewidth": 0,
              "ticks": ""
             }
            },
            "type": "scatterpolargl"
           }
          ],
          "scatterternary": [
           {
            "marker": {
             "colorbar": {
              "outlinewidth": 0,
              "ticks": ""
             }
            },
            "type": "scatterternary"
           }
          ],
          "surface": [
           {
            "colorbar": {
             "outlinewidth": 0,
             "ticks": ""
            },
            "colorscale": [
             [
              0,
              "#0d0887"
             ],
             [
              0.1111111111111111,
              "#46039f"
             ],
             [
              0.2222222222222222,
              "#7201a8"
             ],
             [
              0.3333333333333333,
              "#9c179e"
             ],
             [
              0.4444444444444444,
              "#bd3786"
             ],
             [
              0.5555555555555556,
              "#d8576b"
             ],
             [
              0.6666666666666666,
              "#ed7953"
             ],
             [
              0.7777777777777778,
              "#fb9f3a"
             ],
             [
              0.8888888888888888,
              "#fdca26"
             ],
             [
              1,
              "#f0f921"
             ]
            ],
            "type": "surface"
           }
          ],
          "table": [
           {
            "cells": {
             "fill": {
              "color": "#EBF0F8"
             },
             "line": {
              "color": "white"
             }
            },
            "header": {
             "fill": {
              "color": "#C8D4E3"
             },
             "line": {
              "color": "white"
             }
            },
            "type": "table"
           }
          ]
         },
         "layout": {
          "annotationdefaults": {
           "arrowcolor": "#2a3f5f",
           "arrowhead": 0,
           "arrowwidth": 1
          },
          "autotypenumbers": "strict",
          "coloraxis": {
           "colorbar": {
            "outlinewidth": 0,
            "ticks": ""
           }
          },
          "colorscale": {
           "diverging": [
            [
             0,
             "#8e0152"
            ],
            [
             0.1,
             "#c51b7d"
            ],
            [
             0.2,
             "#de77ae"
            ],
            [
             0.3,
             "#f1b6da"
            ],
            [
             0.4,
             "#fde0ef"
            ],
            [
             0.5,
             "#f7f7f7"
            ],
            [
             0.6,
             "#e6f5d0"
            ],
            [
             0.7,
             "#b8e186"
            ],
            [
             0.8,
             "#7fbc41"
            ],
            [
             0.9,
             "#4d9221"
            ],
            [
             1,
             "#276419"
            ]
           ],
           "sequential": [
            [
             0,
             "#0d0887"
            ],
            [
             0.1111111111111111,
             "#46039f"
            ],
            [
             0.2222222222222222,
             "#7201a8"
            ],
            [
             0.3333333333333333,
             "#9c179e"
            ],
            [
             0.4444444444444444,
             "#bd3786"
            ],
            [
             0.5555555555555556,
             "#d8576b"
            ],
            [
             0.6666666666666666,
             "#ed7953"
            ],
            [
             0.7777777777777778,
             "#fb9f3a"
            ],
            [
             0.8888888888888888,
             "#fdca26"
            ],
            [
             1,
             "#f0f921"
            ]
           ],
           "sequentialminus": [
            [
             0,
             "#0d0887"
            ],
            [
             0.1111111111111111,
             "#46039f"
            ],
            [
             0.2222222222222222,
             "#7201a8"
            ],
            [
             0.3333333333333333,
             "#9c179e"
            ],
            [
             0.4444444444444444,
             "#bd3786"
            ],
            [
             0.5555555555555556,
             "#d8576b"
            ],
            [
             0.6666666666666666,
             "#ed7953"
            ],
            [
             0.7777777777777778,
             "#fb9f3a"
            ],
            [
             0.8888888888888888,
             "#fdca26"
            ],
            [
             1,
             "#f0f921"
            ]
           ]
          },
          "colorway": [
           "#636efa",
           "#EF553B",
           "#00cc96",
           "#ab63fa",
           "#FFA15A",
           "#19d3f3",
           "#FF6692",
           "#B6E880",
           "#FF97FF",
           "#FECB52"
          ],
          "font": {
           "color": "#2a3f5f"
          },
          "geo": {
           "bgcolor": "white",
           "lakecolor": "white",
           "landcolor": "#E5ECF6",
           "showlakes": true,
           "showland": true,
           "subunitcolor": "white"
          },
          "hoverlabel": {
           "align": "left"
          },
          "hovermode": "closest",
          "mapbox": {
           "style": "light"
          },
          "paper_bgcolor": "white",
          "plot_bgcolor": "#E5ECF6",
          "polar": {
           "angularaxis": {
            "gridcolor": "white",
            "linecolor": "white",
            "ticks": ""
           },
           "bgcolor": "#E5ECF6",
           "radialaxis": {
            "gridcolor": "white",
            "linecolor": "white",
            "ticks": ""
           }
          },
          "scene": {
           "xaxis": {
            "backgroundcolor": "#E5ECF6",
            "gridcolor": "white",
            "gridwidth": 2,
            "linecolor": "white",
            "showbackground": true,
            "ticks": "",
            "zerolinecolor": "white"
           },
           "yaxis": {
            "backgroundcolor": "#E5ECF6",
            "gridcolor": "white",
            "gridwidth": 2,
            "linecolor": "white",
            "showbackground": true,
            "ticks": "",
            "zerolinecolor": "white"
           },
           "zaxis": {
            "backgroundcolor": "#E5ECF6",
            "gridcolor": "white",
            "gridwidth": 2,
            "linecolor": "white",
            "showbackground": true,
            "ticks": "",
            "zerolinecolor": "white"
           }
          },
          "shapedefaults": {
           "line": {
            "color": "#2a3f5f"
           }
          },
          "ternary": {
           "aaxis": {
            "gridcolor": "white",
            "linecolor": "white",
            "ticks": ""
           },
           "baxis": {
            "gridcolor": "white",
            "linecolor": "white",
            "ticks": ""
           },
           "bgcolor": "#E5ECF6",
           "caxis": {
            "gridcolor": "white",
            "linecolor": "white",
            "ticks": ""
           }
          },
          "title": {
           "x": 0.05
          },
          "xaxis": {
           "automargin": true,
           "gridcolor": "white",
           "linecolor": "white",
           "ticks": "",
           "title": {
            "standoff": 15
           },
           "zerolinecolor": "white",
           "zerolinewidth": 2
          },
          "yaxis": {
           "automargin": true,
           "gridcolor": "white",
           "linecolor": "white",
           "ticks": "",
           "title": {
            "standoff": 15
           },
           "zerolinecolor": "white",
           "zerolinewidth": 2
          }
         }
        },
        "title": {
         "text": "RMSE Distribution: BERT CLS vs MEAN"
        },
        "yaxis": {
         "title": {
          "text": "RMSE"
         }
        }
       }
      }
     },
     "metadata": {},
     "output_type": "display_data"
    }
   ],
   "source": [
    "# Extract RMSE values for CLS and MEAN\n",
    "cls_rmse = filtered_results[filtered_results['featuriser'] == 'bert_cls'][metric]\n",
    "mean_rmse = filtered_results[filtered_results['featuriser'] == 'bert_mean'][metric]\n",
    "\n",
    "# Perform Mann-Whitney U test since we can't assume normality\n",
    "statistic, p_value = stats.mannwhitneyu(cls_rmse, mean_rmse, alternative='two-sided')\n",
    "\n",
    "logger.info(f\"Mann-Whitney U test results:\")\n",
    "logger.info(f\"Statistic: {statistic}\")\n",
    "logger.info(f\"p-value: {p_value}\")\n",
    "if p_value < alpha:\n",
    "    logger.info(f\"There is a difference between BERT CLS and BERT MEAN at {alpha} significance\")\n",
    "else:\n",
    "    logger.info(f\"No difference between BERT CLS and BERT MEAN at {alpha} significance\")\n",
    "\n",
    "# Create box plot comparing distributions\n",
    "fig = go.Figure()\n",
    "\n",
    "fig.add_trace(go.Box(\n",
    "    y=cls_rmse,\n",
    "    name='BERT CLS',\n",
    "    boxpoints='all',\n",
    "    jitter=0.3,\n",
    "    pointpos=-1.8\n",
    "))\n",
    "\n",
    "fig.add_trace(go.Box(\n",
    "    y=mean_rmse,\n",
    "    name='BERT MEAN', \n",
    "    boxpoints='all',\n",
    "    jitter=0.3,\n",
    "    pointpos=-1.8\n",
    "))\n",
    "\n",
    "fig.update_layout(\n",
    "    title='RMSE Distribution: BERT CLS vs MEAN',\n",
    "    yaxis_title='RMSE',\n",
    "    showlegend=True\n",
    ")\n",
    "\n",
    "fig.show()\n"
   ]
  },
  {
   "cell_type": "markdown",
   "metadata": {},
   "source": [
    "# Can we look at spread associated with choosing a model?"
   ]
  },
  {
   "cell_type": "code",
   "execution_count": 67,
   "metadata": {},
   "outputs": [],
   "source": [
    "to_analyze = filtered_results.copy()\n",
    "nlp_steps = [\"preprocesser(s)\", \"tokeniser\", \"featuriser\"]\n",
    "to_analyze[\"nlp_hash\"] = to_analyze[nlp_steps].apply(lambda x: \"_\".join(x), axis=1)"
   ]
  },
  {
   "cell_type": "markdown",
   "metadata": {},
   "source": [
    "## Expected Variance/Standard deviation"
   ]
  },
  {
   "cell_type": "code",
   "execution_count": 68,
   "metadata": {},
   "outputs": [],
   "source": [
    "from itertools import chain\n",
    "def expected_agg_over_model(aggregate):\n",
    "    sub_pipeline_cols = [\"preprocesser(s)\", \"tokeniser\", \"featuriser\"]\n",
    "    # First remove variance from choosing replicate\n",
    "    hashable_replicates = filtered_results.copy()\n",
    "    hashable_replicates = hashable_replicates.groupby(sub_pipeline_cols+[\"model\"]).agg(\n",
    "        {metric: \"mean\", \"seed\": \"count\"}\n",
    "    ).reset_index()\n",
    "    hashable_replicates[\"hash\"] = hashable_replicates[sub_pipeline_cols].apply(lambda x: \"_\".join(x), axis=1)\n",
    "    # Find every pipeline that has just the model different at least once\n",
    "    replicate_idx = hashable_replicates.duplicated(subset=\"hash\", keep=False)\n",
    "    variance_from_choosing_model = hashable_replicates[replicate_idx].groupby(\"hash\").agg(\n",
    "        {metric: aggregate}\n",
    "    )\n",
    "    result = variance_from_choosing_model.reset_index()\n",
    "    expected_variance_from_choosing_model = variance_from_choosing_model[metric].mean()\n",
    "    logger.info(f\"Expected {aggregate} from choosing model: {expected_variance_from_choosing_model:.2f}\")\n",
    "    return result, expected_variance_from_choosing_model"
   ]
  },
  {
   "cell_type": "code",
   "execution_count": 69,
   "metadata": {},
   "outputs": [],
   "source": [
    "def expected_agg_over_step(aggregate, step=\"model\"):\n",
    "    # Find every pipeline that has a fixed model but varying pipeline\n",
    "    # We guarantee that each model has duplicates in the dataset\n",
    "    sub_pipeline_cols = [\"preprocesser(s)\", \"tokeniser\", \"featuriser\"]\n",
    "    to_analyze = filtered_results.copy()\n",
    "    to_analyze = to_analyze.groupby(sub_pipeline_cols+[\"model\"]).agg(\n",
    "        {metric: \"mean\", \"seed\": \"count\"}\n",
    "    ).reset_index()\n",
    "    variance_per_model = to_analyze.groupby(step).agg(\n",
    "        {metric: aggregate}\n",
    "    )\n",
    "    result = variance_per_model.reset_index()\n",
    "    variance_marginalised_over_model = variance_per_model[metric].mean()\n",
    "    logger.info(f\"Expected {aggregate} from choosing everything else marginalised over {step}: {variance_marginalised_over_model:.2f}\")\n",
    "    return result, variance_marginalised_over_model"
   ]
  },
  {
   "cell_type": "code",
   "execution_count": 70,
   "metadata": {},
   "outputs": [],
   "source": [
    "def expected_agg_over_replicate(aggregate):\n",
    "    pipeline_cols = [\"preprocesser(s)\", \"tokeniser\", \"featuriser\", \"model\"]\n",
    "    hashable_replicates = filtered_results.copy()\n",
    "    hashable_replicates[\"hash\"] = hashable_replicates[pipeline_cols].apply(lambda x: \"_\".join(x), axis=1)\n",
    "    replicate_idx = hashable_replicates.duplicated(subset=\"hash\", keep=False)\n",
    "    agg_per_replicate = hashable_replicates[replicate_idx].groupby(\"hash\").agg(\n",
    "        {metric: aggregate}\n",
    "    ).reset_index()\n",
    "\n",
    "    result = agg_per_replicate\n",
    "    agg_marginalised_over_replicate = agg_per_replicate[metric].mean()\n",
    "    logger.info(f\"Expected {aggregate} from choosing replicate: {agg_marginalised_over_replicate:.2f}\")\n",
    "    return result, agg_marginalised_over_replicate\n"
   ]
  },
  {
   "cell_type": "code",
   "execution_count": 71,
   "metadata": {},
   "outputs": [
    {
     "name": "stderr",
     "output_type": "stream",
     "text": [
      "2025-03-11 11:40:26,630 - analysis - INFO - Expected var from choosing model: 342.91\n",
      "2025-03-11 11:40:26,639 - analysis - INFO - Expected var from choosing everything else marginalised over model: 369.74\n",
      "2025-03-11 11:40:26,649 - analysis - INFO - Expected var from choosing replicate: 179.57\n",
      "2025-03-11 11:40:26,650 - analysis - INFO - Overall variance: 674.24\n"
     ]
    },
    {
     "name": "stdout",
     "output_type": "stream",
     "text": [
      "\\begin{tabular}{lrr}\n",
      "\\toprule\n",
      "Dataset & $ \\mathbb{E}_\\text{model}[V]$ & $ \\mathbb{E}_\\text{upstream}[V]$ \\\\\n",
      "\\midrule\n",
      "jcp & 3.4e+02 & 3.7e+02 \\\\\n",
      "\\bottomrule\n",
      "\\end{tabular}\n",
      "\n"
     ]
    }
   ],
   "source": [
    "agg = \"var\"\n",
    "per_model, overall_model = expected_agg_over_model(agg)\n",
    "per_upstream, overall_upstream = expected_agg_over_step(agg)\n",
    "# _ = expected_agg_over_step(\"std\", step=\"featuriser\")\n",
    "# _ = expected_agg_over_step(\"std\", step=\"tokeniser\")\n",
    "per_replicate, overall_replicate = expected_agg_over_replicate(agg)\n",
    "if agg == \"var\":\n",
    "    logger.info(f\"Overall variance: {filtered_results[metric].var():.2f}\")\n",
    "elif agg == \"std\":\n",
    "    logger.info(f\"Overall standard deviation: {filtered_results[metric].std():.2f}\")\n",
    "\n",
    "# Create LaTeX table comparing variances\n",
    "agg_map = {\n",
    "    \"var\": \"V\",\n",
    "    \"std\": \"S\"\n",
    "}\n",
    "\n",
    "latex_table = (\n",
    "    \"\\\\begin{tabular}{lrr}\\n\"\n",
    "    \"\\\\toprule\\n\"\n",
    "    f\"Dataset & $ \\\\mathbb{{E}}_\\\\text{{model}}[{agg_map[agg]}]$ & $ \\\\mathbb{{E}}_\\\\text{{upstream}}[{agg_map[agg]}]$ \\\\\\\\\\n\"\n",
    "    \"\\\\midrule\\n\"\n",
    "    f\"{dataset_name_map[dataset]} & {overall_model:.1e} & {overall_upstream:.1e} \\\\\\\\\\n\"\n",
    "    \"\\\\bottomrule\\n\"\n",
    "    \"\\\\end{tabular}\\n\"\n",
    ")\n",
    "with open(table_dir / f\"{config_str}_variance_comparison.tex\", \"w\") as f:\n",
    "    f.write(latex_table)\n",
    "\n",
    "print(latex_table)\n",
    "\n"
   ]
  },
  {
   "cell_type": "code",
   "execution_count": 72,
   "metadata": {},
   "outputs": [
    {
     "name": "stdout",
     "output_type": "stream",
     "text": [
      "\\begin{tabular}{lrrr}\n",
      "\\toprule\n",
      "Dataset & var_from_model & var_from_upstream & var_from_replicates \\\\\n",
      "\\midrule\n",
      "jcp & 3e+02 & 4e+02 & 2e+02 \\\\\n",
      "\\bottomrule\n",
      "\\end{tabular}\n",
      "\n"
     ]
    }
   ],
   "source": [
    "# Create DataFrame comparing variances\n",
    "variance_df = pd.DataFrame({\n",
    "    'Dataset': [dataset_name_map[dataset]],\n",
    "    'var_from_model': [overall_model],\n",
    "    'var_from_upstream': [overall_upstream], \n",
    "    'var_from_replicates': [overall_replicate]\n",
    "})\n",
    "print(variance_df.to_latex(\n",
    "    index=False,\n",
    "    float_format=lambda x: f\"{x:.0e}\"\n",
    "))"
   ]
  },
  {
   "cell_type": "code",
   "execution_count": 73,
   "metadata": {},
   "outputs": [
    {
     "name": "stdout",
     "output_type": "stream",
     "text": [
      "Per replicate\n"
     ]
    },
    {
     "data": {
      "text/html": [
       "<div>\n",
       "<style scoped>\n",
       "    .dataframe tbody tr th:only-of-type {\n",
       "        vertical-align: middle;\n",
       "    }\n",
       "\n",
       "    .dataframe tbody tr th {\n",
       "        vertical-align: top;\n",
       "    }\n",
       "\n",
       "    .dataframe thead th {\n",
       "        text-align: right;\n",
       "    }\n",
       "</style>\n",
       "<table border=\"1\" class=\"dataframe\">\n",
       "  <thead>\n",
       "    <tr style=\"text-align: right;\">\n",
       "      <th></th>\n",
       "      <th>hash</th>\n",
       "      <th>rmse</th>\n",
       "    </tr>\n",
       "  </thead>\n",
       "  <tbody>\n",
       "    <tr>\n",
       "      <th>0</th>\n",
       "      <td>Le,Lo,NP,NSCC_bert_bert_cls_deep_linear</td>\n",
       "      <td>3.032022</td>\n",
       "    </tr>\n",
       "    <tr>\n",
       "      <th>1</th>\n",
       "      <td>Le,Lo,NP,NSCC_bert_bert_mean_catboost</td>\n",
       "      <td>74.457079</td>\n",
       "    </tr>\n",
       "    <tr>\n",
       "      <th>2</th>\n",
       "      <td>Le,Lo,NP,NSCC_stanford_glove_mean_catboost</td>\n",
       "      <td>111.431112</td>\n",
       "    </tr>\n",
       "    <tr>\n",
       "      <th>3</th>\n",
       "      <td>Le,Lo,NP,NSCC_stanford_tf_idf_catboost</td>\n",
       "      <td>390.980812</td>\n",
       "    </tr>\n",
       "    <tr>\n",
       "      <th>4</th>\n",
       "      <td>Le,Lo,NP,NSCC_treebank_bow_binary_deep_linear</td>\n",
       "      <td>153.754821</td>\n",
       "    </tr>\n",
       "    <tr>\n",
       "      <th>...</th>\n",
       "      <td>...</td>\n",
       "      <td>...</td>\n",
       "    </tr>\n",
       "    <tr>\n",
       "      <th>150</th>\n",
       "      <td>empty_whitespace_glove_mean_deep_linear</td>\n",
       "      <td>1.073295</td>\n",
       "    </tr>\n",
       "    <tr>\n",
       "      <th>151</th>\n",
       "      <td>empty_whitespace_glove_mean_mlp</td>\n",
       "      <td>35.716746</td>\n",
       "    </tr>\n",
       "    <tr>\n",
       "      <th>152</th>\n",
       "      <td>empty_whitespace_tf_idf_deep_linear</td>\n",
       "      <td>17.878356</td>\n",
       "    </tr>\n",
       "    <tr>\n",
       "      <th>153</th>\n",
       "      <td>empty_whitespace_tf_idf_mlp</td>\n",
       "      <td>109.998829</td>\n",
       "    </tr>\n",
       "    <tr>\n",
       "      <th>154</th>\n",
       "      <td>empty_whitespace_tf_idf_resnet</td>\n",
       "      <td>52.764620</td>\n",
       "    </tr>\n",
       "  </tbody>\n",
       "</table>\n",
       "<p>155 rows × 2 columns</p>\n",
       "</div>"
      ],
      "text/plain": [
       "                                              hash        rmse\n",
       "0          Le,Lo,NP,NSCC_bert_bert_cls_deep_linear    3.032022\n",
       "1            Le,Lo,NP,NSCC_bert_bert_mean_catboost   74.457079\n",
       "2       Le,Lo,NP,NSCC_stanford_glove_mean_catboost  111.431112\n",
       "3           Le,Lo,NP,NSCC_stanford_tf_idf_catboost  390.980812\n",
       "4    Le,Lo,NP,NSCC_treebank_bow_binary_deep_linear  153.754821\n",
       "..                                             ...         ...\n",
       "150        empty_whitespace_glove_mean_deep_linear    1.073295\n",
       "151                empty_whitespace_glove_mean_mlp   35.716746\n",
       "152            empty_whitespace_tf_idf_deep_linear   17.878356\n",
       "153                    empty_whitespace_tf_idf_mlp  109.998829\n",
       "154                 empty_whitespace_tf_idf_resnet   52.764620\n",
       "\n",
       "[155 rows x 2 columns]"
      ]
     },
     "metadata": {},
     "output_type": "display_data"
    },
    {
     "name": "stdout",
     "output_type": "stream",
     "text": [
      "Per upstream\n"
     ]
    },
    {
     "data": {
      "text/html": [
       "<div>\n",
       "<style scoped>\n",
       "    .dataframe tbody tr th:only-of-type {\n",
       "        vertical-align: middle;\n",
       "    }\n",
       "\n",
       "    .dataframe tbody tr th {\n",
       "        vertical-align: top;\n",
       "    }\n",
       "\n",
       "    .dataframe thead th {\n",
       "        text-align: right;\n",
       "    }\n",
       "</style>\n",
       "<table border=\"1\" class=\"dataframe\">\n",
       "  <thead>\n",
       "    <tr style=\"text-align: right;\">\n",
       "      <th></th>\n",
       "      <th>model</th>\n",
       "      <th>rmse</th>\n",
       "    </tr>\n",
       "  </thead>\n",
       "  <tbody>\n",
       "    <tr>\n",
       "      <th>0</th>\n",
       "      <td>catboost</td>\n",
       "      <td>112.542651</td>\n",
       "    </tr>\n",
       "    <tr>\n",
       "      <th>1</th>\n",
       "      <td>deep_linear</td>\n",
       "      <td>752.333735</td>\n",
       "    </tr>\n",
       "    <tr>\n",
       "      <th>2</th>\n",
       "      <td>deep_linear_ft</td>\n",
       "      <td>98.390618</td>\n",
       "    </tr>\n",
       "    <tr>\n",
       "      <th>3</th>\n",
       "      <td>mlp</td>\n",
       "      <td>1057.236967</td>\n",
       "    </tr>\n",
       "    <tr>\n",
       "      <th>4</th>\n",
       "      <td>mlp_ft</td>\n",
       "      <td>198.131577</td>\n",
       "    </tr>\n",
       "    <tr>\n",
       "      <th>5</th>\n",
       "      <td>resnet</td>\n",
       "      <td>91.926496</td>\n",
       "    </tr>\n",
       "    <tr>\n",
       "      <th>6</th>\n",
       "      <td>resnet_ft</td>\n",
       "      <td>101.523726</td>\n",
       "    </tr>\n",
       "    <tr>\n",
       "      <th>7</th>\n",
       "      <td>xgboost</td>\n",
       "      <td>545.815385</td>\n",
       "    </tr>\n",
       "  </tbody>\n",
       "</table>\n",
       "</div>"
      ],
      "text/plain": [
       "            model         rmse\n",
       "0        catboost   112.542651\n",
       "1     deep_linear   752.333735\n",
       "2  deep_linear_ft    98.390618\n",
       "3             mlp  1057.236967\n",
       "4          mlp_ft   198.131577\n",
       "5          resnet    91.926496\n",
       "6       resnet_ft   101.523726\n",
       "7         xgboost   545.815385"
      ]
     },
     "metadata": {},
     "output_type": "display_data"
    },
    {
     "name": "stdout",
     "output_type": "stream",
     "text": [
      "Per model\n"
     ]
    },
    {
     "data": {
      "text/html": [
       "<div>\n",
       "<style scoped>\n",
       "    .dataframe tbody tr th:only-of-type {\n",
       "        vertical-align: middle;\n",
       "    }\n",
       "\n",
       "    .dataframe tbody tr th {\n",
       "        vertical-align: top;\n",
       "    }\n",
       "\n",
       "    .dataframe thead th {\n",
       "        text-align: right;\n",
       "    }\n",
       "</style>\n",
       "<table border=\"1\" class=\"dataframe\">\n",
       "  <thead>\n",
       "    <tr style=\"text-align: right;\">\n",
       "      <th></th>\n",
       "      <th>hash</th>\n",
       "      <th>rmse</th>\n",
       "    </tr>\n",
       "  </thead>\n",
       "  <tbody>\n",
       "    <tr>\n",
       "      <th>0</th>\n",
       "      <td>Le,Lo,NP,NSCC_treebank_bow_binary</td>\n",
       "      <td>0.211553</td>\n",
       "    </tr>\n",
       "    <tr>\n",
       "      <th>1</th>\n",
       "      <td>Le,Lo,NP,NSN_bert_bert_cls</td>\n",
       "      <td>757.961442</td>\n",
       "    </tr>\n",
       "    <tr>\n",
       "      <th>2</th>\n",
       "      <td>Le,Lo_bert_bert_mean</td>\n",
       "      <td>667.977669</td>\n",
       "    </tr>\n",
       "    <tr>\n",
       "      <th>3</th>\n",
       "      <td>Le,NP,NSCC_bert_bert_mean</td>\n",
       "      <td>200.170961</td>\n",
       "    </tr>\n",
       "    <tr>\n",
       "      <th>4</th>\n",
       "      <td>Le_bpe_tf_idf</td>\n",
       "      <td>59.536233</td>\n",
       "    </tr>\n",
       "    <tr>\n",
       "      <th>5</th>\n",
       "      <td>Lo,NP,NSCC,S_stanford_glove_mean</td>\n",
       "      <td>1516.766672</td>\n",
       "    </tr>\n",
       "    <tr>\n",
       "      <th>6</th>\n",
       "      <td>Lo,NP,NSN,S_bert_tf_idf</td>\n",
       "      <td>0.414877</td>\n",
       "    </tr>\n",
       "    <tr>\n",
       "      <th>7</th>\n",
       "      <td>Lo,NP,S_bert_bert_cls</td>\n",
       "      <td>141.625507</td>\n",
       "    </tr>\n",
       "    <tr>\n",
       "      <th>8</th>\n",
       "      <td>Lo_bert_bert_cls</td>\n",
       "      <td>224.224810</td>\n",
       "    </tr>\n",
       "    <tr>\n",
       "      <th>9</th>\n",
       "      <td>Lo_whitespace_glove_mean</td>\n",
       "      <td>436.153055</td>\n",
       "    </tr>\n",
       "    <tr>\n",
       "      <th>10</th>\n",
       "      <td>NP,NSCC,S_bpe_bow_count</td>\n",
       "      <td>8.436609</td>\n",
       "    </tr>\n",
       "    <tr>\n",
       "      <th>11</th>\n",
       "      <td>NP,S_stanford_tf_idf</td>\n",
       "      <td>30.717948</td>\n",
       "    </tr>\n",
       "    <tr>\n",
       "      <th>12</th>\n",
       "      <td>NSN_bert_bert_mean</td>\n",
       "      <td>766.812997</td>\n",
       "    </tr>\n",
       "    <tr>\n",
       "      <th>13</th>\n",
       "      <td>S_bert_bert_cls</td>\n",
       "      <td>306.949249</td>\n",
       "    </tr>\n",
       "    <tr>\n",
       "      <th>14</th>\n",
       "      <td>empty_bert_bert_cls</td>\n",
       "      <td>394.761990</td>\n",
       "    </tr>\n",
       "    <tr>\n",
       "      <th>15</th>\n",
       "      <td>empty_bert_bert_mean</td>\n",
       "      <td>756.376552</td>\n",
       "    </tr>\n",
       "    <tr>\n",
       "      <th>16</th>\n",
       "      <td>empty_bert_bow_count</td>\n",
       "      <td>20.775479</td>\n",
       "    </tr>\n",
       "    <tr>\n",
       "      <th>17</th>\n",
       "      <td>empty_bpe_tf_idf</td>\n",
       "      <td>7.231199</td>\n",
       "    </tr>\n",
       "    <tr>\n",
       "      <th>18</th>\n",
       "      <td>empty_stanford_bow_binary</td>\n",
       "      <td>5.523655</td>\n",
       "    </tr>\n",
       "    <tr>\n",
       "      <th>19</th>\n",
       "      <td>empty_stanford_glove_mean</td>\n",
       "      <td>1919.651424</td>\n",
       "    </tr>\n",
       "    <tr>\n",
       "      <th>20</th>\n",
       "      <td>empty_stanford_tf_idf</td>\n",
       "      <td>102.800457</td>\n",
       "    </tr>\n",
       "    <tr>\n",
       "      <th>21</th>\n",
       "      <td>empty_treebank_bow_count</td>\n",
       "      <td>43.075086</td>\n",
       "    </tr>\n",
       "    <tr>\n",
       "      <th>22</th>\n",
       "      <td>empty_whitespace_bow_binary</td>\n",
       "      <td>71.632802</td>\n",
       "    </tr>\n",
       "    <tr>\n",
       "      <th>23</th>\n",
       "      <td>empty_whitespace_bow_count</td>\n",
       "      <td>269.884990</td>\n",
       "    </tr>\n",
       "    <tr>\n",
       "      <th>24</th>\n",
       "      <td>empty_whitespace_glove_mean</td>\n",
       "      <td>116.782982</td>\n",
       "    </tr>\n",
       "    <tr>\n",
       "      <th>25</th>\n",
       "      <td>empty_whitespace_tf_idf</td>\n",
       "      <td>89.078285</td>\n",
       "    </tr>\n",
       "  </tbody>\n",
       "</table>\n",
       "</div>"
      ],
      "text/plain": [
       "                                 hash         rmse\n",
       "0   Le,Lo,NP,NSCC_treebank_bow_binary     0.211553\n",
       "1          Le,Lo,NP,NSN_bert_bert_cls   757.961442\n",
       "2                Le,Lo_bert_bert_mean   667.977669\n",
       "3           Le,NP,NSCC_bert_bert_mean   200.170961\n",
       "4                       Le_bpe_tf_idf    59.536233\n",
       "5    Lo,NP,NSCC,S_stanford_glove_mean  1516.766672\n",
       "6             Lo,NP,NSN,S_bert_tf_idf     0.414877\n",
       "7               Lo,NP,S_bert_bert_cls   141.625507\n",
       "8                    Lo_bert_bert_cls   224.224810\n",
       "9            Lo_whitespace_glove_mean   436.153055\n",
       "10            NP,NSCC,S_bpe_bow_count     8.436609\n",
       "11               NP,S_stanford_tf_idf    30.717948\n",
       "12                 NSN_bert_bert_mean   766.812997\n",
       "13                    S_bert_bert_cls   306.949249\n",
       "14                empty_bert_bert_cls   394.761990\n",
       "15               empty_bert_bert_mean   756.376552\n",
       "16               empty_bert_bow_count    20.775479\n",
       "17                   empty_bpe_tf_idf     7.231199\n",
       "18          empty_stanford_bow_binary     5.523655\n",
       "19          empty_stanford_glove_mean  1919.651424\n",
       "20              empty_stanford_tf_idf   102.800457\n",
       "21           empty_treebank_bow_count    43.075086\n",
       "22        empty_whitespace_bow_binary    71.632802\n",
       "23         empty_whitespace_bow_count   269.884990\n",
       "24        empty_whitespace_glove_mean   116.782982\n",
       "25            empty_whitespace_tf_idf    89.078285"
      ]
     },
     "metadata": {},
     "output_type": "display_data"
    }
   ],
   "source": [
    "print(\"Per replicate\")\n",
    "display(per_replicate)\n",
    "print(\"Per upstream\")\n",
    "display(per_upstream)\n",
    "print(\"Per model\")\n",
    "display(per_model)\n"
   ]
  },
  {
   "cell_type": "markdown",
   "metadata": {},
   "source": [
    "# Error improvement?"
   ]
  },
  {
   "cell_type": "code",
   "execution_count": 74,
   "metadata": {},
   "outputs": [
    {
     "name": "stderr",
     "output_type": "stream",
     "text": [
      "2025-03-11 11:40:34,918 - analysis - INFO - Expected maximum_improvement from choosing model: 11.70\n",
      "2025-03-11 11:40:34,930 - analysis - INFO - Expected maximum_improvement from choosing everything else marginalised over model: 21.00\n"
     ]
    },
    {
     "name": "stderr",
     "output_type": "stream",
     "text": [
      "2025-03-11 11:40:34,977 - analysis - INFO - Expected maximum_improvement from choosing replicate: 11.25\n"
     ]
    }
   ],
   "source": [
    "class CustomReprFunc:\n",
    "\n",
    "    def __init__(self, f, custom_repr):\n",
    "        self.f = f\n",
    "        self.custom_repr = custom_repr\n",
    "\n",
    "    def __call__(self, *args, **kwargs):\n",
    "        return self.f(*args, **kwargs)\n",
    "\n",
    "    def __repr__(self):\n",
    "        return self.custom_repr(self.f)\n",
    "\n",
    "\n",
    "def set_repr(custom_repr):\n",
    "    def set_repr_decorator(f):\n",
    "        return CustomReprFunc(f, custom_repr)\n",
    "    return set_repr_decorator\n",
    "\n",
    "@set_repr(lambda f: f.__name__)\n",
    "def maximum_improvement(series):\n",
    "    lowest_metric = series.min()\n",
    "    improvement = series - lowest_metric\n",
    "    return improvement.mean() # Mean == expected value\n",
    "\n",
    "_ = expected_agg_over_model(maximum_improvement)\n",
    "_ = expected_agg_over_step(maximum_improvement)\n",
    "_ = expected_agg_over_replicate(maximum_improvement)\n"
   ]
  },
  {
   "cell_type": "code",
   "execution_count": null,
   "metadata": {},
   "outputs": [],
   "source": []
  }
 ],
 "metadata": {
  "kernelspec": {
   "display_name": "random_experiments",
   "language": "python",
   "name": "random_experiments"
  },
  "language_info": {
   "codemirror_mode": {
    "name": "ipython",
    "version": 3
   },
   "file_extension": ".py",
   "mimetype": "text/x-python",
   "name": "python",
   "nbconvert_exporter": "python",
   "pygments_lexer": "ipython3",
   "version": "3.10.12"
  }
 },
 "nbformat": 4,
 "nbformat_minor": 2
}
