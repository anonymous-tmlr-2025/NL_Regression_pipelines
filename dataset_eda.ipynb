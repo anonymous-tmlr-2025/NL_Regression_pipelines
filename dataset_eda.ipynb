{
 "cells": [
  {
   "cell_type": "code",
   "execution_count": 1,
   "metadata": {},
   "outputs": [],
   "source": [
    "from datasets import load_dataset\n",
    "import pandas as pd"
   ]
  },
  {
   "cell_type": "code",
   "execution_count": 2,
   "metadata": {},
   "outputs": [],
   "source": [
    "\n",
    "datasets ={\n",
    "    \"jc_penney_products\": load_dataset(\"jc_penney_products\", seed=42),\n",
    "    \"online_boat_listings\": load_dataset(\"online_boat_listings\", seed=42),\n",
    "    \"online_boat_listings_no_foreign_languages\": load_dataset(\"online_boat_listings_no_foreign_languages\", seed=42),\n",
    "}"
   ]
  },
  {
   "cell_type": "code",
   "execution_count": 3,
   "metadata": {},
   "outputs": [
    {
     "name": "stdout",
     "output_type": "stream",
     "text": [
      "\n",
      "jc_penney_products:\n",
      "Number of unique characters: 142\n",
      "Number of unique words: 39865\n",
      "\n",
      "online_boat_listings:\n",
      "Number of unique characters: 260\n",
      "Number of unique words: 54064\n",
      "\n",
      "online_boat_listings_no_foreign_languages:\n",
      "Number of unique characters: 153\n",
      "Number of unique words: 34412\n"
     ]
    }
   ],
   "source": [
    "def analyse_all_text(closures):\n",
    "    for dataset_name, dataset in datasets.items():\n",
    "        print(f\"\\n{dataset_name}:\")\n",
    "        train, val, test = dataset\n",
    "        \n",
    "        # Get all text data\n",
    "        all_text = pd.concat([train['text'], val['text'], test['text']])\n",
    "        \n",
    "        for closure in closures:\n",
    "            closure(all_text, dataset_name)\n",
    "\n",
    "def unique_chars(all_text, dataset_name):\n",
    "    unique_chars = set(''.join(all_text))\n",
    "    print(f\"Number of unique characters: {len(unique_chars)}\")\n",
    "    with open(f\"unique_chars_{dataset_name}.txt\", \"w\") as f:\n",
    "        f.write(\"\\n\".join(sorted(unique_chars)))\n",
    "\n",
    "def unique_words(all_text, dataset_name):\n",
    "    unique_words = set(' '.join(all_text).split())\n",
    "    print(f\"Number of unique words: {len(unique_words)}\")\n",
    "    with open(f\"unique_words_{dataset_name}.txt\", \"w\") as f:\n",
    "        f.write(\"\\n\".join(sorted(unique_words)))\n",
    "\n",
    "\n",
    "analyse_all_text([unique_chars, unique_words])"
   ]
  },
  {
   "cell_type": "code",
   "execution_count": 4,
   "metadata": {},
   "outputs": [
    {
     "name": "stdout",
     "output_type": "stream",
     "text": [
      "\n",
      "jc_penney_products:\n",
      "\n",
      "online_boat_listings:\n",
      "\n",
      "online_boat_listings_no_foreign_languages:\n"
     ]
    }
   ],
   "source": [
    "def sample_text(all_text:pd.Series, dataset_name):\n",
    "    with open(f\"sample_text_{dataset_name}.txt\", \"w\") as f:\n",
    "        f.write(f\"\\n{'-'*80}\\n\".join(all_text.sample(10, random_state=42)))\n",
    "\n",
    "analyse_all_text([sample_text])"
   ]
  },
  {
   "cell_type": "code",
   "execution_count": null,
   "metadata": {},
   "outputs": [],
   "source": []
  }
 ],
 "metadata": {
  "kernelspec": {
   "display_name": "Python 3",
   "language": "python",
   "name": "python3"
  },
  "language_info": {
   "codemirror_mode": {
    "name": "ipython",
    "version": 3
   },
   "file_extension": ".py",
   "mimetype": "text/x-python",
   "name": "python",
   "nbconvert_exporter": "python",
   "pygments_lexer": "ipython3",
   "version": "3.11.9"
  }
 },
 "nbformat": 4,
 "nbformat_minor": 2
}
